{
 "cells": [
  {
   "cell_type": "code",
   "execution_count": 1,
   "metadata": {},
   "outputs": [],
   "source": [
    "import pickle"
   ]
  },
  {
   "cell_type": "code",
   "execution_count": 2,
   "metadata": {},
   "outputs": [],
   "source": [
    "PATH='/home/kirana/Documents/phd/experiment1_new/DNNREC_FilmTrust'\n",
    "DATAPATH='/home/kirana/Documents/final_dissertation_final/experiments/datasets/filmtrust'"
   ]
  },
  {
   "cell_type": "code",
   "execution_count": 3,
   "metadata": {},
   "outputs": [],
   "source": [
    "import pandas as pd\n",
    "import numpy as np\n",
    "import matplotlib.pyplot as plt\n",
    "import sklearn\n",
    "import os\n",
    "import pickle\n",
    "import torch\n",
    "from torch.utils.data import Dataset, DataLoader\n",
    "from torch import nn\n",
    "import pickle\n",
    "from sklearn import metrics"
   ]
  },
  {
   "cell_type": "code",
   "execution_count": 4,
   "metadata": {},
   "outputs": [],
   "source": [
    "[dftrain,dfvalid]=pickle.load(open(f'{DATAPATH}/df_side.pkl','rb'))"
   ]
  },
  {
   "cell_type": "code",
   "execution_count": 5,
   "metadata": {},
   "outputs": [],
   "source": [
    "trainusers=set(dftrain['userId'].unique())\n",
    "validusers=set(dfvalid['userId'].unique())\n",
    "trainitems=set(dftrain['itemId'].unique())\n",
    "validitems=set(dfvalid['itemId'].unique())"
   ]
  },
  {
   "cell_type": "code",
   "execution_count": 6,
   "metadata": {},
   "outputs": [],
   "source": [
    "commonusers=trainusers.intersection(validusers)\n",
    "commonitems=trainitems.intersection(validitems)"
   ]
  },
  {
   "cell_type": "code",
   "execution_count": 7,
   "metadata": {},
   "outputs": [],
   "source": [
    "dfvalid['cold_start_user']=~dfvalid['userId'].isin(commonusers)\n",
    "dfvalid['cold_start_item']=~dfvalid['itemId'].isin(commonitems)"
   ]
  },
  {
   "cell_type": "code",
   "execution_count": 8,
   "metadata": {},
   "outputs": [
    {
     "name": "stdout",
     "output_type": "stream",
     "text": [
      "cold_start_item  False  True \n",
      "cold_start_user              \n",
      "False             3109     56\n",
      "True               278     15\n",
      "cold_start_item     False     True \n",
      "cold_start_user                    \n",
      "False            0.899075  0.016194\n",
      "True             0.080393  0.004338\n"
     ]
    }
   ],
   "source": [
    "print (pd.crosstab(dfvalid['cold_start_user'],dfvalid['cold_start_item']))\n",
    "print (pd.crosstab(dfvalid['cold_start_user'],dfvalid['cold_start_item'])/dfvalid.shape[0])   "
   ]
  },
  {
   "cell_type": "code",
   "execution_count": 9,
   "metadata": {},
   "outputs": [
    {
     "data": {
      "text/plain": [
       "272     224\n",
       "1187    218\n",
       "3       193\n",
       "161     189\n",
       "79      172\n",
       "199     155\n",
       "969     154\n",
       "702     134\n",
       "670     129\n",
       "845     114\n",
       "1039    106\n",
       "1333    105\n",
       "188     102\n",
       "323     101\n",
       "1199     98\n",
       "1249     96\n",
       "355      92\n",
       "842      91\n",
       "830      87\n",
       "1034     84\n",
       "1212     84\n",
       "308      84\n",
       "316      79\n",
       "626      79\n",
       "1153     79\n",
       "1147     77\n",
       "1157     75\n",
       "533      73\n",
       "591      73\n",
       "1386     70\n",
       "       ... \n",
       "268       1\n",
       "113       1\n",
       "855       1\n",
       "252       1\n",
       "558       1\n",
       "1058      1\n",
       "1477      1\n",
       "904       1\n",
       "809       1\n",
       "1275      1\n",
       "54        1\n",
       "1136      1\n",
       "1323      1\n",
       "1421      1\n",
       "1411      1\n",
       "1264      1\n",
       "230       1\n",
       "1362      1\n",
       "76        1\n",
       "1181      1\n",
       "582       1\n",
       "1171      1\n",
       "1107      1\n",
       "934       1\n",
       "140       1\n",
       "1456      1\n",
       "941       1\n",
       "1490      1\n",
       "247       1\n",
       "1322      1\n",
       "Name: userId, Length: 1481, dtype: int64"
      ]
     },
     "execution_count": 9,
     "metadata": {},
     "output_type": "execute_result"
    }
   ],
   "source": [
    "dftrain['userId'].value_counts()"
   ]
  },
  {
   "cell_type": "code",
   "execution_count": 10,
   "metadata": {},
   "outputs": [],
   "source": [
    "dfvalid['cold_start_group']=np.where(dfvalid['cold_start_user'] & dfvalid['cold_start_item'],'User-Item-cold-start',\n",
    "                                    np.where((~dfvalid['cold_start_user']) & (~dfvalid['cold_start_item']), 'No-cold-start',\\\n",
    "                                            np.where(dfvalid['cold_start_user'], 'User-Cold-Start', 'Item-Cold_start')))    \n"
   ]
  },
  {
   "cell_type": "code",
   "execution_count": 11,
   "metadata": {},
   "outputs": [],
   "source": [
    "dfvalid['cold_start_bucket']=np.where(dfvalid['cold_start_group']=='No-cold-start',0,1)"
   ]
  },
  {
   "cell_type": "code",
   "execution_count": 12,
   "metadata": {},
   "outputs": [
    {
     "data": {
      "text/plain": [
       "No-cold-start           3109\n",
       "User-Cold-Start          278\n",
       "Item-Cold_start           56\n",
       "User-Item-cold-start      15\n",
       "Name: cold_start_group, dtype: int64"
      ]
     },
     "execution_count": 12,
     "metadata": {},
     "output_type": "execute_result"
    }
   ],
   "source": [
    "dfvalid['cold_start_group'].value_counts()"
   ]
  },
  {
   "cell_type": "code",
   "execution_count": 13,
   "metadata": {},
   "outputs": [
    {
     "data": {
      "text/plain": [
       "0    3109\n",
       "1     349\n",
       "Name: cold_start_bucket, dtype: int64"
      ]
     },
     "execution_count": 13,
     "metadata": {},
     "output_type": "execute_result"
    }
   ],
   "source": [
    "dfvalid['cold_start_bucket'].value_counts()"
   ]
  },
  {
   "cell_type": "code",
   "execution_count": 14,
   "metadata": {},
   "outputs": [],
   "source": [
    "pickle.dump([dftrain,dfvalid],open(f'{DATAPATH}/df_side_cold.pkl','wb'))"
   ]
  },
  {
   "cell_type": "code",
   "execution_count": null,
   "metadata": {},
   "outputs": [],
   "source": []
  },
  {
   "cell_type": "code",
   "execution_count": null,
   "metadata": {},
   "outputs": [],
   "source": []
  },
  {
   "cell_type": "code",
   "execution_count": null,
   "metadata": {},
   "outputs": [],
   "source": []
  },
  {
   "cell_type": "code",
   "execution_count": null,
   "metadata": {},
   "outputs": [],
   "source": []
  },
  {
   "cell_type": "code",
   "execution_count": null,
   "metadata": {},
   "outputs": [],
   "source": []
  },
  {
   "cell_type": "code",
   "execution_count": null,
   "metadata": {},
   "outputs": [],
   "source": []
  },
  {
   "cell_type": "code",
   "execution_count": null,
   "metadata": {},
   "outputs": [],
   "source": []
  },
  {
   "cell_type": "code",
   "execution_count": null,
   "metadata": {},
   "outputs": [],
   "source": []
  },
  {
   "cell_type": "code",
   "execution_count": null,
   "metadata": {},
   "outputs": [],
   "source": []
  },
  {
   "cell_type": "code",
   "execution_count": null,
   "metadata": {},
   "outputs": [],
   "source": []
  },
  {
   "cell_type": "code",
   "execution_count": null,
   "metadata": {},
   "outputs": [],
   "source": []
  },
  {
   "cell_type": "code",
   "execution_count": null,
   "metadata": {},
   "outputs": [],
   "source": []
  }
 ],
 "metadata": {
  "kernelspec": {
   "display_name": "Python 3",
   "language": "python",
   "name": "python3"
  },
  "language_info": {
   "codemirror_mode": {
    "name": "ipython",
    "version": 3
   },
   "file_extension": ".py",
   "mimetype": "text/x-python",
   "name": "python",
   "nbconvert_exporter": "python",
   "pygments_lexer": "ipython3",
   "version": "3.7.3"
  }
 },
 "nbformat": 4,
 "nbformat_minor": 2
}
