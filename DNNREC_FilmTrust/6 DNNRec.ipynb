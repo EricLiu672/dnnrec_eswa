{
 "cells": [
  {
   "cell_type": "code",
   "execution_count": 1,
   "metadata": {},
   "outputs": [],
   "source": [
    "PATH='/home/kirana/Documents/phd/experiment1_new/DNNREC_FilmTrust'\n",
    "DATAPATH='/home/kirana/Documents/final_dissertation_final/experiments/datasets/filmtrust'"
   ]
  },
  {
   "cell_type": "code",
   "execution_count": 2,
   "metadata": {},
   "outputs": [],
   "source": [
    "import pandas as pd\n",
    "import numpy as np\n",
    "import matplotlib.pyplot as plt\n",
    "import sklearn\n",
    "import os\n",
    "import pickle\n",
    "import torch\n",
    "from torch.utils.data import Dataset, DataLoader\n",
    "from torch import nn\n",
    "import pickle\n",
    "from sklearn import metrics"
   ]
  },
  {
   "cell_type": "code",
   "execution_count": 3,
   "metadata": {},
   "outputs": [],
   "source": [
    "[df,dftrain,dfvalid,idx_to_user,idx_to_item,item_to_idx,user_to_idx,results_concat]=\\\n",
    "    pickle.load(open(f'{DATAPATH}/df_side_cold_runother_cf.pkl','rb'))"
   ]
  },
  {
   "cell_type": "code",
   "execution_count": 4,
   "metadata": {},
   "outputs": [
    {
     "data": {
      "text/plain": [
       "Index(['index', 'userId', 'itemId', 'rating', 'f_mean_on_self',\n",
       "       'f_min_on_self', 'f_max_on_self', 'f_sum_on_self', 'f_mean_on_other',\n",
       "       'f_min_on_other', 'f_max_on_other', 'f_sum_on_other', 'random_dstype',\n",
       "       'flag_train', 'f_na_mean_on_self', 'f_na_min_on_self',\n",
       "       'f_na_max_on_self', 'f_na_sum_on_self', 'f_na_mean_on_other',\n",
       "       'f_na_min_on_other', 'f_na_max_on_other', 'f_na_sum_on_other',\n",
       "       'user_idx', 'item_idx'],\n",
       "      dtype='object')"
      ]
     },
     "execution_count": 4,
     "metadata": {},
     "output_type": "execute_result"
    }
   ],
   "source": [
    "dftrain.columns"
   ]
  },
  {
   "cell_type": "code",
   "execution_count": 5,
   "metadata": {},
   "outputs": [],
   "source": [
    "denseCols=dftrain.columns[dftrain.columns.str.startswith('f_')].tolist()"
   ]
  },
  {
   "cell_type": "code",
   "execution_count": 6,
   "metadata": {},
   "outputs": [],
   "source": [
    "naCols=dftrain.columns[dftrain.columns.str.startswith('f_na')].tolist()"
   ]
  },
  {
   "cell_type": "code",
   "execution_count": 7,
   "metadata": {},
   "outputs": [
    {
     "data": {
      "text/plain": [
       "['f_mean_on_self',\n",
       " 'f_min_on_self',\n",
       " 'f_max_on_self',\n",
       " 'f_sum_on_self',\n",
       " 'f_mean_on_other',\n",
       " 'f_min_on_other',\n",
       " 'f_max_on_other',\n",
       " 'f_sum_on_other',\n",
       " 'f_na_mean_on_self',\n",
       " 'f_na_min_on_self',\n",
       " 'f_na_max_on_self',\n",
       " 'f_na_sum_on_self',\n",
       " 'f_na_mean_on_other',\n",
       " 'f_na_min_on_other',\n",
       " 'f_na_max_on_other',\n",
       " 'f_na_sum_on_other']"
      ]
     },
     "execution_count": 7,
     "metadata": {},
     "output_type": "execute_result"
    }
   ],
   "source": [
    "denseCols"
   ]
  },
  {
   "cell_type": "code",
   "execution_count": 8,
   "metadata": {},
   "outputs": [
    {
     "data": {
      "text/plain": [
       "['f_na_mean_on_self',\n",
       " 'f_na_min_on_self',\n",
       " 'f_na_max_on_self',\n",
       " 'f_na_sum_on_self',\n",
       " 'f_na_mean_on_other',\n",
       " 'f_na_min_on_other',\n",
       " 'f_na_max_on_other',\n",
       " 'f_na_sum_on_other']"
      ]
     },
     "execution_count": 8,
     "metadata": {},
     "output_type": "execute_result"
    }
   ],
   "source": [
    "naCols"
   ]
  },
  {
   "cell_type": "code",
   "execution_count": 9,
   "metadata": {},
   "outputs": [],
   "source": [
    "for myNm in naCols:\n",
    "    dftrain[myNm]=dftrain[myNm].astype(int)\n",
    "    dfvalid[myNm]=dfvalid[myNm].astype(int)"
   ]
  },
  {
   "cell_type": "markdown",
   "metadata": {},
   "source": [
    "### Dataset and DataLoader"
   ]
  },
  {
   "cell_type": "code",
   "execution_count": 10,
   "metadata": {},
   "outputs": [],
   "source": [
    "class cfdata (torch.utils.data.dataset.Dataset):\n",
    "    def __init__(self,dfX,dfY,denseCols):\n",
    "        self.dfX,self.dfY=dfX,dfY\n",
    "        self.denseCols=denseCols\n",
    "        \n",
    "    def __len__ (self):\n",
    "        return self.dfX.shape[0]\n",
    "    \n",
    "    def __getitem__ (self, idx):\n",
    "        return torch.FloatTensor(self.dfX.iloc[idx].values),torch.FloatTensor([self.dfY.values[idx]])"
   ]
  },
  {
   "cell_type": "code",
   "execution_count": 11,
   "metadata": {},
   "outputs": [],
   "source": [
    "dstrain=cfdata(dftrain[['user_idx','item_idx']+denseCols],dftrain['rating'],denseCols)\n",
    "dsvalid=cfdata(dfvalid[['user_idx','item_idx']+denseCols],dfvalid['rating'],denseCols)"
   ]
  },
  {
   "cell_type": "code",
   "execution_count": 12,
   "metadata": {},
   "outputs": [
    {
     "data": {
      "text/plain": [
       "(32036, 24)"
      ]
     },
     "execution_count": 12,
     "metadata": {},
     "output_type": "execute_result"
    }
   ],
   "source": [
    "dftrain.shape"
   ]
  },
  {
   "cell_type": "code",
   "execution_count": 13,
   "metadata": {},
   "outputs": [],
   "source": [
    "bs=32"
   ]
  },
  {
   "cell_type": "code",
   "execution_count": 14,
   "metadata": {},
   "outputs": [],
   "source": [
    "dltrain=DataLoader(dstrain,bs,True)"
   ]
  },
  {
   "cell_type": "code",
   "execution_count": 15,
   "metadata": {},
   "outputs": [],
   "source": [
    "dlvalid=DataLoader(dsvalid,bs,False)"
   ]
  },
  {
   "cell_type": "markdown",
   "metadata": {},
   "source": [
    "## Model Architecture"
   ]
  },
  {
   "cell_type": "code",
   "execution_count": 16,
   "metadata": {},
   "outputs": [],
   "source": [
    "n_users=len(user_to_idx)\n",
    "n_items=len(item_to_idx)\n",
    "n_emb_user=50\n",
    "n_emb_item=50\n",
    "min_rating=min(dftrain['rating'])\n",
    "max_rating=max(dftrain['rating'])\n",
    "dropout_e=0.05\n",
    "hidden=[20,25,10]\n",
    "dropouts=[0.2,0.3,0.2]"
   ]
  },
  {
   "cell_type": "code",
   "execution_count": 17,
   "metadata": {},
   "outputs": [],
   "source": [
    "def hidden_layer(x,y,dropout,activation=nn.Sigmoid()):\n",
    "    return nn.Sequential(\n",
    "        nn.Linear(x, y),\n",
    "        activation,\n",
    "        nn.Dropout(p=dropout)\n",
    "        )   "
   ]
  },
  {
   "cell_type": "code",
   "execution_count": 18,
   "metadata": {},
   "outputs": [],
   "source": [
    "#[mtx_user_emb,mtx_item_emb,user_bias_emb,item_bias_emb]=pickle.load(open(f'{DATAPATH}/wts_embs','rb'))\n",
    "pretrain_wts=pickle.load(open(f'{DATAPATH}/wts_embs','rb'))\n",
    "#pretrain_wts=None"
   ]
  },
  {
   "cell_type": "code",
   "execution_count": 19,
   "metadata": {},
   "outputs": [],
   "source": [
    "class cf(nn.Module):    \n",
    "    def __init__(self,n_users,n_emb_user,n_emb_item,n_items,min_rating,max_rating,autoenc_cols,pretrain_wts,\\\n",
    "                 dropout_e=0.01,hidden=[15,5],dropouts=[0.2,0.2],error_type=\"mse\"):\n",
    "        super().__init__()\n",
    "        self.n_users,self.n_emb_user,self.n_emb_item,self.n_items,self.min_rating,self.max_rating=\\\n",
    "                    n_users,n_emb_user,n_emb_item,n_items,min_rating,max_rating\n",
    "        self.dropout_e,self.hidden,self.dropouts=dropout_e,hidden,dropouts\n",
    "        self.autoenc_cols,self.len_dense_cols=autoenc_cols,len(autoenc_cols)\n",
    "        self.create_architecture()\n",
    "        self.init_parameters()\n",
    "        \n",
    "        if pretrain_wts is not None:\n",
    "            self.emb_user.weight.data=torch.FloatTensor(pretrain_wts[0])\n",
    "            self.emb_item.weight.data=torch.FloatTensor(pretrain_wts[1])\n",
    "            self.ub.weight.data=torch.FloatTensor(pretrain_wts[2])\n",
    "            self.ib.weight.data=torch.FloatTensor(pretrain_wts[3])\n",
    "\n",
    "        if error_type!=\"mse\":\n",
    "            self.criterion=nn.L1Loss()\n",
    "        else:\n",
    "            self.criterion=nn.MSELoss()\n",
    "        \n",
    "    def create_architecture(self):\n",
    "        self.emb_user=nn.Embedding(self.n_users+1,self.n_emb_user)\n",
    "        self.emb_item=nn.Embedding(self.n_items+1,self.n_emb_item)\n",
    "        self.ub=nn.Embedding(self.n_users+1,1)\n",
    "        self.ib=nn.Embedding(self.n_items+1,1)\n",
    "        \n",
    "        \n",
    "        self.emb_dropout=nn.Dropout(self.dropout_e)\n",
    "\n",
    "        \n",
    "        self.lin1= nn.Sequential(nn.Linear(self.n_emb_user+self.n_emb_item,self.hidden[0]),\n",
    "                    nn.ReLU(),\n",
    "                    nn.Dropout(p=dropouts[0]) )\n",
    "        self.lin_bias=nn.Linear(3,1)\n",
    "        self.lin2= nn.Sequential (nn.Linear(self.len_dense_cols,self.hidden[1]),\n",
    "                    nn.ReLU(),\n",
    "                    nn.Dropout(p=dropouts[1]) )\n",
    "        self.lin3= nn.Sequential (nn.Linear(self.hidden[0]+self.hidden[1]+1,self.hidden[2]),\n",
    "                    nn.ReLU(),\n",
    "                    nn.Dropout(p=dropouts[2]))\n",
    "        self.lin4=nn.Linear(self.hidden[2],1)\n",
    "        self.sigmoid=nn.Sigmoid()\n",
    "        \n",
    "        \n",
    "    def init_parameters(self):\n",
    "        nn.init.kaiming_normal_(self.emb_user.weight.data)\n",
    "        nn.init.kaiming_normal_(self.emb_item.weight.data)\n",
    "        nn.init.zeros_(self.ub.weight.data)\n",
    "        nn.init.zeros_(self.ib.weight.data)\n",
    "        nn.init.kaiming_normal_(self.lin1[0].weight.data)\n",
    "        nn.init.kaiming_normal_(self.lin2[0].weight.data)\n",
    "        nn.init.kaiming_normal_(self.lin3[0].weight.data)\n",
    "        #nn.init.kaiming_normal_(lin)\n",
    "       \n",
    "    def forward (self,Xb,Yb):\n",
    "        users=Xb[:,0].long()\n",
    "        items=Xb[:,1].long()\n",
    "        users=self.emb_dropout(self.emb_user(users))\n",
    "        items=self.emb_dropout(self.emb_item(items))\n",
    "        users_bias=self.emb_dropout(self.ub(Xb[:,0].long()))\n",
    "        items_bias=self.emb_dropout(self.ib(Xb[:,1].long()))\n",
    "        embed=torch.cat([users,items],1)\n",
    "        out1=self.lin1(embed)\n",
    "        bias=torch.cat([users_bias,items_bias,users_bias+items_bias],1)\n",
    "        biased=self.lin_bias(bias)\n",
    "           \n",
    "        \n",
    "        denses=Xb[:,2:]\n",
    "        out2=self.lin2(denses)\n",
    "        \n",
    "        out3=torch.cat([out1,out2,biased],1)\n",
    "        \n",
    "        out4=self.lin3(out3)\n",
    "        \n",
    "        out5=self.lin4(out4)\n",
    "        \n",
    "        out=self.sigmoid(out5)\n",
    "        \n",
    "        preds=out*(self.max_rating-self.min_rating)+self.min_rating\n",
    "        #preds=preds.view(-1)\n",
    "        loss=self.criterion(preds,Yb)\n",
    "        return preds,loss"
   ]
  },
  {
   "cell_type": "code",
   "execution_count": 20,
   "metadata": {},
   "outputs": [],
   "source": [
    "cfobj=cf(n_users,n_emb_user,n_emb_item,n_items,min_rating,max_rating,denseCols,pretrain_wts,dropout_e,hidden,dropouts,error_type=\"mse\")"
   ]
  },
  {
   "cell_type": "code",
   "execution_count": 21,
   "metadata": {},
   "outputs": [
    {
     "data": {
      "text/plain": [
       "cf(\n",
       "  (emb_user): Embedding(1509, 50)\n",
       "  (emb_item): Embedding(2072, 50)\n",
       "  (ub): Embedding(1509, 1)\n",
       "  (ib): Embedding(2072, 1)\n",
       "  (emb_dropout): Dropout(p=0.05)\n",
       "  (lin1): Sequential(\n",
       "    (0): Linear(in_features=100, out_features=20, bias=True)\n",
       "    (1): ReLU()\n",
       "    (2): Dropout(p=0.2)\n",
       "  )\n",
       "  (lin_bias): Linear(in_features=3, out_features=1, bias=True)\n",
       "  (lin2): Sequential(\n",
       "    (0): Linear(in_features=16, out_features=25, bias=True)\n",
       "    (1): ReLU()\n",
       "    (2): Dropout(p=0.3)\n",
       "  )\n",
       "  (lin3): Sequential(\n",
       "    (0): Linear(in_features=46, out_features=10, bias=True)\n",
       "    (1): ReLU()\n",
       "    (2): Dropout(p=0.2)\n",
       "  )\n",
       "  (lin4): Linear(in_features=10, out_features=1, bias=True)\n",
       "  (sigmoid): Sigmoid()\n",
       "  (criterion): MSELoss()\n",
       ")"
      ]
     },
     "execution_count": 21,
     "metadata": {},
     "output_type": "execute_result"
    }
   ],
   "source": [
    "cfobj"
   ]
  },
  {
   "cell_type": "code",
   "execution_count": 22,
   "metadata": {},
   "outputs": [],
   "source": [
    "for Xb, Yb in dltrain:\n",
    "    break"
   ]
  },
  {
   "cell_type": "code",
   "execution_count": 23,
   "metadata": {},
   "outputs": [
    {
     "data": {
      "text/plain": [
       "(torch.Size([32, 18]), torch.Size([32, 1]))"
      ]
     },
     "execution_count": 23,
     "metadata": {},
     "output_type": "execute_result"
    }
   ],
   "source": [
    "Xb.shape, Yb.shape"
   ]
  },
  {
   "cell_type": "code",
   "execution_count": 24,
   "metadata": {},
   "outputs": [
    {
     "data": {
      "text/plain": [
       "torch.float32"
      ]
     },
     "execution_count": 24,
     "metadata": {},
     "output_type": "execute_result"
    }
   ],
   "source": [
    "Xb.dtype"
   ]
  },
  {
   "cell_type": "code",
   "execution_count": 25,
   "metadata": {},
   "outputs": [
    {
     "data": {
      "text/plain": [
       "(tensor([[1.7023],\n",
       "         [1.8592],\n",
       "         [1.9074],\n",
       "         [2.0409],\n",
       "         [2.0948],\n",
       "         [1.8521],\n",
       "         [2.2297],\n",
       "         [1.4732],\n",
       "         [1.7521],\n",
       "         [1.6226],\n",
       "         [2.0068],\n",
       "         [2.0028],\n",
       "         [1.9633],\n",
       "         [2.0345],\n",
       "         [2.0660],\n",
       "         [2.3288],\n",
       "         [2.2415],\n",
       "         [2.0959],\n",
       "         [2.3179],\n",
       "         [0.6793],\n",
       "         [2.3101],\n",
       "         [1.7396],\n",
       "         [2.0729],\n",
       "         [2.1837],\n",
       "         [2.5788],\n",
       "         [2.2846],\n",
       "         [2.0302],\n",
       "         [2.2691],\n",
       "         [2.0288],\n",
       "         [2.3718],\n",
       "         [1.8211],\n",
       "         [0.9334]], grad_fn=<AddBackward0>),\n",
       " tensor(2.1146, grad_fn=<MseLossBackward>))"
      ]
     },
     "execution_count": 25,
     "metadata": {},
     "output_type": "execute_result"
    }
   ],
   "source": [
    "cfobj.forward(Xb,Yb)"
   ]
  },
  {
   "cell_type": "markdown",
   "metadata": {},
   "source": [
    "## Learner"
   ]
  },
  {
   "cell_type": "code",
   "execution_count": 26,
   "metadata": {},
   "outputs": [],
   "source": [
    "class Learner():\n",
    "    def __init__(self,model,optimizer,metric_fn,device,bptt=12,print_every=5,clip_val=None,\\\n",
    "                 cycle_mult=0,lr_decay=0.7,wd_mult=1.1,start_lr=2e-2, end_lr=5e-4,error_type=\"mse\"):\n",
    "        self.model,self.optimizer,self.metric_fn,self.device,self.print_every,self.bptt,self.losses,self.clip_val=\\\n",
    "            model,optimizer,metric_fn,device,print_every,bptt,[],clip_val\n",
    "        self.n_epochs=1\n",
    "        self.cycle_mult,self.lr_decay=cycle_mult,lr_decay\n",
    "        self.wd_mult=wd_mult\n",
    "        for param_group in self.optimizer.param_groups:\n",
    "            self.start_lr=param_group['lr']\n",
    "            self.start_wd=param_group['weight_decay']\n",
    "        self.wd=self.start_wd\n",
    "        self.lr=self.start_lr\n",
    "        self.end_lr=end_lr\n",
    "        self.n_epoch=0\n",
    "        self.lrs=[1e-2,5e-3,1e-4,5e-4]\n",
    "        self.preds,self.preds_valid,self.trainY,self.actual=[],[],[],[]\n",
    "        self.ratio=self.end_lr/self.start_lr\n",
    "        self.num_steps=self.cycle_mult\n",
    "        self.reset_cycle=self.cycle_mult\n",
    "        self.error_type=error_type\n",
    "        self.scores=[]\n",
    "        self.generate_scores=False\n",
    "        \n",
    "    def fit (self,Xb,Yb,mode_train=True):\n",
    "        if mode_train:\n",
    "            self.model.train()\n",
    "        else:\n",
    "            self.model.eval()\n",
    "        \n",
    "        #import pdb\n",
    "        #pdb.set_trace()\n",
    "        preds,loss=self.model(Xb,Yb)\n",
    "\n",
    "     \n",
    "        if mode_train:\n",
    "            if 1==0:\n",
    "                lr =self.lrs[torch.randint(0,4,(1,))]\n",
    "                for param_group in self.optimizer.param_groups:\n",
    "                    param_group['lr']=lr\n",
    "            \n",
    "            self.optimizer.zero_grad()\n",
    "            loss.backward()\n",
    "            self.optimizer.step()\n",
    "        myloss=loss.item()\n",
    "    \n",
    "        \n",
    "        with torch.no_grad():\n",
    "            if self.error_type == \"mse\":\n",
    "                acc=nn.L1Loss() (preds,Yb)\n",
    "                myrmse=np.sqrt(myloss)\n",
    "            else:\n",
    "                acc=nn.MSELoss() (preds,Yb)\n",
    "                myrmse=np.sqrt(acc.item())\n",
    "            acc=acc.item()\n",
    "                 \n",
    "        if mode_train==False:\n",
    "            if self.generate_scores:\n",
    "                self.scores.append(preds.detach().cpu().numpy().flatten())\n",
    "        del preds\n",
    "        del loss\n",
    "        \n",
    "        if self.clip_val is not None:\n",
    "            torch.nn.utils.clip_grad_norm_(self.model.parameters(), self.clip_val)\n",
    "        \n",
    "        return myloss, acc, myrmse\n",
    "    \n",
    "    def lr_find (self,start_lr,end_lr,iterator,n_batch):\n",
    "        losses,lrs=[],[]\n",
    "        ratio=end_lr/start_lr\n",
    "        num_steps=n_batch\n",
    "        lr=start_lr\n",
    "        for i in range(num_steps):            \n",
    "            lr=lr*(end_lr/start_lr)**(1/num_steps)\n",
    "            lrs.append(lr)\n",
    "        self.lrs=lrs\n",
    "        self.run_epoch(iterator,mode_train=True,lrs=lrs)\n",
    "    \n",
    "    def run_epoch(self,iterator,mode_train,lrs=None):\n",
    "        epoch_loss,epoch_acc,i,k=0,0,0,0\n",
    "        epoch_rmse=0\n",
    "\n",
    "        for Xb,Yb in iterator:\n",
    "            Xb=Xb.to(self.device)\n",
    "            Yb=Yb.to(self.device)\n",
    "            \n",
    "            if lrs is not None:\n",
    "                lr=lrs[k]\n",
    "                for param_group in self.optimizer.param_groups:\n",
    "                    param_group['lr']=lr \n",
    "            \n",
    "            loss,acc,myrmse=self.fit(Xb,Yb,mode_train)\n",
    "            \n",
    "            if lrs is not None:\n",
    "                self.losses.append(loss)\n",
    "\n",
    "            epoch_loss+=loss\n",
    "            epoch_acc+=acc\n",
    "            epoch_rmse+=myrmse\n",
    "            \n",
    "            k=k+1\n",
    "            if k%self.print_every == 0:\n",
    "                if k:\n",
    "                    print (f'Batch:{k} {epoch_loss/(k)}  ')  \n",
    "                    torch.cuda.empty_cache()\n",
    "\n",
    "        epoch_loss=epoch_loss/len(iterator)\n",
    "        epoch_acc=epoch_acc/len(iterator)\n",
    "        epoch_rmse=epoch_rmse/len(iterator)\n",
    "            \n",
    "        return epoch_loss,epoch_acc,epoch_rmse\n",
    "    \n",
    "    def plot_lrs(self, n_roll=1,ylim=None,xlim=None):\n",
    "        import seaborn as sns\n",
    "        ax=sns.lineplot(x=self.lrs,y=pd.Series(self.losses).rolling(n_roll).mean())\n",
    "        ax.set_xscale('log')\n",
    "        ax.set_ylabel('Loss')\n",
    "        ax.set_xlabel('Learning Rate')\n",
    "        if ylim is not None:\n",
    "            plt.ylim(ylim)\n",
    "        if xlim is not None:\n",
    "            plt.xlim(xlim)\n",
    "\n",
    "     \n",
    "    def run_epochs(self,dltrain,dlvalid,n_epochs=1):              \n",
    "        for epoch in range(n_epochs):                \n",
    "            loss,acc,rmse=self.run_epoch(dltrain,True)\n",
    "\n",
    "            lossv,accv,rmsev=self.run_epoch(dlvalid,mode_train=False)\n",
    "           \n",
    "            if self.error_type==\"mse\":\n",
    "                loss_mse=loss\n",
    "                loss_rmse=rmse\n",
    "                loss_mae=acc\n",
    "                lossv_mse=lossv\n",
    "                lossv_rmse=rmsev\n",
    "                lossv_mae=accv\n",
    "                \n",
    "            else:\n",
    "                loss_mse=acc\n",
    "                loss_rmse=rmse\n",
    "                loss_mae=loss\n",
    "                lossv_mse=accv\n",
    "                lossv_rmse=rmsev\n",
    "                lossv_mae=lossv\n",
    "            \n",
    "            print (f'Epoch:{epoch} Learning rate {self.lr} Weight Decay {self.wd} Train Loss:{loss} \\\n",
    "                Valid Loss:{lossv} Train RMSE:{loss_rmse} Valid RMSE:{lossv_rmse} Train MSE:{loss_mse} Valid MSE:{lossv_mse} \\\n",
    "                Train MAE:{loss_mae} Valid MAE:{lossv_mae}')\n",
    "\n",
    "              \n",
    "         \n",
    "     \n",
    "            if self.cycle_mult:\n",
    "                if self.n_epoch==self.reset_cycle:\n",
    "                    self.lr=self.start_lr\n",
    "                    self.wd=self.start_wd\n",
    "                    self.reset_cycle*=self.cycle_mult\n",
    "                    #reset_cycle=self.n_epoch+reset_cycle\n",
    "                    self.n_epoch=0\n",
    "                    self.ratio=self.end_lr/self.start_lr\n",
    "                    self.num_steps=self.reset_cycle\n",
    "                else:\n",
    "                    #self.lr*=(self.lr_decay**self.n_epoch)  \n",
    "                    #if self.n_epoch>1:\n",
    "                    self.wd*=self.wd_mult\n",
    "                    self.lr=self.lr*(self.end_lr/self.start_lr)**(1/self.num_steps)\n",
    "                    self.n_epoch+=1\n",
    "        \n",
    "\n",
    "                \n",
    "            for param_group in self.optimizer.param_groups:\n",
    "                param_group['lr']=self.lr\n",
    "                param_group['weight_decay']=self.wd\n",
    "          \n",
    "     "
   ]
  },
  {
   "cell_type": "code",
   "execution_count": 50,
   "metadata": {},
   "outputs": [],
   "source": [
    "device='cuda:1'"
   ]
  },
  {
   "cell_type": "code",
   "execution_count": 51,
   "metadata": {},
   "outputs": [],
   "source": [
    "cfobj=cf(n_users,n_emb_user,n_emb_item,n_items,min_rating,max_rating,denseCols,pretrain_wts,dropout_e,hidden,dropouts,error_type=\"mse\")"
   ]
  },
  {
   "cell_type": "code",
   "execution_count": 52,
   "metadata": {},
   "outputs": [],
   "source": [
    "cfobj=cfobj.to(device)"
   ]
  },
  {
   "cell_type": "code",
   "execution_count": 53,
   "metadata": {},
   "outputs": [
    {
     "data": {
      "text/plain": [
       "cf(\n",
       "  (emb_user): Embedding(1509, 50)\n",
       "  (emb_item): Embedding(2072, 50)\n",
       "  (ub): Embedding(1509, 1)\n",
       "  (ib): Embedding(2072, 1)\n",
       "  (emb_dropout): Dropout(p=0.05)\n",
       "  (lin1): Sequential(\n",
       "    (0): Linear(in_features=100, out_features=20, bias=True)\n",
       "    (1): ReLU()\n",
       "    (2): Dropout(p=0.2)\n",
       "  )\n",
       "  (lin_bias): Linear(in_features=3, out_features=1, bias=True)\n",
       "  (lin2): Sequential(\n",
       "    (0): Linear(in_features=16, out_features=25, bias=True)\n",
       "    (1): ReLU()\n",
       "    (2): Dropout(p=0.3)\n",
       "  )\n",
       "  (lin3): Sequential(\n",
       "    (0): Linear(in_features=46, out_features=10, bias=True)\n",
       "    (1): ReLU()\n",
       "    (2): Dropout(p=0.2)\n",
       "  )\n",
       "  (lin4): Linear(in_features=10, out_features=1, bias=True)\n",
       "  (sigmoid): Sigmoid()\n",
       "  (criterion): MSELoss()\n",
       ")"
      ]
     },
     "execution_count": 53,
     "metadata": {},
     "output_type": "execute_result"
    }
   ],
   "source": [
    "cfobj"
   ]
  },
  {
   "cell_type": "code",
   "execution_count": 54,
   "metadata": {},
   "outputs": [],
   "source": [
    "wd=1e-4\n",
    "optimizer=torch.optim.Adam(cfobj.parameters(),lr=5e-3,betas=(0.9,0.999), weight_decay=wd)\n",
    "learner=Learner(cfobj,optimizer,None,device,0,12000,0.25,cycle_mult=0)"
   ]
  },
  {
   "cell_type": "code",
   "execution_count": 55,
   "metadata": {},
   "outputs": [
    {
     "data": {
      "text/plain": [
       "1002"
      ]
     },
     "execution_count": 55,
     "metadata": {},
     "output_type": "execute_result"
    }
   ],
   "source": [
    "len(dltrain)"
   ]
  },
  {
   "cell_type": "code",
   "execution_count": 56,
   "metadata": {},
   "outputs": [],
   "source": [
    "learner.lr_find(1e-4,1e-1,dltrain,len(dltrain))"
   ]
  },
  {
   "cell_type": "code",
   "execution_count": 57,
   "metadata": {},
   "outputs": [
    {
     "data": {
      "image/png": "[encoded data removed]",
      "text/plain": [
       "<Figure size 432x288 with 1 Axes>"
      ]
     },
     "metadata": {
      "needs_background": "light"
     },
     "output_type": "display_data"
    }
   ],
   "source": [
    "learner.plot_lrs(50)"
   ]
  },
  {
   "cell_type": "code",
   "execution_count": 58,
   "metadata": {},
   "outputs": [
    {
     "data": {
      "image/png": "[encoded data removed]",
      "text/plain": [
       "<Figure size 432x288 with 1 Axes>"
      ]
     },
     "metadata": {
      "needs_background": "light"
     },
     "output_type": "display_data"
    }
   ],
   "source": [
    "learner.plot_lrs(10)"
   ]
  },
  {
   "cell_type": "code",
   "execution_count": 59,
   "metadata": {},
   "outputs": [
    {
     "data": {
      "image/png": "[encoded data removed]",
      "text/plain": [
       "<Figure size 432x288 with 1 Axes>"
      ]
     },
     "metadata": {
      "needs_background": "light"
     },
     "output_type": "display_data"
    }
   ],
   "source": [
    "learner.plot_lrs(1)"
   ]
  },
  {
   "cell_type": "code",
   "execution_count": 60,
   "metadata": {},
   "outputs": [],
   "source": [
    "del cfobj\n",
    "torch.cuda.empty_cache()"
   ]
  },
  {
   "cell_type": "code",
   "execution_count": 61,
   "metadata": {},
   "outputs": [],
   "source": [
    "pretrain_wts=pickle.load(open(f'{DATAPATH}/wts_embs','rb'))"
   ]
  },
  {
   "cell_type": "code",
   "execution_count": 62,
   "metadata": {},
   "outputs": [],
   "source": [
    "cfobj=cf(n_users,n_emb_user,n_emb_item,n_items,min_rating,max_rating,denseCols,pretrain_wts,dropout_e,hidden,dropouts,error_type=\"mse\")\n",
    "cfobj=cfobj.to(device)"
   ]
  },
  {
   "cell_type": "code",
   "execution_count": 63,
   "metadata": {},
   "outputs": [],
   "source": [
    "if 1==1:\n",
    "    cfobj.emb_user.weight.requires_grad=False\n",
    "    cfobj.emb_item.weight.requires_grad=False\n",
    "    cfobj.ib.weight.requires_grad=False\n",
    "    cfobj.ub.weight.requires_grad=False"
   ]
  },
  {
   "cell_type": "code",
   "execution_count": 64,
   "metadata": {},
   "outputs": [],
   "source": [
    "wd=1e-4\n",
    "optimizer=torch.optim.Adam(cfobj.parameters(),lr=5e-3,betas=(0.9,0.999), weight_decay=wd)\n",
    "learner=Learner(cfobj,optimizer,None,device,0,12000,0.25,cycle_mult=2,start_lr=1e-2,end_lr=3e-3,wd_mult=1.15)"
   ]
  },
  {
   "cell_type": "code",
   "execution_count": 65,
   "metadata": {},
   "outputs": [
    {
     "name": "stdout",
     "output_type": "stream",
     "text": [
      "Epoch:0 Learning rate 0.005 Weight Decay 0.0001 Train Loss:0.6590914987102002                 Valid Loss:0.6620544793955777 Train RMSE:0.8025242647484107 Valid RMSE:0.8032931436958667 Train MSE:0.6590914987102002 Valid MSE:0.6620544793955777                 Train MAE:0.6337748090188184 Valid MAE:0.6423624248132793\n",
      "Epoch:1 Learning rate 0.0038729833462074173 Weight Decay 0.00011499999999999999 Train Loss:0.5709197006361213                 Valid Loss:0.6851956792380831 Train RMSE:0.7476521144037214 Valid RMSE:0.8161013359439289 Train MSE:0.5709197006361213 Valid MSE:0.6851956792380831                 Train MAE:0.5860924572942262 Valid MAE:0.6538804824199151\n",
      "Epoch:2 Learning rate 0.0030000000000000005 Weight Decay 0.00013225 Train Loss:0.550321301597797                 Valid Loss:0.6787710290983182 Train RMSE:0.734248482131795 Valid RMSE:0.8135395299645896 Train MSE:0.550321301597797 Valid MSE:0.6787710290983182                 Train MAE:0.5739216520460304 Valid MAE:0.6514450426495403\n",
      "Epoch:3 Learning rate 0.005 Weight Decay 0.0001 Train Loss:0.5428709593897094                 Valid Loss:0.6682781713818191 Train RMSE:0.728083845769357 Valid RMSE:0.8072998557105436 Train MSE:0.5428709593897094 Valid MSE:0.6682781713818191                 Train MAE:0.5703946930800607 Valid MAE:0.6399152032825925\n",
      "Epoch:4 Learning rate 0.004400558683966967 Weight Decay 0.00011499999999999999 Train Loss:0.5378427262791616                 Valid Loss:0.6941568690155624 Train RMSE:0.7260185949403793 Valid RMSE:0.8234909877730155 Train MSE:0.5378427262791616 Valid MSE:0.6941568690155624                 Train MAE:0.5683463813956389 Valid MAE:0.6586341114219175\n",
      "Epoch:5 Learning rate 0.003872983346207417 Weight Decay 0.00013225 Train Loss:0.521349782373258                 Valid Loss:0.6742863950379397 Train RMSE:0.7139047595678111 Valid RMSE:0.8108829809291463 Train MSE:0.521349782373258 Valid MSE:0.6742863950379397                 Train MAE:0.5599231476674299 Valid MAE:0.6396172678251879\n",
      "Epoch:6 Learning rate 0.003408658099402498 Weight Decay 0.00015208749999999998 Train Loss:0.5153700345885492                 Valid Loss:0.6726948222435942 Train RMSE:0.7099883572327198 Valid RMSE:0.8103468162026009 Train MSE:0.5153700345885492 Valid MSE:0.6726948222435942                 Train MAE:0.5558321320130202 Valid MAE:0.6466494270967781\n"
     ]
    }
   ],
   "source": [
    "learner.run_epochs(dltrain,dlvalid,7)"
   ]
  },
  {
   "cell_type": "code",
   "execution_count": 66,
   "metadata": {},
   "outputs": [],
   "source": [
    "if 1==1:\n",
    "    cfobj.emb_user.weight.requires_grad=True\n",
    "    cfobj.emb_item.weight.requires_grad=True\n",
    "    cfobj.ib.weight.requires_grad=True\n",
    "    cfobj.ub.weight.requires_grad=True"
   ]
  },
  {
   "cell_type": "code",
   "execution_count": 67,
   "metadata": {},
   "outputs": [
    {
     "name": "stdout",
     "output_type": "stream",
     "text": [
      "Epoch:0 Learning rate 0.005 Weight Decay 0.0001 Train Loss:0.6523686007014708                 Valid Loss:0.6507871044338296 Train RMSE:0.7995348314152391 Valid RMSE:0.7964615099118355 Train MSE:0.6523686007014708 Valid MSE:0.6507871044338296                 Train MAE:0.6311339652407431 Valid MAE:0.6287908950530061\n",
      "Epoch:1 Learning rate 0.0031622776601683794 Weight Decay 0.00011499999999999999 Train Loss:0.5811989016072479                 Valid Loss:0.6540677274039032 Train RMSE:0.7540961979705719 Valid RMSE:0.7985928890551884 Train MSE:0.5811989016072479 Valid MSE:0.6540677274039032                 Train MAE:0.5879879602772033 Valid MAE:0.6413244063701105\n",
      "Epoch:2 Learning rate 0.002 Weight Decay 0.00013225 Train Loss:0.526399693267788                 Valid Loss:0.64609705226137 Train RMSE:0.717717574950191 Valid RMSE:0.7924775624119622 Train MSE:0.526399693267788 Valid MSE:0.64609705226137                 Train MAE:0.5568426241596302 Valid MAE:0.6255071461200714\n"
     ]
    }
   ],
   "source": [
    "if 1==1:\n",
    "    optimizer=torch.optim.Adam(cfobj.parameters(),lr=5e-3,betas=(0.9,0.999), weight_decay=wd)\n",
    "    learner=Learner(cfobj,optimizer,None,device,0,12000,0.25,cycle_mult=2,start_lr=1e-2,end_lr=2e-3,wd_mult=1.15)\n",
    "    learner.run_epochs(dltrain,dlvalid,3)"
   ]
  },
  {
   "cell_type": "code",
   "execution_count": 68,
   "metadata": {},
   "outputs": [],
   "source": [
    "learner.generate_scores=True"
   ]
  },
  {
   "cell_type": "code",
   "execution_count": 69,
   "metadata": {},
   "outputs": [
    {
     "data": {
      "text/plain": [
       "(0.64609705226137, 0.6255071461200714, 0.7924775624119622)"
      ]
     },
     "execution_count": 69,
     "metadata": {},
     "output_type": "execute_result"
    }
   ],
   "source": [
    "learner.run_epoch(dlvalid,False)"
   ]
  },
  {
   "cell_type": "code",
   "execution_count": 70,
   "metadata": {},
   "outputs": [],
   "source": [
    "dfvalid['pred_dnnrec']=np.concatenate(learner.scores)"
   ]
  },
  {
   "cell_type": "code",
   "execution_count": 71,
   "metadata": {},
   "outputs": [
    {
     "data": {
      "text/plain": [
       "0.8054141766372722"
      ]
     },
     "execution_count": 71,
     "metadata": {},
     "output_type": "execute_result"
    }
   ],
   "source": [
    "np.sqrt(metrics.mean_squared_error(dfvalid['rating'],dfvalid['pred_dnnrec']))"
   ]
  },
  {
   "cell_type": "code",
   "execution_count": 72,
   "metadata": {},
   "outputs": [],
   "source": [
    "def score_by_group (dfvalid,predVar,groupVar='cold_start_group',method='global_avg'):\n",
    "    scores=[]\n",
    "    mae_scores=[]\n",
    "    rmse_scores=[]\n",
    "    r2_scores=[]\n",
    "    groups=dfvalid[groupVar].value_counts().index.tolist()\n",
    "    for group in groups:\n",
    "        df=dfvalid.loc[dfvalid[groupVar]==group]\n",
    "        actual=df['rating']\n",
    "        score=metrics.mean_squared_error(df['rating'],df[predVar])\n",
    "        rmse_score=np.sqrt(metrics.mean_squared_error(df['rating'],df[predVar]))\n",
    "        mae_score=metrics.mean_absolute_error(df['rating'],df[predVar])\n",
    "        r2_score=metrics.r2_score(df['rating'],df[predVar])\n",
    "        scores.append(score)\n",
    "        mae_scores.append(mae_score)\n",
    "        rmse_scores.append(rmse_score)\n",
    "        r2_scores.append(r2_score)\n",
    "    return pd.DataFrame({'method':method, 'mse':scores, 'rmse':rmse_scores, 'mae':mae_scores, 'r2_score':r2_scores, 'Cold Start Group':groups})"
   ]
  },
  {
   "cell_type": "code",
   "execution_count": 73,
   "metadata": {},
   "outputs": [
    {
     "data": {
      "text/html": [
       "<div>\n",
       "<style scoped>\n",
       "    .dataframe tbody tr th:only-of-type {\n",
       "        vertical-align: middle;\n",
       "    }\n",
       "\n",
       "    .dataframe tbody tr th {\n",
       "        vertical-align: top;\n",
       "    }\n",
       "\n",
       "    .dataframe thead th {\n",
       "        text-align: right;\n",
       "    }\n",
       "</style>\n",
       "<table border=\"1\" class=\"dataframe\">\n",
       "  <thead>\n",
       "    <tr style=\"text-align: right;\">\n",
       "      <th></th>\n",
       "      <th>method</th>\n",
       "      <th>mse</th>\n",
       "      <th>rmse</th>\n",
       "      <th>mae</th>\n",
       "      <th>r2_score</th>\n",
       "      <th>Cold Start Group</th>\n",
       "    </tr>\n",
       "  </thead>\n",
       "  <tbody>\n",
       "    <tr>\n",
       "      <th>0</th>\n",
       "      <td>dnnrec</td>\n",
       "      <td>0.614213</td>\n",
       "      <td>0.783718</td>\n",
       "      <td>0.606508</td>\n",
       "      <td>0.246636</td>\n",
       "      <td>No-cold-start</td>\n",
       "    </tr>\n",
       "    <tr>\n",
       "      <th>1</th>\n",
       "      <td>dnnrec</td>\n",
       "      <td>0.946289</td>\n",
       "      <td>0.972774</td>\n",
       "      <td>0.800842</td>\n",
       "      <td>0.061161</td>\n",
       "      <td>User-Cold-Start</td>\n",
       "    </tr>\n",
       "    <tr>\n",
       "      <th>2</th>\n",
       "      <td>dnnrec</td>\n",
       "      <td>0.912123</td>\n",
       "      <td>0.955051</td>\n",
       "      <td>0.738495</td>\n",
       "      <td>0.022330</td>\n",
       "      <td>Item-Cold_start</td>\n",
       "    </tr>\n",
       "    <tr>\n",
       "      <th>3</th>\n",
       "      <td>dnnrec</td>\n",
       "      <td>1.296026</td>\n",
       "      <td>1.138431</td>\n",
       "      <td>0.989598</td>\n",
       "      <td>-0.117264</td>\n",
       "      <td>User-Item-cold-start</td>\n",
       "    </tr>\n",
       "    <tr>\n",
       "      <th>0</th>\n",
       "      <td>dnnrec</td>\n",
       "      <td>0.614213</td>\n",
       "      <td>0.783718</td>\n",
       "      <td>0.606508</td>\n",
       "      <td>0.246636</td>\n",
       "      <td>0</td>\n",
       "    </tr>\n",
       "    <tr>\n",
       "      <th>1</th>\n",
       "      <td>dnnrec</td>\n",
       "      <td>0.955838</td>\n",
       "      <td>0.977670</td>\n",
       "      <td>0.798951</td>\n",
       "      <td>0.065918</td>\n",
       "      <td>1</td>\n",
       "    </tr>\n",
       "    <tr>\n",
       "      <th>0</th>\n",
       "      <td>dnnrec</td>\n",
       "      <td>0.648692</td>\n",
       "      <td>0.805414</td>\n",
       "      <td>0.625930</td>\n",
       "      <td>0.224558</td>\n",
       "      <td>0</td>\n",
       "    </tr>\n",
       "  </tbody>\n",
       "</table>\n",
       "</div>"
      ],
      "text/plain": [
       "   method       mse      rmse       mae  r2_score      Cold Start Group\n",
       "0  dnnrec  0.614213  0.783718  0.606508  0.246636         No-cold-start\n",
       "1  dnnrec  0.946289  0.972774  0.800842  0.061161       User-Cold-Start\n",
       "2  dnnrec  0.912123  0.955051  0.738495  0.022330       Item-Cold_start\n",
       "3  dnnrec  1.296026  1.138431  0.989598 -0.117264  User-Item-cold-start\n",
       "0  dnnrec  0.614213  0.783718  0.606508  0.246636                     0\n",
       "1  dnnrec  0.955838  0.977670  0.798951  0.065918                     1\n",
       "0  dnnrec  0.648692  0.805414  0.625930  0.224558                     0"
      ]
     },
     "execution_count": 73,
     "metadata": {},
     "output_type": "execute_result"
    }
   ],
   "source": [
    "result_dnnrec=pd.concat([score_by_group(dfvalid,'pred_dnnrec','cold_start_group','dnnrec'),score_by_group(dfvalid,'pred_dnnrec','cold_start_bucket','dnnrec'),\\\n",
    "score_by_group(dfvalid,'pred_dnnrec','flag_train','dnnrec')],axis=0)\n",
    "result_dnnrec"
   ]
  },
  {
   "cell_type": "code",
   "execution_count": 74,
   "metadata": {},
   "outputs": [
    {
     "data": {
      "text/plain": [
       "(77, 6)"
      ]
     },
     "execution_count": 74,
     "metadata": {},
     "output_type": "execute_result"
    }
   ],
   "source": [
    "results_concat.shape"
   ]
  },
  {
   "cell_type": "code",
   "execution_count": 75,
   "metadata": {},
   "outputs": [],
   "source": [
    "results_concat=pd.concat([results_concat,result_dnnrec],axis=0)"
   ]
  },
  {
   "cell_type": "code",
   "execution_count": 76,
   "metadata": {},
   "outputs": [],
   "source": [
    "pickle.dump([df,dftrain,dfvalid,idx_to_user,idx_to_item,item_to_idx,user_to_idx,results_concat],open(f'{DATAPATH}/df_side_cold_runother_dnnrec.pkl','wb'))"
   ]
  },
  {
   "cell_type": "code",
   "execution_count": 77,
   "metadata": {},
   "outputs": [
    {
     "data": {
      "text/html": [
       "<div>\n",
       "<style scoped>\n",
       "    .dataframe tbody tr th:only-of-type {\n",
       "        vertical-align: middle;\n",
       "    }\n",
       "\n",
       "    .dataframe tbody tr th {\n",
       "        vertical-align: top;\n",
       "    }\n",
       "\n",
       "    .dataframe thead th {\n",
       "        text-align: right;\n",
       "    }\n",
       "</style>\n",
       "<table border=\"1\" class=\"dataframe\">\n",
       "  <thead>\n",
       "    <tr style=\"text-align: right;\">\n",
       "      <th></th>\n",
       "      <th>method</th>\n",
       "      <th>mse</th>\n",
       "      <th>rmse</th>\n",
       "      <th>mae</th>\n",
       "      <th>r2_score</th>\n",
       "      <th>Cold Start Group</th>\n",
       "    </tr>\n",
       "  </thead>\n",
       "  <tbody>\n",
       "    <tr>\n",
       "      <th>0</th>\n",
       "      <td>biasedmatrixfactorization</td>\n",
       "      <td>0.638513</td>\n",
       "      <td>0.799070</td>\n",
       "      <td>0.622871</td>\n",
       "      <td>0.216831</td>\n",
       "      <td>No-cold-start</td>\n",
       "    </tr>\n",
       "    <tr>\n",
       "      <th>1</th>\n",
       "      <td>biasedmatrixfactorization</td>\n",
       "      <td>0.925556</td>\n",
       "      <td>0.962058</td>\n",
       "      <td>0.771413</td>\n",
       "      <td>0.081731</td>\n",
       "      <td>User-Cold-Start</td>\n",
       "    </tr>\n",
       "    <tr>\n",
       "      <th>2</th>\n",
       "      <td>biasedmatrixfactorization</td>\n",
       "      <td>1.016274</td>\n",
       "      <td>1.008104</td>\n",
       "      <td>0.775404</td>\n",
       "      <td>-0.089305</td>\n",
       "      <td>Item-Cold_start</td>\n",
       "    </tr>\n",
       "    <tr>\n",
       "      <th>3</th>\n",
       "      <td>biasedmatrixfactorization</td>\n",
       "      <td>1.649868</td>\n",
       "      <td>1.284472</td>\n",
       "      <td>1.099969</td>\n",
       "      <td>-0.422300</td>\n",
       "      <td>User-Item-cold-start</td>\n",
       "    </tr>\n",
       "    <tr>\n",
       "      <th>0</th>\n",
       "      <td>biasedmatrixfactorization</td>\n",
       "      <td>0.638513</td>\n",
       "      <td>0.799070</td>\n",
       "      <td>0.622871</td>\n",
       "      <td>0.216831</td>\n",
       "      <td>0</td>\n",
       "    </tr>\n",
       "    <tr>\n",
       "      <th>1</th>\n",
       "      <td>biasedmatrixfactorization</td>\n",
       "      <td>0.971243</td>\n",
       "      <td>0.985517</td>\n",
       "      <td>0.786175</td>\n",
       "      <td>0.050864</td>\n",
       "      <td>1</td>\n",
       "    </tr>\n",
       "    <tr>\n",
       "      <th>0</th>\n",
       "      <td>biasedmatrixfactorization</td>\n",
       "      <td>0.672094</td>\n",
       "      <td>0.819813</td>\n",
       "      <td>0.639352</td>\n",
       "      <td>0.196583</td>\n",
       "      <td>0</td>\n",
       "    </tr>\n",
       "    <tr>\n",
       "      <th>0</th>\n",
       "      <td>svdplusplus</td>\n",
       "      <td>0.648519</td>\n",
       "      <td>0.805307</td>\n",
       "      <td>0.643882</td>\n",
       "      <td>0.204558</td>\n",
       "      <td>No-cold-start</td>\n",
       "    </tr>\n",
       "    <tr>\n",
       "      <th>1</th>\n",
       "      <td>svdplusplus</td>\n",
       "      <td>0.939454</td>\n",
       "      <td>0.969254</td>\n",
       "      <td>0.780966</td>\n",
       "      <td>0.067942</td>\n",
       "      <td>User-Cold-Start</td>\n",
       "    </tr>\n",
       "    <tr>\n",
       "      <th>2</th>\n",
       "      <td>svdplusplus</td>\n",
       "      <td>0.964594</td>\n",
       "      <td>0.982138</td>\n",
       "      <td>0.773659</td>\n",
       "      <td>-0.033912</td>\n",
       "      <td>Item-Cold_start</td>\n",
       "    </tr>\n",
       "    <tr>\n",
       "      <th>3</th>\n",
       "      <td>svdplusplus</td>\n",
       "      <td>1.649868</td>\n",
       "      <td>1.284472</td>\n",
       "      <td>1.099969</td>\n",
       "      <td>-0.422300</td>\n",
       "      <td>User-Item-cold-start</td>\n",
       "    </tr>\n",
       "    <tr>\n",
       "      <th>0</th>\n",
       "      <td>svdplusplus</td>\n",
       "      <td>0.648519</td>\n",
       "      <td>0.805307</td>\n",
       "      <td>0.643882</td>\n",
       "      <td>0.204558</td>\n",
       "      <td>0</td>\n",
       "    </tr>\n",
       "    <tr>\n",
       "      <th>1</th>\n",
       "      <td>svdplusplus</td>\n",
       "      <td>0.974022</td>\n",
       "      <td>0.986925</td>\n",
       "      <td>0.793504</td>\n",
       "      <td>0.048149</td>\n",
       "      <td>1</td>\n",
       "    </tr>\n",
       "    <tr>\n",
       "      <th>0</th>\n",
       "      <td>svdplusplus</td>\n",
       "      <td>0.681370</td>\n",
       "      <td>0.825452</td>\n",
       "      <td>0.658983</td>\n",
       "      <td>0.185494</td>\n",
       "      <td>0</td>\n",
       "    </tr>\n",
       "    <tr>\n",
       "      <th>0</th>\n",
       "      <td>svd</td>\n",
       "      <td>0.683698</td>\n",
       "      <td>0.826860</td>\n",
       "      <td>0.634292</td>\n",
       "      <td>0.161409</td>\n",
       "      <td>No-cold-start</td>\n",
       "    </tr>\n",
       "    <tr>\n",
       "      <th>1</th>\n",
       "      <td>svd</td>\n",
       "      <td>1.008096</td>\n",
       "      <td>1.004040</td>\n",
       "      <td>0.800394</td>\n",
       "      <td>-0.000160</td>\n",
       "      <td>User-Cold-Start</td>\n",
       "    </tr>\n",
       "    <tr>\n",
       "      <th>2</th>\n",
       "      <td>svd</td>\n",
       "      <td>0.933037</td>\n",
       "      <td>0.965939</td>\n",
       "      <td>0.758959</td>\n",
       "      <td>-0.000087</td>\n",
       "      <td>Item-Cold_start</td>\n",
       "    </tr>\n",
       "    <tr>\n",
       "      <th>3</th>\n",
       "      <td>svd</td>\n",
       "      <td>1.649868</td>\n",
       "      <td>1.284472</td>\n",
       "      <td>1.099969</td>\n",
       "      <td>-0.422300</td>\n",
       "      <td>User-Item-cold-start</td>\n",
       "    </tr>\n",
       "    <tr>\n",
       "      <th>0</th>\n",
       "      <td>svd</td>\n",
       "      <td>0.683698</td>\n",
       "      <td>0.826860</td>\n",
       "      <td>0.634292</td>\n",
       "      <td>0.161409</td>\n",
       "      <td>0</td>\n",
       "    </tr>\n",
       "    <tr>\n",
       "      <th>1</th>\n",
       "      <td>svd</td>\n",
       "      <td>1.023635</td>\n",
       "      <td>1.011749</td>\n",
       "      <td>0.806621</td>\n",
       "      <td>-0.000336</td>\n",
       "      <td>1</td>\n",
       "    </tr>\n",
       "    <tr>\n",
       "      <th>0</th>\n",
       "      <td>svd</td>\n",
       "      <td>0.718006</td>\n",
       "      <td>0.847352</td>\n",
       "      <td>0.651684</td>\n",
       "      <td>0.141700</td>\n",
       "      <td>0</td>\n",
       "    </tr>\n",
       "    <tr>\n",
       "      <th>0</th>\n",
       "      <td>userknncosine</td>\n",
       "      <td>0.674188</td>\n",
       "      <td>0.821089</td>\n",
       "      <td>0.640090</td>\n",
       "      <td>0.173074</td>\n",
       "      <td>No-cold-start</td>\n",
       "    </tr>\n",
       "    <tr>\n",
       "      <th>1</th>\n",
       "      <td>userknncosine</td>\n",
       "      <td>0.928814</td>\n",
       "      <td>0.963750</td>\n",
       "      <td>0.776717</td>\n",
       "      <td>0.078498</td>\n",
       "      <td>User-Cold-Start</td>\n",
       "    </tr>\n",
       "    <tr>\n",
       "      <th>2</th>\n",
       "      <td>userknncosine</td>\n",
       "      <td>0.982966</td>\n",
       "      <td>0.991446</td>\n",
       "      <td>0.776825</td>\n",
       "      <td>-0.053604</td>\n",
       "      <td>Item-Cold_start</td>\n",
       "    </tr>\n",
       "    <tr>\n",
       "      <th>3</th>\n",
       "      <td>userknncosine</td>\n",
       "      <td>1.649868</td>\n",
       "      <td>1.284472</td>\n",
       "      <td>1.099969</td>\n",
       "      <td>-0.422300</td>\n",
       "      <td>User-Item-cold-start</td>\n",
       "    </tr>\n",
       "    <tr>\n",
       "      <th>0</th>\n",
       "      <td>userknncosine</td>\n",
       "      <td>0.674188</td>\n",
       "      <td>0.821089</td>\n",
       "      <td>0.640090</td>\n",
       "      <td>0.173074</td>\n",
       "      <td>0</td>\n",
       "    </tr>\n",
       "    <tr>\n",
       "      <th>1</th>\n",
       "      <td>userknncosine</td>\n",
       "      <td>0.968494</td>\n",
       "      <td>0.984121</td>\n",
       "      <td>0.790628</td>\n",
       "      <td>0.053550</td>\n",
       "      <td>1</td>\n",
       "    </tr>\n",
       "    <tr>\n",
       "      <th>0</th>\n",
       "      <td>userknncosine</td>\n",
       "      <td>0.703891</td>\n",
       "      <td>0.838982</td>\n",
       "      <td>0.655283</td>\n",
       "      <td>0.158573</td>\n",
       "      <td>0</td>\n",
       "    </tr>\n",
       "    <tr>\n",
       "      <th>0</th>\n",
       "      <td>userknnpearson</td>\n",
       "      <td>0.674188</td>\n",
       "      <td>0.821089</td>\n",
       "      <td>0.640090</td>\n",
       "      <td>0.173074</td>\n",
       "      <td>No-cold-start</td>\n",
       "    </tr>\n",
       "    <tr>\n",
       "      <th>1</th>\n",
       "      <td>userknnpearson</td>\n",
       "      <td>0.928814</td>\n",
       "      <td>0.963750</td>\n",
       "      <td>0.776717</td>\n",
       "      <td>0.078498</td>\n",
       "      <td>User-Cold-Start</td>\n",
       "    </tr>\n",
       "    <tr>\n",
       "      <th>...</th>\n",
       "      <td>...</td>\n",
       "      <td>...</td>\n",
       "      <td>...</td>\n",
       "      <td>...</td>\n",
       "      <td>...</td>\n",
       "      <td>...</td>\n",
       "    </tr>\n",
       "    <tr>\n",
       "      <th>1</th>\n",
       "      <td>itemavg</td>\n",
       "      <td>0.973028</td>\n",
       "      <td>0.986422</td>\n",
       "      <td>0.785555</td>\n",
       "      <td>0.049120</td>\n",
       "      <td>1</td>\n",
       "    </tr>\n",
       "    <tr>\n",
       "      <th>0</th>\n",
       "      <td>itemavg</td>\n",
       "      <td>0.837251</td>\n",
       "      <td>0.915014</td>\n",
       "      <td>0.722685</td>\n",
       "      <td>-0.000844</td>\n",
       "      <td>0</td>\n",
       "    </tr>\n",
       "    <tr>\n",
       "      <th>0</th>\n",
       "      <td>useravg</td>\n",
       "      <td>0.664410</td>\n",
       "      <td>0.815114</td>\n",
       "      <td>0.636845</td>\n",
       "      <td>0.185066</td>\n",
       "      <td>No-cold-start</td>\n",
       "    </tr>\n",
       "    <tr>\n",
       "      <th>1</th>\n",
       "      <td>useravg</td>\n",
       "      <td>1.008096</td>\n",
       "      <td>1.004040</td>\n",
       "      <td>0.800394</td>\n",
       "      <td>-0.000160</td>\n",
       "      <td>User-Cold-Start</td>\n",
       "    </tr>\n",
       "    <tr>\n",
       "      <th>2</th>\n",
       "      <td>useravg</td>\n",
       "      <td>1.009449</td>\n",
       "      <td>1.004714</td>\n",
       "      <td>0.759445</td>\n",
       "      <td>-0.081990</td>\n",
       "      <td>Item-Cold_start</td>\n",
       "    </tr>\n",
       "    <tr>\n",
       "      <th>3</th>\n",
       "      <td>useravg</td>\n",
       "      <td>1.649868</td>\n",
       "      <td>1.284472</td>\n",
       "      <td>1.099969</td>\n",
       "      <td>-0.422300</td>\n",
       "      <td>User-Item-cold-start</td>\n",
       "    </tr>\n",
       "    <tr>\n",
       "      <th>0</th>\n",
       "      <td>useravg</td>\n",
       "      <td>0.664410</td>\n",
       "      <td>0.815114</td>\n",
       "      <td>0.636845</td>\n",
       "      <td>0.185066</td>\n",
       "      <td>0</td>\n",
       "    </tr>\n",
       "    <tr>\n",
       "      <th>1</th>\n",
       "      <td>useravg</td>\n",
       "      <td>1.035896</td>\n",
       "      <td>1.017790</td>\n",
       "      <td>0.806699</td>\n",
       "      <td>-0.012317</td>\n",
       "      <td>1</td>\n",
       "    </tr>\n",
       "    <tr>\n",
       "      <th>0</th>\n",
       "      <td>useravg</td>\n",
       "      <td>0.701903</td>\n",
       "      <td>0.837796</td>\n",
       "      <td>0.653988</td>\n",
       "      <td>0.160950</td>\n",
       "      <td>0</td>\n",
       "    </tr>\n",
       "    <tr>\n",
       "      <th>0</th>\n",
       "      <td>global_avg</td>\n",
       "      <td>0.816507</td>\n",
       "      <td>0.903608</td>\n",
       "      <td>0.706052</td>\n",
       "      <td>-0.001488</td>\n",
       "      <td>No-cold-start</td>\n",
       "    </tr>\n",
       "    <tr>\n",
       "      <th>1</th>\n",
       "      <td>global_avg</td>\n",
       "      <td>1.008096</td>\n",
       "      <td>1.004040</td>\n",
       "      <td>0.800394</td>\n",
       "      <td>-0.000160</td>\n",
       "      <td>User-Cold-Start</td>\n",
       "    </tr>\n",
       "    <tr>\n",
       "      <th>2</th>\n",
       "      <td>global_avg</td>\n",
       "      <td>0.933037</td>\n",
       "      <td>0.965939</td>\n",
       "      <td>0.758959</td>\n",
       "      <td>-0.000087</td>\n",
       "      <td>Item-Cold_start</td>\n",
       "    </tr>\n",
       "    <tr>\n",
       "      <th>3</th>\n",
       "      <td>global_avg</td>\n",
       "      <td>1.649868</td>\n",
       "      <td>1.284472</td>\n",
       "      <td>1.099969</td>\n",
       "      <td>-0.422300</td>\n",
       "      <td>User-Item-cold-start</td>\n",
       "    </tr>\n",
       "    <tr>\n",
       "      <th>0</th>\n",
       "      <td>global_avg</td>\n",
       "      <td>0.816507</td>\n",
       "      <td>0.903608</td>\n",
       "      <td>0.706052</td>\n",
       "      <td>-0.001488</td>\n",
       "      <td>0</td>\n",
       "    </tr>\n",
       "    <tr>\n",
       "      <th>1</th>\n",
       "      <td>global_avg</td>\n",
       "      <td>1.023635</td>\n",
       "      <td>1.011749</td>\n",
       "      <td>0.806621</td>\n",
       "      <td>-0.000336</td>\n",
       "      <td>1</td>\n",
       "    </tr>\n",
       "    <tr>\n",
       "      <th>0</th>\n",
       "      <td>global_avg</td>\n",
       "      <td>0.837412</td>\n",
       "      <td>0.915102</td>\n",
       "      <td>0.716202</td>\n",
       "      <td>-0.001037</td>\n",
       "      <td>0</td>\n",
       "    </tr>\n",
       "    <tr>\n",
       "      <th>0</th>\n",
       "      <td>cf</td>\n",
       "      <td>0.639133</td>\n",
       "      <td>0.799458</td>\n",
       "      <td>0.636051</td>\n",
       "      <td>0.216071</td>\n",
       "      <td>No-cold-start</td>\n",
       "    </tr>\n",
       "    <tr>\n",
       "      <th>1</th>\n",
       "      <td>cf</td>\n",
       "      <td>1.026170</td>\n",
       "      <td>1.013001</td>\n",
       "      <td>0.866401</td>\n",
       "      <td>-0.018092</td>\n",
       "      <td>User-Cold-Start</td>\n",
       "    </tr>\n",
       "    <tr>\n",
       "      <th>2</th>\n",
       "      <td>cf</td>\n",
       "      <td>1.083329</td>\n",
       "      <td>1.040831</td>\n",
       "      <td>0.843148</td>\n",
       "      <td>-0.161179</td>\n",
       "      <td>Item-Cold_start</td>\n",
       "    </tr>\n",
       "    <tr>\n",
       "      <th>3</th>\n",
       "      <td>cf</td>\n",
       "      <td>1.162469</td>\n",
       "      <td>1.078179</td>\n",
       "      <td>0.916640</td>\n",
       "      <td>-0.002129</td>\n",
       "      <td>User-Item-cold-start</td>\n",
       "    </tr>\n",
       "    <tr>\n",
       "      <th>0</th>\n",
       "      <td>cf</td>\n",
       "      <td>0.639133</td>\n",
       "      <td>0.799458</td>\n",
       "      <td>0.636051</td>\n",
       "      <td>0.216071</td>\n",
       "      <td>0</td>\n",
       "    </tr>\n",
       "    <tr>\n",
       "      <th>1</th>\n",
       "      <td>cf</td>\n",
       "      <td>1.041200</td>\n",
       "      <td>1.020392</td>\n",
       "      <td>0.864829</td>\n",
       "      <td>-0.017500</td>\n",
       "      <td>1</td>\n",
       "    </tr>\n",
       "    <tr>\n",
       "      <th>0</th>\n",
       "      <td>cf</td>\n",
       "      <td>0.679712</td>\n",
       "      <td>0.824446</td>\n",
       "      <td>0.659140</td>\n",
       "      <td>0.187477</td>\n",
       "      <td>0</td>\n",
       "    </tr>\n",
       "    <tr>\n",
       "      <th>0</th>\n",
       "      <td>dnnrec</td>\n",
       "      <td>0.614213</td>\n",
       "      <td>0.783718</td>\n",
       "      <td>0.606508</td>\n",
       "      <td>0.246636</td>\n",
       "      <td>No-cold-start</td>\n",
       "    </tr>\n",
       "    <tr>\n",
       "      <th>1</th>\n",
       "      <td>dnnrec</td>\n",
       "      <td>0.946289</td>\n",
       "      <td>0.972774</td>\n",
       "      <td>0.800842</td>\n",
       "      <td>0.061161</td>\n",
       "      <td>User-Cold-Start</td>\n",
       "    </tr>\n",
       "    <tr>\n",
       "      <th>2</th>\n",
       "      <td>dnnrec</td>\n",
       "      <td>0.912123</td>\n",
       "      <td>0.955051</td>\n",
       "      <td>0.738495</td>\n",
       "      <td>0.022330</td>\n",
       "      <td>Item-Cold_start</td>\n",
       "    </tr>\n",
       "    <tr>\n",
       "      <th>3</th>\n",
       "      <td>dnnrec</td>\n",
       "      <td>1.296026</td>\n",
       "      <td>1.138431</td>\n",
       "      <td>0.989598</td>\n",
       "      <td>-0.117264</td>\n",
       "      <td>User-Item-cold-start</td>\n",
       "    </tr>\n",
       "    <tr>\n",
       "      <th>0</th>\n",
       "      <td>dnnrec</td>\n",
       "      <td>0.614213</td>\n",
       "      <td>0.783718</td>\n",
       "      <td>0.606508</td>\n",
       "      <td>0.246636</td>\n",
       "      <td>0</td>\n",
       "    </tr>\n",
       "    <tr>\n",
       "      <th>1</th>\n",
       "      <td>dnnrec</td>\n",
       "      <td>0.955838</td>\n",
       "      <td>0.977670</td>\n",
       "      <td>0.798951</td>\n",
       "      <td>0.065918</td>\n",
       "      <td>1</td>\n",
       "    </tr>\n",
       "    <tr>\n",
       "      <th>0</th>\n",
       "      <td>dnnrec</td>\n",
       "      <td>0.648692</td>\n",
       "      <td>0.805414</td>\n",
       "      <td>0.625930</td>\n",
       "      <td>0.224558</td>\n",
       "      <td>0</td>\n",
       "    </tr>\n",
       "  </tbody>\n",
       "</table>\n",
       "<p>84 rows × 6 columns</p>\n",
       "</div>"
      ],
      "text/plain": [
       "                       method       mse      rmse       mae  r2_score  \\\n",
       "0   biasedmatrixfactorization  0.638513  0.799070  0.622871  0.216831   \n",
       "1   biasedmatrixfactorization  0.925556  0.962058  0.771413  0.081731   \n",
       "2   biasedmatrixfactorization  1.016274  1.008104  0.775404 -0.089305   \n",
       "3   biasedmatrixfactorization  1.649868  1.284472  1.099969 -0.422300   \n",
       "0   biasedmatrixfactorization  0.638513  0.799070  0.622871  0.216831   \n",
       "1   biasedmatrixfactorization  0.971243  0.985517  0.786175  0.050864   \n",
       "0   biasedmatrixfactorization  0.672094  0.819813  0.639352  0.196583   \n",
       "0                 svdplusplus  0.648519  0.805307  0.643882  0.204558   \n",
       "1                 svdplusplus  0.939454  0.969254  0.780966  0.067942   \n",
       "2                 svdplusplus  0.964594  0.982138  0.773659 -0.033912   \n",
       "3                 svdplusplus  1.649868  1.284472  1.099969 -0.422300   \n",
       "0                 svdplusplus  0.648519  0.805307  0.643882  0.204558   \n",
       "1                 svdplusplus  0.974022  0.986925  0.793504  0.048149   \n",
       "0                 svdplusplus  0.681370  0.825452  0.658983  0.185494   \n",
       "0                         svd  0.683698  0.826860  0.634292  0.161409   \n",
       "1                         svd  1.008096  1.004040  0.800394 -0.000160   \n",
       "2                         svd  0.933037  0.965939  0.758959 -0.000087   \n",
       "3                         svd  1.649868  1.284472  1.099969 -0.422300   \n",
       "0                         svd  0.683698  0.826860  0.634292  0.161409   \n",
       "1                         svd  1.023635  1.011749  0.806621 -0.000336   \n",
       "0                         svd  0.718006  0.847352  0.651684  0.141700   \n",
       "0               userknncosine  0.674188  0.821089  0.640090  0.173074   \n",
       "1               userknncosine  0.928814  0.963750  0.776717  0.078498   \n",
       "2               userknncosine  0.982966  0.991446  0.776825 -0.053604   \n",
       "3               userknncosine  1.649868  1.284472  1.099969 -0.422300   \n",
       "0               userknncosine  0.674188  0.821089  0.640090  0.173074   \n",
       "1               userknncosine  0.968494  0.984121  0.790628  0.053550   \n",
       "0               userknncosine  0.703891  0.838982  0.655283  0.158573   \n",
       "0              userknnpearson  0.674188  0.821089  0.640090  0.173074   \n",
       "1              userknnpearson  0.928814  0.963750  0.776717  0.078498   \n",
       "..                        ...       ...       ...       ...       ...   \n",
       "1                     itemavg  0.973028  0.986422  0.785555  0.049120   \n",
       "0                     itemavg  0.837251  0.915014  0.722685 -0.000844   \n",
       "0                     useravg  0.664410  0.815114  0.636845  0.185066   \n",
       "1                     useravg  1.008096  1.004040  0.800394 -0.000160   \n",
       "2                     useravg  1.009449  1.004714  0.759445 -0.081990   \n",
       "3                     useravg  1.649868  1.284472  1.099969 -0.422300   \n",
       "0                     useravg  0.664410  0.815114  0.636845  0.185066   \n",
       "1                     useravg  1.035896  1.017790  0.806699 -0.012317   \n",
       "0                     useravg  0.701903  0.837796  0.653988  0.160950   \n",
       "0                  global_avg  0.816507  0.903608  0.706052 -0.001488   \n",
       "1                  global_avg  1.008096  1.004040  0.800394 -0.000160   \n",
       "2                  global_avg  0.933037  0.965939  0.758959 -0.000087   \n",
       "3                  global_avg  1.649868  1.284472  1.099969 -0.422300   \n",
       "0                  global_avg  0.816507  0.903608  0.706052 -0.001488   \n",
       "1                  global_avg  1.023635  1.011749  0.806621 -0.000336   \n",
       "0                  global_avg  0.837412  0.915102  0.716202 -0.001037   \n",
       "0                          cf  0.639133  0.799458  0.636051  0.216071   \n",
       "1                          cf  1.026170  1.013001  0.866401 -0.018092   \n",
       "2                          cf  1.083329  1.040831  0.843148 -0.161179   \n",
       "3                          cf  1.162469  1.078179  0.916640 -0.002129   \n",
       "0                          cf  0.639133  0.799458  0.636051  0.216071   \n",
       "1                          cf  1.041200  1.020392  0.864829 -0.017500   \n",
       "0                          cf  0.679712  0.824446  0.659140  0.187477   \n",
       "0                      dnnrec  0.614213  0.783718  0.606508  0.246636   \n",
       "1                      dnnrec  0.946289  0.972774  0.800842  0.061161   \n",
       "2                      dnnrec  0.912123  0.955051  0.738495  0.022330   \n",
       "3                      dnnrec  1.296026  1.138431  0.989598 -0.117264   \n",
       "0                      dnnrec  0.614213  0.783718  0.606508  0.246636   \n",
       "1                      dnnrec  0.955838  0.977670  0.798951  0.065918   \n",
       "0                      dnnrec  0.648692  0.805414  0.625930  0.224558   \n",
       "\n",
       "        Cold Start Group  \n",
       "0          No-cold-start  \n",
       "1        User-Cold-Start  \n",
       "2        Item-Cold_start  \n",
       "3   User-Item-cold-start  \n",
       "0                      0  \n",
       "1                      1  \n",
       "0                      0  \n",
       "0          No-cold-start  \n",
       "1        User-Cold-Start  \n",
       "2        Item-Cold_start  \n",
       "3   User-Item-cold-start  \n",
       "0                      0  \n",
       "1                      1  \n",
       "0                      0  \n",
       "0          No-cold-start  \n",
       "1        User-Cold-Start  \n",
       "2        Item-Cold_start  \n",
       "3   User-Item-cold-start  \n",
       "0                      0  \n",
       "1                      1  \n",
       "0                      0  \n",
       "0          No-cold-start  \n",
       "1        User-Cold-Start  \n",
       "2        Item-Cold_start  \n",
       "3   User-Item-cold-start  \n",
       "0                      0  \n",
       "1                      1  \n",
       "0                      0  \n",
       "0          No-cold-start  \n",
       "1        User-Cold-Start  \n",
       "..                   ...  \n",
       "1                      1  \n",
       "0                      0  \n",
       "0          No-cold-start  \n",
       "1        User-Cold-Start  \n",
       "2        Item-Cold_start  \n",
       "3   User-Item-cold-start  \n",
       "0                      0  \n",
       "1                      1  \n",
       "0                      0  \n",
       "0          No-cold-start  \n",
       "1        User-Cold-Start  \n",
       "2        Item-Cold_start  \n",
       "3   User-Item-cold-start  \n",
       "0                      0  \n",
       "1                      1  \n",
       "0                      0  \n",
       "0          No-cold-start  \n",
       "1        User-Cold-Start  \n",
       "2        Item-Cold_start  \n",
       "3   User-Item-cold-start  \n",
       "0                      0  \n",
       "1                      1  \n",
       "0                      0  \n",
       "0          No-cold-start  \n",
       "1        User-Cold-Start  \n",
       "2        Item-Cold_start  \n",
       "3   User-Item-cold-start  \n",
       "0                      0  \n",
       "1                      1  \n",
       "0                      0  \n",
       "\n",
       "[84 rows x 6 columns]"
      ]
     },
     "execution_count": 77,
     "metadata": {},
     "output_type": "execute_result"
    }
   ],
   "source": [
    "results_concat"
   ]
  },
  {
   "cell_type": "code",
   "execution_count": 2,
   "metadata": {},
   "outputs": [],
   "source": []
  },
  {
   "cell_type": "code",
   "execution_count": 4,
   "metadata": {},
   "outputs": [],
   "source": [
    "import pickle\n",
    "[df,dftrain,dfvalid,idx_to_user,idx_to_item,item_to_idx,user_to_idx,results_concat]=\\\n",
    "    pickle.load (open(f'{DATAPATH}/df_side_cold_runother_dnnrec.pkl','rb'))\n",
    "results_concat.to_csv(f'{PATH}/filmtrust_results.csv',index=False)"
   ]
  },
  {
   "cell_type": "code",
   "execution_count": 6,
   "metadata": {},
   "outputs": [],
   "source": []
  },
  {
   "cell_type": "code",
   "execution_count": 7,
   "metadata": {},
   "outputs": [
    {
     "data": {
      "text/plain": [
       "'/home/kirana/Documents/phd/experiment1_new/DNNREC_FilmTrust'"
      ]
     },
     "execution_count": 7,
     "metadata": {},
     "output_type": "execute_result"
    }
   ],
   "source": [
    "PATH"
   ]
  },
  {
   "cell_type": "code",
   "execution_count": null,
   "metadata": {},
   "outputs": [],
   "source": []
  }
 ],
 "metadata": {
  "kernelspec": {
   "display_name": "Python 3",
   "language": "python",
   "name": "python3"
  },
  "language_info": {
   "codemirror_mode": {
    "name": "ipython",
    "version": 3
   },
   "file_extension": ".py",
   "mimetype": "text/x-python",
   "name": "python",
   "nbconvert_exporter": "python",
   "pygments_lexer": "ipython3",
   "version": "3.7.3"
  }
 },
 "nbformat": 4,
 "nbformat_minor": 2
}
