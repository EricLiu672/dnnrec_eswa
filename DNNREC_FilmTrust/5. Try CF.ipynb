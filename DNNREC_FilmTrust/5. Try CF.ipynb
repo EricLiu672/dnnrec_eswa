{
 "cells": [
  {
   "cell_type": "code",
   "execution_count": 1,
   "metadata": {},
   "outputs": [],
   "source": [
    "PATH='/home/kirana/Documents/phd/experiment1_new/DNNREC_FilmTrust'\n",
    "DATAPATH='/home/kirana/Documents/final_dissertation_final/experiments/datasets/filmtrust'"
   ]
  },
  {
   "cell_type": "code",
   "execution_count": 2,
   "metadata": {},
   "outputs": [],
   "source": [
    "import pandas as pd\n",
    "import numpy as np\n",
    "import matplotlib.pyplot as plt\n",
    "import sklearn\n",
    "import os\n",
    "import pickle\n",
    "import torch\n",
    "from torch.utils.data import Dataset, DataLoader\n",
    "from torch import nn\n",
    "import pickle\n",
    "from sklearn import metrics"
   ]
  },
  {
   "cell_type": "code",
   "execution_count": 3,
   "metadata": {},
   "outputs": [],
   "source": [
    "[dftrain,dfvalid,results_concat]=pickle.load(open(f'{DATAPATH}/df_side_cold_runother.pkl','rb'))"
   ]
  },
  {
   "cell_type": "code",
   "execution_count": 4,
   "metadata": {},
   "outputs": [],
   "source": [
    "df=pd.concat([dftrain,dfvalid[dftrain.columns]],axis=0)"
   ]
  },
  {
   "cell_type": "code",
   "execution_count": 5,
   "metadata": {},
   "outputs": [],
   "source": [
    "user_to_idx={j:i+1 for i, j in enumerate(df['userId'].unique())}\n",
    "item_to_idx={j:i+1 for i,j in enumerate(df['itemId'].unique())}\n",
    "idx_to_user={i+1:j for i, j in enumerate(df['userId'].unique())}\n",
    "idx_to_item={i+1:j for i,j in enumerate(df['itemId'].unique())}"
   ]
  },
  {
   "cell_type": "code",
   "execution_count": 6,
   "metadata": {},
   "outputs": [],
   "source": [
    "dftrain['user_idx']=[user_to_idx[i] for i in dftrain['userId']]\n",
    "dftrain['item_idx']=[item_to_idx[i] for i in dftrain['itemId']]"
   ]
  },
  {
   "cell_type": "code",
   "execution_count": 7,
   "metadata": {},
   "outputs": [],
   "source": [
    "dfvalid['user_idx']=[user_to_idx[i] for i in dfvalid['userId']]\n",
    "dfvalid['item_idx']=[item_to_idx[i] for i in dfvalid['itemId']]"
   ]
  },
  {
   "cell_type": "code",
   "execution_count": 8,
   "metadata": {},
   "outputs": [],
   "source": [
    "pickle.dump([df, dftrain,dfvalid,idx_to_user,idx_to_item,item_to_idx,user_to_idx],open(f'{DATAPATH}/reads.pkl','wb'))"
   ]
  },
  {
   "cell_type": "markdown",
   "metadata": {},
   "source": [
    "### Dataset and DataLoader"
   ]
  },
  {
   "cell_type": "code",
   "execution_count": 9,
   "metadata": {},
   "outputs": [],
   "source": [
    "class cfdata (torch.utils.data.dataset.Dataset):\n",
    "    def __init__(self,dfX,dfY):\n",
    "        self.dfX,self.dfY=dfX,dfY\n",
    "        \n",
    "    def __len__ (self):\n",
    "        return self.dfX.shape[0]\n",
    "    \n",
    "    def __getitem__ (self, idx):\n",
    "        return torch.LongTensor(self.dfX.iloc[idx].values),torch.FloatTensor([self.dfY.values[idx]])"
   ]
  },
  {
   "cell_type": "code",
   "execution_count": 10,
   "metadata": {},
   "outputs": [],
   "source": [
    "dstrain=cfdata(dftrain[['user_idx','item_idx']],dftrain['rating'])\n",
    "dsvalid=cfdata(dfvalid[['user_idx','item_idx']],dfvalid['rating'])"
   ]
  },
  {
   "cell_type": "code",
   "execution_count": 11,
   "metadata": {},
   "outputs": [
    {
     "data": {
      "text/plain": [
       "(32036, 24)"
      ]
     },
     "execution_count": 11,
     "metadata": {},
     "output_type": "execute_result"
    }
   ],
   "source": [
    "dftrain.shape"
   ]
  },
  {
   "cell_type": "code",
   "execution_count": 12,
   "metadata": {},
   "outputs": [],
   "source": [
    "bs=32"
   ]
  },
  {
   "cell_type": "code",
   "execution_count": 13,
   "metadata": {},
   "outputs": [],
   "source": [
    "dltrain=DataLoader(dstrain,bs,True)"
   ]
  },
  {
   "cell_type": "code",
   "execution_count": 14,
   "metadata": {},
   "outputs": [],
   "source": [
    "dlvalid=DataLoader(dsvalid,bs,False)"
   ]
  },
  {
   "cell_type": "code",
   "execution_count": 15,
   "metadata": {},
   "outputs": [
    {
     "data": {
      "text/plain": [
       "(1508, 2071)"
      ]
     },
     "execution_count": 15,
     "metadata": {},
     "output_type": "execute_result"
    }
   ],
   "source": [
    "len(user_to_idx),len(item_to_idx)"
   ]
  },
  {
   "cell_type": "markdown",
   "metadata": {},
   "source": [
    "## Model Architecture"
   ]
  },
  {
   "cell_type": "code",
   "execution_count": 18,
   "metadata": {},
   "outputs": [],
   "source": [
    "n_users=len(user_to_idx)\n",
    "n_items=len(item_to_idx)\n",
    "n_emb_user=50\n",
    "n_emb_item=50\n",
    "min_rating=min(dftrain['rating'])\n",
    "max_rating=max(dftrain['rating'])\n",
    "dropout_e=0.05"
   ]
  },
  {
   "cell_type": "code",
   "execution_count": 19,
   "metadata": {},
   "outputs": [
    {
     "data": {
      "text/plain": [
       "1508"
      ]
     },
     "execution_count": 19,
     "metadata": {},
     "output_type": "execute_result"
    }
   ],
   "source": [
    "n_users"
   ]
  },
  {
   "cell_type": "code",
   "execution_count": 20,
   "metadata": {},
   "outputs": [],
   "source": [
    "class cf(nn.Module):    \n",
    "    def __init__(self,n_users,n_emb_user,n_emb_item,n_items,min_rating,max_rating,dropout_e=0.01):\n",
    "        super().__init__()\n",
    "        self.n_users,self.n_emb_user,self.n_emb_item,self.n_items,self.min_rating,self.max_rating=\\\n",
    "                    n_users,n_emb_user,n_emb_item,n_items,min_rating,max_rating\n",
    "        self.dropout_e=dropout_e\n",
    "        self.create_architecture()\n",
    "        self.init_parameters()\n",
    "        self.criterion=nn.MSELoss()\n",
    "        \n",
    "        \n",
    "    def create_architecture(self):\n",
    "        self.emb_user=nn.Embedding(self.n_users+1,self.n_emb_user)\n",
    "        self.emb_item=nn.Embedding(self.n_items+1,self.n_emb_item)\n",
    "        self.emb_dropout=nn.Dropout(self.dropout_e)\n",
    "        self.ub=nn.Embedding(self.n_users+1,1)\n",
    "        self.ib=nn.Embedding(self.n_items+1,1)\n",
    "\n",
    "        self.sigmoid=nn.Sigmoid()\n",
    "        \n",
    "        \n",
    "    def init_parameters(self):\n",
    "        nn.init.kaiming_normal_(self.emb_user.weight.data)\n",
    "        nn.init.kaiming_normal_(self.emb_item.weight.data)\n",
    "        nn.init.kaiming_normal_(self.ub.weight.data)\n",
    "        nn.init.kaiming_normal_(self.ib.weight.data)\n",
    "\n",
    "       \n",
    "    def forward (self,Xb,Yb):               \n",
    "        users=self.emb_dropout(self.emb_user(Xb[:,0]))\n",
    "        items=self.emb_dropout(self.emb_item(Xb[:,1]))\n",
    "        users_bias=self.emb_dropout(self.ub(Xb[:,0]))\n",
    "        items_bias=self.emb_dropout(self.ib(Xb[:,1]))\n",
    "\n",
    "        out=(users*items).sum(1)+users_bias.squeeze()+items_bias.squeeze()\n",
    "        out=self.sigmoid(out)\n",
    "        preds=out*(self.max_rating-self.min_rating)+self.min_rating\n",
    "        preds=preds.view(-1,1)\n",
    "        loss=self.criterion(preds,Yb)\n",
    "        return preds,loss"
   ]
  },
  {
   "cell_type": "code",
   "execution_count": 21,
   "metadata": {},
   "outputs": [
    {
     "data": {
      "text/plain": [
       "1508"
      ]
     },
     "execution_count": 21,
     "metadata": {},
     "output_type": "execute_result"
    }
   ],
   "source": [
    "n_users"
   ]
  },
  {
   "cell_type": "code",
   "execution_count": 22,
   "metadata": {},
   "outputs": [],
   "source": [
    "cfobj=cf(n_users,n_emb_user,n_emb_item,n_items,min_rating,max_rating,dropout_e)"
   ]
  },
  {
   "cell_type": "code",
   "execution_count": 23,
   "metadata": {},
   "outputs": [
    {
     "data": {
      "text/plain": [
       "cf(\n",
       "  (emb_user): Embedding(1509, 50)\n",
       "  (emb_item): Embedding(2072, 50)\n",
       "  (emb_dropout): Dropout(p=0.05)\n",
       "  (ub): Embedding(1509, 1)\n",
       "  (ib): Embedding(2072, 1)\n",
       "  (sigmoid): Sigmoid()\n",
       "  (criterion): MSELoss()\n",
       ")"
      ]
     },
     "execution_count": 23,
     "metadata": {},
     "output_type": "execute_result"
    }
   ],
   "source": [
    "cfobj"
   ]
  },
  {
   "cell_type": "code",
   "execution_count": 24,
   "metadata": {},
   "outputs": [],
   "source": [
    "for Xb, Yb in dltrain:\n",
    "    break"
   ]
  },
  {
   "cell_type": "code",
   "execution_count": 25,
   "metadata": {},
   "outputs": [
    {
     "data": {
      "text/plain": [
       "(torch.Size([32, 2]), torch.Size([32, 1]))"
      ]
     },
     "execution_count": 25,
     "metadata": {},
     "output_type": "execute_result"
    }
   ],
   "source": [
    "Xb.shape, Yb.shape"
   ]
  },
  {
   "cell_type": "code",
   "execution_count": 26,
   "metadata": {},
   "outputs": [
    {
     "data": {
      "text/plain": [
       "(tensor([[3.3524],\n",
       "         [1.4907],\n",
       "         [1.7232],\n",
       "         [0.6492],\n",
       "         [3.8112],\n",
       "         [0.8801],\n",
       "         [3.2309],\n",
       "         [3.2556],\n",
       "         [1.9324],\n",
       "         [2.4322],\n",
       "         [3.1643],\n",
       "         [3.5568],\n",
       "         [1.1630],\n",
       "         [0.9701],\n",
       "         [3.9879],\n",
       "         [0.9880],\n",
       "         [3.6226],\n",
       "         [2.1537],\n",
       "         [0.7587],\n",
       "         [1.7076],\n",
       "         [0.6362],\n",
       "         [1.0027],\n",
       "         [2.0937],\n",
       "         [1.5388],\n",
       "         [3.2540],\n",
       "         [1.1408],\n",
       "         [3.4548],\n",
       "         [1.5569],\n",
       "         [3.8452],\n",
       "         [3.3387],\n",
       "         [2.4784],\n",
       "         [2.6806]], grad_fn=<ViewBackward>),\n",
       " tensor(2.1871, grad_fn=<MseLossBackward>))"
      ]
     },
     "execution_count": 26,
     "metadata": {},
     "output_type": "execute_result"
    }
   ],
   "source": [
    "cfobj.forward(Xb,Yb)"
   ]
  },
  {
   "cell_type": "markdown",
   "metadata": {},
   "source": [
    "## Learner"
   ]
  },
  {
   "cell_type": "code",
   "execution_count": 27,
   "metadata": {},
   "outputs": [],
   "source": [
    "class Learner():\n",
    "    def __init__(self,model,optimizer,metric_fn,device,bptt=12,print_every=5,clip_val=None,\\\n",
    "                 cycle_mult=0,lr_decay=0.7,wd_mult=1.1,start_lr=2e-2, end_lr=5e-4,error_type=\"mse\"):\n",
    "        self.model,self.optimizer,self.metric_fn,self.device,self.print_every,self.bptt,self.losses,self.clip_val=\\\n",
    "            model,optimizer,metric_fn,device,print_every,bptt,[],clip_val\n",
    "        self.n_epochs=1\n",
    "        self.cycle_mult,self.lr_decay=cycle_mult,lr_decay\n",
    "        self.wd_mult=wd_mult\n",
    "        for param_group in self.optimizer.param_groups:\n",
    "            self.start_lr=param_group['lr']\n",
    "            self.start_wd=param_group['weight_decay']\n",
    "        self.wd=self.start_wd\n",
    "        self.lr=self.start_lr\n",
    "        self.end_lr=end_lr\n",
    "        self.n_epoch=0\n",
    "        self.lrs=[1e-2,5e-3,1e-4,5e-4]\n",
    "        self.preds,self.preds_valid,self.trainY,self.actual=[],[],[],[]\n",
    "        self.ratio=self.end_lr/self.start_lr\n",
    "        self.num_steps=self.cycle_mult\n",
    "        self.reset_cycle=self.cycle_mult\n",
    "        self.error_type=error_type\n",
    "        self.scores=[]\n",
    "        self.generate_scores=False\n",
    "        \n",
    "    def fit (self,Xb,Yb,mode_train=True):\n",
    "        if mode_train:\n",
    "            self.model.train()\n",
    "        else:\n",
    "            self.model.eval()\n",
    "        \n",
    "        #import pdb\n",
    "        #pdb.set_trace()\n",
    "        preds,loss=self.model(Xb,Yb)\n",
    "\n",
    "     \n",
    "        if mode_train:\n",
    "            if 1==0:\n",
    "                lr =self.lrs[torch.randint(0,4,(1,))]\n",
    "                for param_group in self.optimizer.param_groups:\n",
    "                    param_group['lr']=lr\n",
    "            \n",
    "            self.optimizer.zero_grad()\n",
    "            loss.backward()\n",
    "            self.optimizer.step()\n",
    "        myloss=loss.item()\n",
    "    \n",
    "        \n",
    "        with torch.no_grad():\n",
    "            if self.error_type == \"mse\":\n",
    "                acc=nn.L1Loss() (preds,Yb)\n",
    "                myrmse=np.sqrt(myloss)\n",
    "            else:\n",
    "                acc=nn.MSELoss() (preds,Yb)\n",
    "                myrmse=np.sqrt(acc.item())\n",
    "            acc=acc.item()\n",
    "                 \n",
    "        if mode_train==False:\n",
    "            if self.generate_scores:\n",
    "                self.scores.append(preds.detach().cpu().numpy().flatten())\n",
    "        del preds\n",
    "        del loss\n",
    "        \n",
    "        if self.clip_val is not None:\n",
    "            torch.nn.utils.clip_grad_norm_(self.model.parameters(), self.clip_val)\n",
    "        \n",
    "        return myloss, acc, myrmse\n",
    "    \n",
    "    def lr_find (self,start_lr,end_lr,iterator,n_batch):\n",
    "        losses,lrs=[],[]\n",
    "        ratio=end_lr/start_lr\n",
    "        num_steps=n_batch\n",
    "        lr=start_lr\n",
    "        for i in range(num_steps):            \n",
    "            lr=lr*(end_lr/start_lr)**(1/num_steps)\n",
    "            lrs.append(lr)\n",
    "        self.lrs=lrs\n",
    "        self.run_epoch(iterator,mode_train=True,lrs=lrs)\n",
    "    \n",
    "    def run_epoch(self,iterator,mode_train,lrs=None):\n",
    "        epoch_loss,epoch_acc,i,k=0,0,0,0\n",
    "        epoch_rmse=0\n",
    "\n",
    "        for Xb,Yb in iterator:\n",
    "            Xb=Xb.to(self.device)\n",
    "            Yb=Yb.to(self.device)\n",
    "            \n",
    "            if lrs is not None:\n",
    "                lr=lrs[k]\n",
    "                for param_group in self.optimizer.param_groups:\n",
    "                    param_group['lr']=lr \n",
    "            \n",
    "            loss,acc,myrmse=self.fit(Xb,Yb,mode_train)\n",
    "            \n",
    "            if lrs is not None:\n",
    "                self.losses.append(loss)\n",
    "\n",
    "            epoch_loss+=loss\n",
    "            epoch_acc+=acc\n",
    "            epoch_rmse+=myrmse\n",
    "            \n",
    "            k=k+1\n",
    "            if k%self.print_every == 0:\n",
    "                if k:\n",
    "                    print (f'Batch:{k} {epoch_loss/(k)}  ')  \n",
    "                    torch.cuda.empty_cache()\n",
    "\n",
    "        epoch_loss=epoch_loss/len(iterator)\n",
    "        epoch_acc=epoch_acc/len(iterator)\n",
    "        epoch_rmse=epoch_rmse/len(iterator)\n",
    "            \n",
    "        return epoch_loss,epoch_acc,epoch_rmse\n",
    "    \n",
    "    def plot_lrs(self, n_roll=1,ylim=None,xlim=None):\n",
    "        import seaborn as sns\n",
    "        ax=sns.lineplot(x=self.lrs,y=pd.Series(self.losses).rolling(n_roll).mean())\n",
    "        ax.set_xscale('log')\n",
    "        ax.set_ylabel('Loss')\n",
    "        ax.set_xlabel('Learning Rate')\n",
    "        if ylim is not None:\n",
    "            plt.ylim(ylim)\n",
    "        if xlim is not None:\n",
    "            plt.xlim(xlim)\n",
    "\n",
    "     \n",
    "    def run_epochs(self,dltrain,dlvalid,n_epochs=1):              \n",
    "        for epoch in range(n_epochs):                \n",
    "            loss,acc,rmse=self.run_epoch(dltrain,True)\n",
    "\n",
    "            lossv,accv,rmsev=self.run_epoch(dlvalid,mode_train=False)\n",
    "           \n",
    "            if self.error_type==\"mse\":\n",
    "                loss_mse=loss\n",
    "                loss_rmse=rmse\n",
    "                loss_mae=acc\n",
    "                lossv_mse=lossv\n",
    "                lossv_rmse=rmsev\n",
    "                lossv_mae=accv\n",
    "                \n",
    "            else:\n",
    "                loss_mse=acc\n",
    "                loss_rmse=rmse\n",
    "                loss_mae=loss\n",
    "                lossv_mse=accv\n",
    "                lossv_rmse=rmsev\n",
    "                lossv_mae=lossv\n",
    "            \n",
    "            print (f'Epoch:{epoch} Learning rate {self.lr} Weight Decay {self.wd} Train Loss:{loss} \\\n",
    "                Valid Loss:{lossv} Train RMSE:{loss_rmse} Valid RMSE:{lossv_rmse} Train MSE:{loss_mse} Valid MSE:{lossv_mse} \\\n",
    "                Train MAE:{loss_mae} Valid MAE:{lossv_mae}')\n",
    "\n",
    "              \n",
    "         \n",
    "     \n",
    "            if self.cycle_mult:\n",
    "                if self.n_epoch==self.reset_cycle:\n",
    "                    self.lr=self.start_lr\n",
    "                    self.wd=self.start_wd\n",
    "                    self.reset_cycle*=self.cycle_mult\n",
    "                    #reset_cycle=self.n_epoch+reset_cycle\n",
    "                    self.n_epoch=0\n",
    "                    self.ratio=self.end_lr/self.start_lr\n",
    "                    self.num_steps=self.reset_cycle\n",
    "                else:\n",
    "                    #self.lr*=(self.lr_decay**self.n_epoch)  \n",
    "                    #if self.n_epoch>1:\n",
    "                    self.wd*=self.wd_mult\n",
    "                    self.lr=self.lr*(self.end_lr/self.start_lr)**(1/self.num_steps)\n",
    "                    self.n_epoch+=1\n",
    "        \n",
    "\n",
    "                \n",
    "            for param_group in self.optimizer.param_groups:\n",
    "                param_group['lr']=self.lr\n",
    "                param_group['weight_decay']=self.wd\n",
    "          \n",
    "     "
   ]
  },
  {
   "cell_type": "code",
   "execution_count": 28,
   "metadata": {},
   "outputs": [],
   "source": [
    "if 1==1:\n",
    "    del cfobj\n",
    "    torch.cuda.empty_cache()"
   ]
  },
  {
   "cell_type": "code",
   "execution_count": 29,
   "metadata": {},
   "outputs": [],
   "source": [
    "device='cuda:0'"
   ]
  },
  {
   "cell_type": "code",
   "execution_count": 30,
   "metadata": {},
   "outputs": [],
   "source": [
    "cfobj=cf(n_users,n_emb_user,n_emb_item,n_items,min_rating,max_rating,dropout_e)"
   ]
  },
  {
   "cell_type": "code",
   "execution_count": 31,
   "metadata": {},
   "outputs": [],
   "source": [
    "cfobj=cfobj.to(device)"
   ]
  },
  {
   "cell_type": "code",
   "execution_count": 32,
   "metadata": {},
   "outputs": [
    {
     "data": {
      "text/plain": [
       "cf(\n",
       "  (emb_user): Embedding(1509, 50)\n",
       "  (emb_item): Embedding(2072, 50)\n",
       "  (emb_dropout): Dropout(p=0.05)\n",
       "  (ub): Embedding(1509, 1)\n",
       "  (ib): Embedding(2072, 1)\n",
       "  (sigmoid): Sigmoid()\n",
       "  (criterion): MSELoss()\n",
       ")"
      ]
     },
     "execution_count": 32,
     "metadata": {},
     "output_type": "execute_result"
    }
   ],
   "source": [
    "cfobj"
   ]
  },
  {
   "cell_type": "code",
   "execution_count": 33,
   "metadata": {},
   "outputs": [
    {
     "data": {
      "text/plain": [
       "1002"
      ]
     },
     "execution_count": 33,
     "metadata": {},
     "output_type": "execute_result"
    }
   ],
   "source": [
    "len(dltrain)"
   ]
  },
  {
   "cell_type": "code",
   "execution_count": 34,
   "metadata": {},
   "outputs": [],
   "source": [
    "wd=1e-4\n",
    "optimizer=torch.optim.Adam(cfobj.parameters(),lr=5e-3,betas=(0.9,0.999), weight_decay=wd)\n",
    "learner=Learner(cfobj,optimizer,None,device,0,5000,0.25,cycle_mult=0)"
   ]
  },
  {
   "cell_type": "code",
   "execution_count": 35,
   "metadata": {},
   "outputs": [],
   "source": [
    "learner.lr_find(1e-4,1e-1,dltrain,len(dltrain))"
   ]
  },
  {
   "cell_type": "code",
   "execution_count": 36,
   "metadata": {},
   "outputs": [
    {
     "data": {
      "image/png": "[encoded data removed]",
      "text/plain": [
       "<Figure size 432x288 with 1 Axes>"
      ]
     },
     "metadata": {
      "needs_background": "light"
     },
     "output_type": "display_data"
    }
   ],
   "source": [
    "learner.plot_lrs(100)"
   ]
  },
  {
   "cell_type": "code",
   "execution_count": 37,
   "metadata": {},
   "outputs": [
    {
     "data": {
      "image/png": "[encoded data removed]",
      "text/plain": [
       "<Figure size 432x288 with 1 Axes>"
      ]
     },
     "metadata": {
      "needs_background": "light"
     },
     "output_type": "display_data"
    }
   ],
   "source": [
    "learner.plot_lrs(10)"
   ]
  },
  {
   "cell_type": "code",
   "execution_count": 38,
   "metadata": {},
   "outputs": [
    {
     "data": {
      "image/png": "[encoded data removed]",
      "text/plain": [
       "<Figure size 432x288 with 1 Axes>"
      ]
     },
     "metadata": {
      "needs_background": "light"
     },
     "output_type": "display_data"
    }
   ],
   "source": [
    "learner.plot_lrs(1)"
   ]
  },
  {
   "cell_type": "code",
   "execution_count": 39,
   "metadata": {},
   "outputs": [],
   "source": [
    "del cfobj\n",
    "torch.cuda.empty_cache()"
   ]
  },
  {
   "cell_type": "code",
   "execution_count": 40,
   "metadata": {},
   "outputs": [],
   "source": [
    "wd=1e-4"
   ]
  },
  {
   "cell_type": "code",
   "execution_count": 41,
   "metadata": {},
   "outputs": [],
   "source": [
    "cfobj=cf(n_users,n_emb_user,n_emb_item,n_items,min_rating,max_rating,dropout_e)\n",
    "cfobj=cfobj.to(device)"
   ]
  },
  {
   "cell_type": "code",
   "execution_count": 42,
   "metadata": {},
   "outputs": [
    {
     "data": {
      "text/plain": [
       "'cuda:0'"
      ]
     },
     "execution_count": 42,
     "metadata": {},
     "output_type": "execute_result"
    }
   ],
   "source": [
    "device"
   ]
  },
  {
   "cell_type": "code",
   "execution_count": 43,
   "metadata": {},
   "outputs": [],
   "source": [
    "optimizer=torch.optim.Adam(cfobj.parameters(),lr=5e-2,betas=(0.9,0.999), weight_decay=wd)\n",
    "learner=Learner(cfobj,optimizer,None,device,0,16000,0.25,cycle_mult=2,start_lr=5e-2,end_lr=5e-3,wd_mult=1.2)"
   ]
  },
  {
   "cell_type": "code",
   "execution_count": 44,
   "metadata": {},
   "outputs": [
    {
     "name": "stdout",
     "output_type": "stream",
     "text": [
      "Epoch:0 Learning rate 0.05 Weight Decay 0.0001 Train Loss:1.6645289722554937                 Valid Loss:1.614669345387625 Train RMSE:1.2776946438461187 Valid RMSE:1.2564828374458297 Train MSE:1.6645289722554937 Valid MSE:1.614669345387625                 Train MAE:0.9817671498019777 Valid MAE:0.9501246432645605\n",
      "Epoch:1 Learning rate 0.0158113883008419 Weight Decay 0.00012 Train Loss:1.2782336351519334                 Valid Loss:1.1588815007734736 Train RMSE:1.1187570362373929 Valid RMSE:1.0640427972914621 Train MSE:1.2782336351519334 Valid MSE:1.1588815007734736                 Train MAE:0.834663455833694 Valid MAE:0.8099677338512665\n",
      "Epoch:2 Learning rate 0.005000000000000001 Weight Decay 0.000144 Train Loss:0.7649610397552777                 Valid Loss:0.9311691921785337 Train RMSE:0.8630875777329238 Valid RMSE:0.9536796536531897 Train MSE:0.7649610397552777 Valid MSE:0.9311691921785337                 Train MAE:0.6410702225155459 Valid MAE:0.7295865331767896\n",
      "Epoch:3 Learning rate 0.05 Weight Decay 0.0001 Train Loss:1.6825428344978544                 Valid Loss:1.8449735275102317 Train RMSE:1.273356724957668 Valid RMSE:1.3409306397995497 Train MSE:1.6825428344978544 Valid MSE:1.8449735275102317                 Train MAE:0.9616846200413333 Valid MAE:1.0088769438069896\n",
      "Epoch:4 Learning rate 0.028117066259517456 Weight Decay 0.00012 Train Loss:1.4888055547625718                 Valid Loss:1.3872375428129773 Train RMSE:1.2089356946431955 Valid RMSE:1.1646995962867497 Train MSE:1.4888055547625718 Valid MSE:1.3872375428129773                 Train MAE:0.9036389708875896 Valid MAE:0.8693900753598695\n",
      "Epoch:5 Learning rate 0.015811388300841896 Weight Decay 0.000144 Train Loss:1.032821838816483                 Valid Loss:0.9774024874792187 Train RMSE:1.0031132861480918 Valid RMSE:0.9744790986022847 Train MSE:1.032821838816483 Valid MSE:0.9774024874792187                 Train MAE:0.749877726038297 Valid MAE:0.7404648872143632\n",
      "Epoch:6 Learning rate 0.008891397050194613 Weight Decay 0.0001728 Train Loss:0.5620186528908516                 Valid Loss:0.724611406205991 Train RMSE:0.7392850297662109 Valid RMSE:0.8408449057672414 Train MSE:0.5620186528908516 Valid MSE:0.724611406205991                 Train MAE:0.5621928620540692 Valid MAE:0.6619271059101874\n",
      "Epoch:7 Learning rate 0.004999999999999999 Weight Decay 0.00020736 Train Loss:0.35482081968686774                 Valid Loss:0.6840656938355997 Train RMSE:0.5881067132049327 Valid RMSE:0.8173151348421873 Train MSE:0.35482081968686774 Valid MSE:0.6840656938355997                 Train MAE:0.46129206202165807 Valid MAE:0.6534994936317479\n",
      "Epoch:8 Learning rate 0.05 Weight Decay 0.0001 Train Loss:1.894924582865186                 Valid Loss:1.9032360452030777 Train RMSE:1.3465795079712501 Valid RMSE:1.3621266380036385 Train MSE:1.894924582865186 Valid MSE:1.9032360452030777                 Train MAE:1.0257522805543717 Valid MAE:1.0256923497270007\n",
      "Epoch:9 Learning rate 0.037494710466622796 Weight Decay 0.00012 Train Loss:1.6075324377494895                 Valid Loss:1.575397680658813 Train RMSE:1.256089550845903 Valid RMSE:1.2389106023591363 Train MSE:1.6075324377494895 Valid MSE:1.575397680658813                 Train MAE:0.939269804787969 Valid MAE:0.9336330125091272\n",
      "Epoch:10 Learning rate 0.02811706625951746 Weight Decay 0.000144 Train Loss:1.269052872549512                 Valid Loss:1.181754126461274 Train RMSE:1.1158783144958266 Valid RMSE:1.0756577815587385 Train MSE:1.269052872549512 Valid MSE:1.181754126461274                 Train MAE:0.83516679722035 Valid MAE:0.8143422505177489\n",
      "Epoch:11 Learning rate 0.02108482517142912 Weight Decay 0.0001728 Train Loss:0.8214266802557928                 Valid Loss:0.8382912975385648 Train RMSE:0.8955032880484457 Valid RMSE:0.9059119437178972 Train MSE:0.8214266802557928 Valid MSE:0.8382912975385648                 Train MAE:0.6826879078756549 Valid MAE:0.7064276121625113\n",
      "Epoch:12 Learning rate 0.015811388300841903 Weight Decay 0.00020736 Train Loss:0.5561195628758439                 Valid Loss:0.7373494369174363 Train RMSE:0.7376151392593927 Valid RMSE:0.8484833530059404 Train MSE:0.5561195628758439 Valid MSE:0.7373494369174363                 Train MAE:0.5790729056932256 Valid MAE:0.6763723323104578\n",
      "Epoch:13 Learning rate 0.011856868528308282 Weight Decay 0.000248832 Train Loss:0.4950539539465885                 Valid Loss:0.7094664086989306 Train RMSE:0.6954407326720878 Valid RMSE:0.8323128094438639 Train MSE:0.4950539539465885 Valid MSE:0.7094664086989306                 Train MAE:0.5503796580546868 Valid MAE:0.6695108014509219\n",
      "Epoch:14 Learning rate 0.008891397050194618 Weight Decay 0.0002985984 Train Loss:0.4658317373333101                 Valid Loss:0.690708445299656 Train RMSE:0.6736278568653099 Valid RMSE:0.8222317230776445 Train MSE:0.4658317373333101 Valid MSE:0.690708445299656                 Train MAE:0.5384868298045652 Valid MAE:0.6658135540441635\n",
      "Epoch:15 Learning rate 0.006667607160816624 Weight Decay 0.00035831808 Train Loss:0.44776076448713237                 Valid Loss:0.6817921971509217 Train RMSE:0.6610187901134342 Valid RMSE:0.8159035073555909 Train MSE:0.44776076448713237 Valid MSE:0.6817921971509217                 Train MAE:0.5300217514147539 Valid MAE:0.6616081401295618\n"
     ]
    }
   ],
   "source": [
    "learner.run_epochs(dltrain,dlvalid,16)"
   ]
  },
  {
   "cell_type": "code",
   "execution_count": 45,
   "metadata": {},
   "outputs": [],
   "source": [
    "learner.generate_scores=True"
   ]
  },
  {
   "cell_type": "code",
   "execution_count": 46,
   "metadata": {},
   "outputs": [
    {
     "data": {
      "text/plain": [
       "(0.6817921971509217, 0.6616081401295618, 0.8159035073555909)"
      ]
     },
     "execution_count": 46,
     "metadata": {},
     "output_type": "execute_result"
    }
   ],
   "source": [
    "learner.run_epoch(dlvalid,False)"
   ]
  },
  {
   "cell_type": "code",
   "execution_count": 47,
   "metadata": {},
   "outputs": [
    {
     "data": {
      "text/plain": [
       "array([2.061562 , 3.5026479, 3.058094 , ..., 2.7815378, 2.7169743,\n",
       "       2.3909013], dtype=float32)"
      ]
     },
     "execution_count": 47,
     "metadata": {},
     "output_type": "execute_result"
    }
   ],
   "source": [
    "np.concatenate(learner.scores)"
   ]
  },
  {
   "cell_type": "code",
   "execution_count": 48,
   "metadata": {},
   "outputs": [],
   "source": [
    "dfvalid['pred_cf']=np.concatenate(learner.scores)"
   ]
  },
  {
   "cell_type": "code",
   "execution_count": 49,
   "metadata": {},
   "outputs": [
    {
     "data": {
      "text/plain": [
       "0.8244462447232579"
      ]
     },
     "execution_count": 49,
     "metadata": {},
     "output_type": "execute_result"
    }
   ],
   "source": [
    "np.sqrt(metrics.mean_squared_error(dfvalid['rating'],dfvalid['pred_cf']))"
   ]
  },
  {
   "cell_type": "code",
   "execution_count": 50,
   "metadata": {},
   "outputs": [],
   "source": [
    "def score_by_group (dfvalid,predVar,groupVar='cold_start_group',method='global_avg'):\n",
    "    scores=[]\n",
    "    mae_scores=[]\n",
    "    rmse_scores=[]\n",
    "    r2_scores=[]\n",
    "    groups=dfvalid[groupVar].value_counts().index.tolist()\n",
    "    for group in groups:\n",
    "        df=dfvalid.loc[dfvalid[groupVar]==group]\n",
    "        actual=df['rating']\n",
    "        score=metrics.mean_squared_error(df['rating'],df[predVar])\n",
    "        rmse_score=np.sqrt(metrics.mean_squared_error(df['rating'],df[predVar]))\n",
    "        mae_score=metrics.mean_absolute_error(df['rating'],df[predVar])\n",
    "        r2_score=metrics.r2_score(df['rating'],df[predVar])\n",
    "        scores.append(score)\n",
    "        mae_scores.append(mae_score)\n",
    "        rmse_scores.append(rmse_score)\n",
    "        r2_scores.append(r2_score)\n",
    "    return pd.DataFrame({'method':method, 'mse':scores, 'rmse':rmse_scores, 'mae':mae_scores, 'r2_score':r2_scores, 'Cold Start Group':groups})"
   ]
  },
  {
   "cell_type": "code",
   "execution_count": 51,
   "metadata": {},
   "outputs": [
    {
     "data": {
      "text/html": [
       "<div>\n",
       "<style scoped>\n",
       "    .dataframe tbody tr th:only-of-type {\n",
       "        vertical-align: middle;\n",
       "    }\n",
       "\n",
       "    .dataframe tbody tr th {\n",
       "        vertical-align: top;\n",
       "    }\n",
       "\n",
       "    .dataframe thead th {\n",
       "        text-align: right;\n",
       "    }\n",
       "</style>\n",
       "<table border=\"1\" class=\"dataframe\">\n",
       "  <thead>\n",
       "    <tr style=\"text-align: right;\">\n",
       "      <th></th>\n",
       "      <th>method</th>\n",
       "      <th>mse</th>\n",
       "      <th>rmse</th>\n",
       "      <th>mae</th>\n",
       "      <th>r2_score</th>\n",
       "      <th>Cold Start Group</th>\n",
       "    </tr>\n",
       "  </thead>\n",
       "  <tbody>\n",
       "    <tr>\n",
       "      <th>0</th>\n",
       "      <td>cf</td>\n",
       "      <td>0.639133</td>\n",
       "      <td>0.799458</td>\n",
       "      <td>0.636051</td>\n",
       "      <td>0.216071</td>\n",
       "      <td>No-cold-start</td>\n",
       "    </tr>\n",
       "    <tr>\n",
       "      <th>1</th>\n",
       "      <td>cf</td>\n",
       "      <td>1.026170</td>\n",
       "      <td>1.013001</td>\n",
       "      <td>0.866401</td>\n",
       "      <td>-0.018092</td>\n",
       "      <td>User-Cold-Start</td>\n",
       "    </tr>\n",
       "    <tr>\n",
       "      <th>2</th>\n",
       "      <td>cf</td>\n",
       "      <td>1.083329</td>\n",
       "      <td>1.040831</td>\n",
       "      <td>0.843148</td>\n",
       "      <td>-0.161179</td>\n",
       "      <td>Item-Cold_start</td>\n",
       "    </tr>\n",
       "    <tr>\n",
       "      <th>3</th>\n",
       "      <td>cf</td>\n",
       "      <td>1.162469</td>\n",
       "      <td>1.078179</td>\n",
       "      <td>0.916640</td>\n",
       "      <td>-0.002129</td>\n",
       "      <td>User-Item-cold-start</td>\n",
       "    </tr>\n",
       "    <tr>\n",
       "      <th>0</th>\n",
       "      <td>cf</td>\n",
       "      <td>0.639133</td>\n",
       "      <td>0.799458</td>\n",
       "      <td>0.636051</td>\n",
       "      <td>0.216071</td>\n",
       "      <td>0</td>\n",
       "    </tr>\n",
       "    <tr>\n",
       "      <th>1</th>\n",
       "      <td>cf</td>\n",
       "      <td>1.041200</td>\n",
       "      <td>1.020392</td>\n",
       "      <td>0.864829</td>\n",
       "      <td>-0.017500</td>\n",
       "      <td>1</td>\n",
       "    </tr>\n",
       "    <tr>\n",
       "      <th>0</th>\n",
       "      <td>cf</td>\n",
       "      <td>0.679712</td>\n",
       "      <td>0.824446</td>\n",
       "      <td>0.659140</td>\n",
       "      <td>0.187477</td>\n",
       "      <td>0</td>\n",
       "    </tr>\n",
       "  </tbody>\n",
       "</table>\n",
       "</div>"
      ],
      "text/plain": [
       "  method       mse      rmse       mae  r2_score      Cold Start Group\n",
       "0     cf  0.639133  0.799458  0.636051  0.216071         No-cold-start\n",
       "1     cf  1.026170  1.013001  0.866401 -0.018092       User-Cold-Start\n",
       "2     cf  1.083329  1.040831  0.843148 -0.161179       Item-Cold_start\n",
       "3     cf  1.162469  1.078179  0.916640 -0.002129  User-Item-cold-start\n",
       "0     cf  0.639133  0.799458  0.636051  0.216071                     0\n",
       "1     cf  1.041200  1.020392  0.864829 -0.017500                     1\n",
       "0     cf  0.679712  0.824446  0.659140  0.187477                     0"
      ]
     },
     "execution_count": 51,
     "metadata": {},
     "output_type": "execute_result"
    }
   ],
   "source": [
    "result_cf=pd.concat([score_by_group(dfvalid,'pred_cf','cold_start_group','cf'),score_by_group(dfvalid,'pred_cf','cold_start_bucket','cf'),\\\n",
    "score_by_group(dfvalid,'pred_cf','flag_train','cf')],axis=0)\n",
    "result_cf"
   ]
  },
  {
   "cell_type": "code",
   "execution_count": 52,
   "metadata": {},
   "outputs": [],
   "source": [
    "mtx_user_emb=cfobj.emb_user.weight.data.cpu().numpy()\n",
    "mtx_item_emb=cfobj.emb_item.weight.data.cpu().numpy()"
   ]
  },
  {
   "cell_type": "code",
   "execution_count": 53,
   "metadata": {},
   "outputs": [],
   "source": [
    "user_bias_emb=cfobj.ub.weight.data.cpu().numpy()\n",
    "item_bias_emb=cfobj.ib.weight.data.cpu().numpy()"
   ]
  },
  {
   "cell_type": "code",
   "execution_count": 54,
   "metadata": {},
   "outputs": [
    {
     "data": {
      "text/plain": [
       "((1509, 50), (2072, 50), (1509, 1), (2072, 1))"
      ]
     },
     "execution_count": 54,
     "metadata": {},
     "output_type": "execute_result"
    }
   ],
   "source": [
    "mtx_user_emb.shape, mtx_item_emb.shape, user_bias_emb.shape, item_bias_emb.shape"
   ]
  },
  {
   "cell_type": "code",
   "execution_count": 55,
   "metadata": {},
   "outputs": [],
   "source": [
    "pickle.dump([mtx_user_emb,mtx_item_emb,user_bias_emb,item_bias_emb],open(f'{DATAPATH}/wts_embs','wb'))"
   ]
  },
  {
   "cell_type": "code",
   "execution_count": 56,
   "metadata": {},
   "outputs": [
    {
     "data": {
      "text/plain": [
       "(70, 6)"
      ]
     },
     "execution_count": 56,
     "metadata": {},
     "output_type": "execute_result"
    }
   ],
   "source": [
    "results_concat.shape"
   ]
  },
  {
   "cell_type": "code",
   "execution_count": 57,
   "metadata": {},
   "outputs": [],
   "source": [
    "results_concat=pd.concat([results_concat,result_cf],axis=0)"
   ]
  },
  {
   "cell_type": "code",
   "execution_count": 58,
   "metadata": {},
   "outputs": [],
   "source": [
    "pickle.dump([df,dftrain,dfvalid,idx_to_user,idx_to_item,item_to_idx,user_to_idx,results_concat],open(f'{DATAPATH}/df_side_cold_runother_cf.pkl','wb'))"
   ]
  },
  {
   "cell_type": "code",
   "execution_count": 59,
   "metadata": {},
   "outputs": [
    {
     "data": {
      "text/html": [
       "<div>\n",
       "<style scoped>\n",
       "    .dataframe tbody tr th:only-of-type {\n",
       "        vertical-align: middle;\n",
       "    }\n",
       "\n",
       "    .dataframe tbody tr th {\n",
       "        vertical-align: top;\n",
       "    }\n",
       "\n",
       "    .dataframe thead th {\n",
       "        text-align: right;\n",
       "    }\n",
       "</style>\n",
       "<table border=\"1\" class=\"dataframe\">\n",
       "  <thead>\n",
       "    <tr style=\"text-align: right;\">\n",
       "      <th></th>\n",
       "      <th>method</th>\n",
       "      <th>mse</th>\n",
       "      <th>rmse</th>\n",
       "      <th>mae</th>\n",
       "      <th>r2_score</th>\n",
       "      <th>Cold Start Group</th>\n",
       "    </tr>\n",
       "  </thead>\n",
       "  <tbody>\n",
       "    <tr>\n",
       "      <th>0</th>\n",
       "      <td>biasedmatrixfactorization</td>\n",
       "      <td>0.638513</td>\n",
       "      <td>0.799070</td>\n",
       "      <td>0.622871</td>\n",
       "      <td>0.216831</td>\n",
       "      <td>No-cold-start</td>\n",
       "    </tr>\n",
       "    <tr>\n",
       "      <th>1</th>\n",
       "      <td>biasedmatrixfactorization</td>\n",
       "      <td>0.925556</td>\n",
       "      <td>0.962058</td>\n",
       "      <td>0.771413</td>\n",
       "      <td>0.081731</td>\n",
       "      <td>User-Cold-Start</td>\n",
       "    </tr>\n",
       "    <tr>\n",
       "      <th>2</th>\n",
       "      <td>biasedmatrixfactorization</td>\n",
       "      <td>1.016274</td>\n",
       "      <td>1.008104</td>\n",
       "      <td>0.775404</td>\n",
       "      <td>-0.089305</td>\n",
       "      <td>Item-Cold_start</td>\n",
       "    </tr>\n",
       "    <tr>\n",
       "      <th>3</th>\n",
       "      <td>biasedmatrixfactorization</td>\n",
       "      <td>1.649868</td>\n",
       "      <td>1.284472</td>\n",
       "      <td>1.099969</td>\n",
       "      <td>-0.422300</td>\n",
       "      <td>User-Item-cold-start</td>\n",
       "    </tr>\n",
       "    <tr>\n",
       "      <th>0</th>\n",
       "      <td>biasedmatrixfactorization</td>\n",
       "      <td>0.638513</td>\n",
       "      <td>0.799070</td>\n",
       "      <td>0.622871</td>\n",
       "      <td>0.216831</td>\n",
       "      <td>0</td>\n",
       "    </tr>\n",
       "    <tr>\n",
       "      <th>1</th>\n",
       "      <td>biasedmatrixfactorization</td>\n",
       "      <td>0.971243</td>\n",
       "      <td>0.985517</td>\n",
       "      <td>0.786175</td>\n",
       "      <td>0.050864</td>\n",
       "      <td>1</td>\n",
       "    </tr>\n",
       "    <tr>\n",
       "      <th>0</th>\n",
       "      <td>biasedmatrixfactorization</td>\n",
       "      <td>0.672094</td>\n",
       "      <td>0.819813</td>\n",
       "      <td>0.639352</td>\n",
       "      <td>0.196583</td>\n",
       "      <td>0</td>\n",
       "    </tr>\n",
       "    <tr>\n",
       "      <th>0</th>\n",
       "      <td>svdplusplus</td>\n",
       "      <td>0.648519</td>\n",
       "      <td>0.805307</td>\n",
       "      <td>0.643882</td>\n",
       "      <td>0.204558</td>\n",
       "      <td>No-cold-start</td>\n",
       "    </tr>\n",
       "    <tr>\n",
       "      <th>1</th>\n",
       "      <td>svdplusplus</td>\n",
       "      <td>0.939454</td>\n",
       "      <td>0.969254</td>\n",
       "      <td>0.780966</td>\n",
       "      <td>0.067942</td>\n",
       "      <td>User-Cold-Start</td>\n",
       "    </tr>\n",
       "    <tr>\n",
       "      <th>2</th>\n",
       "      <td>svdplusplus</td>\n",
       "      <td>0.964594</td>\n",
       "      <td>0.982138</td>\n",
       "      <td>0.773659</td>\n",
       "      <td>-0.033912</td>\n",
       "      <td>Item-Cold_start</td>\n",
       "    </tr>\n",
       "    <tr>\n",
       "      <th>3</th>\n",
       "      <td>svdplusplus</td>\n",
       "      <td>1.649868</td>\n",
       "      <td>1.284472</td>\n",
       "      <td>1.099969</td>\n",
       "      <td>-0.422300</td>\n",
       "      <td>User-Item-cold-start</td>\n",
       "    </tr>\n",
       "    <tr>\n",
       "      <th>0</th>\n",
       "      <td>svdplusplus</td>\n",
       "      <td>0.648519</td>\n",
       "      <td>0.805307</td>\n",
       "      <td>0.643882</td>\n",
       "      <td>0.204558</td>\n",
       "      <td>0</td>\n",
       "    </tr>\n",
       "    <tr>\n",
       "      <th>1</th>\n",
       "      <td>svdplusplus</td>\n",
       "      <td>0.974022</td>\n",
       "      <td>0.986925</td>\n",
       "      <td>0.793504</td>\n",
       "      <td>0.048149</td>\n",
       "      <td>1</td>\n",
       "    </tr>\n",
       "    <tr>\n",
       "      <th>0</th>\n",
       "      <td>svdplusplus</td>\n",
       "      <td>0.681370</td>\n",
       "      <td>0.825452</td>\n",
       "      <td>0.658983</td>\n",
       "      <td>0.185494</td>\n",
       "      <td>0</td>\n",
       "    </tr>\n",
       "    <tr>\n",
       "      <th>0</th>\n",
       "      <td>svd</td>\n",
       "      <td>0.683698</td>\n",
       "      <td>0.826860</td>\n",
       "      <td>0.634292</td>\n",
       "      <td>0.161409</td>\n",
       "      <td>No-cold-start</td>\n",
       "    </tr>\n",
       "    <tr>\n",
       "      <th>1</th>\n",
       "      <td>svd</td>\n",
       "      <td>1.008096</td>\n",
       "      <td>1.004040</td>\n",
       "      <td>0.800394</td>\n",
       "      <td>-0.000160</td>\n",
       "      <td>User-Cold-Start</td>\n",
       "    </tr>\n",
       "    <tr>\n",
       "      <th>2</th>\n",
       "      <td>svd</td>\n",
       "      <td>0.933037</td>\n",
       "      <td>0.965939</td>\n",
       "      <td>0.758959</td>\n",
       "      <td>-0.000087</td>\n",
       "      <td>Item-Cold_start</td>\n",
       "    </tr>\n",
       "    <tr>\n",
       "      <th>3</th>\n",
       "      <td>svd</td>\n",
       "      <td>1.649868</td>\n",
       "      <td>1.284472</td>\n",
       "      <td>1.099969</td>\n",
       "      <td>-0.422300</td>\n",
       "      <td>User-Item-cold-start</td>\n",
       "    </tr>\n",
       "    <tr>\n",
       "      <th>0</th>\n",
       "      <td>svd</td>\n",
       "      <td>0.683698</td>\n",
       "      <td>0.826860</td>\n",
       "      <td>0.634292</td>\n",
       "      <td>0.161409</td>\n",
       "      <td>0</td>\n",
       "    </tr>\n",
       "    <tr>\n",
       "      <th>1</th>\n",
       "      <td>svd</td>\n",
       "      <td>1.023635</td>\n",
       "      <td>1.011749</td>\n",
       "      <td>0.806621</td>\n",
       "      <td>-0.000336</td>\n",
       "      <td>1</td>\n",
       "    </tr>\n",
       "    <tr>\n",
       "      <th>0</th>\n",
       "      <td>svd</td>\n",
       "      <td>0.718006</td>\n",
       "      <td>0.847352</td>\n",
       "      <td>0.651684</td>\n",
       "      <td>0.141700</td>\n",
       "      <td>0</td>\n",
       "    </tr>\n",
       "    <tr>\n",
       "      <th>0</th>\n",
       "      <td>userknncosine</td>\n",
       "      <td>0.674188</td>\n",
       "      <td>0.821089</td>\n",
       "      <td>0.640090</td>\n",
       "      <td>0.173074</td>\n",
       "      <td>No-cold-start</td>\n",
       "    </tr>\n",
       "    <tr>\n",
       "      <th>1</th>\n",
       "      <td>userknncosine</td>\n",
       "      <td>0.928814</td>\n",
       "      <td>0.963750</td>\n",
       "      <td>0.776717</td>\n",
       "      <td>0.078498</td>\n",
       "      <td>User-Cold-Start</td>\n",
       "    </tr>\n",
       "    <tr>\n",
       "      <th>2</th>\n",
       "      <td>userknncosine</td>\n",
       "      <td>0.982966</td>\n",
       "      <td>0.991446</td>\n",
       "      <td>0.776825</td>\n",
       "      <td>-0.053604</td>\n",
       "      <td>Item-Cold_start</td>\n",
       "    </tr>\n",
       "    <tr>\n",
       "      <th>3</th>\n",
       "      <td>userknncosine</td>\n",
       "      <td>1.649868</td>\n",
       "      <td>1.284472</td>\n",
       "      <td>1.099969</td>\n",
       "      <td>-0.422300</td>\n",
       "      <td>User-Item-cold-start</td>\n",
       "    </tr>\n",
       "    <tr>\n",
       "      <th>0</th>\n",
       "      <td>userknncosine</td>\n",
       "      <td>0.674188</td>\n",
       "      <td>0.821089</td>\n",
       "      <td>0.640090</td>\n",
       "      <td>0.173074</td>\n",
       "      <td>0</td>\n",
       "    </tr>\n",
       "    <tr>\n",
       "      <th>1</th>\n",
       "      <td>userknncosine</td>\n",
       "      <td>0.968494</td>\n",
       "      <td>0.984121</td>\n",
       "      <td>0.790628</td>\n",
       "      <td>0.053550</td>\n",
       "      <td>1</td>\n",
       "    </tr>\n",
       "    <tr>\n",
       "      <th>0</th>\n",
       "      <td>userknncosine</td>\n",
       "      <td>0.703891</td>\n",
       "      <td>0.838982</td>\n",
       "      <td>0.655283</td>\n",
       "      <td>0.158573</td>\n",
       "      <td>0</td>\n",
       "    </tr>\n",
       "    <tr>\n",
       "      <th>0</th>\n",
       "      <td>userknnpearson</td>\n",
       "      <td>0.674188</td>\n",
       "      <td>0.821089</td>\n",
       "      <td>0.640090</td>\n",
       "      <td>0.173074</td>\n",
       "      <td>No-cold-start</td>\n",
       "    </tr>\n",
       "    <tr>\n",
       "      <th>1</th>\n",
       "      <td>userknnpearson</td>\n",
       "      <td>0.928814</td>\n",
       "      <td>0.963750</td>\n",
       "      <td>0.776717</td>\n",
       "      <td>0.078498</td>\n",
       "      <td>User-Cold-Start</td>\n",
       "    </tr>\n",
       "    <tr>\n",
       "      <th>...</th>\n",
       "      <td>...</td>\n",
       "      <td>...</td>\n",
       "      <td>...</td>\n",
       "      <td>...</td>\n",
       "      <td>...</td>\n",
       "      <td>...</td>\n",
       "    </tr>\n",
       "    <tr>\n",
       "      <th>1</th>\n",
       "      <td>itemknncosine</td>\n",
       "      <td>0.968494</td>\n",
       "      <td>0.984121</td>\n",
       "      <td>0.790628</td>\n",
       "      <td>0.053550</td>\n",
       "      <td>1</td>\n",
       "    </tr>\n",
       "    <tr>\n",
       "      <th>0</th>\n",
       "      <td>itemknncosine</td>\n",
       "      <td>0.662243</td>\n",
       "      <td>0.813783</td>\n",
       "      <td>0.629030</td>\n",
       "      <td>0.208358</td>\n",
       "      <td>0</td>\n",
       "    </tr>\n",
       "    <tr>\n",
       "      <th>0</th>\n",
       "      <td>itemavg</td>\n",
       "      <td>0.822009</td>\n",
       "      <td>0.906647</td>\n",
       "      <td>0.715627</td>\n",
       "      <td>-0.008237</td>\n",
       "      <td>No-cold-start</td>\n",
       "    </tr>\n",
       "    <tr>\n",
       "      <th>1</th>\n",
       "      <td>itemavg</td>\n",
       "      <td>0.944563</td>\n",
       "      <td>0.971886</td>\n",
       "      <td>0.773948</td>\n",
       "      <td>0.062873</td>\n",
       "      <td>User-Cold-Start</td>\n",
       "    </tr>\n",
       "    <tr>\n",
       "      <th>2</th>\n",
       "      <td>itemavg</td>\n",
       "      <td>0.933037</td>\n",
       "      <td>0.965939</td>\n",
       "      <td>0.758959</td>\n",
       "      <td>-0.000087</td>\n",
       "      <td>Item-Cold_start</td>\n",
       "    </tr>\n",
       "    <tr>\n",
       "      <th>3</th>\n",
       "      <td>itemavg</td>\n",
       "      <td>1.649868</td>\n",
       "      <td>1.284472</td>\n",
       "      <td>1.099969</td>\n",
       "      <td>-0.422300</td>\n",
       "      <td>User-Item-cold-start</td>\n",
       "    </tr>\n",
       "    <tr>\n",
       "      <th>0</th>\n",
       "      <td>itemavg</td>\n",
       "      <td>0.822009</td>\n",
       "      <td>0.906647</td>\n",
       "      <td>0.715627</td>\n",
       "      <td>-0.008237</td>\n",
       "      <td>0</td>\n",
       "    </tr>\n",
       "    <tr>\n",
       "      <th>1</th>\n",
       "      <td>itemavg</td>\n",
       "      <td>0.973028</td>\n",
       "      <td>0.986422</td>\n",
       "      <td>0.785555</td>\n",
       "      <td>0.049120</td>\n",
       "      <td>1</td>\n",
       "    </tr>\n",
       "    <tr>\n",
       "      <th>0</th>\n",
       "      <td>itemavg</td>\n",
       "      <td>0.837251</td>\n",
       "      <td>0.915014</td>\n",
       "      <td>0.722685</td>\n",
       "      <td>-0.000844</td>\n",
       "      <td>0</td>\n",
       "    </tr>\n",
       "    <tr>\n",
       "      <th>0</th>\n",
       "      <td>useravg</td>\n",
       "      <td>0.664410</td>\n",
       "      <td>0.815114</td>\n",
       "      <td>0.636845</td>\n",
       "      <td>0.185066</td>\n",
       "      <td>No-cold-start</td>\n",
       "    </tr>\n",
       "    <tr>\n",
       "      <th>1</th>\n",
       "      <td>useravg</td>\n",
       "      <td>1.008096</td>\n",
       "      <td>1.004040</td>\n",
       "      <td>0.800394</td>\n",
       "      <td>-0.000160</td>\n",
       "      <td>User-Cold-Start</td>\n",
       "    </tr>\n",
       "    <tr>\n",
       "      <th>2</th>\n",
       "      <td>useravg</td>\n",
       "      <td>1.009449</td>\n",
       "      <td>1.004714</td>\n",
       "      <td>0.759445</td>\n",
       "      <td>-0.081990</td>\n",
       "      <td>Item-Cold_start</td>\n",
       "    </tr>\n",
       "    <tr>\n",
       "      <th>3</th>\n",
       "      <td>useravg</td>\n",
       "      <td>1.649868</td>\n",
       "      <td>1.284472</td>\n",
       "      <td>1.099969</td>\n",
       "      <td>-0.422300</td>\n",
       "      <td>User-Item-cold-start</td>\n",
       "    </tr>\n",
       "    <tr>\n",
       "      <th>0</th>\n",
       "      <td>useravg</td>\n",
       "      <td>0.664410</td>\n",
       "      <td>0.815114</td>\n",
       "      <td>0.636845</td>\n",
       "      <td>0.185066</td>\n",
       "      <td>0</td>\n",
       "    </tr>\n",
       "    <tr>\n",
       "      <th>1</th>\n",
       "      <td>useravg</td>\n",
       "      <td>1.035896</td>\n",
       "      <td>1.017790</td>\n",
       "      <td>0.806699</td>\n",
       "      <td>-0.012317</td>\n",
       "      <td>1</td>\n",
       "    </tr>\n",
       "    <tr>\n",
       "      <th>0</th>\n",
       "      <td>useravg</td>\n",
       "      <td>0.701903</td>\n",
       "      <td>0.837796</td>\n",
       "      <td>0.653988</td>\n",
       "      <td>0.160950</td>\n",
       "      <td>0</td>\n",
       "    </tr>\n",
       "    <tr>\n",
       "      <th>0</th>\n",
       "      <td>global_avg</td>\n",
       "      <td>0.816507</td>\n",
       "      <td>0.903608</td>\n",
       "      <td>0.706052</td>\n",
       "      <td>-0.001488</td>\n",
       "      <td>No-cold-start</td>\n",
       "    </tr>\n",
       "    <tr>\n",
       "      <th>1</th>\n",
       "      <td>global_avg</td>\n",
       "      <td>1.008096</td>\n",
       "      <td>1.004040</td>\n",
       "      <td>0.800394</td>\n",
       "      <td>-0.000160</td>\n",
       "      <td>User-Cold-Start</td>\n",
       "    </tr>\n",
       "    <tr>\n",
       "      <th>2</th>\n",
       "      <td>global_avg</td>\n",
       "      <td>0.933037</td>\n",
       "      <td>0.965939</td>\n",
       "      <td>0.758959</td>\n",
       "      <td>-0.000087</td>\n",
       "      <td>Item-Cold_start</td>\n",
       "    </tr>\n",
       "    <tr>\n",
       "      <th>3</th>\n",
       "      <td>global_avg</td>\n",
       "      <td>1.649868</td>\n",
       "      <td>1.284472</td>\n",
       "      <td>1.099969</td>\n",
       "      <td>-0.422300</td>\n",
       "      <td>User-Item-cold-start</td>\n",
       "    </tr>\n",
       "    <tr>\n",
       "      <th>0</th>\n",
       "      <td>global_avg</td>\n",
       "      <td>0.816507</td>\n",
       "      <td>0.903608</td>\n",
       "      <td>0.706052</td>\n",
       "      <td>-0.001488</td>\n",
       "      <td>0</td>\n",
       "    </tr>\n",
       "    <tr>\n",
       "      <th>1</th>\n",
       "      <td>global_avg</td>\n",
       "      <td>1.023635</td>\n",
       "      <td>1.011749</td>\n",
       "      <td>0.806621</td>\n",
       "      <td>-0.000336</td>\n",
       "      <td>1</td>\n",
       "    </tr>\n",
       "    <tr>\n",
       "      <th>0</th>\n",
       "      <td>global_avg</td>\n",
       "      <td>0.837412</td>\n",
       "      <td>0.915102</td>\n",
       "      <td>0.716202</td>\n",
       "      <td>-0.001037</td>\n",
       "      <td>0</td>\n",
       "    </tr>\n",
       "    <tr>\n",
       "      <th>0</th>\n",
       "      <td>cf</td>\n",
       "      <td>0.639133</td>\n",
       "      <td>0.799458</td>\n",
       "      <td>0.636051</td>\n",
       "      <td>0.216071</td>\n",
       "      <td>No-cold-start</td>\n",
       "    </tr>\n",
       "    <tr>\n",
       "      <th>1</th>\n",
       "      <td>cf</td>\n",
       "      <td>1.026170</td>\n",
       "      <td>1.013001</td>\n",
       "      <td>0.866401</td>\n",
       "      <td>-0.018092</td>\n",
       "      <td>User-Cold-Start</td>\n",
       "    </tr>\n",
       "    <tr>\n",
       "      <th>2</th>\n",
       "      <td>cf</td>\n",
       "      <td>1.083329</td>\n",
       "      <td>1.040831</td>\n",
       "      <td>0.843148</td>\n",
       "      <td>-0.161179</td>\n",
       "      <td>Item-Cold_start</td>\n",
       "    </tr>\n",
       "    <tr>\n",
       "      <th>3</th>\n",
       "      <td>cf</td>\n",
       "      <td>1.162469</td>\n",
       "      <td>1.078179</td>\n",
       "      <td>0.916640</td>\n",
       "      <td>-0.002129</td>\n",
       "      <td>User-Item-cold-start</td>\n",
       "    </tr>\n",
       "    <tr>\n",
       "      <th>0</th>\n",
       "      <td>cf</td>\n",
       "      <td>0.639133</td>\n",
       "      <td>0.799458</td>\n",
       "      <td>0.636051</td>\n",
       "      <td>0.216071</td>\n",
       "      <td>0</td>\n",
       "    </tr>\n",
       "    <tr>\n",
       "      <th>1</th>\n",
       "      <td>cf</td>\n",
       "      <td>1.041200</td>\n",
       "      <td>1.020392</td>\n",
       "      <td>0.864829</td>\n",
       "      <td>-0.017500</td>\n",
       "      <td>1</td>\n",
       "    </tr>\n",
       "    <tr>\n",
       "      <th>0</th>\n",
       "      <td>cf</td>\n",
       "      <td>0.679712</td>\n",
       "      <td>0.824446</td>\n",
       "      <td>0.659140</td>\n",
       "      <td>0.187477</td>\n",
       "      <td>0</td>\n",
       "    </tr>\n",
       "  </tbody>\n",
       "</table>\n",
       "<p>77 rows × 6 columns</p>\n",
       "</div>"
      ],
      "text/plain": [
       "                       method       mse      rmse       mae  r2_score  \\\n",
       "0   biasedmatrixfactorization  0.638513  0.799070  0.622871  0.216831   \n",
       "1   biasedmatrixfactorization  0.925556  0.962058  0.771413  0.081731   \n",
       "2   biasedmatrixfactorization  1.016274  1.008104  0.775404 -0.089305   \n",
       "3   biasedmatrixfactorization  1.649868  1.284472  1.099969 -0.422300   \n",
       "0   biasedmatrixfactorization  0.638513  0.799070  0.622871  0.216831   \n",
       "1   biasedmatrixfactorization  0.971243  0.985517  0.786175  0.050864   \n",
       "0   biasedmatrixfactorization  0.672094  0.819813  0.639352  0.196583   \n",
       "0                 svdplusplus  0.648519  0.805307  0.643882  0.204558   \n",
       "1                 svdplusplus  0.939454  0.969254  0.780966  0.067942   \n",
       "2                 svdplusplus  0.964594  0.982138  0.773659 -0.033912   \n",
       "3                 svdplusplus  1.649868  1.284472  1.099969 -0.422300   \n",
       "0                 svdplusplus  0.648519  0.805307  0.643882  0.204558   \n",
       "1                 svdplusplus  0.974022  0.986925  0.793504  0.048149   \n",
       "0                 svdplusplus  0.681370  0.825452  0.658983  0.185494   \n",
       "0                         svd  0.683698  0.826860  0.634292  0.161409   \n",
       "1                         svd  1.008096  1.004040  0.800394 -0.000160   \n",
       "2                         svd  0.933037  0.965939  0.758959 -0.000087   \n",
       "3                         svd  1.649868  1.284472  1.099969 -0.422300   \n",
       "0                         svd  0.683698  0.826860  0.634292  0.161409   \n",
       "1                         svd  1.023635  1.011749  0.806621 -0.000336   \n",
       "0                         svd  0.718006  0.847352  0.651684  0.141700   \n",
       "0               userknncosine  0.674188  0.821089  0.640090  0.173074   \n",
       "1               userknncosine  0.928814  0.963750  0.776717  0.078498   \n",
       "2               userknncosine  0.982966  0.991446  0.776825 -0.053604   \n",
       "3               userknncosine  1.649868  1.284472  1.099969 -0.422300   \n",
       "0               userknncosine  0.674188  0.821089  0.640090  0.173074   \n",
       "1               userknncosine  0.968494  0.984121  0.790628  0.053550   \n",
       "0               userknncosine  0.703891  0.838982  0.655283  0.158573   \n",
       "0              userknnpearson  0.674188  0.821089  0.640090  0.173074   \n",
       "1              userknnpearson  0.928814  0.963750  0.776717  0.078498   \n",
       "..                        ...       ...       ...       ...       ...   \n",
       "1               itemknncosine  0.968494  0.984121  0.790628  0.053550   \n",
       "0               itemknncosine  0.662243  0.813783  0.629030  0.208358   \n",
       "0                     itemavg  0.822009  0.906647  0.715627 -0.008237   \n",
       "1                     itemavg  0.944563  0.971886  0.773948  0.062873   \n",
       "2                     itemavg  0.933037  0.965939  0.758959 -0.000087   \n",
       "3                     itemavg  1.649868  1.284472  1.099969 -0.422300   \n",
       "0                     itemavg  0.822009  0.906647  0.715627 -0.008237   \n",
       "1                     itemavg  0.973028  0.986422  0.785555  0.049120   \n",
       "0                     itemavg  0.837251  0.915014  0.722685 -0.000844   \n",
       "0                     useravg  0.664410  0.815114  0.636845  0.185066   \n",
       "1                     useravg  1.008096  1.004040  0.800394 -0.000160   \n",
       "2                     useravg  1.009449  1.004714  0.759445 -0.081990   \n",
       "3                     useravg  1.649868  1.284472  1.099969 -0.422300   \n",
       "0                     useravg  0.664410  0.815114  0.636845  0.185066   \n",
       "1                     useravg  1.035896  1.017790  0.806699 -0.012317   \n",
       "0                     useravg  0.701903  0.837796  0.653988  0.160950   \n",
       "0                  global_avg  0.816507  0.903608  0.706052 -0.001488   \n",
       "1                  global_avg  1.008096  1.004040  0.800394 -0.000160   \n",
       "2                  global_avg  0.933037  0.965939  0.758959 -0.000087   \n",
       "3                  global_avg  1.649868  1.284472  1.099969 -0.422300   \n",
       "0                  global_avg  0.816507  0.903608  0.706052 -0.001488   \n",
       "1                  global_avg  1.023635  1.011749  0.806621 -0.000336   \n",
       "0                  global_avg  0.837412  0.915102  0.716202 -0.001037   \n",
       "0                          cf  0.639133  0.799458  0.636051  0.216071   \n",
       "1                          cf  1.026170  1.013001  0.866401 -0.018092   \n",
       "2                          cf  1.083329  1.040831  0.843148 -0.161179   \n",
       "3                          cf  1.162469  1.078179  0.916640 -0.002129   \n",
       "0                          cf  0.639133  0.799458  0.636051  0.216071   \n",
       "1                          cf  1.041200  1.020392  0.864829 -0.017500   \n",
       "0                          cf  0.679712  0.824446  0.659140  0.187477   \n",
       "\n",
       "        Cold Start Group  \n",
       "0          No-cold-start  \n",
       "1        User-Cold-Start  \n",
       "2        Item-Cold_start  \n",
       "3   User-Item-cold-start  \n",
       "0                      0  \n",
       "1                      1  \n",
       "0                      0  \n",
       "0          No-cold-start  \n",
       "1        User-Cold-Start  \n",
       "2        Item-Cold_start  \n",
       "3   User-Item-cold-start  \n",
       "0                      0  \n",
       "1                      1  \n",
       "0                      0  \n",
       "0          No-cold-start  \n",
       "1        User-Cold-Start  \n",
       "2        Item-Cold_start  \n",
       "3   User-Item-cold-start  \n",
       "0                      0  \n",
       "1                      1  \n",
       "0                      0  \n",
       "0          No-cold-start  \n",
       "1        User-Cold-Start  \n",
       "2        Item-Cold_start  \n",
       "3   User-Item-cold-start  \n",
       "0                      0  \n",
       "1                      1  \n",
       "0                      0  \n",
       "0          No-cold-start  \n",
       "1        User-Cold-Start  \n",
       "..                   ...  \n",
       "1                      1  \n",
       "0                      0  \n",
       "0          No-cold-start  \n",
       "1        User-Cold-Start  \n",
       "2        Item-Cold_start  \n",
       "3   User-Item-cold-start  \n",
       "0                      0  \n",
       "1                      1  \n",
       "0                      0  \n",
       "0          No-cold-start  \n",
       "1        User-Cold-Start  \n",
       "2        Item-Cold_start  \n",
       "3   User-Item-cold-start  \n",
       "0                      0  \n",
       "1                      1  \n",
       "0                      0  \n",
       "0          No-cold-start  \n",
       "1        User-Cold-Start  \n",
       "2        Item-Cold_start  \n",
       "3   User-Item-cold-start  \n",
       "0                      0  \n",
       "1                      1  \n",
       "0                      0  \n",
       "0          No-cold-start  \n",
       "1        User-Cold-Start  \n",
       "2        Item-Cold_start  \n",
       "3   User-Item-cold-start  \n",
       "0                      0  \n",
       "1                      1  \n",
       "0                      0  \n",
       "\n",
       "[77 rows x 6 columns]"
      ]
     },
     "execution_count": 59,
     "metadata": {},
     "output_type": "execute_result"
    }
   ],
   "source": [
    "results_concat"
   ]
  },
  {
   "cell_type": "code",
   "execution_count": null,
   "metadata": {},
   "outputs": [],
   "source": []
  }
 ],
 "metadata": {
  "kernelspec": {
   "display_name": "Python 3",
   "language": "python",
   "name": "python3"
  },
  "language_info": {
   "codemirror_mode": {
    "name": "ipython",
    "version": 3
   },
   "file_extension": ".py",
   "mimetype": "text/x-python",
   "name": "python",
   "nbconvert_exporter": "python",
   "pygments_lexer": "ipython3",
   "version": "3.7.3"
  }
 },
 "nbformat": 4,
 "nbformat_minor": 2
}
