{
 "cells": [
  {
   "cell_type": "code",
   "execution_count": 1,
   "metadata": {},
   "outputs": [],
   "source": [
    "PATH='/home/kirana/Documents/phd/experiment1_new/DNNREC_BookCrossing'\n",
    "DATAPATH='/home/kirana/Documents/final_dissertation_final/experiments/datasets/bookcrossing'"
   ]
  },
  {
   "cell_type": "code",
   "execution_count": 2,
   "metadata": {},
   "outputs": [],
   "source": [
    "import pandas as pd\n",
    "import numpy as np\n",
    "import matplotlib.pyplot as plt\n",
    "import sklearn\n",
    "import os\n",
    "import pickle\n",
    "import torch\n",
    "from torch.utils.data import Dataset, DataLoader\n",
    "from torch import nn\n",
    "import pickle\n",
    "from sklearn import metrics"
   ]
  },
  {
   "cell_type": "code",
   "execution_count": 3,
   "metadata": {},
   "outputs": [],
   "source": [
    "[df,dftrain,dfvalid,idx_to_user,idx_to_item,item_to_idx,user_to_idx,results_concat]=\\\n",
    "    pickle.load(open(f'{DATAPATH}/df_side_cold_runother_cf.pkl','rb'))"
   ]
  },
  {
   "cell_type": "code",
   "execution_count": 4,
   "metadata": {},
   "outputs": [
    {
     "data": {
      "text/plain": [
       "Index(['level_0', 'index', 'userId', 'itemId', 'rating',\n",
       "       'num_ratings_per_user_gt_20', 'num_ratings_per_item_gt_200',\n",
       "       'flag_clean_considered', 'Location', 'Age', 'Book-Title', 'Book-Author',\n",
       "       'Year-Of-Publication', 'Publisher', 'random_dstype', 'user_idx',\n",
       "       'item_idx', 'flag_train'],\n",
       "      dtype='object')"
      ]
     },
     "execution_count": 4,
     "metadata": {},
     "output_type": "execute_result"
    }
   ],
   "source": [
    "dftrain.columns"
   ]
  },
  {
   "cell_type": "code",
   "execution_count": 5,
   "metadata": {},
   "outputs": [
    {
     "data": {
      "text/html": [
       "<div>\n",
       "<style scoped>\n",
       "    .dataframe tbody tr th:only-of-type {\n",
       "        vertical-align: middle;\n",
       "    }\n",
       "\n",
       "    .dataframe tbody tr th {\n",
       "        vertical-align: top;\n",
       "    }\n",
       "\n",
       "    .dataframe thead th {\n",
       "        text-align: right;\n",
       "    }\n",
       "</style>\n",
       "<table border=\"1\" class=\"dataframe\">\n",
       "  <thead>\n",
       "    <tr style=\"text-align: right;\">\n",
       "      <th></th>\n",
       "      <th>0</th>\n",
       "      <th>1</th>\n",
       "      <th>2</th>\n",
       "      <th>3</th>\n",
       "      <th>4</th>\n",
       "    </tr>\n",
       "  </thead>\n",
       "  <tbody>\n",
       "    <tr>\n",
       "      <th>level_0</th>\n",
       "      <td>0</td>\n",
       "      <td>1</td>\n",
       "      <td>2</td>\n",
       "      <td>3</td>\n",
       "      <td>4</td>\n",
       "    </tr>\n",
       "    <tr>\n",
       "      <th>index</th>\n",
       "      <td>275615</td>\n",
       "      <td>170503</td>\n",
       "      <td>70704</td>\n",
       "      <td>647</td>\n",
       "      <td>413358</td>\n",
       "    </tr>\n",
       "    <tr>\n",
       "      <th>userId</th>\n",
       "      <td>170762</td>\n",
       "      <td>100906</td>\n",
       "      <td>38281</td>\n",
       "      <td>277371</td>\n",
       "      <td>262541</td>\n",
       "    </tr>\n",
       "    <tr>\n",
       "      <th>itemId</th>\n",
       "      <td>0425175405</td>\n",
       "      <td>0151112495</td>\n",
       "      <td>8484504859</td>\n",
       "      <td>0007137699</td>\n",
       "      <td>0312963920</td>\n",
       "    </tr>\n",
       "    <tr>\n",
       "      <th>rating</th>\n",
       "      <td>9</td>\n",
       "      <td>9</td>\n",
       "      <td>5</td>\n",
       "      <td>6</td>\n",
       "      <td>7</td>\n",
       "    </tr>\n",
       "    <tr>\n",
       "      <th>num_ratings_per_user_gt_20</th>\n",
       "      <td>True</td>\n",
       "      <td>True</td>\n",
       "      <td>True</td>\n",
       "      <td>False</td>\n",
       "      <td>True</td>\n",
       "    </tr>\n",
       "    <tr>\n",
       "      <th>num_ratings_per_item_gt_200</th>\n",
       "      <td>True</td>\n",
       "      <td>False</td>\n",
       "      <td>False</td>\n",
       "      <td>False</td>\n",
       "      <td>False</td>\n",
       "    </tr>\n",
       "    <tr>\n",
       "      <th>flag_clean_considered</th>\n",
       "      <td>True</td>\n",
       "      <td>False</td>\n",
       "      <td>False</td>\n",
       "      <td>False</td>\n",
       "      <td>False</td>\n",
       "    </tr>\n",
       "    <tr>\n",
       "      <th>Location</th>\n",
       "      <td>lansing, michigan, usa</td>\n",
       "      <td>seattle, washington, usa</td>\n",
       "      <td>barcelona, catalunya, spain</td>\n",
       "      <td>sydney, new south wales, australia</td>\n",
       "      <td>pierrefonds, quebec, canada</td>\n",
       "    </tr>\n",
       "    <tr>\n",
       "      <th>Age</th>\n",
       "      <td>60</td>\n",
       "      <td>34</td>\n",
       "      <td>33</td>\n",
       "      <td>57</td>\n",
       "      <td>NaN</td>\n",
       "    </tr>\n",
       "    <tr>\n",
       "      <th>Book-Title</th>\n",
       "      <td>Black Notice</td>\n",
       "      <td>The beast in me and other animals;: A collecti...</td>\n",
       "      <td>Un Extrano Acecha</td>\n",
       "      <td>NaN</td>\n",
       "      <td>Hyde</td>\n",
       "    </tr>\n",
       "    <tr>\n",
       "      <th>Book-Author</th>\n",
       "      <td>Patricia Daniels Cornwell</td>\n",
       "      <td>James Thurber</td>\n",
       "      <td>Mary Higgins Clark</td>\n",
       "      <td>NaN</td>\n",
       "      <td>Dan Mahoney</td>\n",
       "    </tr>\n",
       "    <tr>\n",
       "      <th>Year-Of-Publication</th>\n",
       "      <td>2000</td>\n",
       "      <td>1973</td>\n",
       "      <td>2001</td>\n",
       "      <td>NaN</td>\n",
       "      <td>1997</td>\n",
       "    </tr>\n",
       "    <tr>\n",
       "      <th>Publisher</th>\n",
       "      <td>Berkley Publishing Group</td>\n",
       "      <td>Harcourt Brace Jovanovich</td>\n",
       "      <td>Debols!llo</td>\n",
       "      <td>NaN</td>\n",
       "      <td>St. Martin's Press</td>\n",
       "    </tr>\n",
       "    <tr>\n",
       "      <th>random_dstype</th>\n",
       "      <td>train</td>\n",
       "      <td>train</td>\n",
       "      <td>train</td>\n",
       "      <td>train</td>\n",
       "      <td>train</td>\n",
       "    </tr>\n",
       "    <tr>\n",
       "      <th>user_idx</th>\n",
       "      <td>1</td>\n",
       "      <td>2</td>\n",
       "      <td>3</td>\n",
       "      <td>4</td>\n",
       "      <td>5</td>\n",
       "    </tr>\n",
       "    <tr>\n",
       "      <th>item_idx</th>\n",
       "      <td>1</td>\n",
       "      <td>2</td>\n",
       "      <td>3</td>\n",
       "      <td>4</td>\n",
       "      <td>5</td>\n",
       "    </tr>\n",
       "    <tr>\n",
       "      <th>flag_train</th>\n",
       "      <td>1</td>\n",
       "      <td>1</td>\n",
       "      <td>1</td>\n",
       "      <td>1</td>\n",
       "      <td>1</td>\n",
       "    </tr>\n",
       "  </tbody>\n",
       "</table>\n",
       "</div>"
      ],
      "text/plain": [
       "                                                     0  \\\n",
       "level_0                                              0   \n",
       "index                                           275615   \n",
       "userId                                          170762   \n",
       "itemId                                      0425175405   \n",
       "rating                                               9   \n",
       "num_ratings_per_user_gt_20                        True   \n",
       "num_ratings_per_item_gt_200                       True   \n",
       "flag_clean_considered                             True   \n",
       "Location                        lansing, michigan, usa   \n",
       "Age                                                 60   \n",
       "Book-Title                                Black Notice   \n",
       "Book-Author                  Patricia Daniels Cornwell   \n",
       "Year-Of-Publication                               2000   \n",
       "Publisher                     Berkley Publishing Group   \n",
       "random_dstype                                    train   \n",
       "user_idx                                             1   \n",
       "item_idx                                             1   \n",
       "flag_train                                           1   \n",
       "\n",
       "                                                                             1  \\\n",
       "level_0                                                                      1   \n",
       "index                                                                   170503   \n",
       "userId                                                                  100906   \n",
       "itemId                                                              0151112495   \n",
       "rating                                                                       9   \n",
       "num_ratings_per_user_gt_20                                                True   \n",
       "num_ratings_per_item_gt_200                                              False   \n",
       "flag_clean_considered                                                    False   \n",
       "Location                                              seattle, washington, usa   \n",
       "Age                                                                         34   \n",
       "Book-Title                   The beast in me and other animals;: A collecti...   \n",
       "Book-Author                                                      James Thurber   \n",
       "Year-Of-Publication                                                       1973   \n",
       "Publisher                                            Harcourt Brace Jovanovich   \n",
       "random_dstype                                                            train   \n",
       "user_idx                                                                     2   \n",
       "item_idx                                                                     2   \n",
       "flag_train                                                                   1   \n",
       "\n",
       "                                                       2  \\\n",
       "level_0                                                2   \n",
       "index                                              70704   \n",
       "userId                                             38281   \n",
       "itemId                                        8484504859   \n",
       "rating                                                 5   \n",
       "num_ratings_per_user_gt_20                          True   \n",
       "num_ratings_per_item_gt_200                        False   \n",
       "flag_clean_considered                              False   \n",
       "Location                     barcelona, catalunya, spain   \n",
       "Age                                                   33   \n",
       "Book-Title                             Un Extrano Acecha   \n",
       "Book-Author                           Mary Higgins Clark   \n",
       "Year-Of-Publication                                 2001   \n",
       "Publisher                                     Debols!llo   \n",
       "random_dstype                                      train   \n",
       "user_idx                                               3   \n",
       "item_idx                                               3   \n",
       "flag_train                                             1   \n",
       "\n",
       "                                                              3  \\\n",
       "level_0                                                       3   \n",
       "index                                                       647   \n",
       "userId                                                   277371   \n",
       "itemId                                               0007137699   \n",
       "rating                                                        6   \n",
       "num_ratings_per_user_gt_20                                False   \n",
       "num_ratings_per_item_gt_200                               False   \n",
       "flag_clean_considered                                     False   \n",
       "Location                     sydney, new south wales, australia   \n",
       "Age                                                          57   \n",
       "Book-Title                                                  NaN   \n",
       "Book-Author                                                 NaN   \n",
       "Year-Of-Publication                                         NaN   \n",
       "Publisher                                                   NaN   \n",
       "random_dstype                                             train   \n",
       "user_idx                                                      4   \n",
       "item_idx                                                      4   \n",
       "flag_train                                                    1   \n",
       "\n",
       "                                                       4  \n",
       "level_0                                                4  \n",
       "index                                             413358  \n",
       "userId                                            262541  \n",
       "itemId                                        0312963920  \n",
       "rating                                                 7  \n",
       "num_ratings_per_user_gt_20                          True  \n",
       "num_ratings_per_item_gt_200                        False  \n",
       "flag_clean_considered                              False  \n",
       "Location                     pierrefonds, quebec, canada  \n",
       "Age                                                  NaN  \n",
       "Book-Title                                          Hyde  \n",
       "Book-Author                                  Dan Mahoney  \n",
       "Year-Of-Publication                                 1997  \n",
       "Publisher                             St. Martin's Press  \n",
       "random_dstype                                      train  \n",
       "user_idx                                               5  \n",
       "item_idx                                               5  \n",
       "flag_train                                             1  "
      ]
     },
     "execution_count": 5,
     "metadata": {},
     "output_type": "execute_result"
    }
   ],
   "source": [
    "dftrain.head().T"
   ]
  },
  {
   "cell_type": "code",
   "execution_count": 6,
   "metadata": {},
   "outputs": [
    {
     "data": {
      "text/plain": [
       "Index(['level_0', 'index', 'userId', 'itemId', 'rating',\n",
       "       'num_ratings_per_user_gt_20', 'num_ratings_per_item_gt_200',\n",
       "       'flag_clean_considered', 'Location', 'Age', 'Book-Title', 'Book-Author',\n",
       "       'Year-Of-Publication', 'Publisher', 'random_dstype', 'user_idx',\n",
       "       'item_idx', 'flag_train'],\n",
       "      dtype='object')"
      ]
     },
     "execution_count": 6,
     "metadata": {},
     "output_type": "execute_result"
    }
   ],
   "source": [
    "dftrain.columns"
   ]
  },
  {
   "cell_type": "code",
   "execution_count": 7,
   "metadata": {},
   "outputs": [],
   "source": [
    "dftrain.rename({'Book-Title':'BookTitle','Book-Author':'BookAuthor','Year-Of-Publication':'YearOfPublication'},axis=1,inplace=True)"
   ]
  },
  {
   "cell_type": "code",
   "execution_count": 8,
   "metadata": {},
   "outputs": [],
   "source": [
    "dfvalid.rename({'Book-Title':'BookTitle','Book-Author':'BookAuthor','Year-Of-Publication':'YearOfPublication'},axis=1,inplace=True)"
   ]
  },
  {
   "cell_type": "code",
   "execution_count": 9,
   "metadata": {},
   "outputs": [
    {
     "data": {
      "text/plain": [
       "level_0                             0\n",
       "index                               0\n",
       "userId                              0\n",
       "itemId                              0\n",
       "rating                              0\n",
       "num_ratings_per_user_gt_20          0\n",
       "num_ratings_per_item_gt_200         0\n",
       "flag_clean_considered               0\n",
       "Location                            0\n",
       "Age                            115646\n",
       "BookTitle                       44936\n",
       "BookAuthor                      44937\n",
       "YearOfPublication               44936\n",
       "Publisher                       44938\n",
       "random_dstype                       0\n",
       "user_idx                            0\n",
       "item_idx                            0\n",
       "flag_train                          0\n",
       "dtype: int64"
      ]
     },
     "execution_count": 9,
     "metadata": {},
     "output_type": "execute_result"
    }
   ],
   "source": [
    "dftrain.isnull().sum()"
   ]
  },
  {
   "cell_type": "code",
   "execution_count": 10,
   "metadata": {},
   "outputs": [],
   "source": [
    "for myNm in ['Age','BookTitle','BookAuthor','YearOfPublication','Publisher']:\n",
    "    dftrain[myNm+'_NA']=dftrain[myNm].isnull().astype(int)\n",
    "    dfvalid[myNm+'_NA']=dfvalid[myNm].isnull().astype(int)"
   ]
  },
  {
   "cell_type": "code",
   "execution_count": 11,
   "metadata": {},
   "outputs": [],
   "source": [
    "for myNm in ['BookTitle','BookAuthor','YearOfPublication','Publisher']:\n",
    "    dftrain[myNm].fillna('-1',inplace=True)\n",
    "    dfvalid[myNm].fillna('-1',inplace=True)"
   ]
  },
  {
   "cell_type": "code",
   "execution_count": 12,
   "metadata": {},
   "outputs": [],
   "source": [
    "for myNm in ['Age']:\n",
    "    dftrain[myNm].fillna(-1,inplace=True)\n",
    "    dfvalid[myNm].fillna(-1,inplace=True)"
   ]
  },
  {
   "cell_type": "code",
   "execution_count": 13,
   "metadata": {},
   "outputs": [],
   "source": [
    "#Age, Location,  Book-Author, Year-Of-Publication, Publisher"
   ]
  },
  {
   "cell_type": "code",
   "execution_count": 14,
   "metadata": {},
   "outputs": [
    {
     "name": "stderr",
     "output_type": "stream",
     "text": [
      "/home/kirana/anaconda3/lib/python3.7/site-packages/ipykernel_launcher.py:1: FutureWarning: Sorting because non-concatenation axis is not aligned. A future version\n",
      "of pandas will change to not sort by default.\n",
      "\n",
      "To accept the future behavior, pass 'sort=False'.\n",
      "\n",
      "To retain the current behavior and silence the warning, pass 'sort=True'.\n",
      "\n",
      "  \"\"\"Entry point for launching an IPython kernel.\n"
     ]
    }
   ],
   "source": [
    "df=pd.concat([dftrain,dfvalid],axis=0)"
   ]
  },
  {
   "cell_type": "code",
   "execution_count": 15,
   "metadata": {},
   "outputs": [
    {
     "data": {
      "text/plain": [
       "((433671, 35),     Age  Age_NA                 BookAuthor  BookAuthor_NA  \\\n",
       " 0  60.0       0  Patricia Daniels Cornwell              0   \n",
       " 1  34.0       0              James Thurber              0   \n",
       " 2  33.0       0         Mary Higgins Clark              0   \n",
       " 3  57.0       0                         -1              1   \n",
       " 4  -1.0       1                Dan Mahoney              0   \n",
       " \n",
       "                                            BookTitle  BookTitle_NA  \\\n",
       " 0                                       Black Notice             0   \n",
       " 1  The beast in me and other animals;: A collecti...             0   \n",
       " 2                                  Un Extrano Acecha             0   \n",
       " 3                                                 -1             1   \n",
       " 4                                               Hyde             0   \n",
       " \n",
       "                              Location                  Publisher  \\\n",
       " 0              lansing, michigan, usa   Berkley Publishing Group   \n",
       " 1            seattle, washington, usa  Harcourt Brace Jovanovich   \n",
       " 2         barcelona, catalunya, spain                 Debols!llo   \n",
       " 3  sydney, new south wales, australia                         -1   \n",
       " 4         pierrefonds, quebec, canada         St. Martin's Press   \n",
       " \n",
       "    Publisher_NA YearOfPublication  ...  pred_globalavg  pred_itemavg pred_svd  \\\n",
       " 0             0              2000  ...             NaN           NaN      NaN   \n",
       " 1             0              1973  ...             NaN           NaN      NaN   \n",
       " 2             0              2001  ...             NaN           NaN      NaN   \n",
       " 3             1                -1  ...             NaN           NaN      NaN   \n",
       " 4             0              1997  ...             NaN           NaN      NaN   \n",
       " \n",
       "   pred_svdplusplus pred_useravg  pred_userknn_cosine  random_dstype  rating  \\\n",
       " 0              NaN          NaN                  NaN          train       9   \n",
       " 1              NaN          NaN                  NaN          train       9   \n",
       " 2              NaN          NaN                  NaN          train       5   \n",
       " 3              NaN          NaN                  NaN          train       6   \n",
       " 4              NaN          NaN                  NaN          train       7   \n",
       " \n",
       "    userId  user_idx  \n",
       " 0  170762         1  \n",
       " 1  100906         2  \n",
       " 2   38281         3  \n",
       " 3  277371         4  \n",
       " 4  262541         5  \n",
       " \n",
       " [5 rows x 35 columns])"
      ]
     },
     "execution_count": 15,
     "metadata": {},
     "output_type": "execute_result"
    }
   ],
   "source": [
    "df.shape,df.head()"
   ]
  },
  {
   "cell_type": "code",
   "execution_count": 16,
   "metadata": {},
   "outputs": [],
   "source": [
    "Publisher_to_idx={j:i+1 for i,j in enumerate(df['Publisher'].unique())}\n",
    "idx_to_Publisher={i+1:j for i,j in enumerate(df['Publisher'].unique())}\n",
    "YearOfPublication_to_idx={j:i+1 for i,j in enumerate(df['YearOfPublication'].unique())}\n",
    "idx_to_YearOfPublication={i+1:j for i,j in enumerate(df['YearOfPublication'].unique())}\n",
    "BookAuthor_to_idx={j:i+1 for i,j in enumerate(df['BookAuthor'].unique())}\n",
    "idx_to_BookAuthor={i+1:j for i,j in enumerate(df['BookAuthor'].unique())}\n",
    "Location_to_idx={j:i+1 for i,j in enumerate(df['Location'].unique())}\n",
    "idx_to_Location={i+1:j for i,j in enumerate(df['Location'].unique())}\n",
    "if 1==0:\n",
    "    Age_to_idx={j:i+1 for i,j in enumerate(df['Age'].unique())}\n",
    "    idx_to_Age={i+1:j for i,j in enumerate(df['Age'].unique())}"
   ]
  },
  {
   "cell_type": "code",
   "execution_count": 17,
   "metadata": {},
   "outputs": [],
   "source": [
    "dftrain['Publisher_idx']=[Publisher_to_idx.get(i) for i in dftrain['Publisher']]\n",
    "dfvalid['Publisher_idx']=[Publisher_to_idx.get(i) for i in dfvalid['Publisher']]\n",
    "dftrain['YearOfPublication_idx']=[YearOfPublication_to_idx.get(i) for i in dftrain['YearOfPublication']]\n",
    "dfvalid['YearOfPublication_idx']=[YearOfPublication_to_idx.get(i) for i in dfvalid['YearOfPublication']]"
   ]
  },
  {
   "cell_type": "code",
   "execution_count": 18,
   "metadata": {},
   "outputs": [],
   "source": [
    "\n",
    "dftrain['BookAuthor_idx']=[BookAuthor_to_idx.get(i) for i in dftrain['BookAuthor']]\n",
    "dfvalid['BookAuthor_idx']=[BookAuthor_to_idx.get(i) for i in dfvalid['BookAuthor']]"
   ]
  },
  {
   "cell_type": "code",
   "execution_count": 19,
   "metadata": {},
   "outputs": [],
   "source": [
    "\n",
    "dftrain['Location_idx']=[Location_to_idx.get(i) for i in dftrain['Location']]\n",
    "dfvalid['Location_idx']=[Location_to_idx.get(i) for i in dfvalid['Location']]"
   ]
  },
  {
   "cell_type": "code",
   "execution_count": 20,
   "metadata": {},
   "outputs": [],
   "source": [
    "if 1==0:\n",
    "    dftrain['Age_idx']=[Age_to_idx.get(i) for i in dftrain['Age']]\n",
    "    dfvalid['Age_idx']=[Age_to_idx.get(i) for i in dfvalid['Age']]"
   ]
  },
  {
   "cell_type": "code",
   "execution_count": 21,
   "metadata": {},
   "outputs": [],
   "source": [
    "catCols=['Publisher_idx','YearOfPublication_idx','BookAuthor_idx','Location_idx']"
   ]
  },
  {
   "cell_type": "code",
   "execution_count": 27,
   "metadata": {},
   "outputs": [],
   "source": [
    "if 1==1:\n",
    "    catCols=catCols+[x[:-4]+'_NA' for x in catCols]"
   ]
  },
  {
   "cell_type": "code",
   "execution_count": 23,
   "metadata": {},
   "outputs": [],
   "source": [
    "denseCols=['Age','Age_NA']"
   ]
  },
  {
   "cell_type": "code",
   "execution_count": 24,
   "metadata": {},
   "outputs": [
    {
     "data": {
      "text/plain": [
       "['Publisher_idx', 'YearOfPublication_idx', 'BookAuthor_idx', 'Location_idx']"
      ]
     },
     "execution_count": 24,
     "metadata": {},
     "output_type": "execute_result"
    }
   ],
   "source": [
    "catCols"
   ]
  },
  {
   "cell_type": "code",
   "execution_count": 28,
   "metadata": {},
   "outputs": [
    {
     "data": {
      "text/plain": [
       "['Publisher_idx',\n",
       " 'YearOfPublication_idx',\n",
       " 'BookAuthor_idx',\n",
       " 'Location_idx',\n",
       " 'Publisher_NA',\n",
       " 'YearOfPublication_NA',\n",
       " 'BookAuthor_NA',\n",
       " 'Location_NA']"
      ]
     },
     "execution_count": 28,
     "metadata": {},
     "output_type": "execute_result"
    }
   ],
   "source": [
    "catCols"
   ]
  },
  {
   "cell_type": "code",
   "execution_count": 31,
   "metadata": {},
   "outputs": [],
   "source": [
    "catCols.remove('Location_NA')"
   ]
  },
  {
   "cell_type": "code",
   "execution_count": 32,
   "metadata": {},
   "outputs": [
    {
     "data": {
      "text/plain": [
       "Index(['level_0', 'index', 'userId', 'itemId', 'rating',\n",
       "       'num_ratings_per_user_gt_20', 'num_ratings_per_item_gt_200',\n",
       "       'flag_clean_considered', 'Location', 'Age', 'BookTitle', 'BookAuthor',\n",
       "       'YearOfPublication', 'Publisher', 'random_dstype', 'user_idx',\n",
       "       'item_idx', 'flag_train', 'Age_NA', 'BookTitle_NA', 'BookAuthor_NA',\n",
       "       'YearOfPublication_NA', 'Publisher_NA', 'Publisher_idx',\n",
       "       'YearOfPublication_idx', 'BookAuthor_idx', 'Location_idx'],\n",
       "      dtype='object')"
      ]
     },
     "execution_count": 32,
     "metadata": {},
     "output_type": "execute_result"
    }
   ],
   "source": [
    "dftrain.columns"
   ]
  },
  {
   "cell_type": "code",
   "execution_count": 33,
   "metadata": {},
   "outputs": [
    {
     "data": {
      "text/html": [
       "<div>\n",
       "<style scoped>\n",
       "    .dataframe tbody tr th:only-of-type {\n",
       "        vertical-align: middle;\n",
       "    }\n",
       "\n",
       "    .dataframe tbody tr th {\n",
       "        vertical-align: top;\n",
       "    }\n",
       "\n",
       "    .dataframe thead th {\n",
       "        text-align: right;\n",
       "    }\n",
       "</style>\n",
       "<table border=\"1\" class=\"dataframe\">\n",
       "  <thead>\n",
       "    <tr style=\"text-align: right;\">\n",
       "      <th></th>\n",
       "      <th>Publisher_idx</th>\n",
       "      <th>YearOfPublication_idx</th>\n",
       "      <th>BookAuthor_idx</th>\n",
       "      <th>Location_idx</th>\n",
       "      <th>Publisher_NA</th>\n",
       "      <th>YearOfPublication_NA</th>\n",
       "      <th>BookAuthor_NA</th>\n",
       "    </tr>\n",
       "  </thead>\n",
       "  <tbody>\n",
       "    <tr>\n",
       "      <th>0</th>\n",
       "      <td>1</td>\n",
       "      <td>1</td>\n",
       "      <td>1</td>\n",
       "      <td>1</td>\n",
       "      <td>0</td>\n",
       "      <td>0</td>\n",
       "      <td>0</td>\n",
       "    </tr>\n",
       "    <tr>\n",
       "      <th>1</th>\n",
       "      <td>2</td>\n",
       "      <td>2</td>\n",
       "      <td>2</td>\n",
       "      <td>2</td>\n",
       "      <td>0</td>\n",
       "      <td>0</td>\n",
       "      <td>0</td>\n",
       "    </tr>\n",
       "    <tr>\n",
       "      <th>2</th>\n",
       "      <td>3</td>\n",
       "      <td>3</td>\n",
       "      <td>3</td>\n",
       "      <td>3</td>\n",
       "      <td>0</td>\n",
       "      <td>0</td>\n",
       "      <td>0</td>\n",
       "    </tr>\n",
       "    <tr>\n",
       "      <th>3</th>\n",
       "      <td>4</td>\n",
       "      <td>4</td>\n",
       "      <td>4</td>\n",
       "      <td>4</td>\n",
       "      <td>1</td>\n",
       "      <td>1</td>\n",
       "      <td>1</td>\n",
       "    </tr>\n",
       "    <tr>\n",
       "      <th>4</th>\n",
       "      <td>5</td>\n",
       "      <td>5</td>\n",
       "      <td>5</td>\n",
       "      <td>5</td>\n",
       "      <td>0</td>\n",
       "      <td>0</td>\n",
       "      <td>0</td>\n",
       "    </tr>\n",
       "  </tbody>\n",
       "</table>\n",
       "</div>"
      ],
      "text/plain": [
       "   Publisher_idx  YearOfPublication_idx  BookAuthor_idx  Location_idx  \\\n",
       "0              1                      1               1             1   \n",
       "1              2                      2               2             2   \n",
       "2              3                      3               3             3   \n",
       "3              4                      4               4             4   \n",
       "4              5                      5               5             5   \n",
       "\n",
       "   Publisher_NA  YearOfPublication_NA  BookAuthor_NA  \n",
       "0             0                     0              0  \n",
       "1             0                     0              0  \n",
       "2             0                     0              0  \n",
       "3             1                     1              1  \n",
       "4             0                     0              0  "
      ]
     },
     "execution_count": 33,
     "metadata": {},
     "output_type": "execute_result"
    }
   ],
   "source": [
    "dftrain[catCols].head()"
   ]
  },
  {
   "cell_type": "code",
   "execution_count": 34,
   "metadata": {},
   "outputs": [
    {
     "data": {
      "text/plain": [
       "Publisher_idx            11033\n",
       "YearOfPublication_idx      180\n",
       "BookAuthor_idx           58538\n",
       "Location_idx             20401\n",
       "Publisher_NA                 1\n",
       "YearOfPublication_NA         1\n",
       "BookAuthor_NA                1\n",
       "dtype: int64"
      ]
     },
     "execution_count": 34,
     "metadata": {},
     "output_type": "execute_result"
    }
   ],
   "source": [
    "dftrain[catCols].max()"
   ]
  },
  {
   "cell_type": "markdown",
   "metadata": {},
   "source": [
    "### Dataset and DataLoader"
   ]
  },
  {
   "cell_type": "code",
   "execution_count": 47,
   "metadata": {},
   "outputs": [],
   "source": [
    "class cfdata (torch.utils.data.dataset.Dataset):\n",
    "    def __init__(self,dfX,dfY,denseCols,catCols):\n",
    "        self.dfX,self.dfY=dfX,dfY\n",
    "        self.denseCols=denseCols\n",
    "        self.catCols=catCols\n",
    "        \n",
    "    def __len__ (self):\n",
    "        return self.dfX.shape[0]\n",
    "    \n",
    "    def __getitem__ (self, idx):\n",
    "        return torch.FloatTensor(self.dfX.iloc[idx].values),torch.FloatTensor([self.dfY.values[idx]])"
   ]
  },
  {
   "cell_type": "code",
   "execution_count": 48,
   "metadata": {},
   "outputs": [],
   "source": [
    "dstrain=cfdata(dftrain[['user_idx','item_idx']+catCols+denseCols],dftrain['rating'],denseCols,catCols)\n",
    "dsvalid=cfdata(dfvalid[['user_idx','item_idx']+catCols+denseCols],dfvalid['rating'],denseCols,catCols)"
   ]
  },
  {
   "cell_type": "code",
   "execution_count": 49,
   "metadata": {},
   "outputs": [
    {
     "data": {
      "text/plain": [
       "(390999, 27)"
      ]
     },
     "execution_count": 49,
     "metadata": {},
     "output_type": "execute_result"
    }
   ],
   "source": [
    "dftrain.shape"
   ]
  },
  {
   "cell_type": "code",
   "execution_count": 50,
   "metadata": {},
   "outputs": [],
   "source": [
    "bs=64"
   ]
  },
  {
   "cell_type": "code",
   "execution_count": 51,
   "metadata": {},
   "outputs": [],
   "source": [
    "dltrain=DataLoader(dstrain,bs,False)"
   ]
  },
  {
   "cell_type": "code",
   "execution_count": 52,
   "metadata": {},
   "outputs": [],
   "source": [
    "dlvalid=DataLoader(dsvalid,bs,False)"
   ]
  },
  {
   "cell_type": "code",
   "execution_count": 53,
   "metadata": {},
   "outputs": [
    {
     "data": {
      "text/plain": [
       "[('Publisher_idx', 11033),\n",
       " ('YearOfPublication_idx', 180),\n",
       " ('BookAuthor_idx', 58538),\n",
       " ('Location_idx', 20401),\n",
       " ('Publisher_NA', 2),\n",
       " ('YearOfPublication_NA', 2),\n",
       " ('BookAuthor_NA', 2)]"
      ]
     },
     "execution_count": 53,
     "metadata": {},
     "output_type": "execute_result"
    }
   ],
   "source": [
    "[(col, dftrain[col].nunique()) for col in catCols]"
   ]
  },
  {
   "cell_type": "code",
   "execution_count": 54,
   "metadata": {},
   "outputs": [
    {
     "data": {
      "text/plain": [
       "{'Publisher_idx': 50,\n",
       " 'YearOfPublication_idx': 50,\n",
       " 'BookAuthor_idx': 50,\n",
       " 'Location_idx': 50,\n",
       " 'Publisher_NA': 1,\n",
       " 'YearOfPublication_NA': 1,\n",
       " 'BookAuthor_NA': 1}"
      ]
     },
     "execution_count": 54,
     "metadata": {},
     "output_type": "execute_result"
    }
   ],
   "source": [
    "{col: min(50,dftrain[col].nunique()//2) for col in catCols}"
   ]
  },
  {
   "cell_type": "code",
   "execution_count": 55,
   "metadata": {},
   "outputs": [
    {
     "name": "stderr",
     "output_type": "stream",
     "text": [
      "/home/kirana/anaconda3/lib/python3.7/site-packages/ipykernel_launcher.py:1: FutureWarning: Sorting because non-concatenation axis is not aligned. A future version\n",
      "of pandas will change to not sort by default.\n",
      "\n",
      "To accept the future behavior, pass 'sort=False'.\n",
      "\n",
      "To retain the current behavior and silence the warning, pass 'sort=True'.\n",
      "\n",
      "  \"\"\"Entry point for launching an IPython kernel.\n"
     ]
    }
   ],
   "source": [
    "df=pd.concat([dftrain,dfvalid],axis=0)"
   ]
  },
  {
   "cell_type": "code",
   "execution_count": 56,
   "metadata": {},
   "outputs": [],
   "source": [
    "emb_szs=[(df[col].nunique(),min(50,df[col].nunique()//2)) for col in catCols]"
   ]
  },
  {
   "cell_type": "code",
   "execution_count": 57,
   "metadata": {},
   "outputs": [
    {
     "data": {
      "text/plain": [
       "[(11576, 50), (182, 50), (62114, 50), (21335, 50), (2, 1), (2, 1), (2, 1)]"
      ]
     },
     "execution_count": 57,
     "metadata": {},
     "output_type": "execute_result"
    }
   ],
   "source": [
    "emb_szs"
   ]
  },
  {
   "cell_type": "code",
   "execution_count": 58,
   "metadata": {},
   "outputs": [
    {
     "data": {
      "text/html": [
       "<div>\n",
       "<style scoped>\n",
       "    .dataframe tbody tr th:only-of-type {\n",
       "        vertical-align: middle;\n",
       "    }\n",
       "\n",
       "    .dataframe tbody tr th {\n",
       "        vertical-align: top;\n",
       "    }\n",
       "\n",
       "    .dataframe thead th {\n",
       "        text-align: right;\n",
       "    }\n",
       "</style>\n",
       "<table border=\"1\" class=\"dataframe\">\n",
       "  <thead>\n",
       "    <tr style=\"text-align: right;\">\n",
       "      <th></th>\n",
       "      <th>Publisher_idx</th>\n",
       "      <th>YearOfPublication_idx</th>\n",
       "      <th>BookAuthor_idx</th>\n",
       "      <th>Location_idx</th>\n",
       "      <th>Publisher_NA</th>\n",
       "      <th>YearOfPublication_NA</th>\n",
       "      <th>BookAuthor_NA</th>\n",
       "    </tr>\n",
       "  </thead>\n",
       "  <tbody>\n",
       "    <tr>\n",
       "      <th>0</th>\n",
       "      <td>1</td>\n",
       "      <td>1</td>\n",
       "      <td>1</td>\n",
       "      <td>1</td>\n",
       "      <td>0</td>\n",
       "      <td>0</td>\n",
       "      <td>0</td>\n",
       "    </tr>\n",
       "    <tr>\n",
       "      <th>1</th>\n",
       "      <td>2</td>\n",
       "      <td>2</td>\n",
       "      <td>2</td>\n",
       "      <td>2</td>\n",
       "      <td>0</td>\n",
       "      <td>0</td>\n",
       "      <td>0</td>\n",
       "    </tr>\n",
       "    <tr>\n",
       "      <th>2</th>\n",
       "      <td>3</td>\n",
       "      <td>3</td>\n",
       "      <td>3</td>\n",
       "      <td>3</td>\n",
       "      <td>0</td>\n",
       "      <td>0</td>\n",
       "      <td>0</td>\n",
       "    </tr>\n",
       "    <tr>\n",
       "      <th>3</th>\n",
       "      <td>4</td>\n",
       "      <td>4</td>\n",
       "      <td>4</td>\n",
       "      <td>4</td>\n",
       "      <td>1</td>\n",
       "      <td>1</td>\n",
       "      <td>1</td>\n",
       "    </tr>\n",
       "    <tr>\n",
       "      <th>4</th>\n",
       "      <td>5</td>\n",
       "      <td>5</td>\n",
       "      <td>5</td>\n",
       "      <td>5</td>\n",
       "      <td>0</td>\n",
       "      <td>0</td>\n",
       "      <td>0</td>\n",
       "    </tr>\n",
       "  </tbody>\n",
       "</table>\n",
       "</div>"
      ],
      "text/plain": [
       "   Publisher_idx  YearOfPublication_idx  BookAuthor_idx  Location_idx  \\\n",
       "0              1                      1               1             1   \n",
       "1              2                      2               2             2   \n",
       "2              3                      3               3             3   \n",
       "3              4                      4               4             4   \n",
       "4              5                      5               5             5   \n",
       "\n",
       "   Publisher_NA  YearOfPublication_NA  BookAuthor_NA  \n",
       "0             0                     0              0  \n",
       "1             0                     0              0  \n",
       "2             0                     0              0  \n",
       "3             1                     1              1  \n",
       "4             0                     0              0  "
      ]
     },
     "execution_count": 58,
     "metadata": {},
     "output_type": "execute_result"
    }
   ],
   "source": [
    "dftrain[catCols].head()"
   ]
  },
  {
   "cell_type": "markdown",
   "metadata": {},
   "source": [
    "## Model Architecture"
   ]
  },
  {
   "cell_type": "code",
   "execution_count": 102,
   "metadata": {},
   "outputs": [],
   "source": [
    "n_users=len(user_to_idx)\n",
    "n_items=len(item_to_idx)\n",
    "n_emb_user=25\n",
    "n_emb_item=25\n",
    "min_rating=min(dftrain['rating'])\n",
    "max_rating=max(dftrain['rating'])\n",
    "dropout_e=0.1\n",
    "    # emb, bias, cat, dense,hidden1,hidden2\n",
    "hidden=[20,1,10,1,15,5,1]\n",
    "    # emb,bias,cat,dense,hidden1,hidden2\n",
    "dropouts=[0.2,0.2,0.2,0.2,0.2,0.1,0]"
   ]
  },
  {
   "cell_type": "code",
   "execution_count": 103,
   "metadata": {},
   "outputs": [],
   "source": [
    "def hidden_layer(x,y,dropout,activation=nn.Sigmoid()):\n",
    "    return nn.Sequential(\n",
    "        nn.Linear(x, y),\n",
    "        activation,\n",
    "        nn.Dropout(p=dropout)\n",
    "        )   "
   ]
  },
  {
   "cell_type": "code",
   "execution_count": 104,
   "metadata": {},
   "outputs": [],
   "source": [
    "#[mtx_user_emb,mtx_item_emb,user_bias_emb,item_bias_emb]=pickle.load(open(f'{DATAPATH}/wts_embs','rb'))\n",
    "pretrain_wts=pickle.load(open(f'{DATAPATH}/wts_embs','rb'))\n"
   ]
  },
  {
   "cell_type": "code",
   "execution_count": 108,
   "metadata": {},
   "outputs": [],
   "source": [
    "class cf(nn.Module):    \n",
    "    def __init__(self,n_users,n_emb_user,n_emb_item,n_items,min_rating,max_rating,autoenc_cols,pretrain_wts,\\\n",
    "                 catCols,  emb_szs,dropout_e=0.01,hidden=[15,5],dropouts=[0.2,0.2],error_type=\"mse\",\\\n",
    "                lambda_l2=0.1,lambda_l1=0.1,use_l1=False,use_l2=False):\n",
    "        super().__init__()\n",
    "        self.n_users,self.n_emb_user,self.n_emb_item,self.n_items,self.min_rating,self.max_rating=\\\n",
    "                    n_users,n_emb_user,n_emb_item,n_items,min_rating,max_rating\n",
    "        self.dropout_e,self.hidden,self.dropouts=dropout_e,hidden,dropouts\n",
    "        self.autoenc_cols,self.len_dense_cols=autoenc_cols,len(autoenc_cols)\n",
    "        self.catCols,self.emb_szs=catCols,emb_szs\n",
    "        self.lambda_l2,self.lambda_l1=lambda_l2,lambda_l1\n",
    "        self.use_l1,self.use_l2=use_l1,use_l2\n",
    "        self.len_cat_cols=len(self.catCols)\n",
    "        self.n_cat_emb=sum([x[1] for x in emb_szs])\n",
    "        self.n_dense=len(self.autoenc_cols)\n",
    "        self.l1_crit=nn.L1Loss()\n",
    "        self.l2_crit=nn.MSELoss()\n",
    "        \n",
    "        self.create_architecture()\n",
    "        #self.init_parameters()\n",
    "        \n",
    "        if pretrain_wts is not None:\n",
    "            self.emb_user.weight.data=torch.FloatTensor(pretrain_wts[0])\n",
    "            self.emb_item.weight.data=torch.FloatTensor(pretrain_wts[1])\n",
    "            self.ub.weight.data=torch.FloatTensor(pretrain_wts[2])\n",
    "            self.ib.weight.data=torch.FloatTensor(pretrain_wts[3])\n",
    "\n",
    "        if error_type!=\"mse\":\n",
    "            self.criterion=nn.L1Loss()\n",
    "        else:\n",
    "            self.criterion=nn.MSELoss()\n",
    "        \n",
    "    def create_architecture(self):\n",
    "        self.emb_user=nn.Embedding(self.n_users+1,self.n_emb_user)\n",
    "        self.emb_item=nn.Embedding(self.n_items+1,self.n_emb_item)\n",
    "        self.ub=nn.Embedding(self.n_users+1,1)\n",
    "        self.ib=nn.Embedding(self.n_items+1,1)\n",
    "        self.embs_cat=nn.ModuleList([nn.Embedding(x+1,y) for x,y in self.emb_szs])\n",
    "        \n",
    "        self.emb_dropout=nn.Dropout(self.dropout_e)\n",
    "\n",
    "        \n",
    "        self.lin_emb= nn.Sequential(nn.Linear(self.n_emb_user+self.n_emb_item,self.hidden[0]),\n",
    "                    nn.ReLU(),\n",
    "                    nn.Dropout(p=dropouts[0]) ,\n",
    "                    nn.BatchNorm1d(self.hidden[0]))\n",
    "        self.lin_bias=nn.Sequential(nn.Linear(2,self.hidden[1]),\n",
    "                    nn.ReLU(),\n",
    "                    nn.Dropout(p=dropouts[1]) ,\n",
    "                    nn.BatchNorm1d(self.hidden[1]))\n",
    "        self.lin_cat= nn.Sequential (nn.Linear(self.n_cat_emb,self.hidden[2]),\n",
    "                                nn.ReLU(),\n",
    "                                nn.Dropout(p=dropouts[2]),\n",
    "                            nn.BatchNorm1d(self.hidden[2]))\n",
    "        self.lin_dense= nn.Sequential (nn.Linear(self.n_dense,self.hidden[3]),\n",
    "                                nn.ReLU(),\n",
    "                                nn.Dropout(p=dropouts[3]),\n",
    "                            nn.BatchNorm1d(self.hidden[3]))        \n",
    "        \n",
    "        self.lin3= nn.Sequential (nn.Linear(self.hidden[0]+self.hidden[1]+self.hidden[2]+self.hidden[3],\\\n",
    "                                            self.hidden[4]),\n",
    "                    nn.ReLU(),\n",
    "                    nn.Dropout(p=dropouts[4]),\n",
    "                    nn.BatchNorm1d(self.hidden[4]))\n",
    "        self.lin4=nn.Sequential (nn.Linear(self.hidden[4],\\\n",
    "                                            self.hidden[5]),\n",
    "                    nn.ReLU(),\n",
    "                    nn.Dropout(p=dropouts[5]),\n",
    "                    nn.BatchNorm1d(self.hidden[5]))\n",
    "        self.lin5=nn.Linear(self.hidden[5],self.hidden[6])\n",
    "        self.sigmoid=nn.Sigmoid()\n",
    "        \n",
    "        \n",
    "    def init_parameters(self):\n",
    "        nn.init.kaiming_normal_(self.emb_user.weight.data)\n",
    "        nn.init.kaiming_normal_(self.emb_item.weight.data)\n",
    "        nn.init.zeros_(self.ub.weight.data)\n",
    "        nn.init.zeros_(self.ib.weight.data)\n",
    "        nn.init.kaiming_normal_(self.lin1[0].weight.data)\n",
    "\n",
    "        nn.init.kaiming_normal_(self.lin3[0].weight.data)\n",
    "        #nn.init.kaiming_normal_(lin)\n",
    "        \n",
    "        \n",
    "    def add_l2_reg (self,lin_parameters):\n",
    "        lin = torch.cat([x.view(-1) for x in lin_parameters])\n",
    "        l2=self.lambda_l2 * torch.norm(lin,2)\n",
    "        return l2\n",
    "        \n",
    "    def add_l1_reg (self,lin_parameters):\n",
    "        lin = torch.cat([x.view(-1) for x in lin_parameters])\n",
    "        l1=self.lambda_l1 * torch.norm(lin,1)\n",
    "        return l1    \n",
    "       \n",
    "    def forward (self,Xb,Yb):\n",
    "        \n",
    "        # EMBEDDINGS - USER AND ITEM\n",
    "        users=Xb[:,0].long()\n",
    "        items=Xb[:,1].long()\n",
    "        users=self.emb_dropout(self.emb_user(users))\n",
    "        items=self.emb_dropout(self.emb_item(items))\n",
    "        users_bias=self.emb_dropout(self.ub(Xb[:,0].long()))\n",
    "        items_bias=self.emb_dropout(self.ib(Xb[:,1].long()))\n",
    "        embed=torch.cat([users,items],1)\n",
    "        out_embs=self.lin_emb(embed)\n",
    "        bias=torch.cat([users_bias,items_bias],1)\n",
    "        biased=self.lin_bias(bias)\n",
    "           \n",
    "        # CATEGORICAL FEATURES\n",
    "        cats=Xb[:,2:(2+self.len_cat_cols)].long()\n",
    "        embed_cat=[self.emb_dropout(self.embs_cat[i](cats[:,i]) ) for i in range(len(self.emb_szs))]\n",
    "        embedded_cat = torch.cat([x for x in embed_cat],1)\n",
    "        out_cat=self.lin_cat(embedded_cat)\n",
    "        \n",
    "        # DENSE FEATURES\n",
    "        denses=Xb[:,(2+self.len_cat_cols):]\n",
    "        out_dense=self.lin_dense(denses)\n",
    "        \n",
    "        \n",
    "        out3=torch.cat([out_embs,biased,out_cat,out_dense],1)\n",
    "        \n",
    "        out4=self.lin3(out3)\n",
    "        \n",
    "        out5=self.lin4(out4)\n",
    "        \n",
    "        out6=self.lin5(out5)\n",
    "        \n",
    "        out=self.sigmoid(out6)\n",
    "        \n",
    "        preds=out*(self.max_rating-self.min_rating)+self.min_rating\n",
    "        #preds=preds.view(-1)\n",
    "        loss=self.criterion(preds,Yb)\n",
    "        if self.use_l2:\n",
    "            loss = loss +  self.add_l2_reg(self.lin_emb.parameters()) + \\\n",
    "                    self.add_l2_reg(self.lin_bias.parameters()) + \\\n",
    "                    self.add_l2_reg(self.lin_cat.parameters()) + \\\n",
    "                    self.add_l2_reg(self.lin_dense.parameters()) + \\\n",
    "                    self.add_l2_reg (self.lin3.parameters()) + \\\n",
    "                    self.add_l2_reg (self.lin4.parameters())+ self.add_l2_reg (self.lin5.parameters())\n",
    "        \n",
    "        \n",
    "        \n",
    "        \n",
    "        return preds,loss"
   ]
  },
  {
   "cell_type": "code",
   "execution_count": 109,
   "metadata": {},
   "outputs": [],
   "source": [
    "cfobj=cf(n_users,n_emb_user,n_emb_item,n_items,min_rating,max_rating,denseCols,pretrain_wts,catCols,emb_szs,dropout_e,hidden,dropouts,error_type=\"mse\",lambda_l2=1e-4)"
   ]
  },
  {
   "cell_type": "code",
   "execution_count": 110,
   "metadata": {},
   "outputs": [
    {
     "data": {
      "text/plain": [
       "cf(\n",
       "  (l1_crit): L1Loss()\n",
       "  (l2_crit): MSELoss()\n",
       "  (emb_user): Embedding(77806, 25)\n",
       "  (emb_item): Embedding(185974, 25)\n",
       "  (ub): Embedding(77806, 1)\n",
       "  (ib): Embedding(185974, 1)\n",
       "  (embs_cat): ModuleList(\n",
       "    (0): Embedding(11577, 50)\n",
       "    (1): Embedding(183, 50)\n",
       "    (2): Embedding(62115, 50)\n",
       "    (3): Embedding(21336, 50)\n",
       "    (4): Embedding(3, 1)\n",
       "    (5): Embedding(3, 1)\n",
       "    (6): Embedding(3, 1)\n",
       "  )\n",
       "  (emb_dropout): Dropout(p=0.1, inplace=False)\n",
       "  (lin_emb): Sequential(\n",
       "    (0): Linear(in_features=50, out_features=20, bias=True)\n",
       "    (1): ReLU()\n",
       "    (2): Dropout(p=0.2, inplace=False)\n",
       "    (3): BatchNorm1d(20, eps=1e-05, momentum=0.1, affine=True, track_running_stats=True)\n",
       "  )\n",
       "  (lin_bias): Sequential(\n",
       "    (0): Linear(in_features=2, out_features=1, bias=True)\n",
       "    (1): ReLU()\n",
       "    (2): Dropout(p=0.2, inplace=False)\n",
       "    (3): BatchNorm1d(1, eps=1e-05, momentum=0.1, affine=True, track_running_stats=True)\n",
       "  )\n",
       "  (lin_cat): Sequential(\n",
       "    (0): Linear(in_features=203, out_features=10, bias=True)\n",
       "    (1): ReLU()\n",
       "    (2): Dropout(p=0.2, inplace=False)\n",
       "    (3): BatchNorm1d(10, eps=1e-05, momentum=0.1, affine=True, track_running_stats=True)\n",
       "  )\n",
       "  (lin_dense): Sequential(\n",
       "    (0): Linear(in_features=2, out_features=1, bias=True)\n",
       "    (1): ReLU()\n",
       "    (2): Dropout(p=0.2, inplace=False)\n",
       "    (3): BatchNorm1d(1, eps=1e-05, momentum=0.1, affine=True, track_running_stats=True)\n",
       "  )\n",
       "  (lin3): Sequential(\n",
       "    (0): Linear(in_features=32, out_features=15, bias=True)\n",
       "    (1): ReLU()\n",
       "    (2): Dropout(p=0.2, inplace=False)\n",
       "    (3): BatchNorm1d(15, eps=1e-05, momentum=0.1, affine=True, track_running_stats=True)\n",
       "  )\n",
       "  (lin4): Sequential(\n",
       "    (0): Linear(in_features=15, out_features=5, bias=True)\n",
       "    (1): ReLU()\n",
       "    (2): Dropout(p=0.1, inplace=False)\n",
       "    (3): BatchNorm1d(5, eps=1e-05, momentum=0.1, affine=True, track_running_stats=True)\n",
       "  )\n",
       "  (lin5): Linear(in_features=5, out_features=1, bias=True)\n",
       "  (sigmoid): Sigmoid()\n",
       "  (criterion): MSELoss()\n",
       ")"
      ]
     },
     "execution_count": 110,
     "metadata": {},
     "output_type": "execute_result"
    }
   ],
   "source": [
    "cfobj"
   ]
  },
  {
   "cell_type": "code",
   "execution_count": 111,
   "metadata": {},
   "outputs": [],
   "source": [
    "for Xb, Yb in dltrain:\n",
    "    break"
   ]
  },
  {
   "cell_type": "code",
   "execution_count": 112,
   "metadata": {},
   "outputs": [
    {
     "data": {
      "text/plain": [
       "(torch.Size([64, 11]), torch.Size([64, 1]))"
      ]
     },
     "execution_count": 112,
     "metadata": {},
     "output_type": "execute_result"
    }
   ],
   "source": [
    "Xb.shape, Yb.shape"
   ]
  },
  {
   "cell_type": "code",
   "execution_count": 113,
   "metadata": {},
   "outputs": [
    {
     "data": {
      "text/plain": [
       "(tensor([[4.1903],\n",
       "         [5.2904],\n",
       "         [2.1759],\n",
       "         [4.9955],\n",
       "         [7.3840],\n",
       "         [1.8760],\n",
       "         [4.4024],\n",
       "         [5.7227],\n",
       "         [4.5874],\n",
       "         [2.6452],\n",
       "         [1.7859],\n",
       "         [5.7227],\n",
       "         [4.8771],\n",
       "         [5.7841],\n",
       "         [4.1507],\n",
       "         [4.7839],\n",
       "         [5.9891],\n",
       "         [2.8845],\n",
       "         [3.6672],\n",
       "         [5.5754],\n",
       "         [4.6934],\n",
       "         [6.8073],\n",
       "         [4.4079],\n",
       "         [4.2294],\n",
       "         [5.7227],\n",
       "         [4.3661],\n",
       "         [4.0477],\n",
       "         [5.4403],\n",
       "         [4.3024],\n",
       "         [4.8339],\n",
       "         [1.2267],\n",
       "         [4.6314],\n",
       "         [3.6362],\n",
       "         [5.2395],\n",
       "         [4.8758],\n",
       "         [6.4848],\n",
       "         [7.5013],\n",
       "         [5.0281],\n",
       "         [4.3460],\n",
       "         [5.7017],\n",
       "         [5.0623],\n",
       "         [4.9957],\n",
       "         [5.4444],\n",
       "         [2.1115],\n",
       "         [4.3184],\n",
       "         [4.8423],\n",
       "         [4.9965],\n",
       "         [4.3814],\n",
       "         [4.7242],\n",
       "         [4.1799],\n",
       "         [4.2603],\n",
       "         [5.7227],\n",
       "         [5.3901],\n",
       "         [5.3214],\n",
       "         [4.6628],\n",
       "         [5.8816],\n",
       "         [5.4391],\n",
       "         [6.4725],\n",
       "         [3.7013],\n",
       "         [5.3625],\n",
       "         [4.7495],\n",
       "         [3.6914],\n",
       "         [4.9475],\n",
       "         [5.7227]], grad_fn=<AddBackward0>),\n",
       " tensor(14.3450, grad_fn=<MseLossBackward>))"
      ]
     },
     "execution_count": 113,
     "metadata": {},
     "output_type": "execute_result"
    }
   ],
   "source": [
    "cfobj.forward(Xb,Yb)"
   ]
  },
  {
   "cell_type": "markdown",
   "metadata": {},
   "source": [
    "## Learner"
   ]
  },
  {
   "cell_type": "code",
   "execution_count": 114,
   "metadata": {},
   "outputs": [],
   "source": [
    "class Learner():\n",
    "    def __init__(self,model,optimizer,metric_fn,device,bptt=12,print_every=5,clip_val=None,\\\n",
    "                 cycle_mult=0,lr_decay=0.7,wd_mult=1.1,start_lr=2e-2, end_lr=5e-4,error_type=\"mse\"):\n",
    "        self.model,self.optimizer,self.metric_fn,self.device,self.print_every,self.bptt,self.losses,self.clip_val=\\\n",
    "            model,optimizer,metric_fn,device,print_every,bptt,[],clip_val\n",
    "        self.n_epochs=1\n",
    "        self.cycle_mult,self.lr_decay=cycle_mult,lr_decay\n",
    "        self.wd_mult=wd_mult\n",
    "        for param_group in self.optimizer.param_groups:\n",
    "            self.start_lr=param_group['lr']\n",
    "            self.start_wd=param_group['weight_decay']\n",
    "        self.wd=self.start_wd\n",
    "        self.lr=self.start_lr\n",
    "        self.end_lr=end_lr\n",
    "        self.n_epoch=0\n",
    "        self.lrs=[1e-2,5e-3,1e-4,5e-4]\n",
    "        self.preds,self.preds_valid,self.trainY,self.actual=[],[],[],[]\n",
    "        self.ratio=self.end_lr/self.start_lr\n",
    "        self.num_steps=self.cycle_mult\n",
    "        self.reset_cycle=self.cycle_mult\n",
    "        self.error_type=error_type\n",
    "        self.scores=[]\n",
    "        self.generate_scores=False\n",
    "        \n",
    "    def fit (self,Xb,Yb,mode_train=True):\n",
    "        if mode_train:\n",
    "            self.model.train()\n",
    "        else:\n",
    "            self.model.eval()\n",
    "        \n",
    "        #import pdb\n",
    "        #pdb.set_trace()\n",
    "        preds,loss=self.model(Xb,Yb)\n",
    "\n",
    "     \n",
    "        if mode_train:\n",
    "            if 1==0:\n",
    "                lr =self.lrs[torch.randint(0,4,(1,))]\n",
    "                for param_group in self.optimizer.param_groups:\n",
    "                    param_group['lr']=lr\n",
    "            \n",
    "            self.optimizer.zero_grad()\n",
    "            loss.backward()\n",
    "            self.optimizer.step()\n",
    "        myloss=loss.item()\n",
    "    \n",
    "        \n",
    "        with torch.no_grad():\n",
    "            if self.error_type == \"mse\":\n",
    "                acc=nn.L1Loss() (preds,Yb)\n",
    "                myrmse=np.sqrt(myloss)\n",
    "            else:\n",
    "                acc=nn.MSELoss() (preds,Yb)\n",
    "                myrmse=np.sqrt(acc.item())\n",
    "            acc=acc.item()\n",
    "                 \n",
    "        if mode_train==False:\n",
    "            if self.generate_scores:\n",
    "                self.scores.append(preds.detach().cpu().numpy().flatten())\n",
    "        del preds\n",
    "        del loss\n",
    "        \n",
    "        if self.clip_val is not None:\n",
    "            torch.nn.utils.clip_grad_norm_(self.model.parameters(), self.clip_val)\n",
    "        \n",
    "        return myloss, acc, myrmse\n",
    "    \n",
    "    def lr_find (self,start_lr,end_lr,iterator,n_batch):\n",
    "        losses,lrs=[],[]\n",
    "        ratio=end_lr/start_lr\n",
    "        num_steps=n_batch\n",
    "        lr=start_lr\n",
    "        for i in range(num_steps):            \n",
    "            lr=lr*(end_lr/start_lr)**(1/num_steps)\n",
    "            lrs.append(lr)\n",
    "        self.lrs=lrs\n",
    "        self.run_epoch(iterator,mode_train=True,lrs=lrs)\n",
    "    \n",
    "    def run_epoch(self,iterator,mode_train,lrs=None):\n",
    "        epoch_loss,epoch_acc,i,k=0,0,0,0\n",
    "        epoch_rmse=0\n",
    "\n",
    "        for Xb,Yb in iterator:\n",
    "            Xb=Xb.to(self.device)\n",
    "            Yb=Yb.to(self.device)\n",
    "            \n",
    "            if lrs is not None:\n",
    "                lr=lrs[k]\n",
    "                for param_group in self.optimizer.param_groups:\n",
    "                    param_group['lr']=lr \n",
    "            \n",
    "            loss,acc,myrmse=self.fit(Xb,Yb,mode_train)\n",
    "            \n",
    "            if lrs is not None:\n",
    "                self.losses.append(loss)\n",
    "\n",
    "            epoch_loss+=loss\n",
    "            epoch_acc+=acc\n",
    "            epoch_rmse+=myrmse\n",
    "            \n",
    "            k=k+1\n",
    "            if k%self.print_every == 0:\n",
    "                if k:\n",
    "                    print (f'Batch:{k} {epoch_loss/(k)}  ')  \n",
    "                    torch.cuda.empty_cache()\n",
    "\n",
    "        epoch_loss=epoch_loss/len(iterator)\n",
    "        epoch_acc=epoch_acc/len(iterator)\n",
    "        epoch_rmse=epoch_rmse/len(iterator)\n",
    "            \n",
    "        return epoch_loss,epoch_acc,epoch_rmse\n",
    "    \n",
    "    def plot_lrs(self, n_roll=1,ylim=None,xlim=None):\n",
    "        import seaborn as sns\n",
    "        ax=sns.lineplot(x=self.lrs,y=pd.Series(self.losses).rolling(n_roll).mean())\n",
    "        ax.set_xscale('log')\n",
    "        ax.set_ylabel('Loss')\n",
    "        ax.set_xlabel('Learning Rate')\n",
    "        if ylim is not None:\n",
    "            plt.ylim(ylim)\n",
    "        if xlim is not None:\n",
    "            plt.xlim(xlim)\n",
    "\n",
    "     \n",
    "    def run_epochs(self,dltrain,dlvalid,n_epochs=1):              \n",
    "        for epoch in range(n_epochs):                \n",
    "            loss,acc,rmse=self.run_epoch(dltrain,True)\n",
    "\n",
    "            lossv,accv,rmsev=self.run_epoch(dlvalid,mode_train=False)\n",
    "           \n",
    "            if self.error_type==\"mse\":\n",
    "                loss_mse=loss\n",
    "                loss_rmse=rmse\n",
    "                loss_mae=acc\n",
    "                lossv_mse=lossv\n",
    "                lossv_rmse=rmsev\n",
    "                lossv_mae=accv\n",
    "                \n",
    "            else:\n",
    "                loss_mse=acc\n",
    "                loss_rmse=rmse\n",
    "                loss_mae=loss\n",
    "                lossv_mse=accv\n",
    "                lossv_rmse=rmsev\n",
    "                lossv_mae=lossv\n",
    "            \n",
    "            print (f'Epoch:{epoch} Learning rate {self.lr} Weight Decay {self.wd} Train Loss:{loss} \\\n",
    "                Valid Loss:{lossv} Train RMSE:{loss_rmse} Valid RMSE:{lossv_rmse} Train MSE:{loss_mse} Valid MSE:{lossv_mse} \\\n",
    "                Train MAE:{loss_mae} Valid MAE:{lossv_mae}')\n",
    "\n",
    "              \n",
    "         \n",
    "     \n",
    "            if self.cycle_mult:\n",
    "                if self.n_epoch==self.reset_cycle:\n",
    "                    self.lr=self.start_lr\n",
    "                    self.wd=self.start_wd\n",
    "                    self.reset_cycle*=self.cycle_mult\n",
    "                    #reset_cycle=self.n_epoch+reset_cycle\n",
    "                    self.n_epoch=0\n",
    "                    self.ratio=self.end_lr/self.start_lr\n",
    "                    self.num_steps=self.reset_cycle\n",
    "                else:\n",
    "                    #self.lr*=(self.lr_decay**self.n_epoch)  \n",
    "                    #if self.n_epoch>1:\n",
    "                    self.wd*=self.wd_mult\n",
    "                    self.lr=self.lr*(self.end_lr/self.start_lr)**(1/self.num_steps)\n",
    "                    self.n_epoch+=1\n",
    "        \n",
    "\n",
    "                \n",
    "            for param_group in self.optimizer.param_groups:\n",
    "                param_group['lr']=self.lr\n",
    "                param_group['weight_decay']=self.wd\n",
    "          \n",
    "     "
   ]
  },
  {
   "cell_type": "code",
   "execution_count": 115,
   "metadata": {},
   "outputs": [],
   "source": [
    "device='cuda:1'"
   ]
  },
  {
   "cell_type": "code",
   "execution_count": 116,
   "metadata": {},
   "outputs": [],
   "source": [
    "cfobj=cf(n_users,n_emb_user,n_emb_item,n_items,min_rating,max_rating,denseCols,pretrain_wts,\\\n",
    "         catCols,emb_szs,dropout_e,hidden,dropouts,error_type=\"mse\",use_l1=0,use_l2=0)"
   ]
  },
  {
   "cell_type": "code",
   "execution_count": 117,
   "metadata": {},
   "outputs": [],
   "source": [
    "cfobj=cfobj.to(device)"
   ]
  },
  {
   "cell_type": "code",
   "execution_count": 118,
   "metadata": {},
   "outputs": [
    {
     "data": {
      "text/plain": [
       "cf(\n",
       "  (l1_crit): L1Loss()\n",
       "  (l2_crit): MSELoss()\n",
       "  (emb_user): Embedding(77806, 25)\n",
       "  (emb_item): Embedding(185974, 25)\n",
       "  (ub): Embedding(77806, 1)\n",
       "  (ib): Embedding(185974, 1)\n",
       "  (embs_cat): ModuleList(\n",
       "    (0): Embedding(11577, 50)\n",
       "    (1): Embedding(183, 50)\n",
       "    (2): Embedding(62115, 50)\n",
       "    (3): Embedding(21336, 50)\n",
       "    (4): Embedding(3, 1)\n",
       "    (5): Embedding(3, 1)\n",
       "    (6): Embedding(3, 1)\n",
       "  )\n",
       "  (emb_dropout): Dropout(p=0.1, inplace=False)\n",
       "  (lin_emb): Sequential(\n",
       "    (0): Linear(in_features=50, out_features=20, bias=True)\n",
       "    (1): ReLU()\n",
       "    (2): Dropout(p=0.2, inplace=False)\n",
       "    (3): BatchNorm1d(20, eps=1e-05, momentum=0.1, affine=True, track_running_stats=True)\n",
       "  )\n",
       "  (lin_bias): Sequential(\n",
       "    (0): Linear(in_features=2, out_features=1, bias=True)\n",
       "    (1): ReLU()\n",
       "    (2): Dropout(p=0.2, inplace=False)\n",
       "    (3): BatchNorm1d(1, eps=1e-05, momentum=0.1, affine=True, track_running_stats=True)\n",
       "  )\n",
       "  (lin_cat): Sequential(\n",
       "    (0): Linear(in_features=203, out_features=10, bias=True)\n",
       "    (1): ReLU()\n",
       "    (2): Dropout(p=0.2, inplace=False)\n",
       "    (3): BatchNorm1d(10, eps=1e-05, momentum=0.1, affine=True, track_running_stats=True)\n",
       "  )\n",
       "  (lin_dense): Sequential(\n",
       "    (0): Linear(in_features=2, out_features=1, bias=True)\n",
       "    (1): ReLU()\n",
       "    (2): Dropout(p=0.2, inplace=False)\n",
       "    (3): BatchNorm1d(1, eps=1e-05, momentum=0.1, affine=True, track_running_stats=True)\n",
       "  )\n",
       "  (lin3): Sequential(\n",
       "    (0): Linear(in_features=32, out_features=15, bias=True)\n",
       "    (1): ReLU()\n",
       "    (2): Dropout(p=0.2, inplace=False)\n",
       "    (3): BatchNorm1d(15, eps=1e-05, momentum=0.1, affine=True, track_running_stats=True)\n",
       "  )\n",
       "  (lin4): Sequential(\n",
       "    (0): Linear(in_features=15, out_features=5, bias=True)\n",
       "    (1): ReLU()\n",
       "    (2): Dropout(p=0.1, inplace=False)\n",
       "    (3): BatchNorm1d(5, eps=1e-05, momentum=0.1, affine=True, track_running_stats=True)\n",
       "  )\n",
       "  (lin5): Linear(in_features=5, out_features=1, bias=True)\n",
       "  (sigmoid): Sigmoid()\n",
       "  (criterion): MSELoss()\n",
       ")"
      ]
     },
     "execution_count": 118,
     "metadata": {},
     "output_type": "execute_result"
    }
   ],
   "source": [
    "cfobj"
   ]
  },
  {
   "cell_type": "code",
   "execution_count": 119,
   "metadata": {},
   "outputs": [],
   "source": [
    "wd=5e-5\n",
    "optimizer=torch.optim.SGD(cfobj.parameters(),lr=5e-3,momentum=0.9, weight_decay=wd,nesterov=True)\n",
    "learner=Learner(cfobj,optimizer,None,device,0,12000,0.25,cycle_mult=0)"
   ]
  },
  {
   "cell_type": "code",
   "execution_count": 120,
   "metadata": {},
   "outputs": [
    {
     "data": {
      "text/plain": [
       "6110"
      ]
     },
     "execution_count": 120,
     "metadata": {},
     "output_type": "execute_result"
    }
   ],
   "source": [
    "len(dltrain)"
   ]
  },
  {
   "cell_type": "code",
   "execution_count": 121,
   "metadata": {},
   "outputs": [],
   "source": [
    "learner.lr_find(5e-5,1e-2,dltrain,len(dltrain))"
   ]
  },
  {
   "cell_type": "code",
   "execution_count": 134,
   "metadata": {},
   "outputs": [
    {
     "data": {
      "image/png": "[encoded data removed]",
      "text/plain": [
       "<Figure size 432x288 with 1 Axes>"
      ]
     },
     "metadata": {
      "needs_background": "light"
     },
     "output_type": "display_data"
    }
   ],
   "source": [
    "learner.plot_lrs(500)"
   ]
  },
  {
   "cell_type": "code",
   "execution_count": 123,
   "metadata": {},
   "outputs": [
    {
     "data": {
      "image/png": "[encoded data removed]",
      "text/plain": [
       "<Figure size 432x288 with 1 Axes>"
      ]
     },
     "metadata": {
      "needs_background": "light"
     },
     "output_type": "display_data"
    }
   ],
   "source": [
    "learner.plot_lrs(10)"
   ]
  },
  {
   "cell_type": "code",
   "execution_count": 124,
   "metadata": {},
   "outputs": [
    {
     "data": {
      "image/png": "[encoded data removed]",
      "text/plain": [
       "<Figure size 432x288 with 1 Axes>"
      ]
     },
     "metadata": {
      "needs_background": "light"
     },
     "output_type": "display_data"
    }
   ],
   "source": [
    "learner.plot_lrs(1)"
   ]
  },
  {
   "cell_type": "code",
   "execution_count": 125,
   "metadata": {},
   "outputs": [
    {
     "data": {
      "text/plain": [
       "[0.2, 0.2, 0.2, 0.2, 0.2, 0.1, 0]"
      ]
     },
     "execution_count": 125,
     "metadata": {},
     "output_type": "execute_result"
    }
   ],
   "source": [
    "cfobj.dropouts"
   ]
  },
  {
   "cell_type": "code",
   "execution_count": 126,
   "metadata": {},
   "outputs": [],
   "source": [
    "del cfobj\n",
    "torch.cuda.empty_cache()"
   ]
  },
  {
   "cell_type": "code",
   "execution_count": 128,
   "metadata": {},
   "outputs": [],
   "source": [
    "pretrain_wts=pickle.load(open(f'{DATAPATH}/wts_embs','rb'))"
   ]
  },
  {
   "cell_type": "code",
   "execution_count": 129,
   "metadata": {},
   "outputs": [],
   "source": [
    "cfobj=cf(n_users,n_emb_user,n_emb_item,n_items,min_rating,max_rating,denseCols,pretrain_wts,catCols,\\\n",
    "             emb_szs,dropout_e,hidden, error_type=\"mse\",lambda_l2=2e-1,lambda_l1=1e-3,use_l1=0,use_l2=0)\n",
    "cfobj=cfobj.to(device)"
   ]
  },
  {
   "cell_type": "code",
   "execution_count": 130,
   "metadata": {},
   "outputs": [
    {
     "data": {
      "text/plain": [
       "cf(\n",
       "  (l1_crit): L1Loss()\n",
       "  (l2_crit): MSELoss()\n",
       "  (emb_user): Embedding(77806, 25)\n",
       "  (emb_item): Embedding(185974, 25)\n",
       "  (ub): Embedding(77806, 1)\n",
       "  (ib): Embedding(185974, 1)\n",
       "  (embs_cat): ModuleList(\n",
       "    (0): Embedding(11577, 50)\n",
       "    (1): Embedding(183, 50)\n",
       "    (2): Embedding(62115, 50)\n",
       "    (3): Embedding(21336, 50)\n",
       "    (4): Embedding(3, 1)\n",
       "    (5): Embedding(3, 1)\n",
       "    (6): Embedding(3, 1)\n",
       "  )\n",
       "  (emb_dropout): Dropout(p=0.1, inplace=False)\n",
       "  (lin_emb): Sequential(\n",
       "    (0): Linear(in_features=50, out_features=20, bias=True)\n",
       "    (1): ReLU()\n",
       "    (2): Dropout(p=0.2, inplace=False)\n",
       "    (3): BatchNorm1d(20, eps=1e-05, momentum=0.1, affine=True, track_running_stats=True)\n",
       "  )\n",
       "  (lin_bias): Sequential(\n",
       "    (0): Linear(in_features=2, out_features=1, bias=True)\n",
       "    (1): ReLU()\n",
       "    (2): Dropout(p=0.2, inplace=False)\n",
       "    (3): BatchNorm1d(1, eps=1e-05, momentum=0.1, affine=True, track_running_stats=True)\n",
       "  )\n",
       "  (lin_cat): Sequential(\n",
       "    (0): Linear(in_features=203, out_features=10, bias=True)\n",
       "    (1): ReLU()\n",
       "    (2): Dropout(p=0.2, inplace=False)\n",
       "    (3): BatchNorm1d(10, eps=1e-05, momentum=0.1, affine=True, track_running_stats=True)\n",
       "  )\n",
       "  (lin_dense): Sequential(\n",
       "    (0): Linear(in_features=2, out_features=1, bias=True)\n",
       "    (1): ReLU()\n",
       "    (2): Dropout(p=0.2, inplace=False)\n",
       "    (3): BatchNorm1d(1, eps=1e-05, momentum=0.1, affine=True, track_running_stats=True)\n",
       "  )\n",
       "  (lin3): Sequential(\n",
       "    (0): Linear(in_features=32, out_features=15, bias=True)\n",
       "    (1): ReLU()\n",
       "    (2): Dropout(p=0.2, inplace=False)\n",
       "    (3): BatchNorm1d(15, eps=1e-05, momentum=0.1, affine=True, track_running_stats=True)\n",
       "  )\n",
       "  (lin4): Sequential(\n",
       "    (0): Linear(in_features=15, out_features=5, bias=True)\n",
       "    (1): ReLU()\n",
       "    (2): Dropout(p=0.1, inplace=False)\n",
       "    (3): BatchNorm1d(5, eps=1e-05, momentum=0.1, affine=True, track_running_stats=True)\n",
       "  )\n",
       "  (lin5): Linear(in_features=5, out_features=1, bias=True)\n",
       "  (sigmoid): Sigmoid()\n",
       "  (criterion): MSELoss()\n",
       ")"
      ]
     },
     "execution_count": 130,
     "metadata": {},
     "output_type": "execute_result"
    }
   ],
   "source": [
    "cfobj"
   ]
  },
  {
   "cell_type": "code",
   "execution_count": 131,
   "metadata": {},
   "outputs": [],
   "source": [
    "if 1==0:\n",
    "    cfobj.emb_user.weight.requires_grad=False\n",
    "    cfobj.emb_item.weight.requires_grad=False\n",
    "    cfobj.ib.weight.requires_grad=False\n",
    "    cfobj.ub.weight.requires_grad=False"
   ]
  },
  {
   "cell_type": "code",
   "execution_count": 132,
   "metadata": {},
   "outputs": [
    {
     "data": {
      "text/plain": [
       "5e-05"
      ]
     },
     "execution_count": 132,
     "metadata": {},
     "output_type": "execute_result"
    }
   ],
   "source": [
    "wd"
   ]
  },
  {
   "cell_type": "code",
   "execution_count": 135,
   "metadata": {},
   "outputs": [],
   "source": [
    "optimizer=torch.optim.Adam(cfobj.parameters(),lr=5e-3,betas=(0.9,0.999), weight_decay=wd,amsgrad=True)\n",
    "learner=Learner(cfobj,optimizer,None,device,0,12000,0.25,cycle_mult=2,start_lr=5e-4,end_lr=5e-5,wd_mult=1.1)"
   ]
  },
  {
   "cell_type": "code",
   "execution_count": 136,
   "metadata": {},
   "outputs": [
    {
     "name": "stdout",
     "output_type": "stream",
     "text": [
      "Epoch:0 Learning rate 0.005 Weight Decay 5e-05 Train Loss:3.01272746392826                 Valid Loss:2.963087219705825 Train RMSE:1.7219315154988066 Valid RMSE:1.7084893378752077 Train MSE:3.01272746392826 Valid MSE:2.963087219705825                 Train MAE:1.3694420001510708 Valid MAE:1.3102997474405897\n",
      "Epoch:1 Learning rate 0.0005 Weight Decay 5.500000000000001e-05 Train Loss:2.3201038110275705                 Valid Loss:2.9020847051754886 Train RMSE:1.5084046266739732 Valid RMSE:1.6913854107390052 Train MSE:2.3201038110275705 Valid MSE:2.9020847051754886                 Train MAE:1.1750729335212864 Valid MAE:1.3090078487567816\n",
      "Epoch:2 Learning rate 5e-05 Weight Decay 6.0500000000000014e-05 Train Loss:2.0966652299983215                 Valid Loss:3.0593102648519146 Train RMSE:1.431670175358891 Valid RMSE:1.7370875375569355 Train MSE:2.0966652299983215 Valid MSE:3.0593102648519146                 Train MAE:1.0997804347992723 Valid MAE:1.3498991536593687\n"
     ]
    }
   ],
   "source": [
    "learner.run_epochs(dltrain,dlvalid,3)"
   ]
  },
  {
   "cell_type": "code",
   "execution_count": 137,
   "metadata": {},
   "outputs": [
    {
     "name": "stdout",
     "output_type": "stream",
     "text": [
      "Epoch:0 Learning rate 0.005 Weight Decay 5e-05 Train Loss:2.293751268622918                 Valid Loss:3.151483245696621 Train RMSE:1.5027147886954457 Valid RMSE:1.7618719861088923 Train MSE:2.293751268622918 Valid MSE:3.151483245696621                 Train MAE:1.1708297058525334 Valid MAE:1.3483108386643108\n",
      "Epoch:1 Learning rate 0.0015811388300841897 Weight Decay 5.500000000000001e-05 Train Loss:2.0615551735785123                 Valid Loss:3.0633865392905126 Train RMSE:1.4236081465976549 Valid RMSE:1.7369884925169705 Train MSE:2.0615551735785123 Valid MSE:3.0633865392905126                 Train MAE:1.108003150236392 Valid MAE:1.3247315031120266\n",
      "Epoch:2 Learning rate 0.0005 Weight Decay 6.0500000000000014e-05 Train Loss:1.751839509162497                 Valid Loss:2.9846940823402006 Train RMSE:1.3099901261910785 Valid RMSE:1.7151167547226756 Train MSE:1.751839509162497 Valid MSE:2.9846940823402006                 Train MAE:1.0037780343803369 Valid MAE:1.3057609448011132\n",
      "Epoch:3 Learning rate 0.00015811388300841897 Weight Decay 6.655000000000002e-05 Train Loss:1.6233501854241381                 Valid Loss:2.9369837866015343 Train RMSE:1.2598899103262995 Valid RMSE:1.7014904349417916 Train MSE:1.6233501854241381 Valid MSE:2.9369837866015343                 Train MAE:0.9559218126993912 Valid MAE:1.2991075127021126\n"
     ]
    }
   ],
   "source": [
    "learner.run_epochs(dltrain,dlvalid,4)"
   ]
  },
  {
   "cell_type": "code",
   "execution_count": 148,
   "metadata": {},
   "outputs": [
    {
     "name": "stdout",
     "output_type": "stream",
     "text": [
      "Epoch:0 Learning rate 5e-05 Weight Decay 7.320500000000003e-05 Train Loss:1.5707244460691991                 Valid Loss:3.0195314603588215 Train RMSE:1.2388100616464095 Valid RMSE:1.725602925699813 Train MSE:1.5707244460691991 Valid MSE:3.0195314603588215                 Train MAE:0.9365162101100197 Valid MAE:1.3204495498444186\n",
      "Epoch:1 Learning rate 0.005 Weight Decay 5e-05 Train Loss:1.9032940014099333                 Valid Loss:3.242873936936237 Train RMSE:1.3673266892448928 Valid RMSE:1.7892072011326743 Train MSE:1.9032940014099333 Valid MSE:3.242873936936237                 Train MAE:1.053374315410511 Valid MAE:1.3652607582319622\n",
      "Epoch:2 Learning rate 0.0028117066259517455 Weight Decay 5.500000000000001e-05 Train Loss:1.7597746155119567                 Valid Loss:3.0714872995059173 Train RMSE:1.3137229754915485 Valid RMSE:1.7392078097590518 Train MSE:1.7597746155119567 Valid MSE:3.0714872995059173                 Train MAE:1.0103682712817934 Valid MAE:1.325519945399872\n",
      "Epoch:3 Learning rate 0.0015811388300841897 Weight Decay 6.0500000000000014e-05 Train Loss:1.5256380927250546                 Valid Loss:3.0343971461549155 Train RMSE:1.2217176945830281 Valid RMSE:1.7290552234377645 Train MSE:1.5256380927250546 Valid MSE:3.0343971461549155                 Train MAE:0.9277139712960357 Valid MAE:1.3174270565720692\n",
      "Epoch:4 Learning rate 0.0008891397050194614 Weight Decay 6.655000000000002e-05 Train Loss:1.4071540348365927                 Valid Loss:2.987176501411369 Train RMSE:1.172247376661184 Valid RMSE:1.7157900771964218 Train MSE:1.4071540348365927 Valid MSE:2.987176501411369                 Train MAE:0.8804711028811585 Valid MAE:1.30806615711867\n",
      "Epoch:5 Learning rate 0.0005 Weight Decay 7.320500000000003e-05 Train Loss:1.3577987602123847                 Valid Loss:2.977733267479572 Train RMSE:1.151074095204244 Valid RMSE:1.7131525042991769 Train MSE:1.3577987602123847 Valid MSE:2.977733267479572                 Train MAE:0.8589388685218636 Valid MAE:1.3079263206007241\n",
      "Epoch:6 Learning rate 0.00028117066259517455 Weight Decay 8.052550000000004e-05 Train Loss:1.3200199543015265                 Valid Loss:3.0065711448932517 Train RMSE:1.1344024871810128 Valid RMSE:1.7213840790507833 Train MSE:1.3200199543015265 Valid MSE:3.0065711448932517                 Train MAE:0.8435170407576179 Valid MAE:1.3099842971411424\n",
      "Epoch:7 Learning rate 0.00015811388300841897 Weight Decay 8.857805000000005e-05 Train Loss:1.2886000690015365                 Valid Loss:2.9918061464444095 Train RMSE:1.1203939340332012 Valid RMSE:1.7171497530774127 Train MSE:1.2886000690015365 Valid MSE:2.9918061464444095                 Train MAE:0.830340885281953 Valid MAE:1.3132590064401928\n"
     ]
    }
   ],
   "source": [
    "learner.run_epochs(dltrain,dlvalid,8)"
   ]
  },
  {
   "cell_type": "code",
   "execution_count": 147,
   "metadata": {},
   "outputs": [
    {
     "data": {
      "text/plain": [
       "'cuda:1'"
      ]
     },
     "execution_count": 147,
     "metadata": {},
     "output_type": "execute_result"
    }
   ],
   "source": [
    "device"
   ]
  },
  {
   "cell_type": "code",
   "execution_count": 138,
   "metadata": {},
   "outputs": [],
   "source": [
    "learner.generate_scores=True"
   ]
  },
  {
   "cell_type": "code",
   "execution_count": 139,
   "metadata": {},
   "outputs": [
    {
     "data": {
      "text/plain": [
       "(2.9369837866015343, 1.2991075127021126, 1.7014904349417916)"
      ]
     },
     "execution_count": 139,
     "metadata": {},
     "output_type": "execute_result"
    }
   ],
   "source": [
    "learner.run_epoch(dlvalid,False)"
   ]
  },
  {
   "cell_type": "code",
   "execution_count": 140,
   "metadata": {},
   "outputs": [],
   "source": [
    "dfvalid['pred_dnnrec']=np.concatenate(learner.scores)"
   ]
  },
  {
   "cell_type": "code",
   "execution_count": 141,
   "metadata": {},
   "outputs": [
    {
     "data": {
      "text/plain": [
       "1.7133682147133726"
      ]
     },
     "execution_count": 141,
     "metadata": {},
     "output_type": "execute_result"
    }
   ],
   "source": [
    "np.sqrt(metrics.mean_squared_error(dfvalid['rating'],dfvalid['pred_dnnrec']))"
   ]
  },
  {
   "cell_type": "code",
   "execution_count": 142,
   "metadata": {},
   "outputs": [],
   "source": [
    "def score_by_group (dfvalid,predVar,groupVar='cold_start_group',method='global_avg'):\n",
    "    scores=[]\n",
    "    mae_scores=[]\n",
    "    rmse_scores=[]\n",
    "    r2_scores=[]\n",
    "    groups=dfvalid[groupVar].value_counts().index.tolist()\n",
    "    for group in groups:\n",
    "        df=dfvalid.loc[dfvalid[groupVar]==group]\n",
    "        actual=df['rating']\n",
    "        score=metrics.mean_squared_error(df['rating'],df[predVar])\n",
    "        rmse_score=np.sqrt(metrics.mean_squared_error(df['rating'],df[predVar]))\n",
    "        mae_score=metrics.mean_absolute_error(df['rating'],df[predVar])\n",
    "        r2_score=metrics.r2_score(df['rating'],df[predVar])\n",
    "        scores.append(score)\n",
    "        mae_scores.append(mae_score)\n",
    "        rmse_scores.append(rmse_score)\n",
    "        r2_scores.append(r2_score)\n",
    "    return pd.DataFrame({'method':method, 'mse':scores, 'rmse':rmse_scores, 'mae':mae_scores, 'r2_score':r2_scores, 'Cold Start Group':groups})"
   ]
  },
  {
   "cell_type": "code",
   "execution_count": 143,
   "metadata": {},
   "outputs": [
    {
     "data": {
      "text/html": [
       "<div>\n",
       "<style scoped>\n",
       "    .dataframe tbody tr th:only-of-type {\n",
       "        vertical-align: middle;\n",
       "    }\n",
       "\n",
       "    .dataframe tbody tr th {\n",
       "        vertical-align: top;\n",
       "    }\n",
       "\n",
       "    .dataframe thead th {\n",
       "        text-align: right;\n",
       "    }\n",
       "</style>\n",
       "<table border=\"1\" class=\"dataframe\">\n",
       "  <thead>\n",
       "    <tr style=\"text-align: right;\">\n",
       "      <th></th>\n",
       "      <th>method</th>\n",
       "      <th>mse</th>\n",
       "      <th>rmse</th>\n",
       "      <th>mae</th>\n",
       "      <th>r2_score</th>\n",
       "      <th>Cold Start Group</th>\n",
       "    </tr>\n",
       "  </thead>\n",
       "  <tbody>\n",
       "    <tr>\n",
       "      <th>0</th>\n",
       "      <td>dnnrec</td>\n",
       "      <td>2.799009</td>\n",
       "      <td>1.673024</td>\n",
       "      <td>1.263449</td>\n",
       "      <td>0.156440</td>\n",
       "      <td>No-cold-start</td>\n",
       "    </tr>\n",
       "    <tr>\n",
       "      <th>1</th>\n",
       "      <td>dnnrec</td>\n",
       "      <td>2.737666</td>\n",
       "      <td>1.654590</td>\n",
       "      <td>1.226200</td>\n",
       "      <td>0.245879</td>\n",
       "      <td>Item-Cold_start</td>\n",
       "    </tr>\n",
       "    <tr>\n",
       "      <th>2</th>\n",
       "      <td>dnnrec</td>\n",
       "      <td>3.529919</td>\n",
       "      <td>1.878808</td>\n",
       "      <td>1.470685</td>\n",
       "      <td>-0.031895</td>\n",
       "      <td>User-Cold-Start</td>\n",
       "    </tr>\n",
       "    <tr>\n",
       "      <th>3</th>\n",
       "      <td>dnnrec</td>\n",
       "      <td>3.912971</td>\n",
       "      <td>1.978123</td>\n",
       "      <td>1.612154</td>\n",
       "      <td>0.003887</td>\n",
       "      <td>User-Item-cold-start</td>\n",
       "    </tr>\n",
       "    <tr>\n",
       "      <th>0</th>\n",
       "      <td>dnnrec</td>\n",
       "      <td>2.799009</td>\n",
       "      <td>1.673024</td>\n",
       "      <td>1.263449</td>\n",
       "      <td>0.156440</td>\n",
       "      <td>0</td>\n",
       "    </tr>\n",
       "    <tr>\n",
       "      <th>1</th>\n",
       "      <td>dnnrec</td>\n",
       "      <td>3.111505</td>\n",
       "      <td>1.763946</td>\n",
       "      <td>1.344347</td>\n",
       "      <td>0.137903</td>\n",
       "      <td>1</td>\n",
       "    </tr>\n",
       "    <tr>\n",
       "      <th>0</th>\n",
       "      <td>dnnrec</td>\n",
       "      <td>2.935631</td>\n",
       "      <td>1.713368</td>\n",
       "      <td>1.298817</td>\n",
       "      <td>0.150134</td>\n",
       "      <td>0</td>\n",
       "    </tr>\n",
       "  </tbody>\n",
       "</table>\n",
       "</div>"
      ],
      "text/plain": [
       "   method       mse      rmse       mae  r2_score      Cold Start Group\n",
       "0  dnnrec  2.799009  1.673024  1.263449  0.156440         No-cold-start\n",
       "1  dnnrec  2.737666  1.654590  1.226200  0.245879       Item-Cold_start\n",
       "2  dnnrec  3.529919  1.878808  1.470685 -0.031895       User-Cold-Start\n",
       "3  dnnrec  3.912971  1.978123  1.612154  0.003887  User-Item-cold-start\n",
       "0  dnnrec  2.799009  1.673024  1.263449  0.156440                     0\n",
       "1  dnnrec  3.111505  1.763946  1.344347  0.137903                     1\n",
       "0  dnnrec  2.935631  1.713368  1.298817  0.150134                     0"
      ]
     },
     "execution_count": 143,
     "metadata": {},
     "output_type": "execute_result"
    }
   ],
   "source": [
    "result_dnnrec=pd.concat([score_by_group(dfvalid,'pred_dnnrec','cold_start_group','dnnrec'),score_by_group(dfvalid,'pred_dnnrec','cold_start_bucket','dnnrec'),\\\n",
    "score_by_group(dfvalid,'pred_dnnrec','flag_train','dnnrec')],axis=0)\n",
    "result_dnnrec"
   ]
  },
  {
   "cell_type": "code",
   "execution_count": 144,
   "metadata": {},
   "outputs": [
    {
     "data": {
      "text/plain": [
       "(56, 6)"
      ]
     },
     "execution_count": 144,
     "metadata": {},
     "output_type": "execute_result"
    }
   ],
   "source": [
    "results_concat.shape"
   ]
  },
  {
   "cell_type": "code",
   "execution_count": 145,
   "metadata": {},
   "outputs": [],
   "source": [
    "results_concat=pd.concat([results_concat,result_dnnrec],axis=0)"
   ]
  },
  {
   "cell_type": "code",
   "execution_count": 146,
   "metadata": {},
   "outputs": [],
   "source": [
    "pickle.dump([df,dftrain,dfvalid,idx_to_user,idx_to_item,item_to_idx,user_to_idx,results_concat],open(f'{DATAPATH}/df_side_cold_runother_dnnrec_new.pkl','wb'))"
   ]
  },
  {
   "cell_type": "code",
   "execution_count": null,
   "metadata": {},
   "outputs": [],
   "source": []
  }
 ],
 "metadata": {
  "kernelspec": {
   "display_name": "Python 3",
   "language": "python",
   "name": "python3"
  },
  "language_info": {
   "codemirror_mode": {
    "name": "ipython",
    "version": 3
   },
   "file_extension": ".py",
   "mimetype": "text/x-python",
   "name": "python",
   "nbconvert_exporter": "python",
   "pygments_lexer": "ipython3",
   "version": "3.7.3"
  }
 },
 "nbformat": 4,
 "nbformat_minor": 2
}
