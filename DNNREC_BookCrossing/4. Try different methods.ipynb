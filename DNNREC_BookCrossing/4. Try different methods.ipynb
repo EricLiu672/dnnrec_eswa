{
 "cells": [
  {
   "cell_type": "code",
   "execution_count": 1,
   "metadata": {},
   "outputs": [],
   "source": [
    "import pickle"
   ]
  },
  {
   "cell_type": "code",
   "execution_count": 2,
   "metadata": {},
   "outputs": [],
   "source": [
    "PATH='/home/kirana/Documents/phd/experiment1_new/DNNREC_BookCrossing'\n",
    "DATAPATH='/home/kirana/Documents/final_dissertation_final/experiments/datasets/bookcrossing'"
   ]
  },
  {
   "cell_type": "code",
   "execution_count": 3,
   "metadata": {},
   "outputs": [],
   "source": [
    "MYMEDIALITEPATH='/home/kirana/MyMediaLite/bin'"
   ]
  },
  {
   "cell_type": "code",
   "execution_count": 4,
   "metadata": {},
   "outputs": [],
   "source": [
    "import pandas as pd\n",
    "import numpy as np\n",
    "import matplotlib.pyplot as plt\n",
    "import sklearn\n",
    "import os\n",
    "import pickle\n",
    "import torch\n",
    "from torch.utils.data import Dataset, DataLoader\n",
    "from torch import nn\n",
    "import pickle\n",
    "from sklearn import metrics"
   ]
  },
  {
   "cell_type": "code",
   "execution_count": 5,
   "metadata": {},
   "outputs": [],
   "source": [
    "[dftrain,dfvalid]=pickle.load(open(f'{DATAPATH}/df_side_cold.pkl','rb'))"
   ]
  },
  {
   "cell_type": "code",
   "execution_count": 6,
   "metadata": {},
   "outputs": [],
   "source": [
    "dftrain.reset_index(inplace=True)\n",
    "dfvalid.reset_index(inplace=True)"
   ]
  },
  {
   "cell_type": "code",
   "execution_count": 7,
   "metadata": {},
   "outputs": [
    {
     "data": {
      "text/plain": [
       "count    390999.000000\n",
       "mean          7.602083\n",
       "std           1.842177\n",
       "min           1.000000\n",
       "25%           7.000000\n",
       "50%           8.000000\n",
       "75%           9.000000\n",
       "max          10.000000\n",
       "Name: rating, dtype: float64"
      ]
     },
     "execution_count": 7,
     "metadata": {},
     "output_type": "execute_result"
    }
   ],
   "source": [
    "dftrain['rating'].describe()"
   ]
  },
  {
   "cell_type": "code",
   "execution_count": 8,
   "metadata": {},
   "outputs": [
    {
     "name": "stderr",
     "output_type": "stream",
     "text": [
      "/home/kirana/anaconda3/lib/python3.7/site-packages/ipykernel_launcher.py:1: FutureWarning: Sorting because non-concatenation axis is not aligned. A future version\n",
      "of pandas will change to not sort by default.\n",
      "\n",
      "To accept the future behavior, pass 'sort=False'.\n",
      "\n",
      "To retain the current behavior and silence the warning, pass 'sort=True'.\n",
      "\n",
      "  \"\"\"Entry point for launching an IPython kernel.\n"
     ]
    }
   ],
   "source": [
    "df=pd.concat([dftrain,dfvalid],axis=0)"
   ]
  },
  {
   "cell_type": "code",
   "execution_count": 9,
   "metadata": {},
   "outputs": [
    {
     "data": {
      "text/plain": [
       "(433671, 18)"
      ]
     },
     "execution_count": 9,
     "metadata": {},
     "output_type": "execute_result"
    }
   ],
   "source": [
    "df.shape"
   ]
  },
  {
   "cell_type": "code",
   "execution_count": 10,
   "metadata": {},
   "outputs": [],
   "source": [
    "user_to_idx={j:i+1 for i, j in enumerate(df['userId'].unique())}\n",
    "item_to_idx={j:i+1 for i,j in enumerate(df['itemId'].unique())}\n",
    "idx_to_user={i+1:j for i, j in enumerate(df['userId'].unique())}\n",
    "idx_to_item={i+1:j for i,j in enumerate(df['itemId'].unique())}"
   ]
  },
  {
   "cell_type": "code",
   "execution_count": 11,
   "metadata": {},
   "outputs": [],
   "source": [
    "dftrain['user_idx']=[user_to_idx[i] for i in dftrain['userId']]\n",
    "dftrain['item_idx']=[item_to_idx[i] for i in dftrain['itemId']]\n",
    "dfvalid['user_idx']=[user_to_idx[i] for i in dfvalid['userId']]\n",
    "dfvalid['item_idx']=[item_to_idx[i] for i in dfvalid['itemId']]"
   ]
  },
  {
   "cell_type": "code",
   "execution_count": 12,
   "metadata": {},
   "outputs": [],
   "source": [
    "dfinp_train=dftrain[['user_idx','item_idx','rating']]\n",
    "dfinp_test=dfvalid[['user_idx','item_idx','rating']]\n",
    "dfinp_train.to_csv(f'{PATH}/inp_train_bookcrossing.csv',index=False,header=False,sep=\",\")\n",
    "dfinp_test.to_csv(f'{PATH}/inp_test_bookcrossing.csv',index=False,header=False,sep=\",\")"
   ]
  },
  {
   "cell_type": "code",
   "execution_count": 13,
   "metadata": {},
   "outputs": [],
   "source": [
    "TRAINFILEPATH=f'{PATH}/inp_train_bookcrossing.csv'\n",
    "TESTFILEPATH=f'{PATH}/inp_test_bookcrossing.csv'"
   ]
  },
  {
   "cell_type": "code",
   "execution_count": 14,
   "metadata": {},
   "outputs": [
    {
     "data": {
      "text/html": [
       "<div>\n",
       "<style scoped>\n",
       "    .dataframe tbody tr th:only-of-type {\n",
       "        vertical-align: middle;\n",
       "    }\n",
       "\n",
       "    .dataframe tbody tr th {\n",
       "        vertical-align: top;\n",
       "    }\n",
       "\n",
       "    .dataframe thead th {\n",
       "        text-align: right;\n",
       "    }\n",
       "</style>\n",
       "<table border=\"1\" class=\"dataframe\">\n",
       "  <thead>\n",
       "    <tr style=\"text-align: right;\">\n",
       "      <th></th>\n",
       "      <th>user_idx</th>\n",
       "      <th>item_idx</th>\n",
       "      <th>rating</th>\n",
       "    </tr>\n",
       "  </thead>\n",
       "  <tbody>\n",
       "    <tr>\n",
       "      <th>0</th>\n",
       "      <td>1</td>\n",
       "      <td>1</td>\n",
       "      <td>9</td>\n",
       "    </tr>\n",
       "    <tr>\n",
       "      <th>1</th>\n",
       "      <td>2</td>\n",
       "      <td>2</td>\n",
       "      <td>9</td>\n",
       "    </tr>\n",
       "    <tr>\n",
       "      <th>2</th>\n",
       "      <td>3</td>\n",
       "      <td>3</td>\n",
       "      <td>5</td>\n",
       "    </tr>\n",
       "    <tr>\n",
       "      <th>3</th>\n",
       "      <td>4</td>\n",
       "      <td>4</td>\n",
       "      <td>6</td>\n",
       "    </tr>\n",
       "    <tr>\n",
       "      <th>4</th>\n",
       "      <td>5</td>\n",
       "      <td>5</td>\n",
       "      <td>7</td>\n",
       "    </tr>\n",
       "  </tbody>\n",
       "</table>\n",
       "</div>"
      ],
      "text/plain": [
       "   user_idx  item_idx  rating\n",
       "0         1         1       9\n",
       "1         2         2       9\n",
       "2         3         3       5\n",
       "3         4         4       6\n",
       "4         5         5       7"
      ]
     },
     "execution_count": 14,
     "metadata": {},
     "output_type": "execute_result"
    }
   ],
   "source": [
    "dfinp_train.head()"
   ]
  },
  {
   "cell_type": "code",
   "execution_count": 15,
   "metadata": {},
   "outputs": [],
   "source": [
    "dftrain.reset_index(inplace=True)\n",
    "dfvalid.reset_index(inplace=True)"
   ]
  },
  {
   "cell_type": "code",
   "execution_count": 16,
   "metadata": {},
   "outputs": [],
   "source": [
    "dftrain['flag_train']=1\n",
    "dfvalid['flag_train']=0"
   ]
  },
  {
   "cell_type": "markdown",
   "metadata": {},
   "source": [
    "### Global Average"
   ]
  },
  {
   "cell_type": "code",
   "execution_count": 17,
   "metadata": {},
   "outputs": [],
   "source": [
    "cmd=f'{MYMEDIALITEPATH}/rating_prediction --training-file={TRAINFILEPATH} --recommender=GlobalAverage \\\n",
    "--test-file={TESTFILEPATH} --prediction-file {DATAPATH}/prediction_globalavg.txt'"
   ]
  },
  {
   "cell_type": "code",
   "execution_count": 18,
   "metadata": {},
   "outputs": [
    {
     "name": "stdout",
     "output_type": "stream",
     "text": [
      "\u001b[?1h\u001b=\u001b[6n\u001b[H\u001b[2Jloading_time 0.61\n",
      "memory 33\n",
      "ratings range: [1, 10]\n",
      "training data: 72887 users, 173090 items, 390999 ratings, sparsity 99.9969\n",
      "test data:     17382 users, 31022 items, 42672 ratings, sparsity 99.99209\n",
      "GlobalAverage  training_time 00:00:00.0028360 RMSE 1.858584 MAE 1.508566 CBD 0.2522574 new users: RMSE 1.89347 MAE 1.52003 CBD 0.25596 new items: RMSE 1.92538 MAE 1.57339 CBD 0.25943  new users and items: RMSE 1.99718 MAE 1.61202 CBD 0.26377 testing_time 00:00:00.0283680\n",
      "prediction_time 00:00:00.0483240\n",
      "\n",
      "memory 34\n",
      "\u001b[?1l\u001b>\u001b[m"
     ]
    }
   ],
   "source": [
    "!command {cmd}"
   ]
  },
  {
   "cell_type": "code",
   "execution_count": 19,
   "metadata": {},
   "outputs": [],
   "source": [
    "predictions_globalavg=pd.read_csv (f'{DATAPATH}/prediction_globalavg.txt',sep='\\t',header=None).iloc[:,2]"
   ]
  },
  {
   "cell_type": "code",
   "execution_count": 20,
   "metadata": {},
   "outputs": [],
   "source": [
    "dfvalid['pred_globalavg']=predictions_globalavg"
   ]
  },
  {
   "cell_type": "code",
   "execution_count": 17,
   "metadata": {},
   "outputs": [],
   "source": [
    "def score_by_group (dfvalid,predVar,groupVar='cold_start_group',method='global_avg'):\n",
    "    scores=[]\n",
    "    mae_scores=[]\n",
    "    r2_scores=[]\n",
    "    groups=dfvalid[groupVar].value_counts().index.tolist()\n",
    "    for group in groups:\n",
    "        df=dfvalid.loc[dfvalid[groupVar]==group]\n",
    "        actual=df['rating']\n",
    "        score=metrics.mean_squared_error(df['rating'],df[predVar])\n",
    "        mae_score=metrics.mean_absolute_error(df['rating'],df[predVar])\n",
    "        r2_score=metrics.r2_score(df['rating'],df[predVar])\n",
    "        scores.append(score)\n",
    "        mae_scores.append(mae_score)\n",
    "        r2_scores.append(r2_score)\n",
    "    return pd.DataFrame({'method':method, 'mse':scores, 'rmse':np.sqrt(scores), 'mae':mae_scores, 'r2_score':r2_scores, 'Cold Start Group':groups})"
   ]
  },
  {
   "cell_type": "code",
   "execution_count": 22,
   "metadata": {},
   "outputs": [
    {
     "data": {
      "text/plain": [
       "0        7.602083\n",
       "1        7.602083\n",
       "2        7.602083\n",
       "3        7.602083\n",
       "4        7.602083\n",
       "5        7.602083\n",
       "6        7.602083\n",
       "7        7.602083\n",
       "8        7.602083\n",
       "9        7.602083\n",
       "10       7.602083\n",
       "11       7.602083\n",
       "12       7.602083\n",
       "13       7.602083\n",
       "14       7.602083\n",
       "15       7.602083\n",
       "16       7.602083\n",
       "17       7.602083\n",
       "18       7.602083\n",
       "19       7.602083\n",
       "20       7.602083\n",
       "21       7.602083\n",
       "22       7.602083\n",
       "23       7.602083\n",
       "24       7.602083\n",
       "25       7.602083\n",
       "26       7.602083\n",
       "27       7.602083\n",
       "28       7.602083\n",
       "29       7.602083\n",
       "           ...   \n",
       "42642    7.602083\n",
       "42643    7.602083\n",
       "42644    7.602083\n",
       "42645    7.602083\n",
       "42646    7.602083\n",
       "42647    7.602083\n",
       "42648    7.602083\n",
       "42649    7.602083\n",
       "42650    7.602083\n",
       "42651    7.602083\n",
       "42652    7.602083\n",
       "42653    7.602083\n",
       "42654    7.602083\n",
       "42655    7.602083\n",
       "42656    7.602083\n",
       "42657    7.602083\n",
       "42658    7.602083\n",
       "42659    7.602083\n",
       "42660    7.602083\n",
       "42661    7.602083\n",
       "42662    7.602083\n",
       "42663    7.602083\n",
       "42664    7.602083\n",
       "42665    7.602083\n",
       "42666    7.602083\n",
       "42667    7.602083\n",
       "42668    7.602083\n",
       "42669    7.602083\n",
       "42670    7.602083\n",
       "42671    7.602083\n",
       "Name: pred_globalavg, Length: 42672, dtype: float64"
      ]
     },
     "execution_count": 22,
     "metadata": {},
     "output_type": "execute_result"
    }
   ],
   "source": [
    "dfvalid['pred_globalavg']"
   ]
  },
  {
   "cell_type": "code",
   "execution_count": 23,
   "metadata": {},
   "outputs": [],
   "source": [
    "result_globalavg=pd.concat([score_by_group(dfvalid,'pred_globalavg'),score_by_group(dfvalid,'pred_globalavg','cold_start_bucket'),\\\n",
    "score_by_group(dfvalid,'pred_globalavg','flag_train')],axis=0)"
   ]
  },
  {
   "cell_type": "code",
   "execution_count": 24,
   "metadata": {},
   "outputs": [
    {
     "data": {
      "text/html": [
       "<div>\n",
       "<style scoped>\n",
       "    .dataframe tbody tr th:only-of-type {\n",
       "        vertical-align: middle;\n",
       "    }\n",
       "\n",
       "    .dataframe tbody tr th {\n",
       "        vertical-align: top;\n",
       "    }\n",
       "\n",
       "    .dataframe thead th {\n",
       "        text-align: right;\n",
       "    }\n",
       "</style>\n",
       "<table border=\"1\" class=\"dataframe\">\n",
       "  <thead>\n",
       "    <tr style=\"text-align: right;\">\n",
       "      <th></th>\n",
       "      <th>method</th>\n",
       "      <th>mse</th>\n",
       "      <th>rmse</th>\n",
       "      <th>mae</th>\n",
       "      <th>r2_score</th>\n",
       "      <th>Cold Start Group</th>\n",
       "    </tr>\n",
       "  </thead>\n",
       "  <tbody>\n",
       "    <tr>\n",
       "      <th>0</th>\n",
       "      <td>global_avg</td>\n",
       "      <td>3.323359</td>\n",
       "      <td>1.823008</td>\n",
       "      <td>1.478961</td>\n",
       "      <td>-0.001588</td>\n",
       "      <td>No-cold-start</td>\n",
       "    </tr>\n",
       "    <tr>\n",
       "      <th>1</th>\n",
       "      <td>global_avg</td>\n",
       "      <td>3.649579</td>\n",
       "      <td>1.910387</td>\n",
       "      <td>1.565508</td>\n",
       "      <td>-0.005318</td>\n",
       "      <td>Item-Cold_start</td>\n",
       "    </tr>\n",
       "    <tr>\n",
       "      <th>2</th>\n",
       "      <td>global_avg</td>\n",
       "      <td>3.421264</td>\n",
       "      <td>1.849666</td>\n",
       "      <td>1.482640</td>\n",
       "      <td>-0.000132</td>\n",
       "      <td>User-Cold-Start</td>\n",
       "    </tr>\n",
       "    <tr>\n",
       "      <th>3</th>\n",
       "      <td>global_avg</td>\n",
       "      <td>3.988708</td>\n",
       "      <td>1.997175</td>\n",
       "      <td>1.612015</td>\n",
       "      <td>-0.015393</td>\n",
       "      <td>User-Item-cold-start</td>\n",
       "    </tr>\n",
       "    <tr>\n",
       "      <th>0</th>\n",
       "      <td>global_avg</td>\n",
       "      <td>3.323359</td>\n",
       "      <td>1.823008</td>\n",
       "      <td>1.478961</td>\n",
       "      <td>-0.001588</td>\n",
       "      <td>0</td>\n",
       "    </tr>\n",
       "    <tr>\n",
       "      <th>1</th>\n",
       "      <td>global_avg</td>\n",
       "      <td>3.622941</td>\n",
       "      <td>1.903402</td>\n",
       "      <td>1.546677</td>\n",
       "      <td>-0.003799</td>\n",
       "      <td>1</td>\n",
       "    </tr>\n",
       "    <tr>\n",
       "      <th>0</th>\n",
       "      <td>global_avg</td>\n",
       "      <td>3.454335</td>\n",
       "      <td>1.858584</td>\n",
       "      <td>1.508566</td>\n",
       "      <td>-0.000031</td>\n",
       "      <td>0</td>\n",
       "    </tr>\n",
       "  </tbody>\n",
       "</table>\n",
       "</div>"
      ],
      "text/plain": [
       "       method       mse      rmse       mae  r2_score      Cold Start Group\n",
       "0  global_avg  3.323359  1.823008  1.478961 -0.001588         No-cold-start\n",
       "1  global_avg  3.649579  1.910387  1.565508 -0.005318       Item-Cold_start\n",
       "2  global_avg  3.421264  1.849666  1.482640 -0.000132       User-Cold-Start\n",
       "3  global_avg  3.988708  1.997175  1.612015 -0.015393  User-Item-cold-start\n",
       "0  global_avg  3.323359  1.823008  1.478961 -0.001588                     0\n",
       "1  global_avg  3.622941  1.903402  1.546677 -0.003799                     1\n",
       "0  global_avg  3.454335  1.858584  1.508566 -0.000031                     0"
      ]
     },
     "execution_count": 24,
     "metadata": {},
     "output_type": "execute_result"
    }
   ],
   "source": [
    "result_globalavg"
   ]
  },
  {
   "cell_type": "code",
   "execution_count": 25,
   "metadata": {},
   "outputs": [
    {
     "data": {
      "text/plain": [
       "0    42672\n",
       "Name: flag_train, dtype: int64"
      ]
     },
     "execution_count": 25,
     "metadata": {},
     "output_type": "execute_result"
    }
   ],
   "source": [
    "dfvalid['flag_train'].value_counts()"
   ]
  },
  {
   "cell_type": "markdown",
   "metadata": {},
   "source": [
    "### User Average"
   ]
  },
  {
   "cell_type": "code",
   "execution_count": 26,
   "metadata": {},
   "outputs": [],
   "source": [
    "cmd=f'{MYMEDIALITEPATH}/rating_prediction --training-file={TRAINFILEPATH} --recommender=UserAverage \\\n",
    "--test-file={TESTFILEPATH} --prediction-file {DATAPATH}/prediction_useravg.txt'"
   ]
  },
  {
   "cell_type": "code",
   "execution_count": 27,
   "metadata": {
    "scrolled": true
   },
   "outputs": [
    {
     "name": "stdout",
     "output_type": "stream",
     "text": [
      "\u001b[?1h\u001b=\u001b[6n\u001b[H\u001b[2Jloading_time 0.6\n",
      "memory 33\n",
      "ratings range: [1, 10]\n",
      "training data: 72887 users, 173090 items, 390999 ratings, sparsity 99.9969\n",
      "test data:     17382 users, 31022 items, 42672 ratings, sparsity 99.99209\n",
      "UserAverage  training_time 00:00:00.0140320 RMSE 1.714193 MAE 1.309033 CBD 0.2459723 new users: RMSE 1.89347 MAE 1.52003 CBD 0.25596 new items: RMSE 1.7117 MAE 1.29179 CBD 0.24959  new users and items: RMSE 1.99718 MAE 1.61202 CBD 0.26377 testing_time 00:00:00.0283350\n",
      "prediction_time 00:00:00.0461930\n",
      "\n",
      "memory 35\n",
      "\u001b[?1l\u001b>\u001b[m"
     ]
    }
   ],
   "source": [
    "!command {cmd}"
   ]
  },
  {
   "cell_type": "code",
   "execution_count": 28,
   "metadata": {},
   "outputs": [],
   "source": [
    "predictions_useravg=pd.read_csv (f'{DATAPATH}/prediction_useravg.txt',sep='\\t',header=None).iloc[:,2]"
   ]
  },
  {
   "cell_type": "code",
   "execution_count": 29,
   "metadata": {},
   "outputs": [],
   "source": [
    "dfvalid['pred_useravg']=predictions_useravg"
   ]
  },
  {
   "cell_type": "code",
   "execution_count": 30,
   "metadata": {},
   "outputs": [
    {
     "data": {
      "text/html": [
       "<div>\n",
       "<style scoped>\n",
       "    .dataframe tbody tr th:only-of-type {\n",
       "        vertical-align: middle;\n",
       "    }\n",
       "\n",
       "    .dataframe tbody tr th {\n",
       "        vertical-align: top;\n",
       "    }\n",
       "\n",
       "    .dataframe thead th {\n",
       "        text-align: right;\n",
       "    }\n",
       "</style>\n",
       "<table border=\"1\" class=\"dataframe\">\n",
       "  <thead>\n",
       "    <tr style=\"text-align: right;\">\n",
       "      <th></th>\n",
       "      <th>method</th>\n",
       "      <th>mse</th>\n",
       "      <th>rmse</th>\n",
       "      <th>mae</th>\n",
       "      <th>r2_score</th>\n",
       "      <th>Cold Start Group</th>\n",
       "    </tr>\n",
       "  </thead>\n",
       "  <tbody>\n",
       "    <tr>\n",
       "      <th>0</th>\n",
       "      <td>useravg</td>\n",
       "      <td>2.832725</td>\n",
       "      <td>1.683070</td>\n",
       "      <td>1.278786</td>\n",
       "      <td>0.146278</td>\n",
       "      <td>No-cold-start</td>\n",
       "    </tr>\n",
       "    <tr>\n",
       "      <th>1</th>\n",
       "      <td>useravg</td>\n",
       "      <td>2.713754</td>\n",
       "      <td>1.647348</td>\n",
       "      <td>1.226404</td>\n",
       "      <td>0.252465</td>\n",
       "      <td>Item-Cold_start</td>\n",
       "    </tr>\n",
       "    <tr>\n",
       "      <th>2</th>\n",
       "      <td>useravg</td>\n",
       "      <td>3.421264</td>\n",
       "      <td>1.849666</td>\n",
       "      <td>1.482640</td>\n",
       "      <td>-0.000132</td>\n",
       "      <td>User-Cold-Start</td>\n",
       "    </tr>\n",
       "    <tr>\n",
       "      <th>3</th>\n",
       "      <td>useravg</td>\n",
       "      <td>3.988708</td>\n",
       "      <td>1.997175</td>\n",
       "      <td>1.612015</td>\n",
       "      <td>-0.015393</td>\n",
       "      <td>User-Item-cold-start</td>\n",
       "    </tr>\n",
       "    <tr>\n",
       "      <th>0</th>\n",
       "      <td>useravg</td>\n",
       "      <td>2.832725</td>\n",
       "      <td>1.683070</td>\n",
       "      <td>1.278786</td>\n",
       "      <td>0.146278</td>\n",
       "      <td>0</td>\n",
       "    </tr>\n",
       "    <tr>\n",
       "      <th>1</th>\n",
       "      <td>useravg</td>\n",
       "      <td>3.074568</td>\n",
       "      <td>1.753445</td>\n",
       "      <td>1.347970</td>\n",
       "      <td>0.148137</td>\n",
       "      <td>1</td>\n",
       "    </tr>\n",
       "    <tr>\n",
       "      <th>0</th>\n",
       "      <td>useravg</td>\n",
       "      <td>2.938458</td>\n",
       "      <td>1.714193</td>\n",
       "      <td>1.309033</td>\n",
       "      <td>0.149316</td>\n",
       "      <td>0</td>\n",
       "    </tr>\n",
       "  </tbody>\n",
       "</table>\n",
       "</div>"
      ],
      "text/plain": [
       "    method       mse      rmse       mae  r2_score      Cold Start Group\n",
       "0  useravg  2.832725  1.683070  1.278786  0.146278         No-cold-start\n",
       "1  useravg  2.713754  1.647348  1.226404  0.252465       Item-Cold_start\n",
       "2  useravg  3.421264  1.849666  1.482640 -0.000132       User-Cold-Start\n",
       "3  useravg  3.988708  1.997175  1.612015 -0.015393  User-Item-cold-start\n",
       "0  useravg  2.832725  1.683070  1.278786  0.146278                     0\n",
       "1  useravg  3.074568  1.753445  1.347970  0.148137                     1\n",
       "0  useravg  2.938458  1.714193  1.309033  0.149316                     0"
      ]
     },
     "execution_count": 30,
     "metadata": {},
     "output_type": "execute_result"
    }
   ],
   "source": [
    "result_useravg=pd.concat([score_by_group(dfvalid,'pred_useravg','cold_start_group','useravg'),score_by_group(dfvalid,'pred_useravg','cold_start_bucket','useravg'),\\\n",
    "score_by_group(dfvalid,'pred_useravg','flag_train','useravg')],axis=0)\n",
    "result_useravg"
   ]
  },
  {
   "cell_type": "markdown",
   "metadata": {},
   "source": [
    "### Item Average"
   ]
  },
  {
   "cell_type": "code",
   "execution_count": 31,
   "metadata": {},
   "outputs": [],
   "source": [
    "cmd=f'{MYMEDIALITEPATH}/rating_prediction --training-file={TRAINFILEPATH} --recommender=ItemAverage \\\n",
    "--test-file={TESTFILEPATH} --prediction-file {DATAPATH}/prediction_itemavg.txt'"
   ]
  },
  {
   "cell_type": "code",
   "execution_count": 32,
   "metadata": {
    "scrolled": true
   },
   "outputs": [
    {
     "name": "stdout",
     "output_type": "stream",
     "text": [
      "\u001b[?1h\u001b=\u001b[6n\u001b[H\u001b[2Jloading_time 0.6\n",
      "memory 33\n",
      "ratings range: [1, 10]\n",
      "training data: 72887 users, 173090 items, 390999 ratings, sparsity 99.9969\n",
      "test data:     17382 users, 31022 items, 42672 ratings, sparsity 99.99209\n",
      "ItemAverage  training_time 00:00:00.0168360 RMSE 1.952499 MAE 1.536878 CBD 0.2618984 new users: RMSE 1.98422 MAE 1.5446 CBD 0.26566 new items: RMSE 1.92538 MAE 1.57339 CBD 0.25943  new users and items: RMSE 1.99718 MAE 1.61202 CBD 0.26377 testing_time 00:00:00.0311880\n",
      "prediction_time 00:00:00.0538620\n",
      "\n",
      "memory 35\n",
      "\u001b[?1l\u001b>\u001b[m"
     ]
    }
   ],
   "source": [
    "!command {cmd}"
   ]
  },
  {
   "cell_type": "code",
   "execution_count": 33,
   "metadata": {},
   "outputs": [],
   "source": [
    "predictions_itemavg=pd.read_csv (f'{DATAPATH}/prediction_itemavg.txt',sep='\\t',header=None).iloc[:,2]"
   ]
  },
  {
   "cell_type": "code",
   "execution_count": 34,
   "metadata": {},
   "outputs": [],
   "source": [
    "dfvalid['pred_itemavg']=predictions_itemavg"
   ]
  },
  {
   "cell_type": "code",
   "execution_count": 35,
   "metadata": {},
   "outputs": [
    {
     "data": {
      "text/html": [
       "<div>\n",
       "<style scoped>\n",
       "    .dataframe tbody tr th:only-of-type {\n",
       "        vertical-align: middle;\n",
       "    }\n",
       "\n",
       "    .dataframe tbody tr th {\n",
       "        vertical-align: top;\n",
       "    }\n",
       "\n",
       "    .dataframe thead th {\n",
       "        text-align: right;\n",
       "    }\n",
       "</style>\n",
       "<table border=\"1\" class=\"dataframe\">\n",
       "  <thead>\n",
       "    <tr style=\"text-align: right;\">\n",
       "      <th></th>\n",
       "      <th>method</th>\n",
       "      <th>mse</th>\n",
       "      <th>rmse</th>\n",
       "      <th>mae</th>\n",
       "      <th>r2_score</th>\n",
       "      <th>Cold Start Group</th>\n",
       "    </tr>\n",
       "  </thead>\n",
       "  <tbody>\n",
       "    <tr>\n",
       "      <th>0</th>\n",
       "      <td>itemavg</td>\n",
       "      <td>3.846133</td>\n",
       "      <td>1.961156</td>\n",
       "      <td>1.521362</td>\n",
       "      <td>-0.159141</td>\n",
       "      <td>No-cold-start</td>\n",
       "    </tr>\n",
       "    <tr>\n",
       "      <th>1</th>\n",
       "      <td>itemavg</td>\n",
       "      <td>3.649579</td>\n",
       "      <td>1.910387</td>\n",
       "      <td>1.565508</td>\n",
       "      <td>-0.005318</td>\n",
       "      <td>Item-Cold_start</td>\n",
       "    </tr>\n",
       "    <tr>\n",
       "      <th>2</th>\n",
       "      <td>itemavg</td>\n",
       "      <td>3.916179</td>\n",
       "      <td>1.978934</td>\n",
       "      <td>1.517203</td>\n",
       "      <td>-0.144809</td>\n",
       "      <td>User-Cold-Start</td>\n",
       "    </tr>\n",
       "    <tr>\n",
       "      <th>3</th>\n",
       "      <td>itemavg</td>\n",
       "      <td>3.988708</td>\n",
       "      <td>1.997175</td>\n",
       "      <td>1.612015</td>\n",
       "      <td>-0.015393</td>\n",
       "      <td>User-Item-cold-start</td>\n",
       "    </tr>\n",
       "    <tr>\n",
       "      <th>0</th>\n",
       "      <td>itemavg</td>\n",
       "      <td>3.846133</td>\n",
       "      <td>1.961156</td>\n",
       "      <td>1.521362</td>\n",
       "      <td>-0.159141</td>\n",
       "      <td>0</td>\n",
       "    </tr>\n",
       "    <tr>\n",
       "      <th>1</th>\n",
       "      <td>itemavg</td>\n",
       "      <td>3.768635</td>\n",
       "      <td>1.941297</td>\n",
       "      <td>1.556852</td>\n",
       "      <td>-0.044166</td>\n",
       "      <td>1</td>\n",
       "    </tr>\n",
       "    <tr>\n",
       "      <th>0</th>\n",
       "      <td>itemavg</td>\n",
       "      <td>3.812251</td>\n",
       "      <td>1.952499</td>\n",
       "      <td>1.536878</td>\n",
       "      <td>-0.103648</td>\n",
       "      <td>0</td>\n",
       "    </tr>\n",
       "  </tbody>\n",
       "</table>\n",
       "</div>"
      ],
      "text/plain": [
       "    method       mse      rmse       mae  r2_score      Cold Start Group\n",
       "0  itemavg  3.846133  1.961156  1.521362 -0.159141         No-cold-start\n",
       "1  itemavg  3.649579  1.910387  1.565508 -0.005318       Item-Cold_start\n",
       "2  itemavg  3.916179  1.978934  1.517203 -0.144809       User-Cold-Start\n",
       "3  itemavg  3.988708  1.997175  1.612015 -0.015393  User-Item-cold-start\n",
       "0  itemavg  3.846133  1.961156  1.521362 -0.159141                     0\n",
       "1  itemavg  3.768635  1.941297  1.556852 -0.044166                     1\n",
       "0  itemavg  3.812251  1.952499  1.536878 -0.103648                     0"
      ]
     },
     "execution_count": 35,
     "metadata": {},
     "output_type": "execute_result"
    }
   ],
   "source": [
    "result_itemavg=pd.concat([score_by_group(dfvalid,'pred_itemavg','cold_start_group','itemavg'),score_by_group(dfvalid,'pred_itemavg','cold_start_bucket','itemavg'),\\\n",
    "score_by_group(dfvalid,'pred_itemavg','flag_train','itemavg')],axis=0)\n",
    "result_itemavg"
   ]
  },
  {
   "cell_type": "markdown",
   "metadata": {},
   "source": [
    "## Neighborhood Methods"
   ]
  },
  {
   "cell_type": "markdown",
   "metadata": {},
   "source": [
    "### Item KNN Cosine"
   ]
  },
  {
   "cell_type": "code",
   "execution_count": null,
   "metadata": {},
   "outputs": [],
   "source": [
    "cmd=f'{MYMEDIALITEPATH}/rating_prediction --training-file={TRAINFILEPATH} --recommender=ItemKNN \\\n",
    "--test-file={TESTFILEPATH} --prediction-file {DATAPATH}/prediction_itemknn_cosine.txt \\\n",
    "--recommender-options k=1 --recommender-options num_iter=1'"
   ]
  },
  {
   "cell_type": "code",
   "execution_count": null,
   "metadata": {
    "scrolled": true
   },
   "outputs": [],
   "source": [
    "!command {cmd}"
   ]
  },
  {
   "cell_type": "code",
   "execution_count": null,
   "metadata": {},
   "outputs": [],
   "source": [
    "predictions_itemknn_cosine=pd.read_csv (f'{DATAPATH}/prediction_itemknn_cosine.txt',sep='\\t',header=None).iloc[:,2]\n",
    "dfvalid['pred_itemknn_cosine']=predictions_itemknn_cosine"
   ]
  },
  {
   "cell_type": "code",
   "execution_count": null,
   "metadata": {},
   "outputs": [],
   "source": [
    "result_itemknncosine=pd.concat([score_by_group(dfvalid,'pred_itemknn_cosine','cold_start_group','itemknncosine'),score_by_group(dfvalid,'pred_itemknn_cosine','cold_start_bucket','itemknncosine'),\\\n",
    "score_by_group(dfvalid,'pred_itemknn_cosine','flag_train','itemknncosine')],axis=0)\n",
    "result_itemknncosine"
   ]
  },
  {
   "cell_type": "code",
   "execution_count": null,
   "metadata": {},
   "outputs": [],
   "source": [
    "import pickle\n",
    "pickle.dump(result_itemknncosine,file=open(f'{DATAPATH}/result_itemknncosine.pkl','wb'))"
   ]
  },
  {
   "cell_type": "markdown",
   "metadata": {},
   "source": [
    "### Item KNN Pearson"
   ]
  },
  {
   "cell_type": "code",
   "execution_count": 18,
   "metadata": {},
   "outputs": [],
   "source": [
    "cmd=f'{MYMEDIALITEPATH}/rating_prediction --training-file={TRAINFILEPATH} --recommender=ItemKNN \\\n",
    "--test-file={TESTFILEPATH} --prediction-file {DATAPATH}/prediction_itemknn_pearson.txt \\\n",
    "--recommender-options k=1 --recommender-options num_iter=1'"
   ]
  },
  {
   "cell_type": "code",
   "execution_count": null,
   "metadata": {},
   "outputs": [
    {
     "name": "stdout",
     "output_type": "stream",
     "text": [
      "\u001b[?1h\u001b=\u001b[6n\u001b[H\u001b[2Jloading_time 0.75\n",
      "memory 71\n",
      "ratings range: [1, 10]\n",
      "training data: 72887 users, 173090 items, 390999 ratings, sparsity 99.9969\n",
      "test data:     17382 users, 31022 items, 42672 ratings, sparsity 99.99209\n",
      "ItemKNN k=1 correlation=BinaryCosine weighted_binary=False alpha=0; baseline predictor: reg_u=15 reg_i=10 num_iter=1 "
     ]
    }
   ],
   "source": [
    "!command {cmd}"
   ]
  },
  {
   "cell_type": "code",
   "execution_count": null,
   "metadata": {},
   "outputs": [],
   "source": [
    "predictions_itemknn_pearson=pd.read_csv (f'{DATAPATH}/prediction_itemknn_pearson.txt',sep='\\t',header=None).iloc[:,2]\n",
    "dfvalid['pred_itemknn_pearson']=predictions_itemknn_pearson"
   ]
  },
  {
   "cell_type": "code",
   "execution_count": null,
   "metadata": {},
   "outputs": [],
   "source": [
    "result_itemknnpearson=pd.concat([score_by_group(dfvalid,'pred_itemknn_pearson','cold_start_group','itemknnpearson'),score_by_group(dfvalid,'pred_itemknn_pearson','cold_start_bucket','itemknnpearson'),\\\n",
    "score_by_group(dfvalid,'pred_itemknn_pearson','flag_train','itemknnpearson')],axis=0)\n",
    "result_itemknnpearson"
   ]
  },
  {
   "cell_type": "code",
   "execution_count": null,
   "metadata": {},
   "outputs": [],
   "source": [
    "import pickle\n",
    "pickle.dump(result_itemknnpearson,file=open(f'{DATAPATH}/result_itemknnpearson.pkl','wb'))"
   ]
  },
  {
   "cell_type": "markdown",
   "metadata": {},
   "source": [
    "### User KNN Pearson"
   ]
  },
  {
   "cell_type": "code",
   "execution_count": 18,
   "metadata": {},
   "outputs": [],
   "source": [
    "cmd=f'{MYMEDIALITEPATH}/rating_prediction --training-file={TRAINFILEPATH} --recommender=UserKNN \\\n",
    "--test-file={TESTFILEPATH} --prediction-file {DATAPATH}/prediction_userknn_pearson.txt \\\n",
    "--recommender-options k=3 --recommender-options num_iter=3'"
   ]
  },
  {
   "cell_type": "code",
   "execution_count": 19,
   "metadata": {},
   "outputs": [
    {
     "name": "stdout",
     "output_type": "stream",
     "text": [
      "\u001b[?1h\u001b=\u001b[6n\u001b[H\u001b[2Jloading_time 0.65\n",
      "memory 57\n",
      "ratings range: [1, 10]\n",
      "training data: 72887 users, 173090 items, 390999 ratings, sparsity 99.9969\n",
      "test data:     17382 users, 31022 items, 42672 ratings, sparsity 99.99209\n",
      "UserKNN k=3 correlation=BinaryCosine weighted_binary=False alpha=0; baseline predictor: reg_u=15 reg_i=10 num_iter=3  training_time 02:04:57.2911010 RMSE 1.77937 MAE 1.374146 CBD 0.2503011 new users: RMSE 1.85757 MAE 1.47391 CBD 0.25412 new items: RMSE 1.71441 MAE 1.33203 CBD 0.24849  new users and items: RMSE 1.99718 MAE 1.61202 CBD 0.26377 testing_time 00:06:25.9384720\n",
      "prediction_time 00:06:26.0504480\n",
      "\n",
      "memory 29284\n",
      "\u001b[?1l\u001b>\u001b[m"
     ]
    }
   ],
   "source": [
    "!command {cmd}"
   ]
  },
  {
   "cell_type": "code",
   "execution_count": 20,
   "metadata": {},
   "outputs": [],
   "source": [
    "predictions_userknn_pearson=pd.read_csv (f'{DATAPATH}/prediction_userknn_pearson.txt',sep='\\t',header=None).iloc[:,2]\n",
    "dfvalid['pred_userknn_pearson']=predictions_userknn_pearson"
   ]
  },
  {
   "cell_type": "code",
   "execution_count": 21,
   "metadata": {},
   "outputs": [
    {
     "data": {
      "text/html": [
       "<div>\n",
       "<style scoped>\n",
       "    .dataframe tbody tr th:only-of-type {\n",
       "        vertical-align: middle;\n",
       "    }\n",
       "\n",
       "    .dataframe tbody tr th {\n",
       "        vertical-align: top;\n",
       "    }\n",
       "\n",
       "    .dataframe thead th {\n",
       "        text-align: right;\n",
       "    }\n",
       "</style>\n",
       "<table border=\"1\" class=\"dataframe\">\n",
       "  <thead>\n",
       "    <tr style=\"text-align: right;\">\n",
       "      <th></th>\n",
       "      <th>method</th>\n",
       "      <th>mse</th>\n",
       "      <th>rmse</th>\n",
       "      <th>mae</th>\n",
       "      <th>r2_score</th>\n",
       "      <th>Cold Start Group</th>\n",
       "    </tr>\n",
       "  </thead>\n",
       "  <tbody>\n",
       "    <tr>\n",
       "      <th>0</th>\n",
       "      <td>userknnpearson</td>\n",
       "      <td>3.275533</td>\n",
       "      <td>1.809843</td>\n",
       "      <td>1.387251</td>\n",
       "      <td>0.012826</td>\n",
       "      <td>No-cold-start</td>\n",
       "    </tr>\n",
       "    <tr>\n",
       "      <th>1</th>\n",
       "      <td>userknnpearson</td>\n",
       "      <td>2.724928</td>\n",
       "      <td>1.650736</td>\n",
       "      <td>1.274866</td>\n",
       "      <td>0.249388</td>\n",
       "      <td>Item-Cold_start</td>\n",
       "    </tr>\n",
       "    <tr>\n",
       "      <th>2</th>\n",
       "      <td>userknnpearson</td>\n",
       "      <td>3.231853</td>\n",
       "      <td>1.797736</td>\n",
       "      <td>1.417786</td>\n",
       "      <td>0.055238</td>\n",
       "      <td>User-Cold-Start</td>\n",
       "    </tr>\n",
       "    <tr>\n",
       "      <th>3</th>\n",
       "      <td>userknnpearson</td>\n",
       "      <td>3.988708</td>\n",
       "      <td>1.997175</td>\n",
       "      <td>1.612015</td>\n",
       "      <td>-0.015393</td>\n",
       "      <td>User-Item-cold-start</td>\n",
       "    </tr>\n",
       "    <tr>\n",
       "      <th>0</th>\n",
       "      <td>userknnpearson</td>\n",
       "      <td>3.275533</td>\n",
       "      <td>1.809843</td>\n",
       "      <td>1.387251</td>\n",
       "      <td>0.012826</td>\n",
       "      <td>0</td>\n",
       "    </tr>\n",
       "    <tr>\n",
       "      <th>1</th>\n",
       "      <td>userknnpearson</td>\n",
       "      <td>3.025356</td>\n",
       "      <td>1.739355</td>\n",
       "      <td>1.357276</td>\n",
       "      <td>0.161772</td>\n",
       "      <td>1</td>\n",
       "    </tr>\n",
       "    <tr>\n",
       "      <th>0</th>\n",
       "      <td>userknnpearson</td>\n",
       "      <td>3.166157</td>\n",
       "      <td>1.779370</td>\n",
       "      <td>1.374146</td>\n",
       "      <td>0.083397</td>\n",
       "      <td>0</td>\n",
       "    </tr>\n",
       "  </tbody>\n",
       "</table>\n",
       "</div>"
      ],
      "text/plain": [
       "           method       mse      rmse       mae  r2_score  \\\n",
       "0  userknnpearson  3.275533  1.809843  1.387251  0.012826   \n",
       "1  userknnpearson  2.724928  1.650736  1.274866  0.249388   \n",
       "2  userknnpearson  3.231853  1.797736  1.417786  0.055238   \n",
       "3  userknnpearson  3.988708  1.997175  1.612015 -0.015393   \n",
       "0  userknnpearson  3.275533  1.809843  1.387251  0.012826   \n",
       "1  userknnpearson  3.025356  1.739355  1.357276  0.161772   \n",
       "0  userknnpearson  3.166157  1.779370  1.374146  0.083397   \n",
       "\n",
       "       Cold Start Group  \n",
       "0         No-cold-start  \n",
       "1       Item-Cold_start  \n",
       "2       User-Cold-Start  \n",
       "3  User-Item-cold-start  \n",
       "0                     0  \n",
       "1                     1  \n",
       "0                     0  "
      ]
     },
     "execution_count": 21,
     "metadata": {},
     "output_type": "execute_result"
    }
   ],
   "source": [
    "result_userknnpearson=pd.concat([score_by_group(dfvalid,'pred_userknn_pearson','cold_start_group','userknnpearson'),score_by_group(dfvalid,'pred_userknn_pearson','cold_start_bucket','userknnpearson'),\\\n",
    "score_by_group(dfvalid,'pred_userknn_pearson','flag_train','userknnpearson')],axis=0)\n",
    "result_userknnpearson"
   ]
  },
  {
   "cell_type": "code",
   "execution_count": 24,
   "metadata": {},
   "outputs": [],
   "source": [
    "import pickle\n",
    "pickle.dump(result_userknnpearson,file=open(f'{DATAPATH}/result_userknnpearson.pkl','wb'))"
   ]
  },
  {
   "cell_type": "code",
   "execution_count": null,
   "metadata": {},
   "outputs": [],
   "source": []
  },
  {
   "cell_type": "markdown",
   "metadata": {},
   "source": [
    "### User KNN Cosine"
   ]
  },
  {
   "cell_type": "code",
   "execution_count": 52,
   "metadata": {},
   "outputs": [],
   "source": [
    "cmd=f'{MYMEDIALITEPATH}/rating_prediction --training-file={TRAINFILEPATH} --recommender=UserKNN \\\n",
    "--test-file={TESTFILEPATH} --prediction-file {DATAPATH}/prediction_userknn_cosine.txt '"
   ]
  },
  {
   "cell_type": "code",
   "execution_count": 53,
   "metadata": {},
   "outputs": [
    {
     "name": "stdout",
     "output_type": "stream",
     "text": [
      "\u001b[?1h\u001b=\u001b[6n\u001b[H\u001b[2Jloading_time 0.66\n",
      "memory 57\n",
      "ratings range: [1, 10]\n",
      "training data: 72887 users, 173090 items, 390999 ratings, sparsity 99.9969\n",
      "test data:     17382 users, 31022 items, 42672 ratings, sparsity 99.99209\n",
      "UserKNN k=80 correlation=BinaryCosine weighted_binary=False alpha=0; baseline predictor: reg_u=15 reg_i=10 num_iter=10  training_time 02:04:47.1191450 RMSE 1.762762 MAE 1.360549 CBD 0.2491959 new users: RMSE 1.85759 MAE 1.474 CBD 0.25412 new items: RMSE 1.71442 MAE 1.33196 CBD 0.24849  new users and items: RMSE 1.99718 MAE 1.61202 CBD 0.26377 testing_time 00:06:47.0904830\n",
      "prediction_time 00:06:49.9614220\n",
      "\n",
      "memory 29284\n",
      "\u001b[?1l\u001b>\u001b[m"
     ]
    }
   ],
   "source": [
    "!command {cmd}"
   ]
  },
  {
   "cell_type": "code",
   "execution_count": 54,
   "metadata": {},
   "outputs": [],
   "source": [
    "predictions_userknn_cosine=pd.read_csv (f'{DATAPATH}/prediction_userknn_cosine.txt',sep='\\t',header=None).iloc[:,2]\n",
    "dfvalid['pred_userknn_cosine']=predictions_userknn_cosine"
   ]
  },
  {
   "cell_type": "code",
   "execution_count": 55,
   "metadata": {},
   "outputs": [
    {
     "data": {
      "text/html": [
       "<div>\n",
       "<style scoped>\n",
       "    .dataframe tbody tr th:only-of-type {\n",
       "        vertical-align: middle;\n",
       "    }\n",
       "\n",
       "    .dataframe tbody tr th {\n",
       "        vertical-align: top;\n",
       "    }\n",
       "\n",
       "    .dataframe thead th {\n",
       "        text-align: right;\n",
       "    }\n",
       "</style>\n",
       "<table border=\"1\" class=\"dataframe\">\n",
       "  <thead>\n",
       "    <tr style=\"text-align: right;\">\n",
       "      <th></th>\n",
       "      <th>method</th>\n",
       "      <th>mse</th>\n",
       "      <th>rmse</th>\n",
       "      <th>mae</th>\n",
       "      <th>r2_score</th>\n",
       "      <th>Cold Start Group</th>\n",
       "    </tr>\n",
       "  </thead>\n",
       "  <tbody>\n",
       "    <tr>\n",
       "      <th>0</th>\n",
       "      <td>userknncosine</td>\n",
       "      <td>3.170972</td>\n",
       "      <td>1.780722</td>\n",
       "      <td>1.363100</td>\n",
       "      <td>0.044338</td>\n",
       "      <td>No-cold-start</td>\n",
       "    </tr>\n",
       "    <tr>\n",
       "      <th>1</th>\n",
       "      <td>userknncosine</td>\n",
       "      <td>2.724954</td>\n",
       "      <td>1.650744</td>\n",
       "      <td>1.274785</td>\n",
       "      <td>0.249380</td>\n",
       "      <td>Item-Cold_start</td>\n",
       "    </tr>\n",
       "    <tr>\n",
       "      <th>2</th>\n",
       "      <td>userknncosine</td>\n",
       "      <td>3.231956</td>\n",
       "      <td>1.797764</td>\n",
       "      <td>1.417912</td>\n",
       "      <td>0.055208</td>\n",
       "      <td>User-Cold-Start</td>\n",
       "    </tr>\n",
       "    <tr>\n",
       "      <th>3</th>\n",
       "      <td>userknncosine</td>\n",
       "      <td>3.988708</td>\n",
       "      <td>1.997175</td>\n",
       "      <td>1.612015</td>\n",
       "      <td>-0.015393</td>\n",
       "      <td>User-Item-cold-start</td>\n",
       "    </tr>\n",
       "    <tr>\n",
       "      <th>0</th>\n",
       "      <td>userknncosine</td>\n",
       "      <td>3.170972</td>\n",
       "      <td>1.780722</td>\n",
       "      <td>1.363100</td>\n",
       "      <td>0.044338</td>\n",
       "      <td>0</td>\n",
       "    </tr>\n",
       "    <tr>\n",
       "      <th>1</th>\n",
       "      <td>userknncosine</td>\n",
       "      <td>3.025402</td>\n",
       "      <td>1.739368</td>\n",
       "      <td>1.357265</td>\n",
       "      <td>0.161760</td>\n",
       "      <td>1</td>\n",
       "    </tr>\n",
       "    <tr>\n",
       "      <th>0</th>\n",
       "      <td>userknncosine</td>\n",
       "      <td>3.107330</td>\n",
       "      <td>1.762762</td>\n",
       "      <td>1.360549</td>\n",
       "      <td>0.100427</td>\n",
       "      <td>0</td>\n",
       "    </tr>\n",
       "  </tbody>\n",
       "</table>\n",
       "</div>"
      ],
      "text/plain": [
       "          method       mse      rmse       mae  r2_score      Cold Start Group\n",
       "0  userknncosine  3.170972  1.780722  1.363100  0.044338         No-cold-start\n",
       "1  userknncosine  2.724954  1.650744  1.274785  0.249380       Item-Cold_start\n",
       "2  userknncosine  3.231956  1.797764  1.417912  0.055208       User-Cold-Start\n",
       "3  userknncosine  3.988708  1.997175  1.612015 -0.015393  User-Item-cold-start\n",
       "0  userknncosine  3.170972  1.780722  1.363100  0.044338                     0\n",
       "1  userknncosine  3.025402  1.739368  1.357265  0.161760                     1\n",
       "0  userknncosine  3.107330  1.762762  1.360549  0.100427                     0"
      ]
     },
     "execution_count": 55,
     "metadata": {},
     "output_type": "execute_result"
    }
   ],
   "source": [
    "result_userknncosine=pd.concat([score_by_group(dfvalid,'pred_userknn_cosine','cold_start_group','userknncosine'),score_by_group(dfvalid,'pred_userknn_cosine','cold_start_bucket','userknncosine'),\\\n",
    "score_by_group(dfvalid,'pred_userknn_cosine','flag_train','userknncosine')],axis=0)\n",
    "result_userknncosine"
   ]
  },
  {
   "cell_type": "markdown",
   "metadata": {},
   "source": [
    "## Matrix Factorization"
   ]
  },
  {
   "cell_type": "markdown",
   "metadata": {},
   "source": [
    "### SVD"
   ]
  },
  {
   "cell_type": "code",
   "execution_count": 36,
   "metadata": {},
   "outputs": [],
   "source": [
    "cmd=f'{MYMEDIALITEPATH}/rating_prediction --training-file={TRAINFILEPATH} --recommender=MatrixFactorization \\\n",
    "--test-file={TESTFILEPATH} --prediction-file {DATAPATH}/prediction_svd.txt'"
   ]
  },
  {
   "cell_type": "code",
   "execution_count": 37,
   "metadata": {},
   "outputs": [
    {
     "name": "stdout",
     "output_type": "stream",
     "text": [
      "\u001b[?1h\u001b=\u001b[6n\u001b[H\u001b[2Jloading_time 0.6\n",
      "memory 33\n",
      "ratings range: [1, 10]\n",
      "training data: 72887 users, 173090 items, 390999 ratings, sparsity 99.9969\n",
      "test data:     17382 users, 31022 items, 42672 ratings, sparsity 99.99209\n",
      "MatrixFactorization num_factors=10 regularization=0.015 learn_rate=0.01 learn_rate_decay=1 num_iter=30  training_time 00:00:03.5134510 RMSE 1.932287 MAE 1.53733 CBD 0.2582725 new users: RMSE 1.89347 MAE 1.52003 CBD 0.25596 new items: RMSE 1.92538 MAE 1.57339 CBD 0.25943  new users and items: RMSE 1.99718 MAE 1.61202 CBD 0.26377 testing_time 00:00:00.0183150\n",
      "prediction_time 00:00:00.0490880\n",
      "\n",
      "memory 45\n",
      "\u001b[?1l\u001b>\u001b[m"
     ]
    }
   ],
   "source": [
    "!command {cmd}"
   ]
  },
  {
   "cell_type": "code",
   "execution_count": 38,
   "metadata": {},
   "outputs": [],
   "source": [
    "predictions_svd=pd.read_csv (f'{DATAPATH}/prediction_svd.txt',sep='\\t',header=None).iloc[:,2]\n",
    "dfvalid['pred_svd']=predictions_svd"
   ]
  },
  {
   "cell_type": "code",
   "execution_count": 39,
   "metadata": {},
   "outputs": [
    {
     "data": {
      "text/html": [
       "<div>\n",
       "<style scoped>\n",
       "    .dataframe tbody tr th:only-of-type {\n",
       "        vertical-align: middle;\n",
       "    }\n",
       "\n",
       "    .dataframe tbody tr th {\n",
       "        vertical-align: top;\n",
       "    }\n",
       "\n",
       "    .dataframe thead th {\n",
       "        text-align: right;\n",
       "    }\n",
       "</style>\n",
       "<table border=\"1\" class=\"dataframe\">\n",
       "  <thead>\n",
       "    <tr style=\"text-align: right;\">\n",
       "      <th></th>\n",
       "      <th>method</th>\n",
       "      <th>mse</th>\n",
       "      <th>rmse</th>\n",
       "      <th>mae</th>\n",
       "      <th>r2_score</th>\n",
       "      <th>Cold Start Group</th>\n",
       "    </tr>\n",
       "  </thead>\n",
       "  <tbody>\n",
       "    <tr>\n",
       "      <th>0</th>\n",
       "      <td>svd</td>\n",
       "      <td>3.819795</td>\n",
       "      <td>1.954430</td>\n",
       "      <td>1.530069</td>\n",
       "      <td>-0.151203</td>\n",
       "      <td>No-cold-start</td>\n",
       "    </tr>\n",
       "    <tr>\n",
       "      <th>1</th>\n",
       "      <td>svd</td>\n",
       "      <td>3.649579</td>\n",
       "      <td>1.910387</td>\n",
       "      <td>1.565508</td>\n",
       "      <td>-0.005318</td>\n",
       "      <td>Item-Cold_start</td>\n",
       "    </tr>\n",
       "    <tr>\n",
       "      <th>2</th>\n",
       "      <td>svd</td>\n",
       "      <td>3.421264</td>\n",
       "      <td>1.849666</td>\n",
       "      <td>1.482640</td>\n",
       "      <td>-0.000132</td>\n",
       "      <td>User-Cold-Start</td>\n",
       "    </tr>\n",
       "    <tr>\n",
       "      <th>3</th>\n",
       "      <td>svd</td>\n",
       "      <td>3.988708</td>\n",
       "      <td>1.997175</td>\n",
       "      <td>1.612015</td>\n",
       "      <td>-0.015393</td>\n",
       "      <td>User-Item-cold-start</td>\n",
       "    </tr>\n",
       "    <tr>\n",
       "      <th>0</th>\n",
       "      <td>svd</td>\n",
       "      <td>3.819795</td>\n",
       "      <td>1.954430</td>\n",
       "      <td>1.530069</td>\n",
       "      <td>-0.151203</td>\n",
       "      <td>0</td>\n",
       "    </tr>\n",
       "    <tr>\n",
       "      <th>1</th>\n",
       "      <td>svd</td>\n",
       "      <td>3.622941</td>\n",
       "      <td>1.903402</td>\n",
       "      <td>1.546677</td>\n",
       "      <td>-0.003799</td>\n",
       "      <td>1</td>\n",
       "    </tr>\n",
       "    <tr>\n",
       "      <th>0</th>\n",
       "      <td>svd</td>\n",
       "      <td>3.733731</td>\n",
       "      <td>1.932287</td>\n",
       "      <td>1.537330</td>\n",
       "      <td>-0.080916</td>\n",
       "      <td>0</td>\n",
       "    </tr>\n",
       "  </tbody>\n",
       "</table>\n",
       "</div>"
      ],
      "text/plain": [
       "  method       mse      rmse       mae  r2_score      Cold Start Group\n",
       "0    svd  3.819795  1.954430  1.530069 -0.151203         No-cold-start\n",
       "1    svd  3.649579  1.910387  1.565508 -0.005318       Item-Cold_start\n",
       "2    svd  3.421264  1.849666  1.482640 -0.000132       User-Cold-Start\n",
       "3    svd  3.988708  1.997175  1.612015 -0.015393  User-Item-cold-start\n",
       "0    svd  3.819795  1.954430  1.530069 -0.151203                     0\n",
       "1    svd  3.622941  1.903402  1.546677 -0.003799                     1\n",
       "0    svd  3.733731  1.932287  1.537330 -0.080916                     0"
      ]
     },
     "execution_count": 39,
     "metadata": {},
     "output_type": "execute_result"
    }
   ],
   "source": [
    "result_svd=pd.concat([score_by_group(dfvalid,'pred_svd','cold_start_group','svd'),score_by_group(dfvalid,'pred_svd','cold_start_bucket','svd'),\\\n",
    "score_by_group(dfvalid,'pred_svd','flag_train','svd')],axis=0)\n",
    "result_svd"
   ]
  },
  {
   "cell_type": "markdown",
   "metadata": {},
   "source": [
    "### SVD Plus Plus"
   ]
  },
  {
   "cell_type": "code",
   "execution_count": 45,
   "metadata": {},
   "outputs": [],
   "source": [
    "cmd=f'{MYMEDIALITEPATH}/rating_prediction --training-file={TRAINFILEPATH} --recommender=SVDPlusPlus \\\n",
    "--test-file={TESTFILEPATH} --prediction-file {DATAPATH}/prediction_svdplusplus.txt '\n",
    "\n"
   ]
  },
  {
   "cell_type": "code",
   "execution_count": 46,
   "metadata": {},
   "outputs": [
    {
     "data": {
      "text/plain": [
       "'/home/kirana/MyMediaLite/bin/rating_prediction --training-file=/home/kirana/Documents/phd/experiment1_new/DNNREC_BookCrossing/inp_train_bookcrossing.csv --recommender=SVDPlusPlus --test-file=/home/kirana/Documents/phd/experiment1_new/DNNREC_BookCrossing/inp_test_bookcrossing.csv --prediction-file /home/kirana/Documents/final_dissertation_final/experiments/datasets/bookcrossing/prediction_svdplusplus.txt '"
      ]
     },
     "execution_count": 46,
     "metadata": {},
     "output_type": "execute_result"
    }
   ],
   "source": [
    "cmd"
   ]
  },
  {
   "cell_type": "code",
   "execution_count": 47,
   "metadata": {},
   "outputs": [
    {
     "name": "stdout",
     "output_type": "stream",
     "text": [
      "\u001b[?1h\u001b=\u001b[6n\u001b[H\u001b[2Jloading_time 0.65\n",
      "memory 33\n",
      "ratings range: [1, 10]\n",
      "training data: 72887 users, 173090 items, 390999 ratings, sparsity 99.9969\n",
      "test data:     17382 users, 31022 items, 42672 ratings, sparsity 99.99209\n",
      "SVDPlusPlus num_factors=10 regularization=0.015 bias_reg=0.33 frequency_regularization=False learn_rate=0.001 bias_learn_rate=0.7 learn_rate_decay=1 num_iter=30  training_time 00:09:46.7908110 RMSE 1.702269 MAE 1.329919 CBD 0.2442075 new users: RMSE 1.86769 MAE 1.48992 CBD 0.25465 new items: RMSE 1.73991 MAE 1.35548 CBD 0.24968  new users and items: RMSE 1.99718 MAE 1.61202 CBD 0.26377 testing_time 00:00:00.0553140\n",
      "prediction_time 00:00:00.0482820\n",
      "\n",
      "memory 77\n",
      "\u001b[?1l\u001b>\u001b[m"
     ]
    }
   ],
   "source": [
    "!command {cmd}"
   ]
  },
  {
   "cell_type": "code",
   "execution_count": 48,
   "metadata": {},
   "outputs": [
    {
     "data": {
      "text/html": [
       "<div>\n",
       "<style scoped>\n",
       "    .dataframe tbody tr th:only-of-type {\n",
       "        vertical-align: middle;\n",
       "    }\n",
       "\n",
       "    .dataframe tbody tr th {\n",
       "        vertical-align: top;\n",
       "    }\n",
       "\n",
       "    .dataframe thead th {\n",
       "        text-align: right;\n",
       "    }\n",
       "</style>\n",
       "<table border=\"1\" class=\"dataframe\">\n",
       "  <thead>\n",
       "    <tr style=\"text-align: right;\">\n",
       "      <th></th>\n",
       "      <th>method</th>\n",
       "      <th>mse</th>\n",
       "      <th>rmse</th>\n",
       "      <th>mae</th>\n",
       "      <th>r2_score</th>\n",
       "      <th>Cold Start Group</th>\n",
       "    </tr>\n",
       "  </thead>\n",
       "  <tbody>\n",
       "    <tr>\n",
       "      <th>0</th>\n",
       "      <td>svdplusplus</td>\n",
       "      <td>2.738175</td>\n",
       "      <td>1.654743</td>\n",
       "      <td>1.290668</td>\n",
       "      <td>0.174774</td>\n",
       "      <td>No-cold-start</td>\n",
       "    </tr>\n",
       "    <tr>\n",
       "      <th>1</th>\n",
       "      <td>svdplusplus</td>\n",
       "      <td>2.830975</td>\n",
       "      <td>1.682550</td>\n",
       "      <td>1.303101</td>\n",
       "      <td>0.220176</td>\n",
       "      <td>Item-Cold_start</td>\n",
       "    </tr>\n",
       "    <tr>\n",
       "      <th>2</th>\n",
       "      <td>svdplusplus</td>\n",
       "      <td>3.284872</td>\n",
       "      <td>1.812422</td>\n",
       "      <td>1.440296</td>\n",
       "      <td>0.039739</td>\n",
       "      <td>User-Cold-Start</td>\n",
       "    </tr>\n",
       "    <tr>\n",
       "      <th>3</th>\n",
       "      <td>svdplusplus</td>\n",
       "      <td>3.988708</td>\n",
       "      <td>1.997175</td>\n",
       "      <td>1.612015</td>\n",
       "      <td>-0.015393</td>\n",
       "      <td>User-Item-cold-start</td>\n",
       "    </tr>\n",
       "    <tr>\n",
       "      <th>0</th>\n",
       "      <td>svdplusplus</td>\n",
       "      <td>2.738175</td>\n",
       "      <td>1.654743</td>\n",
       "      <td>1.290668</td>\n",
       "      <td>0.174774</td>\n",
       "      <td>0</td>\n",
       "    </tr>\n",
       "    <tr>\n",
       "      <th>1</th>\n",
       "      <td>svdplusplus</td>\n",
       "      <td>3.103105</td>\n",
       "      <td>1.761563</td>\n",
       "      <td>1.380447</td>\n",
       "      <td>0.140231</td>\n",
       "      <td>1</td>\n",
       "    </tr>\n",
       "    <tr>\n",
       "      <th>0</th>\n",
       "      <td>svdplusplus</td>\n",
       "      <td>2.897721</td>\n",
       "      <td>1.702269</td>\n",
       "      <td>1.329919</td>\n",
       "      <td>0.161109</td>\n",
       "      <td>0</td>\n",
       "    </tr>\n",
       "  </tbody>\n",
       "</table>\n",
       "</div>"
      ],
      "text/plain": [
       "        method       mse      rmse       mae  r2_score      Cold Start Group\n",
       "0  svdplusplus  2.738175  1.654743  1.290668  0.174774         No-cold-start\n",
       "1  svdplusplus  2.830975  1.682550  1.303101  0.220176       Item-Cold_start\n",
       "2  svdplusplus  3.284872  1.812422  1.440296  0.039739       User-Cold-Start\n",
       "3  svdplusplus  3.988708  1.997175  1.612015 -0.015393  User-Item-cold-start\n",
       "0  svdplusplus  2.738175  1.654743  1.290668  0.174774                     0\n",
       "1  svdplusplus  3.103105  1.761563  1.380447  0.140231                     1\n",
       "0  svdplusplus  2.897721  1.702269  1.329919  0.161109                     0"
      ]
     },
     "execution_count": 48,
     "metadata": {},
     "output_type": "execute_result"
    }
   ],
   "source": [
    "predictions_svdplusplus=pd.read_csv (f'{DATAPATH}/prediction_svdplusplus.txt',sep='\\t',header=None).iloc[:,2]\n",
    "dfvalid['pred_svdplusplus']=predictions_svdplusplus\n",
    "\n",
    "result_svdplusplus=pd.concat([score_by_group(dfvalid,'pred_svdplusplus','cold_start_group','svdplusplus'),score_by_group(dfvalid,'pred_svdplusplus','cold_start_bucket','svdplusplus'),\\\n",
    "score_by_group(dfvalid,'pred_svdplusplus','flag_train','svdplusplus')],axis=0)\n",
    "result_svdplusplus"
   ]
  },
  {
   "cell_type": "markdown",
   "metadata": {},
   "source": [
    "### BiasedMatrixFactorization"
   ]
  },
  {
   "cell_type": "code",
   "execution_count": 49,
   "metadata": {},
   "outputs": [],
   "source": [
    "cmd=f'{MYMEDIALITEPATH}/rating_prediction --training-file={TRAINFILEPATH} --recommender=BiasedMatrixFactorization \\\n",
    "--test-file={TESTFILEPATH} --prediction-file {DATAPATH}/prediction_biasedmatrixfactorization.txt '\n",
    "\n"
   ]
  },
  {
   "cell_type": "code",
   "execution_count": 50,
   "metadata": {},
   "outputs": [
    {
     "name": "stdout",
     "output_type": "stream",
     "text": [
      "\u001b[?1h\u001b=\u001b[6n\u001b[H\u001b[2Jloading_time 0.59\n",
      "memory 33\n",
      "ratings range: [1, 10]\n",
      "training data: 72887 users, 173090 items, 390999 ratings, sparsity 99.9969\n",
      "test data:     17382 users, 31022 items, 42672 ratings, sparsity 99.99209\n",
      "BiasedMatrixFactorization num_factors=10 bias_reg=0.01 reg_u=0.015 reg_i=0.015 frequency_regularization=False learn_rate=0.01 bias_learn_rate=1 learn_rate_decay=1 num_iter=30 bold_driver=False loss=RMSE max_threads=1 naive_parallelization=False  training_time 00:00:03.7296090 RMSE 1.779405 MAE 1.353109 CBD 0.2486478 new users: RMSE 1.88224 MAE 1.48253 CBD 0.25545 new items: RMSE 1.69331 MAE 1.28547 CBD 0.24776  new users and items: RMSE 1.99718 MAE 1.61202 CBD 0.26377 testing_time 00:00:00.0205560\n",
      "prediction_time 00:00:00.0491950\n",
      "\n",
      "memory 46\n",
      "\u001b[?1l\u001b>\u001b[m"
     ]
    }
   ],
   "source": [
    "!command {cmd}"
   ]
  },
  {
   "cell_type": "code",
   "execution_count": 51,
   "metadata": {},
   "outputs": [
    {
     "data": {
      "text/html": [
       "<div>\n",
       "<style scoped>\n",
       "    .dataframe tbody tr th:only-of-type {\n",
       "        vertical-align: middle;\n",
       "    }\n",
       "\n",
       "    .dataframe tbody tr th {\n",
       "        vertical-align: top;\n",
       "    }\n",
       "\n",
       "    .dataframe thead th {\n",
       "        text-align: right;\n",
       "    }\n",
       "</style>\n",
       "<table border=\"1\" class=\"dataframe\">\n",
       "  <thead>\n",
       "    <tr style=\"text-align: right;\">\n",
       "      <th></th>\n",
       "      <th>method</th>\n",
       "      <th>mse</th>\n",
       "      <th>rmse</th>\n",
       "      <th>mae</th>\n",
       "      <th>r2_score</th>\n",
       "      <th>Cold Start Group</th>\n",
       "    </tr>\n",
       "  </thead>\n",
       "  <tbody>\n",
       "    <tr>\n",
       "      <th>0</th>\n",
       "      <td>biasedmatrixfactorization</td>\n",
       "      <td>3.285500</td>\n",
       "      <td>1.812595</td>\n",
       "      <td>1.372624</td>\n",
       "      <td>0.009822</td>\n",
       "      <td>No-cold-start</td>\n",
       "    </tr>\n",
       "    <tr>\n",
       "      <th>1</th>\n",
       "      <td>biasedmatrixfactorization</td>\n",
       "      <td>2.638329</td>\n",
       "      <td>1.624293</td>\n",
       "      <td>1.218794</td>\n",
       "      <td>0.273242</td>\n",
       "      <td>Item-Cold_start</td>\n",
       "    </tr>\n",
       "    <tr>\n",
       "      <th>2</th>\n",
       "      <td>biasedmatrixfactorization</td>\n",
       "      <td>3.361617</td>\n",
       "      <td>1.833471</td>\n",
       "      <td>1.429907</td>\n",
       "      <td>0.017305</td>\n",
       "      <td>User-Cold-Start</td>\n",
       "    </tr>\n",
       "    <tr>\n",
       "      <th>3</th>\n",
       "      <td>biasedmatrixfactorization</td>\n",
       "      <td>3.988708</td>\n",
       "      <td>1.997175</td>\n",
       "      <td>1.612015</td>\n",
       "      <td>-0.015393</td>\n",
       "      <td>User-Item-cold-start</td>\n",
       "    </tr>\n",
       "    <tr>\n",
       "      <th>0</th>\n",
       "      <td>biasedmatrixfactorization</td>\n",
       "      <td>3.285500</td>\n",
       "      <td>1.812595</td>\n",
       "      <td>1.372624</td>\n",
       "      <td>0.009822</td>\n",
       "      <td>0</td>\n",
       "    </tr>\n",
       "    <tr>\n",
       "      <th>1</th>\n",
       "      <td>biasedmatrixfactorization</td>\n",
       "      <td>3.012811</td>\n",
       "      <td>1.735745</td>\n",
       "      <td>1.327987</td>\n",
       "      <td>0.165248</td>\n",
       "      <td>1</td>\n",
       "    </tr>\n",
       "    <tr>\n",
       "      <th>0</th>\n",
       "      <td>biasedmatrixfactorization</td>\n",
       "      <td>3.166282</td>\n",
       "      <td>1.779405</td>\n",
       "      <td>1.353109</td>\n",
       "      <td>0.083361</td>\n",
       "      <td>0</td>\n",
       "    </tr>\n",
       "  </tbody>\n",
       "</table>\n",
       "</div>"
      ],
      "text/plain": [
       "                      method       mse      rmse       mae  r2_score  \\\n",
       "0  biasedmatrixfactorization  3.285500  1.812595  1.372624  0.009822   \n",
       "1  biasedmatrixfactorization  2.638329  1.624293  1.218794  0.273242   \n",
       "2  biasedmatrixfactorization  3.361617  1.833471  1.429907  0.017305   \n",
       "3  biasedmatrixfactorization  3.988708  1.997175  1.612015 -0.015393   \n",
       "0  biasedmatrixfactorization  3.285500  1.812595  1.372624  0.009822   \n",
       "1  biasedmatrixfactorization  3.012811  1.735745  1.327987  0.165248   \n",
       "0  biasedmatrixfactorization  3.166282  1.779405  1.353109  0.083361   \n",
       "\n",
       "       Cold Start Group  \n",
       "0         No-cold-start  \n",
       "1       Item-Cold_start  \n",
       "2       User-Cold-Start  \n",
       "3  User-Item-cold-start  \n",
       "0                     0  \n",
       "1                     1  \n",
       "0                     0  "
      ]
     },
     "execution_count": 51,
     "metadata": {},
     "output_type": "execute_result"
    }
   ],
   "source": [
    "predictions_biasedmatrixfactorization=pd.read_csv (f'{DATAPATH}/prediction_biasedmatrixfactorization.txt',sep='\\t',header=None).iloc[:,2]\n",
    "dfvalid['pred_biasedmatrixfactorization']=predictions_biasedmatrixfactorization\n",
    "\n",
    "result_biasedmatrixfactorization=pd.concat([score_by_group(dfvalid,'pred_biasedmatrixfactorization','cold_start_group','biasedmatrixfactorization'),score_by_group(dfvalid,'pred_biasedmatrixfactorization','cold_start_bucket','biasedmatrixfactorization'),\\\n",
    "score_by_group(dfvalid,'pred_biasedmatrixfactorization','flag_train','biasedmatrixfactorization')],axis=0)\n",
    "result_biasedmatrixfactorization"
   ]
  },
  {
   "cell_type": "code",
   "execution_count": 78,
   "metadata": {},
   "outputs": [],
   "source": [
    "results_concat=pd.concat ([result_biasedmatrixfactorization,\n",
    "result_svdplusplus,\n",
    "result_svd,\n",
    "result_userknncosine,\n",
    "result_itemavg,\n",
    "result_useravg,\n",
    "result_globalavg],axis=0)"
   ]
  },
  {
   "cell_type": "code",
   "execution_count": 79,
   "metadata": {},
   "outputs": [],
   "source": [
    "pickle.dump(results_concat,open(f'{DATAPATH}/diff_results.pkl','wb'))"
   ]
  },
  {
   "cell_type": "code",
   "execution_count": 80,
   "metadata": {},
   "outputs": [
    {
     "data": {
      "text/html": [
       "<div>\n",
       "<style scoped>\n",
       "    .dataframe tbody tr th:only-of-type {\n",
       "        vertical-align: middle;\n",
       "    }\n",
       "\n",
       "    .dataframe tbody tr th {\n",
       "        vertical-align: top;\n",
       "    }\n",
       "\n",
       "    .dataframe thead th {\n",
       "        text-align: right;\n",
       "    }\n",
       "</style>\n",
       "<table border=\"1\" class=\"dataframe\">\n",
       "  <thead>\n",
       "    <tr style=\"text-align: right;\">\n",
       "      <th></th>\n",
       "      <th>method</th>\n",
       "      <th>mse</th>\n",
       "      <th>rmse</th>\n",
       "      <th>mae</th>\n",
       "      <th>r2_score</th>\n",
       "      <th>Cold Start Group</th>\n",
       "    </tr>\n",
       "  </thead>\n",
       "  <tbody>\n",
       "    <tr>\n",
       "      <th>0</th>\n",
       "      <td>biasedmatrixfactorization</td>\n",
       "      <td>3.285500</td>\n",
       "      <td>1.812595</td>\n",
       "      <td>1.372624</td>\n",
       "      <td>0.009822</td>\n",
       "      <td>No-cold-start</td>\n",
       "    </tr>\n",
       "    <tr>\n",
       "      <th>1</th>\n",
       "      <td>biasedmatrixfactorization</td>\n",
       "      <td>2.638329</td>\n",
       "      <td>1.624293</td>\n",
       "      <td>1.218794</td>\n",
       "      <td>0.273242</td>\n",
       "      <td>Item-Cold_start</td>\n",
       "    </tr>\n",
       "    <tr>\n",
       "      <th>2</th>\n",
       "      <td>biasedmatrixfactorization</td>\n",
       "      <td>3.361617</td>\n",
       "      <td>1.833471</td>\n",
       "      <td>1.429907</td>\n",
       "      <td>0.017305</td>\n",
       "      <td>User-Cold-Start</td>\n",
       "    </tr>\n",
       "    <tr>\n",
       "      <th>3</th>\n",
       "      <td>biasedmatrixfactorization</td>\n",
       "      <td>3.988708</td>\n",
       "      <td>1.997175</td>\n",
       "      <td>1.612015</td>\n",
       "      <td>-0.015393</td>\n",
       "      <td>User-Item-cold-start</td>\n",
       "    </tr>\n",
       "    <tr>\n",
       "      <th>0</th>\n",
       "      <td>biasedmatrixfactorization</td>\n",
       "      <td>3.285500</td>\n",
       "      <td>1.812595</td>\n",
       "      <td>1.372624</td>\n",
       "      <td>0.009822</td>\n",
       "      <td>0</td>\n",
       "    </tr>\n",
       "    <tr>\n",
       "      <th>1</th>\n",
       "      <td>biasedmatrixfactorization</td>\n",
       "      <td>3.012811</td>\n",
       "      <td>1.735745</td>\n",
       "      <td>1.327987</td>\n",
       "      <td>0.165248</td>\n",
       "      <td>1</td>\n",
       "    </tr>\n",
       "    <tr>\n",
       "      <th>0</th>\n",
       "      <td>biasedmatrixfactorization</td>\n",
       "      <td>3.166282</td>\n",
       "      <td>1.779405</td>\n",
       "      <td>1.353109</td>\n",
       "      <td>0.083361</td>\n",
       "      <td>0</td>\n",
       "    </tr>\n",
       "    <tr>\n",
       "      <th>0</th>\n",
       "      <td>svdplusplus</td>\n",
       "      <td>2.738175</td>\n",
       "      <td>1.654743</td>\n",
       "      <td>1.290668</td>\n",
       "      <td>0.174774</td>\n",
       "      <td>No-cold-start</td>\n",
       "    </tr>\n",
       "    <tr>\n",
       "      <th>1</th>\n",
       "      <td>svdplusplus</td>\n",
       "      <td>2.830975</td>\n",
       "      <td>1.682550</td>\n",
       "      <td>1.303101</td>\n",
       "      <td>0.220176</td>\n",
       "      <td>Item-Cold_start</td>\n",
       "    </tr>\n",
       "    <tr>\n",
       "      <th>2</th>\n",
       "      <td>svdplusplus</td>\n",
       "      <td>3.284872</td>\n",
       "      <td>1.812422</td>\n",
       "      <td>1.440296</td>\n",
       "      <td>0.039739</td>\n",
       "      <td>User-Cold-Start</td>\n",
       "    </tr>\n",
       "    <tr>\n",
       "      <th>3</th>\n",
       "      <td>svdplusplus</td>\n",
       "      <td>3.988708</td>\n",
       "      <td>1.997175</td>\n",
       "      <td>1.612015</td>\n",
       "      <td>-0.015393</td>\n",
       "      <td>User-Item-cold-start</td>\n",
       "    </tr>\n",
       "    <tr>\n",
       "      <th>0</th>\n",
       "      <td>svdplusplus</td>\n",
       "      <td>2.738175</td>\n",
       "      <td>1.654743</td>\n",
       "      <td>1.290668</td>\n",
       "      <td>0.174774</td>\n",
       "      <td>0</td>\n",
       "    </tr>\n",
       "    <tr>\n",
       "      <th>1</th>\n",
       "      <td>svdplusplus</td>\n",
       "      <td>3.103105</td>\n",
       "      <td>1.761563</td>\n",
       "      <td>1.380447</td>\n",
       "      <td>0.140231</td>\n",
       "      <td>1</td>\n",
       "    </tr>\n",
       "    <tr>\n",
       "      <th>0</th>\n",
       "      <td>svdplusplus</td>\n",
       "      <td>2.897721</td>\n",
       "      <td>1.702269</td>\n",
       "      <td>1.329919</td>\n",
       "      <td>0.161109</td>\n",
       "      <td>0</td>\n",
       "    </tr>\n",
       "    <tr>\n",
       "      <th>0</th>\n",
       "      <td>svd</td>\n",
       "      <td>3.819795</td>\n",
       "      <td>1.954430</td>\n",
       "      <td>1.530069</td>\n",
       "      <td>-0.151203</td>\n",
       "      <td>No-cold-start</td>\n",
       "    </tr>\n",
       "    <tr>\n",
       "      <th>1</th>\n",
       "      <td>svd</td>\n",
       "      <td>3.649579</td>\n",
       "      <td>1.910387</td>\n",
       "      <td>1.565508</td>\n",
       "      <td>-0.005318</td>\n",
       "      <td>Item-Cold_start</td>\n",
       "    </tr>\n",
       "    <tr>\n",
       "      <th>2</th>\n",
       "      <td>svd</td>\n",
       "      <td>3.421264</td>\n",
       "      <td>1.849666</td>\n",
       "      <td>1.482640</td>\n",
       "      <td>-0.000132</td>\n",
       "      <td>User-Cold-Start</td>\n",
       "    </tr>\n",
       "    <tr>\n",
       "      <th>3</th>\n",
       "      <td>svd</td>\n",
       "      <td>3.988708</td>\n",
       "      <td>1.997175</td>\n",
       "      <td>1.612015</td>\n",
       "      <td>-0.015393</td>\n",
       "      <td>User-Item-cold-start</td>\n",
       "    </tr>\n",
       "    <tr>\n",
       "      <th>0</th>\n",
       "      <td>svd</td>\n",
       "      <td>3.819795</td>\n",
       "      <td>1.954430</td>\n",
       "      <td>1.530069</td>\n",
       "      <td>-0.151203</td>\n",
       "      <td>0</td>\n",
       "    </tr>\n",
       "    <tr>\n",
       "      <th>1</th>\n",
       "      <td>svd</td>\n",
       "      <td>3.622941</td>\n",
       "      <td>1.903402</td>\n",
       "      <td>1.546677</td>\n",
       "      <td>-0.003799</td>\n",
       "      <td>1</td>\n",
       "    </tr>\n",
       "    <tr>\n",
       "      <th>0</th>\n",
       "      <td>svd</td>\n",
       "      <td>3.733731</td>\n",
       "      <td>1.932287</td>\n",
       "      <td>1.537330</td>\n",
       "      <td>-0.080916</td>\n",
       "      <td>0</td>\n",
       "    </tr>\n",
       "    <tr>\n",
       "      <th>0</th>\n",
       "      <td>userknncosine</td>\n",
       "      <td>3.170972</td>\n",
       "      <td>1.780722</td>\n",
       "      <td>1.363100</td>\n",
       "      <td>0.044338</td>\n",
       "      <td>No-cold-start</td>\n",
       "    </tr>\n",
       "    <tr>\n",
       "      <th>1</th>\n",
       "      <td>userknncosine</td>\n",
       "      <td>2.724954</td>\n",
       "      <td>1.650744</td>\n",
       "      <td>1.274785</td>\n",
       "      <td>0.249380</td>\n",
       "      <td>Item-Cold_start</td>\n",
       "    </tr>\n",
       "    <tr>\n",
       "      <th>2</th>\n",
       "      <td>userknncosine</td>\n",
       "      <td>3.231956</td>\n",
       "      <td>1.797764</td>\n",
       "      <td>1.417912</td>\n",
       "      <td>0.055208</td>\n",
       "      <td>User-Cold-Start</td>\n",
       "    </tr>\n",
       "    <tr>\n",
       "      <th>3</th>\n",
       "      <td>userknncosine</td>\n",
       "      <td>3.988708</td>\n",
       "      <td>1.997175</td>\n",
       "      <td>1.612015</td>\n",
       "      <td>-0.015393</td>\n",
       "      <td>User-Item-cold-start</td>\n",
       "    </tr>\n",
       "    <tr>\n",
       "      <th>0</th>\n",
       "      <td>userknncosine</td>\n",
       "      <td>3.170972</td>\n",
       "      <td>1.780722</td>\n",
       "      <td>1.363100</td>\n",
       "      <td>0.044338</td>\n",
       "      <td>0</td>\n",
       "    </tr>\n",
       "    <tr>\n",
       "      <th>1</th>\n",
       "      <td>userknncosine</td>\n",
       "      <td>3.025402</td>\n",
       "      <td>1.739368</td>\n",
       "      <td>1.357265</td>\n",
       "      <td>0.161760</td>\n",
       "      <td>1</td>\n",
       "    </tr>\n",
       "    <tr>\n",
       "      <th>0</th>\n",
       "      <td>userknncosine</td>\n",
       "      <td>3.107330</td>\n",
       "      <td>1.762762</td>\n",
       "      <td>1.360549</td>\n",
       "      <td>0.100427</td>\n",
       "      <td>0</td>\n",
       "    </tr>\n",
       "    <tr>\n",
       "      <th>0</th>\n",
       "      <td>itemavg</td>\n",
       "      <td>3.846133</td>\n",
       "      <td>1.961156</td>\n",
       "      <td>1.521362</td>\n",
       "      <td>-0.159141</td>\n",
       "      <td>No-cold-start</td>\n",
       "    </tr>\n",
       "    <tr>\n",
       "      <th>1</th>\n",
       "      <td>itemavg</td>\n",
       "      <td>3.649579</td>\n",
       "      <td>1.910387</td>\n",
       "      <td>1.565508</td>\n",
       "      <td>-0.005318</td>\n",
       "      <td>Item-Cold_start</td>\n",
       "    </tr>\n",
       "    <tr>\n",
       "      <th>2</th>\n",
       "      <td>itemavg</td>\n",
       "      <td>3.916179</td>\n",
       "      <td>1.978934</td>\n",
       "      <td>1.517203</td>\n",
       "      <td>-0.144809</td>\n",
       "      <td>User-Cold-Start</td>\n",
       "    </tr>\n",
       "    <tr>\n",
       "      <th>3</th>\n",
       "      <td>itemavg</td>\n",
       "      <td>3.988708</td>\n",
       "      <td>1.997175</td>\n",
       "      <td>1.612015</td>\n",
       "      <td>-0.015393</td>\n",
       "      <td>User-Item-cold-start</td>\n",
       "    </tr>\n",
       "    <tr>\n",
       "      <th>0</th>\n",
       "      <td>itemavg</td>\n",
       "      <td>3.846133</td>\n",
       "      <td>1.961156</td>\n",
       "      <td>1.521362</td>\n",
       "      <td>-0.159141</td>\n",
       "      <td>0</td>\n",
       "    </tr>\n",
       "    <tr>\n",
       "      <th>1</th>\n",
       "      <td>itemavg</td>\n",
       "      <td>3.768635</td>\n",
       "      <td>1.941297</td>\n",
       "      <td>1.556852</td>\n",
       "      <td>-0.044166</td>\n",
       "      <td>1</td>\n",
       "    </tr>\n",
       "    <tr>\n",
       "      <th>0</th>\n",
       "      <td>itemavg</td>\n",
       "      <td>3.812251</td>\n",
       "      <td>1.952499</td>\n",
       "      <td>1.536878</td>\n",
       "      <td>-0.103648</td>\n",
       "      <td>0</td>\n",
       "    </tr>\n",
       "    <tr>\n",
       "      <th>0</th>\n",
       "      <td>useravg</td>\n",
       "      <td>2.832725</td>\n",
       "      <td>1.683070</td>\n",
       "      <td>1.278786</td>\n",
       "      <td>0.146278</td>\n",
       "      <td>No-cold-start</td>\n",
       "    </tr>\n",
       "    <tr>\n",
       "      <th>1</th>\n",
       "      <td>useravg</td>\n",
       "      <td>2.713754</td>\n",
       "      <td>1.647348</td>\n",
       "      <td>1.226404</td>\n",
       "      <td>0.252465</td>\n",
       "      <td>Item-Cold_start</td>\n",
       "    </tr>\n",
       "    <tr>\n",
       "      <th>2</th>\n",
       "      <td>useravg</td>\n",
       "      <td>3.421264</td>\n",
       "      <td>1.849666</td>\n",
       "      <td>1.482640</td>\n",
       "      <td>-0.000132</td>\n",
       "      <td>User-Cold-Start</td>\n",
       "    </tr>\n",
       "    <tr>\n",
       "      <th>3</th>\n",
       "      <td>useravg</td>\n",
       "      <td>3.988708</td>\n",
       "      <td>1.997175</td>\n",
       "      <td>1.612015</td>\n",
       "      <td>-0.015393</td>\n",
       "      <td>User-Item-cold-start</td>\n",
       "    </tr>\n",
       "    <tr>\n",
       "      <th>0</th>\n",
       "      <td>useravg</td>\n",
       "      <td>2.832725</td>\n",
       "      <td>1.683070</td>\n",
       "      <td>1.278786</td>\n",
       "      <td>0.146278</td>\n",
       "      <td>0</td>\n",
       "    </tr>\n",
       "    <tr>\n",
       "      <th>1</th>\n",
       "      <td>useravg</td>\n",
       "      <td>3.074568</td>\n",
       "      <td>1.753445</td>\n",
       "      <td>1.347970</td>\n",
       "      <td>0.148137</td>\n",
       "      <td>1</td>\n",
       "    </tr>\n",
       "    <tr>\n",
       "      <th>0</th>\n",
       "      <td>useravg</td>\n",
       "      <td>2.938458</td>\n",
       "      <td>1.714193</td>\n",
       "      <td>1.309033</td>\n",
       "      <td>0.149316</td>\n",
       "      <td>0</td>\n",
       "    </tr>\n",
       "    <tr>\n",
       "      <th>0</th>\n",
       "      <td>global_avg</td>\n",
       "      <td>3.323359</td>\n",
       "      <td>1.823008</td>\n",
       "      <td>1.478961</td>\n",
       "      <td>-0.001588</td>\n",
       "      <td>No-cold-start</td>\n",
       "    </tr>\n",
       "    <tr>\n",
       "      <th>1</th>\n",
       "      <td>global_avg</td>\n",
       "      <td>3.649579</td>\n",
       "      <td>1.910387</td>\n",
       "      <td>1.565508</td>\n",
       "      <td>-0.005318</td>\n",
       "      <td>Item-Cold_start</td>\n",
       "    </tr>\n",
       "    <tr>\n",
       "      <th>2</th>\n",
       "      <td>global_avg</td>\n",
       "      <td>3.421264</td>\n",
       "      <td>1.849666</td>\n",
       "      <td>1.482640</td>\n",
       "      <td>-0.000132</td>\n",
       "      <td>User-Cold-Start</td>\n",
       "    </tr>\n",
       "    <tr>\n",
       "      <th>3</th>\n",
       "      <td>global_avg</td>\n",
       "      <td>3.988708</td>\n",
       "      <td>1.997175</td>\n",
       "      <td>1.612015</td>\n",
       "      <td>-0.015393</td>\n",
       "      <td>User-Item-cold-start</td>\n",
       "    </tr>\n",
       "    <tr>\n",
       "      <th>0</th>\n",
       "      <td>global_avg</td>\n",
       "      <td>3.323359</td>\n",
       "      <td>1.823008</td>\n",
       "      <td>1.478961</td>\n",
       "      <td>-0.001588</td>\n",
       "      <td>0</td>\n",
       "    </tr>\n",
       "    <tr>\n",
       "      <th>1</th>\n",
       "      <td>global_avg</td>\n",
       "      <td>3.622941</td>\n",
       "      <td>1.903402</td>\n",
       "      <td>1.546677</td>\n",
       "      <td>-0.003799</td>\n",
       "      <td>1</td>\n",
       "    </tr>\n",
       "    <tr>\n",
       "      <th>0</th>\n",
       "      <td>global_avg</td>\n",
       "      <td>3.454335</td>\n",
       "      <td>1.858584</td>\n",
       "      <td>1.508566</td>\n",
       "      <td>-0.000031</td>\n",
       "      <td>0</td>\n",
       "    </tr>\n",
       "  </tbody>\n",
       "</table>\n",
       "</div>"
      ],
      "text/plain": [
       "                      method       mse      rmse       mae  r2_score  \\\n",
       "0  biasedmatrixfactorization  3.285500  1.812595  1.372624  0.009822   \n",
       "1  biasedmatrixfactorization  2.638329  1.624293  1.218794  0.273242   \n",
       "2  biasedmatrixfactorization  3.361617  1.833471  1.429907  0.017305   \n",
       "3  biasedmatrixfactorization  3.988708  1.997175  1.612015 -0.015393   \n",
       "0  biasedmatrixfactorization  3.285500  1.812595  1.372624  0.009822   \n",
       "1  biasedmatrixfactorization  3.012811  1.735745  1.327987  0.165248   \n",
       "0  biasedmatrixfactorization  3.166282  1.779405  1.353109  0.083361   \n",
       "0                svdplusplus  2.738175  1.654743  1.290668  0.174774   \n",
       "1                svdplusplus  2.830975  1.682550  1.303101  0.220176   \n",
       "2                svdplusplus  3.284872  1.812422  1.440296  0.039739   \n",
       "3                svdplusplus  3.988708  1.997175  1.612015 -0.015393   \n",
       "0                svdplusplus  2.738175  1.654743  1.290668  0.174774   \n",
       "1                svdplusplus  3.103105  1.761563  1.380447  0.140231   \n",
       "0                svdplusplus  2.897721  1.702269  1.329919  0.161109   \n",
       "0                        svd  3.819795  1.954430  1.530069 -0.151203   \n",
       "1                        svd  3.649579  1.910387  1.565508 -0.005318   \n",
       "2                        svd  3.421264  1.849666  1.482640 -0.000132   \n",
       "3                        svd  3.988708  1.997175  1.612015 -0.015393   \n",
       "0                        svd  3.819795  1.954430  1.530069 -0.151203   \n",
       "1                        svd  3.622941  1.903402  1.546677 -0.003799   \n",
       "0                        svd  3.733731  1.932287  1.537330 -0.080916   \n",
       "0              userknncosine  3.170972  1.780722  1.363100  0.044338   \n",
       "1              userknncosine  2.724954  1.650744  1.274785  0.249380   \n",
       "2              userknncosine  3.231956  1.797764  1.417912  0.055208   \n",
       "3              userknncosine  3.988708  1.997175  1.612015 -0.015393   \n",
       "0              userknncosine  3.170972  1.780722  1.363100  0.044338   \n",
       "1              userknncosine  3.025402  1.739368  1.357265  0.161760   \n",
       "0              userknncosine  3.107330  1.762762  1.360549  0.100427   \n",
       "0                    itemavg  3.846133  1.961156  1.521362 -0.159141   \n",
       "1                    itemavg  3.649579  1.910387  1.565508 -0.005318   \n",
       "2                    itemavg  3.916179  1.978934  1.517203 -0.144809   \n",
       "3                    itemavg  3.988708  1.997175  1.612015 -0.015393   \n",
       "0                    itemavg  3.846133  1.961156  1.521362 -0.159141   \n",
       "1                    itemavg  3.768635  1.941297  1.556852 -0.044166   \n",
       "0                    itemavg  3.812251  1.952499  1.536878 -0.103648   \n",
       "0                    useravg  2.832725  1.683070  1.278786  0.146278   \n",
       "1                    useravg  2.713754  1.647348  1.226404  0.252465   \n",
       "2                    useravg  3.421264  1.849666  1.482640 -0.000132   \n",
       "3                    useravg  3.988708  1.997175  1.612015 -0.015393   \n",
       "0                    useravg  2.832725  1.683070  1.278786  0.146278   \n",
       "1                    useravg  3.074568  1.753445  1.347970  0.148137   \n",
       "0                    useravg  2.938458  1.714193  1.309033  0.149316   \n",
       "0                 global_avg  3.323359  1.823008  1.478961 -0.001588   \n",
       "1                 global_avg  3.649579  1.910387  1.565508 -0.005318   \n",
       "2                 global_avg  3.421264  1.849666  1.482640 -0.000132   \n",
       "3                 global_avg  3.988708  1.997175  1.612015 -0.015393   \n",
       "0                 global_avg  3.323359  1.823008  1.478961 -0.001588   \n",
       "1                 global_avg  3.622941  1.903402  1.546677 -0.003799   \n",
       "0                 global_avg  3.454335  1.858584  1.508566 -0.000031   \n",
       "\n",
       "       Cold Start Group  \n",
       "0         No-cold-start  \n",
       "1       Item-Cold_start  \n",
       "2       User-Cold-Start  \n",
       "3  User-Item-cold-start  \n",
       "0                     0  \n",
       "1                     1  \n",
       "0                     0  \n",
       "0         No-cold-start  \n",
       "1       Item-Cold_start  \n",
       "2       User-Cold-Start  \n",
       "3  User-Item-cold-start  \n",
       "0                     0  \n",
       "1                     1  \n",
       "0                     0  \n",
       "0         No-cold-start  \n",
       "1       Item-Cold_start  \n",
       "2       User-Cold-Start  \n",
       "3  User-Item-cold-start  \n",
       "0                     0  \n",
       "1                     1  \n",
       "0                     0  \n",
       "0         No-cold-start  \n",
       "1       Item-Cold_start  \n",
       "2       User-Cold-Start  \n",
       "3  User-Item-cold-start  \n",
       "0                     0  \n",
       "1                     1  \n",
       "0                     0  \n",
       "0         No-cold-start  \n",
       "1       Item-Cold_start  \n",
       "2       User-Cold-Start  \n",
       "3  User-Item-cold-start  \n",
       "0                     0  \n",
       "1                     1  \n",
       "0                     0  \n",
       "0         No-cold-start  \n",
       "1       Item-Cold_start  \n",
       "2       User-Cold-Start  \n",
       "3  User-Item-cold-start  \n",
       "0                     0  \n",
       "1                     1  \n",
       "0                     0  \n",
       "0         No-cold-start  \n",
       "1       Item-Cold_start  \n",
       "2       User-Cold-Start  \n",
       "3  User-Item-cold-start  \n",
       "0                     0  \n",
       "1                     1  \n",
       "0                     0  "
      ]
     },
     "execution_count": 80,
     "metadata": {},
     "output_type": "execute_result"
    }
   ],
   "source": [
    "results_concat"
   ]
  },
  {
   "cell_type": "code",
   "execution_count": 81,
   "metadata": {},
   "outputs": [],
   "source": [
    "pickle.dump([dftrain,dfvalid,results_concat],open(f'{DATAPATH}/df_side_cold_runother.pkl','wb'))"
   ]
  },
  {
   "cell_type": "code",
   "execution_count": null,
   "metadata": {},
   "outputs": [],
   "source": [
    "result_userknnpearson,\n",
    "result_itemknnpearson,\n",
    "result_itemknncosine,"
   ]
  },
  {
   "cell_type": "code",
   "execution_count": null,
   "metadata": {},
   "outputs": [],
   "source": []
  },
  {
   "cell_type": "code",
   "execution_count": null,
   "metadata": {},
   "outputs": [],
   "source": []
  }
 ],
 "metadata": {
  "kernelspec": {
   "display_name": "Python 3",
   "language": "python",
   "name": "python3"
  },
  "language_info": {
   "codemirror_mode": {
    "name": "ipython",
    "version": 3
   },
   "file_extension": ".py",
   "mimetype": "text/x-python",
   "name": "python",
   "nbconvert_exporter": "python",
   "pygments_lexer": "ipython3",
   "version": "3.7.3"
  }
 },
 "nbformat": 4,
 "nbformat_minor": 2
}
