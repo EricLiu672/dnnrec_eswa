{
 "cells": [
  {
   "cell_type": "code",
   "execution_count": 1,
   "metadata": {},
   "outputs": [],
   "source": [
    "PATH='/home/kirana/Documents/phd/experiment1_new/DNNREC_BookCrossing'\n",
    "DATAPATH='/home/kirana/Documents/final_dissertation_final/experiments/datasets/bookcrossing'"
   ]
  },
  {
   "cell_type": "code",
   "execution_count": 2,
   "metadata": {},
   "outputs": [],
   "source": [
    "import pandas as pd\n",
    "import numpy as np\n",
    "import matplotlib.pyplot as plt\n",
    "import sklearn\n",
    "import os\n",
    "import pickle\n",
    "import torch\n",
    "from torch.utils.data import Dataset, DataLoader\n",
    "from torch import nn\n",
    "import pickle\n",
    "from sklearn import metrics"
   ]
  },
  {
   "cell_type": "code",
   "execution_count": 3,
   "metadata": {},
   "outputs": [],
   "source": [
    "[dftrain,dfvalid,results_concat]=pickle.load(open(f'{DATAPATH}/df_side_cold_runother.pkl','rb'))"
   ]
  },
  {
   "cell_type": "code",
   "execution_count": 4,
   "metadata": {},
   "outputs": [],
   "source": [
    "df=pd.concat([dftrain,dfvalid[dftrain.columns]],axis=0)"
   ]
  },
  {
   "cell_type": "code",
   "execution_count": 5,
   "metadata": {},
   "outputs": [],
   "source": [
    "user_to_idx={j:i+1 for i, j in enumerate(df['userId'].unique())}\n",
    "item_to_idx={j:i+1 for i,j in enumerate(df['itemId'].unique())}\n",
    "idx_to_user={i+1:j for i, j in enumerate(df['userId'].unique())}\n",
    "idx_to_item={i+1:j for i,j in enumerate(df['itemId'].unique())}"
   ]
  },
  {
   "cell_type": "code",
   "execution_count": 6,
   "metadata": {},
   "outputs": [],
   "source": [
    "dftrain['user_idx']=[user_to_idx[i] for i in dftrain['userId']]\n",
    "dftrain['item_idx']=[item_to_idx[i] for i in dftrain['itemId']]"
   ]
  },
  {
   "cell_type": "code",
   "execution_count": 7,
   "metadata": {},
   "outputs": [],
   "source": [
    "dfvalid['user_idx']=[user_to_idx[i] for i in dfvalid['userId']]\n",
    "dfvalid['item_idx']=[item_to_idx[i] for i in dfvalid['itemId']]"
   ]
  },
  {
   "cell_type": "code",
   "execution_count": 8,
   "metadata": {},
   "outputs": [],
   "source": [
    "pickle.dump([df, dftrain,dfvalid,idx_to_user,idx_to_item,item_to_idx,user_to_idx],open(f'{DATAPATH}/reads.pkl','wb'))"
   ]
  },
  {
   "cell_type": "markdown",
   "metadata": {},
   "source": [
    "### Dataset and DataLoader"
   ]
  },
  {
   "cell_type": "code",
   "execution_count": 9,
   "metadata": {},
   "outputs": [],
   "source": [
    "class cfdata (torch.utils.data.dataset.Dataset):\n",
    "    def __init__(self,dfX,dfY):\n",
    "        self.dfX,self.dfY=dfX,dfY\n",
    "        \n",
    "    def __len__ (self):\n",
    "        return self.dfX.shape[0]\n",
    "    \n",
    "    def __getitem__ (self, idx):\n",
    "        return torch.LongTensor(self.dfX.iloc[idx].values),torch.FloatTensor([self.dfY.values[idx]])"
   ]
  },
  {
   "cell_type": "code",
   "execution_count": 10,
   "metadata": {},
   "outputs": [],
   "source": [
    "dstrain=cfdata(dftrain[['user_idx','item_idx']],dftrain['rating'])\n",
    "dsvalid=cfdata(dfvalid[['user_idx','item_idx']],dfvalid['rating'])"
   ]
  },
  {
   "cell_type": "code",
   "execution_count": 11,
   "metadata": {},
   "outputs": [
    {
     "data": {
      "text/plain": [
       "(390999, 18)"
      ]
     },
     "execution_count": 11,
     "metadata": {},
     "output_type": "execute_result"
    }
   ],
   "source": [
    "dftrain.shape"
   ]
  },
  {
   "cell_type": "code",
   "execution_count": 12,
   "metadata": {},
   "outputs": [],
   "source": [
    "bs=64"
   ]
  },
  {
   "cell_type": "code",
   "execution_count": 13,
   "metadata": {},
   "outputs": [],
   "source": [
    "dltrain=DataLoader(dstrain,bs,True)"
   ]
  },
  {
   "cell_type": "code",
   "execution_count": 14,
   "metadata": {},
   "outputs": [],
   "source": [
    "dlvalid=DataLoader(dsvalid,bs,False)"
   ]
  },
  {
   "cell_type": "code",
   "execution_count": 15,
   "metadata": {},
   "outputs": [
    {
     "data": {
      "text/plain": [
       "(77805, 185973)"
      ]
     },
     "execution_count": 15,
     "metadata": {},
     "output_type": "execute_result"
    }
   ],
   "source": [
    "len(user_to_idx),len(item_to_idx)"
   ]
  },
  {
   "cell_type": "code",
   "execution_count": 16,
   "metadata": {},
   "outputs": [
    {
     "data": {
      "text/plain": [
       "6110"
      ]
     },
     "execution_count": 16,
     "metadata": {},
     "output_type": "execute_result"
    }
   ],
   "source": [
    "len(dltrain)"
   ]
  },
  {
   "cell_type": "code",
   "execution_count": 17,
   "metadata": {},
   "outputs": [
    {
     "data": {
      "text/plain": [
       "391040"
      ]
     },
     "execution_count": 17,
     "metadata": {},
     "output_type": "execute_result"
    }
   ],
   "source": [
    "6110*64"
   ]
  },
  {
   "cell_type": "markdown",
   "metadata": {},
   "source": [
    "## Model Architecture"
   ]
  },
  {
   "cell_type": "code",
   "execution_count": 18,
   "metadata": {},
   "outputs": [
    {
     "data": {
      "text/plain": [
       "(77805, 185973)"
      ]
     },
     "execution_count": 18,
     "metadata": {},
     "output_type": "execute_result"
    }
   ],
   "source": [
    "n_users=len(user_to_idx)\n",
    "n_items=len(item_to_idx)\n",
    "n_users,n_items"
   ]
  },
  {
   "cell_type": "code",
   "execution_count": 20,
   "metadata": {},
   "outputs": [],
   "source": [
    "n_emb_user=25\n",
    "n_emb_item=25\n",
    "min_rating=min(dftrain['rating'])\n",
    "max_rating=max(dftrain['rating'])\n",
    "dropout_e=0.1"
   ]
  },
  {
   "cell_type": "code",
   "execution_count": 21,
   "metadata": {},
   "outputs": [],
   "source": [
    "class cf(nn.Module):    \n",
    "    def __init__(self,n_users,n_emb_user,n_emb_item,n_items,min_rating,max_rating,dropout_e=0.01):\n",
    "        super().__init__()\n",
    "        self.n_users,self.n_emb_user,self.n_emb_item,self.n_items,self.min_rating,self.max_rating=\\\n",
    "                    n_users,n_emb_user,n_emb_item,n_items,min_rating,max_rating\n",
    "        self.dropout_e=dropout_e\n",
    "        self.create_architecture()\n",
    "        self.init_parameters()\n",
    "        self.criterion=nn.MSELoss()\n",
    "        \n",
    "        \n",
    "    def create_architecture(self):\n",
    "        self.emb_user=nn.Embedding(self.n_users+1,self.n_emb_user)\n",
    "        self.emb_item=nn.Embedding(self.n_items+1,self.n_emb_item)\n",
    "        self.emb_dropout=nn.Dropout(self.dropout_e)\n",
    "        self.ub=nn.Embedding(self.n_users+1,1)\n",
    "        self.ib=nn.Embedding(self.n_items+1,1)\n",
    "\n",
    "        self.sigmoid=nn.Sigmoid()\n",
    "        \n",
    "        \n",
    "    def init_parameters(self):\n",
    "        nn.init.kaiming_normal_(self.emb_user.weight.data)\n",
    "        nn.init.kaiming_normal_(self.emb_item.weight.data)\n",
    "        nn.init.kaiming_normal_(self.ub.weight.data)\n",
    "        nn.init.kaiming_normal_(self.ib.weight.data)\n",
    "\n",
    "       \n",
    "    def forward (self,Xb,Yb):               \n",
    "        users=self.emb_dropout(self.emb_user(Xb[:,0]))\n",
    "        items=self.emb_dropout(self.emb_item(Xb[:,1]))\n",
    "        users_bias=self.emb_dropout(self.ub(Xb[:,0]))\n",
    "        items_bias=self.emb_dropout(self.ib(Xb[:,1]))\n",
    "\n",
    "        out=(users*items).sum(1)+users_bias.squeeze()+items_bias.squeeze()\n",
    "        out=self.sigmoid(out)\n",
    "        preds=out*(self.max_rating-self.min_rating)+self.min_rating\n",
    "        preds=preds.view(-1,1)\n",
    "        loss=self.criterion(preds,Yb)\n",
    "        return preds,loss"
   ]
  },
  {
   "cell_type": "code",
   "execution_count": 22,
   "metadata": {},
   "outputs": [
    {
     "data": {
      "text/plain": [
       "77805"
      ]
     },
     "execution_count": 22,
     "metadata": {},
     "output_type": "execute_result"
    }
   ],
   "source": [
    "n_users"
   ]
  },
  {
   "cell_type": "code",
   "execution_count": 23,
   "metadata": {},
   "outputs": [],
   "source": [
    "cfobj=cf(n_users,n_emb_user,n_emb_item,n_items,min_rating,max_rating,dropout_e)"
   ]
  },
  {
   "cell_type": "code",
   "execution_count": 24,
   "metadata": {},
   "outputs": [
    {
     "data": {
      "text/plain": [
       "cf(\n",
       "  (emb_user): Embedding(77806, 25)\n",
       "  (emb_item): Embedding(185974, 25)\n",
       "  (emb_dropout): Dropout(p=0.1, inplace=False)\n",
       "  (ub): Embedding(77806, 1)\n",
       "  (ib): Embedding(185974, 1)\n",
       "  (sigmoid): Sigmoid()\n",
       "  (criterion): MSELoss()\n",
       ")"
      ]
     },
     "execution_count": 24,
     "metadata": {},
     "output_type": "execute_result"
    }
   ],
   "source": [
    "cfobj"
   ]
  },
  {
   "cell_type": "code",
   "execution_count": 25,
   "metadata": {},
   "outputs": [],
   "source": [
    "for Xb, Yb in dltrain:\n",
    "    break"
   ]
  },
  {
   "cell_type": "code",
   "execution_count": 26,
   "metadata": {},
   "outputs": [
    {
     "data": {
      "text/plain": [
       "(torch.Size([64, 2]), torch.Size([64, 1]))"
      ]
     },
     "execution_count": 26,
     "metadata": {},
     "output_type": "execute_result"
    }
   ],
   "source": [
    "Xb.shape, Yb.shape"
   ]
  },
  {
   "cell_type": "code",
   "execution_count": 27,
   "metadata": {},
   "outputs": [
    {
     "data": {
      "text/plain": [
       "(tensor([[4.5098],\n",
       "         [8.0351],\n",
       "         [1.0968],\n",
       "         [7.6336],\n",
       "         [1.9807],\n",
       "         [9.4567],\n",
       "         [1.9308],\n",
       "         [9.5103],\n",
       "         [5.7127],\n",
       "         [8.4797],\n",
       "         [9.0768],\n",
       "         [7.3436],\n",
       "         [9.7481],\n",
       "         [9.4533],\n",
       "         [4.4408],\n",
       "         [6.5849],\n",
       "         [8.6954],\n",
       "         [5.7116],\n",
       "         [4.3319],\n",
       "         [9.5972],\n",
       "         [9.7388],\n",
       "         [3.1419],\n",
       "         [1.5309],\n",
       "         [1.4602],\n",
       "         [9.2277],\n",
       "         [9.1940],\n",
       "         [1.4223],\n",
       "         [3.6509],\n",
       "         [1.8685],\n",
       "         [8.2029],\n",
       "         [8.6862],\n",
       "         [8.7710],\n",
       "         [8.4484],\n",
       "         [1.3780],\n",
       "         [1.5185],\n",
       "         [7.4701],\n",
       "         [7.9491],\n",
       "         [5.9137],\n",
       "         [9.9497],\n",
       "         [5.3271],\n",
       "         [5.5982],\n",
       "         [5.6112],\n",
       "         [7.4488],\n",
       "         [8.4410],\n",
       "         [4.2903],\n",
       "         [4.6854],\n",
       "         [9.0080],\n",
       "         [1.3954],\n",
       "         [5.6434],\n",
       "         [9.9674],\n",
       "         [2.3252],\n",
       "         [8.5899],\n",
       "         [1.9092],\n",
       "         [8.6166],\n",
       "         [1.4612],\n",
       "         [2.7257],\n",
       "         [9.7818],\n",
       "         [4.9042],\n",
       "         [1.4062],\n",
       "         [5.7626],\n",
       "         [3.4973],\n",
       "         [4.6207],\n",
       "         [4.1485],\n",
       "         [9.5242]], grad_fn=<ViewBackward>),\n",
       " tensor(17.8506, grad_fn=<MseLossBackward>))"
      ]
     },
     "execution_count": 27,
     "metadata": {},
     "output_type": "execute_result"
    }
   ],
   "source": [
    "cfobj.forward(Xb,Yb)"
   ]
  },
  {
   "cell_type": "markdown",
   "metadata": {},
   "source": [
    "## Learner"
   ]
  },
  {
   "cell_type": "code",
   "execution_count": 28,
   "metadata": {},
   "outputs": [],
   "source": [
    "class Learner():\n",
    "    def __init__(self,model,optimizer,metric_fn,device,bptt=12,print_every=5,clip_val=None,\\\n",
    "                 cycle_mult=0,lr_decay=0.7,wd_mult=1.1,start_lr=2e-2, end_lr=5e-4,error_type=\"mse\"):\n",
    "        self.model,self.optimizer,self.metric_fn,self.device,self.print_every,self.bptt,self.losses,self.clip_val=\\\n",
    "            model,optimizer,metric_fn,device,print_every,bptt,[],clip_val\n",
    "        self.n_epochs=1\n",
    "        self.cycle_mult,self.lr_decay=cycle_mult,lr_decay\n",
    "        self.wd_mult=wd_mult\n",
    "        for param_group in self.optimizer.param_groups:\n",
    "            self.start_lr=param_group['lr']\n",
    "            self.start_wd=param_group['weight_decay']\n",
    "        self.wd=self.start_wd\n",
    "        self.lr=self.start_lr\n",
    "        self.end_lr=end_lr\n",
    "        self.n_epoch=0\n",
    "        self.lrs=[1e-2,5e-3,1e-4,5e-4]\n",
    "        self.preds,self.preds_valid,self.trainY,self.actual=[],[],[],[]\n",
    "        self.ratio=self.end_lr/self.start_lr\n",
    "        self.num_steps=self.cycle_mult\n",
    "        self.reset_cycle=self.cycle_mult\n",
    "        self.error_type=error_type\n",
    "        self.scores=[]\n",
    "        self.generate_scores=False\n",
    "        \n",
    "    def fit (self,Xb,Yb,mode_train=True):\n",
    "        if mode_train:\n",
    "            self.model.train()\n",
    "        else:\n",
    "            self.model.eval()\n",
    "        \n",
    "        #import pdb\n",
    "        #pdb.set_trace()\n",
    "        preds,loss=self.model(Xb,Yb)\n",
    "\n",
    "     \n",
    "        if mode_train:\n",
    "            if 1==0:\n",
    "                lr =self.lrs[torch.randint(0,4,(1,))]\n",
    "                for param_group in self.optimizer.param_groups:\n",
    "                    param_group['lr']=lr\n",
    "            \n",
    "            self.optimizer.zero_grad()\n",
    "            loss.backward()\n",
    "            self.optimizer.step()\n",
    "        myloss=loss.item()\n",
    "    \n",
    "        \n",
    "        with torch.no_grad():\n",
    "            if self.error_type == \"mse\":\n",
    "                acc=nn.L1Loss() (preds,Yb)\n",
    "                myrmse=np.sqrt(myloss)\n",
    "            else:\n",
    "                acc=nn.MSELoss() (preds,Yb)\n",
    "                myrmse=np.sqrt(acc.item())\n",
    "            acc=acc.item()\n",
    "                 \n",
    "        if mode_train==False:\n",
    "            if self.generate_scores:\n",
    "                self.scores.append(preds.detach().cpu().numpy().flatten())\n",
    "        del preds\n",
    "        del loss\n",
    "        \n",
    "        if self.clip_val is not None:\n",
    "            torch.nn.utils.clip_grad_norm_(self.model.parameters(), self.clip_val)\n",
    "        \n",
    "        return myloss, acc, myrmse\n",
    "    \n",
    "    def lr_find (self,start_lr,end_lr,iterator,n_batch):\n",
    "        losses,lrs=[],[]\n",
    "        ratio=end_lr/start_lr\n",
    "        num_steps=n_batch\n",
    "        lr=start_lr\n",
    "        for i in range(num_steps):            \n",
    "            lr=lr*(end_lr/start_lr)**(1/num_steps)\n",
    "            lrs.append(lr)\n",
    "        self.lrs=lrs\n",
    "        self.run_epoch(iterator,mode_train=True,lrs=lrs)\n",
    "    \n",
    "    def run_epoch(self,iterator,mode_train,lrs=None):\n",
    "        epoch_loss,epoch_acc,i,k=0,0,0,0\n",
    "        epoch_rmse=0\n",
    "\n",
    "        for Xb,Yb in iterator:\n",
    "            Xb=Xb.to(self.device)\n",
    "            Yb=Yb.to(self.device)\n",
    "            \n",
    "            if lrs is not None:\n",
    "                lr=lrs[k]\n",
    "                for param_group in self.optimizer.param_groups:\n",
    "                    param_group['lr']=lr \n",
    "            \n",
    "            loss,acc,myrmse=self.fit(Xb,Yb,mode_train)\n",
    "            \n",
    "            if lrs is not None:\n",
    "                self.losses.append(loss)\n",
    "\n",
    "            epoch_loss+=loss\n",
    "            epoch_acc+=acc\n",
    "            epoch_rmse+=myrmse\n",
    "            \n",
    "            k=k+1\n",
    "            if k%self.print_every == 0:\n",
    "                if k:\n",
    "                    print (f'Batch:{k} {epoch_loss/(k)}  ')  \n",
    "                    torch.cuda.empty_cache()\n",
    "\n",
    "        epoch_loss=epoch_loss/len(iterator)\n",
    "        epoch_acc=epoch_acc/len(iterator)\n",
    "        epoch_rmse=epoch_rmse/len(iterator)\n",
    "            \n",
    "        return epoch_loss,epoch_acc,epoch_rmse\n",
    "    \n",
    "    def plot_lrs(self, n_roll=1,ylim=None,xlim=None):\n",
    "        import seaborn as sns\n",
    "        ax=sns.lineplot(x=self.lrs,y=pd.Series(self.losses).rolling(n_roll).mean())\n",
    "        ax.set_xscale('log')\n",
    "        ax.set_ylabel('Loss')\n",
    "        ax.set_xlabel('Learning Rate')\n",
    "        if ylim is not None:\n",
    "            plt.ylim(ylim)\n",
    "        if xlim is not None:\n",
    "            plt.xlim(xlim)\n",
    "\n",
    "     \n",
    "    def run_epochs(self,dltrain,dlvalid,n_epochs=1):              \n",
    "        for epoch in range(n_epochs):                \n",
    "            loss,acc,rmse=self.run_epoch(dltrain,True)\n",
    "\n",
    "            lossv,accv,rmsev=self.run_epoch(dlvalid,mode_train=False)\n",
    "           \n",
    "            if self.error_type==\"mse\":\n",
    "                loss_mse=loss\n",
    "                loss_rmse=rmse\n",
    "                loss_mae=acc\n",
    "                lossv_mse=lossv\n",
    "                lossv_rmse=rmsev\n",
    "                lossv_mae=accv\n",
    "                \n",
    "            else:\n",
    "                loss_mse=acc\n",
    "                loss_rmse=rmse\n",
    "                loss_mae=loss\n",
    "                lossv_mse=accv\n",
    "                lossv_rmse=rmsev\n",
    "                lossv_mae=lossv\n",
    "            \n",
    "            print (f'Epoch:{epoch} Learning rate {self.lr} Weight Decay {self.wd} Train Loss:{loss} \\\n",
    "                Valid Loss:{lossv} Train RMSE:{loss_rmse} Valid RMSE:{lossv_rmse} ')\n",
    "\n",
    "              \n",
    "         \n",
    "     \n",
    "            if self.cycle_mult:\n",
    "                if self.n_epoch==self.reset_cycle:\n",
    "                    self.lr=self.start_lr\n",
    "                    self.wd=self.start_wd\n",
    "                    self.reset_cycle*=self.cycle_mult\n",
    "                    #reset_cycle=self.n_epoch+reset_cycle\n",
    "                    self.n_epoch=0\n",
    "                    self.ratio=self.end_lr/self.start_lr\n",
    "                    self.num_steps=self.reset_cycle\n",
    "                else:\n",
    "                    #self.lr*=(self.lr_decay**self.n_epoch)  \n",
    "                    #if self.n_epoch>1:\n",
    "                    self.wd*=self.wd_mult\n",
    "                    self.lr=self.lr*(self.end_lr/self.start_lr)**(1/self.num_steps)\n",
    "                    self.n_epoch+=1\n",
    "        \n",
    "\n",
    "                \n",
    "            for param_group in self.optimizer.param_groups:\n",
    "                param_group['lr']=self.lr\n",
    "                param_group['weight_decay']=self.wd\n",
    "          \n",
    "     "
   ]
  },
  {
   "cell_type": "code",
   "execution_count": 34,
   "metadata": {},
   "outputs": [],
   "source": [
    "if 1==1:\n",
    "    del cfobj\n",
    "    torch.cuda.empty_cache()"
   ]
  },
  {
   "cell_type": "code",
   "execution_count": 35,
   "metadata": {},
   "outputs": [],
   "source": [
    "device='cuda:0'"
   ]
  },
  {
   "cell_type": "code",
   "execution_count": 36,
   "metadata": {},
   "outputs": [],
   "source": [
    "cfobj=cf(n_users,n_emb_user,n_emb_item,n_items,min_rating,max_rating,dropout_e)"
   ]
  },
  {
   "cell_type": "code",
   "execution_count": 37,
   "metadata": {},
   "outputs": [],
   "source": [
    "cfobj=cfobj.to(device)"
   ]
  },
  {
   "cell_type": "code",
   "execution_count": 38,
   "metadata": {},
   "outputs": [
    {
     "data": {
      "text/plain": [
       "cf(\n",
       "  (emb_user): Embedding(77806, 25)\n",
       "  (emb_item): Embedding(185974, 25)\n",
       "  (emb_dropout): Dropout(p=0.1, inplace=False)\n",
       "  (ub): Embedding(77806, 1)\n",
       "  (ib): Embedding(185974, 1)\n",
       "  (sigmoid): Sigmoid()\n",
       "  (criterion): MSELoss()\n",
       ")"
      ]
     },
     "execution_count": 38,
     "metadata": {},
     "output_type": "execute_result"
    }
   ],
   "source": [
    "cfobj"
   ]
  },
  {
   "cell_type": "code",
   "execution_count": 39,
   "metadata": {},
   "outputs": [
    {
     "data": {
      "text/plain": [
       "6110"
      ]
     },
     "execution_count": 39,
     "metadata": {},
     "output_type": "execute_result"
    }
   ],
   "source": [
    "len(dltrain)"
   ]
  },
  {
   "cell_type": "code",
   "execution_count": 40,
   "metadata": {},
   "outputs": [],
   "source": [
    "wd=5e-5\n",
    "optimizer=torch.optim.Adam(cfobj.parameters(),lr=1e-4,betas=(0.9,0.999), weight_decay=wd)\n",
    "learner=Learner(cfobj,optimizer,None,device,0,10000,0.25,cycle_mult=0)"
   ]
  },
  {
   "cell_type": "code",
   "execution_count": 41,
   "metadata": {},
   "outputs": [],
   "source": [
    "learner.lr_find(1e-4,1e-1,dltrain,len(dltrain))"
   ]
  },
  {
   "cell_type": "code",
   "execution_count": 42,
   "metadata": {},
   "outputs": [
    {
     "data": {
      "image/png": "[encoded data removed]",
      "text/plain": [
       "<Figure size 432x288 with 1 Axes>"
      ]
     },
     "metadata": {
      "needs_background": "light"
     },
     "output_type": "display_data"
    }
   ],
   "source": [
    "learner.plot_lrs(100)"
   ]
  },
  {
   "cell_type": "code",
   "execution_count": 43,
   "metadata": {},
   "outputs": [
    {
     "data": {
      "image/png": "[encoded data removed]",
      "text/plain": [
       "<Figure size 432x288 with 1 Axes>"
      ]
     },
     "metadata": {
      "needs_background": "light"
     },
     "output_type": "display_data"
    }
   ],
   "source": [
    "learner.plot_lrs(10)"
   ]
  },
  {
   "cell_type": "code",
   "execution_count": 44,
   "metadata": {},
   "outputs": [
    {
     "data": {
      "image/png": "[encoded data removed]",
      "text/plain": [
       "<Figure size 432x288 with 1 Axes>"
      ]
     },
     "metadata": {
      "needs_background": "light"
     },
     "output_type": "display_data"
    }
   ],
   "source": [
    "learner.plot_lrs(1)"
   ]
  },
  {
   "cell_type": "code",
   "execution_count": 45,
   "metadata": {},
   "outputs": [],
   "source": [
    "del cfobj\n",
    "torch.cuda.empty_cache()"
   ]
  },
  {
   "cell_type": "code",
   "execution_count": 46,
   "metadata": {},
   "outputs": [
    {
     "data": {
      "text/plain": [
       "5e-05"
      ]
     },
     "execution_count": 46,
     "metadata": {},
     "output_type": "execute_result"
    }
   ],
   "source": [
    "wd"
   ]
  },
  {
   "cell_type": "code",
   "execution_count": 47,
   "metadata": {},
   "outputs": [],
   "source": [
    "dropout_e=0.1\n",
    "cfobj=cf(n_users,n_emb_user,n_emb_item,n_items,min_rating,max_rating,dropout_e)\n",
    "cfobj=cfobj.to(device)"
   ]
  },
  {
   "cell_type": "code",
   "execution_count": 48,
   "metadata": {},
   "outputs": [
    {
     "data": {
      "text/plain": [
       "'cuda:0'"
      ]
     },
     "execution_count": 48,
     "metadata": {},
     "output_type": "execute_result"
    }
   ],
   "source": [
    "device"
   ]
  },
  {
   "cell_type": "code",
   "execution_count": 49,
   "metadata": {},
   "outputs": [],
   "source": [
    "optimizer=torch.optim.AdamW(cfobj.parameters(),lr=2e-2,betas=(0.9,0.999), weight_decay=wd)\n",
    "learner=Learner(cfobj,optimizer,None,device,0,16000,0.25,cycle_mult=2,start_lr=3e-2,end_lr=2e-3,wd_mult=1.1)"
   ]
  },
  {
   "cell_type": "code",
   "execution_count": 50,
   "metadata": {},
   "outputs": [
    {
     "name": "stdout",
     "output_type": "stream",
     "text": [
      "Epoch:0 Learning rate 0.02 Weight Decay 5e-05 Train Loss:11.670730988756919                 Valid Loss:10.636594680116987 Train RMSE:3.400472059099118 Valid RMSE:3.241087330060432 \n",
      "Epoch:1 Learning rate 0.006324555320336759 Weight Decay 5.500000000000001e-05 Train Loss:10.488789589549437                 Valid Loss:9.778656519871245 Train RMSE:3.226382568269175 Valid RMSE:3.105298218782863 \n",
      "Epoch:2 Learning rate 0.002 Weight Decay 6.0500000000000014e-05 Train Loss:8.093459847632875                 Valid Loss:9.548320941124363 Train RMSE:2.8336539193216286 Valid RMSE:3.067775493156941 \n"
     ]
    }
   ],
   "source": [
    "# wd as 5e-4\n",
    "learner.run_epochs(dltrain,dlvalid,3)"
   ]
  },
  {
   "cell_type": "code",
   "execution_count": null,
   "metadata": {},
   "outputs": [],
   "source": []
  },
  {
   "cell_type": "code",
   "execution_count": 56,
   "metadata": {},
   "outputs": [
    {
     "name": "stdout",
     "output_type": "stream",
     "text": [
      "Epoch:0 Learning rate 0.02 Weight Decay 5e-05 Train Loss:10.704073450335114                 Valid Loss:9.054955714824853 Train RMSE:3.2503738403303153 Valid RMSE:2.9890258396847194 \n",
      "Epoch:1 Learning rate 0.00447213595499958 Weight Decay 5.500000000000001e-05 Train Loss:7.210362299881668                 Valid Loss:8.36021064889842 Train RMSE:2.673282829497821 Valid RMSE:2.8694063018175475 \n",
      "Epoch:2 Learning rate 0.001 Weight Decay 6.0500000000000014e-05 Train Loss:5.209402724920045                 Valid Loss:8.2672692531946 Train RMSE:2.2705637444116578 Valid RMSE:2.8528694779617045 \n",
      "Epoch:3 Learning rate 0.02 Weight Decay 5e-05 Train Loss:6.518945200158414                 Valid Loss:9.408510783623004 Train RMSE:2.5374808826183948 Valid RMSE:3.048790176262469 \n",
      "Epoch:4 Learning rate 0.009457416090031758 Weight Decay 5.500000000000001e-05 Train Loss:8.214493149236064                 Valid Loss:8.529423398413938 Train RMSE:2.853316952580825 Valid RMSE:2.898557766202471 \n",
      "Epoch:5 Learning rate 0.00447213595499958 Weight Decay 6.0500000000000014e-05 Train Loss:5.647238243035911                 Valid Loss:8.221720862066906 Train RMSE:2.3645401201425393 Valid RMSE:2.844376714008792 \n",
      "Epoch:6 Learning rate 0.0021147425268811283 Weight Decay 6.655000000000002e-05 Train Loss:4.3383008288088485                 Valid Loss:8.08528671450522 Train RMSE:2.0714869385084884 Valid RMSE:2.819681292164787 \n",
      "Epoch:7 Learning rate 0.001 Weight Decay 7.320500000000003e-05 Train Loss:3.717414699424113                 Valid Loss:8.032453641362455 Train RMSE:1.9159734514425644 Valid RMSE:2.810033906494433 \n",
      "Epoch:8 Learning rate 0.02 Weight Decay 5e-05 Train Loss:5.817304952445085                 Valid Loss:9.310817732088926 Train RMSE:2.3921429037892996 Valid RMSE:3.031500334551 \n",
      "Epoch:9 Learning rate 0.013753120438672642 Weight Decay 5.500000000000001e-05 Train Loss:8.537254360030404                 Valid Loss:8.766057874487972 Train RMSE:2.9090666464370987 Valid RMSE:2.940123576102907 \n",
      "Epoch:10 Learning rate 0.009457416090031758 Weight Decay 6.0500000000000014e-05 Train Loss:6.357292124916801                 Valid Loss:8.43482196599111 Train RMSE:2.50913350813699 Valid RMSE:2.8821954844700346 \n",
      "Epoch:11 Learning rate 0.0065034491262423635 Weight Decay 6.655000000000002e-05 Train Loss:5.285862095734491                 Valid Loss:8.137979839873992 Train RMSE:2.2872661860565597 Valid RMSE:2.8292307640749725 \n",
      "Epoch:12 Learning rate 0.004472135954999579 Weight Decay 7.320500000000003e-05 Train Loss:4.272636123999051                 Valid Loss:7.992066345472207 Train RMSE:2.0546967764168533 Valid RMSE:2.8028672326736626 \n",
      "Epoch:13 Learning rate 0.003075291220361375 Weight Decay 8.052550000000004e-05 Train Loss:3.5554048123999626                 Valid Loss:7.891462902615274 Train RMSE:1.8725541484084134 Valid RMSE:2.7843596773222568 \n",
      "Epoch:14 Learning rate 0.002114742526881128 Weight Decay 8.857805000000005e-05 Train Loss:3.0852548373506425                 Valid Loss:7.830586133153363 Train RMSE:1.7432813047977007 Valid RMSE:2.7729121499767313 \n"
     ]
    }
   ],
   "source": [
    "# wd as 5e-5\n",
    "learner.run_epochs(dltrain,dlvalid,15)"
   ]
  },
  {
   "cell_type": "code",
   "execution_count": 50,
   "metadata": {},
   "outputs": [],
   "source": [
    "for param_group in optimizer.param_groups:\n",
    "    param_group['lr']=7e-3\n",
    "learner.lr=7e-3"
   ]
  },
  {
   "cell_type": "code",
   "execution_count": 51,
   "metadata": {},
   "outputs": [
    {
     "name": "stdout",
     "output_type": "stream",
     "text": [
      "Epoch:0 Learning rate 0.007 Weight Decay 5e-05 Train Loss:3.068879244741168                 Valid Loss:3.481940516646298 Train RMSE:1.7418215212024581 Valid RMSE:1.8443131155577726 \n",
      "Epoch:1 Learning rate 0.007 Weight Decay 5e-05 Train Loss:3.0850145866749914                 Valid Loss:3.4869773209184363 Train RMSE:1.7460242495138674 Valid RMSE:1.845761864333132 \n"
     ]
    }
   ],
   "source": [
    "learner.run_epochs(dltrain,dlvalid,2)"
   ]
  },
  {
   "cell_type": "code",
   "execution_count": 52,
   "metadata": {},
   "outputs": [],
   "source": [
    "for param_group in optimizer.param_groups:\n",
    "    param_group['lr']=5e-3\n",
    "    param_group['weight_decay']=7e-5\n",
    "learner.lr=5e-3"
   ]
  },
  {
   "cell_type": "code",
   "execution_count": 53,
   "metadata": {},
   "outputs": [
    {
     "name": "stdout",
     "output_type": "stream",
     "text": [
      "Epoch:0 Learning rate 0.005 Weight Decay 5e-05 Train Loss:3.0416768556921063                 Valid Loss:3.5020653878016095 Train RMSE:1.7341096646605345 Valid RMSE:1.849569835486457 \n",
      "Epoch:1 Learning rate 0.005 Weight Decay 5e-05 Train Loss:3.0481365950329993                 Valid Loss:3.451416780208719 Train RMSE:1.737184469373254 Valid RMSE:1.835900084537366 \n"
     ]
    }
   ],
   "source": [
    "learner.run_epochs(dltrain,dlvalid,2)"
   ]
  },
  {
   "cell_type": "code",
   "execution_count": 61,
   "metadata": {},
   "outputs": [],
   "source": [
    "for param_group in optimizer.param_groups:\n",
    "    param_group['lr']=3e-3\n",
    "learner.lr=3e-3"
   ]
  },
  {
   "cell_type": "code",
   "execution_count": 62,
   "metadata": {},
   "outputs": [
    {
     "name": "stdout",
     "output_type": "stream",
     "text": [
      "Epoch:0 Learning rate 0.003 Weight Decay 5e-05 Train Loss:2.8234613820105645                 Valid Loss:3.447259168217386 Train RMSE:1.6714011328798677 Valid RMSE:1.8346134533386274 \n",
      "Epoch:1 Learning rate 0.003 Weight Decay 5e-05 Train Loss:2.8476605089713627                 Valid Loss:3.450668775338283 Train RMSE:1.6784053514382749 Valid RMSE:1.8354927232378953 \n"
     ]
    }
   ],
   "source": [
    "learner.run_epochs(dltrain,dlvalid,2)"
   ]
  },
  {
   "cell_type": "code",
   "execution_count": 63,
   "metadata": {},
   "outputs": [],
   "source": [
    "learner.generate_scores=True"
   ]
  },
  {
   "cell_type": "code",
   "execution_count": 64,
   "metadata": {},
   "outputs": [
    {
     "data": {
      "text/plain": [
       "(3.450668775338283, 1.4745785802200637, 1.8354927232378953)"
      ]
     },
     "execution_count": 64,
     "metadata": {},
     "output_type": "execute_result"
    }
   ],
   "source": [
    "learner.run_epoch(dlvalid,False)"
   ]
  },
  {
   "cell_type": "code",
   "execution_count": 67,
   "metadata": {},
   "outputs": [],
   "source": [
    "dfvalid['pred_cf']=np.concatenate(learner.scores)#[dfvalid.shape[0]:]"
   ]
  },
  {
   "cell_type": "code",
   "execution_count": 70,
   "metadata": {},
   "outputs": [],
   "source": [
    "learner.generate_scores=False"
   ]
  },
  {
   "cell_type": "code",
   "execution_count": 71,
   "metadata": {},
   "outputs": [
    {
     "data": {
      "text/plain": [
       "1.8573316159762396"
      ]
     },
     "execution_count": 71,
     "metadata": {},
     "output_type": "execute_result"
    }
   ],
   "source": [
    "np.sqrt(metrics.mean_squared_error(dfvalid['rating'],dfvalid['pred_cf']))"
   ]
  },
  {
   "cell_type": "code",
   "execution_count": 72,
   "metadata": {},
   "outputs": [],
   "source": [
    "def score_by_group (dfvalid,predVar,groupVar='cold_start_group',method='global_avg'):\n",
    "    scores=[]\n",
    "    mae_scores=[]\n",
    "    rmse_scores=[]\n",
    "    r2_scores=[]\n",
    "    groups=dfvalid[groupVar].value_counts().index.tolist()\n",
    "    for group in groups:\n",
    "        df=dfvalid.loc[dfvalid[groupVar]==group]\n",
    "        actual=df['rating']\n",
    "        score=metrics.mean_squared_error(df['rating'],df[predVar])\n",
    "        rmse_score=np.sqrt(metrics.mean_squared_error(df['rating'],df[predVar]))\n",
    "        mae_score=metrics.mean_absolute_error(df['rating'],df[predVar])\n",
    "        r2_score=metrics.r2_score(df['rating'],df[predVar])\n",
    "        scores.append(score)\n",
    "        mae_scores.append(mae_score)\n",
    "        rmse_scores.append(rmse_score)\n",
    "        r2_scores.append(r2_score)\n",
    "    return pd.DataFrame({'method':method, 'mse':scores, 'rmse':rmse_scores, 'mae':mae_scores, 'r2_score':r2_scores, 'Cold Start Group':groups})"
   ]
  },
  {
   "cell_type": "code",
   "execution_count": 73,
   "metadata": {},
   "outputs": [
    {
     "data": {
      "text/html": [
       "<div>\n",
       "<style scoped>\n",
       "    .dataframe tbody tr th:only-of-type {\n",
       "        vertical-align: middle;\n",
       "    }\n",
       "\n",
       "    .dataframe tbody tr th {\n",
       "        vertical-align: top;\n",
       "    }\n",
       "\n",
       "    .dataframe thead th {\n",
       "        text-align: right;\n",
       "    }\n",
       "</style>\n",
       "<table border=\"1\" class=\"dataframe\">\n",
       "  <thead>\n",
       "    <tr style=\"text-align: right;\">\n",
       "      <th></th>\n",
       "      <th>method</th>\n",
       "      <th>mse</th>\n",
       "      <th>rmse</th>\n",
       "      <th>mae</th>\n",
       "      <th>r2_score</th>\n",
       "      <th>Cold Start Group</th>\n",
       "    </tr>\n",
       "  </thead>\n",
       "  <tbody>\n",
       "    <tr>\n",
       "      <th>0</th>\n",
       "      <td>cf</td>\n",
       "      <td>2.881278</td>\n",
       "      <td>1.697433</td>\n",
       "      <td>1.343424</td>\n",
       "      <td>0.131645</td>\n",
       "      <td>No-cold-start</td>\n",
       "    </tr>\n",
       "    <tr>\n",
       "      <th>1</th>\n",
       "      <td>cf</td>\n",
       "      <td>3.002938</td>\n",
       "      <td>1.732899</td>\n",
       "      <td>1.363819</td>\n",
       "      <td>0.172806</td>\n",
       "      <td>Item-Cold_start</td>\n",
       "    </tr>\n",
       "    <tr>\n",
       "      <th>2</th>\n",
       "      <td>cf</td>\n",
       "      <td>5.229766</td>\n",
       "      <td>2.286868</td>\n",
       "      <td>1.923487</td>\n",
       "      <td>-0.528808</td>\n",
       "      <td>User-Cold-Start</td>\n",
       "    </tr>\n",
       "    <tr>\n",
       "      <th>3</th>\n",
       "      <td>cf</td>\n",
       "      <td>7.373656</td>\n",
       "      <td>2.715448</td>\n",
       "      <td>2.319444</td>\n",
       "      <td>-0.877088</td>\n",
       "      <td>User-Item-cold-start</td>\n",
       "    </tr>\n",
       "    <tr>\n",
       "      <th>0</th>\n",
       "      <td>cf</td>\n",
       "      <td>2.881278</td>\n",
       "      <td>1.697433</td>\n",
       "      <td>1.343424</td>\n",
       "      <td>0.131645</td>\n",
       "      <td>0</td>\n",
       "    </tr>\n",
       "    <tr>\n",
       "      <th>1</th>\n",
       "      <td>cf</td>\n",
       "      <td>4.181389</td>\n",
       "      <td>2.044845</td>\n",
       "      <td>1.642907</td>\n",
       "      <td>-0.158527</td>\n",
       "      <td>1</td>\n",
       "    </tr>\n",
       "    <tr>\n",
       "      <th>0</th>\n",
       "      <td>cf</td>\n",
       "      <td>3.449681</td>\n",
       "      <td>1.857332</td>\n",
       "      <td>1.474356</td>\n",
       "      <td>0.001316</td>\n",
       "      <td>0</td>\n",
       "    </tr>\n",
       "  </tbody>\n",
       "</table>\n",
       "</div>"
      ],
      "text/plain": [
       "  method       mse      rmse       mae  r2_score      Cold Start Group\n",
       "0     cf  2.881278  1.697433  1.343424  0.131645         No-cold-start\n",
       "1     cf  3.002938  1.732899  1.363819  0.172806       Item-Cold_start\n",
       "2     cf  5.229766  2.286868  1.923487 -0.528808       User-Cold-Start\n",
       "3     cf  7.373656  2.715448  2.319444 -0.877088  User-Item-cold-start\n",
       "0     cf  2.881278  1.697433  1.343424  0.131645                     0\n",
       "1     cf  4.181389  2.044845  1.642907 -0.158527                     1\n",
       "0     cf  3.449681  1.857332  1.474356  0.001316                     0"
      ]
     },
     "execution_count": 73,
     "metadata": {},
     "output_type": "execute_result"
    }
   ],
   "source": [
    "result_cf=pd.concat([score_by_group(dfvalid,'pred_cf','cold_start_group','cf'),score_by_group(dfvalid,'pred_cf','cold_start_bucket','cf'),\\\n",
    "score_by_group(dfvalid,'pred_cf','flag_train','cf')],axis=0)\n",
    "result_cf"
   ]
  },
  {
   "cell_type": "code",
   "execution_count": 74,
   "metadata": {},
   "outputs": [
    {
     "data": {
      "text/html": [
       "<div>\n",
       "<style scoped>\n",
       "    .dataframe tbody tr th:only-of-type {\n",
       "        vertical-align: middle;\n",
       "    }\n",
       "\n",
       "    .dataframe tbody tr th {\n",
       "        vertical-align: top;\n",
       "    }\n",
       "\n",
       "    .dataframe thead th {\n",
       "        text-align: right;\n",
       "    }\n",
       "</style>\n",
       "<table border=\"1\" class=\"dataframe\">\n",
       "  <thead>\n",
       "    <tr style=\"text-align: right;\">\n",
       "      <th></th>\n",
       "      <th>method</th>\n",
       "      <th>mse</th>\n",
       "      <th>rmse</th>\n",
       "      <th>mae</th>\n",
       "      <th>r2_score</th>\n",
       "      <th>Cold Start Group</th>\n",
       "    </tr>\n",
       "  </thead>\n",
       "  <tbody>\n",
       "    <tr>\n",
       "      <th>0</th>\n",
       "      <td>biasedmatrixfactorization</td>\n",
       "      <td>3.285500</td>\n",
       "      <td>1.812595</td>\n",
       "      <td>1.372624</td>\n",
       "      <td>0.009822</td>\n",
       "      <td>No-cold-start</td>\n",
       "    </tr>\n",
       "    <tr>\n",
       "      <th>1</th>\n",
       "      <td>biasedmatrixfactorization</td>\n",
       "      <td>2.638329</td>\n",
       "      <td>1.624293</td>\n",
       "      <td>1.218794</td>\n",
       "      <td>0.273242</td>\n",
       "      <td>Item-Cold_start</td>\n",
       "    </tr>\n",
       "    <tr>\n",
       "      <th>2</th>\n",
       "      <td>biasedmatrixfactorization</td>\n",
       "      <td>3.361617</td>\n",
       "      <td>1.833471</td>\n",
       "      <td>1.429907</td>\n",
       "      <td>0.017305</td>\n",
       "      <td>User-Cold-Start</td>\n",
       "    </tr>\n",
       "    <tr>\n",
       "      <th>3</th>\n",
       "      <td>biasedmatrixfactorization</td>\n",
       "      <td>3.988708</td>\n",
       "      <td>1.997175</td>\n",
       "      <td>1.612015</td>\n",
       "      <td>-0.015393</td>\n",
       "      <td>User-Item-cold-start</td>\n",
       "    </tr>\n",
       "    <tr>\n",
       "      <th>0</th>\n",
       "      <td>biasedmatrixfactorization</td>\n",
       "      <td>3.285500</td>\n",
       "      <td>1.812595</td>\n",
       "      <td>1.372624</td>\n",
       "      <td>0.009822</td>\n",
       "      <td>0</td>\n",
       "    </tr>\n",
       "    <tr>\n",
       "      <th>1</th>\n",
       "      <td>biasedmatrixfactorization</td>\n",
       "      <td>3.012811</td>\n",
       "      <td>1.735745</td>\n",
       "      <td>1.327987</td>\n",
       "      <td>0.165248</td>\n",
       "      <td>1</td>\n",
       "    </tr>\n",
       "    <tr>\n",
       "      <th>0</th>\n",
       "      <td>biasedmatrixfactorization</td>\n",
       "      <td>3.166282</td>\n",
       "      <td>1.779405</td>\n",
       "      <td>1.353109</td>\n",
       "      <td>0.083361</td>\n",
       "      <td>0</td>\n",
       "    </tr>\n",
       "    <tr>\n",
       "      <th>0</th>\n",
       "      <td>svdplusplus</td>\n",
       "      <td>2.738175</td>\n",
       "      <td>1.654743</td>\n",
       "      <td>1.290668</td>\n",
       "      <td>0.174774</td>\n",
       "      <td>No-cold-start</td>\n",
       "    </tr>\n",
       "    <tr>\n",
       "      <th>1</th>\n",
       "      <td>svdplusplus</td>\n",
       "      <td>2.830975</td>\n",
       "      <td>1.682550</td>\n",
       "      <td>1.303101</td>\n",
       "      <td>0.220176</td>\n",
       "      <td>Item-Cold_start</td>\n",
       "    </tr>\n",
       "    <tr>\n",
       "      <th>2</th>\n",
       "      <td>svdplusplus</td>\n",
       "      <td>3.284872</td>\n",
       "      <td>1.812422</td>\n",
       "      <td>1.440296</td>\n",
       "      <td>0.039739</td>\n",
       "      <td>User-Cold-Start</td>\n",
       "    </tr>\n",
       "    <tr>\n",
       "      <th>3</th>\n",
       "      <td>svdplusplus</td>\n",
       "      <td>3.988708</td>\n",
       "      <td>1.997175</td>\n",
       "      <td>1.612015</td>\n",
       "      <td>-0.015393</td>\n",
       "      <td>User-Item-cold-start</td>\n",
       "    </tr>\n",
       "    <tr>\n",
       "      <th>0</th>\n",
       "      <td>svdplusplus</td>\n",
       "      <td>2.738175</td>\n",
       "      <td>1.654743</td>\n",
       "      <td>1.290668</td>\n",
       "      <td>0.174774</td>\n",
       "      <td>0</td>\n",
       "    </tr>\n",
       "    <tr>\n",
       "      <th>1</th>\n",
       "      <td>svdplusplus</td>\n",
       "      <td>3.103105</td>\n",
       "      <td>1.761563</td>\n",
       "      <td>1.380447</td>\n",
       "      <td>0.140231</td>\n",
       "      <td>1</td>\n",
       "    </tr>\n",
       "    <tr>\n",
       "      <th>0</th>\n",
       "      <td>svdplusplus</td>\n",
       "      <td>2.897721</td>\n",
       "      <td>1.702269</td>\n",
       "      <td>1.329919</td>\n",
       "      <td>0.161109</td>\n",
       "      <td>0</td>\n",
       "    </tr>\n",
       "    <tr>\n",
       "      <th>0</th>\n",
       "      <td>svd</td>\n",
       "      <td>3.819795</td>\n",
       "      <td>1.954430</td>\n",
       "      <td>1.530069</td>\n",
       "      <td>-0.151203</td>\n",
       "      <td>No-cold-start</td>\n",
       "    </tr>\n",
       "    <tr>\n",
       "      <th>1</th>\n",
       "      <td>svd</td>\n",
       "      <td>3.649579</td>\n",
       "      <td>1.910387</td>\n",
       "      <td>1.565508</td>\n",
       "      <td>-0.005318</td>\n",
       "      <td>Item-Cold_start</td>\n",
       "    </tr>\n",
       "    <tr>\n",
       "      <th>2</th>\n",
       "      <td>svd</td>\n",
       "      <td>3.421264</td>\n",
       "      <td>1.849666</td>\n",
       "      <td>1.482640</td>\n",
       "      <td>-0.000132</td>\n",
       "      <td>User-Cold-Start</td>\n",
       "    </tr>\n",
       "    <tr>\n",
       "      <th>3</th>\n",
       "      <td>svd</td>\n",
       "      <td>3.988708</td>\n",
       "      <td>1.997175</td>\n",
       "      <td>1.612015</td>\n",
       "      <td>-0.015393</td>\n",
       "      <td>User-Item-cold-start</td>\n",
       "    </tr>\n",
       "    <tr>\n",
       "      <th>0</th>\n",
       "      <td>svd</td>\n",
       "      <td>3.819795</td>\n",
       "      <td>1.954430</td>\n",
       "      <td>1.530069</td>\n",
       "      <td>-0.151203</td>\n",
       "      <td>0</td>\n",
       "    </tr>\n",
       "    <tr>\n",
       "      <th>1</th>\n",
       "      <td>svd</td>\n",
       "      <td>3.622941</td>\n",
       "      <td>1.903402</td>\n",
       "      <td>1.546677</td>\n",
       "      <td>-0.003799</td>\n",
       "      <td>1</td>\n",
       "    </tr>\n",
       "    <tr>\n",
       "      <th>0</th>\n",
       "      <td>svd</td>\n",
       "      <td>3.733731</td>\n",
       "      <td>1.932287</td>\n",
       "      <td>1.537330</td>\n",
       "      <td>-0.080916</td>\n",
       "      <td>0</td>\n",
       "    </tr>\n",
       "    <tr>\n",
       "      <th>0</th>\n",
       "      <td>userknncosine</td>\n",
       "      <td>3.170972</td>\n",
       "      <td>1.780722</td>\n",
       "      <td>1.363100</td>\n",
       "      <td>0.044338</td>\n",
       "      <td>No-cold-start</td>\n",
       "    </tr>\n",
       "    <tr>\n",
       "      <th>1</th>\n",
       "      <td>userknncosine</td>\n",
       "      <td>2.724954</td>\n",
       "      <td>1.650744</td>\n",
       "      <td>1.274785</td>\n",
       "      <td>0.249380</td>\n",
       "      <td>Item-Cold_start</td>\n",
       "    </tr>\n",
       "    <tr>\n",
       "      <th>2</th>\n",
       "      <td>userknncosine</td>\n",
       "      <td>3.231956</td>\n",
       "      <td>1.797764</td>\n",
       "      <td>1.417912</td>\n",
       "      <td>0.055208</td>\n",
       "      <td>User-Cold-Start</td>\n",
       "    </tr>\n",
       "    <tr>\n",
       "      <th>3</th>\n",
       "      <td>userknncosine</td>\n",
       "      <td>3.988708</td>\n",
       "      <td>1.997175</td>\n",
       "      <td>1.612015</td>\n",
       "      <td>-0.015393</td>\n",
       "      <td>User-Item-cold-start</td>\n",
       "    </tr>\n",
       "    <tr>\n",
       "      <th>0</th>\n",
       "      <td>userknncosine</td>\n",
       "      <td>3.170972</td>\n",
       "      <td>1.780722</td>\n",
       "      <td>1.363100</td>\n",
       "      <td>0.044338</td>\n",
       "      <td>0</td>\n",
       "    </tr>\n",
       "    <tr>\n",
       "      <th>1</th>\n",
       "      <td>userknncosine</td>\n",
       "      <td>3.025402</td>\n",
       "      <td>1.739368</td>\n",
       "      <td>1.357265</td>\n",
       "      <td>0.161760</td>\n",
       "      <td>1</td>\n",
       "    </tr>\n",
       "    <tr>\n",
       "      <th>0</th>\n",
       "      <td>userknncosine</td>\n",
       "      <td>3.107330</td>\n",
       "      <td>1.762762</td>\n",
       "      <td>1.360549</td>\n",
       "      <td>0.100427</td>\n",
       "      <td>0</td>\n",
       "    </tr>\n",
       "    <tr>\n",
       "      <th>0</th>\n",
       "      <td>itemavg</td>\n",
       "      <td>3.846133</td>\n",
       "      <td>1.961156</td>\n",
       "      <td>1.521362</td>\n",
       "      <td>-0.159141</td>\n",
       "      <td>No-cold-start</td>\n",
       "    </tr>\n",
       "    <tr>\n",
       "      <th>1</th>\n",
       "      <td>itemavg</td>\n",
       "      <td>3.649579</td>\n",
       "      <td>1.910387</td>\n",
       "      <td>1.565508</td>\n",
       "      <td>-0.005318</td>\n",
       "      <td>Item-Cold_start</td>\n",
       "    </tr>\n",
       "    <tr>\n",
       "      <th>2</th>\n",
       "      <td>itemavg</td>\n",
       "      <td>3.916179</td>\n",
       "      <td>1.978934</td>\n",
       "      <td>1.517203</td>\n",
       "      <td>-0.144809</td>\n",
       "      <td>User-Cold-Start</td>\n",
       "    </tr>\n",
       "    <tr>\n",
       "      <th>3</th>\n",
       "      <td>itemavg</td>\n",
       "      <td>3.988708</td>\n",
       "      <td>1.997175</td>\n",
       "      <td>1.612015</td>\n",
       "      <td>-0.015393</td>\n",
       "      <td>User-Item-cold-start</td>\n",
       "    </tr>\n",
       "    <tr>\n",
       "      <th>0</th>\n",
       "      <td>itemavg</td>\n",
       "      <td>3.846133</td>\n",
       "      <td>1.961156</td>\n",
       "      <td>1.521362</td>\n",
       "      <td>-0.159141</td>\n",
       "      <td>0</td>\n",
       "    </tr>\n",
       "    <tr>\n",
       "      <th>1</th>\n",
       "      <td>itemavg</td>\n",
       "      <td>3.768635</td>\n",
       "      <td>1.941297</td>\n",
       "      <td>1.556852</td>\n",
       "      <td>-0.044166</td>\n",
       "      <td>1</td>\n",
       "    </tr>\n",
       "    <tr>\n",
       "      <th>0</th>\n",
       "      <td>itemavg</td>\n",
       "      <td>3.812251</td>\n",
       "      <td>1.952499</td>\n",
       "      <td>1.536878</td>\n",
       "      <td>-0.103648</td>\n",
       "      <td>0</td>\n",
       "    </tr>\n",
       "    <tr>\n",
       "      <th>0</th>\n",
       "      <td>useravg</td>\n",
       "      <td>2.832725</td>\n",
       "      <td>1.683070</td>\n",
       "      <td>1.278786</td>\n",
       "      <td>0.146278</td>\n",
       "      <td>No-cold-start</td>\n",
       "    </tr>\n",
       "    <tr>\n",
       "      <th>1</th>\n",
       "      <td>useravg</td>\n",
       "      <td>2.713754</td>\n",
       "      <td>1.647348</td>\n",
       "      <td>1.226404</td>\n",
       "      <td>0.252465</td>\n",
       "      <td>Item-Cold_start</td>\n",
       "    </tr>\n",
       "    <tr>\n",
       "      <th>2</th>\n",
       "      <td>useravg</td>\n",
       "      <td>3.421264</td>\n",
       "      <td>1.849666</td>\n",
       "      <td>1.482640</td>\n",
       "      <td>-0.000132</td>\n",
       "      <td>User-Cold-Start</td>\n",
       "    </tr>\n",
       "    <tr>\n",
       "      <th>3</th>\n",
       "      <td>useravg</td>\n",
       "      <td>3.988708</td>\n",
       "      <td>1.997175</td>\n",
       "      <td>1.612015</td>\n",
       "      <td>-0.015393</td>\n",
       "      <td>User-Item-cold-start</td>\n",
       "    </tr>\n",
       "    <tr>\n",
       "      <th>0</th>\n",
       "      <td>useravg</td>\n",
       "      <td>2.832725</td>\n",
       "      <td>1.683070</td>\n",
       "      <td>1.278786</td>\n",
       "      <td>0.146278</td>\n",
       "      <td>0</td>\n",
       "    </tr>\n",
       "    <tr>\n",
       "      <th>1</th>\n",
       "      <td>useravg</td>\n",
       "      <td>3.074568</td>\n",
       "      <td>1.753445</td>\n",
       "      <td>1.347970</td>\n",
       "      <td>0.148137</td>\n",
       "      <td>1</td>\n",
       "    </tr>\n",
       "    <tr>\n",
       "      <th>0</th>\n",
       "      <td>useravg</td>\n",
       "      <td>2.938458</td>\n",
       "      <td>1.714193</td>\n",
       "      <td>1.309033</td>\n",
       "      <td>0.149316</td>\n",
       "      <td>0</td>\n",
       "    </tr>\n",
       "    <tr>\n",
       "      <th>0</th>\n",
       "      <td>global_avg</td>\n",
       "      <td>3.323359</td>\n",
       "      <td>1.823008</td>\n",
       "      <td>1.478961</td>\n",
       "      <td>-0.001588</td>\n",
       "      <td>No-cold-start</td>\n",
       "    </tr>\n",
       "    <tr>\n",
       "      <th>1</th>\n",
       "      <td>global_avg</td>\n",
       "      <td>3.649579</td>\n",
       "      <td>1.910387</td>\n",
       "      <td>1.565508</td>\n",
       "      <td>-0.005318</td>\n",
       "      <td>Item-Cold_start</td>\n",
       "    </tr>\n",
       "    <tr>\n",
       "      <th>2</th>\n",
       "      <td>global_avg</td>\n",
       "      <td>3.421264</td>\n",
       "      <td>1.849666</td>\n",
       "      <td>1.482640</td>\n",
       "      <td>-0.000132</td>\n",
       "      <td>User-Cold-Start</td>\n",
       "    </tr>\n",
       "    <tr>\n",
       "      <th>3</th>\n",
       "      <td>global_avg</td>\n",
       "      <td>3.988708</td>\n",
       "      <td>1.997175</td>\n",
       "      <td>1.612015</td>\n",
       "      <td>-0.015393</td>\n",
       "      <td>User-Item-cold-start</td>\n",
       "    </tr>\n",
       "    <tr>\n",
       "      <th>0</th>\n",
       "      <td>global_avg</td>\n",
       "      <td>3.323359</td>\n",
       "      <td>1.823008</td>\n",
       "      <td>1.478961</td>\n",
       "      <td>-0.001588</td>\n",
       "      <td>0</td>\n",
       "    </tr>\n",
       "    <tr>\n",
       "      <th>1</th>\n",
       "      <td>global_avg</td>\n",
       "      <td>3.622941</td>\n",
       "      <td>1.903402</td>\n",
       "      <td>1.546677</td>\n",
       "      <td>-0.003799</td>\n",
       "      <td>1</td>\n",
       "    </tr>\n",
       "    <tr>\n",
       "      <th>0</th>\n",
       "      <td>global_avg</td>\n",
       "      <td>3.454335</td>\n",
       "      <td>1.858584</td>\n",
       "      <td>1.508566</td>\n",
       "      <td>-0.000031</td>\n",
       "      <td>0</td>\n",
       "    </tr>\n",
       "  </tbody>\n",
       "</table>\n",
       "</div>"
      ],
      "text/plain": [
       "                      method       mse      rmse       mae  r2_score  \\\n",
       "0  biasedmatrixfactorization  3.285500  1.812595  1.372624  0.009822   \n",
       "1  biasedmatrixfactorization  2.638329  1.624293  1.218794  0.273242   \n",
       "2  biasedmatrixfactorization  3.361617  1.833471  1.429907  0.017305   \n",
       "3  biasedmatrixfactorization  3.988708  1.997175  1.612015 -0.015393   \n",
       "0  biasedmatrixfactorization  3.285500  1.812595  1.372624  0.009822   \n",
       "1  biasedmatrixfactorization  3.012811  1.735745  1.327987  0.165248   \n",
       "0  biasedmatrixfactorization  3.166282  1.779405  1.353109  0.083361   \n",
       "0                svdplusplus  2.738175  1.654743  1.290668  0.174774   \n",
       "1                svdplusplus  2.830975  1.682550  1.303101  0.220176   \n",
       "2                svdplusplus  3.284872  1.812422  1.440296  0.039739   \n",
       "3                svdplusplus  3.988708  1.997175  1.612015 -0.015393   \n",
       "0                svdplusplus  2.738175  1.654743  1.290668  0.174774   \n",
       "1                svdplusplus  3.103105  1.761563  1.380447  0.140231   \n",
       "0                svdplusplus  2.897721  1.702269  1.329919  0.161109   \n",
       "0                        svd  3.819795  1.954430  1.530069 -0.151203   \n",
       "1                        svd  3.649579  1.910387  1.565508 -0.005318   \n",
       "2                        svd  3.421264  1.849666  1.482640 -0.000132   \n",
       "3                        svd  3.988708  1.997175  1.612015 -0.015393   \n",
       "0                        svd  3.819795  1.954430  1.530069 -0.151203   \n",
       "1                        svd  3.622941  1.903402  1.546677 -0.003799   \n",
       "0                        svd  3.733731  1.932287  1.537330 -0.080916   \n",
       "0              userknncosine  3.170972  1.780722  1.363100  0.044338   \n",
       "1              userknncosine  2.724954  1.650744  1.274785  0.249380   \n",
       "2              userknncosine  3.231956  1.797764  1.417912  0.055208   \n",
       "3              userknncosine  3.988708  1.997175  1.612015 -0.015393   \n",
       "0              userknncosine  3.170972  1.780722  1.363100  0.044338   \n",
       "1              userknncosine  3.025402  1.739368  1.357265  0.161760   \n",
       "0              userknncosine  3.107330  1.762762  1.360549  0.100427   \n",
       "0                    itemavg  3.846133  1.961156  1.521362 -0.159141   \n",
       "1                    itemavg  3.649579  1.910387  1.565508 -0.005318   \n",
       "2                    itemavg  3.916179  1.978934  1.517203 -0.144809   \n",
       "3                    itemavg  3.988708  1.997175  1.612015 -0.015393   \n",
       "0                    itemavg  3.846133  1.961156  1.521362 -0.159141   \n",
       "1                    itemavg  3.768635  1.941297  1.556852 -0.044166   \n",
       "0                    itemavg  3.812251  1.952499  1.536878 -0.103648   \n",
       "0                    useravg  2.832725  1.683070  1.278786  0.146278   \n",
       "1                    useravg  2.713754  1.647348  1.226404  0.252465   \n",
       "2                    useravg  3.421264  1.849666  1.482640 -0.000132   \n",
       "3                    useravg  3.988708  1.997175  1.612015 -0.015393   \n",
       "0                    useravg  2.832725  1.683070  1.278786  0.146278   \n",
       "1                    useravg  3.074568  1.753445  1.347970  0.148137   \n",
       "0                    useravg  2.938458  1.714193  1.309033  0.149316   \n",
       "0                 global_avg  3.323359  1.823008  1.478961 -0.001588   \n",
       "1                 global_avg  3.649579  1.910387  1.565508 -0.005318   \n",
       "2                 global_avg  3.421264  1.849666  1.482640 -0.000132   \n",
       "3                 global_avg  3.988708  1.997175  1.612015 -0.015393   \n",
       "0                 global_avg  3.323359  1.823008  1.478961 -0.001588   \n",
       "1                 global_avg  3.622941  1.903402  1.546677 -0.003799   \n",
       "0                 global_avg  3.454335  1.858584  1.508566 -0.000031   \n",
       "\n",
       "       Cold Start Group  \n",
       "0         No-cold-start  \n",
       "1       Item-Cold_start  \n",
       "2       User-Cold-Start  \n",
       "3  User-Item-cold-start  \n",
       "0                     0  \n",
       "1                     1  \n",
       "0                     0  \n",
       "0         No-cold-start  \n",
       "1       Item-Cold_start  \n",
       "2       User-Cold-Start  \n",
       "3  User-Item-cold-start  \n",
       "0                     0  \n",
       "1                     1  \n",
       "0                     0  \n",
       "0         No-cold-start  \n",
       "1       Item-Cold_start  \n",
       "2       User-Cold-Start  \n",
       "3  User-Item-cold-start  \n",
       "0                     0  \n",
       "1                     1  \n",
       "0                     0  \n",
       "0         No-cold-start  \n",
       "1       Item-Cold_start  \n",
       "2       User-Cold-Start  \n",
       "3  User-Item-cold-start  \n",
       "0                     0  \n",
       "1                     1  \n",
       "0                     0  \n",
       "0         No-cold-start  \n",
       "1       Item-Cold_start  \n",
       "2       User-Cold-Start  \n",
       "3  User-Item-cold-start  \n",
       "0                     0  \n",
       "1                     1  \n",
       "0                     0  \n",
       "0         No-cold-start  \n",
       "1       Item-Cold_start  \n",
       "2       User-Cold-Start  \n",
       "3  User-Item-cold-start  \n",
       "0                     0  \n",
       "1                     1  \n",
       "0                     0  \n",
       "0         No-cold-start  \n",
       "1       Item-Cold_start  \n",
       "2       User-Cold-Start  \n",
       "3  User-Item-cold-start  \n",
       "0                     0  \n",
       "1                     1  \n",
       "0                     0  "
      ]
     },
     "execution_count": 74,
     "metadata": {},
     "output_type": "execute_result"
    }
   ],
   "source": [
    "results_concat"
   ]
  },
  {
   "cell_type": "code",
   "execution_count": 75,
   "metadata": {},
   "outputs": [],
   "source": [
    "mtx_user_emb=cfobj.emb_user.weight.data.cpu().numpy()\n",
    "mtx_item_emb=cfobj.emb_item.weight.data.cpu().numpy()"
   ]
  },
  {
   "cell_type": "code",
   "execution_count": 76,
   "metadata": {},
   "outputs": [],
   "source": [
    "user_bias_emb=cfobj.ub.weight.data.cpu().numpy()\n",
    "item_bias_emb=cfobj.ib.weight.data.cpu().numpy()"
   ]
  },
  {
   "cell_type": "code",
   "execution_count": 77,
   "metadata": {},
   "outputs": [
    {
     "data": {
      "text/plain": [
       "((77806, 25), (185974, 25), (77806, 1), (185974, 1))"
      ]
     },
     "execution_count": 77,
     "metadata": {},
     "output_type": "execute_result"
    }
   ],
   "source": [
    "mtx_user_emb.shape, mtx_item_emb.shape, user_bias_emb.shape, item_bias_emb.shape"
   ]
  },
  {
   "cell_type": "code",
   "execution_count": 78,
   "metadata": {},
   "outputs": [],
   "source": [
    "pickle.dump([mtx_user_emb,mtx_item_emb,user_bias_emb,item_bias_emb],open(f'{DATAPATH}/wts_embs','wb'))"
   ]
  },
  {
   "cell_type": "code",
   "execution_count": 79,
   "metadata": {},
   "outputs": [
    {
     "data": {
      "text/plain": [
       "(49, 6)"
      ]
     },
     "execution_count": 79,
     "metadata": {},
     "output_type": "execute_result"
    }
   ],
   "source": [
    "results_concat.shape"
   ]
  },
  {
   "cell_type": "code",
   "execution_count": 80,
   "metadata": {},
   "outputs": [],
   "source": [
    "results_concat=pd.concat([results_concat,result_cf],axis=0)"
   ]
  },
  {
   "cell_type": "code",
   "execution_count": 81,
   "metadata": {},
   "outputs": [],
   "source": [
    "pickle.dump([df,dftrain,dfvalid,idx_to_user,idx_to_item,item_to_idx,user_to_idx,results_concat],open(f'{DATAPATH}/df_side_cold_runother_cf.pkl','wb'))"
   ]
  },
  {
   "cell_type": "code",
   "execution_count": null,
   "metadata": {},
   "outputs": [],
   "source": []
  }
 ],
 "metadata": {
  "kernelspec": {
   "display_name": "Python 3",
   "language": "python",
   "name": "python3"
  },
  "language_info": {
   "codemirror_mode": {
    "name": "ipython",
    "version": 3
   },
   "file_extension": ".py",
   "mimetype": "text/x-python",
   "name": "python",
   "nbconvert_exporter": "python",
   "pygments_lexer": "ipython3",
   "version": "3.7.3"
  }
 },
 "nbformat": 4,
 "nbformat_minor": 2
}
