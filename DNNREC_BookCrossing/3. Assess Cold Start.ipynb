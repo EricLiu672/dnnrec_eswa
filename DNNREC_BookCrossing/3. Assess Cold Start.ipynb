{
 "cells": [
  {
   "cell_type": "code",
   "execution_count": 1,
   "metadata": {},
   "outputs": [],
   "source": [
    "import pickle"
   ]
  },
  {
   "cell_type": "code",
   "execution_count": 2,
   "metadata": {},
   "outputs": [],
   "source": [
    "PATH='/home/kirana/Documents/phd/experiment1_new/DNNREC_BookCrossing'\n",
    "DATAPATH='/home/kirana/Documents/final_dissertation_final/experiments/datasets/bookcrossing'"
   ]
  },
  {
   "cell_type": "code",
   "execution_count": 3,
   "metadata": {},
   "outputs": [],
   "source": [
    "import pandas as pd\n",
    "import numpy as np\n",
    "import matplotlib.pyplot as plt\n",
    "import sklearn\n",
    "import os\n",
    "import pickle\n",
    "import torch\n",
    "from torch.utils.data import Dataset, DataLoader\n",
    "from torch import nn\n",
    "import pickle\n",
    "from sklearn import metrics"
   ]
  },
  {
   "cell_type": "code",
   "execution_count": 4,
   "metadata": {},
   "outputs": [],
   "source": [
    "[dftrain,dfvalid]=pickle.load(open(f'{DATAPATH}/df_side.pkl','rb'))"
   ]
  },
  {
   "cell_type": "code",
   "execution_count": 5,
   "metadata": {},
   "outputs": [],
   "source": [
    "trainusers=set(dftrain['userId'].unique())\n",
    "validusers=set(dfvalid['userId'].unique())\n",
    "trainitems=set(dftrain['itemId'].unique())\n",
    "validitems=set(dfvalid['itemId'].unique())"
   ]
  },
  {
   "cell_type": "code",
   "execution_count": 6,
   "metadata": {},
   "outputs": [],
   "source": [
    "commonusers=trainusers.intersection(validusers)\n",
    "commonitems=trainitems.intersection(validitems)"
   ]
  },
  {
   "cell_type": "code",
   "execution_count": 7,
   "metadata": {},
   "outputs": [],
   "source": [
    "dfvalid['cold_start_user']=~dfvalid['userId'].isin(commonusers)\n",
    "dfvalid['cold_start_item']=~dfvalid['itemId'].isin(commonitems)"
   ]
  },
  {
   "cell_type": "code",
   "execution_count": 8,
   "metadata": {},
   "outputs": [
    {
     "name": "stdout",
     "output_type": "stream",
     "text": [
      "cold_start_item  False  True \n",
      "cold_start_user              \n",
      "False            24016  10932\n",
      "True              5492   2232\n",
      "cold_start_item     False     True \n",
      "cold_start_user                    \n",
      "False            0.562805  0.256187\n",
      "True             0.128703  0.052306\n"
     ]
    }
   ],
   "source": [
    "print (pd.crosstab(dfvalid['cold_start_user'],dfvalid['cold_start_item']))\n",
    "print (pd.crosstab(dfvalid['cold_start_user'],dfvalid['cold_start_item'])/dfvalid.shape[0])   "
   ]
  },
  {
   "cell_type": "code",
   "execution_count": 9,
   "metadata": {},
   "outputs": [
    {
     "data": {
      "text/plain": [
       "11676     7705\n",
       "98391     5223\n",
       "153662    1969\n",
       "189835    1711\n",
       "23902     1256\n",
       "235105     935\n",
       "171118     925\n",
       "76499      916\n",
       "248718     875\n",
       "16795      872\n",
       "56399      825\n",
       "35859      750\n",
       "63714      740\n",
       "197659     721\n",
       "185233     649\n",
       "95359      564\n",
       "114368     548\n",
       "101851     541\n",
       "158295     512\n",
       "177458     512\n",
       "76626      509\n",
       "23872      508\n",
       "135149     493\n",
       "78973      486\n",
       "257204     476\n",
       "69078      471\n",
       "93047      469\n",
       "3757       464\n",
       "204864     464\n",
       "182085     457\n",
       "          ... \n",
       "45954        1\n",
       "275218       1\n",
       "203511       1\n",
       "52365        1\n",
       "27801        1\n",
       "191945       1\n",
       "267542       1\n",
       "169414       1\n",
       "73143        1\n",
       "118189       1\n",
       "116140       1\n",
       "128426       1\n",
       "26008        1\n",
       "5526         1\n",
       "38278        1\n",
       "46466        1\n",
       "42368        1\n",
       "224505       1\n",
       "113827       1\n",
       "206064       1\n",
       "253167       1\n",
       "247020       1\n",
       "152798       1\n",
       "150749       1\n",
       "165060       1\n",
       "81075        1\n",
       "128170       1\n",
       "124072       1\n",
       "101541       1\n",
       "12294        1\n",
       "Name: userId, Length: 72887, dtype: int64"
      ]
     },
     "execution_count": 9,
     "metadata": {},
     "output_type": "execute_result"
    }
   ],
   "source": [
    "dftrain['userId'].value_counts()"
   ]
  },
  {
   "cell_type": "code",
   "execution_count": 10,
   "metadata": {},
   "outputs": [],
   "source": [
    "dfvalid['cold_start_group']=np.where(dfvalid['cold_start_user'] & dfvalid['cold_start_item'],'User-Item-cold-start',\n",
    "                                    np.where((~dfvalid['cold_start_user']) & (~dfvalid['cold_start_item']), 'No-cold-start',\\\n",
    "                                            np.where(dfvalid['cold_start_user'], 'User-Cold-Start', 'Item-Cold_start')))    \n"
   ]
  },
  {
   "cell_type": "code",
   "execution_count": 11,
   "metadata": {},
   "outputs": [],
   "source": [
    "dfvalid['cold_start_bucket']=np.where(dfvalid['cold_start_group']=='No-cold-start',0,1)"
   ]
  },
  {
   "cell_type": "code",
   "execution_count": 12,
   "metadata": {},
   "outputs": [
    {
     "data": {
      "text/plain": [
       "No-cold-start           24016\n",
       "Item-Cold_start         10932\n",
       "User-Cold-Start          5492\n",
       "User-Item-cold-start     2232\n",
       "Name: cold_start_group, dtype: int64"
      ]
     },
     "execution_count": 12,
     "metadata": {},
     "output_type": "execute_result"
    }
   ],
   "source": [
    "dfvalid['cold_start_group'].value_counts()"
   ]
  },
  {
   "cell_type": "code",
   "execution_count": 13,
   "metadata": {},
   "outputs": [
    {
     "data": {
      "text/plain": [
       "0    24016\n",
       "1    18656\n",
       "Name: cold_start_bucket, dtype: int64"
      ]
     },
     "execution_count": 13,
     "metadata": {},
     "output_type": "execute_result"
    }
   ],
   "source": [
    "dfvalid['cold_start_bucket'].value_counts()"
   ]
  },
  {
   "cell_type": "code",
   "execution_count": 14,
   "metadata": {},
   "outputs": [],
   "source": [
    "pickle.dump([dftrain,dfvalid],open(f'{DATAPATH}/df_side_cold.pkl','wb'))"
   ]
  },
  {
   "cell_type": "code",
   "execution_count": 15,
   "metadata": {},
   "outputs": [
    {
     "data": {
      "text/plain": [
       "((390999, 13), (42672, 17))"
      ]
     },
     "execution_count": 15,
     "metadata": {},
     "output_type": "execute_result"
    }
   ],
   "source": [
    "dftrain.shape,dfvalid.shape"
   ]
  },
  {
   "cell_type": "code",
   "execution_count": null,
   "metadata": {},
   "outputs": [],
   "source": []
  },
  {
   "cell_type": "code",
   "execution_count": null,
   "metadata": {},
   "outputs": [],
   "source": []
  },
  {
   "cell_type": "code",
   "execution_count": null,
   "metadata": {},
   "outputs": [],
   "source": []
  },
  {
   "cell_type": "code",
   "execution_count": null,
   "metadata": {},
   "outputs": [],
   "source": []
  },
  {
   "cell_type": "code",
   "execution_count": null,
   "metadata": {},
   "outputs": [],
   "source": []
  },
  {
   "cell_type": "code",
   "execution_count": null,
   "metadata": {},
   "outputs": [],
   "source": []
  },
  {
   "cell_type": "code",
   "execution_count": null,
   "metadata": {},
   "outputs": [],
   "source": []
  },
  {
   "cell_type": "code",
   "execution_count": null,
   "metadata": {},
   "outputs": [],
   "source": []
  },
  {
   "cell_type": "code",
   "execution_count": null,
   "metadata": {},
   "outputs": [],
   "source": []
  },
  {
   "cell_type": "code",
   "execution_count": null,
   "metadata": {},
   "outputs": [],
   "source": []
  },
  {
   "cell_type": "code",
   "execution_count": null,
   "metadata": {},
   "outputs": [],
   "source": []
  }
 ],
 "metadata": {
  "kernelspec": {
   "display_name": "Python 3",
   "language": "python",
   "name": "python3"
  },
  "language_info": {
   "codemirror_mode": {
    "name": "ipython",
    "version": 3
   },
   "file_extension": ".py",
   "mimetype": "text/x-python",
   "name": "python",
   "nbconvert_exporter": "python",
   "pygments_lexer": "ipython3",
   "version": "3.7.3"
  }
 },
 "nbformat": 4,
 "nbformat_minor": 2
}
