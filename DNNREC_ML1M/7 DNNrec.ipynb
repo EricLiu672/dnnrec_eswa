{
 "cells": [
  {
   "cell_type": "code",
   "execution_count": 1,
   "metadata": {},
   "outputs": [],
   "source": [
    "PATH='/home/kirana/Documents/phd/experiment1_new/DNNREC_ML1M'\n",
    "DATAPATH='/home/kirana/Documents/final_dissertation_final/experiments/datasets/ml-1m'"
   ]
  },
  {
   "cell_type": "code",
   "execution_count": 2,
   "metadata": {},
   "outputs": [],
   "source": [
    "import pandas as pd\n",
    "import numpy as np\n",
    "import matplotlib.pyplot as plt\n",
    "import sklearn\n",
    "import os\n",
    "import pickle\n",
    "import torch\n",
    "from torch.utils.data import Dataset, DataLoader\n",
    "from torch import nn\n",
    "import pickle\n",
    "from sklearn import metrics"
   ]
  },
  {
   "cell_type": "code",
   "execution_count": 3,
   "metadata": {},
   "outputs": [],
   "source": [
    "[df,dftrain,dfvalid,idx_to_user,idx_to_item,item_to_idx,user_to_idx,results_concat]=\\\n",
    "    pickle.load(open(f'{DATAPATH}/df_side_cold_runother_cf.pkl','rb'))"
   ]
  },
  {
   "cell_type": "code",
   "execution_count": 4,
   "metadata": {},
   "outputs": [
    {
     "data": {
      "text/plain": [
       "Index(['index', 'age', 'flag_train', 'gender', 'genre', 'itemId', 'maxSeqNum',\n",
       "       'occupation', 'rating', 'seqNum',\n",
       "       ...\n",
       "       'f_tag_to', 'f_tag_trek', 'f_tag_wars', 'f_tag_weapon', 'f_tag_who',\n",
       "       'f_tag_with', 'f_tag_world', 'f_tag_you', 'user_idx', 'item_idx'],\n",
       "      dtype='object', length=389)"
      ]
     },
     "execution_count": 4,
     "metadata": {},
     "output_type": "execute_result"
    }
   ],
   "source": [
    "dftrain.columns"
   ]
  },
  {
   "cell_type": "code",
   "execution_count": 5,
   "metadata": {},
   "outputs": [],
   "source": [
    "denseCols=dftrain.columns[dftrain.columns.str.startswith('f_t')].tolist()"
   ]
  },
  {
   "cell_type": "code",
   "execution_count": 6,
   "metadata": {},
   "outputs": [
    {
     "data": {
      "text/plain": [
       "['f_title_1939',\n",
       " 'f_title_1940',\n",
       " 'f_title_1941',\n",
       " 'f_title_1942',\n",
       " 'f_title_1944',\n",
       " 'f_title_1946',\n",
       " 'f_title_1950',\n",
       " 'f_title_1951',\n",
       " 'f_title_1953',\n",
       " 'f_title_1954',\n",
       " 'f_title_1955',\n",
       " 'f_title_1956',\n",
       " 'f_title_1957',\n",
       " 'f_title_1958',\n",
       " 'f_title_1959',\n",
       " 'f_title_1960',\n",
       " 'f_title_1961',\n",
       " 'f_title_1962',\n",
       " 'f_title_1963',\n",
       " 'f_title_1964',\n",
       " 'f_title_1965',\n",
       " 'f_title_1966',\n",
       " 'f_title_1967',\n",
       " 'f_title_1968',\n",
       " 'f_title_1969',\n",
       " 'f_title_1970',\n",
       " 'f_title_1971',\n",
       " 'f_title_1972',\n",
       " 'f_title_1973',\n",
       " 'f_title_1974',\n",
       " 'f_title_1975',\n",
       " 'f_title_1976',\n",
       " 'f_title_1977',\n",
       " 'f_title_1978',\n",
       " 'f_title_1979',\n",
       " 'f_title_1980',\n",
       " 'f_title_1981',\n",
       " 'f_title_1982',\n",
       " 'f_title_1983',\n",
       " 'f_title_1984',\n",
       " 'f_title_1985',\n",
       " 'f_title_1986',\n",
       " 'f_title_1987',\n",
       " 'f_title_1988',\n",
       " 'f_title_1989',\n",
       " 'f_title_1990',\n",
       " 'f_title_1991',\n",
       " 'f_title_1992',\n",
       " 'f_title_1993',\n",
       " 'f_title_1994',\n",
       " 'f_title_1995',\n",
       " 'f_title_1996',\n",
       " 'f_title_1997',\n",
       " 'f_title_1998',\n",
       " 'f_title_1999',\n",
       " 'f_title_2000',\n",
       " 'f_title_about',\n",
       " 'f_title_adventures',\n",
       " 'f_title_air',\n",
       " 'f_title_airplane',\n",
       " 'f_title_alien',\n",
       " 'f_title_all',\n",
       " 'f_title_american',\n",
       " 'f_title_an',\n",
       " 'f_title_and',\n",
       " 'f_title_apes',\n",
       " 'f_title_ark',\n",
       " 'f_title_as',\n",
       " 'f_title_at',\n",
       " 'f_title_austin',\n",
       " 'f_title_babe',\n",
       " 'f_title_back',\n",
       " 'f_title_batman',\n",
       " 'f_title_beauty',\n",
       " 'f_title_being',\n",
       " 'f_title_best',\n",
       " 'f_title_big',\n",
       " 'f_title_black',\n",
       " 'f_title_blade',\n",
       " 'f_title_blue',\n",
       " 'f_title_boys',\n",
       " 'f_title_braveheart',\n",
       " 'f_title_breakfast',\n",
       " 'f_title_bride',\n",
       " 'f_title_by',\n",
       " 'f_title_chocolate',\n",
       " 'f_title_christmas',\n",
       " 'f_title_city',\n",
       " 'f_title_close',\n",
       " 'f_title_club',\n",
       " 'f_title_confidential',\n",
       " 'f_title_contact',\n",
       " 'f_title_dark',\n",
       " 'f_title_day',\n",
       " 'f_title_days',\n",
       " 'f_title_dead',\n",
       " 'f_title_die',\n",
       " 'f_title_do',\n",
       " 'f_title_dog',\n",
       " 'f_title_down',\n",
       " 'f_title_dr',\n",
       " 'f_title_empire',\n",
       " 'f_title_episode',\n",
       " 'f_title_escape',\n",
       " 'f_title_extra',\n",
       " 'f_title_eyes',\n",
       " 'f_title_fargo',\n",
       " 'f_title_fear',\n",
       " 'f_title_fight',\n",
       " 'f_title_fire',\n",
       " 'f_title_first',\n",
       " 'f_title_fly',\n",
       " 'f_title_for',\n",
       " 'f_title_forrest',\n",
       " 'f_title_frankenstein',\n",
       " 'f_title_from',\n",
       " 'f_title_full',\n",
       " 'f_title_future',\n",
       " 'f_title_game',\n",
       " 'f_title_ghost',\n",
       " 'f_title_ghostbusters',\n",
       " 'f_title_girl',\n",
       " 'f_title_godfather',\n",
       " 'f_title_good',\n",
       " 'f_title_great',\n",
       " 'f_title_green',\n",
       " 'f_title_groundhog',\n",
       " 'f_title_gump',\n",
       " 'f_title_gun',\n",
       " 'f_title_hard',\n",
       " 'f_title_harry',\n",
       " 'f_title_high',\n",
       " 'f_title_home',\n",
       " 'f_title_hope',\n",
       " 'f_title_house',\n",
       " 'f_title_ii',\n",
       " 'f_title_iii',\n",
       " 'f_title_impossible',\n",
       " 'f_title_in',\n",
       " 'f_title_indiana',\n",
       " 'f_title_is',\n",
       " 'f_title_it',\n",
       " 'f_title_iv',\n",
       " 'f_title_jaws',\n",
       " 'f_title_jedi',\n",
       " 'f_title_john',\n",
       " 'f_title_jones',\n",
       " 'f_title_judgment',\n",
       " 'f_title_jurassic',\n",
       " 'f_title_kid',\n",
       " 'f_title_king',\n",
       " 'f_title_la',\n",
       " 'f_title_lambs',\n",
       " 'f_title_last',\n",
       " 'f_title_lethal',\n",
       " 'f_title_lies',\n",
       " 'f_title_life',\n",
       " 'f_title_list',\n",
       " 'f_title_little',\n",
       " 'f_title_lost',\n",
       " 'f_title_love',\n",
       " 'f_title_mad',\n",
       " 'f_title_malkovich',\n",
       " 'f_title_man',\n",
       " 'f_title_mary',\n",
       " 'f_title_mask',\n",
       " 'f_title_matrix',\n",
       " 'f_title_max',\n",
       " 'f_title_me',\n",
       " 'f_title_men',\n",
       " 'f_title_menace',\n",
       " 'f_title_midnight',\n",
       " 'f_title_mission',\n",
       " 'f_title_monty',\n",
       " 'f_title_movie',\n",
       " 'f_title_mr',\n",
       " 'f_title_my',\n",
       " 'f_title_mystery',\n",
       " 'f_title_new',\n",
       " 'f_title_night',\n",
       " 'f_title_nightmare',\n",
       " 'f_title_october',\n",
       " 'f_title_of',\n",
       " 'f_title_off',\n",
       " 'f_title_old',\n",
       " 'f_title_on',\n",
       " 'f_title_one',\n",
       " 'f_title_out',\n",
       " 'f_title_over',\n",
       " 'f_title_park',\n",
       " 'f_title_part',\n",
       " 'f_title_phantom',\n",
       " 'f_title_picture',\n",
       " 'f_title_planet',\n",
       " 'f_title_powers',\n",
       " 'f_title_princess',\n",
       " 'f_title_private',\n",
       " 'f_title_psycho',\n",
       " 'f_title_python',\n",
       " 'f_title_quest',\n",
       " 'f_title_raiders',\n",
       " 'f_title_rain',\n",
       " 'f_title_red',\n",
       " 'f_title_redemption',\n",
       " 'f_title_return',\n",
       " 'f_title_road',\n",
       " 'f_title_rock',\n",
       " 'f_title_rocky',\n",
       " 'f_title_roger',\n",
       " 'f_title_run',\n",
       " 'f_title_ryan',\n",
       " 'f_title_saving',\n",
       " 'f_title_schindler',\n",
       " 'f_title_sense',\n",
       " 'f_title_seven',\n",
       " 'f_title_shakespeare',\n",
       " 'f_title_shawshank',\n",
       " 'f_title_show',\n",
       " 'f_title_silence',\n",
       " 'f_title_sixth',\n",
       " 'f_title_space',\n",
       " 'f_title_star',\n",
       " 'f_title_story',\n",
       " 'f_title_strikes',\n",
       " 'f_title_superman',\n",
       " 'f_title_terminator',\n",
       " 'f_title_terrestrial',\n",
       " 'f_title_the',\n",
       " 'f_title_thing',\n",
       " 'f_title_three',\n",
       " 'f_title_time',\n",
       " 'f_title_to',\n",
       " 'f_title_toy',\n",
       " 'f_title_trek',\n",
       " 'f_title_true',\n",
       " 'f_title_up',\n",
       " 'f_title_vi',\n",
       " 'f_title_wars',\n",
       " 'f_title_weapon',\n",
       " 'f_title_wedding',\n",
       " 'f_title_what',\n",
       " 'f_title_when',\n",
       " 'f_title_white',\n",
       " 'f_title_who',\n",
       " 'f_title_wild',\n",
       " 'f_title_with',\n",
       " 'f_title_woman',\n",
       " 'f_title_world',\n",
       " 'f_title_you',\n",
       " 'f_title_young',\n",
       " 'f_tag_1940',\n",
       " 'f_tag_1954',\n",
       " 'f_tag_1958',\n",
       " 'f_tag_1959',\n",
       " 'f_tag_1961',\n",
       " 'f_tag_1962',\n",
       " 'f_tag_1963',\n",
       " 'f_tag_1964',\n",
       " 'f_tag_1967',\n",
       " 'f_tag_1968',\n",
       " 'f_tag_1969',\n",
       " 'f_tag_1970',\n",
       " 'f_tag_1971',\n",
       " 'f_tag_1972',\n",
       " 'f_tag_1973',\n",
       " 'f_tag_1974',\n",
       " 'f_tag_1975',\n",
       " 'f_tag_1976',\n",
       " 'f_tag_1977',\n",
       " 'f_tag_1978',\n",
       " 'f_tag_1979',\n",
       " 'f_tag_1980',\n",
       " 'f_tag_1981',\n",
       " 'f_tag_1982',\n",
       " 'f_tag_1983',\n",
       " 'f_tag_1984',\n",
       " 'f_tag_1985',\n",
       " 'f_tag_1986',\n",
       " 'f_tag_1987',\n",
       " 'f_tag_1988',\n",
       " 'f_tag_1989',\n",
       " 'f_tag_1990',\n",
       " 'f_tag_1991',\n",
       " 'f_tag_1992',\n",
       " 'f_tag_1993',\n",
       " 'f_tag_1994',\n",
       " 'f_tag_1995',\n",
       " 'f_tag_1996',\n",
       " 'f_tag_1997',\n",
       " 'f_tag_1998',\n",
       " 'f_tag_1999',\n",
       " 'f_tag_2000',\n",
       " 'f_tag_about',\n",
       " 'f_tag_alien',\n",
       " 'f_tag_american',\n",
       " 'f_tag_and',\n",
       " 'f_tag_back',\n",
       " 'f_tag_beauty',\n",
       " 'f_tag_big',\n",
       " 'f_tag_black',\n",
       " 'f_tag_by',\n",
       " 'f_tag_day',\n",
       " 'f_tag_dead',\n",
       " 'f_tag_die',\n",
       " 'f_tag_episode',\n",
       " 'f_tag_for',\n",
       " 'f_tag_from',\n",
       " 'f_tag_future',\n",
       " 'f_tag_godfather',\n",
       " 'f_tag_good',\n",
       " 'f_tag_hard',\n",
       " 'f_tag_ii',\n",
       " 'f_tag_iii',\n",
       " 'f_tag_in',\n",
       " 'f_tag_it',\n",
       " 'f_tag_iv',\n",
       " 'f_tag_king',\n",
       " 'f_tag_last',\n",
       " 'f_tag_life',\n",
       " 'f_tag_little',\n",
       " 'f_tag_lost',\n",
       " 'f_tag_love',\n",
       " 'f_tag_man',\n",
       " 'f_tag_me',\n",
       " 'f_tag_men',\n",
       " 'f_tag_my',\n",
       " 'f_tag_new',\n",
       " 'f_tag_night',\n",
       " 'f_tag_of',\n",
       " 'f_tag_on',\n",
       " 'f_tag_one',\n",
       " 'f_tag_out',\n",
       " 'f_tag_park',\n",
       " 'f_tag_part',\n",
       " 'f_tag_red',\n",
       " 'f_tag_return',\n",
       " 'f_tag_run',\n",
       " 'f_tag_space',\n",
       " 'f_tag_star',\n",
       " 'f_tag_story',\n",
       " 'f_tag_terminator',\n",
       " 'f_tag_the',\n",
       " 'f_tag_to',\n",
       " 'f_tag_trek',\n",
       " 'f_tag_wars',\n",
       " 'f_tag_weapon',\n",
       " 'f_tag_who',\n",
       " 'f_tag_with',\n",
       " 'f_tag_world',\n",
       " 'f_tag_you']"
      ]
     },
     "execution_count": 6,
     "metadata": {},
     "output_type": "execute_result"
    }
   ],
   "source": [
    "denseCols"
   ]
  },
  {
   "cell_type": "code",
   "execution_count": 7,
   "metadata": {},
   "outputs": [],
   "source": [
    "genre_to_idx={j:i+1 for i,j in enumerate(dftrain['genre'].unique())}\n",
    "idx_to_genre={i+1:j for i,j in enumerate(dftrain['genre'].unique())}\n",
    "dftrain['genre_idx']=[genre_to_idx.get(i) for i in dftrain['genre']]\n",
    "dfvalid['genre_idx']=[genre_to_idx.get(i) for i in dfvalid['genre']]"
   ]
  },
  {
   "cell_type": "code",
   "execution_count": 8,
   "metadata": {},
   "outputs": [],
   "source": [
    "occupation_to_idx={j:i+1 for i,j in enumerate(dftrain['occupation'].unique())}\n",
    "idx_to_occupation={i+1:j for i,j in enumerate(dftrain['occupation'].unique())}\n",
    "dftrain['occupation_idx']=[occupation_to_idx.get(i) for i in dftrain['occupation']]\n",
    "dfvalid['occupation_idx']=[occupation_to_idx.get(i) for i in dfvalid['occupation']]"
   ]
  },
  {
   "cell_type": "code",
   "execution_count": 9,
   "metadata": {},
   "outputs": [],
   "source": [
    "age_to_idx={j:i+1 for i,j in enumerate(dftrain['age'].unique())}\n",
    "idx_to_age={i+1:j for i,j in enumerate(dftrain['age'].unique())}\n",
    "dftrain['age_idx']=[age_to_idx.get(i) for i in dftrain['age']]\n",
    "dfvalid['age_idx']=[age_to_idx.get(i) for i in dfvalid['age']]"
   ]
  },
  {
   "cell_type": "code",
   "execution_count": 10,
   "metadata": {},
   "outputs": [],
   "source": [
    "gender_to_idx={j:i+1 for i,j in enumerate(dftrain['gender'].unique())}\n",
    "idx_to_gender={i+1:j for i,j in enumerate(dftrain['gender'].unique())}\n",
    "dftrain['gender_idx']=[gender_to_idx.get(i) for i in dftrain['gender']]\n",
    "dfvalid['gender_idx']=[gender_to_idx.get(i) for i in dfvalid['gender']]"
   ]
  },
  {
   "cell_type": "code",
   "execution_count": 11,
   "metadata": {},
   "outputs": [],
   "source": [
    "catCols=['genre_idx','occupation_idx','age_idx','gender_idx']"
   ]
  },
  {
   "cell_type": "markdown",
   "metadata": {},
   "source": [
    "### Dataset and DataLoader"
   ]
  },
  {
   "cell_type": "code",
   "execution_count": 12,
   "metadata": {},
   "outputs": [],
   "source": [
    "class cfdata (torch.utils.data.dataset.Dataset):\n",
    "    def __init__(self,dfX,dfY,denseCols,catCols):\n",
    "        self.dfX,self.dfY=dfX,dfY\n",
    "        self.denseCols=denseCols\n",
    "        self.catCols=catCols\n",
    "        \n",
    "    def __len__ (self):\n",
    "        return self.dfX.shape[0]\n",
    "    \n",
    "    def __getitem__ (self, idx):\n",
    "        return torch.FloatTensor(self.dfX.iloc[idx].values),torch.FloatTensor([self.dfY.values[idx]])"
   ]
  },
  {
   "cell_type": "code",
   "execution_count": 13,
   "metadata": {},
   "outputs": [],
   "source": [
    "dstrain=cfdata(dftrain[['user_idx','item_idx']+denseCols+catCols],dftrain['rating'],denseCols,catCols)\n",
    "dsvalid=cfdata(dfvalid[['user_idx','item_idx']+denseCols+catCols],dfvalid['rating'],denseCols,catCols)"
   ]
  },
  {
   "cell_type": "code",
   "execution_count": 14,
   "metadata": {},
   "outputs": [
    {
     "data": {
      "text/plain": [
       "(894131, 393)"
      ]
     },
     "execution_count": 14,
     "metadata": {},
     "output_type": "execute_result"
    }
   ],
   "source": [
    "dftrain.shape"
   ]
  },
  {
   "cell_type": "code",
   "execution_count": 15,
   "metadata": {},
   "outputs": [],
   "source": [
    "bs=128"
   ]
  },
  {
   "cell_type": "code",
   "execution_count": 16,
   "metadata": {},
   "outputs": [],
   "source": [
    "dltrain=DataLoader(dstrain,bs,True)"
   ]
  },
  {
   "cell_type": "code",
   "execution_count": 17,
   "metadata": {},
   "outputs": [],
   "source": [
    "dlvalid=DataLoader(dsvalid,bs,False)"
   ]
  },
  {
   "cell_type": "code",
   "execution_count": 18,
   "metadata": {},
   "outputs": [
    {
     "data": {
      "text/plain": [
       "301"
      ]
     },
     "execution_count": 18,
     "metadata": {},
     "output_type": "execute_result"
    }
   ],
   "source": [
    "dftrain['genre'].nunique()"
   ]
  },
  {
   "cell_type": "code",
   "execution_count": 19,
   "metadata": {},
   "outputs": [
    {
     "data": {
      "text/plain": [
       "[('genre_idx', 301), ('occupation_idx', 21), ('age_idx', 7), ('gender_idx', 2)]"
      ]
     },
     "execution_count": 19,
     "metadata": {},
     "output_type": "execute_result"
    }
   ],
   "source": [
    "[(col, dftrain[col].nunique()) for col in catCols]"
   ]
  },
  {
   "cell_type": "code",
   "execution_count": 20,
   "metadata": {},
   "outputs": [
    {
     "data": {
      "text/plain": [
       "{'genre_idx': 3, 'occupation_idx': 0, 'age_idx': 0, 'gender_idx': 0}"
      ]
     },
     "execution_count": 20,
     "metadata": {},
     "output_type": "execute_result"
    }
   ],
   "source": [
    "{col: min(50,dftrain[col].nunique()//100) for col in catCols}"
   ]
  },
  {
   "cell_type": "code",
   "execution_count": 21,
   "metadata": {},
   "outputs": [],
   "source": [
    "emb_szs=[(dftrain[col].nunique(),min(50,dftrain[col].nunique()//2)) for col in catCols]"
   ]
  },
  {
   "cell_type": "code",
   "execution_count": 22,
   "metadata": {},
   "outputs": [
    {
     "data": {
      "text/plain": [
       "[(301, 50), (21, 10), (7, 3), (2, 1)]"
      ]
     },
     "execution_count": 22,
     "metadata": {},
     "output_type": "execute_result"
    }
   ],
   "source": [
    "emb_szs"
   ]
  },
  {
   "cell_type": "markdown",
   "metadata": {},
   "source": [
    "## Model Architecture"
   ]
  },
  {
   "cell_type": "code",
   "execution_count": 73,
   "metadata": {},
   "outputs": [],
   "source": [
    "n_users=len(user_to_idx)\n",
    "n_items=len(item_to_idx)\n",
    "n_emb_user=25\n",
    "n_emb_item=25\n",
    "min_rating=min(dftrain['rating'])\n",
    "max_rating=max(dftrain['rating'])\n",
    "dropout_e=0.1\n",
    "    # embedding, dense, cat, final\n",
    "hidden=[20,3,5,10]\n",
    "dropouts=[0.2,0.3,0.2,0.1]"
   ]
  },
  {
   "cell_type": "code",
   "execution_count": 74,
   "metadata": {},
   "outputs": [],
   "source": [
    "def hidden_layer(x,y,dropout,activation=nn.Sigmoid()):\n",
    "    return nn.Sequential(\n",
    "        nn.Linear(x, y),\n",
    "        activation,\n",
    "        nn.Dropout(p=dropout)\n",
    "        )   "
   ]
  },
  {
   "cell_type": "code",
   "execution_count": 75,
   "metadata": {},
   "outputs": [],
   "source": [
    "#[mtx_user_emb,mtx_item_emb,user_bias_emb,item_bias_emb]=pickle.load(open(f'{DATAPATH}/wts_embs','rb'))\n",
    "#pretrain_wts=pickle.load(open(f'{DATAPATH}/wts_embs','rb'))\n",
    "pretrain_wts=None"
   ]
  },
  {
   "cell_type": "code",
   "execution_count": 76,
   "metadata": {},
   "outputs": [],
   "source": [
    "class cf(nn.Module):    \n",
    "    def __init__(self,n_users,n_emb_user,n_emb_item,n_items,min_rating,max_rating,autoenc_cols,pretrain_wts,\\\n",
    "                 catCols, emb_szs,dropout_e=0.01,hidden=[15,5],dropouts=[0.2,0.2],error_type=\"mse\"):\n",
    "        super().__init__()\n",
    "        self.n_users,self.n_emb_user,self.n_emb_item,self.n_items,self.min_rating,self.max_rating=\\\n",
    "                    n_users,n_emb_user,n_emb_item,n_items,min_rating,max_rating\n",
    "        self.dropout_e,self.hidden,self.dropouts=dropout_e,hidden,dropouts\n",
    "        self.autoenc_cols,self.len_dense_cols=autoenc_cols,len(autoenc_cols)\n",
    "        self.catCols,self.emb_szs=catCols,emb_szs\n",
    "        self.len_cat_cols=len(self.catCols)\n",
    "        self.n_cat_emb=sum([x[1] for x in emb_szs])\n",
    "        \n",
    "        \n",
    "        self.create_architecture()\n",
    "        self.init_parameters()\n",
    "        \n",
    "        if pretrain_wts is not None:\n",
    "            self.emb_user.weight.data=torch.FloatTensor(pretrain_wts[0])\n",
    "            self.emb_item.weight.data=torch.FloatTensor(pretrain_wts[1])\n",
    "            self.ub.weight.data=torch.FloatTensor(pretrain_wts[2])\n",
    "            self.ib.weight.data=torch.FloatTensor(pretrain_wts[3])\n",
    "\n",
    "        if error_type!=\"mse\":\n",
    "            self.criterion=nn.L1Loss()\n",
    "        else:\n",
    "            self.criterion=nn.MSELoss()\n",
    "        \n",
    "    def create_architecture(self):\n",
    "        self.emb_user=nn.Embedding(self.n_users+1,self.n_emb_user)\n",
    "        self.emb_item=nn.Embedding(self.n_items+1,self.n_emb_item)\n",
    "        self.ub=nn.Embedding(self.n_users+1,1)\n",
    "        self.ib=nn.Embedding(self.n_items+1,1)\n",
    "        self.embs_cat=nn.ModuleList([nn.Embedding(x+1,y) for x,y in self.emb_szs])\n",
    "        \n",
    "        self.emb_dropout=nn.Dropout(self.dropout_e)\n",
    "\n",
    "        \n",
    "        self.lin1= nn.Sequential(nn.Linear(self.n_emb_user+self.n_emb_item,self.hidden[0]),\n",
    "                    nn.ReLU(),\n",
    "                    nn.Dropout(p=dropouts[0]) )\n",
    "        self.lin_bias=nn.Linear(3,1)\n",
    "       \n",
    "        self.lin2= nn.Sequential (nn.Linear(self.len_dense_cols,self.hidden[1]),\n",
    "                    nn.ReLU(),\n",
    "                    nn.Dropout(p=dropouts[1]) )\n",
    "        self.lin_cat= nn.Sequential (nn.Linear(self.n_cat_emb,self.hidden[2]),\n",
    "                                nn.ReLU(),\n",
    "                                nn.Dropout(p=dropouts[2]))\n",
    "        self.lin3= nn.Sequential (nn.Linear(self.hidden[0]+self.hidden[1]+1+self.hidden[2],self.hidden[3]),\n",
    "                    nn.ReLU(),\n",
    "                    nn.Dropout(p=dropouts[3]))\n",
    "        self.lin4=nn.Linear(self.hidden[3],1)\n",
    "        self.sigmoid=nn.Sigmoid()\n",
    "        \n",
    "        \n",
    "    def init_parameters(self):\n",
    "        nn.init.kaiming_normal_(self.emb_user.weight.data)\n",
    "        nn.init.kaiming_normal_(self.emb_item.weight.data)\n",
    "        nn.init.zeros_(self.ub.weight.data)\n",
    "        nn.init.zeros_(self.ib.weight.data)\n",
    "        nn.init.kaiming_normal_(self.lin1[0].weight.data)\n",
    "        nn.init.kaiming_normal_(self.lin2[0].weight.data)\n",
    "        nn.init.kaiming_normal_(self.lin3[0].weight.data)\n",
    "        #nn.init.kaiming_normal_(lin)\n",
    "       \n",
    "    def forward (self,Xb,Yb):\n",
    "        users=Xb[:,0].long()\n",
    "        items=Xb[:,1].long()\n",
    "        users=self.emb_dropout(self.emb_user(users))\n",
    "        items=self.emb_dropout(self.emb_item(items))\n",
    "        users_bias=self.emb_dropout(self.ub(Xb[:,0].long()))\n",
    "        items_bias=self.emb_dropout(self.ib(Xb[:,1].long()))\n",
    "        embed=torch.cat([users,items],1)\n",
    "        out1=self.lin1(embed)\n",
    "        bias=torch.cat([users_bias,items_bias,users_bias+items_bias],1)\n",
    "        biased=self.lin_bias(bias)\n",
    "           \n",
    "        \n",
    "        denses=Xb[:,2:(2+self.len_dense_cols)]\n",
    "        out2=self.lin2(denses)\n",
    "                  \n",
    "        cats=Xb[:,(2+self.len_dense_cols):].long()\n",
    "        embed_cat=[self.emb_dropout(self.embs_cat[i](cats[:,i]) ) for i in range(len(self.emb_szs))]\n",
    "        embedded_cat = torch.cat([x for x in embed_cat],1)\n",
    "        out_cat=self.lin_cat(embedded_cat)\n",
    "        \n",
    "        out3=torch.cat([out1,out2,biased,out_cat],1)\n",
    "        \n",
    "        out4=self.lin3(out3)\n",
    "        \n",
    "        out5=self.lin4(out4)\n",
    "        \n",
    "        out=self.sigmoid(out5)\n",
    "        \n",
    "        preds=out*(self.max_rating-self.min_rating)+self.min_rating\n",
    "        #preds=preds.view(-1)\n",
    "        loss=self.criterion(preds,Yb)\n",
    "        return preds,loss"
   ]
  },
  {
   "cell_type": "code",
   "execution_count": 77,
   "metadata": {},
   "outputs": [],
   "source": [
    "cfobj=cf(n_users,n_emb_user,n_emb_item,n_items,min_rating,max_rating,denseCols,pretrain_wts,catCols,emb_szs,dropout_e,hidden,dropouts,error_type=\"mse\")"
   ]
  },
  {
   "cell_type": "code",
   "execution_count": 78,
   "metadata": {},
   "outputs": [
    {
     "data": {
      "text/plain": [
       "cf(\n",
       "  (emb_user): Embedding(6041, 25)\n",
       "  (emb_item): Embedding(3707, 25)\n",
       "  (ub): Embedding(6041, 1)\n",
       "  (ib): Embedding(3707, 1)\n",
       "  (embs_cat): ModuleList(\n",
       "    (0): Embedding(302, 50)\n",
       "    (1): Embedding(22, 10)\n",
       "    (2): Embedding(8, 3)\n",
       "    (3): Embedding(3, 1)\n",
       "  )\n",
       "  (emb_dropout): Dropout(p=0.1)\n",
       "  (lin1): Sequential(\n",
       "    (0): Linear(in_features=50, out_features=20, bias=True)\n",
       "    (1): ReLU()\n",
       "    (2): Dropout(p=0.2)\n",
       "  )\n",
       "  (lin_bias): Linear(in_features=3, out_features=1, bias=True)\n",
       "  (lin2): Sequential(\n",
       "    (0): Linear(in_features=350, out_features=3, bias=True)\n",
       "    (1): ReLU()\n",
       "    (2): Dropout(p=0.3)\n",
       "  )\n",
       "  (lin_cat): Sequential(\n",
       "    (0): Linear(in_features=64, out_features=5, bias=True)\n",
       "    (1): ReLU()\n",
       "    (2): Dropout(p=0.2)\n",
       "  )\n",
       "  (lin3): Sequential(\n",
       "    (0): Linear(in_features=29, out_features=10, bias=True)\n",
       "    (1): ReLU()\n",
       "    (2): Dropout(p=0.1)\n",
       "  )\n",
       "  (lin4): Linear(in_features=10, out_features=1, bias=True)\n",
       "  (sigmoid): Sigmoid()\n",
       "  (criterion): MSELoss()\n",
       ")"
      ]
     },
     "execution_count": 78,
     "metadata": {},
     "output_type": "execute_result"
    }
   ],
   "source": [
    "cfobj"
   ]
  },
  {
   "cell_type": "code",
   "execution_count": 79,
   "metadata": {},
   "outputs": [],
   "source": [
    "for Xb, Yb in dltrain:\n",
    "    break"
   ]
  },
  {
   "cell_type": "code",
   "execution_count": 80,
   "metadata": {},
   "outputs": [
    {
     "data": {
      "text/plain": [
       "(torch.Size([128, 356]), torch.Size([128, 1]))"
      ]
     },
     "execution_count": 80,
     "metadata": {},
     "output_type": "execute_result"
    }
   ],
   "source": [
    "Xb.shape, Yb.shape"
   ]
  },
  {
   "cell_type": "code",
   "execution_count": 81,
   "metadata": {},
   "outputs": [
    {
     "data": {
      "text/plain": [
       "torch.float32"
      ]
     },
     "execution_count": 81,
     "metadata": {},
     "output_type": "execute_result"
    }
   ],
   "source": [
    "Xb.dtype"
   ]
  },
  {
   "cell_type": "code",
   "execution_count": 82,
   "metadata": {},
   "outputs": [
    {
     "data": {
      "text/plain": [
       "(tensor([[3.6101],\n",
       "         [3.4021],\n",
       "         [3.2527],\n",
       "         [3.1083],\n",
       "         [3.5388],\n",
       "         [3.1488],\n",
       "         [3.3867],\n",
       "         [3.4351],\n",
       "         [3.4384],\n",
       "         [3.3342],\n",
       "         [3.7341],\n",
       "         [3.2680],\n",
       "         [3.2219],\n",
       "         [3.6344],\n",
       "         [3.1284],\n",
       "         [3.5514],\n",
       "         [3.4549],\n",
       "         [3.1411],\n",
       "         [3.2005],\n",
       "         [3.3204],\n",
       "         [3.4123],\n",
       "         [3.5320],\n",
       "         [3.3803],\n",
       "         [3.1091],\n",
       "         [3.2198],\n",
       "         [3.4827],\n",
       "         [3.2895],\n",
       "         [3.3378],\n",
       "         [3.4902],\n",
       "         [3.4101],\n",
       "         [3.6094],\n",
       "         [3.1734],\n",
       "         [3.4389],\n",
       "         [3.3520],\n",
       "         [3.2252],\n",
       "         [2.9381],\n",
       "         [3.6744],\n",
       "         [3.2376],\n",
       "         [3.3035],\n",
       "         [3.1528],\n",
       "         [3.2665],\n",
       "         [3.8897],\n",
       "         [3.5155],\n",
       "         [3.9067],\n",
       "         [3.0892],\n",
       "         [3.9599],\n",
       "         [2.9416],\n",
       "         [3.3199],\n",
       "         [4.2228],\n",
       "         [3.6119],\n",
       "         [3.1149],\n",
       "         [3.2573],\n",
       "         [3.6186],\n",
       "         [3.3220],\n",
       "         [3.6955],\n",
       "         [3.9007],\n",
       "         [3.3390],\n",
       "         [3.7169],\n",
       "         [3.7767],\n",
       "         [3.6547],\n",
       "         [3.2015],\n",
       "         [3.1188],\n",
       "         [3.7128],\n",
       "         [3.3828],\n",
       "         [3.6352],\n",
       "         [3.3587],\n",
       "         [3.0841],\n",
       "         [3.1699],\n",
       "         [3.3917],\n",
       "         [3.6890],\n",
       "         [3.1549],\n",
       "         [3.5009],\n",
       "         [3.4055],\n",
       "         [3.9055],\n",
       "         [3.7589],\n",
       "         [3.5416],\n",
       "         [3.7868],\n",
       "         [3.8590],\n",
       "         [3.0174],\n",
       "         [3.7384],\n",
       "         [3.0463],\n",
       "         [3.7153],\n",
       "         [3.4433],\n",
       "         [3.6047],\n",
       "         [3.8166],\n",
       "         [3.3613],\n",
       "         [3.4439],\n",
       "         [3.3534],\n",
       "         [3.7444],\n",
       "         [3.1995],\n",
       "         [3.4979],\n",
       "         [3.1213],\n",
       "         [3.4797],\n",
       "         [3.7507],\n",
       "         [3.6994],\n",
       "         [3.4467],\n",
       "         [3.7472],\n",
       "         [3.5552],\n",
       "         [3.6478],\n",
       "         [4.0446],\n",
       "         [3.9649],\n",
       "         [3.8047],\n",
       "         [3.0743],\n",
       "         [3.3455],\n",
       "         [3.1482],\n",
       "         [3.5445],\n",
       "         [3.3319],\n",
       "         [3.3640],\n",
       "         [3.7626],\n",
       "         [3.7386],\n",
       "         [3.5533],\n",
       "         [3.2500],\n",
       "         [3.7475],\n",
       "         [3.1907],\n",
       "         [3.5070],\n",
       "         [3.5724],\n",
       "         [3.0576],\n",
       "         [3.3302],\n",
       "         [3.6162],\n",
       "         [3.0250],\n",
       "         [3.7376],\n",
       "         [3.4725],\n",
       "         [3.2560],\n",
       "         [3.4125],\n",
       "         [3.4313],\n",
       "         [3.3937],\n",
       "         [3.7117],\n",
       "         [3.2378]], grad_fn=<AddBackward0>),\n",
       " tensor(1.3970, grad_fn=<MseLossBackward>))"
      ]
     },
     "execution_count": 82,
     "metadata": {},
     "output_type": "execute_result"
    }
   ],
   "source": [
    "cfobj.forward(Xb,Yb)"
   ]
  },
  {
   "cell_type": "markdown",
   "metadata": {},
   "source": [
    "## Learner"
   ]
  },
  {
   "cell_type": "code",
   "execution_count": 83,
   "metadata": {},
   "outputs": [],
   "source": [
    "class Learner():\n",
    "    def __init__(self,model,optimizer,metric_fn,device,bptt=12,print_every=5,clip_val=None,\\\n",
    "                 cycle_mult=0,lr_decay=0.7,wd_mult=1.1,start_lr=2e-2, end_lr=5e-4,error_type=\"mse\"):\n",
    "        self.model,self.optimizer,self.metric_fn,self.device,self.print_every,self.bptt,self.losses,self.clip_val=\\\n",
    "            model,optimizer,metric_fn,device,print_every,bptt,[],clip_val\n",
    "        self.n_epochs=1\n",
    "        self.cycle_mult,self.lr_decay=cycle_mult,lr_decay\n",
    "        self.wd_mult=wd_mult\n",
    "        for param_group in self.optimizer.param_groups:\n",
    "            self.start_lr=param_group['lr']\n",
    "            self.start_wd=param_group['weight_decay']\n",
    "        self.wd=self.start_wd\n",
    "        self.lr=self.start_lr\n",
    "        self.end_lr=end_lr\n",
    "        self.n_epoch=0\n",
    "        self.lrs=[1e-2,5e-3,1e-4,5e-4]\n",
    "        self.preds,self.preds_valid,self.trainY,self.actual=[],[],[],[]\n",
    "        self.ratio=self.end_lr/self.start_lr\n",
    "        self.num_steps=self.cycle_mult\n",
    "        self.reset_cycle=self.cycle_mult\n",
    "        self.error_type=error_type\n",
    "        self.scores=[]\n",
    "        self.generate_scores=False\n",
    "        \n",
    "    def fit (self,Xb,Yb,mode_train=True):\n",
    "        if mode_train:\n",
    "            self.model.train()\n",
    "        else:\n",
    "            self.model.eval()\n",
    "        \n",
    "        #import pdb\n",
    "        #pdb.set_trace()\n",
    "        preds,loss=self.model(Xb,Yb)\n",
    "\n",
    "     \n",
    "        if mode_train:\n",
    "            if 1==0:\n",
    "                lr =self.lrs[torch.randint(0,4,(1,))]\n",
    "                for param_group in self.optimizer.param_groups:\n",
    "                    param_group['lr']=lr\n",
    "            \n",
    "            self.optimizer.zero_grad()\n",
    "            loss.backward()\n",
    "            self.optimizer.step()\n",
    "        myloss=loss.item()\n",
    "    \n",
    "        \n",
    "        with torch.no_grad():\n",
    "            if self.error_type == \"mse\":\n",
    "                acc=nn.L1Loss() (preds,Yb)\n",
    "                myrmse=np.sqrt(myloss)\n",
    "            else:\n",
    "                acc=nn.MSELoss() (preds,Yb)\n",
    "                myrmse=np.sqrt(acc.item())\n",
    "            acc=acc.item()\n",
    "                 \n",
    "        if mode_train==False:\n",
    "            if self.generate_scores:\n",
    "                self.scores.append(preds.detach().cpu().numpy().flatten())\n",
    "        del preds\n",
    "        del loss\n",
    "        \n",
    "        if self.clip_val is not None:\n",
    "            torch.nn.utils.clip_grad_norm_(self.model.parameters(), self.clip_val)\n",
    "        \n",
    "        return myloss, acc, myrmse\n",
    "    \n",
    "    def lr_find (self,start_lr,end_lr,iterator,n_batch):\n",
    "        losses,lrs=[],[]\n",
    "        ratio=end_lr/start_lr\n",
    "        num_steps=n_batch\n",
    "        lr=start_lr\n",
    "        for i in range(num_steps):            \n",
    "            lr=lr*(end_lr/start_lr)**(1/num_steps)\n",
    "            lrs.append(lr)\n",
    "        self.lrs=lrs\n",
    "        self.run_epoch(iterator,mode_train=True,lrs=lrs)\n",
    "    \n",
    "    def run_epoch(self,iterator,mode_train,lrs=None):\n",
    "        epoch_loss,epoch_acc,i,k=0,0,0,0\n",
    "        epoch_rmse=0\n",
    "\n",
    "        for Xb,Yb in iterator:\n",
    "            Xb=Xb.to(self.device)\n",
    "            Yb=Yb.to(self.device)\n",
    "            \n",
    "            if lrs is not None:\n",
    "                lr=lrs[k]\n",
    "                for param_group in self.optimizer.param_groups:\n",
    "                    param_group['lr']=lr \n",
    "            \n",
    "            loss,acc,myrmse=self.fit(Xb,Yb,mode_train)\n",
    "            \n",
    "            if lrs is not None:\n",
    "                self.losses.append(loss)\n",
    "\n",
    "            epoch_loss+=loss\n",
    "            epoch_acc+=acc\n",
    "            epoch_rmse+=myrmse\n",
    "            \n",
    "            k=k+1\n",
    "            if k%self.print_every == 0:\n",
    "                if k:\n",
    "                    print (f'Batch:{k} {epoch_loss/(k)}  ')  \n",
    "                    torch.cuda.empty_cache()\n",
    "\n",
    "        epoch_loss=epoch_loss/len(iterator)\n",
    "        epoch_acc=epoch_acc/len(iterator)\n",
    "        epoch_rmse=epoch_rmse/len(iterator)\n",
    "            \n",
    "        return epoch_loss,epoch_acc,epoch_rmse\n",
    "    \n",
    "    def plot_lrs(self, n_roll=1,ylim=None,xlim=None):\n",
    "        import seaborn as sns\n",
    "        ax=sns.lineplot(x=self.lrs,y=pd.Series(self.losses).rolling(n_roll).mean())\n",
    "        ax.set_xscale('log')\n",
    "        ax.set_ylabel('Loss')\n",
    "        ax.set_xlabel('Learning Rate')\n",
    "        if ylim is not None:\n",
    "            plt.ylim(ylim)\n",
    "        if xlim is not None:\n",
    "            plt.xlim(xlim)\n",
    "\n",
    "     \n",
    "    def run_epochs(self,dltrain,dlvalid,n_epochs=1):              \n",
    "        for epoch in range(n_epochs):                \n",
    "            loss,acc,rmse=self.run_epoch(dltrain,True)\n",
    "\n",
    "            lossv,accv,rmsev=self.run_epoch(dlvalid,mode_train=False)\n",
    "           \n",
    "            if self.error_type==\"mse\":\n",
    "                loss_mse=loss\n",
    "                loss_rmse=rmse\n",
    "                loss_mae=acc\n",
    "                lossv_mse=lossv\n",
    "                lossv_rmse=rmsev\n",
    "                lossv_mae=accv\n",
    "                \n",
    "            else:\n",
    "                loss_mse=acc\n",
    "                loss_rmse=rmse\n",
    "                loss_mae=loss\n",
    "                lossv_mse=accv\n",
    "                lossv_rmse=rmsev\n",
    "                lossv_mae=lossv\n",
    "            \n",
    "            print (f'Epoch:{epoch} Learning rate {self.lr} Weight Decay {self.wd} Train Loss:{loss} \\\n",
    "                Valid Loss:{lossv} Train RMSE:{loss_rmse} Valid RMSE:{lossv_rmse} Train MSE:{loss_mse} Valid MSE:{lossv_mse} \\\n",
    "                Train MAE:{loss_mae} Valid MAE:{lossv_mae}')\n",
    "\n",
    "              \n",
    "         \n",
    "     \n",
    "            if self.cycle_mult:\n",
    "                if self.n_epoch==self.reset_cycle:\n",
    "                    self.lr=self.start_lr\n",
    "                    self.wd=self.start_wd\n",
    "                    self.reset_cycle*=self.cycle_mult\n",
    "                    #reset_cycle=self.n_epoch+reset_cycle\n",
    "                    self.n_epoch=0\n",
    "                    self.ratio=self.end_lr/self.start_lr\n",
    "                    self.num_steps=self.reset_cycle\n",
    "                else:\n",
    "                    #self.lr*=(self.lr_decay**self.n_epoch)  \n",
    "                    #if self.n_epoch>1:\n",
    "                    self.wd*=self.wd_mult\n",
    "                    self.lr=self.lr*(self.end_lr/self.start_lr)**(1/self.num_steps)\n",
    "                    self.n_epoch+=1\n",
    "        \n",
    "\n",
    "                \n",
    "            for param_group in self.optimizer.param_groups:\n",
    "                param_group['lr']=self.lr\n",
    "                param_group['weight_decay']=self.wd\n",
    "          \n",
    "     "
   ]
  },
  {
   "cell_type": "code",
   "execution_count": 84,
   "metadata": {},
   "outputs": [],
   "source": [
    "device='cuda:1'"
   ]
  },
  {
   "cell_type": "code",
   "execution_count": 85,
   "metadata": {},
   "outputs": [],
   "source": [
    "cfobj=cf(n_users,n_emb_user,n_emb_item,n_items,min_rating,max_rating,denseCols,pretrain_wts,catCols,emb_szs,dropout_e,hidden,dropouts,error_type=\"mse\")"
   ]
  },
  {
   "cell_type": "code",
   "execution_count": 86,
   "metadata": {},
   "outputs": [],
   "source": [
    "cfobj=cfobj.to(device)"
   ]
  },
  {
   "cell_type": "code",
   "execution_count": 87,
   "metadata": {},
   "outputs": [
    {
     "data": {
      "text/plain": [
       "cf(\n",
       "  (emb_user): Embedding(6041, 25)\n",
       "  (emb_item): Embedding(3707, 25)\n",
       "  (ub): Embedding(6041, 1)\n",
       "  (ib): Embedding(3707, 1)\n",
       "  (embs_cat): ModuleList(\n",
       "    (0): Embedding(302, 50)\n",
       "    (1): Embedding(22, 10)\n",
       "    (2): Embedding(8, 3)\n",
       "    (3): Embedding(3, 1)\n",
       "  )\n",
       "  (emb_dropout): Dropout(p=0.1)\n",
       "  (lin1): Sequential(\n",
       "    (0): Linear(in_features=50, out_features=20, bias=True)\n",
       "    (1): ReLU()\n",
       "    (2): Dropout(p=0.2)\n",
       "  )\n",
       "  (lin_bias): Linear(in_features=3, out_features=1, bias=True)\n",
       "  (lin2): Sequential(\n",
       "    (0): Linear(in_features=350, out_features=3, bias=True)\n",
       "    (1): ReLU()\n",
       "    (2): Dropout(p=0.3)\n",
       "  )\n",
       "  (lin_cat): Sequential(\n",
       "    (0): Linear(in_features=64, out_features=5, bias=True)\n",
       "    (1): ReLU()\n",
       "    (2): Dropout(p=0.2)\n",
       "  )\n",
       "  (lin3): Sequential(\n",
       "    (0): Linear(in_features=29, out_features=10, bias=True)\n",
       "    (1): ReLU()\n",
       "    (2): Dropout(p=0.1)\n",
       "  )\n",
       "  (lin4): Linear(in_features=10, out_features=1, bias=True)\n",
       "  (sigmoid): Sigmoid()\n",
       "  (criterion): MSELoss()\n",
       ")"
      ]
     },
     "execution_count": 87,
     "metadata": {},
     "output_type": "execute_result"
    }
   ],
   "source": [
    "cfobj"
   ]
  },
  {
   "cell_type": "code",
   "execution_count": 88,
   "metadata": {},
   "outputs": [],
   "source": [
    "wd=1e-5\n",
    "optimizer=torch.optim.Adam(cfobj.parameters(),lr=5e-3,betas=(0.9,0.999), weight_decay=wd)\n",
    "learner=Learner(cfobj,optimizer,None,device,0,12000,0.25,cycle_mult=0)"
   ]
  },
  {
   "cell_type": "code",
   "execution_count": 89,
   "metadata": {},
   "outputs": [
    {
     "data": {
      "text/plain": [
       "6986"
      ]
     },
     "execution_count": 89,
     "metadata": {},
     "output_type": "execute_result"
    }
   ],
   "source": [
    "len(dltrain)"
   ]
  },
  {
   "cell_type": "code",
   "execution_count": 90,
   "metadata": {},
   "outputs": [],
   "source": [
    "learner.lr_find(1e-4,1e-1,dltrain,len(dltrain))"
   ]
  },
  {
   "cell_type": "code",
   "execution_count": 91,
   "metadata": {},
   "outputs": [
    {
     "data": {
      "image/png": "[encoded data removed]",
      "text/plain": [
       "<Figure size 432x288 with 1 Axes>"
      ]
     },
     "metadata": {
      "needs_background": "light"
     },
     "output_type": "display_data"
    }
   ],
   "source": [
    "learner.plot_lrs(50)"
   ]
  },
  {
   "cell_type": "code",
   "execution_count": 92,
   "metadata": {},
   "outputs": [
    {
     "data": {
      "image/png": "[encoded data removed]",
      "text/plain": [
       "<Figure size 432x288 with 1 Axes>"
      ]
     },
     "metadata": {
      "needs_background": "light"
     },
     "output_type": "display_data"
    }
   ],
   "source": [
    "learner.plot_lrs(10)"
   ]
  },
  {
   "cell_type": "code",
   "execution_count": 93,
   "metadata": {},
   "outputs": [
    {
     "data": {
      "image/png": "[encoded data removed]",
      "text/plain": [
       "<Figure size 432x288 with 1 Axes>"
      ]
     },
     "metadata": {
      "needs_background": "light"
     },
     "output_type": "display_data"
    }
   ],
   "source": [
    "learner.plot_lrs(1)"
   ]
  },
  {
   "cell_type": "code",
   "execution_count": 94,
   "metadata": {},
   "outputs": [],
   "source": [
    "del cfobj\n",
    "torch.cuda.empty_cache()"
   ]
  },
  {
   "cell_type": "code",
   "execution_count": 95,
   "metadata": {},
   "outputs": [],
   "source": [
    "pretrain_wts=pickle.load(open(f'{DATAPATH}/wts_embs','rb'))\n",
    "pretrain_wts=None"
   ]
  },
  {
   "cell_type": "code",
   "execution_count": 96,
   "metadata": {},
   "outputs": [],
   "source": [
    "cfobj=cf(n_users,n_emb_user,n_emb_item,n_items,min_rating,max_rating,denseCols,pretrain_wts,catCols,emb_szs,dropout_e,hidden,dropouts,error_type=\"mse\")\n",
    "cfobj=cfobj.to(device)"
   ]
  },
  {
   "cell_type": "code",
   "execution_count": 97,
   "metadata": {},
   "outputs": [],
   "source": [
    "if 1==0:\n",
    "    cfobj.emb_user.weight.requires_grad=False\n",
    "    cfobj.emb_item.weight.requires_grad=False\n",
    "    cfobj.ib.weight.requires_grad=False\n",
    "    cfobj.ub.weight.requires_grad=False"
   ]
  },
  {
   "cell_type": "code",
   "execution_count": 98,
   "metadata": {},
   "outputs": [],
   "source": [
    "wd=1e-5\n",
    "optimizer=torch.optim.Adam(cfobj.parameters(),lr=5e-3,betas=(0.9,0.999), weight_decay=wd)\n",
    "learner=Learner(cfobj,optimizer,None,device,0,12000,0.25,cycle_mult=2,start_lr=5e-3,end_lr=5e-4,wd_mult=1.15)"
   ]
  },
  {
   "cell_type": "code",
   "execution_count": 99,
   "metadata": {},
   "outputs": [
    {
     "name": "stdout",
     "output_type": "stream",
     "text": [
      "Epoch:0 Learning rate 0.005 Weight Decay 1e-05 Train Loss:0.8884206539984593                 Valid Loss:0.8681417952760138 Train RMSE:0.9399218570548182 Valid RMSE:0.9227332799789173 Train MSE:0.8884206539984593 Valid MSE:0.8681417952760138                 Train MAE:0.7498213027238914 Valid MAE:0.7349051784620642\n",
      "Epoch:1 Learning rate 0.0015811388300841897 Weight Decay 1.15e-05 Train Loss:0.8194635901338829                 Valid Loss:0.8303013850538233 Train RMSE:0.9031992478173949 Valid RMSE:0.9020533590054337 Train MSE:0.8194635901338829 Valid MSE:0.8303013850538233                 Train MAE:0.7159653833285806 Valid MAE:0.7159888152621767\n",
      "Epoch:2 Learning rate 0.0005 Weight Decay 1.3225e-05 Train Loss:0.7927490542244168                 Valid Loss:0.8162189997795551 Train RMSE:0.8882723534397569 Valid RMSE:0.8942202707819235 Train MSE:0.7927490542244168 Valid MSE:0.8162189997795551                 Train MAE:0.7027495938216994 Valid MAE:0.7092817845980135\n",
      "Epoch:3 Learning rate 0.005 Weight Decay 1e-05 Train Loss:0.8349230013448599                 Valid Loss:0.8606029571684479 Train RMSE:0.9116810590232508 Valid RMSE:0.9187320658118319 Train MSE:0.8349230013448599 Valid MSE:0.8606029571684479                 Train MAE:0.7239894419609904 Valid MAE:0.7313291790689577\n",
      "Epoch:4 Learning rate 0.0028117066259517455 Weight Decay 1.15e-05 Train Loss:0.8101877090098556                 Valid Loss:0.8218533207984827 Train RMSE:0.8980955807031523 Valid RMSE:0.897258288008809 Train MSE:0.8101877090098556 Valid MSE:0.8218533207984827                 Train MAE:0.711903554446848 Valid MAE:0.7104283326785154\n",
      "Epoch:5 Learning rate 0.0015811388300841897 Weight Decay 1.3225e-05 Train Loss:0.7915127398955457                 Valid Loss:0.8097699417567512 Train RMSE:0.8876464120944713 Valid RMSE:0.8906993060367748 Train MSE:0.7915127398955457 Valid MSE:0.8097699417567512                 Train MAE:0.7028082131298572 Valid MAE:0.7060478507969147\n",
      "Epoch:6 Learning rate 0.0008891397050194614 Weight Decay 1.5208749999999999e-05 Train Loss:0.7768434014799531                 Valid Loss:0.8018669968131655 Train RMSE:0.8793357980738089 Valid RMSE:0.886260239143371 Train MSE:0.7768434014799531 Valid MSE:0.8018669968131655                 Train MAE:0.6951699349469317 Valid MAE:0.7023573965732957\n"
     ]
    }
   ],
   "source": [
    "learner.run_epochs(dltrain,dlvalid,7)"
   ]
  },
  {
   "cell_type": "code",
   "execution_count": 80,
   "metadata": {},
   "outputs": [],
   "source": [
    "if 1==1:\n",
    "    cfobj.emb_user.weight.requires_grad=True\n",
    "    cfobj.emb_item.weight.requires_grad=True\n",
    "    cfobj.ib.weight.requires_grad=True\n",
    "    cfobj.ub.weight.requires_grad=True"
   ]
  },
  {
   "cell_type": "code",
   "execution_count": 81,
   "metadata": {},
   "outputs": [
    {
     "name": "stdout",
     "output_type": "stream",
     "text": [
      "Epoch:0 Learning rate 0.001 Weight Decay 0.0001 Train Loss:0.6812962663468539                 Valid Loss:0.7473489400577842 Train RMSE:0.8207794923322658 Valid RMSE:0.8488701379850226 Train MSE:0.6812962663468539 Valid MSE:0.7473489400577842                 Train MAE:0.6380626729646757 Valid MAE:0.6687435874287386\n",
      "Epoch:1 Learning rate 0.00031622776601683794 Weight Decay 0.00011499999999999999 Train Loss:0.610056478838196                 Valid Loss:0.7417618593443995 Train RMSE:0.7766043591734497 Valid RMSE:0.8448995352768308 Train MSE:0.610056478838196 Valid MSE:0.7417618593443995                 Train MAE:0.6010008610179484 Valid MAE:0.6631641819240144\n",
      "Epoch:2 Learning rate 0.0001 Weight Decay 0.00013225 Train Loss:0.5833027623356863                 Valid Loss:0.7405505899501883 Train RMSE:0.7593898251214651 Valid RMSE:0.8449224399791486 Train MSE:0.5833027623356863 Valid MSE:0.7405505899501883                 Train MAE:0.586141887528315 Valid MAE:0.6639356337348867\n",
      "Epoch:3 Learning rate 0.001 Weight Decay 0.0001 Train Loss:0.6087199387828368                 Valid Loss:0.7332478587671837 Train RMSE:0.775696827265163 Valid RMSE:0.8399266261898827 Train MSE:0.6087199387828368 Valid MSE:0.7332478587671837                 Train MAE:0.601424342772986 Valid MAE:0.6591840865819351\n",
      "Epoch:4 Learning rate 0.0005623413251903491 Weight Decay 0.00011499999999999999 Train Loss:0.5649303020731721                 Valid Loss:0.7428408952788537 Train RMSE:0.7474878002000226 Valid RMSE:0.8459588656445707 Train MSE:0.5649303020731721 Valid MSE:0.7428408952788537                 Train MAE:0.5788845513397729 Valid MAE:0.6625971999597846\n",
      "Epoch:5 Learning rate 0.00031622776601683794 Weight Decay 0.00013225 Train Loss:0.5337100022462569                 Valid Loss:0.7427898339047936 Train RMSE:0.7263410716705365 Valid RMSE:0.8463632539975633 Train MSE:0.5337100022462569 Valid MSE:0.7427898339047936                 Train MAE:0.5617315985288721 Valid MAE:0.6633568450530863\n",
      "Epoch:6 Learning rate 0.00017782794100389227 Weight Decay 0.00015208749999999998 Train Loss:0.5206236117720183                 Valid Loss:0.7432710667204413 Train RMSE:0.7172741618941185 Valid RMSE:0.8462734850752739 Train MSE:0.5206236117720183 Valid MSE:0.7432710667204413                 Train MAE:0.5534699787520688 Valid MAE:0.6618512465346674\n"
     ]
    }
   ],
   "source": [
    "if 1==1:\n",
    "    optimizer=torch.optim.Adam(cfobj.parameters(),lr=1e-3,betas=(0.9,0.999), weight_decay=wd)\n",
    "    learner=Learner(cfobj,optimizer,None,device,0,12000,0.25,cycle_mult=2,start_lr=1e-3,end_lr=1e-4,wd_mult=1.15)\n",
    "    learner.run_epochs(dltrain,dlvalid,7)"
   ]
  },
  {
   "cell_type": "code",
   "execution_count": 82,
   "metadata": {},
   "outputs": [],
   "source": [
    "learner.generate_scores=True"
   ]
  },
  {
   "cell_type": "code",
   "execution_count": 83,
   "metadata": {},
   "outputs": [
    {
     "data": {
      "text/plain": [
       "(0.7432710667204413, 0.6618512465346674, 0.8462734850752739)"
      ]
     },
     "execution_count": 83,
     "metadata": {},
     "output_type": "execute_result"
    }
   ],
   "source": [
    "learner.run_epoch(dlvalid,False)"
   ]
  },
  {
   "cell_type": "code",
   "execution_count": 84,
   "metadata": {},
   "outputs": [],
   "source": [
    "dfvalid['pred_dnnrec']=np.concatenate(learner.scores)"
   ]
  },
  {
   "cell_type": "code",
   "execution_count": 85,
   "metadata": {},
   "outputs": [
    {
     "data": {
      "text/plain": [
       "0.8616588857446327"
      ]
     },
     "execution_count": 85,
     "metadata": {},
     "output_type": "execute_result"
    }
   ],
   "source": [
    "np.sqrt(metrics.mean_squared_error(dfvalid['rating'],dfvalid['pred_dnnrec']))"
   ]
  },
  {
   "cell_type": "code",
   "execution_count": 86,
   "metadata": {},
   "outputs": [],
   "source": [
    "def score_by_group (dfvalid,predVar,groupVar='cold_start_group',method='global_avg'):\n",
    "    scores=[]\n",
    "    mae_scores=[]\n",
    "    rmse_scores=[]\n",
    "    r2_scores=[]\n",
    "    groups=dfvalid[groupVar].value_counts().index.tolist()\n",
    "    for group in groups:\n",
    "        df=dfvalid.loc[dfvalid[groupVar]==group]\n",
    "        actual=df['rating']\n",
    "        score=metrics.mean_squared_error(df['rating'],df[predVar])\n",
    "        rmse_score=np.sqrt(metrics.mean_squared_error(df['rating'],df[predVar]))\n",
    "        mae_score=metrics.mean_absolute_error(df['rating'],df[predVar])\n",
    "        r2_score=metrics.r2_score(df['rating'],df[predVar])\n",
    "        scores.append(score)\n",
    "        mae_scores.append(mae_score)\n",
    "        rmse_scores.append(rmse_score)\n",
    "        r2_scores.append(r2_score)\n",
    "    return pd.DataFrame({'method':method, 'mse':scores, 'rmse':rmse_scores, 'mae':mae_scores, 'r2_score':r2_scores, 'Cold Start Group':groups})"
   ]
  },
  {
   "cell_type": "code",
   "execution_count": 87,
   "metadata": {},
   "outputs": [
    {
     "data": {
      "text/html": [
       "<div>\n",
       "<style scoped>\n",
       "    .dataframe tbody tr th:only-of-type {\n",
       "        vertical-align: middle;\n",
       "    }\n",
       "\n",
       "    .dataframe tbody tr th {\n",
       "        vertical-align: top;\n",
       "    }\n",
       "\n",
       "    .dataframe thead th {\n",
       "        text-align: right;\n",
       "    }\n",
       "</style>\n",
       "<table border=\"1\" class=\"dataframe\">\n",
       "  <thead>\n",
       "    <tr style=\"text-align: right;\">\n",
       "      <th></th>\n",
       "      <th>method</th>\n",
       "      <th>mse</th>\n",
       "      <th>rmse</th>\n",
       "      <th>mae</th>\n",
       "      <th>r2_score</th>\n",
       "      <th>Cold Start Group</th>\n",
       "    </tr>\n",
       "  </thead>\n",
       "  <tbody>\n",
       "    <tr>\n",
       "      <th>0</th>\n",
       "      <td>dnnrec</td>\n",
       "      <td>0.736355</td>\n",
       "      <td>0.858111</td>\n",
       "      <td>0.657081</td>\n",
       "      <td>0.332833</td>\n",
       "      <td>No-cold-start</td>\n",
       "    </tr>\n",
       "    <tr>\n",
       "      <th>1</th>\n",
       "      <td>dnnrec</td>\n",
       "      <td>0.740721</td>\n",
       "      <td>0.860652</td>\n",
       "      <td>0.667503</td>\n",
       "      <td>0.426327</td>\n",
       "      <td>Item-Cold_start</td>\n",
       "    </tr>\n",
       "    <tr>\n",
       "      <th>2</th>\n",
       "      <td>dnnrec</td>\n",
       "      <td>1.470968</td>\n",
       "      <td>1.212835</td>\n",
       "      <td>1.108632</td>\n",
       "      <td>-0.601697</td>\n",
       "      <td>User-Cold-Start</td>\n",
       "    </tr>\n",
       "    <tr>\n",
       "      <th>0</th>\n",
       "      <td>dnnrec</td>\n",
       "      <td>0.736355</td>\n",
       "      <td>0.858111</td>\n",
       "      <td>0.657081</td>\n",
       "      <td>0.332833</td>\n",
       "      <td>0</td>\n",
       "    </tr>\n",
       "    <tr>\n",
       "      <th>1</th>\n",
       "      <td>dnnrec</td>\n",
       "      <td>0.811475</td>\n",
       "      <td>0.900819</td>\n",
       "      <td>0.710244</td>\n",
       "      <td>0.409747</td>\n",
       "      <td>1</td>\n",
       "    </tr>\n",
       "    <tr>\n",
       "      <th>0</th>\n",
       "      <td>dnnrec</td>\n",
       "      <td>0.742456</td>\n",
       "      <td>0.861659</td>\n",
       "      <td>0.661399</td>\n",
       "      <td>0.341999</td>\n",
       "      <td>0</td>\n",
       "    </tr>\n",
       "  </tbody>\n",
       "</table>\n",
       "</div>"
      ],
      "text/plain": [
       "   method       mse      rmse       mae  r2_score Cold Start Group\n",
       "0  dnnrec  0.736355  0.858111  0.657081  0.332833    No-cold-start\n",
       "1  dnnrec  0.740721  0.860652  0.667503  0.426327  Item-Cold_start\n",
       "2  dnnrec  1.470968  1.212835  1.108632 -0.601697  User-Cold-Start\n",
       "0  dnnrec  0.736355  0.858111  0.657081  0.332833                0\n",
       "1  dnnrec  0.811475  0.900819  0.710244  0.409747                1\n",
       "0  dnnrec  0.742456  0.861659  0.661399  0.341999                0"
      ]
     },
     "execution_count": 87,
     "metadata": {},
     "output_type": "execute_result"
    }
   ],
   "source": [
    "result_dnnrec=pd.concat([score_by_group(dfvalid,'pred_dnnrec','cold_start_group','dnnrec'),score_by_group(dfvalid,'pred_dnnrec','cold_start_bucket','dnnrec'),\\\n",
    "score_by_group(dfvalid,'pred_dnnrec','flag_train','dnnrec')],axis=0)\n",
    "result_dnnrec"
   ]
  },
  {
   "cell_type": "code",
   "execution_count": 68,
   "metadata": {},
   "outputs": [
    {
     "name": "stderr",
     "output_type": "stream",
     "text": [
      "/home/kirana/anaconda3/lib/python3.7/site-packages/torch/serialization.py:256: UserWarning: Couldn't retrieve source code for container of type cf. It won't be checked for correctness upon loading.\n",
      "  \"type \" + obj.__name__ + \". It won't be checked \"\n"
     ]
    }
   ],
   "source": [
    "torch.save(cfobj,f=f'{DATAPATH}/inter/cfobj_tl_0.8')\n",
    "torch.save(learner,f=f'{DATAPATH}/inter/cfobj_tl_learner_0.8')\n",
    "torch.save(optimizer,f=f'{DATAPATH}/inter/cfobj_tl_optimizer_0.8')\n",
    "torch.save(cfobj.state_dict(),f'{DATAPATH}/inter/cfjobj_tl_state_dict_0.8')\n",
    "torch.save(optimizer.state_dict(),f'{DATAPATH}/inter/optimizer_tl_state_dict_0.8')"
   ]
  },
  {
   "cell_type": "code",
   "execution_count": 69,
   "metadata": {},
   "outputs": [
    {
     "data": {
      "text/plain": [
       "(66, 6)"
      ]
     },
     "execution_count": 69,
     "metadata": {},
     "output_type": "execute_result"
    }
   ],
   "source": [
    "results_concat.shape"
   ]
  },
  {
   "cell_type": "code",
   "execution_count": 70,
   "metadata": {},
   "outputs": [],
   "source": [
    "results_concat=pd.concat([results_concat,result_dnnrec],axis=0)"
   ]
  },
  {
   "cell_type": "code",
   "execution_count": 71,
   "metadata": {},
   "outputs": [],
   "source": [
    "pickle.dump([df,dftrain,dfvalid,idx_to_user,idx_to_item,item_to_idx,user_to_idx,results_concat],open(f'{DATAPATH}/df_side_cold_runother_dnnrec.pkl','wb'))"
   ]
  },
  {
   "cell_type": "code",
   "execution_count": null,
   "metadata": {},
   "outputs": [],
   "source": []
  }
 ],
 "metadata": {
  "kernelspec": {
   "display_name": "Python 3",
   "language": "python",
   "name": "python3"
  },
  "language_info": {
   "codemirror_mode": {
    "name": "ipython",
    "version": 3
   },
   "file_extension": ".py",
   "mimetype": "text/x-python",
   "name": "python",
   "nbconvert_exporter": "python",
   "pygments_lexer": "ipython3",
   "version": "3.7.3"
  }
 },
 "nbformat": 4,
 "nbformat_minor": 2
}
