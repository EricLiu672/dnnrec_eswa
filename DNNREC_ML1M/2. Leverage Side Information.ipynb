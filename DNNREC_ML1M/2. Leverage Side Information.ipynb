{
 "cells": [
  {
   "cell_type": "code",
   "execution_count": 1,
   "metadata": {},
   "outputs": [],
   "source": [
    "import pickle"
   ]
  },
  {
   "cell_type": "code",
   "execution_count": 2,
   "metadata": {},
   "outputs": [],
   "source": [
    "PATH='/home/kirana/Documents/phd/experiment1_new/DNNREC_ML1M'\n",
    "DATAPATH='/home/kirana/Documents/final_dissertation_final/experiments/datasets/ml-1m'"
   ]
  },
  {
   "cell_type": "code",
   "execution_count": 3,
   "metadata": {},
   "outputs": [],
   "source": [
    "import pandas as pd\n",
    "import numpy as np\n",
    "import matplotlib.pyplot as plt\n",
    "import scipy as sp\n",
    "import sklearn as sklearn\n",
    "import datetime as dt \n",
    "import seaborn as sns\n",
    "import torch as torch\n",
    "from sklearn import metrics\n",
    "import pickle"
   ]
  },
  {
   "cell_type": "code",
   "execution_count": 4,
   "metadata": {},
   "outputs": [],
   "source": [
    "[dftrain,dfvalid]=pickle.load(open(f'{DATAPATH}/df.pkl','rb'))"
   ]
  },
  {
   "cell_type": "code",
   "execution_count": 5,
   "metadata": {},
   "outputs": [
    {
     "data": {
      "text/plain": [
       "((895738, 18), (104471, 18))"
      ]
     },
     "execution_count": 5,
     "metadata": {},
     "output_type": "execute_result"
    }
   ],
   "source": [
    "dftrain.shape, dfvalid.shape"
   ]
  },
  {
   "cell_type": "code",
   "execution_count": 6,
   "metadata": {},
   "outputs": [
    {
     "data": {
      "text/plain": [
       "Index(['age', 'flag_train', 'gender', 'genre', 'itemId', 'maxSeqNum', 'month',\n",
       "       'month_acq', 'occupation', 'rating', 'seqNum', 'timestamp', 'title',\n",
       "       'userId', 'year', 'year_acq', 'year_month_acq', 'zip'],\n",
       "      dtype='object')"
      ]
     },
     "execution_count": 6,
     "metadata": {},
     "output_type": "execute_result"
    }
   ],
   "source": [
    "dftrain.columns"
   ]
  },
  {
   "cell_type": "code",
   "execution_count": 7,
   "metadata": {},
   "outputs": [],
   "source": [
    "item_features=['genre','title']\n",
    "user_features=['gender','occupation','zip']"
   ]
  },
  {
   "cell_type": "code",
   "execution_count": 8,
   "metadata": {},
   "outputs": [
    {
     "data": {
      "text/plain": [
       "(                             genre  \\\n",
       " 0                           Comedy   \n",
       " 1                Children's|Sci-Fi   \n",
       " 2                     Comedy|Drama   \n",
       " 3  Action|Adventure|Fantasy|Sci-Fi   \n",
       " 4                       Comedy|War   \n",
       " \n",
       "                                               title  \n",
       " 0                    Stuart Saves His Family (1995)  \n",
       " 1                 Return from Witch Mountain (1978)  \n",
       " 2     Indian Summer (a.k.a. Alive & Kicking) (1996)  \n",
       " 3  Star Wars: Episode I - The Phantom Menace (1999)  \n",
       " 4                            In the Army Now (1994)  ,\n",
       "   gender  occupation    zip\n",
       " 0      M          12  30303\n",
       " 1      M          12  30303\n",
       " 2      M          12  30303\n",
       " 3      M          12  30303\n",
       " 4      M          12  30303)"
      ]
     },
     "execution_count": 8,
     "metadata": {},
     "output_type": "execute_result"
    }
   ],
   "source": [
    "dftrain[item_features].head(),dftrain[user_features].head()"
   ]
  },
  {
   "cell_type": "code",
   "execution_count": 9,
   "metadata": {},
   "outputs": [],
   "source": [
    "dftrain['genres']=[item.replace(\"|\", \" \") for item in dftrain['genre']]\n",
    "dfvalid['genres']=[item.replace(\"|\", \" \") for item in dfvalid['genre']]"
   ]
  },
  {
   "cell_type": "code",
   "execution_count": 10,
   "metadata": {},
   "outputs": [],
   "source": [
    "from sklearn import feature_extraction, preprocessing\n",
    "myvec_genre=sklearn.feature_extraction.text.CountVectorizer (ngram_range=(1,1),lowercase=True)\n",
    "one_hot_genre_train=myvec_genre.fit_transform(dftrain['genres'])\n",
    "one_hot_genre_valid=myvec_genre.transform(dfvalid['genres'])"
   ]
  },
  {
   "cell_type": "code",
   "execution_count": 11,
   "metadata": {},
   "outputs": [],
   "source": [
    "from sklearn import feature_extraction, preprocessing\n",
    "myvec_title=sklearn.feature_extraction.text.CountVectorizer (ngram_range=(1,1),lowercase=True,max_features=250)\n",
    "one_hot_title_train=myvec_title.fit_transform(dftrain['title'])\n",
    "one_hot_title_valid=myvec_title.transform(dfvalid['title'])"
   ]
  },
  {
   "cell_type": "code",
   "execution_count": 12,
   "metadata": {},
   "outputs": [],
   "source": [
    "from sklearn import feature_extraction, preprocessing\n",
    "myvec_tag=sklearn.feature_extraction.text.CountVectorizer (ngram_range=(1,1),lowercase=True,max_features=100)\n",
    "one_hot_tag_train=myvec_tag.fit_transform(dftrain['title'])\n",
    "one_hot_tag_valid=myvec_tag.transform(dfvalid['title'])"
   ]
  },
  {
   "cell_type": "code",
   "execution_count": 13,
   "metadata": {},
   "outputs": [
    {
     "data": {
      "text/plain": [
       "((895738, 250), (895738, 20), (895738, 100))"
      ]
     },
     "execution_count": 13,
     "metadata": {},
     "output_type": "execute_result"
    }
   ],
   "source": [
    "one_hot_title_train.shape, one_hot_genre_train.shape,one_hot_tag_train.shape"
   ]
  },
  {
   "cell_type": "code",
   "execution_count": 14,
   "metadata": {},
   "outputs": [
    {
     "data": {
      "text/plain": [
       "<895738x250 sparse matrix of type '<class 'numpy.int64'>'\n",
       "\twith 2019829 stored elements in Compressed Sparse Row format>"
      ]
     },
     "execution_count": 14,
     "metadata": {},
     "output_type": "execute_result"
    }
   ],
   "source": [
    "one_hot_title_train"
   ]
  },
  {
   "cell_type": "code",
   "execution_count": 15,
   "metadata": {},
   "outputs": [],
   "source": [
    "df_sideinfo_title_train=pd.DataFrame(one_hot_title_train.todense(),columns=['f_title_'+x for x in myvec_title.get_feature_names()])\n",
    "df_sideinfo_genre_train=pd.DataFrame(one_hot_genre_train.todense(),columns=['f_genre_'+x for x in myvec_genre.get_feature_names()])\n",
    "df_sideinfo_tag_train=pd.DataFrame(one_hot_tag_train.todense(),columns=['f_tag_'+x for x in myvec_tag.get_feature_names()])"
   ]
  },
  {
   "cell_type": "code",
   "execution_count": 16,
   "metadata": {},
   "outputs": [],
   "source": [
    "df_sideinfo_title_valid=pd.DataFrame(one_hot_title_valid.todense(),columns=['f_title_'+x for x in myvec_title.get_feature_names()])\n",
    "df_sideinfo_genre_valid=pd.DataFrame(one_hot_genre_valid.todense(),columns=['f_genre_'+x for x in myvec_genre.get_feature_names()])\n",
    "df_sideinfo_tag_valid=pd.DataFrame(one_hot_tag_valid.todense(),columns=['f_tag_'+x for x in myvec_tag.get_feature_names()])"
   ]
  },
  {
   "cell_type": "code",
   "execution_count": 17,
   "metadata": {},
   "outputs": [
    {
     "data": {
      "text/plain": [
       "((895738, 250), (895738, 20), (895738, 100))"
      ]
     },
     "execution_count": 17,
     "metadata": {},
     "output_type": "execute_result"
    }
   ],
   "source": [
    "df_sideinfo_title_train.shape,df_sideinfo_genre_train.shape,df_sideinfo_tag_train.shape"
   ]
  },
  {
   "cell_type": "code",
   "execution_count": 18,
   "metadata": {},
   "outputs": [
    {
     "data": {
      "text/plain": [
       "((104471, 250), (104471, 20), (104471, 100))"
      ]
     },
     "execution_count": 18,
     "metadata": {},
     "output_type": "execute_result"
    }
   ],
   "source": [
    "df_sideinfo_title_valid.shape,df_sideinfo_genre_valid.shape,df_sideinfo_tag_valid.shape"
   ]
  },
  {
   "cell_type": "code",
   "execution_count": 19,
   "metadata": {},
   "outputs": [
    {
     "data": {
      "text/plain": [
       "(895738, 19)"
      ]
     },
     "execution_count": 19,
     "metadata": {},
     "output_type": "execute_result"
    }
   ],
   "source": [
    "dftrain.shape"
   ]
  },
  {
   "cell_type": "code",
   "execution_count": 20,
   "metadata": {},
   "outputs": [
    {
     "data": {
      "text/plain": [
       "age                        int64\n",
       "flag_train                 int64\n",
       "gender                    object\n",
       "genre                     object\n",
       "itemId                     int64\n",
       "maxSeqNum                float64\n",
       "month                      int64\n",
       "month_acq                  int64\n",
       "occupation                 int64\n",
       "rating                     int64\n",
       "seqNum                     int64\n",
       "timestamp         datetime64[ns]\n",
       "title                     object\n",
       "userId                     int64\n",
       "year                       int64\n",
       "year_acq                   int64\n",
       "year_month_acq             int64\n",
       "zip                       object\n",
       "genres                    object\n",
       "dtype: object"
      ]
     },
     "execution_count": 20,
     "metadata": {},
     "output_type": "execute_result"
    }
   ],
   "source": [
    "dftrain.dtypes"
   ]
  },
  {
   "cell_type": "code",
   "execution_count": 21,
   "metadata": {},
   "outputs": [
    {
     "data": {
      "text/plain": [
       "((895738, 19), (895738, 250), (895738, 20), (895738, 100))"
      ]
     },
     "execution_count": 21,
     "metadata": {},
     "output_type": "execute_result"
    }
   ],
   "source": [
    "dftrain.shape,df_sideinfo_title_train.shape,df_sideinfo_genre_train.shape,df_sideinfo_tag_train.shape"
   ]
  },
  {
   "cell_type": "code",
   "execution_count": 22,
   "metadata": {},
   "outputs": [],
   "source": [
    "dftrain.reset_index(inplace=True)\n",
    "dfvalid.reset_index(inplace=True)"
   ]
  },
  {
   "cell_type": "code",
   "execution_count": 23,
   "metadata": {},
   "outputs": [],
   "source": [
    "dftrain=pd.concat([dftrain,df_sideinfo_title_train,df_sideinfo_genre_train,df_sideinfo_tag_train],axis=1)"
   ]
  },
  {
   "cell_type": "code",
   "execution_count": 24,
   "metadata": {},
   "outputs": [],
   "source": [
    "dfvalid=pd.concat([dfvalid,df_sideinfo_title_valid,df_sideinfo_genre_valid,df_sideinfo_tag_valid],axis=1)"
   ]
  },
  {
   "cell_type": "code",
   "execution_count": 25,
   "metadata": {},
   "outputs": [
    {
     "data": {
      "text/plain": [
       "((895738, 390), (104471, 390))"
      ]
     },
     "execution_count": 25,
     "metadata": {},
     "output_type": "execute_result"
    }
   ],
   "source": [
    "dftrain.shape,dfvalid.shape"
   ]
  },
  {
   "cell_type": "code",
   "execution_count": 26,
   "metadata": {},
   "outputs": [
    {
     "data": {
      "text/plain": [
       "index                        int64\n",
       "age                          int64\n",
       "flag_train                   int64\n",
       "gender                      object\n",
       "genre                       object\n",
       "itemId                       int64\n",
       "maxSeqNum                  float64\n",
       "month                        int64\n",
       "month_acq                    int64\n",
       "occupation                   int64\n",
       "rating                       int64\n",
       "seqNum                       int64\n",
       "timestamp           datetime64[ns]\n",
       "title                       object\n",
       "userId                       int64\n",
       "year                         int64\n",
       "year_acq                     int64\n",
       "year_month_acq               int64\n",
       "zip                         object\n",
       "genres                      object\n",
       "f_title_1939                 int64\n",
       "f_title_1940                 int64\n",
       "f_title_1941                 int64\n",
       "f_title_1942                 int64\n",
       "f_title_1944                 int64\n",
       "f_title_1946                 int64\n",
       "f_title_1950                 int64\n",
       "f_title_1951                 int64\n",
       "f_title_1953                 int64\n",
       "f_title_1954                 int64\n",
       "                         ...      \n",
       "f_tag_little                 int64\n",
       "f_tag_lost                   int64\n",
       "f_tag_love                   int64\n",
       "f_tag_man                    int64\n",
       "f_tag_me                     int64\n",
       "f_tag_men                    int64\n",
       "f_tag_my                     int64\n",
       "f_tag_new                    int64\n",
       "f_tag_night                  int64\n",
       "f_tag_of                     int64\n",
       "f_tag_on                     int64\n",
       "f_tag_one                    int64\n",
       "f_tag_park                   int64\n",
       "f_tag_part                   int64\n",
       "f_tag_red                    int64\n",
       "f_tag_return                 int64\n",
       "f_tag_run                    int64\n",
       "f_tag_space                  int64\n",
       "f_tag_star                   int64\n",
       "f_tag_story                  int64\n",
       "f_tag_terminator             int64\n",
       "f_tag_the                    int64\n",
       "f_tag_to                     int64\n",
       "f_tag_trek                   int64\n",
       "f_tag_wars                   int64\n",
       "f_tag_weapon                 int64\n",
       "f_tag_who                    int64\n",
       "f_tag_with                   int64\n",
       "f_tag_world                  int64\n",
       "f_tag_you                    int64\n",
       "Length: 390, dtype: object"
      ]
     },
     "execution_count": 26,
     "metadata": {},
     "output_type": "execute_result"
    }
   ],
   "source": [
    "dftrain.dtypes"
   ]
  },
  {
   "cell_type": "code",
   "execution_count": 27,
   "metadata": {},
   "outputs": [
    {
     "data": {
      "text/plain": [
       "'/home/kirana/Documents/final_dissertation_final/experiments/datasets/ml-1m'"
      ]
     },
     "execution_count": 27,
     "metadata": {},
     "output_type": "execute_result"
    }
   ],
   "source": [
    "DATAPATH"
   ]
  },
  {
   "cell_type": "code",
   "execution_count": 28,
   "metadata": {},
   "outputs": [],
   "source": [
    "pickle.dump([dftrain,dfvalid],open(f'{DATAPATH}/df_side.pkl','wb'))"
   ]
  },
  {
   "cell_type": "code",
   "execution_count": null,
   "metadata": {},
   "outputs": [],
   "source": []
  },
  {
   "cell_type": "code",
   "execution_count": null,
   "metadata": {},
   "outputs": [],
   "source": []
  },
  {
   "cell_type": "code",
   "execution_count": null,
   "metadata": {},
   "outputs": [],
   "source": []
  },
  {
   "cell_type": "code",
   "execution_count": null,
   "metadata": {},
   "outputs": [],
   "source": []
  },
  {
   "cell_type": "code",
   "execution_count": null,
   "metadata": {},
   "outputs": [],
   "source": []
  },
  {
   "cell_type": "code",
   "execution_count": null,
   "metadata": {},
   "outputs": [],
   "source": []
  },
  {
   "cell_type": "code",
   "execution_count": null,
   "metadata": {},
   "outputs": [],
   "source": []
  },
  {
   "cell_type": "code",
   "execution_count": null,
   "metadata": {},
   "outputs": [],
   "source": []
  },
  {
   "cell_type": "code",
   "execution_count": null,
   "metadata": {},
   "outputs": [],
   "source": []
  },
  {
   "cell_type": "code",
   "execution_count": null,
   "metadata": {},
   "outputs": [],
   "source": []
  },
  {
   "cell_type": "code",
   "execution_count": null,
   "metadata": {},
   "outputs": [],
   "source": []
  },
  {
   "cell_type": "code",
   "execution_count": null,
   "metadata": {},
   "outputs": [],
   "source": []
  },
  {
   "cell_type": "code",
   "execution_count": null,
   "metadata": {},
   "outputs": [],
   "source": []
  },
  {
   "cell_type": "code",
   "execution_count": null,
   "metadata": {},
   "outputs": [],
   "source": []
  },
  {
   "cell_type": "code",
   "execution_count": null,
   "metadata": {},
   "outputs": [],
   "source": []
  },
  {
   "cell_type": "code",
   "execution_count": null,
   "metadata": {},
   "outputs": [],
   "source": []
  },
  {
   "cell_type": "code",
   "execution_count": null,
   "metadata": {},
   "outputs": [],
   "source": []
  },
  {
   "cell_type": "code",
   "execution_count": null,
   "metadata": {},
   "outputs": [],
   "source": []
  },
  {
   "cell_type": "code",
   "execution_count": null,
   "metadata": {},
   "outputs": [],
   "source": []
  }
 ],
 "metadata": {
  "kernelspec": {
   "display_name": "Python 3",
   "language": "python",
   "name": "python3"
  },
  "language_info": {
   "codemirror_mode": {
    "name": "ipython",
    "version": 3
   },
   "file_extension": ".py",
   "mimetype": "text/x-python",
   "name": "python",
   "nbconvert_exporter": "python",
   "pygments_lexer": "ipython3",
   "version": "3.7.3"
  }
 },
 "nbformat": 4,
 "nbformat_minor": 2
}
