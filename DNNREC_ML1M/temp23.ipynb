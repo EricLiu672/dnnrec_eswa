{
 "cells": [
  {
   "cell_type": "code",
   "execution_count": 2,
   "metadata": {},
   "outputs": [],
   "source": [
    "PATH='/home/kirana/Documents/phd/experiment1_new/DNNREC_ML1M'\n",
    "DATAPATH='/home/kirana/Documents/final_dissertation_final/experiments/datasets/ml-1m'"
   ]
  },
  {
   "cell_type": "code",
   "execution_count": 3,
   "metadata": {},
   "outputs": [],
   "source": [
    "import pandas as pd\n",
    "import numpy as np\n",
    "import matplotlib.pyplot as plt\n",
    "import sklearn\n",
    "import os\n",
    "import pickle\n",
    "import torch\n",
    "from torch.utils.data import Dataset, DataLoader\n",
    "from torch import nn\n",
    "import pickle\n",
    "from sklearn import metrics"
   ]
  },
  {
   "cell_type": "code",
   "execution_count": 4,
   "metadata": {},
   "outputs": [],
   "source": [
    "[dftrain,dfvalid,results_concat]=pickle.load(open(f'{DATAPATH}/df_side_cold_runother.pkl','rb'))"
   ]
  },
  {
   "cell_type": "code",
   "execution_count": 5,
   "metadata": {},
   "outputs": [],
   "source": [
    "df=pd.concat([dftrain,dfvalid[dftrain.columns]],axis=0)"
   ]
  },
  {
   "cell_type": "code",
   "execution_count": 6,
   "metadata": {},
   "outputs": [],
   "source": [
    "user_to_idx={j:i+1 for i, j in enumerate(df['userId'].unique())}\n",
    "item_to_idx={j:i+1 for i,j in enumerate(df['itemId'].unique())}\n",
    "idx_to_user={i+1:j for i, j in enumerate(df['userId'].unique())}\n",
    "idx_to_item={i+1:j for i,j in enumerate(df['itemId'].unique())}"
   ]
  },
  {
   "cell_type": "code",
   "execution_count": 7,
   "metadata": {},
   "outputs": [],
   "source": [
    "dftrain['user_idx']=[user_to_idx[i] for i in dftrain['userId']]\n",
    "dftrain['item_idx']=[item_to_idx[i] for i in dftrain['itemId']]"
   ]
  },
  {
   "cell_type": "code",
   "execution_count": 8,
   "metadata": {},
   "outputs": [],
   "source": [
    "dfvalid['user_idx']=[user_to_idx[i] for i in dfvalid['userId']]\n",
    "dfvalid['item_idx']=[item_to_idx[i] for i in dfvalid['itemId']]"
   ]
  },
  {
   "cell_type": "code",
   "execution_count": 9,
   "metadata": {},
   "outputs": [],
   "source": [
    "pickle.dump([df, dftrain,dfvalid,idx_to_user,idx_to_item,item_to_idx,user_to_idx],open(f'{DATAPATH}/reads.pkl','wb'))"
   ]
  },
  {
   "cell_type": "markdown",
   "metadata": {},
   "source": [
    "### Dataset and DataLoader"
   ]
  },
  {
   "cell_type": "code",
   "execution_count": 10,
   "metadata": {},
   "outputs": [],
   "source": [
    "class cfdata (torch.utils.data.dataset.Dataset):\n",
    "    def __init__(self,dfX,dfY):\n",
    "        self.dfX,self.dfY=dfX,dfY\n",
    "        \n",
    "    def __len__ (self):\n",
    "        return self.dfX.shape[0]\n",
    "    \n",
    "    def __getitem__ (self, idx):\n",
    "        return torch.LongTensor(self.dfX.iloc[idx].values),torch.FloatTensor([self.dfY.values[idx]])"
   ]
  },
  {
   "cell_type": "code",
   "execution_count": 11,
   "metadata": {},
   "outputs": [],
   "source": [
    "dstrain=cfdata(dftrain[['user_idx','item_idx']],dftrain['rating'])\n",
    "dsvalid=cfdata(dfvalid[['user_idx','item_idx']],dfvalid['rating'])"
   ]
  },
  {
   "cell_type": "code",
   "execution_count": 12,
   "metadata": {},
   "outputs": [
    {
     "data": {
      "text/plain": [
       "(895738, 392)"
      ]
     },
     "execution_count": 12,
     "metadata": {},
     "output_type": "execute_result"
    }
   ],
   "source": [
    "dftrain.shape"
   ]
  },
  {
   "cell_type": "code",
   "execution_count": 17,
   "metadata": {},
   "outputs": [],
   "source": [
    "bs=128"
   ]
  },
  {
   "cell_type": "code",
   "execution_count": 18,
   "metadata": {},
   "outputs": [],
   "source": [
    "dltrain=DataLoader(dstrain,bs,True)"
   ]
  },
  {
   "cell_type": "code",
   "execution_count": 19,
   "metadata": {},
   "outputs": [],
   "source": [
    "dlvalid=DataLoader(dsvalid,bs,False)"
   ]
  },
  {
   "cell_type": "code",
   "execution_count": 20,
   "metadata": {},
   "outputs": [
    {
     "data": {
      "text/plain": [
       "(6040, 3706)"
      ]
     },
     "execution_count": 20,
     "metadata": {},
     "output_type": "execute_result"
    }
   ],
   "source": [
    "len(user_to_idx),len(item_to_idx)"
   ]
  },
  {
   "cell_type": "markdown",
   "metadata": {},
   "source": [
    "## Model Architecture"
   ]
  },
  {
   "cell_type": "code",
   "execution_count": 21,
   "metadata": {},
   "outputs": [],
   "source": [
    "n_users=len(user_to_idx)\n",
    "n_items=len(item_to_idx)\n",
    "n_emb_user=50\n",
    "n_emb_item=50\n",
    "min_rating=min(dftrain['rating'])\n",
    "max_rating=max(dftrain['rating'])\n",
    "dropout_e=0.05\n"
   ]
  },
  {
   "cell_type": "code",
   "execution_count": 22,
   "metadata": {},
   "outputs": [
    {
     "data": {
      "text/plain": [
       "6040"
      ]
     },
     "execution_count": 22,
     "metadata": {},
     "output_type": "execute_result"
    }
   ],
   "source": [
    "n_users"
   ]
  },
  {
   "cell_type": "code",
   "execution_count": 23,
   "metadata": {},
   "outputs": [],
   "source": [
    "class cf(nn.Module):    \n",
    "    def __init__(self,n_users,n_emb_user,n_emb_item,n_items,min_rating,max_rating,dropout_e=0.01):\n",
    "        super().__init__()\n",
    "        self.n_users,self.n_emb_user,self.n_emb_item,self.n_items,self.min_rating,self.max_rating=\\\n",
    "                    n_users,n_emb_user,n_emb_item,n_items,min_rating,max_rating\n",
    "        self.dropout_e=dropout_e\n",
    "        self.create_architecture()\n",
    "        self.init_parameters()\n",
    "        self.criterion=nn.MSELoss()\n",
    "        \n",
    "        \n",
    "    def create_architecture(self):\n",
    "        self.emb_user=nn.Embedding(self.n_users+1,self.n_emb_user)\n",
    "        self.emb_item=nn.Embedding(self.n_items+1,self.n_emb_item)\n",
    "        self.emb_dropout=nn.Dropout(self.dropout_e)\n",
    "        self.ub=nn.Embedding(self.n_users+1,1)\n",
    "        self.ib=nn.Embedding(self.n_items+1,1)\n",
    "\n",
    "        self.sigmoid=nn.Sigmoid()\n",
    "        \n",
    "        \n",
    "    def init_parameters(self):\n",
    "        nn.init.kaiming_normal_(self.emb_user.weight.data)\n",
    "        nn.init.kaiming_normal_(self.emb_item.weight.data)\n",
    "        nn.init.kaiming_normal_(self.ub.weight.data)\n",
    "        nn.init.kaiming_normal_(self.ib.weight.data)\n",
    "\n",
    "       \n",
    "    def forward (self,Xb,Yb):               \n",
    "        users=self.emb_dropout(self.emb_user(Xb[:,0]))\n",
    "        items=self.emb_dropout(self.emb_item(Xb[:,1]))\n",
    "        users_bias=self.emb_dropout(self.ub(Xb[:,0]))\n",
    "        items_bias=self.emb_dropout(self.ib(Xb[:,1]))\n",
    "\n",
    "        out=(users*items).sum(1)+users_bias.squeeze()+items_bias.squeeze()\n",
    "        out=self.sigmoid(out)\n",
    "        preds=out*(self.max_rating-self.min_rating)+self.min_rating\n",
    "        preds=preds.view(-1,1)\n",
    "        loss=self.criterion(preds,Yb)\n",
    "        return preds,loss"
   ]
  },
  {
   "cell_type": "code",
   "execution_count": 24,
   "metadata": {},
   "outputs": [
    {
     "data": {
      "text/plain": [
       "6040"
      ]
     },
     "execution_count": 24,
     "metadata": {},
     "output_type": "execute_result"
    }
   ],
   "source": [
    "n_users"
   ]
  },
  {
   "cell_type": "code",
   "execution_count": 25,
   "metadata": {},
   "outputs": [],
   "source": [
    "cfobj=cf(n_users,n_emb_user,n_emb_item,n_items,min_rating,max_rating,dropout_e)"
   ]
  },
  {
   "cell_type": "code",
   "execution_count": 26,
   "metadata": {},
   "outputs": [
    {
     "data": {
      "text/plain": [
       "cf(\n",
       "  (emb_user): Embedding(6041, 50)\n",
       "  (emb_item): Embedding(3707, 50)\n",
       "  (emb_dropout): Dropout(p=0.05)\n",
       "  (ub): Embedding(6041, 1)\n",
       "  (ib): Embedding(3707, 1)\n",
       "  (sigmoid): Sigmoid()\n",
       "  (criterion): MSELoss()\n",
       ")"
      ]
     },
     "execution_count": 26,
     "metadata": {},
     "output_type": "execute_result"
    }
   ],
   "source": [
    "cfobj"
   ]
  },
  {
   "cell_type": "code",
   "execution_count": 27,
   "metadata": {},
   "outputs": [],
   "source": [
    "for Xb, Yb in dltrain:\n",
    "    break"
   ]
  },
  {
   "cell_type": "code",
   "execution_count": 28,
   "metadata": {},
   "outputs": [
    {
     "data": {
      "text/plain": [
       "(torch.Size([128, 2]), torch.Size([128, 1]))"
      ]
     },
     "execution_count": 28,
     "metadata": {},
     "output_type": "execute_result"
    }
   ],
   "source": [
    "Xb.shape, Yb.shape"
   ]
  },
  {
   "cell_type": "code",
   "execution_count": 29,
   "metadata": {},
   "outputs": [
    {
     "data": {
      "text/plain": [
       "(tensor([[4.3961],\n",
       "         [1.7783],\n",
       "         [4.6225],\n",
       "         [2.7853],\n",
       "         [1.1216],\n",
       "         [2.9249],\n",
       "         [4.6643],\n",
       "         [1.1845],\n",
       "         [3.6859],\n",
       "         [3.4657],\n",
       "         [3.5736],\n",
       "         [1.4775],\n",
       "         [4.9823],\n",
       "         [4.9079],\n",
       "         [1.6785],\n",
       "         [4.9789],\n",
       "         [1.6823],\n",
       "         [4.5169],\n",
       "         [4.9702],\n",
       "         [4.7900],\n",
       "         [3.6506],\n",
       "         [2.1861],\n",
       "         [4.6566],\n",
       "         [1.0675],\n",
       "         [1.9232],\n",
       "         [4.6715],\n",
       "         [1.9954],\n",
       "         [4.6638],\n",
       "         [3.4747],\n",
       "         [1.5640],\n",
       "         [3.9336],\n",
       "         [4.9103],\n",
       "         [4.8252],\n",
       "         [2.9607],\n",
       "         [2.6314],\n",
       "         [2.8057],\n",
       "         [2.2520],\n",
       "         [1.5998],\n",
       "         [3.1344],\n",
       "         [1.7419],\n",
       "         [3.3362],\n",
       "         [4.6398],\n",
       "         [3.0261],\n",
       "         [2.2112],\n",
       "         [1.2707],\n",
       "         [4.8945],\n",
       "         [1.0201],\n",
       "         [1.4228],\n",
       "         [1.5543],\n",
       "         [3.2611],\n",
       "         [4.5465],\n",
       "         [3.6398],\n",
       "         [4.0737],\n",
       "         [3.6331],\n",
       "         [1.1058],\n",
       "         [2.0241],\n",
       "         [1.4763],\n",
       "         [3.7664],\n",
       "         [1.6387],\n",
       "         [3.9635],\n",
       "         [4.4810],\n",
       "         [4.5164],\n",
       "         [1.8694],\n",
       "         [1.8652],\n",
       "         [3.8206],\n",
       "         [4.6053],\n",
       "         [4.4359],\n",
       "         [4.2381],\n",
       "         [1.9957],\n",
       "         [1.5314],\n",
       "         [3.2429],\n",
       "         [1.7506],\n",
       "         [1.0184],\n",
       "         [3.9968],\n",
       "         [4.8061],\n",
       "         [2.5500],\n",
       "         [4.7768],\n",
       "         [2.1933],\n",
       "         [3.5524],\n",
       "         [4.5005],\n",
       "         [2.5660],\n",
       "         [1.0544],\n",
       "         [3.6885],\n",
       "         [3.7724],\n",
       "         [3.1222],\n",
       "         [1.2167],\n",
       "         [2.6378],\n",
       "         [3.5170],\n",
       "         [4.5389],\n",
       "         [4.8333],\n",
       "         [1.5214],\n",
       "         [3.2776],\n",
       "         [4.5961],\n",
       "         [1.5486],\n",
       "         [1.1954],\n",
       "         [4.1449],\n",
       "         [2.0657],\n",
       "         [4.9452],\n",
       "         [4.8081],\n",
       "         [4.3045],\n",
       "         [2.8860],\n",
       "         [1.4387],\n",
       "         [4.6982],\n",
       "         [4.9172],\n",
       "         [4.9450],\n",
       "         [3.0913],\n",
       "         [3.2600],\n",
       "         [2.8001],\n",
       "         [1.7869],\n",
       "         [3.8554],\n",
       "         [4.9500],\n",
       "         [2.9298],\n",
       "         [3.9507],\n",
       "         [1.8113],\n",
       "         [1.2693],\n",
       "         [3.7914],\n",
       "         [1.6458],\n",
       "         [4.1601],\n",
       "         [4.7380],\n",
       "         [1.8097],\n",
       "         [1.5786],\n",
       "         [3.7636],\n",
       "         [3.1469],\n",
       "         [2.8423],\n",
       "         [4.9979],\n",
       "         [1.2000],\n",
       "         [1.5679],\n",
       "         [2.2571]], grad_fn=<ViewBackward>),\n",
       " tensor(3.3411, grad_fn=<MseLossBackward>))"
      ]
     },
     "execution_count": 29,
     "metadata": {},
     "output_type": "execute_result"
    }
   ],
   "source": [
    "cfobj.forward(Xb,Yb)"
   ]
  },
  {
   "cell_type": "markdown",
   "metadata": {},
   "source": [
    "## Learner"
   ]
  },
  {
   "cell_type": "code",
   "execution_count": 30,
   "metadata": {},
   "outputs": [],
   "source": [
    "class Learner():\n",
    "    def __init__(self,model,optimizer,metric_fn,device,bptt=12,print_every=5,clip_val=None,\\\n",
    "                 cycle_mult=0,lr_decay=0.7,wd_mult=1.1,start_lr=2e-2, end_lr=5e-4,error_type=\"mse\",\n",
    "                cycle_const=False):\n",
    "        self.model,self.optimizer,self.metric_fn,self.device,self.print_every,self.bptt,self.losses,self.clip_val=\\\n",
    "            model,optimizer,metric_fn,device,print_every,bptt,[],clip_val\n",
    "        self.n_epochs=1\n",
    "        self.cycle_const=cycle_const\n",
    "        self.cycle_mult,self.lr_decay=cycle_mult,lr_decay\n",
    "        self.wd_mult=wd_mult\n",
    "        for param_group in self.optimizer.param_groups:\n",
    "            self.start_lr=param_group['lr']\n",
    "            self.start_wd=param_group['weight_decay']\n",
    "        self.wd=self.start_wd\n",
    "        self.lr=self.start_lr\n",
    "        self.end_lr=end_lr\n",
    "        self.n_epoch=0\n",
    "        self.lrs=[1e-2,5e-3,1e-4,5e-4]\n",
    "        self.preds,self.preds_valid,self.trainY,self.actual=[],[],[],[]\n",
    "        self.ratio=self.end_lr/self.start_lr\n",
    "        self.num_steps=self.cycle_mult\n",
    "        self.reset_cycle=self.cycle_mult\n",
    "        self.error_type=error_type\n",
    "        self.scores=[]\n",
    "        self.generate_scores=False\n",
    "        \n",
    "    def fit (self,Xb,Yb,mode_train=True):\n",
    "        if mode_train:\n",
    "            self.model.train()\n",
    "        else:\n",
    "            self.model.eval()\n",
    "        \n",
    "        #import pdb\n",
    "        #pdb.set_trace()\n",
    "        preds,loss=self.model(Xb,Yb)\n",
    "\n",
    "     \n",
    "        if mode_train:\n",
    "            if 1==0:\n",
    "                lr =self.lrs[torch.randint(0,4,(1,))]\n",
    "                for param_group in self.optimizer.param_groups:\n",
    "                    param_group['lr']=lr\n",
    "            \n",
    "            self.optimizer.zero_grad()\n",
    "            loss.backward()\n",
    "            self.optimizer.step()\n",
    "        myloss=loss.item()\n",
    "    \n",
    "        \n",
    "        with torch.no_grad():\n",
    "            if self.error_type == \"mse\":\n",
    "                acc=nn.L1Loss() (preds,Yb)\n",
    "                myrmse=np.sqrt(myloss)\n",
    "            else:\n",
    "                acc=nn.MSELoss() (preds,Yb)\n",
    "                myrmse=np.sqrt(acc.item())\n",
    "            acc=acc.item()\n",
    "                 \n",
    "        if mode_train==False:\n",
    "            if self.generate_scores:\n",
    "                self.scores.append(preds.detach().cpu().numpy().flatten())\n",
    "        del preds\n",
    "        del loss\n",
    "        \n",
    "        if self.clip_val is not None:\n",
    "            torch.nn.utils.clip_grad_norm_(self.model.parameters(), self.clip_val)\n",
    "        \n",
    "        return myloss, acc, myrmse\n",
    "    \n",
    "    def lr_find (self,start_lr,end_lr,iterator,n_batch):\n",
    "        losses,lrs=[],[]\n",
    "        ratio=end_lr/start_lr\n",
    "        num_steps=n_batch\n",
    "        lr=start_lr\n",
    "        for i in range(num_steps):            \n",
    "            lr=lr*(end_lr/start_lr)**(1/num_steps)\n",
    "            lrs.append(lr)\n",
    "        self.lrs=lrs\n",
    "        self.run_epoch(iterator,mode_train=True,lrs=lrs)\n",
    "    \n",
    "    def run_epoch(self,iterator,mode_train,lrs=None):\n",
    "        epoch_loss,epoch_acc,i,k=0,0,0,0\n",
    "        epoch_rmse=0\n",
    "\n",
    "        for Xb,Yb in iterator:\n",
    "            Xb=Xb.to(self.device)\n",
    "            Yb=Yb.to(self.device)\n",
    "            \n",
    "            if lrs is not None:\n",
    "                lr=lrs[k]\n",
    "                for param_group in self.optimizer.param_groups:\n",
    "                    param_group['lr']=lr \n",
    "            \n",
    "            loss,acc,myrmse=self.fit(Xb,Yb,mode_train)\n",
    "            \n",
    "            if lrs is not None:\n",
    "                self.losses.append(loss)\n",
    "\n",
    "            epoch_loss+=loss\n",
    "            epoch_acc+=acc\n",
    "            epoch_rmse+=myrmse\n",
    "            \n",
    "            k=k+1\n",
    "            if k%self.print_every == 0:\n",
    "                if k:\n",
    "                    print (f'Batch:{k} {epoch_loss/(k)}  ')  \n",
    "                    torch.cuda.empty_cache()\n",
    "\n",
    "        epoch_loss=epoch_loss/len(iterator)\n",
    "        epoch_acc=epoch_acc/len(iterator)\n",
    "        epoch_rmse=epoch_rmse/len(iterator)\n",
    "            \n",
    "        return epoch_loss,epoch_acc,epoch_rmse\n",
    "    \n",
    "    def plot_lrs(self, n_roll=1,ylim=None,xlim=None):\n",
    "        import seaborn as sns\n",
    "        ax=sns.lineplot(x=self.lrs,y=pd.Series(self.losses).rolling(n_roll).mean())\n",
    "        ax.set_xscale('log')\n",
    "        ax.set_ylabel('Loss')\n",
    "        ax.set_xlabel('Learning Rate')\n",
    "        if ylim is not None:\n",
    "            plt.ylim(ylim)\n",
    "        if xlim is not None:\n",
    "            plt.xlim(xlim)\n",
    "\n",
    "     \n",
    "    def run_epochs(self,dltrain,dlvalid,n_epochs=1):              \n",
    "        for epoch in range(n_epochs):                \n",
    "            loss,acc,rmse=self.run_epoch(dltrain,True)\n",
    "\n",
    "            lossv,accv,rmsev=self.run_epoch(dlvalid,mode_train=False)\n",
    "           \n",
    "            if self.error_type==\"mse\":\n",
    "                loss_mse=loss\n",
    "                loss_rmse=rmse\n",
    "                loss_mae=acc\n",
    "                lossv_mse=lossv\n",
    "                lossv_rmse=rmsev\n",
    "                lossv_mae=accv\n",
    "                \n",
    "            else:\n",
    "                loss_mse=acc\n",
    "                loss_rmse=rmse\n",
    "                loss_mae=loss\n",
    "                lossv_mse=accv\n",
    "                lossv_rmse=rmsev\n",
    "                lossv_mae=lossv\n",
    "            \n",
    "            print (f'Epoch:{epoch} Learning rate {self.lr} Weight Decay {self.wd} Train Loss:{loss} \\\n",
    "                Valid Loss:{lossv} Train RMSE:{loss_rmse} Valid RMSE:{lossv_rmse} Train MSE:{loss_mse} Valid MSE:{lossv_mse} \\\n",
    "                Train MAE:{loss_mae} Valid MAE:{lossv_mae}')\n",
    "\n",
    "              \n",
    "         \n",
    "     \n",
    "            if self.cycle_mult:\n",
    "                if self.n_epoch==self.reset_cycle:\n",
    "                    self.lr=self.start_lr\n",
    "                    self.wd=self.start_wd\n",
    "                    if self.cycle_const == False:\n",
    "                        self.reset_cycle*=self.cycle_mult\n",
    "                    #reset_cycle=self.n_epoch+reset_cycle\n",
    "                    self.n_epoch=0\n",
    "                    self.ratio=self.end_lr/self.start_lr\n",
    "                    self.num_steps=self.reset_cycle\n",
    "                else:\n",
    "                    #self.lr*=(self.lr_decay**self.n_epoch)  \n",
    "                    #if self.n_epoch>1:\n",
    "                    self.wd*=self.wd_mult\n",
    "                    self.lr=self.lr*(self.end_lr/self.start_lr)**(1/self.num_steps)\n",
    "                    self.n_epoch+=1\n",
    "        \n",
    "\n",
    "                \n",
    "            for param_group in self.optimizer.param_groups:\n",
    "                param_group['lr']=self.lr\n",
    "                param_group['weight_decay']=self.wd\n",
    "          \n",
    "     "
   ]
  },
  {
   "cell_type": "code",
   "execution_count": 31,
   "metadata": {},
   "outputs": [],
   "source": [
    "if 1==1:\n",
    "    del cfobj\n",
    "    torch.cuda.empty_cache()"
   ]
  },
  {
   "cell_type": "code",
   "execution_count": 32,
   "metadata": {},
   "outputs": [],
   "source": [
    "device='cuda:1'"
   ]
  },
  {
   "cell_type": "code",
   "execution_count": 33,
   "metadata": {},
   "outputs": [],
   "source": [
    "cfobj=cf(n_users,n_emb_user,n_emb_item,n_items,min_rating,max_rating,dropout_e)"
   ]
  },
  {
   "cell_type": "code",
   "execution_count": 34,
   "metadata": {},
   "outputs": [],
   "source": [
    "cfobj=cfobj.to(device)"
   ]
  },
  {
   "cell_type": "code",
   "execution_count": 35,
   "metadata": {},
   "outputs": [
    {
     "data": {
      "text/plain": [
       "cf(\n",
       "  (emb_user): Embedding(6041, 50)\n",
       "  (emb_item): Embedding(3707, 50)\n",
       "  (emb_dropout): Dropout(p=0.05)\n",
       "  (ub): Embedding(6041, 1)\n",
       "  (ib): Embedding(3707, 1)\n",
       "  (sigmoid): Sigmoid()\n",
       "  (criterion): MSELoss()\n",
       ")"
      ]
     },
     "execution_count": 35,
     "metadata": {},
     "output_type": "execute_result"
    }
   ],
   "source": [
    "cfobj"
   ]
  },
  {
   "cell_type": "code",
   "execution_count": 36,
   "metadata": {},
   "outputs": [
    {
     "data": {
      "text/plain": [
       "6998"
      ]
     },
     "execution_count": 36,
     "metadata": {},
     "output_type": "execute_result"
    }
   ],
   "source": [
    "len(dltrain)"
   ]
  },
  {
   "cell_type": "code",
   "execution_count": 37,
   "metadata": {},
   "outputs": [],
   "source": [
    "wd=1e-4\n",
    "optimizer=torch.optim.Adam(cfobj.parameters(),lr=5e-3,betas=(0.9,0.999), weight_decay=wd)\n",
    "learner=Learner(cfobj,optimizer,None,device,0,7000,0.25,cycle_mult=0)"
   ]
  },
  {
   "cell_type": "code",
   "execution_count": 38,
   "metadata": {},
   "outputs": [],
   "source": [
    "learner.lr_find(1e-5,1e-1,dltrain,len(dltrain))"
   ]
  },
  {
   "cell_type": "code",
   "execution_count": 39,
   "metadata": {},
   "outputs": [
    {
     "data": {
      "image/png": "[encoded data removed]",
      "text/plain": [
       "<Figure size 432x288 with 1 Axes>"
      ]
     },
     "metadata": {
      "needs_background": "light"
     },
     "output_type": "display_data"
    }
   ],
   "source": [
    "learner.plot_lrs(100)"
   ]
  },
  {
   "cell_type": "code",
   "execution_count": 40,
   "metadata": {},
   "outputs": [
    {
     "data": {
      "image/png": "[encoded data removed]",
      "text/plain": [
       "<Figure size 432x288 with 1 Axes>"
      ]
     },
     "metadata": {
      "needs_background": "light"
     },
     "output_type": "display_data"
    }
   ],
   "source": [
    "learner.plot_lrs(10)"
   ]
  },
  {
   "cell_type": "code",
   "execution_count": 41,
   "metadata": {},
   "outputs": [
    {
     "data": {
      "image/png": "[encoded data removed]",
      "text/plain": [
       "<Figure size 432x288 with 1 Axes>"
      ]
     },
     "metadata": {
      "needs_background": "light"
     },
     "output_type": "display_data"
    }
   ],
   "source": [
    "learner.plot_lrs(1)"
   ]
  },
  {
   "cell_type": "code",
   "execution_count": 42,
   "metadata": {},
   "outputs": [],
   "source": [
    "del cfobj\n",
    "torch.cuda.empty_cache()"
   ]
  },
  {
   "cell_type": "code",
   "execution_count": 43,
   "metadata": {},
   "outputs": [],
   "source": [
    "wd=1e-5"
   ]
  },
  {
   "cell_type": "code",
   "execution_count": 44,
   "metadata": {},
   "outputs": [],
   "source": [
    "cfobj=cf(n_users,n_emb_user,n_emb_item,n_items,min_rating,max_rating,dropout_e)\n",
    "cfobj=cfobj.to(device)"
   ]
  },
  {
   "cell_type": "code",
   "execution_count": 45,
   "metadata": {},
   "outputs": [
    {
     "data": {
      "text/plain": [
       "'cuda:1'"
      ]
     },
     "execution_count": 45,
     "metadata": {},
     "output_type": "execute_result"
    }
   ],
   "source": [
    "device"
   ]
  },
  {
   "cell_type": "code",
   "execution_count": 46,
   "metadata": {},
   "outputs": [
    {
     "data": {
      "text/plain": [
       "cf(\n",
       "  (emb_user): Embedding(6041, 50)\n",
       "  (emb_item): Embedding(3707, 50)\n",
       "  (emb_dropout): Dropout(p=0.05)\n",
       "  (ub): Embedding(6041, 1)\n",
       "  (ib): Embedding(3707, 1)\n",
       "  (sigmoid): Sigmoid()\n",
       "  (criterion): MSELoss()\n",
       ")"
      ]
     },
     "execution_count": 46,
     "metadata": {},
     "output_type": "execute_result"
    }
   ],
   "source": [
    "cfobj"
   ]
  },
  {
   "cell_type": "code",
   "execution_count": 47,
   "metadata": {},
   "outputs": [],
   "source": [
    "optimizer=torch.optim.Adam(cfobj.parameters(),lr=1e-2,betas=(0.9,0.999), weight_decay=wd)\n",
    "learner=Learner(cfobj,optimizer,None,device,0,16000,0.25,cycle_mult=2,start_lr=1e-2,end_lr=5e-3,wd_mult=1.1)"
   ]
  },
  {
   "cell_type": "code",
   "execution_count": 48,
   "metadata": {},
   "outputs": [
    {
     "name": "stdout",
     "output_type": "stream",
     "text": [
      "Epoch:0 Learning rate 0.01 Weight Decay 1e-05 Train Loss:1.199024132394082                 Valid Loss:1.0487711528450652 Train RMSE:1.0841118045079368 Valid RMSE:1.015545891817561 Train MSE:1.199024132394082 Valid MSE:1.0487711528450652                 Train MAE:0.8532474390794018 Valid MAE:0.8046409447598778\n",
      "Epoch:1 Learning rate 0.007071067811865476 Weight Decay 1.1000000000000001e-05 Train Loss:0.8693848132882741                 Valid Loss:0.9149576464948339 Train RMSE:0.9300859761003216 Valid RMSE:0.9484626287287822 Train MSE:0.8693848132882741 Valid MSE:0.9149576464948339                 Train MAE:0.7317070779663456 Valid MAE:0.754073292162894\n",
      "Epoch:2 Learning rate 0.005000000000000001 Weight Decay 1.2100000000000003e-05 Train Loss:0.7645597557198426                 Valid Loss:0.8572207147590679 Train RMSE:0.872143205251936 Valid RMSE:0.9172692421836092 Train MSE:0.7645597557198426 Valid MSE:0.8572207147590679                 Train MAE:0.688368589588832 Valid MAE:0.7311231408591954\n",
      "Epoch:3 Learning rate 0.01 Weight Decay 1e-05 Train Loss:0.9778556900386914                 Valid Loss:1.0352898540666082 Train RMSE:0.985322369800852 Valid RMSE:1.009010660908102 Train MSE:0.9778556900386914 Valid MSE:1.0352898540666082                 Train MAE:0.7726605500824691 Valid MAE:0.7985924268585961\n",
      "Epoch:4 Learning rate 0.008408964152537146 Weight Decay 1.1000000000000001e-05 Train Loss:0.9100476568572757                 Valid Loss:0.9680199685120087 Train RMSE:0.9515336223451148 Valid RMSE:0.9752497337506142 Train MSE:0.9100476568572757 Valid MSE:0.9680199685120087                 Train MAE:0.7471546797317653 Valid MAE:0.7742344145383799\n",
      "Epoch:5 Learning rate 0.007071067811865475 Weight Decay 1.2100000000000003e-05 Train Loss:0.8427843826307369                 Valid Loss:0.9122330169563924 Train RMSE:0.915664704860859 Valid RMSE:0.9462666448946966 Train MSE:0.8427843826307369 Valid MSE:0.9122330169563924                 Train MAE:0.7214165954172151 Valid MAE:0.7530169793412619\n",
      "Epoch:6 Learning rate 0.005946035575013605 Weight Decay 1.3310000000000005e-05 Train Loss:0.7880187549567897                 Valid Loss:0.8769007846439483 Train RMSE:0.8853572746358195 Valid RMSE:0.9277922833941823 Train MSE:0.7880187549567897 Valid MSE:0.8769007846439483                 Train MAE:0.6990416210680289 Valid MAE:0.7392542026617828\n",
      "Epoch:7 Learning rate 0.004999999999999999 Weight Decay 1.4641000000000006e-05 Train Loss:0.7453733678373755                 Valid Loss:0.8484359726109149 Train RMSE:0.8611181706607256 Valid RMSE:0.912397142337213 Train MSE:0.7453733678373755 Valid MSE:0.8484359726109149                 Train MAE:0.6811768245734497 Valid MAE:0.7276743408953691\n",
      "Epoch:8 Learning rate 0.01 Weight Decay 1e-05 Train Loss:0.9722179041211351                 Valid Loss:1.0341042304637236 Train RMSE:0.9824480721012268 Valid RMSE:1.0087337742752096 Train MSE:0.9722179041211351 Valid MSE:1.0341042304637236                 Train MAE:0.7699794201518373 Valid MAE:0.797803600057686\n",
      "Epoch:9 Learning rate 0.009170040432046712 Weight Decay 1.1000000000000001e-05 Train Loss:0.937385890501913                 Valid Loss:0.9933018819719662 Train RMSE:0.9656365373685664 Valid RMSE:0.9882937318446573 Train MSE:0.937385890501913 Valid MSE:0.9933018819719662                 Train MAE:0.7577407666873033 Valid MAE:0.7840783472744021\n",
      "Epoch:10 Learning rate 0.008408964152537144 Weight Decay 1.2100000000000003e-05 Train Loss:0.8971269449938294                 Valid Loss:0.9518773487542221 Train RMSE:0.9446891482423263 Valid RMSE:0.9672727688743331 Train MSE:0.8971269449938294 Valid MSE:0.9518773487542221                 Train MAE:0.7426773208606308 Valid MAE:0.7678329129697643\n",
      "Epoch:11 Learning rate 0.007711054127039703 Weight Decay 1.3310000000000005e-05 Train Loss:0.8610703181533957                 Valid Loss:0.9224829317744242 Train RMSE:0.9255300170052482 Valid RMSE:0.9519662186228387 Train MSE:0.8610703181533957 Valid MSE:0.9224829317744242                 Train MAE:0.7292233881319411 Valid MAE:0.7571484765341115\n",
      "Epoch:12 Learning rate 0.007071067811865474 Weight Decay 1.4641000000000006e-05 Train Loss:0.8311577292468487                 Valid Loss:0.8938964646916057 Train RMSE:0.9093221499091397 Valid RMSE:0.9371792058371142 Train MSE:0.8311577292468487 Valid MSE:0.8938964646916057                 Train MAE:0.7175956610595543 Valid MAE:0.7461811742554971\n",
      "Epoch:13 Learning rate 0.0064841977732550465 Weight Decay 1.610510000000001e-05 Train Loss:0.8066163268360829                 Valid Loss:0.877669519572684 Train RMSE:0.8957738164653518 Valid RMSE:0.9282321171059882 Train MSE:0.8066163268360829 Valid MSE:0.877669519572684                 Train MAE:0.7076066124009963 Valid MAE:0.740641841799422\n",
      "Epoch:14 Learning rate 0.005946035575013603 Weight Decay 1.771561000000001e-05 Train Loss:0.7849279739629136                 Valid Loss:0.8630602164615762 Train RMSE:0.8837074875992118 Valid RMSE:0.9205894591165019 Train MSE:0.7849279739629136 Valid MSE:0.8630602164615762                 Train MAE:0.6991959010985757 Valid MAE:0.7350577174012197\n"
     ]
    }
   ],
   "source": [
    "learner.run_epochs(dltrain,dlvalid,15)"
   ]
  },
  {
   "cell_type": "code",
   "execution_count": 34,
   "metadata": {},
   "outputs": [
    {
     "data": {
      "text/plain": [
       "0.01"
      ]
     },
     "execution_count": 34,
     "metadata": {},
     "output_type": "execute_result"
    }
   ],
   "source": [
    "learner.lr"
   ]
  },
  {
   "cell_type": "code",
   "execution_count": 38,
   "metadata": {},
   "outputs": [],
   "source": [
    "learner.start_lr=6e-3\n",
    "learner.lr=6e-3\n",
    "for param in optimizer.param_groups:\n",
    "    param['lr']=6e-3"
   ]
  },
  {
   "cell_type": "code",
   "execution_count": 39,
   "metadata": {},
   "outputs": [
    {
     "data": {
      "text/plain": [
       "0.005"
      ]
     },
     "execution_count": 39,
     "metadata": {},
     "output_type": "execute_result"
    }
   ],
   "source": [
    "learner.end_lr"
   ]
  },
  {
   "cell_type": "code",
   "execution_count": 40,
   "metadata": {},
   "outputs": [
    {
     "name": "stdout",
     "output_type": "stream",
     "text": [
      "Epoch:0 Learning rate 0.006 Weight Decay 1e-05 Train Loss:0.7098135245582246                 Valid Loss:0.8274575520698482 Train RMSE:0.8412953749441258 Valid RMSE:0.9043428771921399 Train MSE:0.7098135245582246 Valid MSE:0.8274575520698482                 Train MAE:0.6657072000416322 Valid MAE:0.7180116879036491\n",
      "Epoch:1 Learning rate 0.005732656753226201 Weight Decay 1.1000000000000001e-05 Train Loss:0.6947250033436791                 Valid Loss:0.8246012972007463 Train RMSE:0.8322871029313195 Valid RMSE:0.9026641536908792 Train MSE:0.6947250033436791 Valid MSE:0.8246012972007463                 Train MAE:0.6584518935449398 Valid MAE:0.7175734685802226\n",
      "Epoch:2 Learning rate 0.005477225575051661 Weight Decay 1.2100000000000003e-05 Train Loss:0.6866912611401671                 Valid Loss:0.8187297361841411 Train RMSE:0.8274502117030956 Valid RMSE:0.8992821650073012 Train MSE:0.6866912611401671 Valid MSE:0.8187297361841411                 Train MAE:0.6551546608423907 Valid MAE:0.7151539872211465\n"
     ]
    }
   ],
   "source": [
    "learner.run_epochs(dltrain,dlvalid,3)"
   ]
  },
  {
   "cell_type": "code",
   "execution_count": 41,
   "metadata": {},
   "outputs": [],
   "source": [
    "learner.generate_scores=True"
   ]
  },
  {
   "cell_type": "code",
   "execution_count": 42,
   "metadata": {},
   "outputs": [
    {
     "data": {
      "text/plain": [
       "(0.8187297361841411, 0.7151539872211465, 0.8992821650073012)"
      ]
     },
     "execution_count": 42,
     "metadata": {},
     "output_type": "execute_result"
    }
   ],
   "source": [
    "learner.run_epoch(dlvalid,False)"
   ]
  },
  {
   "cell_type": "code",
   "execution_count": 43,
   "metadata": {},
   "outputs": [
    {
     "data": {
      "text/plain": [
       "array([3.3770335, 3.7116957, 3.735203 , ..., 2.1500933, 1.9759055,\n",
       "       2.4840913], dtype=float32)"
      ]
     },
     "execution_count": 43,
     "metadata": {},
     "output_type": "execute_result"
    }
   ],
   "source": [
    "np.concatenate(learner.scores)"
   ]
  },
  {
   "cell_type": "code",
   "execution_count": 44,
   "metadata": {},
   "outputs": [],
   "source": [
    "dfvalid['pred_cf']=np.concatenate(learner.scores)"
   ]
  },
  {
   "cell_type": "code",
   "execution_count": 45,
   "metadata": {},
   "outputs": [
    {
     "data": {
      "text/plain": [
       "0.9048717958409898"
      ]
     },
     "execution_count": 45,
     "metadata": {},
     "output_type": "execute_result"
    }
   ],
   "source": [
    "np.sqrt(metrics.mean_squared_error(dfvalid['rating'],dfvalid['pred_cf']))"
   ]
  },
  {
   "cell_type": "code",
   "execution_count": 48,
   "metadata": {},
   "outputs": [],
   "source": [
    "def score_by_group (dfvalid,predVar,groupVar='cold_start_group',method='global_avg'):\n",
    "    scores=[]\n",
    "    mae_scores=[]\n",
    "    rmse_scores=[]\n",
    "    r2_scores=[]\n",
    "    groups=dfvalid[groupVar].value_counts().index.tolist()\n",
    "    for group in groups:\n",
    "        df=dfvalid.loc[dfvalid[groupVar]==group]\n",
    "        actual=df['rating']\n",
    "        score=metrics.mean_squared_error(df['rating'],df[predVar])\n",
    "        rmse_score=np.sqrt(metrics.mean_squared_error(df['rating'],df[predVar]))\n",
    "        mae_score=metrics.mean_absolute_error(df['rating'],df[predVar])\n",
    "        r2_score=metrics.r2_score(df['rating'],df[predVar])\n",
    "        scores.append(score)\n",
    "        mae_scores.append(mae_score)\n",
    "        rmse_scores.append(rmse_score)\n",
    "        r2_scores.append(r2_score)\n",
    "    return pd.DataFrame({'method':method, 'mse':scores, 'rmse':rmse_scores, 'mae':mae_scores, 'r2_score':r2_scores, 'Cold Start Group':groups})"
   ]
  },
  {
   "cell_type": "code",
   "execution_count": 49,
   "metadata": {},
   "outputs": [
    {
     "data": {
      "text/html": [
       "<div>\n",
       "<style scoped>\n",
       "    .dataframe tbody tr th:only-of-type {\n",
       "        vertical-align: middle;\n",
       "    }\n",
       "\n",
       "    .dataframe tbody tr th {\n",
       "        vertical-align: top;\n",
       "    }\n",
       "\n",
       "    .dataframe thead th {\n",
       "        text-align: right;\n",
       "    }\n",
       "</style>\n",
       "<table border=\"1\" class=\"dataframe\">\n",
       "  <thead>\n",
       "    <tr style=\"text-align: right;\">\n",
       "      <th></th>\n",
       "      <th>method</th>\n",
       "      <th>mse</th>\n",
       "      <th>rmse</th>\n",
       "      <th>mae</th>\n",
       "      <th>r2_score</th>\n",
       "      <th>Cold Start Group</th>\n",
       "    </tr>\n",
       "  </thead>\n",
       "  <tbody>\n",
       "    <tr>\n",
       "      <th>0</th>\n",
       "      <td>cf</td>\n",
       "      <td>0.794892</td>\n",
       "      <td>0.891567</td>\n",
       "      <td>0.701948</td>\n",
       "      <td>0.394846</td>\n",
       "      <td>No-cold-start</td>\n",
       "    </tr>\n",
       "    <tr>\n",
       "      <th>1</th>\n",
       "      <td>cf</td>\n",
       "      <td>1.065046</td>\n",
       "      <td>1.032011</td>\n",
       "      <td>0.850611</td>\n",
       "      <td>0.109225</td>\n",
       "      <td>User-Cold-Start</td>\n",
       "    </tr>\n",
       "    <tr>\n",
       "      <th>2</th>\n",
       "      <td>cf</td>\n",
       "      <td>0.724512</td>\n",
       "      <td>0.851183</td>\n",
       "      <td>0.704314</td>\n",
       "      <td>0.130586</td>\n",
       "      <td>Item-Cold_start</td>\n",
       "    </tr>\n",
       "    <tr>\n",
       "      <th>3</th>\n",
       "      <td>cf</td>\n",
       "      <td>2.000000</td>\n",
       "      <td>1.414214</td>\n",
       "      <td>1.000000</td>\n",
       "      <td>-1.000000</td>\n",
       "      <td>User-Item-cold-start</td>\n",
       "    </tr>\n",
       "    <tr>\n",
       "      <th>0</th>\n",
       "      <td>cf</td>\n",
       "      <td>0.794892</td>\n",
       "      <td>0.891567</td>\n",
       "      <td>0.701948</td>\n",
       "      <td>0.394846</td>\n",
       "      <td>0</td>\n",
       "    </tr>\n",
       "    <tr>\n",
       "      <th>1</th>\n",
       "      <td>cf</td>\n",
       "      <td>1.064366</td>\n",
       "      <td>1.031681</td>\n",
       "      <td>0.850264</td>\n",
       "      <td>0.109881</td>\n",
       "      <td>1</td>\n",
       "    </tr>\n",
       "    <tr>\n",
       "      <th>0</th>\n",
       "      <td>cf</td>\n",
       "      <td>0.818793</td>\n",
       "      <td>0.904872</td>\n",
       "      <td>0.715103</td>\n",
       "      <td>0.373547</td>\n",
       "      <td>0</td>\n",
       "    </tr>\n",
       "  </tbody>\n",
       "</table>\n",
       "</div>"
      ],
      "text/plain": [
       "  method       mse      rmse       mae  r2_score      Cold Start Group\n",
       "0     cf  0.794892  0.891567  0.701948  0.394846         No-cold-start\n",
       "1     cf  1.065046  1.032011  0.850611  0.109225       User-Cold-Start\n",
       "2     cf  0.724512  0.851183  0.704314  0.130586       Item-Cold_start\n",
       "3     cf  2.000000  1.414214  1.000000 -1.000000  User-Item-cold-start\n",
       "0     cf  0.794892  0.891567  0.701948  0.394846                     0\n",
       "1     cf  1.064366  1.031681  0.850264  0.109881                     1\n",
       "0     cf  0.818793  0.904872  0.715103  0.373547                     0"
      ]
     },
     "execution_count": 49,
     "metadata": {},
     "output_type": "execute_result"
    }
   ],
   "source": [
    "result_cf=pd.concat([score_by_group(dfvalid,'pred_cf','cold_start_group','cf'),score_by_group(dfvalid,'pred_cf','cold_start_bucket','cf'),\\\n",
    "score_by_group(dfvalid,'pred_cf','flag_train','cf')],axis=0)\n",
    "result_cf"
   ]
  },
  {
   "cell_type": "code",
   "execution_count": 50,
   "metadata": {},
   "outputs": [],
   "source": [
    "mtx_user_emb=cfobj.emb_user.weight.data.cpu().numpy()\n",
    "mtx_item_emb=cfobj.emb_item.weight.data.cpu().numpy()"
   ]
  },
  {
   "cell_type": "code",
   "execution_count": 51,
   "metadata": {},
   "outputs": [],
   "source": [
    "user_bias_emb=cfobj.ub.weight.data.cpu().numpy()\n",
    "item_bias_emb=cfobj.ib.weight.data.cpu().numpy()"
   ]
  },
  {
   "cell_type": "code",
   "execution_count": 52,
   "metadata": {},
   "outputs": [
    {
     "data": {
      "text/plain": [
       "((6041, 25), (3707, 25), (6041, 1), (3707, 1))"
      ]
     },
     "execution_count": 52,
     "metadata": {},
     "output_type": "execute_result"
    }
   ],
   "source": [
    "mtx_user_emb.shape, mtx_item_emb.shape, user_bias_emb.shape, item_bias_emb.shape"
   ]
  },
  {
   "cell_type": "code",
   "execution_count": 53,
   "metadata": {},
   "outputs": [],
   "source": [
    "pickle.dump([mtx_user_emb,mtx_item_emb,user_bias_emb,item_bias_emb],open(f'{DATAPATH}/wts_embs','wb'))"
   ]
  },
  {
   "cell_type": "code",
   "execution_count": 54,
   "metadata": {},
   "outputs": [
    {
     "data": {
      "text/plain": [
       "(70, 6)"
      ]
     },
     "execution_count": 54,
     "metadata": {},
     "output_type": "execute_result"
    }
   ],
   "source": [
    "results_concat.shape"
   ]
  },
  {
   "cell_type": "code",
   "execution_count": 55,
   "metadata": {},
   "outputs": [],
   "source": [
    "results_concat=pd.concat([results_concat,result_cf],axis=0)"
   ]
  },
  {
   "cell_type": "code",
   "execution_count": 56,
   "metadata": {},
   "outputs": [],
   "source": [
    "pickle.dump([df,dftrain,dfvalid,idx_to_user,idx_to_item,item_to_idx,user_to_idx,results_concat],open(f'{DATAPATH}/df_side_cold_runother_cf.pkl','wb'))"
   ]
  },
  {
   "cell_type": "code",
   "execution_count": 57,
   "metadata": {},
   "outputs": [
    {
     "data": {
      "text/html": [
       "<div>\n",
       "<style scoped>\n",
       "    .dataframe tbody tr th:only-of-type {\n",
       "        vertical-align: middle;\n",
       "    }\n",
       "\n",
       "    .dataframe tbody tr th {\n",
       "        vertical-align: top;\n",
       "    }\n",
       "\n",
       "    .dataframe thead th {\n",
       "        text-align: right;\n",
       "    }\n",
       "</style>\n",
       "<table border=\"1\" class=\"dataframe\">\n",
       "  <thead>\n",
       "    <tr style=\"text-align: right;\">\n",
       "      <th></th>\n",
       "      <th>method</th>\n",
       "      <th>mse</th>\n",
       "      <th>rmse</th>\n",
       "      <th>mae</th>\n",
       "      <th>r2_score</th>\n",
       "      <th>Cold Start Group</th>\n",
       "    </tr>\n",
       "  </thead>\n",
       "  <tbody>\n",
       "    <tr>\n",
       "      <th>0</th>\n",
       "      <td>biasedmatrixfactorization</td>\n",
       "      <td>0.762661</td>\n",
       "      <td>0.873305</td>\n",
       "      <td>0.686658</td>\n",
       "      <td>0.419384</td>\n",
       "      <td>No-cold-start</td>\n",
       "    </tr>\n",
       "    <tr>\n",
       "      <th>1</th>\n",
       "      <td>biasedmatrixfactorization</td>\n",
       "      <td>0.975590</td>\n",
       "      <td>0.987719</td>\n",
       "      <td>0.787813</td>\n",
       "      <td>0.184044</td>\n",
       "      <td>User-Cold-Start</td>\n",
       "    </tr>\n",
       "    <tr>\n",
       "      <th>2</th>\n",
       "      <td>biasedmatrixfactorization</td>\n",
       "      <td>1.004593</td>\n",
       "      <td>1.002294</td>\n",
       "      <td>0.866920</td>\n",
       "      <td>-0.205512</td>\n",
       "      <td>Item-Cold_start</td>\n",
       "    </tr>\n",
       "    <tr>\n",
       "      <th>3</th>\n",
       "      <td>biasedmatrixfactorization</td>\n",
       "      <td>1.161611</td>\n",
       "      <td>1.077781</td>\n",
       "      <td>1.000000</td>\n",
       "      <td>-0.161611</td>\n",
       "      <td>User-Item-cold-start</td>\n",
       "    </tr>\n",
       "    <tr>\n",
       "      <th>0</th>\n",
       "      <td>biasedmatrixfactorization</td>\n",
       "      <td>0.762661</td>\n",
       "      <td>0.873305</td>\n",
       "      <td>0.686658</td>\n",
       "      <td>0.419384</td>\n",
       "      <td>0</td>\n",
       "    </tr>\n",
       "    <tr>\n",
       "      <th>1</th>\n",
       "      <td>biasedmatrixfactorization</td>\n",
       "      <td>0.975705</td>\n",
       "      <td>0.987778</td>\n",
       "      <td>0.788064</td>\n",
       "      <td>0.184027</td>\n",
       "      <td>1</td>\n",
       "    </tr>\n",
       "    <tr>\n",
       "      <th>0</th>\n",
       "      <td>biasedmatrixfactorization</td>\n",
       "      <td>0.781557</td>\n",
       "      <td>0.884057</td>\n",
       "      <td>0.695652</td>\n",
       "      <td>0.402036</td>\n",
       "      <td>0</td>\n",
       "    </tr>\n",
       "    <tr>\n",
       "      <th>0</th>\n",
       "      <td>svdplusplus</td>\n",
       "      <td>0.760565</td>\n",
       "      <td>0.872104</td>\n",
       "      <td>0.681210</td>\n",
       "      <td>0.420979</td>\n",
       "      <td>No-cold-start</td>\n",
       "    </tr>\n",
       "    <tr>\n",
       "      <th>1</th>\n",
       "      <td>svdplusplus</td>\n",
       "      <td>0.965663</td>\n",
       "      <td>0.982682</td>\n",
       "      <td>0.789363</td>\n",
       "      <td>0.192346</td>\n",
       "      <td>User-Cold-Start</td>\n",
       "    </tr>\n",
       "    <tr>\n",
       "      <th>2</th>\n",
       "      <td>svdplusplus</td>\n",
       "      <td>1.005146</td>\n",
       "      <td>1.002569</td>\n",
       "      <td>0.877412</td>\n",
       "      <td>-0.206175</td>\n",
       "      <td>Item-Cold_start</td>\n",
       "    </tr>\n",
       "    <tr>\n",
       "      <th>3</th>\n",
       "      <td>svdplusplus</td>\n",
       "      <td>1.161611</td>\n",
       "      <td>1.077781</td>\n",
       "      <td>1.000000</td>\n",
       "      <td>-0.161611</td>\n",
       "      <td>User-Item-cold-start</td>\n",
       "    </tr>\n",
       "    <tr>\n",
       "      <th>0</th>\n",
       "      <td>svdplusplus</td>\n",
       "      <td>0.760565</td>\n",
       "      <td>0.872104</td>\n",
       "      <td>0.681210</td>\n",
       "      <td>0.420979</td>\n",
       "      <td>0</td>\n",
       "    </tr>\n",
       "    <tr>\n",
       "      <th>1</th>\n",
       "      <td>svdplusplus</td>\n",
       "      <td>0.965808</td>\n",
       "      <td>0.982755</td>\n",
       "      <td>0.789637</td>\n",
       "      <td>0.192304</td>\n",
       "      <td>1</td>\n",
       "    </tr>\n",
       "    <tr>\n",
       "      <th>0</th>\n",
       "      <td>svdplusplus</td>\n",
       "      <td>0.778769</td>\n",
       "      <td>0.882479</td>\n",
       "      <td>0.690827</td>\n",
       "      <td>0.404169</td>\n",
       "      <td>0</td>\n",
       "    </tr>\n",
       "    <tr>\n",
       "      <th>0</th>\n",
       "      <td>svd</td>\n",
       "      <td>0.767578</td>\n",
       "      <td>0.876115</td>\n",
       "      <td>0.686994</td>\n",
       "      <td>0.415640</td>\n",
       "      <td>No-cold-start</td>\n",
       "    </tr>\n",
       "    <tr>\n",
       "      <th>1</th>\n",
       "      <td>svd</td>\n",
       "      <td>1.197711</td>\n",
       "      <td>1.094400</td>\n",
       "      <td>0.917391</td>\n",
       "      <td>-0.001733</td>\n",
       "      <td>User-Cold-Start</td>\n",
       "    </tr>\n",
       "    <tr>\n",
       "      <th>2</th>\n",
       "      <td>svd</td>\n",
       "      <td>1.190927</td>\n",
       "      <td>1.091296</td>\n",
       "      <td>0.965662</td>\n",
       "      <td>-0.429112</td>\n",
       "      <td>Item-Cold_start</td>\n",
       "    </tr>\n",
       "    <tr>\n",
       "      <th>3</th>\n",
       "      <td>svd</td>\n",
       "      <td>1.161611</td>\n",
       "      <td>1.077781</td>\n",
       "      <td>1.000000</td>\n",
       "      <td>-0.161611</td>\n",
       "      <td>User-Item-cold-start</td>\n",
       "    </tr>\n",
       "    <tr>\n",
       "      <th>0</th>\n",
       "      <td>svd</td>\n",
       "      <td>0.767578</td>\n",
       "      <td>0.876115</td>\n",
       "      <td>0.686994</td>\n",
       "      <td>0.415640</td>\n",
       "      <td>0</td>\n",
       "    </tr>\n",
       "    <tr>\n",
       "      <th>1</th>\n",
       "      <td>svd</td>\n",
       "      <td>1.197686</td>\n",
       "      <td>1.094388</td>\n",
       "      <td>0.917534</td>\n",
       "      <td>-0.001614</td>\n",
       "      <td>1</td>\n",
       "    </tr>\n",
       "    <tr>\n",
       "      <th>0</th>\n",
       "      <td>svd</td>\n",
       "      <td>0.805726</td>\n",
       "      <td>0.897623</td>\n",
       "      <td>0.707442</td>\n",
       "      <td>0.383544</td>\n",
       "      <td>0</td>\n",
       "    </tr>\n",
       "    <tr>\n",
       "      <th>0</th>\n",
       "      <td>userknncosine</td>\n",
       "      <td>0.839762</td>\n",
       "      <td>0.916385</td>\n",
       "      <td>0.718073</td>\n",
       "      <td>0.360686</td>\n",
       "      <td>No-cold-start</td>\n",
       "    </tr>\n",
       "    <tr>\n",
       "      <th>1</th>\n",
       "      <td>userknncosine</td>\n",
       "      <td>0.968217</td>\n",
       "      <td>0.983980</td>\n",
       "      <td>0.787066</td>\n",
       "      <td>0.190210</td>\n",
       "      <td>User-Cold-Start</td>\n",
       "    </tr>\n",
       "    <tr>\n",
       "      <th>2</th>\n",
       "      <td>userknncosine</td>\n",
       "      <td>0.940441</td>\n",
       "      <td>0.969763</td>\n",
       "      <td>0.842502</td>\n",
       "      <td>-0.128529</td>\n",
       "      <td>Item-Cold_start</td>\n",
       "    </tr>\n",
       "    <tr>\n",
       "      <th>3</th>\n",
       "      <td>userknncosine</td>\n",
       "      <td>1.161611</td>\n",
       "      <td>1.077781</td>\n",
       "      <td>1.000000</td>\n",
       "      <td>-0.161611</td>\n",
       "      <td>User-Item-cold-start</td>\n",
       "    </tr>\n",
       "    <tr>\n",
       "      <th>0</th>\n",
       "      <td>userknncosine</td>\n",
       "      <td>0.839762</td>\n",
       "      <td>0.916385</td>\n",
       "      <td>0.718073</td>\n",
       "      <td>0.360686</td>\n",
       "      <td>0</td>\n",
       "    </tr>\n",
       "    <tr>\n",
       "      <th>1</th>\n",
       "      <td>userknncosine</td>\n",
       "      <td>0.968187</td>\n",
       "      <td>0.983965</td>\n",
       "      <td>0.787255</td>\n",
       "      <td>0.190315</td>\n",
       "      <td>1</td>\n",
       "    </tr>\n",
       "    <tr>\n",
       "      <th>0</th>\n",
       "      <td>userknncosine</td>\n",
       "      <td>0.851153</td>\n",
       "      <td>0.922579</td>\n",
       "      <td>0.724209</td>\n",
       "      <td>0.348788</td>\n",
       "      <td>0</td>\n",
       "    </tr>\n",
       "    <tr>\n",
       "      <th>0</th>\n",
       "      <td>userknnpearson</td>\n",
       "      <td>0.825038</td>\n",
       "      <td>0.908316</td>\n",
       "      <td>0.712054</td>\n",
       "      <td>0.371896</td>\n",
       "      <td>No-cold-start</td>\n",
       "    </tr>\n",
       "    <tr>\n",
       "      <th>1</th>\n",
       "      <td>userknnpearson</td>\n",
       "      <td>0.968217</td>\n",
       "      <td>0.983980</td>\n",
       "      <td>0.787066</td>\n",
       "      <td>0.190210</td>\n",
       "      <td>User-Cold-Start</td>\n",
       "    </tr>\n",
       "    <tr>\n",
       "      <th>2</th>\n",
       "      <td>userknnpearson</td>\n",
       "      <td>0.940441</td>\n",
       "      <td>0.969763</td>\n",
       "      <td>0.842502</td>\n",
       "      <td>-0.128529</td>\n",
       "      <td>Item-Cold_start</td>\n",
       "    </tr>\n",
       "    <tr>\n",
       "      <th>3</th>\n",
       "      <td>userknnpearson</td>\n",
       "      <td>1.161611</td>\n",
       "      <td>1.077781</td>\n",
       "      <td>1.000000</td>\n",
       "      <td>-0.161611</td>\n",
       "      <td>User-Item-cold-start</td>\n",
       "    </tr>\n",
       "    <tr>\n",
       "      <th>0</th>\n",
       "      <td>userknnpearson</td>\n",
       "      <td>0.825038</td>\n",
       "      <td>0.908316</td>\n",
       "      <td>0.712054</td>\n",
       "      <td>0.371896</td>\n",
       "      <td>0</td>\n",
       "    </tr>\n",
       "    <tr>\n",
       "      <th>1</th>\n",
       "      <td>userknnpearson</td>\n",
       "      <td>0.968187</td>\n",
       "      <td>0.983965</td>\n",
       "      <td>0.787255</td>\n",
       "      <td>0.190315</td>\n",
       "      <td>1</td>\n",
       "    </tr>\n",
       "    <tr>\n",
       "      <th>0</th>\n",
       "      <td>userknnpearson</td>\n",
       "      <td>0.837734</td>\n",
       "      <td>0.915278</td>\n",
       "      <td>0.718724</td>\n",
       "      <td>0.359055</td>\n",
       "      <td>0</td>\n",
       "    </tr>\n",
       "    <tr>\n",
       "      <th>0</th>\n",
       "      <td>itemknnpearson</td>\n",
       "      <td>0.802753</td>\n",
       "      <td>0.895965</td>\n",
       "      <td>0.699557</td>\n",
       "      <td>0.388861</td>\n",
       "      <td>No-cold-start</td>\n",
       "    </tr>\n",
       "    <tr>\n",
       "      <th>1</th>\n",
       "      <td>itemknnpearson</td>\n",
       "      <td>0.968217</td>\n",
       "      <td>0.983980</td>\n",
       "      <td>0.787066</td>\n",
       "      <td>0.190210</td>\n",
       "      <td>User-Cold-Start</td>\n",
       "    </tr>\n",
       "    <tr>\n",
       "      <th>2</th>\n",
       "      <td>itemknnpearson</td>\n",
       "      <td>0.940441</td>\n",
       "      <td>0.969763</td>\n",
       "      <td>0.842502</td>\n",
       "      <td>-0.128529</td>\n",
       "      <td>Item-Cold_start</td>\n",
       "    </tr>\n",
       "    <tr>\n",
       "      <th>3</th>\n",
       "      <td>itemknnpearson</td>\n",
       "      <td>1.161611</td>\n",
       "      <td>1.077781</td>\n",
       "      <td>1.000000</td>\n",
       "      <td>-0.161611</td>\n",
       "      <td>User-Item-cold-start</td>\n",
       "    </tr>\n",
       "    <tr>\n",
       "      <th>0</th>\n",
       "      <td>itemknnpearson</td>\n",
       "      <td>0.802753</td>\n",
       "      <td>0.895965</td>\n",
       "      <td>0.699557</td>\n",
       "      <td>0.388861</td>\n",
       "      <td>0</td>\n",
       "    </tr>\n",
       "  </tbody>\n",
       "</table>\n",
       "</div>"
      ],
      "text/plain": [
       "                      method       mse      rmse       mae  r2_score  \\\n",
       "0  biasedmatrixfactorization  0.762661  0.873305  0.686658  0.419384   \n",
       "1  biasedmatrixfactorization  0.975590  0.987719  0.787813  0.184044   \n",
       "2  biasedmatrixfactorization  1.004593  1.002294  0.866920 -0.205512   \n",
       "3  biasedmatrixfactorization  1.161611  1.077781  1.000000 -0.161611   \n",
       "0  biasedmatrixfactorization  0.762661  0.873305  0.686658  0.419384   \n",
       "1  biasedmatrixfactorization  0.975705  0.987778  0.788064  0.184027   \n",
       "0  biasedmatrixfactorization  0.781557  0.884057  0.695652  0.402036   \n",
       "0                svdplusplus  0.760565  0.872104  0.681210  0.420979   \n",
       "1                svdplusplus  0.965663  0.982682  0.789363  0.192346   \n",
       "2                svdplusplus  1.005146  1.002569  0.877412 -0.206175   \n",
       "3                svdplusplus  1.161611  1.077781  1.000000 -0.161611   \n",
       "0                svdplusplus  0.760565  0.872104  0.681210  0.420979   \n",
       "1                svdplusplus  0.965808  0.982755  0.789637  0.192304   \n",
       "0                svdplusplus  0.778769  0.882479  0.690827  0.404169   \n",
       "0                        svd  0.767578  0.876115  0.686994  0.415640   \n",
       "1                        svd  1.197711  1.094400  0.917391 -0.001733   \n",
       "2                        svd  1.190927  1.091296  0.965662 -0.429112   \n",
       "3                        svd  1.161611  1.077781  1.000000 -0.161611   \n",
       "0                        svd  0.767578  0.876115  0.686994  0.415640   \n",
       "1                        svd  1.197686  1.094388  0.917534 -0.001614   \n",
       "0                        svd  0.805726  0.897623  0.707442  0.383544   \n",
       "0              userknncosine  0.839762  0.916385  0.718073  0.360686   \n",
       "1              userknncosine  0.968217  0.983980  0.787066  0.190210   \n",
       "2              userknncosine  0.940441  0.969763  0.842502 -0.128529   \n",
       "3              userknncosine  1.161611  1.077781  1.000000 -0.161611   \n",
       "0              userknncosine  0.839762  0.916385  0.718073  0.360686   \n",
       "1              userknncosine  0.968187  0.983965  0.787255  0.190315   \n",
       "0              userknncosine  0.851153  0.922579  0.724209  0.348788   \n",
       "0             userknnpearson  0.825038  0.908316  0.712054  0.371896   \n",
       "1             userknnpearson  0.968217  0.983980  0.787066  0.190210   \n",
       "2             userknnpearson  0.940441  0.969763  0.842502 -0.128529   \n",
       "3             userknnpearson  1.161611  1.077781  1.000000 -0.161611   \n",
       "0             userknnpearson  0.825038  0.908316  0.712054  0.371896   \n",
       "1             userknnpearson  0.968187  0.983965  0.787255  0.190315   \n",
       "0             userknnpearson  0.837734  0.915278  0.718724  0.359055   \n",
       "0             itemknnpearson  0.802753  0.895965  0.699557  0.388861   \n",
       "1             itemknnpearson  0.968217  0.983980  0.787066  0.190210   \n",
       "2             itemknnpearson  0.940441  0.969763  0.842502 -0.128529   \n",
       "3             itemknnpearson  1.161611  1.077781  1.000000 -0.161611   \n",
       "0             itemknnpearson  0.802753  0.895965  0.699557  0.388861   \n",
       "\n",
       "       Cold Start Group  \n",
       "0         No-cold-start  \n",
       "1       User-Cold-Start  \n",
       "2       Item-Cold_start  \n",
       "3  User-Item-cold-start  \n",
       "0                     0  \n",
       "1                     1  \n",
       "0                     0  \n",
       "0         No-cold-start  \n",
       "1       User-Cold-Start  \n",
       "2       Item-Cold_start  \n",
       "3  User-Item-cold-start  \n",
       "0                     0  \n",
       "1                     1  \n",
       "0                     0  \n",
       "0         No-cold-start  \n",
       "1       User-Cold-Start  \n",
       "2       Item-Cold_start  \n",
       "3  User-Item-cold-start  \n",
       "0                     0  \n",
       "1                     1  \n",
       "0                     0  \n",
       "0         No-cold-start  \n",
       "1       User-Cold-Start  \n",
       "2       Item-Cold_start  \n",
       "3  User-Item-cold-start  \n",
       "0                     0  \n",
       "1                     1  \n",
       "0                     0  \n",
       "0         No-cold-start  \n",
       "1       User-Cold-Start  \n",
       "2       Item-Cold_start  \n",
       "3  User-Item-cold-start  \n",
       "0                     0  \n",
       "1                     1  \n",
       "0                     0  \n",
       "0         No-cold-start  \n",
       "1       User-Cold-Start  \n",
       "2       Item-Cold_start  \n",
       "3  User-Item-cold-start  \n",
       "0                     0  "
      ]
     },
     "execution_count": 57,
     "metadata": {},
     "output_type": "execute_result"
    }
   ],
   "source": [
    "results_concat[:40]"
   ]
  },
  {
   "cell_type": "code",
   "execution_count": 58,
   "metadata": {},
   "outputs": [
    {
     "data": {
      "text/html": [
       "<div>\n",
       "<style scoped>\n",
       "    .dataframe tbody tr th:only-of-type {\n",
       "        vertical-align: middle;\n",
       "    }\n",
       "\n",
       "    .dataframe tbody tr th {\n",
       "        vertical-align: top;\n",
       "    }\n",
       "\n",
       "    .dataframe thead th {\n",
       "        text-align: right;\n",
       "    }\n",
       "</style>\n",
       "<table border=\"1\" class=\"dataframe\">\n",
       "  <thead>\n",
       "    <tr style=\"text-align: right;\">\n",
       "      <th></th>\n",
       "      <th>method</th>\n",
       "      <th>mse</th>\n",
       "      <th>rmse</th>\n",
       "      <th>mae</th>\n",
       "      <th>r2_score</th>\n",
       "      <th>Cold Start Group</th>\n",
       "    </tr>\n",
       "  </thead>\n",
       "  <tbody>\n",
       "    <tr>\n",
       "      <th>1</th>\n",
       "      <td>itemknnpearson</td>\n",
       "      <td>0.968187</td>\n",
       "      <td>0.983965</td>\n",
       "      <td>0.787255</td>\n",
       "      <td>0.190315</td>\n",
       "      <td>1</td>\n",
       "    </tr>\n",
       "    <tr>\n",
       "      <th>0</th>\n",
       "      <td>itemknnpearson</td>\n",
       "      <td>0.817426</td>\n",
       "      <td>0.904116</td>\n",
       "      <td>0.707335</td>\n",
       "      <td>0.374592</td>\n",
       "      <td>0</td>\n",
       "    </tr>\n",
       "    <tr>\n",
       "      <th>0</th>\n",
       "      <td>itemknncosine</td>\n",
       "      <td>0.813202</td>\n",
       "      <td>0.901777</td>\n",
       "      <td>0.706219</td>\n",
       "      <td>0.380906</td>\n",
       "      <td>No-cold-start</td>\n",
       "    </tr>\n",
       "    <tr>\n",
       "      <th>1</th>\n",
       "      <td>itemknncosine</td>\n",
       "      <td>0.968217</td>\n",
       "      <td>0.983980</td>\n",
       "      <td>0.787066</td>\n",
       "      <td>0.190210</td>\n",
       "      <td>User-Cold-Start</td>\n",
       "    </tr>\n",
       "    <tr>\n",
       "      <th>2</th>\n",
       "      <td>itemknncosine</td>\n",
       "      <td>0.940441</td>\n",
       "      <td>0.969763</td>\n",
       "      <td>0.842502</td>\n",
       "      <td>-0.128529</td>\n",
       "      <td>Item-Cold_start</td>\n",
       "    </tr>\n",
       "    <tr>\n",
       "      <th>3</th>\n",
       "      <td>itemknncosine</td>\n",
       "      <td>1.161611</td>\n",
       "      <td>1.077781</td>\n",
       "      <td>1.000000</td>\n",
       "      <td>-0.161611</td>\n",
       "      <td>User-Item-cold-start</td>\n",
       "    </tr>\n",
       "    <tr>\n",
       "      <th>0</th>\n",
       "      <td>itemknncosine</td>\n",
       "      <td>0.813202</td>\n",
       "      <td>0.901777</td>\n",
       "      <td>0.706219</td>\n",
       "      <td>0.380906</td>\n",
       "      <td>0</td>\n",
       "    </tr>\n",
       "    <tr>\n",
       "      <th>1</th>\n",
       "      <td>itemknncosine</td>\n",
       "      <td>0.968187</td>\n",
       "      <td>0.983965</td>\n",
       "      <td>0.787255</td>\n",
       "      <td>0.190315</td>\n",
       "      <td>1</td>\n",
       "    </tr>\n",
       "    <tr>\n",
       "      <th>0</th>\n",
       "      <td>itemknncosine</td>\n",
       "      <td>0.826949</td>\n",
       "      <td>0.909367</td>\n",
       "      <td>0.713406</td>\n",
       "      <td>0.367307</td>\n",
       "      <td>0</td>\n",
       "    </tr>\n",
       "    <tr>\n",
       "      <th>0</th>\n",
       "      <td>itemavg</td>\n",
       "      <td>0.986194</td>\n",
       "      <td>0.993073</td>\n",
       "      <td>0.789912</td>\n",
       "      <td>0.249207</td>\n",
       "      <td>No-cold-start</td>\n",
       "    </tr>\n",
       "    <tr>\n",
       "      <th>1</th>\n",
       "      <td>itemavg</td>\n",
       "      <td>0.968701</td>\n",
       "      <td>0.984226</td>\n",
       "      <td>0.789719</td>\n",
       "      <td>0.189805</td>\n",
       "      <td>User-Cold-Start</td>\n",
       "    </tr>\n",
       "    <tr>\n",
       "      <th>2</th>\n",
       "      <td>itemavg</td>\n",
       "      <td>1.190927</td>\n",
       "      <td>1.091296</td>\n",
       "      <td>0.965662</td>\n",
       "      <td>-0.429112</td>\n",
       "      <td>Item-Cold_start</td>\n",
       "    </tr>\n",
       "    <tr>\n",
       "      <th>3</th>\n",
       "      <td>itemavg</td>\n",
       "      <td>1.161611</td>\n",
       "      <td>1.077781</td>\n",
       "      <td>1.000000</td>\n",
       "      <td>-0.161611</td>\n",
       "      <td>User-Item-cold-start</td>\n",
       "    </tr>\n",
       "    <tr>\n",
       "      <th>0</th>\n",
       "      <td>itemavg</td>\n",
       "      <td>0.986194</td>\n",
       "      <td>0.993073</td>\n",
       "      <td>0.789912</td>\n",
       "      <td>0.249207</td>\n",
       "      <td>0</td>\n",
       "    </tr>\n",
       "    <tr>\n",
       "      <th>1</th>\n",
       "      <td>itemavg</td>\n",
       "      <td>0.969318</td>\n",
       "      <td>0.984540</td>\n",
       "      <td>0.790220</td>\n",
       "      <td>0.189368</td>\n",
       "      <td>1</td>\n",
       "    </tr>\n",
       "    <tr>\n",
       "      <th>0</th>\n",
       "      <td>itemavg</td>\n",
       "      <td>0.984697</td>\n",
       "      <td>0.992319</td>\n",
       "      <td>0.789940</td>\n",
       "      <td>0.246615</td>\n",
       "      <td>0</td>\n",
       "    </tr>\n",
       "    <tr>\n",
       "      <th>0</th>\n",
       "      <td>useravg</td>\n",
       "      <td>1.171221</td>\n",
       "      <td>1.082230</td>\n",
       "      <td>0.857404</td>\n",
       "      <td>0.108345</td>\n",
       "      <td>No-cold-start</td>\n",
       "    </tr>\n",
       "    <tr>\n",
       "      <th>1</th>\n",
       "      <td>useravg</td>\n",
       "      <td>1.197711</td>\n",
       "      <td>1.094400</td>\n",
       "      <td>0.917391</td>\n",
       "      <td>-0.001733</td>\n",
       "      <td>User-Cold-Start</td>\n",
       "    </tr>\n",
       "    <tr>\n",
       "      <th>2</th>\n",
       "      <td>useravg</td>\n",
       "      <td>0.958643</td>\n",
       "      <td>0.979103</td>\n",
       "      <td>0.811926</td>\n",
       "      <td>-0.150372</td>\n",
       "      <td>Item-Cold_start</td>\n",
       "    </tr>\n",
       "    <tr>\n",
       "      <th>3</th>\n",
       "      <td>useravg</td>\n",
       "      <td>1.161611</td>\n",
       "      <td>1.077781</td>\n",
       "      <td>1.000000</td>\n",
       "      <td>-0.161611</td>\n",
       "      <td>User-Item-cold-start</td>\n",
       "    </tr>\n",
       "    <tr>\n",
       "      <th>0</th>\n",
       "      <td>useravg</td>\n",
       "      <td>1.171221</td>\n",
       "      <td>1.082230</td>\n",
       "      <td>0.857404</td>\n",
       "      <td>0.108345</td>\n",
       "      <td>0</td>\n",
       "    </tr>\n",
       "    <tr>\n",
       "      <th>1</th>\n",
       "      <td>useravg</td>\n",
       "      <td>1.197084</td>\n",
       "      <td>1.094113</td>\n",
       "      <td>0.917136</td>\n",
       "      <td>-0.001110</td>\n",
       "      <td>1</td>\n",
       "    </tr>\n",
       "    <tr>\n",
       "      <th>0</th>\n",
       "      <td>useravg</td>\n",
       "      <td>1.173515</td>\n",
       "      <td>1.083289</td>\n",
       "      <td>0.862702</td>\n",
       "      <td>0.102151</td>\n",
       "      <td>0</td>\n",
       "    </tr>\n",
       "    <tr>\n",
       "      <th>0</th>\n",
       "      <td>global_avg</td>\n",
       "      <td>1.344811</td>\n",
       "      <td>1.159660</td>\n",
       "      <td>0.957483</td>\n",
       "      <td>-0.023810</td>\n",
       "      <td>No-cold-start</td>\n",
       "    </tr>\n",
       "    <tr>\n",
       "      <th>1</th>\n",
       "      <td>global_avg</td>\n",
       "      <td>1.197711</td>\n",
       "      <td>1.094400</td>\n",
       "      <td>0.917391</td>\n",
       "      <td>-0.001733</td>\n",
       "      <td>User-Cold-Start</td>\n",
       "    </tr>\n",
       "    <tr>\n",
       "      <th>2</th>\n",
       "      <td>global_avg</td>\n",
       "      <td>1.190927</td>\n",
       "      <td>1.091296</td>\n",
       "      <td>0.965662</td>\n",
       "      <td>-0.429112</td>\n",
       "      <td>Item-Cold_start</td>\n",
       "    </tr>\n",
       "    <tr>\n",
       "      <th>3</th>\n",
       "      <td>global_avg</td>\n",
       "      <td>1.161611</td>\n",
       "      <td>1.077781</td>\n",
       "      <td>1.000000</td>\n",
       "      <td>-0.161611</td>\n",
       "      <td>User-Item-cold-start</td>\n",
       "    </tr>\n",
       "    <tr>\n",
       "      <th>0</th>\n",
       "      <td>global_avg</td>\n",
       "      <td>1.344811</td>\n",
       "      <td>1.159660</td>\n",
       "      <td>0.957483</td>\n",
       "      <td>-0.023810</td>\n",
       "      <td>0</td>\n",
       "    </tr>\n",
       "    <tr>\n",
       "      <th>1</th>\n",
       "      <td>global_avg</td>\n",
       "      <td>1.197686</td>\n",
       "      <td>1.094388</td>\n",
       "      <td>0.917534</td>\n",
       "      <td>-0.001614</td>\n",
       "      <td>1</td>\n",
       "    </tr>\n",
       "    <tr>\n",
       "      <th>0</th>\n",
       "      <td>global_avg</td>\n",
       "      <td>1.331762</td>\n",
       "      <td>1.154020</td>\n",
       "      <td>0.953939</td>\n",
       "      <td>-0.018923</td>\n",
       "      <td>0</td>\n",
       "    </tr>\n",
       "    <tr>\n",
       "      <th>0</th>\n",
       "      <td>cf</td>\n",
       "      <td>0.794892</td>\n",
       "      <td>0.891567</td>\n",
       "      <td>0.701948</td>\n",
       "      <td>0.394846</td>\n",
       "      <td>No-cold-start</td>\n",
       "    </tr>\n",
       "    <tr>\n",
       "      <th>1</th>\n",
       "      <td>cf</td>\n",
       "      <td>1.065046</td>\n",
       "      <td>1.032011</td>\n",
       "      <td>0.850611</td>\n",
       "      <td>0.109225</td>\n",
       "      <td>User-Cold-Start</td>\n",
       "    </tr>\n",
       "    <tr>\n",
       "      <th>2</th>\n",
       "      <td>cf</td>\n",
       "      <td>0.724512</td>\n",
       "      <td>0.851183</td>\n",
       "      <td>0.704314</td>\n",
       "      <td>0.130586</td>\n",
       "      <td>Item-Cold_start</td>\n",
       "    </tr>\n",
       "    <tr>\n",
       "      <th>3</th>\n",
       "      <td>cf</td>\n",
       "      <td>2.000000</td>\n",
       "      <td>1.414214</td>\n",
       "      <td>1.000000</td>\n",
       "      <td>-1.000000</td>\n",
       "      <td>User-Item-cold-start</td>\n",
       "    </tr>\n",
       "    <tr>\n",
       "      <th>0</th>\n",
       "      <td>cf</td>\n",
       "      <td>0.794892</td>\n",
       "      <td>0.891567</td>\n",
       "      <td>0.701948</td>\n",
       "      <td>0.394846</td>\n",
       "      <td>0</td>\n",
       "    </tr>\n",
       "    <tr>\n",
       "      <th>1</th>\n",
       "      <td>cf</td>\n",
       "      <td>1.064366</td>\n",
       "      <td>1.031681</td>\n",
       "      <td>0.850264</td>\n",
       "      <td>0.109881</td>\n",
       "      <td>1</td>\n",
       "    </tr>\n",
       "    <tr>\n",
       "      <th>0</th>\n",
       "      <td>cf</td>\n",
       "      <td>0.818793</td>\n",
       "      <td>0.904872</td>\n",
       "      <td>0.715103</td>\n",
       "      <td>0.373547</td>\n",
       "      <td>0</td>\n",
       "    </tr>\n",
       "  </tbody>\n",
       "</table>\n",
       "</div>"
      ],
      "text/plain": [
       "           method       mse      rmse       mae  r2_score  \\\n",
       "1  itemknnpearson  0.968187  0.983965  0.787255  0.190315   \n",
       "0  itemknnpearson  0.817426  0.904116  0.707335  0.374592   \n",
       "0   itemknncosine  0.813202  0.901777  0.706219  0.380906   \n",
       "1   itemknncosine  0.968217  0.983980  0.787066  0.190210   \n",
       "2   itemknncosine  0.940441  0.969763  0.842502 -0.128529   \n",
       "3   itemknncosine  1.161611  1.077781  1.000000 -0.161611   \n",
       "0   itemknncosine  0.813202  0.901777  0.706219  0.380906   \n",
       "1   itemknncosine  0.968187  0.983965  0.787255  0.190315   \n",
       "0   itemknncosine  0.826949  0.909367  0.713406  0.367307   \n",
       "0         itemavg  0.986194  0.993073  0.789912  0.249207   \n",
       "1         itemavg  0.968701  0.984226  0.789719  0.189805   \n",
       "2         itemavg  1.190927  1.091296  0.965662 -0.429112   \n",
       "3         itemavg  1.161611  1.077781  1.000000 -0.161611   \n",
       "0         itemavg  0.986194  0.993073  0.789912  0.249207   \n",
       "1         itemavg  0.969318  0.984540  0.790220  0.189368   \n",
       "0         itemavg  0.984697  0.992319  0.789940  0.246615   \n",
       "0         useravg  1.171221  1.082230  0.857404  0.108345   \n",
       "1         useravg  1.197711  1.094400  0.917391 -0.001733   \n",
       "2         useravg  0.958643  0.979103  0.811926 -0.150372   \n",
       "3         useravg  1.161611  1.077781  1.000000 -0.161611   \n",
       "0         useravg  1.171221  1.082230  0.857404  0.108345   \n",
       "1         useravg  1.197084  1.094113  0.917136 -0.001110   \n",
       "0         useravg  1.173515  1.083289  0.862702  0.102151   \n",
       "0      global_avg  1.344811  1.159660  0.957483 -0.023810   \n",
       "1      global_avg  1.197711  1.094400  0.917391 -0.001733   \n",
       "2      global_avg  1.190927  1.091296  0.965662 -0.429112   \n",
       "3      global_avg  1.161611  1.077781  1.000000 -0.161611   \n",
       "0      global_avg  1.344811  1.159660  0.957483 -0.023810   \n",
       "1      global_avg  1.197686  1.094388  0.917534 -0.001614   \n",
       "0      global_avg  1.331762  1.154020  0.953939 -0.018923   \n",
       "0              cf  0.794892  0.891567  0.701948  0.394846   \n",
       "1              cf  1.065046  1.032011  0.850611  0.109225   \n",
       "2              cf  0.724512  0.851183  0.704314  0.130586   \n",
       "3              cf  2.000000  1.414214  1.000000 -1.000000   \n",
       "0              cf  0.794892  0.891567  0.701948  0.394846   \n",
       "1              cf  1.064366  1.031681  0.850264  0.109881   \n",
       "0              cf  0.818793  0.904872  0.715103  0.373547   \n",
       "\n",
       "       Cold Start Group  \n",
       "1                     1  \n",
       "0                     0  \n",
       "0         No-cold-start  \n",
       "1       User-Cold-Start  \n",
       "2       Item-Cold_start  \n",
       "3  User-Item-cold-start  \n",
       "0                     0  \n",
       "1                     1  \n",
       "0                     0  \n",
       "0         No-cold-start  \n",
       "1       User-Cold-Start  \n",
       "2       Item-Cold_start  \n",
       "3  User-Item-cold-start  \n",
       "0                     0  \n",
       "1                     1  \n",
       "0                     0  \n",
       "0         No-cold-start  \n",
       "1       User-Cold-Start  \n",
       "2       Item-Cold_start  \n",
       "3  User-Item-cold-start  \n",
       "0                     0  \n",
       "1                     1  \n",
       "0                     0  \n",
       "0         No-cold-start  \n",
       "1       User-Cold-Start  \n",
       "2       Item-Cold_start  \n",
       "3  User-Item-cold-start  \n",
       "0                     0  \n",
       "1                     1  \n",
       "0                     0  \n",
       "0         No-cold-start  \n",
       "1       User-Cold-Start  \n",
       "2       Item-Cold_start  \n",
       "3  User-Item-cold-start  \n",
       "0                     0  \n",
       "1                     1  \n",
       "0                     0  "
      ]
     },
     "execution_count": 58,
     "metadata": {},
     "output_type": "execute_result"
    }
   ],
   "source": [
    "results_concat[40:]"
   ]
  },
  {
   "cell_type": "code",
   "execution_count": null,
   "metadata": {},
   "outputs": [],
   "source": []
  }
 ],
 "metadata": {
  "kernelspec": {
   "display_name": "Python 3",
   "language": "python",
   "name": "python3"
  },
  "language_info": {
   "codemirror_mode": {
    "name": "ipython",
    "version": 3
   },
   "file_extension": ".py",
   "mimetype": "text/x-python",
   "name": "python",
   "nbconvert_exporter": "python",
   "pygments_lexer": "ipython3",
   "version": "3.7.3"
  }
 },
 "nbformat": 4,
 "nbformat_minor": 2
}
