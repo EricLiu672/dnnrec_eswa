{
 "cells": [
  {
   "cell_type": "code",
   "execution_count": 1,
   "metadata": {},
   "outputs": [],
   "source": [
    "PATH='/home/kirana/Documents/phd/experiment1_new/DNNREC_ML1M'\n",
    "DATAPATH='/home/kirana/Documents/final_dissertation_final/experiments/datasets/ml-1m'"
   ]
  },
  {
   "cell_type": "code",
   "execution_count": 2,
   "metadata": {},
   "outputs": [],
   "source": [
    "import pandas as pd\n",
    "import numpy as np\n",
    "import matplotlib.pyplot as plt\n",
    "import sklearn\n",
    "import os\n",
    "import pickle\n",
    "import torch\n",
    "from torch.utils.data import Dataset, DataLoader\n",
    "from torch import nn\n",
    "import pickle\n",
    "from sklearn import metrics"
   ]
  },
  {
   "cell_type": "code",
   "execution_count": 3,
   "metadata": {},
   "outputs": [],
   "source": [
    "[dftrain,dfvalid,results_concat]=pickle.load(open(f'{DATAPATH}/df_side_cold_runother.pkl','rb'))"
   ]
  },
  {
   "cell_type": "code",
   "execution_count": 4,
   "metadata": {},
   "outputs": [],
   "source": [
    "df=pd.concat([dftrain,dfvalid[dftrain.columns]],axis=0)"
   ]
  },
  {
   "cell_type": "code",
   "execution_count": 5,
   "metadata": {},
   "outputs": [],
   "source": [
    "user_to_idx={j:i+1 for i, j in enumerate(df['userId'].unique())}\n",
    "item_to_idx={j:i+1 for i,j in enumerate(df['itemId'].unique())}\n",
    "idx_to_user={i+1:j for i, j in enumerate(df['userId'].unique())}\n",
    "idx_to_item={i+1:j for i,j in enumerate(df['itemId'].unique())}"
   ]
  },
  {
   "cell_type": "code",
   "execution_count": 6,
   "metadata": {},
   "outputs": [],
   "source": [
    "dftrain['user_idx']=[user_to_idx[i] for i in dftrain['userId']]\n",
    "dftrain['item_idx']=[item_to_idx[i] for i in dftrain['itemId']]"
   ]
  },
  {
   "cell_type": "code",
   "execution_count": 7,
   "metadata": {},
   "outputs": [],
   "source": [
    "dfvalid['user_idx']=[user_to_idx[i] for i in dfvalid['userId']]\n",
    "dfvalid['item_idx']=[item_to_idx[i] for i in dfvalid['itemId']]"
   ]
  },
  {
   "cell_type": "code",
   "execution_count": 8,
   "metadata": {},
   "outputs": [],
   "source": [
    "pickle.dump([df, dftrain,dfvalid,idx_to_user,idx_to_item,item_to_idx,user_to_idx],open(f'{DATAPATH}/reads.pkl','wb'))"
   ]
  },
  {
   "cell_type": "markdown",
   "metadata": {},
   "source": [
    "### Dataset and DataLoader"
   ]
  },
  {
   "cell_type": "code",
   "execution_count": 9,
   "metadata": {},
   "outputs": [],
   "source": [
    "class cfdata (torch.utils.data.dataset.Dataset):\n",
    "    def __init__(self,dfX,dfY):\n",
    "        self.dfX,self.dfY=dfX,dfY\n",
    "        \n",
    "    def __len__ (self):\n",
    "        return self.dfX.shape[0]\n",
    "    \n",
    "    def __getitem__ (self, idx):\n",
    "        return torch.LongTensor(self.dfX.iloc[idx].values),torch.FloatTensor([self.dfY.values[idx]])"
   ]
  },
  {
   "cell_type": "code",
   "execution_count": 10,
   "metadata": {},
   "outputs": [],
   "source": [
    "dstrain=cfdata(dftrain[['user_idx','item_idx']],dftrain['rating'])\n",
    "dsvalid=cfdata(dfvalid[['user_idx','item_idx']],dfvalid['rating'])"
   ]
  },
  {
   "cell_type": "code",
   "execution_count": 11,
   "metadata": {},
   "outputs": [
    {
     "data": {
      "text/plain": [
       "(895738, 392)"
      ]
     },
     "execution_count": 11,
     "metadata": {},
     "output_type": "execute_result"
    }
   ],
   "source": [
    "dftrain.shape"
   ]
  },
  {
   "cell_type": "code",
   "execution_count": 12,
   "metadata": {},
   "outputs": [],
   "source": [
    "bs=256"
   ]
  },
  {
   "cell_type": "code",
   "execution_count": 13,
   "metadata": {},
   "outputs": [],
   "source": [
    "dltrain=DataLoader(dstrain,bs,True)"
   ]
  },
  {
   "cell_type": "code",
   "execution_count": 14,
   "metadata": {},
   "outputs": [],
   "source": [
    "dlvalid=DataLoader(dsvalid,bs,False)"
   ]
  },
  {
   "cell_type": "code",
   "execution_count": 15,
   "metadata": {},
   "outputs": [
    {
     "data": {
      "text/plain": [
       "(6040, 3706)"
      ]
     },
     "execution_count": 15,
     "metadata": {},
     "output_type": "execute_result"
    }
   ],
   "source": [
    "len(user_to_idx),len(item_to_idx)"
   ]
  },
  {
   "cell_type": "markdown",
   "metadata": {},
   "source": [
    "## Model Architecture"
   ]
  },
  {
   "cell_type": "code",
   "execution_count": 16,
   "metadata": {},
   "outputs": [],
   "source": [
    "n_users=len(user_to_idx)\n",
    "n_items=len(item_to_idx)\n",
    "n_emb_user=25\n",
    "n_emb_item=25\n",
    "min_rating=min(dftrain['rating'])\n",
    "max_rating=max(dftrain['rating'])\n",
    "dropout_e=0.05\n"
   ]
  },
  {
   "cell_type": "code",
   "execution_count": 17,
   "metadata": {},
   "outputs": [
    {
     "data": {
      "text/plain": [
       "6040"
      ]
     },
     "execution_count": 17,
     "metadata": {},
     "output_type": "execute_result"
    }
   ],
   "source": [
    "n_users"
   ]
  },
  {
   "cell_type": "code",
   "execution_count": 18,
   "metadata": {},
   "outputs": [],
   "source": [
    "class cf(nn.Module):    \n",
    "    def __init__(self,n_users,n_emb_user,n_emb_item,n_items,min_rating,max_rating,dropout_e=0.01):\n",
    "        super().__init__()\n",
    "        self.n_users,self.n_emb_user,self.n_emb_item,self.n_items,self.min_rating,self.max_rating=\\\n",
    "                    n_users,n_emb_user,n_emb_item,n_items,min_rating,max_rating\n",
    "        self.dropout_e=dropout_e\n",
    "        self.create_architecture()\n",
    "        self.init_parameters()\n",
    "        self.criterion=nn.MSELoss()\n",
    "        \n",
    "        \n",
    "    def create_architecture(self):\n",
    "        self.emb_user=nn.Embedding(self.n_users+1,self.n_emb_user)\n",
    "        self.emb_item=nn.Embedding(self.n_items+1,self.n_emb_item)\n",
    "        self.emb_dropout=nn.Dropout(self.dropout_e)\n",
    "        self.ub=nn.Embedding(self.n_users+1,1)\n",
    "        self.ib=nn.Embedding(self.n_items+1,1)\n",
    "\n",
    "        self.sigmoid=nn.Sigmoid()\n",
    "        \n",
    "        \n",
    "    def init_parameters(self):\n",
    "        nn.init.kaiming_normal_(self.emb_user.weight.data)\n",
    "        nn.init.kaiming_normal_(self.emb_item.weight.data)\n",
    "        nn.init.kaiming_normal_(self.ub.weight.data)\n",
    "        nn.init.kaiming_normal_(self.ib.weight.data)\n",
    "\n",
    "       \n",
    "    def forward (self,Xb,Yb):               \n",
    "        users=self.emb_dropout(self.emb_user(Xb[:,0]))\n",
    "        items=self.emb_dropout(self.emb_item(Xb[:,1]))\n",
    "        users_bias=self.emb_dropout(self.ub(Xb[:,0]))\n",
    "        items_bias=self.emb_dropout(self.ib(Xb[:,1]))\n",
    "\n",
    "        out=(users*items).sum(1)+users_bias.squeeze()+items_bias.squeeze()\n",
    "        out=self.sigmoid(out)\n",
    "        preds=out*(self.max_rating-self.min_rating)+self.min_rating\n",
    "        preds=preds.view(-1,1)\n",
    "        loss=self.criterion(preds,Yb)\n",
    "        return preds,loss"
   ]
  },
  {
   "cell_type": "code",
   "execution_count": 19,
   "metadata": {},
   "outputs": [
    {
     "data": {
      "text/plain": [
       "6040"
      ]
     },
     "execution_count": 19,
     "metadata": {},
     "output_type": "execute_result"
    }
   ],
   "source": [
    "n_users"
   ]
  },
  {
   "cell_type": "code",
   "execution_count": 20,
   "metadata": {},
   "outputs": [],
   "source": [
    "cfobj=cf(n_users,n_emb_user,n_emb_item,n_items,min_rating,max_rating,dropout_e)"
   ]
  },
  {
   "cell_type": "code",
   "execution_count": 21,
   "metadata": {},
   "outputs": [
    {
     "data": {
      "text/plain": [
       "cf(\n",
       "  (emb_user): Embedding(6041, 25)\n",
       "  (emb_item): Embedding(3707, 25)\n",
       "  (emb_dropout): Dropout(p=0.05)\n",
       "  (ub): Embedding(6041, 1)\n",
       "  (ib): Embedding(3707, 1)\n",
       "  (sigmoid): Sigmoid()\n",
       "  (criterion): MSELoss()\n",
       ")"
      ]
     },
     "execution_count": 21,
     "metadata": {},
     "output_type": "execute_result"
    }
   ],
   "source": [
    "cfobj"
   ]
  },
  {
   "cell_type": "code",
   "execution_count": 22,
   "metadata": {},
   "outputs": [],
   "source": [
    "for Xb, Yb in dltrain:\n",
    "    break"
   ]
  },
  {
   "cell_type": "code",
   "execution_count": 23,
   "metadata": {},
   "outputs": [
    {
     "data": {
      "text/plain": [
       "(torch.Size([256, 2]), torch.Size([256, 1]))"
      ]
     },
     "execution_count": 23,
     "metadata": {},
     "output_type": "execute_result"
    }
   ],
   "source": [
    "Xb.shape, Yb.shape"
   ]
  },
  {
   "cell_type": "code",
   "execution_count": 24,
   "metadata": {},
   "outputs": [
    {
     "data": {
      "text/plain": [
       "(tensor([[1.6082],\n",
       "         [3.5201],\n",
       "         [1.7333],\n",
       "         [4.1014],\n",
       "         [1.5196],\n",
       "         [4.4286],\n",
       "         [1.3910],\n",
       "         [4.5381],\n",
       "         [4.3984],\n",
       "         [1.2335],\n",
       "         [1.5470],\n",
       "         [4.1372],\n",
       "         [4.7964],\n",
       "         [1.9882],\n",
       "         [1.1252],\n",
       "         [4.3497],\n",
       "         [4.1965],\n",
       "         [4.9632],\n",
       "         [1.1435],\n",
       "         [3.2922],\n",
       "         [4.2917],\n",
       "         [4.9181],\n",
       "         [2.7995],\n",
       "         [4.2474],\n",
       "         [4.9072],\n",
       "         [2.4770],\n",
       "         [1.2167],\n",
       "         [2.3572],\n",
       "         [1.0047],\n",
       "         [1.0723],\n",
       "         [1.8734],\n",
       "         [3.3562],\n",
       "         [3.9159],\n",
       "         [4.3706],\n",
       "         [1.6933],\n",
       "         [1.2412],\n",
       "         [2.0546],\n",
       "         [1.7686],\n",
       "         [2.2506],\n",
       "         [4.8838],\n",
       "         [2.2671],\n",
       "         [4.4249],\n",
       "         [4.2322],\n",
       "         [1.4249],\n",
       "         [1.3309],\n",
       "         [2.4737],\n",
       "         [2.0268],\n",
       "         [4.3322],\n",
       "         [4.4702],\n",
       "         [3.9499],\n",
       "         [4.8324],\n",
       "         [4.8154],\n",
       "         [4.9107],\n",
       "         [3.1640],\n",
       "         [1.5312],\n",
       "         [4.2029],\n",
       "         [3.9444],\n",
       "         [4.8196],\n",
       "         [3.9390],\n",
       "         [1.2366],\n",
       "         [4.7477],\n",
       "         [4.0863],\n",
       "         [2.3268],\n",
       "         [2.2844],\n",
       "         [4.1899],\n",
       "         [1.1839],\n",
       "         [1.8577],\n",
       "         [4.9262],\n",
       "         [1.9327],\n",
       "         [4.1996],\n",
       "         [3.2521],\n",
       "         [3.7486],\n",
       "         [4.3750],\n",
       "         [1.4656],\n",
       "         [1.5200],\n",
       "         [3.8131],\n",
       "         [4.5300],\n",
       "         [3.9258],\n",
       "         [3.3018],\n",
       "         [1.3662],\n",
       "         [3.0702],\n",
       "         [4.7446],\n",
       "         [1.5080],\n",
       "         [1.5531],\n",
       "         [4.8938],\n",
       "         [3.9265],\n",
       "         [4.5780],\n",
       "         [2.4085],\n",
       "         [4.1723],\n",
       "         [4.1455],\n",
       "         [4.0854],\n",
       "         [4.9945],\n",
       "         [1.4479],\n",
       "         [1.2994],\n",
       "         [1.5583],\n",
       "         [2.0230],\n",
       "         [4.6158],\n",
       "         [3.6966],\n",
       "         [4.5318],\n",
       "         [4.3757],\n",
       "         [3.3301],\n",
       "         [1.1909],\n",
       "         [4.7742],\n",
       "         [3.6644],\n",
       "         [1.8535],\n",
       "         [3.0972],\n",
       "         [4.0399],\n",
       "         [2.0199],\n",
       "         [4.7391],\n",
       "         [2.1602],\n",
       "         [3.8152],\n",
       "         [4.8126],\n",
       "         [4.1863],\n",
       "         [4.9528],\n",
       "         [3.7868],\n",
       "         [1.7877],\n",
       "         [2.0061],\n",
       "         [3.0010],\n",
       "         [2.1082],\n",
       "         [4.0495],\n",
       "         [2.2164],\n",
       "         [4.0308],\n",
       "         [3.6152],\n",
       "         [1.4068],\n",
       "         [4.3063],\n",
       "         [3.9275],\n",
       "         [3.9895],\n",
       "         [1.8236],\n",
       "         [3.1928],\n",
       "         [4.0765],\n",
       "         [4.8107],\n",
       "         [1.1053],\n",
       "         [3.5502],\n",
       "         [1.2732],\n",
       "         [3.6092],\n",
       "         [4.8114],\n",
       "         [1.4420],\n",
       "         [1.2263],\n",
       "         [3.8014],\n",
       "         [1.1144],\n",
       "         [2.6033],\n",
       "         [4.2678],\n",
       "         [2.8797],\n",
       "         [1.1448],\n",
       "         [3.1581],\n",
       "         [4.5500],\n",
       "         [2.3918],\n",
       "         [3.7486],\n",
       "         [2.2427],\n",
       "         [1.1392],\n",
       "         [2.9721],\n",
       "         [4.2617],\n",
       "         [1.7266],\n",
       "         [4.7357],\n",
       "         [2.8899],\n",
       "         [3.8706],\n",
       "         [1.3705],\n",
       "         [4.6846],\n",
       "         [3.2752],\n",
       "         [1.8994],\n",
       "         [1.3412],\n",
       "         [4.8312],\n",
       "         [2.7183],\n",
       "         [1.5006],\n",
       "         [3.6208],\n",
       "         [1.1322],\n",
       "         [2.7764],\n",
       "         [4.8628],\n",
       "         [3.7679],\n",
       "         [4.6776],\n",
       "         [1.1526],\n",
       "         [2.3040],\n",
       "         [1.5076],\n",
       "         [4.8765],\n",
       "         [3.0922],\n",
       "         [2.9580],\n",
       "         [1.3857],\n",
       "         [1.3378],\n",
       "         [3.2842],\n",
       "         [2.8643],\n",
       "         [4.3472],\n",
       "         [3.7530],\n",
       "         [3.1770],\n",
       "         [1.8059],\n",
       "         [1.7133],\n",
       "         [4.3028],\n",
       "         [1.0536],\n",
       "         [1.3241],\n",
       "         [4.1532],\n",
       "         [4.3675],\n",
       "         [2.4240],\n",
       "         [3.2529],\n",
       "         [4.2854],\n",
       "         [3.5760],\n",
       "         [1.8143],\n",
       "         [3.8217],\n",
       "         [2.9073],\n",
       "         [1.5978],\n",
       "         [4.6290],\n",
       "         [1.5019],\n",
       "         [1.5157],\n",
       "         [1.6509],\n",
       "         [2.6417],\n",
       "         [4.9136],\n",
       "         [3.2660],\n",
       "         [1.8420],\n",
       "         [1.3364],\n",
       "         [1.5576],\n",
       "         [2.5828],\n",
       "         [4.9415],\n",
       "         [3.8342],\n",
       "         [2.5626],\n",
       "         [4.3001],\n",
       "         [3.8532],\n",
       "         [3.2427],\n",
       "         [4.1763],\n",
       "         [1.2354],\n",
       "         [4.4813],\n",
       "         [1.2976],\n",
       "         [3.9955],\n",
       "         [3.5871],\n",
       "         [2.9867],\n",
       "         [4.5571],\n",
       "         [3.7633],\n",
       "         [3.4490],\n",
       "         [1.0967],\n",
       "         [4.9019],\n",
       "         [1.2617],\n",
       "         [2.6627],\n",
       "         [4.6811],\n",
       "         [4.2929],\n",
       "         [3.6742],\n",
       "         [4.0544],\n",
       "         [3.5802],\n",
       "         [3.8149],\n",
       "         [1.4359],\n",
       "         [3.5863],\n",
       "         [2.4565],\n",
       "         [4.6006],\n",
       "         [1.4226],\n",
       "         [2.9481],\n",
       "         [2.5552],\n",
       "         [3.7242],\n",
       "         [4.6012],\n",
       "         [3.0729],\n",
       "         [3.5633],\n",
       "         [1.7028],\n",
       "         [4.5661],\n",
       "         [1.9172],\n",
       "         [1.0544],\n",
       "         [2.4247],\n",
       "         [4.4282],\n",
       "         [1.3675],\n",
       "         [3.5580],\n",
       "         [3.7379],\n",
       "         [2.8443]], grad_fn=<ViewBackward>),\n",
       " tensor(2.9966, grad_fn=<MseLossBackward>))"
      ]
     },
     "execution_count": 24,
     "metadata": {},
     "output_type": "execute_result"
    }
   ],
   "source": [
    "cfobj.forward(Xb,Yb)"
   ]
  },
  {
   "cell_type": "markdown",
   "metadata": {},
   "source": [
    "## Learner"
   ]
  },
  {
   "cell_type": "code",
   "execution_count": 25,
   "metadata": {},
   "outputs": [],
   "source": [
    "class Learner():\n",
    "    def __init__(self,model,optimizer,metric_fn,device,bptt=12,print_every=5,clip_val=None,\\\n",
    "                 cycle_mult=0,lr_decay=0.7,wd_mult=1.1,start_lr=2e-2, end_lr=5e-4,error_type=\"mse\",\n",
    "                cycle_const=False):\n",
    "        self.model,self.optimizer,self.metric_fn,self.device,self.print_every,self.bptt,self.losses,self.clip_val=\\\n",
    "            model,optimizer,metric_fn,device,print_every,bptt,[],clip_val\n",
    "        self.n_epochs=1\n",
    "        self.cycle_const=cycle_const\n",
    "        self.cycle_mult,self.lr_decay=cycle_mult,lr_decay\n",
    "        self.wd_mult=wd_mult\n",
    "        for param_group in self.optimizer.param_groups:\n",
    "            self.start_lr=param_group['lr']\n",
    "            self.start_wd=param_group['weight_decay']\n",
    "        self.wd=self.start_wd\n",
    "        self.lr=self.start_lr\n",
    "        self.end_lr=end_lr\n",
    "        self.n_epoch=0\n",
    "        self.lrs=[1e-2,5e-3,1e-4,5e-4]\n",
    "        self.preds,self.preds_valid,self.trainY,self.actual=[],[],[],[]\n",
    "        self.ratio=self.end_lr/self.start_lr\n",
    "        self.num_steps=self.cycle_mult\n",
    "        self.reset_cycle=self.cycle_mult\n",
    "        self.error_type=error_type\n",
    "        self.scores=[]\n",
    "        self.generate_scores=False\n",
    "        \n",
    "    def fit (self,Xb,Yb,mode_train=True):\n",
    "        if mode_train:\n",
    "            self.model.train()\n",
    "        else:\n",
    "            self.model.eval()\n",
    "        \n",
    "        #import pdb\n",
    "        #pdb.set_trace()\n",
    "        preds,loss=self.model(Xb,Yb)\n",
    "\n",
    "     \n",
    "        if mode_train:\n",
    "            if 1==0:\n",
    "                lr =self.lrs[torch.randint(0,4,(1,))]\n",
    "                for param_group in self.optimizer.param_groups:\n",
    "                    param_group['lr']=lr\n",
    "            \n",
    "            self.optimizer.zero_grad()\n",
    "            loss.backward()\n",
    "            self.optimizer.step()\n",
    "        myloss=loss.item()\n",
    "    \n",
    "        \n",
    "        with torch.no_grad():\n",
    "            if self.error_type == \"mse\":\n",
    "                acc=nn.L1Loss() (preds,Yb)\n",
    "                myrmse=np.sqrt(myloss)\n",
    "            else:\n",
    "                acc=nn.MSELoss() (preds,Yb)\n",
    "                myrmse=np.sqrt(acc.item())\n",
    "            acc=acc.item()\n",
    "                 \n",
    "        if mode_train==False:\n",
    "            if self.generate_scores:\n",
    "                self.scores.append(preds.detach().cpu().numpy().flatten())\n",
    "        del preds\n",
    "        del loss\n",
    "        \n",
    "        if self.clip_val is not None:\n",
    "            torch.nn.utils.clip_grad_norm_(self.model.parameters(), self.clip_val)\n",
    "        \n",
    "        return myloss, acc, myrmse\n",
    "    \n",
    "    def lr_find (self,start_lr,end_lr,iterator,n_batch):\n",
    "        losses,lrs=[],[]\n",
    "        ratio=end_lr/start_lr\n",
    "        num_steps=n_batch\n",
    "        lr=start_lr\n",
    "        for i in range(num_steps):            \n",
    "            lr=lr*(end_lr/start_lr)**(1/num_steps)\n",
    "            lrs.append(lr)\n",
    "        self.lrs=lrs\n",
    "        self.run_epoch(iterator,mode_train=True,lrs=lrs)\n",
    "    \n",
    "    def run_epoch(self,iterator,mode_train,lrs=None):\n",
    "        epoch_loss,epoch_acc,i,k=0,0,0,0\n",
    "        epoch_rmse=0\n",
    "\n",
    "        for Xb,Yb in iterator:\n",
    "            Xb=Xb.to(self.device)\n",
    "            Yb=Yb.to(self.device)\n",
    "            \n",
    "            if lrs is not None:\n",
    "                lr=lrs[k]\n",
    "                for param_group in self.optimizer.param_groups:\n",
    "                    param_group['lr']=lr \n",
    "            \n",
    "            loss,acc,myrmse=self.fit(Xb,Yb,mode_train)\n",
    "            \n",
    "            if lrs is not None:\n",
    "                self.losses.append(loss)\n",
    "\n",
    "            epoch_loss+=loss\n",
    "            epoch_acc+=acc\n",
    "            epoch_rmse+=myrmse\n",
    "            \n",
    "            k=k+1\n",
    "            if k%self.print_every == 0:\n",
    "                if k:\n",
    "                    print (f'Batch:{k} {epoch_loss/(k)}  ')  \n",
    "                    torch.cuda.empty_cache()\n",
    "\n",
    "        epoch_loss=epoch_loss/len(iterator)\n",
    "        epoch_acc=epoch_acc/len(iterator)\n",
    "        epoch_rmse=epoch_rmse/len(iterator)\n",
    "            \n",
    "        return epoch_loss,epoch_acc,epoch_rmse\n",
    "    \n",
    "    def plot_lrs(self, n_roll=1,ylim=None,xlim=None):\n",
    "        import seaborn as sns\n",
    "        ax=sns.lineplot(x=self.lrs,y=pd.Series(self.losses).rolling(n_roll).mean())\n",
    "        ax.set_xscale('log')\n",
    "        ax.set_ylabel('Loss')\n",
    "        ax.set_xlabel('Learning Rate')\n",
    "        if ylim is not None:\n",
    "            plt.ylim(ylim)\n",
    "        if xlim is not None:\n",
    "            plt.xlim(xlim)\n",
    "\n",
    "     \n",
    "    def run_epochs(self,dltrain,dlvalid,n_epochs=1):              \n",
    "        for epoch in range(n_epochs):                \n",
    "            loss,acc,rmse=self.run_epoch(dltrain,True)\n",
    "\n",
    "            lossv,accv,rmsev=self.run_epoch(dlvalid,mode_train=False)\n",
    "           \n",
    "            if self.error_type==\"mse\":\n",
    "                loss_mse=loss\n",
    "                loss_rmse=rmse\n",
    "                loss_mae=acc\n",
    "                lossv_mse=lossv\n",
    "                lossv_rmse=rmsev\n",
    "                lossv_mae=accv\n",
    "                \n",
    "            else:\n",
    "                loss_mse=acc\n",
    "                loss_rmse=rmse\n",
    "                loss_mae=loss\n",
    "                lossv_mse=accv\n",
    "                lossv_rmse=rmsev\n",
    "                lossv_mae=lossv\n",
    "            \n",
    "            print (f'Epoch:{epoch} Learning rate {self.lr} Weight Decay {self.wd} Train Loss:{loss} \\\n",
    "                Valid Loss:{lossv} Train RMSE:{loss_rmse} Valid RMSE:{lossv_rmse} Train MSE:{loss_mse} Valid MSE:{lossv_mse} \\\n",
    "                Train MAE:{loss_mae} Valid MAE:{lossv_mae}')\n",
    "\n",
    "              \n",
    "         \n",
    "     \n",
    "            if self.cycle_mult:\n",
    "                if self.n_epoch==self.reset_cycle:\n",
    "                    self.lr=self.start_lr\n",
    "                    self.wd=self.start_wd\n",
    "                    if self.cycle_const == False:\n",
    "                        self.reset_cycle*=self.cycle_mult\n",
    "                    #reset_cycle=self.n_epoch+reset_cycle\n",
    "                    self.n_epoch=0\n",
    "                    self.ratio=self.end_lr/self.start_lr\n",
    "                    self.num_steps=self.reset_cycle\n",
    "                else:\n",
    "                    #self.lr*=(self.lr_decay**self.n_epoch)  \n",
    "                    #if self.n_epoch>1:\n",
    "                    self.wd*=self.wd_mult\n",
    "                    self.lr=self.lr*(self.end_lr/self.start_lr)**(1/self.num_steps)\n",
    "                    self.n_epoch+=1\n",
    "        \n",
    "\n",
    "                \n",
    "            for param_group in self.optimizer.param_groups:\n",
    "                param_group['lr']=self.lr\n",
    "                param_group['weight_decay']=self.wd\n",
    "          \n",
    "     "
   ]
  },
  {
   "cell_type": "code",
   "execution_count": 26,
   "metadata": {},
   "outputs": [],
   "source": [
    "if 1==1:\n",
    "    del cfobj\n",
    "    torch.cuda.empty_cache()"
   ]
  },
  {
   "cell_type": "code",
   "execution_count": 27,
   "metadata": {},
   "outputs": [],
   "source": [
    "device='cuda:1'"
   ]
  },
  {
   "cell_type": "code",
   "execution_count": 28,
   "metadata": {},
   "outputs": [],
   "source": [
    "cfobj=cf(n_users,n_emb_user,n_emb_item,n_items,min_rating,max_rating,dropout_e)"
   ]
  },
  {
   "cell_type": "code",
   "execution_count": 29,
   "metadata": {},
   "outputs": [],
   "source": [
    "cfobj=cfobj.to(device)"
   ]
  },
  {
   "cell_type": "code",
   "execution_count": 30,
   "metadata": {},
   "outputs": [
    {
     "data": {
      "text/plain": [
       "cf(\n",
       "  (emb_user): Embedding(6041, 25)\n",
       "  (emb_item): Embedding(3707, 25)\n",
       "  (emb_dropout): Dropout(p=0.05)\n",
       "  (ub): Embedding(6041, 1)\n",
       "  (ib): Embedding(3707, 1)\n",
       "  (sigmoid): Sigmoid()\n",
       "  (criterion): MSELoss()\n",
       ")"
      ]
     },
     "execution_count": 30,
     "metadata": {},
     "output_type": "execute_result"
    }
   ],
   "source": [
    "cfobj"
   ]
  },
  {
   "cell_type": "code",
   "execution_count": 31,
   "metadata": {},
   "outputs": [
    {
     "data": {
      "text/plain": [
       "13996"
      ]
     },
     "execution_count": 31,
     "metadata": {},
     "output_type": "execute_result"
    }
   ],
   "source": [
    "len(dltrain)"
   ]
  },
  {
   "cell_type": "code",
   "execution_count": 32,
   "metadata": {},
   "outputs": [],
   "source": [
    "wd=1e-4\n",
    "optimizer=torch.optim.Adam(cfobj.parameters(),lr=5e-3,betas=(0.9,0.999), weight_decay=wd)\n",
    "learner=Learner(cfobj,optimizer,None,device,0,5000,0.25,cycle_mult=0)"
   ]
  },
  {
   "cell_type": "code",
   "execution_count": 33,
   "metadata": {},
   "outputs": [
    {
     "name": "stdout",
     "output_type": "stream",
     "text": [
      "Batch:5000 3.1581169108867644  \n",
      "Batch:10000 2.435188947188854  \n"
     ]
    }
   ],
   "source": [
    "learner.lr_find(1e-4,1e-1,dltrain,len(dltrain))"
   ]
  },
  {
   "cell_type": "code",
   "execution_count": 34,
   "metadata": {},
   "outputs": [
    {
     "data": {
      "image/png": "[encoded data removed]",
      "text/plain": [
       "<Figure size 432x288 with 1 Axes>"
      ]
     },
     "metadata": {
      "needs_background": "light"
     },
     "output_type": "display_data"
    }
   ],
   "source": [
    "learner.plot_lrs(100)"
   ]
  },
  {
   "cell_type": "code",
   "execution_count": 35,
   "metadata": {},
   "outputs": [
    {
     "data": {
      "image/png": "[encoded data removed]",
      "text/plain": [
       "<Figure size 432x288 with 1 Axes>"
      ]
     },
     "metadata": {
      "needs_background": "light"
     },
     "output_type": "display_data"
    }
   ],
   "source": [
    "learner.plot_lrs(10)"
   ]
  },
  {
   "cell_type": "code",
   "execution_count": 36,
   "metadata": {},
   "outputs": [
    {
     "data": {
      "image/png": "[encoded data removed]",
      "text/plain": [
       "<Figure size 432x288 with 1 Axes>"
      ]
     },
     "metadata": {
      "needs_background": "light"
     },
     "output_type": "display_data"
    }
   ],
   "source": [
    "learner.plot_lrs(1)"
   ]
  },
  {
   "cell_type": "code",
   "execution_count": 95,
   "metadata": {},
   "outputs": [],
   "source": [
    "del cfobj\n",
    "torch.cuda.empty_cache()"
   ]
  },
  {
   "cell_type": "code",
   "execution_count": 28,
   "metadata": {},
   "outputs": [],
   "source": [
    "wd=1e-5"
   ]
  },
  {
   "cell_type": "code",
   "execution_count": 29,
   "metadata": {},
   "outputs": [],
   "source": [
    "cfobj=cf(n_users,n_emb_user,n_emb_item,n_items,min_rating,max_rating,dropout_e)\n",
    "cfobj=cfobj.to(device)"
   ]
  },
  {
   "cell_type": "code",
   "execution_count": 30,
   "metadata": {},
   "outputs": [
    {
     "data": {
      "text/plain": [
       "'cuda:1'"
      ]
     },
     "execution_count": 30,
     "metadata": {},
     "output_type": "execute_result"
    }
   ],
   "source": [
    "device"
   ]
  },
  {
   "cell_type": "code",
   "execution_count": 31,
   "metadata": {},
   "outputs": [
    {
     "data": {
      "text/plain": [
       "cf(\n",
       "  (emb_user): Embedding(6041, 25)\n",
       "  (emb_item): Embedding(3707, 25)\n",
       "  (emb_dropout): Dropout(p=0.05)\n",
       "  (ub): Embedding(6041, 1)\n",
       "  (ib): Embedding(3707, 1)\n",
       "  (sigmoid): Sigmoid()\n",
       "  (criterion): MSELoss()\n",
       ")"
      ]
     },
     "execution_count": 31,
     "metadata": {},
     "output_type": "execute_result"
    }
   ],
   "source": [
    "cfobj"
   ]
  },
  {
   "cell_type": "code",
   "execution_count": 32,
   "metadata": {},
   "outputs": [],
   "source": [
    "optimizer=torch.optim.Adam(cfobj.parameters(),lr=1e-2,betas=(0.9,0.999), weight_decay=wd)\n",
    "learner=Learner(cfobj,optimizer,None,device,0,16000,0.25,cycle_mult=2,start_lr=1e-2,end_lr=5e-3,wd_mult=1.1)"
   ]
  },
  {
   "cell_type": "code",
   "execution_count": 33,
   "metadata": {},
   "outputs": [
    {
     "name": "stdout",
     "output_type": "stream",
     "text": [
      "Epoch:0 Learning rate 0.01 Weight Decay 1e-05 Train Loss:1.1469859642347426                 Valid Loss:0.8966330361249686 Train RMSE:1.0515793624904415 Valid RMSE:0.9418269740464351 Train MSE:1.1469859642347426 Valid MSE:0.8966330361249686                 Train MAE:0.8325747221529433 Valid MAE:0.7474593240357844\n",
      "Epoch:1 Learning rate 0.007071067811865476 Weight Decay 1.1000000000000001e-05 Train Loss:0.7750588797371399                 Valid Loss:0.8399436715762598 Train RMSE:0.8793273682640526 Valid RMSE:0.91104241060347 Train MSE:0.7750588797371399 Valid MSE:0.8399436715762598                 Train MAE:0.6944379289513419 Valid MAE:0.7241251910228309\n",
      "Epoch:2 Learning rate 0.005000000000000001 Weight Decay 1.2100000000000003e-05 Train Loss:0.7093292594160411                 Valid Loss:0.8166759990538245 Train RMSE:0.8411688311242924 Valid RMSE:0.8982445452916441 Train MSE:0.7093292594160411 Valid MSE:0.8166759990538245                 Train MAE:0.6660679495992167 Valid MAE:0.7147803450854892\n"
     ]
    }
   ],
   "source": [
    "learner.run_epochs(dltrain,dlvalid,3)"
   ]
  },
  {
   "cell_type": "code",
   "execution_count": 34,
   "metadata": {},
   "outputs": [
    {
     "data": {
      "text/plain": [
       "0.01"
      ]
     },
     "execution_count": 34,
     "metadata": {},
     "output_type": "execute_result"
    }
   ],
   "source": [
    "learner.lr"
   ]
  },
  {
   "cell_type": "code",
   "execution_count": 38,
   "metadata": {},
   "outputs": [],
   "source": [
    "learner.start_lr=6e-3\n",
    "learner.lr=6e-3\n",
    "for param in optimizer.param_groups:\n",
    "    param['lr']=6e-3"
   ]
  },
  {
   "cell_type": "code",
   "execution_count": 39,
   "metadata": {},
   "outputs": [
    {
     "data": {
      "text/plain": [
       "0.005"
      ]
     },
     "execution_count": 39,
     "metadata": {},
     "output_type": "execute_result"
    }
   ],
   "source": [
    "learner.end_lr"
   ]
  },
  {
   "cell_type": "code",
   "execution_count": 40,
   "metadata": {},
   "outputs": [
    {
     "name": "stdout",
     "output_type": "stream",
     "text": [
      "Epoch:0 Learning rate 0.006 Weight Decay 1e-05 Train Loss:0.7098135245582246                 Valid Loss:0.8274575520698482 Train RMSE:0.8412953749441258 Valid RMSE:0.9043428771921399 Train MSE:0.7098135245582246 Valid MSE:0.8274575520698482                 Train MAE:0.6657072000416322 Valid MAE:0.7180116879036491\n",
      "Epoch:1 Learning rate 0.005732656753226201 Weight Decay 1.1000000000000001e-05 Train Loss:0.6947250033436791                 Valid Loss:0.8246012972007463 Train RMSE:0.8322871029313195 Valid RMSE:0.9026641536908792 Train MSE:0.6947250033436791 Valid MSE:0.8246012972007463                 Train MAE:0.6584518935449398 Valid MAE:0.7175734685802226\n",
      "Epoch:2 Learning rate 0.005477225575051661 Weight Decay 1.2100000000000003e-05 Train Loss:0.6866912611401671                 Valid Loss:0.8187297361841411 Train RMSE:0.8274502117030956 Valid RMSE:0.8992821650073012 Train MSE:0.6866912611401671 Valid MSE:0.8187297361841411                 Train MAE:0.6551546608423907 Valid MAE:0.7151539872211465\n"
     ]
    }
   ],
   "source": [
    "learner.run_epochs(dltrain,dlvalid,3)"
   ]
  },
  {
   "cell_type": "code",
   "execution_count": 41,
   "metadata": {},
   "outputs": [],
   "source": [
    "learner.generate_scores=True"
   ]
  },
  {
   "cell_type": "code",
   "execution_count": 42,
   "metadata": {},
   "outputs": [
    {
     "data": {
      "text/plain": [
       "(0.8187297361841411, 0.7151539872211465, 0.8992821650073012)"
      ]
     },
     "execution_count": 42,
     "metadata": {},
     "output_type": "execute_result"
    }
   ],
   "source": [
    "learner.run_epoch(dlvalid,False)"
   ]
  },
  {
   "cell_type": "code",
   "execution_count": 43,
   "metadata": {},
   "outputs": [
    {
     "data": {
      "text/plain": [
       "array([3.3770335, 3.7116957, 3.735203 , ..., 2.1500933, 1.9759055,\n",
       "       2.4840913], dtype=float32)"
      ]
     },
     "execution_count": 43,
     "metadata": {},
     "output_type": "execute_result"
    }
   ],
   "source": [
    "np.concatenate(learner.scores)"
   ]
  },
  {
   "cell_type": "code",
   "execution_count": 44,
   "metadata": {},
   "outputs": [],
   "source": [
    "dfvalid['pred_cf']=np.concatenate(learner.scores)"
   ]
  },
  {
   "cell_type": "code",
   "execution_count": 45,
   "metadata": {},
   "outputs": [
    {
     "data": {
      "text/plain": [
       "0.9048717958409898"
      ]
     },
     "execution_count": 45,
     "metadata": {},
     "output_type": "execute_result"
    }
   ],
   "source": [
    "np.sqrt(metrics.mean_squared_error(dfvalid['rating'],dfvalid['pred_cf']))"
   ]
  },
  {
   "cell_type": "code",
   "execution_count": 48,
   "metadata": {},
   "outputs": [],
   "source": [
    "def score_by_group (dfvalid,predVar,groupVar='cold_start_group',method='global_avg'):\n",
    "    scores=[]\n",
    "    mae_scores=[]\n",
    "    rmse_scores=[]\n",
    "    r2_scores=[]\n",
    "    groups=dfvalid[groupVar].value_counts().index.tolist()\n",
    "    for group in groups:\n",
    "        df=dfvalid.loc[dfvalid[groupVar]==group]\n",
    "        actual=df['rating']\n",
    "        score=metrics.mean_squared_error(df['rating'],df[predVar])\n",
    "        rmse_score=np.sqrt(metrics.mean_squared_error(df['rating'],df[predVar]))\n",
    "        mae_score=metrics.mean_absolute_error(df['rating'],df[predVar])\n",
    "        r2_score=metrics.r2_score(df['rating'],df[predVar])\n",
    "        scores.append(score)\n",
    "        mae_scores.append(mae_score)\n",
    "        rmse_scores.append(rmse_score)\n",
    "        r2_scores.append(r2_score)\n",
    "    return pd.DataFrame({'method':method, 'mse':scores, 'rmse':rmse_scores, 'mae':mae_scores, 'r2_score':r2_scores, 'Cold Start Group':groups})"
   ]
  },
  {
   "cell_type": "code",
   "execution_count": 49,
   "metadata": {},
   "outputs": [
    {
     "data": {
      "text/html": [
       "<div>\n",
       "<style scoped>\n",
       "    .dataframe tbody tr th:only-of-type {\n",
       "        vertical-align: middle;\n",
       "    }\n",
       "\n",
       "    .dataframe tbody tr th {\n",
       "        vertical-align: top;\n",
       "    }\n",
       "\n",
       "    .dataframe thead th {\n",
       "        text-align: right;\n",
       "    }\n",
       "</style>\n",
       "<table border=\"1\" class=\"dataframe\">\n",
       "  <thead>\n",
       "    <tr style=\"text-align: right;\">\n",
       "      <th></th>\n",
       "      <th>method</th>\n",
       "      <th>mse</th>\n",
       "      <th>rmse</th>\n",
       "      <th>mae</th>\n",
       "      <th>r2_score</th>\n",
       "      <th>Cold Start Group</th>\n",
       "    </tr>\n",
       "  </thead>\n",
       "  <tbody>\n",
       "    <tr>\n",
       "      <th>0</th>\n",
       "      <td>cf</td>\n",
       "      <td>0.794892</td>\n",
       "      <td>0.891567</td>\n",
       "      <td>0.701948</td>\n",
       "      <td>0.394846</td>\n",
       "      <td>No-cold-start</td>\n",
       "    </tr>\n",
       "    <tr>\n",
       "      <th>1</th>\n",
       "      <td>cf</td>\n",
       "      <td>1.065046</td>\n",
       "      <td>1.032011</td>\n",
       "      <td>0.850611</td>\n",
       "      <td>0.109225</td>\n",
       "      <td>User-Cold-Start</td>\n",
       "    </tr>\n",
       "    <tr>\n",
       "      <th>2</th>\n",
       "      <td>cf</td>\n",
       "      <td>0.724512</td>\n",
       "      <td>0.851183</td>\n",
       "      <td>0.704314</td>\n",
       "      <td>0.130586</td>\n",
       "      <td>Item-Cold_start</td>\n",
       "    </tr>\n",
       "    <tr>\n",
       "      <th>3</th>\n",
       "      <td>cf</td>\n",
       "      <td>2.000000</td>\n",
       "      <td>1.414214</td>\n",
       "      <td>1.000000</td>\n",
       "      <td>-1.000000</td>\n",
       "      <td>User-Item-cold-start</td>\n",
       "    </tr>\n",
       "    <tr>\n",
       "      <th>0</th>\n",
       "      <td>cf</td>\n",
       "      <td>0.794892</td>\n",
       "      <td>0.891567</td>\n",
       "      <td>0.701948</td>\n",
       "      <td>0.394846</td>\n",
       "      <td>0</td>\n",
       "    </tr>\n",
       "    <tr>\n",
       "      <th>1</th>\n",
       "      <td>cf</td>\n",
       "      <td>1.064366</td>\n",
       "      <td>1.031681</td>\n",
       "      <td>0.850264</td>\n",
       "      <td>0.109881</td>\n",
       "      <td>1</td>\n",
       "    </tr>\n",
       "    <tr>\n",
       "      <th>0</th>\n",
       "      <td>cf</td>\n",
       "      <td>0.818793</td>\n",
       "      <td>0.904872</td>\n",
       "      <td>0.715103</td>\n",
       "      <td>0.373547</td>\n",
       "      <td>0</td>\n",
       "    </tr>\n",
       "  </tbody>\n",
       "</table>\n",
       "</div>"
      ],
      "text/plain": [
       "  method       mse      rmse       mae  r2_score      Cold Start Group\n",
       "0     cf  0.794892  0.891567  0.701948  0.394846         No-cold-start\n",
       "1     cf  1.065046  1.032011  0.850611  0.109225       User-Cold-Start\n",
       "2     cf  0.724512  0.851183  0.704314  0.130586       Item-Cold_start\n",
       "3     cf  2.000000  1.414214  1.000000 -1.000000  User-Item-cold-start\n",
       "0     cf  0.794892  0.891567  0.701948  0.394846                     0\n",
       "1     cf  1.064366  1.031681  0.850264  0.109881                     1\n",
       "0     cf  0.818793  0.904872  0.715103  0.373547                     0"
      ]
     },
     "execution_count": 49,
     "metadata": {},
     "output_type": "execute_result"
    }
   ],
   "source": [
    "result_cf=pd.concat([score_by_group(dfvalid,'pred_cf','cold_start_group','cf'),score_by_group(dfvalid,'pred_cf','cold_start_bucket','cf'),\\\n",
    "score_by_group(dfvalid,'pred_cf','flag_train','cf')],axis=0)\n",
    "result_cf"
   ]
  },
  {
   "cell_type": "code",
   "execution_count": 50,
   "metadata": {},
   "outputs": [],
   "source": [
    "mtx_user_emb=cfobj.emb_user.weight.data.cpu().numpy()\n",
    "mtx_item_emb=cfobj.emb_item.weight.data.cpu().numpy()"
   ]
  },
  {
   "cell_type": "code",
   "execution_count": 51,
   "metadata": {},
   "outputs": [],
   "source": [
    "user_bias_emb=cfobj.ub.weight.data.cpu().numpy()\n",
    "item_bias_emb=cfobj.ib.weight.data.cpu().numpy()"
   ]
  },
  {
   "cell_type": "code",
   "execution_count": 52,
   "metadata": {},
   "outputs": [
    {
     "data": {
      "text/plain": [
       "((6041, 25), (3707, 25), (6041, 1), (3707, 1))"
      ]
     },
     "execution_count": 52,
     "metadata": {},
     "output_type": "execute_result"
    }
   ],
   "source": [
    "mtx_user_emb.shape, mtx_item_emb.shape, user_bias_emb.shape, item_bias_emb.shape"
   ]
  },
  {
   "cell_type": "code",
   "execution_count": 53,
   "metadata": {},
   "outputs": [],
   "source": [
    "pickle.dump([mtx_user_emb,mtx_item_emb,user_bias_emb,item_bias_emb],open(f'{DATAPATH}/wts_embs','wb'))"
   ]
  },
  {
   "cell_type": "code",
   "execution_count": 54,
   "metadata": {},
   "outputs": [
    {
     "data": {
      "text/plain": [
       "(70, 6)"
      ]
     },
     "execution_count": 54,
     "metadata": {},
     "output_type": "execute_result"
    }
   ],
   "source": [
    "results_concat.shape"
   ]
  },
  {
   "cell_type": "code",
   "execution_count": 55,
   "metadata": {},
   "outputs": [],
   "source": [
    "results_concat=pd.concat([results_concat,result_cf],axis=0)"
   ]
  },
  {
   "cell_type": "code",
   "execution_count": 56,
   "metadata": {},
   "outputs": [],
   "source": [
    "pickle.dump([df,dftrain,dfvalid,idx_to_user,idx_to_item,item_to_idx,user_to_idx,results_concat],open(f'{DATAPATH}/df_side_cold_runother_cf.pkl','wb'))"
   ]
  },
  {
   "cell_type": "code",
   "execution_count": 57,
   "metadata": {},
   "outputs": [
    {
     "data": {
      "text/html": [
       "<div>\n",
       "<style scoped>\n",
       "    .dataframe tbody tr th:only-of-type {\n",
       "        vertical-align: middle;\n",
       "    }\n",
       "\n",
       "    .dataframe tbody tr th {\n",
       "        vertical-align: top;\n",
       "    }\n",
       "\n",
       "    .dataframe thead th {\n",
       "        text-align: right;\n",
       "    }\n",
       "</style>\n",
       "<table border=\"1\" class=\"dataframe\">\n",
       "  <thead>\n",
       "    <tr style=\"text-align: right;\">\n",
       "      <th></th>\n",
       "      <th>method</th>\n",
       "      <th>mse</th>\n",
       "      <th>rmse</th>\n",
       "      <th>mae</th>\n",
       "      <th>r2_score</th>\n",
       "      <th>Cold Start Group</th>\n",
       "    </tr>\n",
       "  </thead>\n",
       "  <tbody>\n",
       "    <tr>\n",
       "      <th>0</th>\n",
       "      <td>biasedmatrixfactorization</td>\n",
       "      <td>0.762661</td>\n",
       "      <td>0.873305</td>\n",
       "      <td>0.686658</td>\n",
       "      <td>0.419384</td>\n",
       "      <td>No-cold-start</td>\n",
       "    </tr>\n",
       "    <tr>\n",
       "      <th>1</th>\n",
       "      <td>biasedmatrixfactorization</td>\n",
       "      <td>0.975590</td>\n",
       "      <td>0.987719</td>\n",
       "      <td>0.787813</td>\n",
       "      <td>0.184044</td>\n",
       "      <td>User-Cold-Start</td>\n",
       "    </tr>\n",
       "    <tr>\n",
       "      <th>2</th>\n",
       "      <td>biasedmatrixfactorization</td>\n",
       "      <td>1.004593</td>\n",
       "      <td>1.002294</td>\n",
       "      <td>0.866920</td>\n",
       "      <td>-0.205512</td>\n",
       "      <td>Item-Cold_start</td>\n",
       "    </tr>\n",
       "    <tr>\n",
       "      <th>3</th>\n",
       "      <td>biasedmatrixfactorization</td>\n",
       "      <td>1.161611</td>\n",
       "      <td>1.077781</td>\n",
       "      <td>1.000000</td>\n",
       "      <td>-0.161611</td>\n",
       "      <td>User-Item-cold-start</td>\n",
       "    </tr>\n",
       "    <tr>\n",
       "      <th>0</th>\n",
       "      <td>biasedmatrixfactorization</td>\n",
       "      <td>0.762661</td>\n",
       "      <td>0.873305</td>\n",
       "      <td>0.686658</td>\n",
       "      <td>0.419384</td>\n",
       "      <td>0</td>\n",
       "    </tr>\n",
       "    <tr>\n",
       "      <th>1</th>\n",
       "      <td>biasedmatrixfactorization</td>\n",
       "      <td>0.975705</td>\n",
       "      <td>0.987778</td>\n",
       "      <td>0.788064</td>\n",
       "      <td>0.184027</td>\n",
       "      <td>1</td>\n",
       "    </tr>\n",
       "    <tr>\n",
       "      <th>0</th>\n",
       "      <td>biasedmatrixfactorization</td>\n",
       "      <td>0.781557</td>\n",
       "      <td>0.884057</td>\n",
       "      <td>0.695652</td>\n",
       "      <td>0.402036</td>\n",
       "      <td>0</td>\n",
       "    </tr>\n",
       "    <tr>\n",
       "      <th>0</th>\n",
       "      <td>svdplusplus</td>\n",
       "      <td>0.760565</td>\n",
       "      <td>0.872104</td>\n",
       "      <td>0.681210</td>\n",
       "      <td>0.420979</td>\n",
       "      <td>No-cold-start</td>\n",
       "    </tr>\n",
       "    <tr>\n",
       "      <th>1</th>\n",
       "      <td>svdplusplus</td>\n",
       "      <td>0.965663</td>\n",
       "      <td>0.982682</td>\n",
       "      <td>0.789363</td>\n",
       "      <td>0.192346</td>\n",
       "      <td>User-Cold-Start</td>\n",
       "    </tr>\n",
       "    <tr>\n",
       "      <th>2</th>\n",
       "      <td>svdplusplus</td>\n",
       "      <td>1.005146</td>\n",
       "      <td>1.002569</td>\n",
       "      <td>0.877412</td>\n",
       "      <td>-0.206175</td>\n",
       "      <td>Item-Cold_start</td>\n",
       "    </tr>\n",
       "    <tr>\n",
       "      <th>3</th>\n",
       "      <td>svdplusplus</td>\n",
       "      <td>1.161611</td>\n",
       "      <td>1.077781</td>\n",
       "      <td>1.000000</td>\n",
       "      <td>-0.161611</td>\n",
       "      <td>User-Item-cold-start</td>\n",
       "    </tr>\n",
       "    <tr>\n",
       "      <th>0</th>\n",
       "      <td>svdplusplus</td>\n",
       "      <td>0.760565</td>\n",
       "      <td>0.872104</td>\n",
       "      <td>0.681210</td>\n",
       "      <td>0.420979</td>\n",
       "      <td>0</td>\n",
       "    </tr>\n",
       "    <tr>\n",
       "      <th>1</th>\n",
       "      <td>svdplusplus</td>\n",
       "      <td>0.965808</td>\n",
       "      <td>0.982755</td>\n",
       "      <td>0.789637</td>\n",
       "      <td>0.192304</td>\n",
       "      <td>1</td>\n",
       "    </tr>\n",
       "    <tr>\n",
       "      <th>0</th>\n",
       "      <td>svdplusplus</td>\n",
       "      <td>0.778769</td>\n",
       "      <td>0.882479</td>\n",
       "      <td>0.690827</td>\n",
       "      <td>0.404169</td>\n",
       "      <td>0</td>\n",
       "    </tr>\n",
       "    <tr>\n",
       "      <th>0</th>\n",
       "      <td>svd</td>\n",
       "      <td>0.767578</td>\n",
       "      <td>0.876115</td>\n",
       "      <td>0.686994</td>\n",
       "      <td>0.415640</td>\n",
       "      <td>No-cold-start</td>\n",
       "    </tr>\n",
       "    <tr>\n",
       "      <th>1</th>\n",
       "      <td>svd</td>\n",
       "      <td>1.197711</td>\n",
       "      <td>1.094400</td>\n",
       "      <td>0.917391</td>\n",
       "      <td>-0.001733</td>\n",
       "      <td>User-Cold-Start</td>\n",
       "    </tr>\n",
       "    <tr>\n",
       "      <th>2</th>\n",
       "      <td>svd</td>\n",
       "      <td>1.190927</td>\n",
       "      <td>1.091296</td>\n",
       "      <td>0.965662</td>\n",
       "      <td>-0.429112</td>\n",
       "      <td>Item-Cold_start</td>\n",
       "    </tr>\n",
       "    <tr>\n",
       "      <th>3</th>\n",
       "      <td>svd</td>\n",
       "      <td>1.161611</td>\n",
       "      <td>1.077781</td>\n",
       "      <td>1.000000</td>\n",
       "      <td>-0.161611</td>\n",
       "      <td>User-Item-cold-start</td>\n",
       "    </tr>\n",
       "    <tr>\n",
       "      <th>0</th>\n",
       "      <td>svd</td>\n",
       "      <td>0.767578</td>\n",
       "      <td>0.876115</td>\n",
       "      <td>0.686994</td>\n",
       "      <td>0.415640</td>\n",
       "      <td>0</td>\n",
       "    </tr>\n",
       "    <tr>\n",
       "      <th>1</th>\n",
       "      <td>svd</td>\n",
       "      <td>1.197686</td>\n",
       "      <td>1.094388</td>\n",
       "      <td>0.917534</td>\n",
       "      <td>-0.001614</td>\n",
       "      <td>1</td>\n",
       "    </tr>\n",
       "    <tr>\n",
       "      <th>0</th>\n",
       "      <td>svd</td>\n",
       "      <td>0.805726</td>\n",
       "      <td>0.897623</td>\n",
       "      <td>0.707442</td>\n",
       "      <td>0.383544</td>\n",
       "      <td>0</td>\n",
       "    </tr>\n",
       "    <tr>\n",
       "      <th>0</th>\n",
       "      <td>userknncosine</td>\n",
       "      <td>0.839762</td>\n",
       "      <td>0.916385</td>\n",
       "      <td>0.718073</td>\n",
       "      <td>0.360686</td>\n",
       "      <td>No-cold-start</td>\n",
       "    </tr>\n",
       "    <tr>\n",
       "      <th>1</th>\n",
       "      <td>userknncosine</td>\n",
       "      <td>0.968217</td>\n",
       "      <td>0.983980</td>\n",
       "      <td>0.787066</td>\n",
       "      <td>0.190210</td>\n",
       "      <td>User-Cold-Start</td>\n",
       "    </tr>\n",
       "    <tr>\n",
       "      <th>2</th>\n",
       "      <td>userknncosine</td>\n",
       "      <td>0.940441</td>\n",
       "      <td>0.969763</td>\n",
       "      <td>0.842502</td>\n",
       "      <td>-0.128529</td>\n",
       "      <td>Item-Cold_start</td>\n",
       "    </tr>\n",
       "    <tr>\n",
       "      <th>3</th>\n",
       "      <td>userknncosine</td>\n",
       "      <td>1.161611</td>\n",
       "      <td>1.077781</td>\n",
       "      <td>1.000000</td>\n",
       "      <td>-0.161611</td>\n",
       "      <td>User-Item-cold-start</td>\n",
       "    </tr>\n",
       "    <tr>\n",
       "      <th>0</th>\n",
       "      <td>userknncosine</td>\n",
       "      <td>0.839762</td>\n",
       "      <td>0.916385</td>\n",
       "      <td>0.718073</td>\n",
       "      <td>0.360686</td>\n",
       "      <td>0</td>\n",
       "    </tr>\n",
       "    <tr>\n",
       "      <th>1</th>\n",
       "      <td>userknncosine</td>\n",
       "      <td>0.968187</td>\n",
       "      <td>0.983965</td>\n",
       "      <td>0.787255</td>\n",
       "      <td>0.190315</td>\n",
       "      <td>1</td>\n",
       "    </tr>\n",
       "    <tr>\n",
       "      <th>0</th>\n",
       "      <td>userknncosine</td>\n",
       "      <td>0.851153</td>\n",
       "      <td>0.922579</td>\n",
       "      <td>0.724209</td>\n",
       "      <td>0.348788</td>\n",
       "      <td>0</td>\n",
       "    </tr>\n",
       "    <tr>\n",
       "      <th>0</th>\n",
       "      <td>userknnpearson</td>\n",
       "      <td>0.825038</td>\n",
       "      <td>0.908316</td>\n",
       "      <td>0.712054</td>\n",
       "      <td>0.371896</td>\n",
       "      <td>No-cold-start</td>\n",
       "    </tr>\n",
       "    <tr>\n",
       "      <th>1</th>\n",
       "      <td>userknnpearson</td>\n",
       "      <td>0.968217</td>\n",
       "      <td>0.983980</td>\n",
       "      <td>0.787066</td>\n",
       "      <td>0.190210</td>\n",
       "      <td>User-Cold-Start</td>\n",
       "    </tr>\n",
       "    <tr>\n",
       "      <th>2</th>\n",
       "      <td>userknnpearson</td>\n",
       "      <td>0.940441</td>\n",
       "      <td>0.969763</td>\n",
       "      <td>0.842502</td>\n",
       "      <td>-0.128529</td>\n",
       "      <td>Item-Cold_start</td>\n",
       "    </tr>\n",
       "    <tr>\n",
       "      <th>3</th>\n",
       "      <td>userknnpearson</td>\n",
       "      <td>1.161611</td>\n",
       "      <td>1.077781</td>\n",
       "      <td>1.000000</td>\n",
       "      <td>-0.161611</td>\n",
       "      <td>User-Item-cold-start</td>\n",
       "    </tr>\n",
       "    <tr>\n",
       "      <th>0</th>\n",
       "      <td>userknnpearson</td>\n",
       "      <td>0.825038</td>\n",
       "      <td>0.908316</td>\n",
       "      <td>0.712054</td>\n",
       "      <td>0.371896</td>\n",
       "      <td>0</td>\n",
       "    </tr>\n",
       "    <tr>\n",
       "      <th>1</th>\n",
       "      <td>userknnpearson</td>\n",
       "      <td>0.968187</td>\n",
       "      <td>0.983965</td>\n",
       "      <td>0.787255</td>\n",
       "      <td>0.190315</td>\n",
       "      <td>1</td>\n",
       "    </tr>\n",
       "    <tr>\n",
       "      <th>0</th>\n",
       "      <td>userknnpearson</td>\n",
       "      <td>0.837734</td>\n",
       "      <td>0.915278</td>\n",
       "      <td>0.718724</td>\n",
       "      <td>0.359055</td>\n",
       "      <td>0</td>\n",
       "    </tr>\n",
       "    <tr>\n",
       "      <th>0</th>\n",
       "      <td>itemknnpearson</td>\n",
       "      <td>0.802753</td>\n",
       "      <td>0.895965</td>\n",
       "      <td>0.699557</td>\n",
       "      <td>0.388861</td>\n",
       "      <td>No-cold-start</td>\n",
       "    </tr>\n",
       "    <tr>\n",
       "      <th>1</th>\n",
       "      <td>itemknnpearson</td>\n",
       "      <td>0.968217</td>\n",
       "      <td>0.983980</td>\n",
       "      <td>0.787066</td>\n",
       "      <td>0.190210</td>\n",
       "      <td>User-Cold-Start</td>\n",
       "    </tr>\n",
       "    <tr>\n",
       "      <th>2</th>\n",
       "      <td>itemknnpearson</td>\n",
       "      <td>0.940441</td>\n",
       "      <td>0.969763</td>\n",
       "      <td>0.842502</td>\n",
       "      <td>-0.128529</td>\n",
       "      <td>Item-Cold_start</td>\n",
       "    </tr>\n",
       "    <tr>\n",
       "      <th>3</th>\n",
       "      <td>itemknnpearson</td>\n",
       "      <td>1.161611</td>\n",
       "      <td>1.077781</td>\n",
       "      <td>1.000000</td>\n",
       "      <td>-0.161611</td>\n",
       "      <td>User-Item-cold-start</td>\n",
       "    </tr>\n",
       "    <tr>\n",
       "      <th>0</th>\n",
       "      <td>itemknnpearson</td>\n",
       "      <td>0.802753</td>\n",
       "      <td>0.895965</td>\n",
       "      <td>0.699557</td>\n",
       "      <td>0.388861</td>\n",
       "      <td>0</td>\n",
       "    </tr>\n",
       "  </tbody>\n",
       "</table>\n",
       "</div>"
      ],
      "text/plain": [
       "                      method       mse      rmse       mae  r2_score  \\\n",
       "0  biasedmatrixfactorization  0.762661  0.873305  0.686658  0.419384   \n",
       "1  biasedmatrixfactorization  0.975590  0.987719  0.787813  0.184044   \n",
       "2  biasedmatrixfactorization  1.004593  1.002294  0.866920 -0.205512   \n",
       "3  biasedmatrixfactorization  1.161611  1.077781  1.000000 -0.161611   \n",
       "0  biasedmatrixfactorization  0.762661  0.873305  0.686658  0.419384   \n",
       "1  biasedmatrixfactorization  0.975705  0.987778  0.788064  0.184027   \n",
       "0  biasedmatrixfactorization  0.781557  0.884057  0.695652  0.402036   \n",
       "0                svdplusplus  0.760565  0.872104  0.681210  0.420979   \n",
       "1                svdplusplus  0.965663  0.982682  0.789363  0.192346   \n",
       "2                svdplusplus  1.005146  1.002569  0.877412 -0.206175   \n",
       "3                svdplusplus  1.161611  1.077781  1.000000 -0.161611   \n",
       "0                svdplusplus  0.760565  0.872104  0.681210  0.420979   \n",
       "1                svdplusplus  0.965808  0.982755  0.789637  0.192304   \n",
       "0                svdplusplus  0.778769  0.882479  0.690827  0.404169   \n",
       "0                        svd  0.767578  0.876115  0.686994  0.415640   \n",
       "1                        svd  1.197711  1.094400  0.917391 -0.001733   \n",
       "2                        svd  1.190927  1.091296  0.965662 -0.429112   \n",
       "3                        svd  1.161611  1.077781  1.000000 -0.161611   \n",
       "0                        svd  0.767578  0.876115  0.686994  0.415640   \n",
       "1                        svd  1.197686  1.094388  0.917534 -0.001614   \n",
       "0                        svd  0.805726  0.897623  0.707442  0.383544   \n",
       "0              userknncosine  0.839762  0.916385  0.718073  0.360686   \n",
       "1              userknncosine  0.968217  0.983980  0.787066  0.190210   \n",
       "2              userknncosine  0.940441  0.969763  0.842502 -0.128529   \n",
       "3              userknncosine  1.161611  1.077781  1.000000 -0.161611   \n",
       "0              userknncosine  0.839762  0.916385  0.718073  0.360686   \n",
       "1              userknncosine  0.968187  0.983965  0.787255  0.190315   \n",
       "0              userknncosine  0.851153  0.922579  0.724209  0.348788   \n",
       "0             userknnpearson  0.825038  0.908316  0.712054  0.371896   \n",
       "1             userknnpearson  0.968217  0.983980  0.787066  0.190210   \n",
       "2             userknnpearson  0.940441  0.969763  0.842502 -0.128529   \n",
       "3             userknnpearson  1.161611  1.077781  1.000000 -0.161611   \n",
       "0             userknnpearson  0.825038  0.908316  0.712054  0.371896   \n",
       "1             userknnpearson  0.968187  0.983965  0.787255  0.190315   \n",
       "0             userknnpearson  0.837734  0.915278  0.718724  0.359055   \n",
       "0             itemknnpearson  0.802753  0.895965  0.699557  0.388861   \n",
       "1             itemknnpearson  0.968217  0.983980  0.787066  0.190210   \n",
       "2             itemknnpearson  0.940441  0.969763  0.842502 -0.128529   \n",
       "3             itemknnpearson  1.161611  1.077781  1.000000 -0.161611   \n",
       "0             itemknnpearson  0.802753  0.895965  0.699557  0.388861   \n",
       "\n",
       "       Cold Start Group  \n",
       "0         No-cold-start  \n",
       "1       User-Cold-Start  \n",
       "2       Item-Cold_start  \n",
       "3  User-Item-cold-start  \n",
       "0                     0  \n",
       "1                     1  \n",
       "0                     0  \n",
       "0         No-cold-start  \n",
       "1       User-Cold-Start  \n",
       "2       Item-Cold_start  \n",
       "3  User-Item-cold-start  \n",
       "0                     0  \n",
       "1                     1  \n",
       "0                     0  \n",
       "0         No-cold-start  \n",
       "1       User-Cold-Start  \n",
       "2       Item-Cold_start  \n",
       "3  User-Item-cold-start  \n",
       "0                     0  \n",
       "1                     1  \n",
       "0                     0  \n",
       "0         No-cold-start  \n",
       "1       User-Cold-Start  \n",
       "2       Item-Cold_start  \n",
       "3  User-Item-cold-start  \n",
       "0                     0  \n",
       "1                     1  \n",
       "0                     0  \n",
       "0         No-cold-start  \n",
       "1       User-Cold-Start  \n",
       "2       Item-Cold_start  \n",
       "3  User-Item-cold-start  \n",
       "0                     0  \n",
       "1                     1  \n",
       "0                     0  \n",
       "0         No-cold-start  \n",
       "1       User-Cold-Start  \n",
       "2       Item-Cold_start  \n",
       "3  User-Item-cold-start  \n",
       "0                     0  "
      ]
     },
     "execution_count": 57,
     "metadata": {},
     "output_type": "execute_result"
    }
   ],
   "source": [
    "results_concat[:40]"
   ]
  },
  {
   "cell_type": "code",
   "execution_count": 58,
   "metadata": {},
   "outputs": [
    {
     "data": {
      "text/html": [
       "<div>\n",
       "<style scoped>\n",
       "    .dataframe tbody tr th:only-of-type {\n",
       "        vertical-align: middle;\n",
       "    }\n",
       "\n",
       "    .dataframe tbody tr th {\n",
       "        vertical-align: top;\n",
       "    }\n",
       "\n",
       "    .dataframe thead th {\n",
       "        text-align: right;\n",
       "    }\n",
       "</style>\n",
       "<table border=\"1\" class=\"dataframe\">\n",
       "  <thead>\n",
       "    <tr style=\"text-align: right;\">\n",
       "      <th></th>\n",
       "      <th>method</th>\n",
       "      <th>mse</th>\n",
       "      <th>rmse</th>\n",
       "      <th>mae</th>\n",
       "      <th>r2_score</th>\n",
       "      <th>Cold Start Group</th>\n",
       "    </tr>\n",
       "  </thead>\n",
       "  <tbody>\n",
       "    <tr>\n",
       "      <th>1</th>\n",
       "      <td>itemknnpearson</td>\n",
       "      <td>0.968187</td>\n",
       "      <td>0.983965</td>\n",
       "      <td>0.787255</td>\n",
       "      <td>0.190315</td>\n",
       "      <td>1</td>\n",
       "    </tr>\n",
       "    <tr>\n",
       "      <th>0</th>\n",
       "      <td>itemknnpearson</td>\n",
       "      <td>0.817426</td>\n",
       "      <td>0.904116</td>\n",
       "      <td>0.707335</td>\n",
       "      <td>0.374592</td>\n",
       "      <td>0</td>\n",
       "    </tr>\n",
       "    <tr>\n",
       "      <th>0</th>\n",
       "      <td>itemknncosine</td>\n",
       "      <td>0.813202</td>\n",
       "      <td>0.901777</td>\n",
       "      <td>0.706219</td>\n",
       "      <td>0.380906</td>\n",
       "      <td>No-cold-start</td>\n",
       "    </tr>\n",
       "    <tr>\n",
       "      <th>1</th>\n",
       "      <td>itemknncosine</td>\n",
       "      <td>0.968217</td>\n",
       "      <td>0.983980</td>\n",
       "      <td>0.787066</td>\n",
       "      <td>0.190210</td>\n",
       "      <td>User-Cold-Start</td>\n",
       "    </tr>\n",
       "    <tr>\n",
       "      <th>2</th>\n",
       "      <td>itemknncosine</td>\n",
       "      <td>0.940441</td>\n",
       "      <td>0.969763</td>\n",
       "      <td>0.842502</td>\n",
       "      <td>-0.128529</td>\n",
       "      <td>Item-Cold_start</td>\n",
       "    </tr>\n",
       "    <tr>\n",
       "      <th>3</th>\n",
       "      <td>itemknncosine</td>\n",
       "      <td>1.161611</td>\n",
       "      <td>1.077781</td>\n",
       "      <td>1.000000</td>\n",
       "      <td>-0.161611</td>\n",
       "      <td>User-Item-cold-start</td>\n",
       "    </tr>\n",
       "    <tr>\n",
       "      <th>0</th>\n",
       "      <td>itemknncosine</td>\n",
       "      <td>0.813202</td>\n",
       "      <td>0.901777</td>\n",
       "      <td>0.706219</td>\n",
       "      <td>0.380906</td>\n",
       "      <td>0</td>\n",
       "    </tr>\n",
       "    <tr>\n",
       "      <th>1</th>\n",
       "      <td>itemknncosine</td>\n",
       "      <td>0.968187</td>\n",
       "      <td>0.983965</td>\n",
       "      <td>0.787255</td>\n",
       "      <td>0.190315</td>\n",
       "      <td>1</td>\n",
       "    </tr>\n",
       "    <tr>\n",
       "      <th>0</th>\n",
       "      <td>itemknncosine</td>\n",
       "      <td>0.826949</td>\n",
       "      <td>0.909367</td>\n",
       "      <td>0.713406</td>\n",
       "      <td>0.367307</td>\n",
       "      <td>0</td>\n",
       "    </tr>\n",
       "    <tr>\n",
       "      <th>0</th>\n",
       "      <td>itemavg</td>\n",
       "      <td>0.986194</td>\n",
       "      <td>0.993073</td>\n",
       "      <td>0.789912</td>\n",
       "      <td>0.249207</td>\n",
       "      <td>No-cold-start</td>\n",
       "    </tr>\n",
       "    <tr>\n",
       "      <th>1</th>\n",
       "      <td>itemavg</td>\n",
       "      <td>0.968701</td>\n",
       "      <td>0.984226</td>\n",
       "      <td>0.789719</td>\n",
       "      <td>0.189805</td>\n",
       "      <td>User-Cold-Start</td>\n",
       "    </tr>\n",
       "    <tr>\n",
       "      <th>2</th>\n",
       "      <td>itemavg</td>\n",
       "      <td>1.190927</td>\n",
       "      <td>1.091296</td>\n",
       "      <td>0.965662</td>\n",
       "      <td>-0.429112</td>\n",
       "      <td>Item-Cold_start</td>\n",
       "    </tr>\n",
       "    <tr>\n",
       "      <th>3</th>\n",
       "      <td>itemavg</td>\n",
       "      <td>1.161611</td>\n",
       "      <td>1.077781</td>\n",
       "      <td>1.000000</td>\n",
       "      <td>-0.161611</td>\n",
       "      <td>User-Item-cold-start</td>\n",
       "    </tr>\n",
       "    <tr>\n",
       "      <th>0</th>\n",
       "      <td>itemavg</td>\n",
       "      <td>0.986194</td>\n",
       "      <td>0.993073</td>\n",
       "      <td>0.789912</td>\n",
       "      <td>0.249207</td>\n",
       "      <td>0</td>\n",
       "    </tr>\n",
       "    <tr>\n",
       "      <th>1</th>\n",
       "      <td>itemavg</td>\n",
       "      <td>0.969318</td>\n",
       "      <td>0.984540</td>\n",
       "      <td>0.790220</td>\n",
       "      <td>0.189368</td>\n",
       "      <td>1</td>\n",
       "    </tr>\n",
       "    <tr>\n",
       "      <th>0</th>\n",
       "      <td>itemavg</td>\n",
       "      <td>0.984697</td>\n",
       "      <td>0.992319</td>\n",
       "      <td>0.789940</td>\n",
       "      <td>0.246615</td>\n",
       "      <td>0</td>\n",
       "    </tr>\n",
       "    <tr>\n",
       "      <th>0</th>\n",
       "      <td>useravg</td>\n",
       "      <td>1.171221</td>\n",
       "      <td>1.082230</td>\n",
       "      <td>0.857404</td>\n",
       "      <td>0.108345</td>\n",
       "      <td>No-cold-start</td>\n",
       "    </tr>\n",
       "    <tr>\n",
       "      <th>1</th>\n",
       "      <td>useravg</td>\n",
       "      <td>1.197711</td>\n",
       "      <td>1.094400</td>\n",
       "      <td>0.917391</td>\n",
       "      <td>-0.001733</td>\n",
       "      <td>User-Cold-Start</td>\n",
       "    </tr>\n",
       "    <tr>\n",
       "      <th>2</th>\n",
       "      <td>useravg</td>\n",
       "      <td>0.958643</td>\n",
       "      <td>0.979103</td>\n",
       "      <td>0.811926</td>\n",
       "      <td>-0.150372</td>\n",
       "      <td>Item-Cold_start</td>\n",
       "    </tr>\n",
       "    <tr>\n",
       "      <th>3</th>\n",
       "      <td>useravg</td>\n",
       "      <td>1.161611</td>\n",
       "      <td>1.077781</td>\n",
       "      <td>1.000000</td>\n",
       "      <td>-0.161611</td>\n",
       "      <td>User-Item-cold-start</td>\n",
       "    </tr>\n",
       "    <tr>\n",
       "      <th>0</th>\n",
       "      <td>useravg</td>\n",
       "      <td>1.171221</td>\n",
       "      <td>1.082230</td>\n",
       "      <td>0.857404</td>\n",
       "      <td>0.108345</td>\n",
       "      <td>0</td>\n",
       "    </tr>\n",
       "    <tr>\n",
       "      <th>1</th>\n",
       "      <td>useravg</td>\n",
       "      <td>1.197084</td>\n",
       "      <td>1.094113</td>\n",
       "      <td>0.917136</td>\n",
       "      <td>-0.001110</td>\n",
       "      <td>1</td>\n",
       "    </tr>\n",
       "    <tr>\n",
       "      <th>0</th>\n",
       "      <td>useravg</td>\n",
       "      <td>1.173515</td>\n",
       "      <td>1.083289</td>\n",
       "      <td>0.862702</td>\n",
       "      <td>0.102151</td>\n",
       "      <td>0</td>\n",
       "    </tr>\n",
       "    <tr>\n",
       "      <th>0</th>\n",
       "      <td>global_avg</td>\n",
       "      <td>1.344811</td>\n",
       "      <td>1.159660</td>\n",
       "      <td>0.957483</td>\n",
       "      <td>-0.023810</td>\n",
       "      <td>No-cold-start</td>\n",
       "    </tr>\n",
       "    <tr>\n",
       "      <th>1</th>\n",
       "      <td>global_avg</td>\n",
       "      <td>1.197711</td>\n",
       "      <td>1.094400</td>\n",
       "      <td>0.917391</td>\n",
       "      <td>-0.001733</td>\n",
       "      <td>User-Cold-Start</td>\n",
       "    </tr>\n",
       "    <tr>\n",
       "      <th>2</th>\n",
       "      <td>global_avg</td>\n",
       "      <td>1.190927</td>\n",
       "      <td>1.091296</td>\n",
       "      <td>0.965662</td>\n",
       "      <td>-0.429112</td>\n",
       "      <td>Item-Cold_start</td>\n",
       "    </tr>\n",
       "    <tr>\n",
       "      <th>3</th>\n",
       "      <td>global_avg</td>\n",
       "      <td>1.161611</td>\n",
       "      <td>1.077781</td>\n",
       "      <td>1.000000</td>\n",
       "      <td>-0.161611</td>\n",
       "      <td>User-Item-cold-start</td>\n",
       "    </tr>\n",
       "    <tr>\n",
       "      <th>0</th>\n",
       "      <td>global_avg</td>\n",
       "      <td>1.344811</td>\n",
       "      <td>1.159660</td>\n",
       "      <td>0.957483</td>\n",
       "      <td>-0.023810</td>\n",
       "      <td>0</td>\n",
       "    </tr>\n",
       "    <tr>\n",
       "      <th>1</th>\n",
       "      <td>global_avg</td>\n",
       "      <td>1.197686</td>\n",
       "      <td>1.094388</td>\n",
       "      <td>0.917534</td>\n",
       "      <td>-0.001614</td>\n",
       "      <td>1</td>\n",
       "    </tr>\n",
       "    <tr>\n",
       "      <th>0</th>\n",
       "      <td>global_avg</td>\n",
       "      <td>1.331762</td>\n",
       "      <td>1.154020</td>\n",
       "      <td>0.953939</td>\n",
       "      <td>-0.018923</td>\n",
       "      <td>0</td>\n",
       "    </tr>\n",
       "    <tr>\n",
       "      <th>0</th>\n",
       "      <td>cf</td>\n",
       "      <td>0.794892</td>\n",
       "      <td>0.891567</td>\n",
       "      <td>0.701948</td>\n",
       "      <td>0.394846</td>\n",
       "      <td>No-cold-start</td>\n",
       "    </tr>\n",
       "    <tr>\n",
       "      <th>1</th>\n",
       "      <td>cf</td>\n",
       "      <td>1.065046</td>\n",
       "      <td>1.032011</td>\n",
       "      <td>0.850611</td>\n",
       "      <td>0.109225</td>\n",
       "      <td>User-Cold-Start</td>\n",
       "    </tr>\n",
       "    <tr>\n",
       "      <th>2</th>\n",
       "      <td>cf</td>\n",
       "      <td>0.724512</td>\n",
       "      <td>0.851183</td>\n",
       "      <td>0.704314</td>\n",
       "      <td>0.130586</td>\n",
       "      <td>Item-Cold_start</td>\n",
       "    </tr>\n",
       "    <tr>\n",
       "      <th>3</th>\n",
       "      <td>cf</td>\n",
       "      <td>2.000000</td>\n",
       "      <td>1.414214</td>\n",
       "      <td>1.000000</td>\n",
       "      <td>-1.000000</td>\n",
       "      <td>User-Item-cold-start</td>\n",
       "    </tr>\n",
       "    <tr>\n",
       "      <th>0</th>\n",
       "      <td>cf</td>\n",
       "      <td>0.794892</td>\n",
       "      <td>0.891567</td>\n",
       "      <td>0.701948</td>\n",
       "      <td>0.394846</td>\n",
       "      <td>0</td>\n",
       "    </tr>\n",
       "    <tr>\n",
       "      <th>1</th>\n",
       "      <td>cf</td>\n",
       "      <td>1.064366</td>\n",
       "      <td>1.031681</td>\n",
       "      <td>0.850264</td>\n",
       "      <td>0.109881</td>\n",
       "      <td>1</td>\n",
       "    </tr>\n",
       "    <tr>\n",
       "      <th>0</th>\n",
       "      <td>cf</td>\n",
       "      <td>0.818793</td>\n",
       "      <td>0.904872</td>\n",
       "      <td>0.715103</td>\n",
       "      <td>0.373547</td>\n",
       "      <td>0</td>\n",
       "    </tr>\n",
       "  </tbody>\n",
       "</table>\n",
       "</div>"
      ],
      "text/plain": [
       "           method       mse      rmse       mae  r2_score  \\\n",
       "1  itemknnpearson  0.968187  0.983965  0.787255  0.190315   \n",
       "0  itemknnpearson  0.817426  0.904116  0.707335  0.374592   \n",
       "0   itemknncosine  0.813202  0.901777  0.706219  0.380906   \n",
       "1   itemknncosine  0.968217  0.983980  0.787066  0.190210   \n",
       "2   itemknncosine  0.940441  0.969763  0.842502 -0.128529   \n",
       "3   itemknncosine  1.161611  1.077781  1.000000 -0.161611   \n",
       "0   itemknncosine  0.813202  0.901777  0.706219  0.380906   \n",
       "1   itemknncosine  0.968187  0.983965  0.787255  0.190315   \n",
       "0   itemknncosine  0.826949  0.909367  0.713406  0.367307   \n",
       "0         itemavg  0.986194  0.993073  0.789912  0.249207   \n",
       "1         itemavg  0.968701  0.984226  0.789719  0.189805   \n",
       "2         itemavg  1.190927  1.091296  0.965662 -0.429112   \n",
       "3         itemavg  1.161611  1.077781  1.000000 -0.161611   \n",
       "0         itemavg  0.986194  0.993073  0.789912  0.249207   \n",
       "1         itemavg  0.969318  0.984540  0.790220  0.189368   \n",
       "0         itemavg  0.984697  0.992319  0.789940  0.246615   \n",
       "0         useravg  1.171221  1.082230  0.857404  0.108345   \n",
       "1         useravg  1.197711  1.094400  0.917391 -0.001733   \n",
       "2         useravg  0.958643  0.979103  0.811926 -0.150372   \n",
       "3         useravg  1.161611  1.077781  1.000000 -0.161611   \n",
       "0         useravg  1.171221  1.082230  0.857404  0.108345   \n",
       "1         useravg  1.197084  1.094113  0.917136 -0.001110   \n",
       "0         useravg  1.173515  1.083289  0.862702  0.102151   \n",
       "0      global_avg  1.344811  1.159660  0.957483 -0.023810   \n",
       "1      global_avg  1.197711  1.094400  0.917391 -0.001733   \n",
       "2      global_avg  1.190927  1.091296  0.965662 -0.429112   \n",
       "3      global_avg  1.161611  1.077781  1.000000 -0.161611   \n",
       "0      global_avg  1.344811  1.159660  0.957483 -0.023810   \n",
       "1      global_avg  1.197686  1.094388  0.917534 -0.001614   \n",
       "0      global_avg  1.331762  1.154020  0.953939 -0.018923   \n",
       "0              cf  0.794892  0.891567  0.701948  0.394846   \n",
       "1              cf  1.065046  1.032011  0.850611  0.109225   \n",
       "2              cf  0.724512  0.851183  0.704314  0.130586   \n",
       "3              cf  2.000000  1.414214  1.000000 -1.000000   \n",
       "0              cf  0.794892  0.891567  0.701948  0.394846   \n",
       "1              cf  1.064366  1.031681  0.850264  0.109881   \n",
       "0              cf  0.818793  0.904872  0.715103  0.373547   \n",
       "\n",
       "       Cold Start Group  \n",
       "1                     1  \n",
       "0                     0  \n",
       "0         No-cold-start  \n",
       "1       User-Cold-Start  \n",
       "2       Item-Cold_start  \n",
       "3  User-Item-cold-start  \n",
       "0                     0  \n",
       "1                     1  \n",
       "0                     0  \n",
       "0         No-cold-start  \n",
       "1       User-Cold-Start  \n",
       "2       Item-Cold_start  \n",
       "3  User-Item-cold-start  \n",
       "0                     0  \n",
       "1                     1  \n",
       "0                     0  \n",
       "0         No-cold-start  \n",
       "1       User-Cold-Start  \n",
       "2       Item-Cold_start  \n",
       "3  User-Item-cold-start  \n",
       "0                     0  \n",
       "1                     1  \n",
       "0                     0  \n",
       "0         No-cold-start  \n",
       "1       User-Cold-Start  \n",
       "2       Item-Cold_start  \n",
       "3  User-Item-cold-start  \n",
       "0                     0  \n",
       "1                     1  \n",
       "0                     0  \n",
       "0         No-cold-start  \n",
       "1       User-Cold-Start  \n",
       "2       Item-Cold_start  \n",
       "3  User-Item-cold-start  \n",
       "0                     0  \n",
       "1                     1  \n",
       "0                     0  "
      ]
     },
     "execution_count": 58,
     "metadata": {},
     "output_type": "execute_result"
    }
   ],
   "source": [
    "results_concat[40:]"
   ]
  },
  {
   "cell_type": "code",
   "execution_count": null,
   "metadata": {},
   "outputs": [],
   "source": []
  }
 ],
 "metadata": {
  "kernelspec": {
   "display_name": "Python 3",
   "language": "python",
   "name": "python3"
  },
  "language_info": {
   "codemirror_mode": {
    "name": "ipython",
    "version": 3
   },
   "file_extension": ".py",
   "mimetype": "text/x-python",
   "name": "python",
   "nbconvert_exporter": "python",
   "pygments_lexer": "ipython3",
   "version": "3.7.3"
  }
 },
 "nbformat": 4,
 "nbformat_minor": 2
}
