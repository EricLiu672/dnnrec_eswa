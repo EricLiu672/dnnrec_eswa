{
 "cells": [
  {
   "cell_type": "code",
   "execution_count": 1,
   "metadata": {},
   "outputs": [],
   "source": [
    "PATH='/home/kirana/Documents/phd/experiment1_new/DNNREC_ML1M'\n",
    "DATAPATH='/home/kirana/Documents/final_dissertation_final/experiments/datasets/ml-1m'"
   ]
  },
  {
   "cell_type": "code",
   "execution_count": 2,
   "metadata": {},
   "outputs": [],
   "source": [
    "import pandas as pd\n",
    "import numpy as np\n",
    "import matplotlib.pyplot as plt\n",
    "import sklearn\n",
    "import os\n",
    "import pickle\n",
    "import torch\n",
    "from torch.utils.data import Dataset, DataLoader\n",
    "from torch import nn\n",
    "import pickle\n",
    "from sklearn import metrics"
   ]
  },
  {
   "cell_type": "code",
   "execution_count": 3,
   "metadata": {},
   "outputs": [],
   "source": [
    "[dftrain,dfvalid,results_concat]=pickle.load(open(f'{DATAPATH}/df_side_cold_runother.pkl','rb'))"
   ]
  },
  {
   "cell_type": "code",
   "execution_count": 4,
   "metadata": {},
   "outputs": [],
   "source": [
    "df=pd.concat([dftrain,dfvalid[dftrain.columns]],axis=0)"
   ]
  },
  {
   "cell_type": "code",
   "execution_count": 5,
   "metadata": {},
   "outputs": [],
   "source": [
    "user_to_idx={j:i+1 for i, j in enumerate(df['userId'].unique())}\n",
    "item_to_idx={j:i+1 for i,j in enumerate(df['itemId'].unique())}\n",
    "idx_to_user={i+1:j for i, j in enumerate(df['userId'].unique())}\n",
    "idx_to_item={i+1:j for i,j in enumerate(df['itemId'].unique())}"
   ]
  },
  {
   "cell_type": "code",
   "execution_count": 6,
   "metadata": {},
   "outputs": [],
   "source": [
    "dftrain['user_idx']=[user_to_idx[i] for i in dftrain['userId']]\n",
    "dftrain['item_idx']=[item_to_idx[i] for i in dftrain['itemId']]"
   ]
  },
  {
   "cell_type": "code",
   "execution_count": 7,
   "metadata": {},
   "outputs": [],
   "source": [
    "dfvalid['user_idx']=[user_to_idx[i] for i in dfvalid['userId']]\n",
    "dfvalid['item_idx']=[item_to_idx[i] for i in dfvalid['itemId']]"
   ]
  },
  {
   "cell_type": "code",
   "execution_count": 8,
   "metadata": {},
   "outputs": [],
   "source": [
    "pickle.dump([df, dftrain,dfvalid,idx_to_user,idx_to_item,item_to_idx,user_to_idx],open(f'{DATAPATH}/reads.pkl','wb'))"
   ]
  },
  {
   "cell_type": "markdown",
   "metadata": {},
   "source": [
    "### Dataset and DataLoader"
   ]
  },
  {
   "cell_type": "code",
   "execution_count": 9,
   "metadata": {},
   "outputs": [],
   "source": [
    "class cfdata (torch.utils.data.dataset.Dataset):\n",
    "    def __init__(self,dfX,dfY):\n",
    "        self.dfX,self.dfY=dfX,dfY\n",
    "        \n",
    "    def __len__ (self):\n",
    "        return self.dfX.shape[0]\n",
    "    \n",
    "    def __getitem__ (self, idx):\n",
    "        return torch.LongTensor(self.dfX.iloc[idx].values),torch.FloatTensor([self.dfY.values[idx]])"
   ]
  },
  {
   "cell_type": "code",
   "execution_count": 10,
   "metadata": {},
   "outputs": [],
   "source": [
    "dstrain=cfdata(dftrain[['user_idx','item_idx']],dftrain['rating'])\n",
    "dsvalid=cfdata(dfvalid[['user_idx','item_idx']],dfvalid['rating'])"
   ]
  },
  {
   "cell_type": "code",
   "execution_count": 11,
   "metadata": {},
   "outputs": [
    {
     "data": {
      "text/plain": [
       "(895738, 392)"
      ]
     },
     "execution_count": 11,
     "metadata": {},
     "output_type": "execute_result"
    }
   ],
   "source": [
    "dftrain.shape"
   ]
  },
  {
   "cell_type": "code",
   "execution_count": 12,
   "metadata": {},
   "outputs": [],
   "source": [
    "bs=128"
   ]
  },
  {
   "cell_type": "code",
   "execution_count": 13,
   "metadata": {},
   "outputs": [],
   "source": [
    "dltrain=DataLoader(dstrain,bs,True)"
   ]
  },
  {
   "cell_type": "code",
   "execution_count": 14,
   "metadata": {},
   "outputs": [],
   "source": [
    "dlvalid=DataLoader(dsvalid,bs,False)"
   ]
  },
  {
   "cell_type": "code",
   "execution_count": 15,
   "metadata": {},
   "outputs": [
    {
     "data": {
      "text/plain": [
       "(6040, 3706)"
      ]
     },
     "execution_count": 15,
     "metadata": {},
     "output_type": "execute_result"
    }
   ],
   "source": [
    "len(user_to_idx),len(item_to_idx)"
   ]
  },
  {
   "cell_type": "markdown",
   "metadata": {},
   "source": [
    "## Model Architecture"
   ]
  },
  {
   "cell_type": "code",
   "execution_count": 16,
   "metadata": {},
   "outputs": [],
   "source": [
    "n_users=len(user_to_idx)\n",
    "n_items=len(item_to_idx)\n",
    "n_emb_user=50\n",
    "n_emb_item=50\n",
    "min_rating=min(dftrain['rating'])\n",
    "max_rating=max(dftrain['rating'])\n",
    "dropout_e=0.05\n"
   ]
  },
  {
   "cell_type": "code",
   "execution_count": 17,
   "metadata": {},
   "outputs": [
    {
     "data": {
      "text/plain": [
       "6040"
      ]
     },
     "execution_count": 17,
     "metadata": {},
     "output_type": "execute_result"
    }
   ],
   "source": [
    "n_users"
   ]
  },
  {
   "cell_type": "code",
   "execution_count": 18,
   "metadata": {},
   "outputs": [],
   "source": [
    "class cf(nn.Module):    \n",
    "    def __init__(self,n_users,n_emb_user,n_emb_item,n_items,min_rating,max_rating,dropout_e=0.01):\n",
    "        super().__init__()\n",
    "        self.n_users,self.n_emb_user,self.n_emb_item,self.n_items,self.min_rating,self.max_rating=\\\n",
    "                    n_users,n_emb_user,n_emb_item,n_items,min_rating,max_rating\n",
    "        self.dropout_e=dropout_e\n",
    "        self.create_architecture()\n",
    "        self.init_parameters()\n",
    "        self.criterion=nn.MSELoss()\n",
    "        \n",
    "        \n",
    "    def create_architecture(self):\n",
    "        self.emb_user=nn.Embedding(self.n_users+1,self.n_emb_user)\n",
    "        self.emb_item=nn.Embedding(self.n_items+1,self.n_emb_item)\n",
    "        self.emb_dropout=nn.Dropout(self.dropout_e)\n",
    "        self.ub=nn.Embedding(self.n_users+1,1)\n",
    "        self.ib=nn.Embedding(self.n_items+1,1)\n",
    "\n",
    "        self.sigmoid=nn.Sigmoid()\n",
    "        \n",
    "        \n",
    "    def init_parameters(self):\n",
    "        nn.init.kaiming_normal_(self.emb_user.weight.data)\n",
    "        nn.init.kaiming_normal_(self.emb_item.weight.data)\n",
    "        nn.init.kaiming_normal_(self.ub.weight.data)\n",
    "        nn.init.kaiming_normal_(self.ib.weight.data)\n",
    "\n",
    "       \n",
    "    def forward (self,Xb,Yb):               \n",
    "        users=self.emb_dropout(self.emb_user(Xb[:,0]))\n",
    "        items=self.emb_dropout(self.emb_item(Xb[:,1]))\n",
    "        users_bias=self.emb_dropout(self.ub(Xb[:,0]))\n",
    "        items_bias=self.emb_dropout(self.ib(Xb[:,1]))\n",
    "\n",
    "        out=(users*items).sum(1)+users_bias.squeeze()+items_bias.squeeze()\n",
    "        out=self.sigmoid(out)\n",
    "        preds=out*(self.max_rating-self.min_rating)+self.min_rating\n",
    "        preds=preds.view(-1,1)\n",
    "        loss=self.criterion(preds,Yb)\n",
    "        return preds,loss"
   ]
  },
  {
   "cell_type": "code",
   "execution_count": 19,
   "metadata": {},
   "outputs": [
    {
     "data": {
      "text/plain": [
       "6040"
      ]
     },
     "execution_count": 19,
     "metadata": {},
     "output_type": "execute_result"
    }
   ],
   "source": [
    "n_users"
   ]
  },
  {
   "cell_type": "code",
   "execution_count": 20,
   "metadata": {},
   "outputs": [],
   "source": [
    "cfobj=cf(n_users,n_emb_user,n_emb_item,n_items,min_rating,max_rating,dropout_e)"
   ]
  },
  {
   "cell_type": "code",
   "execution_count": 21,
   "metadata": {},
   "outputs": [
    {
     "data": {
      "text/plain": [
       "cf(\n",
       "  (emb_user): Embedding(6041, 50)\n",
       "  (emb_item): Embedding(3707, 50)\n",
       "  (emb_dropout): Dropout(p=0.05)\n",
       "  (ub): Embedding(6041, 1)\n",
       "  (ib): Embedding(3707, 1)\n",
       "  (sigmoid): Sigmoid()\n",
       "  (criterion): MSELoss()\n",
       ")"
      ]
     },
     "execution_count": 21,
     "metadata": {},
     "output_type": "execute_result"
    }
   ],
   "source": [
    "cfobj"
   ]
  },
  {
   "cell_type": "code",
   "execution_count": 22,
   "metadata": {},
   "outputs": [],
   "source": [
    "for Xb, Yb in dltrain:\n",
    "    break"
   ]
  },
  {
   "cell_type": "code",
   "execution_count": 23,
   "metadata": {},
   "outputs": [
    {
     "data": {
      "text/plain": [
       "(torch.Size([128, 2]), torch.Size([128, 1]))"
      ]
     },
     "execution_count": 23,
     "metadata": {},
     "output_type": "execute_result"
    }
   ],
   "source": [
    "Xb.shape, Yb.shape"
   ]
  },
  {
   "cell_type": "code",
   "execution_count": 24,
   "metadata": {},
   "outputs": [
    {
     "data": {
      "text/plain": [
       "(tensor([[1.2350],\n",
       "         [1.8783],\n",
       "         [1.5948],\n",
       "         [1.1079],\n",
       "         [4.7079],\n",
       "         [3.1883],\n",
       "         [4.9802],\n",
       "         [4.9611],\n",
       "         [4.2395],\n",
       "         [2.3799],\n",
       "         [4.5697],\n",
       "         [1.6961],\n",
       "         [3.2735],\n",
       "         [2.1516],\n",
       "         [1.8564],\n",
       "         [4.2394],\n",
       "         [2.0496],\n",
       "         [2.8313],\n",
       "         [4.6196],\n",
       "         [1.1584],\n",
       "         [1.1269],\n",
       "         [1.5511],\n",
       "         [1.1920],\n",
       "         [4.8180],\n",
       "         [1.3005],\n",
       "         [1.5688],\n",
       "         [4.3099],\n",
       "         [3.7867],\n",
       "         [2.5027],\n",
       "         [4.9196],\n",
       "         [4.5424],\n",
       "         [2.7295],\n",
       "         [4.3660],\n",
       "         [4.3960],\n",
       "         [4.8734],\n",
       "         [3.6887],\n",
       "         [4.0026],\n",
       "         [3.6784],\n",
       "         [3.6450],\n",
       "         [1.8189],\n",
       "         [2.2372],\n",
       "         [4.2669],\n",
       "         [1.6678],\n",
       "         [4.9216],\n",
       "         [2.2567],\n",
       "         [4.1493],\n",
       "         [3.4297],\n",
       "         [1.0198],\n",
       "         [3.6447],\n",
       "         [1.7351],\n",
       "         [2.4484],\n",
       "         [3.1508],\n",
       "         [2.9321],\n",
       "         [3.8782],\n",
       "         [2.1285],\n",
       "         [2.4684],\n",
       "         [4.5537],\n",
       "         [1.5227],\n",
       "         [4.6327],\n",
       "         [4.8712],\n",
       "         [4.4270],\n",
       "         [3.0720],\n",
       "         [1.1576],\n",
       "         [1.1892],\n",
       "         [1.7417],\n",
       "         [1.7080],\n",
       "         [3.9899],\n",
       "         [2.5407],\n",
       "         [4.3966],\n",
       "         [1.2682],\n",
       "         [4.2972],\n",
       "         [1.2060],\n",
       "         [2.1654],\n",
       "         [3.3843],\n",
       "         [3.9687],\n",
       "         [4.9244],\n",
       "         [4.5902],\n",
       "         [3.7309],\n",
       "         [4.3568],\n",
       "         [4.8933],\n",
       "         [3.7552],\n",
       "         [3.5331],\n",
       "         [2.8623],\n",
       "         [3.4927],\n",
       "         [2.6423],\n",
       "         [1.0796],\n",
       "         [2.4434],\n",
       "         [1.9817],\n",
       "         [4.5885],\n",
       "         [1.6889],\n",
       "         [1.3824],\n",
       "         [1.4072],\n",
       "         [4.9197],\n",
       "         [2.8686],\n",
       "         [2.4192],\n",
       "         [2.4219],\n",
       "         [2.4740],\n",
       "         [3.3318],\n",
       "         [2.6286],\n",
       "         [2.8445],\n",
       "         [2.4141],\n",
       "         [3.4651],\n",
       "         [4.2543],\n",
       "         [3.2183],\n",
       "         [1.6693],\n",
       "         [3.0761],\n",
       "         [3.5891],\n",
       "         [1.1906],\n",
       "         [3.3797],\n",
       "         [4.5833],\n",
       "         [4.8790],\n",
       "         [3.4197],\n",
       "         [2.7064],\n",
       "         [3.4421],\n",
       "         [2.6827],\n",
       "         [1.6244],\n",
       "         [4.3143],\n",
       "         [2.1860],\n",
       "         [3.4513],\n",
       "         [2.3413],\n",
       "         [2.0035],\n",
       "         [2.4134],\n",
       "         [4.7316],\n",
       "         [1.2726],\n",
       "         [1.4253],\n",
       "         [1.0941],\n",
       "         [3.0291],\n",
       "         [1.3132]], grad_fn=<ViewBackward>),\n",
       " tensor(3.1256, grad_fn=<MseLossBackward>))"
      ]
     },
     "execution_count": 24,
     "metadata": {},
     "output_type": "execute_result"
    }
   ],
   "source": [
    "cfobj.forward(Xb,Yb)"
   ]
  },
  {
   "cell_type": "markdown",
   "metadata": {},
   "source": [
    "## Learner"
   ]
  },
  {
   "cell_type": "code",
   "execution_count": 46,
   "metadata": {},
   "outputs": [],
   "source": [
    "class Learner():\n",
    "    def __init__(self,model,optimizer,metric_fn,device,bptt=12,print_every=5,clip_val=None,\\\n",
    "                 cycle_mult=0,lr_decay=0.7,wd_mult=1.1,start_lr=2e-2, end_lr=5e-4,error_type=\"mse\"):\n",
    "        self.model,self.optimizer,self.metric_fn,self.device,self.print_every,self.bptt,self.losses,self.clip_val=\\\n",
    "            model,optimizer,metric_fn,device,print_every,bptt,[],clip_val\n",
    "        self.n_epochs=1\n",
    "        self.cycle_mult,self.lr_decay=cycle_mult,lr_decay\n",
    "        self.wd_mult=wd_mult\n",
    "        for param_group in self.optimizer.param_groups:\n",
    "            self.start_lr=param_group['lr']\n",
    "            self.start_wd=param_group['weight_decay']\n",
    "        self.wd=self.start_wd\n",
    "        self.lr=self.start_lr\n",
    "        self.end_lr=end_lr\n",
    "        self.n_epoch=0\n",
    "        self.lrs=[1e-2,5e-3,1e-4,5e-4]\n",
    "        self.preds,self.preds_valid,self.trainY,self.actual=[],[],[],[]\n",
    "        self.ratio=self.end_lr/self.start_lr\n",
    "        self.num_steps=self.cycle_mult\n",
    "        self.reset_cycle=self.cycle_mult\n",
    "        self.error_type=error_type\n",
    "        self.scores=[]\n",
    "        self.generate_scores=False\n",
    "        \n",
    "    def fit (self,Xb,Yb,mode_train=True):\n",
    "        if mode_train:\n",
    "            self.model.train()\n",
    "        else:\n",
    "            self.model.eval()\n",
    "        \n",
    "        #import pdb\n",
    "        #pdb.set_trace()\n",
    "        preds,loss=self.model(Xb,Yb)\n",
    "\n",
    "     \n",
    "        if mode_train:\n",
    "            if 1==0:\n",
    "                lr =self.lrs[torch.randint(0,4,(1,))]\n",
    "                for param_group in self.optimizer.param_groups:\n",
    "                    param_group['lr']=lr\n",
    "            \n",
    "            self.optimizer.zero_grad()\n",
    "            loss.backward()\n",
    "            self.optimizer.step()\n",
    "        myloss=loss.item()\n",
    "    \n",
    "        \n",
    "        with torch.no_grad():\n",
    "            if self.error_type == \"mse\":\n",
    "                acc=nn.L1Loss() (preds,Yb)\n",
    "                myrmse=np.sqrt(myloss)\n",
    "            else:\n",
    "                acc=nn.MSELoss() (preds,Yb)\n",
    "                myrmse=np.sqrt(acc.item())\n",
    "            acc=acc.item()\n",
    "                 \n",
    "        if mode_train==False:\n",
    "            if self.generate_scores:\n",
    "                self.scores.append(preds.detach().cpu().numpy().flatten())\n",
    "        del preds\n",
    "        del loss\n",
    "        \n",
    "        if self.clip_val is not None:\n",
    "            torch.nn.utils.clip_grad_norm_(self.model.parameters(), self.clip_val)\n",
    "        \n",
    "        return myloss, acc, myrmse\n",
    "    \n",
    "    def lr_find (self,start_lr,end_lr,iterator,n_batch):\n",
    "        losses,lrs=[],[]\n",
    "        ratio=end_lr/start_lr\n",
    "        num_steps=n_batch\n",
    "        lr=start_lr\n",
    "        for i in range(num_steps):            \n",
    "            lr=lr*(end_lr/start_lr)**(1/num_steps)\n",
    "            lrs.append(lr)\n",
    "        self.lrs=lrs\n",
    "        self.run_epoch(iterator,mode_train=True,lrs=lrs)\n",
    "    \n",
    "    def run_epoch(self,iterator,mode_train,lrs=None):\n",
    "        epoch_loss,epoch_acc,i,k=0,0,0,0\n",
    "        epoch_rmse=0\n",
    "\n",
    "        for Xb,Yb in iterator:\n",
    "            Xb=Xb.to(self.device)\n",
    "            Yb=Yb.to(self.device)\n",
    "            \n",
    "            if lrs is not None:\n",
    "                lr=lrs[k]\n",
    "                for param_group in self.optimizer.param_groups:\n",
    "                    param_group['lr']=lr \n",
    "            \n",
    "            loss,acc,myrmse=self.fit(Xb,Yb,mode_train)\n",
    "            \n",
    "            if lrs is not None:\n",
    "                self.losses.append(loss)\n",
    "\n",
    "            epoch_loss+=loss\n",
    "            epoch_acc+=acc\n",
    "            epoch_rmse+=myrmse\n",
    "            \n",
    "            k=k+1\n",
    "            if k%self.print_every == 0:\n",
    "                if k:\n",
    "                    print (f'Batch:{k} {epoch_loss/(k)}  ')  \n",
    "                    torch.cuda.empty_cache()\n",
    "\n",
    "        epoch_loss=epoch_loss/len(iterator)\n",
    "        epoch_acc=epoch_acc/len(iterator)\n",
    "        epoch_rmse=epoch_rmse/len(iterator)\n",
    "            \n",
    "        return epoch_loss,epoch_acc,epoch_rmse\n",
    "    \n",
    "    def plot_lrs(self, n_roll=1,ylim=None,xlim=None):\n",
    "        import seaborn as sns\n",
    "        ax=sns.lineplot(x=self.lrs,y=pd.Series(self.losses).rolling(n_roll).mean())\n",
    "        ax.set_xscale('log')\n",
    "        ax.set_ylabel('Loss')\n",
    "        ax.set_xlabel('Learning Rate')\n",
    "        if ylim is not None:\n",
    "            plt.ylim(ylim)\n",
    "        if xlim is not None:\n",
    "            plt.xlim(xlim)\n",
    "\n",
    "     \n",
    "    def run_epochs(self,dltrain,dlvalid,n_epochs=1):              \n",
    "        for epoch in range(n_epochs):                \n",
    "            loss,acc,rmse=self.run_epoch(dltrain,True)\n",
    "\n",
    "            lossv,accv,rmsev=self.run_epoch(dlvalid,mode_train=False)\n",
    "           \n",
    "            if self.error_type==\"mse\":\n",
    "                loss_mse=loss\n",
    "                loss_rmse=rmse\n",
    "                loss_mae=acc\n",
    "                lossv_mse=lossv\n",
    "                lossv_rmse=rmsev\n",
    "                lossv_mae=accv\n",
    "                \n",
    "            else:\n",
    "                loss_mse=acc\n",
    "                loss_rmse=rmse\n",
    "                loss_mae=loss\n",
    "                lossv_mse=accv\n",
    "                lossv_rmse=rmsev\n",
    "                lossv_mae=lossv\n",
    "            \n",
    "            print (f'Epoch:{epoch} Learning rate {self.lr} Weight Decay {self.wd} Train Loss:{loss} \\\n",
    "                Valid Loss:{lossv} Train RMSE:{loss_rmse} Valid RMSE:{lossv_rmse} Train MSE:{loss_mse} Valid MSE:{lossv_mse} \\\n",
    "                Train MAE:{loss_mae} Valid MAE:{lossv_mae}')\n",
    "\n",
    "              \n",
    "         \n",
    "     \n",
    "            if self.cycle_mult:\n",
    "                if self.n_epoch==self.reset_cycle:\n",
    "                    self.lr=self.start_lr\n",
    "                    #self.wd=self.start_wd\n",
    "                    self.reset_cycle*=self.cycle_mult\n",
    "                    #reset_cycle=self.n_epoch+reset_cycle\n",
    "                    self.n_epoch=0\n",
    "                    self.ratio=self.end_lr/self.start_lr\n",
    "                    self.num_steps=self.reset_cycle\n",
    "                else:\n",
    "                    #self.lr*=(self.lr_decay**self.n_epoch)  \n",
    "                    #if self.n_epoch>1:\n",
    "                    self.wd*=self.wd_mult\n",
    "                    self.lr=self.lr*(self.end_lr/self.start_lr)**(1/self.num_steps)\n",
    "                    self.n_epoch+=1\n",
    "        \n",
    "\n",
    "                \n",
    "            for param_group in self.optimizer.param_groups:\n",
    "                param_group['lr']=self.lr\n",
    "                param_group['weight_decay']=self.wd\n",
    "          \n",
    "     "
   ]
  },
  {
   "cell_type": "code",
   "execution_count": 51,
   "metadata": {},
   "outputs": [
    {
     "ename": "NameError",
     "evalue": "name 'cfobj' is not defined",
     "output_type": "error",
     "traceback": [
      "\u001b[0;31m---------------------------------------------------------------------------\u001b[0m",
      "\u001b[0;31mNameError\u001b[0m                                 Traceback (most recent call last)",
      "\u001b[0;32m<ipython-input-51-747e1dcdff9a>\u001b[0m in \u001b[0;36m<module>\u001b[0;34m\u001b[0m\n\u001b[1;32m      1\u001b[0m \u001b[0;32mif\u001b[0m \u001b[0;36m1\u001b[0m\u001b[0;34m==\u001b[0m\u001b[0;36m1\u001b[0m\u001b[0;34m:\u001b[0m\u001b[0;34m\u001b[0m\u001b[0;34m\u001b[0m\u001b[0m\n\u001b[0;32m----> 2\u001b[0;31m     \u001b[0;32mdel\u001b[0m \u001b[0mcfobj\u001b[0m\u001b[0;34m\u001b[0m\u001b[0;34m\u001b[0m\u001b[0m\n\u001b[0m\u001b[1;32m      3\u001b[0m     \u001b[0mtorch\u001b[0m\u001b[0;34m.\u001b[0m\u001b[0mcuda\u001b[0m\u001b[0;34m.\u001b[0m\u001b[0mempty_cache\u001b[0m\u001b[0;34m(\u001b[0m\u001b[0;34m)\u001b[0m\u001b[0;34m\u001b[0m\u001b[0;34m\u001b[0m\u001b[0m\n",
      "\u001b[0;31mNameError\u001b[0m: name 'cfobj' is not defined"
     ]
    }
   ],
   "source": [
    "if 1==1:\n",
    "    del cfobj\n",
    "    torch.cuda.empty_cache()"
   ]
  },
  {
   "cell_type": "code",
   "execution_count": 52,
   "metadata": {},
   "outputs": [],
   "source": [
    "device='cuda:0'"
   ]
  },
  {
   "cell_type": "code",
   "execution_count": 53,
   "metadata": {},
   "outputs": [],
   "source": [
    "cfobj=cf(n_users,n_emb_user,n_emb_item,n_items,min_rating,max_rating,dropout_e)"
   ]
  },
  {
   "cell_type": "code",
   "execution_count": 54,
   "metadata": {},
   "outputs": [],
   "source": [
    "cfobj=cfobj.to(device)"
   ]
  },
  {
   "cell_type": "code",
   "execution_count": 55,
   "metadata": {},
   "outputs": [
    {
     "data": {
      "text/plain": [
       "cf(\n",
       "  (emb_user): Embedding(6041, 50)\n",
       "  (emb_item): Embedding(3707, 50)\n",
       "  (emb_dropout): Dropout(p=0.05)\n",
       "  (ub): Embedding(6041, 1)\n",
       "  (ib): Embedding(3707, 1)\n",
       "  (sigmoid): Sigmoid()\n",
       "  (criterion): MSELoss()\n",
       ")"
      ]
     },
     "execution_count": 55,
     "metadata": {},
     "output_type": "execute_result"
    }
   ],
   "source": [
    "cfobj"
   ]
  },
  {
   "cell_type": "code",
   "execution_count": 56,
   "metadata": {},
   "outputs": [
    {
     "data": {
      "text/plain": [
       "6998"
      ]
     },
     "execution_count": 56,
     "metadata": {},
     "output_type": "execute_result"
    }
   ],
   "source": [
    "len(dltrain)"
   ]
  },
  {
   "cell_type": "code",
   "execution_count": 57,
   "metadata": {},
   "outputs": [],
   "source": [
    "wd=1e-5\n",
    "optimizer=torch.optim.Adam(cfobj.parameters(),lr=5e-3,betas=(0.9,0.999), weight_decay=wd)\n",
    "learner=Learner(cfobj,optimizer,None,device,0,25000,0.25,cycle_mult=0)"
   ]
  },
  {
   "cell_type": "code",
   "execution_count": 58,
   "metadata": {},
   "outputs": [],
   "source": [
    "learner.lr_find(1e-5,1e-1,dltrain,len(dltrain))"
   ]
  },
  {
   "cell_type": "code",
   "execution_count": 59,
   "metadata": {},
   "outputs": [
    {
     "data": {
      "image/png": "[encoded data removed]",
      "text/plain": [
       "<Figure size 432x288 with 1 Axes>"
      ]
     },
     "metadata": {
      "needs_background": "light"
     },
     "output_type": "display_data"
    }
   ],
   "source": [
    "learner.plot_lrs(100)"
   ]
  },
  {
   "cell_type": "code",
   "execution_count": 60,
   "metadata": {},
   "outputs": [
    {
     "data": {
      "image/png": "[encoded data removed]",
      "text/plain": [
       "<Figure size 432x288 with 1 Axes>"
      ]
     },
     "metadata": {
      "needs_background": "light"
     },
     "output_type": "display_data"
    }
   ],
   "source": [
    "learner.plot_lrs(10)"
   ]
  },
  {
   "cell_type": "code",
   "execution_count": 61,
   "metadata": {},
   "outputs": [
    {
     "data": {
      "image/png": "[encoded data removed]",
      "text/plain": [
       "<Figure size 432x288 with 1 Axes>"
      ]
     },
     "metadata": {
      "needs_background": "light"
     },
     "output_type": "display_data"
    }
   ],
   "source": [
    "learner.plot_lrs(1)"
   ]
  },
  {
   "cell_type": "code",
   "execution_count": 71,
   "metadata": {},
   "outputs": [],
   "source": [
    "del cfobj\n",
    "torch.cuda.empty_cache()"
   ]
  },
  {
   "cell_type": "code",
   "execution_count": 72,
   "metadata": {},
   "outputs": [
    {
     "data": {
      "text/plain": [
       "1e-05"
      ]
     },
     "execution_count": 72,
     "metadata": {},
     "output_type": "execute_result"
    }
   ],
   "source": [
    "wd"
   ]
  },
  {
   "cell_type": "code",
   "execution_count": 73,
   "metadata": {},
   "outputs": [],
   "source": [
    "wd=1e-5"
   ]
  },
  {
   "cell_type": "code",
   "execution_count": 74,
   "metadata": {},
   "outputs": [],
   "source": [
    "cfobj=cf(n_users,n_emb_user,n_emb_item,n_items,min_rating,max_rating,dropout_e)\n",
    "cfobj=cfobj.to(device)"
   ]
  },
  {
   "cell_type": "code",
   "execution_count": 75,
   "metadata": {},
   "outputs": [
    {
     "data": {
      "text/plain": [
       "'cuda:0'"
      ]
     },
     "execution_count": 75,
     "metadata": {},
     "output_type": "execute_result"
    }
   ],
   "source": [
    "device"
   ]
  },
  {
   "cell_type": "code",
   "execution_count": 76,
   "metadata": {},
   "outputs": [
    {
     "data": {
      "text/plain": [
       "cf(\n",
       "  (emb_user): Embedding(6041, 50)\n",
       "  (emb_item): Embedding(3707, 50)\n",
       "  (emb_dropout): Dropout(p=0.05)\n",
       "  (ub): Embedding(6041, 1)\n",
       "  (ib): Embedding(3707, 1)\n",
       "  (sigmoid): Sigmoid()\n",
       "  (criterion): MSELoss()\n",
       ")"
      ]
     },
     "execution_count": 76,
     "metadata": {},
     "output_type": "execute_result"
    }
   ],
   "source": [
    "cfobj"
   ]
  },
  {
   "cell_type": "code",
   "execution_count": 77,
   "metadata": {},
   "outputs": [],
   "source": [
    "optimizer=torch.optim.Adam(cfobj.parameters(),lr=5e-3,betas=(0.9,0.999), weight_decay=wd)\n",
    "learner=Learner(cfobj,optimizer,None,device,0,16000,0.25,cycle_mult=2,start_lr=5e-3,end_lr=1e-3,wd_mult=1.1)"
   ]
  },
  {
   "cell_type": "code",
   "execution_count": 78,
   "metadata": {},
   "outputs": [
    {
     "name": "stdout",
     "output_type": "stream",
     "text": [
      "Epoch:0 Learning rate 0.005 Weight Decay 1e-05 Train Loss:1.2049506453913803                 Valid Loss:0.9114180172233862 Train RMSE:1.0739496824971415 Valid RMSE:0.9457800842136127 Train MSE:1.2049506453913803 Valid MSE:0.9114180172233862                 Train MAE:0.8502038677919589 Valid MAE:0.7531970597466173\n",
      "Epoch:1 Learning rate 0.00223606797749979 Weight Decay 1.1000000000000001e-05 Train Loss:0.7039407708195831                 Valid Loss:0.8329640772088797 Train RMSE:0.8369727023027599 Valid RMSE:0.9035851572389015 Train MSE:0.7039407708195831 Valid MSE:0.8329640772088797                 Train MAE:0.6615636883232723 Valid MAE:0.7221848583863444\n",
      "Epoch:2 Learning rate 0.001 Weight Decay 1.2100000000000003e-05 Train Loss:0.5923190937446983                 Valid Loss:0.8177869164885331 Train RMSE:0.7677680756694724 Valid RMSE:0.8951211778940756 Train MSE:0.5923190937446983 Valid MSE:0.8177869164885331                 Train MAE:0.6089968875361429 Valid MAE:0.7160031748810188\n",
      "Epoch:3 Learning rate 0.005 Weight Decay 1.2100000000000003e-05 Train Loss:0.7385505192976197                 Valid Loss:0.8685639085865955 Train RMSE:0.8564798174354631 Valid RMSE:0.9234460260690087 Train MSE:0.7385505192976197 Valid MSE:0.8685639085865955                 Train MAE:0.6774138334300662 Valid MAE:0.7364692634365988\n",
      "Epoch:4 Learning rate 0.00334370152488211 Weight Decay 1.3310000000000005e-05 Train Loss:0.6679274446838548                 Valid Loss:0.8324547654047444 Train RMSE:0.8150894048767374 Valid RMSE:0.9038247912795181 Train MSE:0.6679274446838548 Valid MSE:0.8324547654047444                 Train MAE:0.6458303813646098 Valid MAE:0.7212966211422859\n",
      "Epoch:5 Learning rate 0.0022360679774997894 Weight Decay 1.4641000000000006e-05 Train Loss:0.6050299294346161                 Valid Loss:0.8155148913912849 Train RMSE:0.7757582326178118 Valid RMSE:0.8943609255699017 Train MSE:0.6050299294346161 Valid MSE:0.8155148913912849                 Train MAE:0.6162264151559894 Valid MAE:0.7145964328559843\n",
      "Epoch:6 Learning rate 0.0014953487812212204 Weight Decay 1.610510000000001e-05 Train Loss:0.5607148875301652                 Valid Loss:0.8108393215782931 Train RMSE:0.7468142646958803 Valid RMSE:0.8915989892800735 Train MSE:0.5607148875301652 Valid MSE:0.8108393215782931                 Train MAE:0.5945011665051786 Valid MAE:0.713244564749182\n"
     ]
    }
   ],
   "source": [
    "learner.run_epochs(dltrain,dlvalid,7)"
   ]
  },
  {
   "cell_type": "code",
   "execution_count": 79,
   "metadata": {},
   "outputs": [],
   "source": [
    "learner.generate_scores=True"
   ]
  },
  {
   "cell_type": "code",
   "execution_count": 80,
   "metadata": {},
   "outputs": [
    {
     "data": {
      "text/plain": [
       "(0.8108393215782931, 0.713244564749182, 0.8915989892800735)"
      ]
     },
     "execution_count": 80,
     "metadata": {},
     "output_type": "execute_result"
    }
   ],
   "source": [
    "learner.run_epoch(dlvalid,False)"
   ]
  },
  {
   "cell_type": "code",
   "execution_count": 81,
   "metadata": {},
   "outputs": [],
   "source": [
    "dfvalid['pred_cf']=np.concatenate(learner.scores)"
   ]
  },
  {
   "cell_type": "code",
   "execution_count": 82,
   "metadata": {},
   "outputs": [
    {
     "data": {
      "text/plain": [
       "0.9004964103994674"
      ]
     },
     "execution_count": 82,
     "metadata": {},
     "output_type": "execute_result"
    }
   ],
   "source": [
    "np.sqrt(metrics.mean_squared_error(dfvalid['rating'],dfvalid['pred_cf']))"
   ]
  },
  {
   "cell_type": "code",
   "execution_count": 83,
   "metadata": {},
   "outputs": [],
   "source": [
    "def score_by_group (dfvalid,predVar,groupVar='cold_start_group',method='global_avg'):\n",
    "    scores=[]\n",
    "    mae_scores=[]\n",
    "    rmse_scores=[]\n",
    "    r2_scores=[]\n",
    "    groups=dfvalid[groupVar].value_counts().index.tolist()\n",
    "    for group in groups:\n",
    "        df=dfvalid.loc[dfvalid[groupVar]==group]\n",
    "        actual=df['rating']\n",
    "        score=metrics.mean_squared_error(df['rating'],df[predVar])\n",
    "        rmse_score=np.sqrt(metrics.mean_squared_error(df['rating'],df[predVar]))\n",
    "        mae_score=metrics.mean_absolute_error(df['rating'],df[predVar])\n",
    "        r2_score=metrics.r2_score(df['rating'],df[predVar])\n",
    "        scores.append(score)\n",
    "        mae_scores.append(mae_score)\n",
    "        rmse_scores.append(rmse_score)\n",
    "        r2_scores.append(r2_score)\n",
    "    return pd.DataFrame({'method':method, 'mse':scores, 'rmse':rmse_scores, 'mae':mae_scores, 'r2_score':r2_scores, 'Cold Start Group':groups})"
   ]
  },
  {
   "cell_type": "code",
   "execution_count": 84,
   "metadata": {},
   "outputs": [
    {
     "data": {
      "text/html": [
       "<div>\n",
       "<style scoped>\n",
       "    .dataframe tbody tr th:only-of-type {\n",
       "        vertical-align: middle;\n",
       "    }\n",
       "\n",
       "    .dataframe tbody tr th {\n",
       "        vertical-align: top;\n",
       "    }\n",
       "\n",
       "    .dataframe thead th {\n",
       "        text-align: right;\n",
       "    }\n",
       "</style>\n",
       "<table border=\"1\" class=\"dataframe\">\n",
       "  <thead>\n",
       "    <tr style=\"text-align: right;\">\n",
       "      <th></th>\n",
       "      <th>method</th>\n",
       "      <th>mse</th>\n",
       "      <th>rmse</th>\n",
       "      <th>mae</th>\n",
       "      <th>r2_score</th>\n",
       "      <th>Cold Start Group</th>\n",
       "    </tr>\n",
       "  </thead>\n",
       "  <tbody>\n",
       "    <tr>\n",
       "      <th>0</th>\n",
       "      <td>cf</td>\n",
       "      <td>0.785098</td>\n",
       "      <td>0.886058</td>\n",
       "      <td>0.699036</td>\n",
       "      <td>0.402302</td>\n",
       "      <td>No-cold-start</td>\n",
       "    </tr>\n",
       "    <tr>\n",
       "      <th>1</th>\n",
       "      <td>cf</td>\n",
       "      <td>1.076576</td>\n",
       "      <td>1.037582</td>\n",
       "      <td>0.859569</td>\n",
       "      <td>0.099582</td>\n",
       "      <td>User-Cold-Start</td>\n",
       "    </tr>\n",
       "    <tr>\n",
       "      <th>2</th>\n",
       "      <td>cf</td>\n",
       "      <td>0.752843</td>\n",
       "      <td>0.867665</td>\n",
       "      <td>0.715771</td>\n",
       "      <td>0.096589</td>\n",
       "      <td>Item-Cold_start</td>\n",
       "    </tr>\n",
       "    <tr>\n",
       "      <th>3</th>\n",
       "      <td>cf</td>\n",
       "      <td>2.000000</td>\n",
       "      <td>1.414214</td>\n",
       "      <td>1.000000</td>\n",
       "      <td>-1.000000</td>\n",
       "      <td>User-Item-cold-start</td>\n",
       "    </tr>\n",
       "    <tr>\n",
       "      <th>0</th>\n",
       "      <td>cf</td>\n",
       "      <td>0.785098</td>\n",
       "      <td>0.886058</td>\n",
       "      <td>0.699036</td>\n",
       "      <td>0.402302</td>\n",
       "      <td>0</td>\n",
       "    </tr>\n",
       "    <tr>\n",
       "      <th>1</th>\n",
       "      <td>cf</td>\n",
       "      <td>1.075937</td>\n",
       "      <td>1.037274</td>\n",
       "      <td>0.859227</td>\n",
       "      <td>0.100204</td>\n",
       "      <td>1</td>\n",
       "    </tr>\n",
       "    <tr>\n",
       "      <th>0</th>\n",
       "      <td>cf</td>\n",
       "      <td>0.810894</td>\n",
       "      <td>0.900496</td>\n",
       "      <td>0.713244</td>\n",
       "      <td>0.379590</td>\n",
       "      <td>0</td>\n",
       "    </tr>\n",
       "  </tbody>\n",
       "</table>\n",
       "</div>"
      ],
      "text/plain": [
       "  method       mse      rmse       mae  r2_score      Cold Start Group\n",
       "0     cf  0.785098  0.886058  0.699036  0.402302         No-cold-start\n",
       "1     cf  1.076576  1.037582  0.859569  0.099582       User-Cold-Start\n",
       "2     cf  0.752843  0.867665  0.715771  0.096589       Item-Cold_start\n",
       "3     cf  2.000000  1.414214  1.000000 -1.000000  User-Item-cold-start\n",
       "0     cf  0.785098  0.886058  0.699036  0.402302                     0\n",
       "1     cf  1.075937  1.037274  0.859227  0.100204                     1\n",
       "0     cf  0.810894  0.900496  0.713244  0.379590                     0"
      ]
     },
     "execution_count": 84,
     "metadata": {},
     "output_type": "execute_result"
    }
   ],
   "source": [
    "result_cf=pd.concat([score_by_group(dfvalid,'pred_cf','cold_start_group','cf'),score_by_group(dfvalid,'pred_cf','cold_start_bucket','cf'),\\\n",
    "score_by_group(dfvalid,'pred_cf','flag_train','cf')],axis=0)\n",
    "result_cf"
   ]
  },
  {
   "cell_type": "code",
   "execution_count": 85,
   "metadata": {},
   "outputs": [],
   "source": [
    "mtx_user_emb=cfobj.emb_user.weight.data.cpu().numpy()\n",
    "mtx_item_emb=cfobj.emb_item.weight.data.cpu().numpy()"
   ]
  },
  {
   "cell_type": "code",
   "execution_count": 86,
   "metadata": {},
   "outputs": [],
   "source": [
    "user_bias_emb=cfobj.ub.weight.data.cpu().numpy()\n",
    "item_bias_emb=cfobj.ib.weight.data.cpu().numpy()"
   ]
  },
  {
   "cell_type": "code",
   "execution_count": 87,
   "metadata": {},
   "outputs": [
    {
     "data": {
      "text/plain": [
       "((6041, 50), (3707, 50), (6041, 1), (3707, 1))"
      ]
     },
     "execution_count": 87,
     "metadata": {},
     "output_type": "execute_result"
    }
   ],
   "source": [
    "mtx_user_emb.shape, mtx_item_emb.shape, user_bias_emb.shape, item_bias_emb.shape"
   ]
  },
  {
   "cell_type": "code",
   "execution_count": 88,
   "metadata": {},
   "outputs": [],
   "source": [
    "pickle.dump([mtx_user_emb,mtx_item_emb,user_bias_emb,item_bias_emb],open(f'{DATAPATH}/wts_embs_50','wb'))"
   ]
  },
  {
   "cell_type": "code",
   "execution_count": 89,
   "metadata": {},
   "outputs": [
    {
     "data": {
      "text/plain": [
       "(70, 6)"
      ]
     },
     "execution_count": 89,
     "metadata": {},
     "output_type": "execute_result"
    }
   ],
   "source": [
    "results_concat.shape"
   ]
  },
  {
   "cell_type": "code",
   "execution_count": 90,
   "metadata": {},
   "outputs": [],
   "source": [
    "results_concat=pd.concat([results_concat,result_cf],axis=0)"
   ]
  },
  {
   "cell_type": "code",
   "execution_count": 91,
   "metadata": {},
   "outputs": [],
   "source": [
    "pickle.dump([df,dftrain,dfvalid,idx_to_user,idx_to_item,item_to_idx,user_to_idx,results_concat],open(f'{DATAPATH}/df_side_cold_runother_cf_50.pkl','wb'))"
   ]
  },
  {
   "cell_type": "code",
   "execution_count": 92,
   "metadata": {},
   "outputs": [
    {
     "data": {
      "text/html": [
       "<div>\n",
       "<style scoped>\n",
       "    .dataframe tbody tr th:only-of-type {\n",
       "        vertical-align: middle;\n",
       "    }\n",
       "\n",
       "    .dataframe tbody tr th {\n",
       "        vertical-align: top;\n",
       "    }\n",
       "\n",
       "    .dataframe thead th {\n",
       "        text-align: right;\n",
       "    }\n",
       "</style>\n",
       "<table border=\"1\" class=\"dataframe\">\n",
       "  <thead>\n",
       "    <tr style=\"text-align: right;\">\n",
       "      <th></th>\n",
       "      <th>method</th>\n",
       "      <th>mse</th>\n",
       "      <th>rmse</th>\n",
       "      <th>mae</th>\n",
       "      <th>r2_score</th>\n",
       "      <th>Cold Start Group</th>\n",
       "    </tr>\n",
       "  </thead>\n",
       "  <tbody>\n",
       "    <tr>\n",
       "      <th>0</th>\n",
       "      <td>biasedmatrixfactorization</td>\n",
       "      <td>0.762661</td>\n",
       "      <td>0.873305</td>\n",
       "      <td>0.686658</td>\n",
       "      <td>0.419384</td>\n",
       "      <td>No-cold-start</td>\n",
       "    </tr>\n",
       "    <tr>\n",
       "      <th>1</th>\n",
       "      <td>biasedmatrixfactorization</td>\n",
       "      <td>0.975590</td>\n",
       "      <td>0.987719</td>\n",
       "      <td>0.787813</td>\n",
       "      <td>0.184044</td>\n",
       "      <td>User-Cold-Start</td>\n",
       "    </tr>\n",
       "    <tr>\n",
       "      <th>2</th>\n",
       "      <td>biasedmatrixfactorization</td>\n",
       "      <td>1.004593</td>\n",
       "      <td>1.002294</td>\n",
       "      <td>0.866920</td>\n",
       "      <td>-0.205512</td>\n",
       "      <td>Item-Cold_start</td>\n",
       "    </tr>\n",
       "    <tr>\n",
       "      <th>3</th>\n",
       "      <td>biasedmatrixfactorization</td>\n",
       "      <td>1.161611</td>\n",
       "      <td>1.077781</td>\n",
       "      <td>1.000000</td>\n",
       "      <td>-0.161611</td>\n",
       "      <td>User-Item-cold-start</td>\n",
       "    </tr>\n",
       "    <tr>\n",
       "      <th>0</th>\n",
       "      <td>biasedmatrixfactorization</td>\n",
       "      <td>0.762661</td>\n",
       "      <td>0.873305</td>\n",
       "      <td>0.686658</td>\n",
       "      <td>0.419384</td>\n",
       "      <td>0</td>\n",
       "    </tr>\n",
       "    <tr>\n",
       "      <th>1</th>\n",
       "      <td>biasedmatrixfactorization</td>\n",
       "      <td>0.975705</td>\n",
       "      <td>0.987778</td>\n",
       "      <td>0.788064</td>\n",
       "      <td>0.184027</td>\n",
       "      <td>1</td>\n",
       "    </tr>\n",
       "    <tr>\n",
       "      <th>0</th>\n",
       "      <td>biasedmatrixfactorization</td>\n",
       "      <td>0.781557</td>\n",
       "      <td>0.884057</td>\n",
       "      <td>0.695652</td>\n",
       "      <td>0.402036</td>\n",
       "      <td>0</td>\n",
       "    </tr>\n",
       "    <tr>\n",
       "      <th>0</th>\n",
       "      <td>svdplusplus</td>\n",
       "      <td>0.760565</td>\n",
       "      <td>0.872104</td>\n",
       "      <td>0.681210</td>\n",
       "      <td>0.420979</td>\n",
       "      <td>No-cold-start</td>\n",
       "    </tr>\n",
       "    <tr>\n",
       "      <th>1</th>\n",
       "      <td>svdplusplus</td>\n",
       "      <td>0.965663</td>\n",
       "      <td>0.982682</td>\n",
       "      <td>0.789363</td>\n",
       "      <td>0.192346</td>\n",
       "      <td>User-Cold-Start</td>\n",
       "    </tr>\n",
       "    <tr>\n",
       "      <th>2</th>\n",
       "      <td>svdplusplus</td>\n",
       "      <td>1.005146</td>\n",
       "      <td>1.002569</td>\n",
       "      <td>0.877412</td>\n",
       "      <td>-0.206175</td>\n",
       "      <td>Item-Cold_start</td>\n",
       "    </tr>\n",
       "    <tr>\n",
       "      <th>3</th>\n",
       "      <td>svdplusplus</td>\n",
       "      <td>1.161611</td>\n",
       "      <td>1.077781</td>\n",
       "      <td>1.000000</td>\n",
       "      <td>-0.161611</td>\n",
       "      <td>User-Item-cold-start</td>\n",
       "    </tr>\n",
       "    <tr>\n",
       "      <th>0</th>\n",
       "      <td>svdplusplus</td>\n",
       "      <td>0.760565</td>\n",
       "      <td>0.872104</td>\n",
       "      <td>0.681210</td>\n",
       "      <td>0.420979</td>\n",
       "      <td>0</td>\n",
       "    </tr>\n",
       "    <tr>\n",
       "      <th>1</th>\n",
       "      <td>svdplusplus</td>\n",
       "      <td>0.965808</td>\n",
       "      <td>0.982755</td>\n",
       "      <td>0.789637</td>\n",
       "      <td>0.192304</td>\n",
       "      <td>1</td>\n",
       "    </tr>\n",
       "    <tr>\n",
       "      <th>0</th>\n",
       "      <td>svdplusplus</td>\n",
       "      <td>0.778769</td>\n",
       "      <td>0.882479</td>\n",
       "      <td>0.690827</td>\n",
       "      <td>0.404169</td>\n",
       "      <td>0</td>\n",
       "    </tr>\n",
       "    <tr>\n",
       "      <th>0</th>\n",
       "      <td>svd</td>\n",
       "      <td>0.767578</td>\n",
       "      <td>0.876115</td>\n",
       "      <td>0.686994</td>\n",
       "      <td>0.415640</td>\n",
       "      <td>No-cold-start</td>\n",
       "    </tr>\n",
       "    <tr>\n",
       "      <th>1</th>\n",
       "      <td>svd</td>\n",
       "      <td>1.197711</td>\n",
       "      <td>1.094400</td>\n",
       "      <td>0.917391</td>\n",
       "      <td>-0.001733</td>\n",
       "      <td>User-Cold-Start</td>\n",
       "    </tr>\n",
       "    <tr>\n",
       "      <th>2</th>\n",
       "      <td>svd</td>\n",
       "      <td>1.190927</td>\n",
       "      <td>1.091296</td>\n",
       "      <td>0.965662</td>\n",
       "      <td>-0.429112</td>\n",
       "      <td>Item-Cold_start</td>\n",
       "    </tr>\n",
       "    <tr>\n",
       "      <th>3</th>\n",
       "      <td>svd</td>\n",
       "      <td>1.161611</td>\n",
       "      <td>1.077781</td>\n",
       "      <td>1.000000</td>\n",
       "      <td>-0.161611</td>\n",
       "      <td>User-Item-cold-start</td>\n",
       "    </tr>\n",
       "    <tr>\n",
       "      <th>0</th>\n",
       "      <td>svd</td>\n",
       "      <td>0.767578</td>\n",
       "      <td>0.876115</td>\n",
       "      <td>0.686994</td>\n",
       "      <td>0.415640</td>\n",
       "      <td>0</td>\n",
       "    </tr>\n",
       "    <tr>\n",
       "      <th>1</th>\n",
       "      <td>svd</td>\n",
       "      <td>1.197686</td>\n",
       "      <td>1.094388</td>\n",
       "      <td>0.917534</td>\n",
       "      <td>-0.001614</td>\n",
       "      <td>1</td>\n",
       "    </tr>\n",
       "    <tr>\n",
       "      <th>0</th>\n",
       "      <td>svd</td>\n",
       "      <td>0.805726</td>\n",
       "      <td>0.897623</td>\n",
       "      <td>0.707442</td>\n",
       "      <td>0.383544</td>\n",
       "      <td>0</td>\n",
       "    </tr>\n",
       "    <tr>\n",
       "      <th>0</th>\n",
       "      <td>userknncosine</td>\n",
       "      <td>0.839762</td>\n",
       "      <td>0.916385</td>\n",
       "      <td>0.718073</td>\n",
       "      <td>0.360686</td>\n",
       "      <td>No-cold-start</td>\n",
       "    </tr>\n",
       "    <tr>\n",
       "      <th>1</th>\n",
       "      <td>userknncosine</td>\n",
       "      <td>0.968217</td>\n",
       "      <td>0.983980</td>\n",
       "      <td>0.787066</td>\n",
       "      <td>0.190210</td>\n",
       "      <td>User-Cold-Start</td>\n",
       "    </tr>\n",
       "    <tr>\n",
       "      <th>2</th>\n",
       "      <td>userknncosine</td>\n",
       "      <td>0.940441</td>\n",
       "      <td>0.969763</td>\n",
       "      <td>0.842502</td>\n",
       "      <td>-0.128529</td>\n",
       "      <td>Item-Cold_start</td>\n",
       "    </tr>\n",
       "    <tr>\n",
       "      <th>3</th>\n",
       "      <td>userknncosine</td>\n",
       "      <td>1.161611</td>\n",
       "      <td>1.077781</td>\n",
       "      <td>1.000000</td>\n",
       "      <td>-0.161611</td>\n",
       "      <td>User-Item-cold-start</td>\n",
       "    </tr>\n",
       "    <tr>\n",
       "      <th>0</th>\n",
       "      <td>userknncosine</td>\n",
       "      <td>0.839762</td>\n",
       "      <td>0.916385</td>\n",
       "      <td>0.718073</td>\n",
       "      <td>0.360686</td>\n",
       "      <td>0</td>\n",
       "    </tr>\n",
       "    <tr>\n",
       "      <th>1</th>\n",
       "      <td>userknncosine</td>\n",
       "      <td>0.968187</td>\n",
       "      <td>0.983965</td>\n",
       "      <td>0.787255</td>\n",
       "      <td>0.190315</td>\n",
       "      <td>1</td>\n",
       "    </tr>\n",
       "    <tr>\n",
       "      <th>0</th>\n",
       "      <td>userknncosine</td>\n",
       "      <td>0.851153</td>\n",
       "      <td>0.922579</td>\n",
       "      <td>0.724209</td>\n",
       "      <td>0.348788</td>\n",
       "      <td>0</td>\n",
       "    </tr>\n",
       "    <tr>\n",
       "      <th>0</th>\n",
       "      <td>userknnpearson</td>\n",
       "      <td>0.825038</td>\n",
       "      <td>0.908316</td>\n",
       "      <td>0.712054</td>\n",
       "      <td>0.371896</td>\n",
       "      <td>No-cold-start</td>\n",
       "    </tr>\n",
       "    <tr>\n",
       "      <th>1</th>\n",
       "      <td>userknnpearson</td>\n",
       "      <td>0.968217</td>\n",
       "      <td>0.983980</td>\n",
       "      <td>0.787066</td>\n",
       "      <td>0.190210</td>\n",
       "      <td>User-Cold-Start</td>\n",
       "    </tr>\n",
       "    <tr>\n",
       "      <th>...</th>\n",
       "      <td>...</td>\n",
       "      <td>...</td>\n",
       "      <td>...</td>\n",
       "      <td>...</td>\n",
       "      <td>...</td>\n",
       "      <td>...</td>\n",
       "    </tr>\n",
       "    <tr>\n",
       "      <th>1</th>\n",
       "      <td>itemknncosine</td>\n",
       "      <td>0.968187</td>\n",
       "      <td>0.983965</td>\n",
       "      <td>0.787255</td>\n",
       "      <td>0.190315</td>\n",
       "      <td>1</td>\n",
       "    </tr>\n",
       "    <tr>\n",
       "      <th>0</th>\n",
       "      <td>itemknncosine</td>\n",
       "      <td>0.826949</td>\n",
       "      <td>0.909367</td>\n",
       "      <td>0.713406</td>\n",
       "      <td>0.367307</td>\n",
       "      <td>0</td>\n",
       "    </tr>\n",
       "    <tr>\n",
       "      <th>0</th>\n",
       "      <td>itemavg</td>\n",
       "      <td>0.986194</td>\n",
       "      <td>0.993073</td>\n",
       "      <td>0.789912</td>\n",
       "      <td>0.249207</td>\n",
       "      <td>No-cold-start</td>\n",
       "    </tr>\n",
       "    <tr>\n",
       "      <th>1</th>\n",
       "      <td>itemavg</td>\n",
       "      <td>0.968701</td>\n",
       "      <td>0.984226</td>\n",
       "      <td>0.789719</td>\n",
       "      <td>0.189805</td>\n",
       "      <td>User-Cold-Start</td>\n",
       "    </tr>\n",
       "    <tr>\n",
       "      <th>2</th>\n",
       "      <td>itemavg</td>\n",
       "      <td>1.190927</td>\n",
       "      <td>1.091296</td>\n",
       "      <td>0.965662</td>\n",
       "      <td>-0.429112</td>\n",
       "      <td>Item-Cold_start</td>\n",
       "    </tr>\n",
       "    <tr>\n",
       "      <th>3</th>\n",
       "      <td>itemavg</td>\n",
       "      <td>1.161611</td>\n",
       "      <td>1.077781</td>\n",
       "      <td>1.000000</td>\n",
       "      <td>-0.161611</td>\n",
       "      <td>User-Item-cold-start</td>\n",
       "    </tr>\n",
       "    <tr>\n",
       "      <th>0</th>\n",
       "      <td>itemavg</td>\n",
       "      <td>0.986194</td>\n",
       "      <td>0.993073</td>\n",
       "      <td>0.789912</td>\n",
       "      <td>0.249207</td>\n",
       "      <td>0</td>\n",
       "    </tr>\n",
       "    <tr>\n",
       "      <th>1</th>\n",
       "      <td>itemavg</td>\n",
       "      <td>0.969318</td>\n",
       "      <td>0.984540</td>\n",
       "      <td>0.790220</td>\n",
       "      <td>0.189368</td>\n",
       "      <td>1</td>\n",
       "    </tr>\n",
       "    <tr>\n",
       "      <th>0</th>\n",
       "      <td>itemavg</td>\n",
       "      <td>0.984697</td>\n",
       "      <td>0.992319</td>\n",
       "      <td>0.789940</td>\n",
       "      <td>0.246615</td>\n",
       "      <td>0</td>\n",
       "    </tr>\n",
       "    <tr>\n",
       "      <th>0</th>\n",
       "      <td>useravg</td>\n",
       "      <td>1.171221</td>\n",
       "      <td>1.082230</td>\n",
       "      <td>0.857404</td>\n",
       "      <td>0.108345</td>\n",
       "      <td>No-cold-start</td>\n",
       "    </tr>\n",
       "    <tr>\n",
       "      <th>1</th>\n",
       "      <td>useravg</td>\n",
       "      <td>1.197711</td>\n",
       "      <td>1.094400</td>\n",
       "      <td>0.917391</td>\n",
       "      <td>-0.001733</td>\n",
       "      <td>User-Cold-Start</td>\n",
       "    </tr>\n",
       "    <tr>\n",
       "      <th>2</th>\n",
       "      <td>useravg</td>\n",
       "      <td>0.958643</td>\n",
       "      <td>0.979103</td>\n",
       "      <td>0.811926</td>\n",
       "      <td>-0.150372</td>\n",
       "      <td>Item-Cold_start</td>\n",
       "    </tr>\n",
       "    <tr>\n",
       "      <th>3</th>\n",
       "      <td>useravg</td>\n",
       "      <td>1.161611</td>\n",
       "      <td>1.077781</td>\n",
       "      <td>1.000000</td>\n",
       "      <td>-0.161611</td>\n",
       "      <td>User-Item-cold-start</td>\n",
       "    </tr>\n",
       "    <tr>\n",
       "      <th>0</th>\n",
       "      <td>useravg</td>\n",
       "      <td>1.171221</td>\n",
       "      <td>1.082230</td>\n",
       "      <td>0.857404</td>\n",
       "      <td>0.108345</td>\n",
       "      <td>0</td>\n",
       "    </tr>\n",
       "    <tr>\n",
       "      <th>1</th>\n",
       "      <td>useravg</td>\n",
       "      <td>1.197084</td>\n",
       "      <td>1.094113</td>\n",
       "      <td>0.917136</td>\n",
       "      <td>-0.001110</td>\n",
       "      <td>1</td>\n",
       "    </tr>\n",
       "    <tr>\n",
       "      <th>0</th>\n",
       "      <td>useravg</td>\n",
       "      <td>1.173515</td>\n",
       "      <td>1.083289</td>\n",
       "      <td>0.862702</td>\n",
       "      <td>0.102151</td>\n",
       "      <td>0</td>\n",
       "    </tr>\n",
       "    <tr>\n",
       "      <th>0</th>\n",
       "      <td>global_avg</td>\n",
       "      <td>1.344811</td>\n",
       "      <td>1.159660</td>\n",
       "      <td>0.957483</td>\n",
       "      <td>-0.023810</td>\n",
       "      <td>No-cold-start</td>\n",
       "    </tr>\n",
       "    <tr>\n",
       "      <th>1</th>\n",
       "      <td>global_avg</td>\n",
       "      <td>1.197711</td>\n",
       "      <td>1.094400</td>\n",
       "      <td>0.917391</td>\n",
       "      <td>-0.001733</td>\n",
       "      <td>User-Cold-Start</td>\n",
       "    </tr>\n",
       "    <tr>\n",
       "      <th>2</th>\n",
       "      <td>global_avg</td>\n",
       "      <td>1.190927</td>\n",
       "      <td>1.091296</td>\n",
       "      <td>0.965662</td>\n",
       "      <td>-0.429112</td>\n",
       "      <td>Item-Cold_start</td>\n",
       "    </tr>\n",
       "    <tr>\n",
       "      <th>3</th>\n",
       "      <td>global_avg</td>\n",
       "      <td>1.161611</td>\n",
       "      <td>1.077781</td>\n",
       "      <td>1.000000</td>\n",
       "      <td>-0.161611</td>\n",
       "      <td>User-Item-cold-start</td>\n",
       "    </tr>\n",
       "    <tr>\n",
       "      <th>0</th>\n",
       "      <td>global_avg</td>\n",
       "      <td>1.344811</td>\n",
       "      <td>1.159660</td>\n",
       "      <td>0.957483</td>\n",
       "      <td>-0.023810</td>\n",
       "      <td>0</td>\n",
       "    </tr>\n",
       "    <tr>\n",
       "      <th>1</th>\n",
       "      <td>global_avg</td>\n",
       "      <td>1.197686</td>\n",
       "      <td>1.094388</td>\n",
       "      <td>0.917534</td>\n",
       "      <td>-0.001614</td>\n",
       "      <td>1</td>\n",
       "    </tr>\n",
       "    <tr>\n",
       "      <th>0</th>\n",
       "      <td>global_avg</td>\n",
       "      <td>1.331762</td>\n",
       "      <td>1.154020</td>\n",
       "      <td>0.953939</td>\n",
       "      <td>-0.018923</td>\n",
       "      <td>0</td>\n",
       "    </tr>\n",
       "    <tr>\n",
       "      <th>0</th>\n",
       "      <td>cf</td>\n",
       "      <td>0.785098</td>\n",
       "      <td>0.886058</td>\n",
       "      <td>0.699036</td>\n",
       "      <td>0.402302</td>\n",
       "      <td>No-cold-start</td>\n",
       "    </tr>\n",
       "    <tr>\n",
       "      <th>1</th>\n",
       "      <td>cf</td>\n",
       "      <td>1.076576</td>\n",
       "      <td>1.037582</td>\n",
       "      <td>0.859569</td>\n",
       "      <td>0.099582</td>\n",
       "      <td>User-Cold-Start</td>\n",
       "    </tr>\n",
       "    <tr>\n",
       "      <th>2</th>\n",
       "      <td>cf</td>\n",
       "      <td>0.752843</td>\n",
       "      <td>0.867665</td>\n",
       "      <td>0.715771</td>\n",
       "      <td>0.096589</td>\n",
       "      <td>Item-Cold_start</td>\n",
       "    </tr>\n",
       "    <tr>\n",
       "      <th>3</th>\n",
       "      <td>cf</td>\n",
       "      <td>2.000000</td>\n",
       "      <td>1.414214</td>\n",
       "      <td>1.000000</td>\n",
       "      <td>-1.000000</td>\n",
       "      <td>User-Item-cold-start</td>\n",
       "    </tr>\n",
       "    <tr>\n",
       "      <th>0</th>\n",
       "      <td>cf</td>\n",
       "      <td>0.785098</td>\n",
       "      <td>0.886058</td>\n",
       "      <td>0.699036</td>\n",
       "      <td>0.402302</td>\n",
       "      <td>0</td>\n",
       "    </tr>\n",
       "    <tr>\n",
       "      <th>1</th>\n",
       "      <td>cf</td>\n",
       "      <td>1.075937</td>\n",
       "      <td>1.037274</td>\n",
       "      <td>0.859227</td>\n",
       "      <td>0.100204</td>\n",
       "      <td>1</td>\n",
       "    </tr>\n",
       "    <tr>\n",
       "      <th>0</th>\n",
       "      <td>cf</td>\n",
       "      <td>0.810894</td>\n",
       "      <td>0.900496</td>\n",
       "      <td>0.713244</td>\n",
       "      <td>0.379590</td>\n",
       "      <td>0</td>\n",
       "    </tr>\n",
       "  </tbody>\n",
       "</table>\n",
       "<p>77 rows × 6 columns</p>\n",
       "</div>"
      ],
      "text/plain": [
       "                       method       mse      rmse       mae  r2_score  \\\n",
       "0   biasedmatrixfactorization  0.762661  0.873305  0.686658  0.419384   \n",
       "1   biasedmatrixfactorization  0.975590  0.987719  0.787813  0.184044   \n",
       "2   biasedmatrixfactorization  1.004593  1.002294  0.866920 -0.205512   \n",
       "3   biasedmatrixfactorization  1.161611  1.077781  1.000000 -0.161611   \n",
       "0   biasedmatrixfactorization  0.762661  0.873305  0.686658  0.419384   \n",
       "1   biasedmatrixfactorization  0.975705  0.987778  0.788064  0.184027   \n",
       "0   biasedmatrixfactorization  0.781557  0.884057  0.695652  0.402036   \n",
       "0                 svdplusplus  0.760565  0.872104  0.681210  0.420979   \n",
       "1                 svdplusplus  0.965663  0.982682  0.789363  0.192346   \n",
       "2                 svdplusplus  1.005146  1.002569  0.877412 -0.206175   \n",
       "3                 svdplusplus  1.161611  1.077781  1.000000 -0.161611   \n",
       "0                 svdplusplus  0.760565  0.872104  0.681210  0.420979   \n",
       "1                 svdplusplus  0.965808  0.982755  0.789637  0.192304   \n",
       "0                 svdplusplus  0.778769  0.882479  0.690827  0.404169   \n",
       "0                         svd  0.767578  0.876115  0.686994  0.415640   \n",
       "1                         svd  1.197711  1.094400  0.917391 -0.001733   \n",
       "2                         svd  1.190927  1.091296  0.965662 -0.429112   \n",
       "3                         svd  1.161611  1.077781  1.000000 -0.161611   \n",
       "0                         svd  0.767578  0.876115  0.686994  0.415640   \n",
       "1                         svd  1.197686  1.094388  0.917534 -0.001614   \n",
       "0                         svd  0.805726  0.897623  0.707442  0.383544   \n",
       "0               userknncosine  0.839762  0.916385  0.718073  0.360686   \n",
       "1               userknncosine  0.968217  0.983980  0.787066  0.190210   \n",
       "2               userknncosine  0.940441  0.969763  0.842502 -0.128529   \n",
       "3               userknncosine  1.161611  1.077781  1.000000 -0.161611   \n",
       "0               userknncosine  0.839762  0.916385  0.718073  0.360686   \n",
       "1               userknncosine  0.968187  0.983965  0.787255  0.190315   \n",
       "0               userknncosine  0.851153  0.922579  0.724209  0.348788   \n",
       "0              userknnpearson  0.825038  0.908316  0.712054  0.371896   \n",
       "1              userknnpearson  0.968217  0.983980  0.787066  0.190210   \n",
       "..                        ...       ...       ...       ...       ...   \n",
       "1               itemknncosine  0.968187  0.983965  0.787255  0.190315   \n",
       "0               itemknncosine  0.826949  0.909367  0.713406  0.367307   \n",
       "0                     itemavg  0.986194  0.993073  0.789912  0.249207   \n",
       "1                     itemavg  0.968701  0.984226  0.789719  0.189805   \n",
       "2                     itemavg  1.190927  1.091296  0.965662 -0.429112   \n",
       "3                     itemavg  1.161611  1.077781  1.000000 -0.161611   \n",
       "0                     itemavg  0.986194  0.993073  0.789912  0.249207   \n",
       "1                     itemavg  0.969318  0.984540  0.790220  0.189368   \n",
       "0                     itemavg  0.984697  0.992319  0.789940  0.246615   \n",
       "0                     useravg  1.171221  1.082230  0.857404  0.108345   \n",
       "1                     useravg  1.197711  1.094400  0.917391 -0.001733   \n",
       "2                     useravg  0.958643  0.979103  0.811926 -0.150372   \n",
       "3                     useravg  1.161611  1.077781  1.000000 -0.161611   \n",
       "0                     useravg  1.171221  1.082230  0.857404  0.108345   \n",
       "1                     useravg  1.197084  1.094113  0.917136 -0.001110   \n",
       "0                     useravg  1.173515  1.083289  0.862702  0.102151   \n",
       "0                  global_avg  1.344811  1.159660  0.957483 -0.023810   \n",
       "1                  global_avg  1.197711  1.094400  0.917391 -0.001733   \n",
       "2                  global_avg  1.190927  1.091296  0.965662 -0.429112   \n",
       "3                  global_avg  1.161611  1.077781  1.000000 -0.161611   \n",
       "0                  global_avg  1.344811  1.159660  0.957483 -0.023810   \n",
       "1                  global_avg  1.197686  1.094388  0.917534 -0.001614   \n",
       "0                  global_avg  1.331762  1.154020  0.953939 -0.018923   \n",
       "0                          cf  0.785098  0.886058  0.699036  0.402302   \n",
       "1                          cf  1.076576  1.037582  0.859569  0.099582   \n",
       "2                          cf  0.752843  0.867665  0.715771  0.096589   \n",
       "3                          cf  2.000000  1.414214  1.000000 -1.000000   \n",
       "0                          cf  0.785098  0.886058  0.699036  0.402302   \n",
       "1                          cf  1.075937  1.037274  0.859227  0.100204   \n",
       "0                          cf  0.810894  0.900496  0.713244  0.379590   \n",
       "\n",
       "        Cold Start Group  \n",
       "0          No-cold-start  \n",
       "1        User-Cold-Start  \n",
       "2        Item-Cold_start  \n",
       "3   User-Item-cold-start  \n",
       "0                      0  \n",
       "1                      1  \n",
       "0                      0  \n",
       "0          No-cold-start  \n",
       "1        User-Cold-Start  \n",
       "2        Item-Cold_start  \n",
       "3   User-Item-cold-start  \n",
       "0                      0  \n",
       "1                      1  \n",
       "0                      0  \n",
       "0          No-cold-start  \n",
       "1        User-Cold-Start  \n",
       "2        Item-Cold_start  \n",
       "3   User-Item-cold-start  \n",
       "0                      0  \n",
       "1                      1  \n",
       "0                      0  \n",
       "0          No-cold-start  \n",
       "1        User-Cold-Start  \n",
       "2        Item-Cold_start  \n",
       "3   User-Item-cold-start  \n",
       "0                      0  \n",
       "1                      1  \n",
       "0                      0  \n",
       "0          No-cold-start  \n",
       "1        User-Cold-Start  \n",
       "..                   ...  \n",
       "1                      1  \n",
       "0                      0  \n",
       "0          No-cold-start  \n",
       "1        User-Cold-Start  \n",
       "2        Item-Cold_start  \n",
       "3   User-Item-cold-start  \n",
       "0                      0  \n",
       "1                      1  \n",
       "0                      0  \n",
       "0          No-cold-start  \n",
       "1        User-Cold-Start  \n",
       "2        Item-Cold_start  \n",
       "3   User-Item-cold-start  \n",
       "0                      0  \n",
       "1                      1  \n",
       "0                      0  \n",
       "0          No-cold-start  \n",
       "1        User-Cold-Start  \n",
       "2        Item-Cold_start  \n",
       "3   User-Item-cold-start  \n",
       "0                      0  \n",
       "1                      1  \n",
       "0                      0  \n",
       "0          No-cold-start  \n",
       "1        User-Cold-Start  \n",
       "2        Item-Cold_start  \n",
       "3   User-Item-cold-start  \n",
       "0                      0  \n",
       "1                      1  \n",
       "0                      0  \n",
       "\n",
       "[77 rows x 6 columns]"
      ]
     },
     "execution_count": 92,
     "metadata": {},
     "output_type": "execute_result"
    }
   ],
   "source": [
    "results_concat"
   ]
  },
  {
   "cell_type": "code",
   "execution_count": null,
   "metadata": {},
   "outputs": [],
   "source": []
  }
 ],
 "metadata": {
  "kernelspec": {
   "display_name": "Python 3",
   "language": "python",
   "name": "python3"
  },
  "language_info": {
   "codemirror_mode": {
    "name": "ipython",
    "version": 3
   },
   "file_extension": ".py",
   "mimetype": "text/x-python",
   "name": "python",
   "nbconvert_exporter": "python",
   "pygments_lexer": "ipython3",
   "version": "3.7.3"
  }
 },
 "nbformat": 4,
 "nbformat_minor": 2
}
