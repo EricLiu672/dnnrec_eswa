{
 "cells": [
  {
   "cell_type": "code",
   "execution_count": 1,
   "metadata": {},
   "outputs": [],
   "source": [
    "PATH='/home/kirana/Documents/phd/experiment1_new/DNNREC_ML1M'\n",
    "DATAPATH='/home/kirana/Documents/final_dissertation_final/experiments/datasets/ml-1m'"
   ]
  },
  {
   "cell_type": "code",
   "execution_count": 2,
   "metadata": {},
   "outputs": [],
   "source": [
    "import pandas as pd\n",
    "import numpy as np\n",
    "import matplotlib.pyplot as plt\n",
    "import sklearn\n",
    "import os\n",
    "import pickle\n",
    "import torch\n",
    "from torch.utils.data import Dataset, DataLoader\n",
    "from torch import nn\n",
    "import pickle\n",
    "from sklearn import metrics"
   ]
  },
  {
   "cell_type": "code",
   "execution_count": 3,
   "metadata": {},
   "outputs": [],
   "source": [
    "[df,dftrain,dfvalid,idx_to_user,idx_to_item,item_to_idx,user_to_idx,results_concat]=\\\n",
    "    pickle.load(open(f'{DATAPATH}/df_side_cold_runother_cf.pkl','rb'))"
   ]
  },
  {
   "cell_type": "code",
   "execution_count": 4,
   "metadata": {},
   "outputs": [
    {
     "data": {
      "text/plain": [
       "Index(['index', 'age', 'flag_train', 'gender', 'genre', 'itemId', 'maxSeqNum',\n",
       "       'month', 'month_acq', 'occupation',\n",
       "       ...\n",
       "       'f_tag_to', 'f_tag_trek', 'f_tag_wars', 'f_tag_weapon', 'f_tag_who',\n",
       "       'f_tag_with', 'f_tag_world', 'f_tag_you', 'user_idx', 'item_idx'],\n",
       "      dtype='object', length=392)"
      ]
     },
     "execution_count": 4,
     "metadata": {},
     "output_type": "execute_result"
    }
   ],
   "source": [
    "dftrain.columns"
   ]
  },
  {
   "cell_type": "code",
   "execution_count": 5,
   "metadata": {},
   "outputs": [],
   "source": [
    "denseCols=dftrain.columns[dftrain.columns.str.startswith('f_t')].tolist()"
   ]
  },
  {
   "cell_type": "code",
   "execution_count": 6,
   "metadata": {},
   "outputs": [
    {
     "data": {
      "text/plain": [
       "['f_title_1939',\n",
       " 'f_title_1940',\n",
       " 'f_title_1941',\n",
       " 'f_title_1942',\n",
       " 'f_title_1944',\n",
       " 'f_title_1946',\n",
       " 'f_title_1950',\n",
       " 'f_title_1951',\n",
       " 'f_title_1953',\n",
       " 'f_title_1954',\n",
       " 'f_title_1955',\n",
       " 'f_title_1956',\n",
       " 'f_title_1957',\n",
       " 'f_title_1958',\n",
       " 'f_title_1959',\n",
       " 'f_title_1960',\n",
       " 'f_title_1961',\n",
       " 'f_title_1962',\n",
       " 'f_title_1963',\n",
       " 'f_title_1964',\n",
       " 'f_title_1965',\n",
       " 'f_title_1966',\n",
       " 'f_title_1967',\n",
       " 'f_title_1968',\n",
       " 'f_title_1969',\n",
       " 'f_title_1970',\n",
       " 'f_title_1971',\n",
       " 'f_title_1972',\n",
       " 'f_title_1973',\n",
       " 'f_title_1974',\n",
       " 'f_title_1975',\n",
       " 'f_title_1976',\n",
       " 'f_title_1977',\n",
       " 'f_title_1978',\n",
       " 'f_title_1979',\n",
       " 'f_title_1980',\n",
       " 'f_title_1981',\n",
       " 'f_title_1982',\n",
       " 'f_title_1983',\n",
       " 'f_title_1984',\n",
       " 'f_title_1985',\n",
       " 'f_title_1986',\n",
       " 'f_title_1987',\n",
       " 'f_title_1988',\n",
       " 'f_title_1989',\n",
       " 'f_title_1990',\n",
       " 'f_title_1991',\n",
       " 'f_title_1992',\n",
       " 'f_title_1993',\n",
       " 'f_title_1994',\n",
       " 'f_title_1995',\n",
       " 'f_title_1996',\n",
       " 'f_title_1997',\n",
       " 'f_title_1998',\n",
       " 'f_title_1999',\n",
       " 'f_title_2000',\n",
       " 'f_title_about',\n",
       " 'f_title_adventures',\n",
       " 'f_title_air',\n",
       " 'f_title_airplane',\n",
       " 'f_title_alien',\n",
       " 'f_title_all',\n",
       " 'f_title_american',\n",
       " 'f_title_an',\n",
       " 'f_title_and',\n",
       " 'f_title_apes',\n",
       " 'f_title_ark',\n",
       " 'f_title_as',\n",
       " 'f_title_at',\n",
       " 'f_title_austin',\n",
       " 'f_title_babe',\n",
       " 'f_title_back',\n",
       " 'f_title_batman',\n",
       " 'f_title_beauty',\n",
       " 'f_title_being',\n",
       " 'f_title_best',\n",
       " 'f_title_big',\n",
       " 'f_title_black',\n",
       " 'f_title_blade',\n",
       " 'f_title_blue',\n",
       " 'f_title_boys',\n",
       " 'f_title_braveheart',\n",
       " 'f_title_breakfast',\n",
       " 'f_title_bride',\n",
       " 'f_title_by',\n",
       " 'f_title_chocolate',\n",
       " 'f_title_christmas',\n",
       " 'f_title_city',\n",
       " 'f_title_close',\n",
       " 'f_title_club',\n",
       " 'f_title_confidential',\n",
       " 'f_title_contact',\n",
       " 'f_title_dark',\n",
       " 'f_title_day',\n",
       " 'f_title_days',\n",
       " 'f_title_dead',\n",
       " 'f_title_die',\n",
       " 'f_title_do',\n",
       " 'f_title_dog',\n",
       " 'f_title_down',\n",
       " 'f_title_dr',\n",
       " 'f_title_empire',\n",
       " 'f_title_episode',\n",
       " 'f_title_escape',\n",
       " 'f_title_extra',\n",
       " 'f_title_eyes',\n",
       " 'f_title_fargo',\n",
       " 'f_title_fear',\n",
       " 'f_title_fight',\n",
       " 'f_title_fire',\n",
       " 'f_title_first',\n",
       " 'f_title_fly',\n",
       " 'f_title_for',\n",
       " 'f_title_forrest',\n",
       " 'f_title_frankenstein',\n",
       " 'f_title_from',\n",
       " 'f_title_full',\n",
       " 'f_title_future',\n",
       " 'f_title_game',\n",
       " 'f_title_ghost',\n",
       " 'f_title_ghostbusters',\n",
       " 'f_title_girl',\n",
       " 'f_title_godfather',\n",
       " 'f_title_good',\n",
       " 'f_title_great',\n",
       " 'f_title_green',\n",
       " 'f_title_groundhog',\n",
       " 'f_title_gump',\n",
       " 'f_title_gun',\n",
       " 'f_title_hard',\n",
       " 'f_title_harry',\n",
       " 'f_title_high',\n",
       " 'f_title_home',\n",
       " 'f_title_hope',\n",
       " 'f_title_house',\n",
       " 'f_title_ii',\n",
       " 'f_title_iii',\n",
       " 'f_title_impossible',\n",
       " 'f_title_in',\n",
       " 'f_title_indiana',\n",
       " 'f_title_is',\n",
       " 'f_title_it',\n",
       " 'f_title_iv',\n",
       " 'f_title_jaws',\n",
       " 'f_title_jedi',\n",
       " 'f_title_john',\n",
       " 'f_title_jones',\n",
       " 'f_title_judgment',\n",
       " 'f_title_jurassic',\n",
       " 'f_title_kid',\n",
       " 'f_title_king',\n",
       " 'f_title_la',\n",
       " 'f_title_lambs',\n",
       " 'f_title_last',\n",
       " 'f_title_lethal',\n",
       " 'f_title_lies',\n",
       " 'f_title_life',\n",
       " 'f_title_list',\n",
       " 'f_title_little',\n",
       " 'f_title_lost',\n",
       " 'f_title_love',\n",
       " 'f_title_mad',\n",
       " 'f_title_malkovich',\n",
       " 'f_title_man',\n",
       " 'f_title_mary',\n",
       " 'f_title_mask',\n",
       " 'f_title_matrix',\n",
       " 'f_title_max',\n",
       " 'f_title_me',\n",
       " 'f_title_men',\n",
       " 'f_title_menace',\n",
       " 'f_title_midnight',\n",
       " 'f_title_mission',\n",
       " 'f_title_monty',\n",
       " 'f_title_movie',\n",
       " 'f_title_mr',\n",
       " 'f_title_my',\n",
       " 'f_title_mystery',\n",
       " 'f_title_new',\n",
       " 'f_title_night',\n",
       " 'f_title_nightmare',\n",
       " 'f_title_october',\n",
       " 'f_title_of',\n",
       " 'f_title_off',\n",
       " 'f_title_old',\n",
       " 'f_title_on',\n",
       " 'f_title_one',\n",
       " 'f_title_out',\n",
       " 'f_title_over',\n",
       " 'f_title_park',\n",
       " 'f_title_part',\n",
       " 'f_title_phantom',\n",
       " 'f_title_picture',\n",
       " 'f_title_planet',\n",
       " 'f_title_powers',\n",
       " 'f_title_princess',\n",
       " 'f_title_private',\n",
       " 'f_title_psycho',\n",
       " 'f_title_python',\n",
       " 'f_title_quest',\n",
       " 'f_title_raiders',\n",
       " 'f_title_rain',\n",
       " 'f_title_red',\n",
       " 'f_title_redemption',\n",
       " 'f_title_return',\n",
       " 'f_title_road',\n",
       " 'f_title_rock',\n",
       " 'f_title_rocky',\n",
       " 'f_title_roger',\n",
       " 'f_title_run',\n",
       " 'f_title_ryan',\n",
       " 'f_title_saving',\n",
       " 'f_title_schindler',\n",
       " 'f_title_sense',\n",
       " 'f_title_seven',\n",
       " 'f_title_shakespeare',\n",
       " 'f_title_shawshank',\n",
       " 'f_title_show',\n",
       " 'f_title_silence',\n",
       " 'f_title_sixth',\n",
       " 'f_title_space',\n",
       " 'f_title_star',\n",
       " 'f_title_story',\n",
       " 'f_title_strikes',\n",
       " 'f_title_superman',\n",
       " 'f_title_terminator',\n",
       " 'f_title_terrestrial',\n",
       " 'f_title_the',\n",
       " 'f_title_thing',\n",
       " 'f_title_three',\n",
       " 'f_title_time',\n",
       " 'f_title_to',\n",
       " 'f_title_toy',\n",
       " 'f_title_trek',\n",
       " 'f_title_true',\n",
       " 'f_title_up',\n",
       " 'f_title_vi',\n",
       " 'f_title_wars',\n",
       " 'f_title_weapon',\n",
       " 'f_title_wedding',\n",
       " 'f_title_what',\n",
       " 'f_title_when',\n",
       " 'f_title_white',\n",
       " 'f_title_who',\n",
       " 'f_title_wild',\n",
       " 'f_title_with',\n",
       " 'f_title_woman',\n",
       " 'f_title_world',\n",
       " 'f_title_you',\n",
       " 'f_title_young',\n",
       " 'f_tag_1940',\n",
       " 'f_tag_1954',\n",
       " 'f_tag_1958',\n",
       " 'f_tag_1959',\n",
       " 'f_tag_1961',\n",
       " 'f_tag_1962',\n",
       " 'f_tag_1963',\n",
       " 'f_tag_1964',\n",
       " 'f_tag_1967',\n",
       " 'f_tag_1968',\n",
       " 'f_tag_1969',\n",
       " 'f_tag_1970',\n",
       " 'f_tag_1971',\n",
       " 'f_tag_1972',\n",
       " 'f_tag_1973',\n",
       " 'f_tag_1974',\n",
       " 'f_tag_1975',\n",
       " 'f_tag_1976',\n",
       " 'f_tag_1977',\n",
       " 'f_tag_1978',\n",
       " 'f_tag_1979',\n",
       " 'f_tag_1980',\n",
       " 'f_tag_1981',\n",
       " 'f_tag_1982',\n",
       " 'f_tag_1983',\n",
       " 'f_tag_1984',\n",
       " 'f_tag_1985',\n",
       " 'f_tag_1986',\n",
       " 'f_tag_1987',\n",
       " 'f_tag_1988',\n",
       " 'f_tag_1989',\n",
       " 'f_tag_1990',\n",
       " 'f_tag_1991',\n",
       " 'f_tag_1992',\n",
       " 'f_tag_1993',\n",
       " 'f_tag_1994',\n",
       " 'f_tag_1995',\n",
       " 'f_tag_1996',\n",
       " 'f_tag_1997',\n",
       " 'f_tag_1998',\n",
       " 'f_tag_1999',\n",
       " 'f_tag_2000',\n",
       " 'f_tag_about',\n",
       " 'f_tag_alien',\n",
       " 'f_tag_american',\n",
       " 'f_tag_and',\n",
       " 'f_tag_back',\n",
       " 'f_tag_beauty',\n",
       " 'f_tag_big',\n",
       " 'f_tag_black',\n",
       " 'f_tag_by',\n",
       " 'f_tag_day',\n",
       " 'f_tag_dead',\n",
       " 'f_tag_die',\n",
       " 'f_tag_episode',\n",
       " 'f_tag_for',\n",
       " 'f_tag_from',\n",
       " 'f_tag_future',\n",
       " 'f_tag_godfather',\n",
       " 'f_tag_good',\n",
       " 'f_tag_hard',\n",
       " 'f_tag_high',\n",
       " 'f_tag_ii',\n",
       " 'f_tag_iii',\n",
       " 'f_tag_in',\n",
       " 'f_tag_it',\n",
       " 'f_tag_iv',\n",
       " 'f_tag_king',\n",
       " 'f_tag_last',\n",
       " 'f_tag_life',\n",
       " 'f_tag_little',\n",
       " 'f_tag_lost',\n",
       " 'f_tag_love',\n",
       " 'f_tag_man',\n",
       " 'f_tag_me',\n",
       " 'f_tag_men',\n",
       " 'f_tag_my',\n",
       " 'f_tag_new',\n",
       " 'f_tag_night',\n",
       " 'f_tag_of',\n",
       " 'f_tag_on',\n",
       " 'f_tag_one',\n",
       " 'f_tag_park',\n",
       " 'f_tag_part',\n",
       " 'f_tag_red',\n",
       " 'f_tag_return',\n",
       " 'f_tag_run',\n",
       " 'f_tag_space',\n",
       " 'f_tag_star',\n",
       " 'f_tag_story',\n",
       " 'f_tag_terminator',\n",
       " 'f_tag_the',\n",
       " 'f_tag_to',\n",
       " 'f_tag_trek',\n",
       " 'f_tag_wars',\n",
       " 'f_tag_weapon',\n",
       " 'f_tag_who',\n",
       " 'f_tag_with',\n",
       " 'f_tag_world',\n",
       " 'f_tag_you']"
      ]
     },
     "execution_count": 6,
     "metadata": {},
     "output_type": "execute_result"
    }
   ],
   "source": [
    "denseCols"
   ]
  },
  {
   "cell_type": "code",
   "execution_count": 7,
   "metadata": {},
   "outputs": [],
   "source": [
    "genre_to_idx={j:i+1 for i,j in enumerate(dftrain['genre'].unique())}\n",
    "idx_to_genre={i+1:j for i,j in enumerate(dftrain['genre'].unique())}\n",
    "dftrain['genre_idx']=[genre_to_idx.get(i) for i in dftrain['genre']]\n",
    "dfvalid['genre_idx']=[genre_to_idx.get(i) for i in dfvalid['genre']]"
   ]
  },
  {
   "cell_type": "code",
   "execution_count": 8,
   "metadata": {},
   "outputs": [],
   "source": [
    "occupation_to_idx={j:i+1 for i,j in enumerate(dftrain['occupation'].unique())}\n",
    "idx_to_occupation={i+1:j for i,j in enumerate(dftrain['occupation'].unique())}\n",
    "dftrain['occupation_idx']=[occupation_to_idx.get(i) for i in dftrain['occupation']]\n",
    "dfvalid['occupation_idx']=[occupation_to_idx.get(i) for i in dfvalid['occupation']]"
   ]
  },
  {
   "cell_type": "code",
   "execution_count": 9,
   "metadata": {},
   "outputs": [],
   "source": [
    "age_to_idx={j:i+1 for i,j in enumerate(dftrain['age'].unique())}\n",
    "idx_to_age={i+1:j for i,j in enumerate(dftrain['age'].unique())}\n",
    "dftrain['age_idx']=[age_to_idx.get(i) for i in dftrain['age']]\n",
    "dfvalid['age_idx']=[age_to_idx.get(i) for i in dfvalid['age']]"
   ]
  },
  {
   "cell_type": "code",
   "execution_count": 10,
   "metadata": {},
   "outputs": [],
   "source": [
    "gender_to_idx={j:i+1 for i,j in enumerate(dftrain['gender'].unique())}\n",
    "idx_to_gender={i+1:j for i,j in enumerate(dftrain['gender'].unique())}\n",
    "dftrain['gender_idx']=[gender_to_idx.get(i) for i in dftrain['gender']]\n",
    "dfvalid['gender_idx']=[gender_to_idx.get(i) for i in dfvalid['gender']]"
   ]
  },
  {
   "cell_type": "code",
   "execution_count": 11,
   "metadata": {},
   "outputs": [],
   "source": [
    "catCols=['genre_idx','occupation_idx','age_idx','gender_idx']"
   ]
  },
  {
   "cell_type": "markdown",
   "metadata": {},
   "source": [
    "### Dataset and DataLoader"
   ]
  },
  {
   "cell_type": "code",
   "execution_count": 12,
   "metadata": {},
   "outputs": [],
   "source": [
    "class cfdata (torch.utils.data.dataset.Dataset):\n",
    "    def __init__(self,dfX,dfY,denseCols,catCols):\n",
    "        self.dfX,self.dfY=dfX,dfY\n",
    "        self.denseCols=denseCols\n",
    "        self.catCols=catCols\n",
    "        \n",
    "    def __len__ (self):\n",
    "        return self.dfX.shape[0]\n",
    "    \n",
    "    def __getitem__ (self, idx):\n",
    "        return torch.FloatTensor(self.dfX.iloc[idx].values),torch.FloatTensor([self.dfY.values[idx]])"
   ]
  },
  {
   "cell_type": "code",
   "execution_count": 13,
   "metadata": {},
   "outputs": [],
   "source": [
    "dstrain=cfdata(dftrain[['user_idx','item_idx']+denseCols+catCols],dftrain['rating'],denseCols,catCols)\n",
    "dsvalid=cfdata(dfvalid[['user_idx','item_idx']+denseCols+catCols],dfvalid['rating'],denseCols,catCols)"
   ]
  },
  {
   "cell_type": "code",
   "execution_count": 14,
   "metadata": {},
   "outputs": [
    {
     "data": {
      "text/plain": [
       "(895738, 396)"
      ]
     },
     "execution_count": 14,
     "metadata": {},
     "output_type": "execute_result"
    }
   ],
   "source": [
    "dftrain.shape"
   ]
  },
  {
   "cell_type": "code",
   "execution_count": 15,
   "metadata": {},
   "outputs": [],
   "source": [
    "bs=128"
   ]
  },
  {
   "cell_type": "code",
   "execution_count": 16,
   "metadata": {},
   "outputs": [],
   "source": [
    "dltrain=DataLoader(dstrain,bs,True)"
   ]
  },
  {
   "cell_type": "code",
   "execution_count": 17,
   "metadata": {},
   "outputs": [],
   "source": [
    "dlvalid=DataLoader(dsvalid,bs,False)"
   ]
  },
  {
   "cell_type": "code",
   "execution_count": 18,
   "metadata": {},
   "outputs": [
    {
     "data": {
      "text/plain": [
       "301"
      ]
     },
     "execution_count": 18,
     "metadata": {},
     "output_type": "execute_result"
    }
   ],
   "source": [
    "dftrain['genre'].nunique()"
   ]
  },
  {
   "cell_type": "code",
   "execution_count": 19,
   "metadata": {},
   "outputs": [
    {
     "data": {
      "text/plain": [
       "[('genre_idx', 301), ('occupation_idx', 21), ('age_idx', 7), ('gender_idx', 2)]"
      ]
     },
     "execution_count": 19,
     "metadata": {},
     "output_type": "execute_result"
    }
   ],
   "source": [
    "[(col, dftrain[col].nunique()) for col in catCols]"
   ]
  },
  {
   "cell_type": "code",
   "execution_count": 20,
   "metadata": {},
   "outputs": [
    {
     "data": {
      "text/plain": [
       "{'genre_idx': 3, 'occupation_idx': 0, 'age_idx': 0, 'gender_idx': 0}"
      ]
     },
     "execution_count": 20,
     "metadata": {},
     "output_type": "execute_result"
    }
   ],
   "source": [
    "{col: min(50,dftrain[col].nunique()//100) for col in catCols}"
   ]
  },
  {
   "cell_type": "code",
   "execution_count": 21,
   "metadata": {},
   "outputs": [],
   "source": [
    "emb_szs=[(dftrain[col].nunique(),min(50,dftrain[col].nunique()//2)) for col in catCols]"
   ]
  },
  {
   "cell_type": "code",
   "execution_count": 22,
   "metadata": {},
   "outputs": [
    {
     "data": {
      "text/plain": [
       "[(301, 50), (21, 10), (7, 3), (2, 1)]"
      ]
     },
     "execution_count": 22,
     "metadata": {},
     "output_type": "execute_result"
    }
   ],
   "source": [
    "emb_szs"
   ]
  },
  {
   "cell_type": "markdown",
   "metadata": {},
   "source": [
    "## Model Architecture"
   ]
  },
  {
   "cell_type": "code",
   "execution_count": 23,
   "metadata": {},
   "outputs": [],
   "source": [
    "n_users=len(user_to_idx)\n",
    "n_items=len(item_to_idx)\n",
    "n_emb_user=50\n",
    "n_emb_item=50\n",
    "min_rating=min(dftrain['rating'])\n",
    "max_rating=max(dftrain['rating'])\n",
    "dropout_e=0.05\n",
    "    # embedding, dense, cat, final\n",
    "hidden=[25,1,5,10]\n",
    "dropouts=[0.2,0.3,0.2,0]"
   ]
  },
  {
   "cell_type": "code",
   "execution_count": 24,
   "metadata": {},
   "outputs": [],
   "source": [
    "def hidden_layer(x,y,dropout,activation=nn.Sigmoid()):\n",
    "    return nn.Sequential(\n",
    "        nn.Linear(x, y),\n",
    "        activation,\n",
    "        nn.Dropout(p=dropout)\n",
    "        )   "
   ]
  },
  {
   "cell_type": "code",
   "execution_count": 25,
   "metadata": {},
   "outputs": [],
   "source": [
    "#[mtx_user_emb,mtx_item_emb,user_bias_emb,item_bias_emb]=pickle.load(open(f'{DATAPATH}/wts_embs','rb'))\n",
    "pretrain_wts=pickle.load(open(f'{DATAPATH}/wts_embs_50','rb'))\n",
    "#pretrain_wts=None"
   ]
  },
  {
   "cell_type": "code",
   "execution_count": 26,
   "metadata": {},
   "outputs": [],
   "source": [
    "class cf(nn.Module):    \n",
    "    def __init__(self,n_users,n_emb_user,n_emb_item,n_items,min_rating,max_rating,autoenc_cols,pretrain_wts,\\\n",
    "                 catCols, emb_szs,dropout_e=0.01,hidden=[15,5],dropouts=[0.2,0.2],error_type=\"mse\"):\n",
    "        super().__init__()\n",
    "        self.n_users,self.n_emb_user,self.n_emb_item,self.n_items,self.min_rating,self.max_rating=\\\n",
    "                    n_users,n_emb_user,n_emb_item,n_items,min_rating,max_rating\n",
    "        self.dropout_e,self.hidden,self.dropouts=dropout_e,hidden,dropouts\n",
    "        self.autoenc_cols,self.len_dense_cols=autoenc_cols,len(autoenc_cols)\n",
    "        self.catCols,self.emb_szs=catCols,emb_szs\n",
    "        self.len_cat_cols=len(self.catCols)\n",
    "        self.n_cat_emb=sum([x[1] for x in emb_szs])\n",
    "        \n",
    "        \n",
    "        self.create_architecture()\n",
    "        self.init_parameters()\n",
    "        \n",
    "        if pretrain_wts is not None:\n",
    "            self.emb_user.weight.data=torch.FloatTensor(pretrain_wts[0])\n",
    "            self.emb_item.weight.data=torch.FloatTensor(pretrain_wts[1])\n",
    "            self.ub.weight.data=torch.FloatTensor(pretrain_wts[2])\n",
    "            self.ib.weight.data=torch.FloatTensor(pretrain_wts[3])\n",
    "\n",
    "        if error_type!=\"mse\":\n",
    "            self.criterion=nn.L1Loss()\n",
    "        else:\n",
    "            self.criterion=nn.MSELoss()\n",
    "        \n",
    "    def create_architecture(self):\n",
    "        self.emb_user=nn.Embedding(self.n_users+1,self.n_emb_user)\n",
    "        self.emb_item=nn.Embedding(self.n_items+1,self.n_emb_item)\n",
    "        self.ub=nn.Embedding(self.n_users+1,1)\n",
    "        self.ib=nn.Embedding(self.n_items+1,1)\n",
    "        self.embs_cat=nn.ModuleList([nn.Embedding(x+1,y) for x,y in self.emb_szs])\n",
    "        \n",
    "        self.emb_dropout=nn.Dropout(self.dropout_e)\n",
    "\n",
    "        \n",
    "        self.lin1= nn.Sequential(nn.Linear(self.n_emb_user+self.n_emb_item,self.hidden[0]),\n",
    "                    nn.ReLU(),\n",
    "                    nn.Dropout(p=dropouts[0]) )\n",
    "        self.lin_bias=nn.Linear(3,1)\n",
    "       \n",
    "        self.lin2= nn.Sequential (nn.Linear(self.len_dense_cols,self.hidden[1]),\n",
    "                    nn.ReLU(),\n",
    "                    nn.Dropout(p=dropouts[1]) )\n",
    "        self.lin_cat= nn.Sequential (nn.Linear(self.n_cat_emb,self.hidden[2]),\n",
    "                                nn.ReLU(),\n",
    "                                nn.Dropout(p=dropouts[2]))\n",
    "        self.lin3= nn.Sequential (nn.Linear(self.hidden[0]+self.hidden[1]+1+self.hidden[2],self.hidden[3]),\n",
    "                    nn.ReLU(),\n",
    "                    nn.Dropout(p=dropouts[3]))\n",
    "        self.lin4=nn.Linear(self.hidden[3],1)\n",
    "        self.sigmoid=nn.Sigmoid()\n",
    "        \n",
    "        \n",
    "    def init_parameters(self):\n",
    "        nn.init.kaiming_normal_(self.emb_user.weight.data)\n",
    "        nn.init.kaiming_normal_(self.emb_item.weight.data)\n",
    "        nn.init.zeros_(self.ub.weight.data)\n",
    "        nn.init.zeros_(self.ib.weight.data)\n",
    "        nn.init.kaiming_normal_(self.lin1[0].weight.data)\n",
    "        nn.init.kaiming_normal_(self.lin2[0].weight.data)\n",
    "        nn.init.kaiming_normal_(self.lin3[0].weight.data)\n",
    "        #nn.init.kaiming_normal_(lin)\n",
    "       \n",
    "    def forward (self,Xb,Yb):\n",
    "        users=Xb[:,0].long()\n",
    "        items=Xb[:,1].long()\n",
    "        users=self.emb_dropout(self.emb_user(users))\n",
    "        items=self.emb_dropout(self.emb_item(items))\n",
    "        users_bias=self.emb_dropout(self.ub(Xb[:,0].long()))\n",
    "        items_bias=self.emb_dropout(self.ib(Xb[:,1].long()))\n",
    "        embed=torch.cat([users,items],1)\n",
    "        out1=self.lin1(embed)\n",
    "        bias=torch.cat([users_bias,items_bias,users_bias+items_bias],1)\n",
    "        biased=self.lin_bias(bias)\n",
    "           \n",
    "        \n",
    "        denses=Xb[:,2:(2+self.len_dense_cols)]\n",
    "        out2=self.lin2(denses)\n",
    "                  \n",
    "        cats=Xb[:,(2+self.len_dense_cols):].long()\n",
    "        embed_cat=[self.emb_dropout(self.embs_cat[i](cats[:,i]) ) for i in range(len(self.emb_szs))]\n",
    "        embedded_cat = torch.cat([x for x in embed_cat],1)\n",
    "        out_cat=self.lin_cat(embedded_cat)\n",
    "        \n",
    "        out3=torch.cat([out1,out2,biased,out_cat],1)\n",
    "        \n",
    "        out4=self.lin3(out3)\n",
    "        \n",
    "        out5=self.lin4(out4)\n",
    "        \n",
    "        out=self.sigmoid(out5)\n",
    "        \n",
    "        preds=out*(self.max_rating-self.min_rating)+self.min_rating\n",
    "        #preds=torch.clamp(out,self.min_rating,self.max_rating)\n",
    "        #preds=preds.view(-1)\n",
    "        loss=self.criterion(preds,Yb)\n",
    "        return preds,loss"
   ]
  },
  {
   "cell_type": "code",
   "execution_count": 27,
   "metadata": {},
   "outputs": [],
   "source": [
    "cfobj=cf(n_users,n_emb_user,n_emb_item,n_items,min_rating,max_rating,denseCols,pretrain_wts,catCols,emb_szs,dropout_e,hidden,dropouts,error_type=\"mse\")"
   ]
  },
  {
   "cell_type": "code",
   "execution_count": 28,
   "metadata": {},
   "outputs": [
    {
     "data": {
      "text/plain": [
       "cf(\n",
       "  (emb_user): Embedding(6041, 50)\n",
       "  (emb_item): Embedding(3707, 50)\n",
       "  (ub): Embedding(6041, 1)\n",
       "  (ib): Embedding(3707, 1)\n",
       "  (embs_cat): ModuleList(\n",
       "    (0): Embedding(302, 50)\n",
       "    (1): Embedding(22, 10)\n",
       "    (2): Embedding(8, 3)\n",
       "    (3): Embedding(3, 1)\n",
       "  )\n",
       "  (emb_dropout): Dropout(p=0.05)\n",
       "  (lin1): Sequential(\n",
       "    (0): Linear(in_features=100, out_features=25, bias=True)\n",
       "    (1): ReLU()\n",
       "    (2): Dropout(p=0.2)\n",
       "  )\n",
       "  (lin_bias): Linear(in_features=3, out_features=1, bias=True)\n",
       "  (lin2): Sequential(\n",
       "    (0): Linear(in_features=350, out_features=1, bias=True)\n",
       "    (1): ReLU()\n",
       "    (2): Dropout(p=0.3)\n",
       "  )\n",
       "  (lin_cat): Sequential(\n",
       "    (0): Linear(in_features=64, out_features=5, bias=True)\n",
       "    (1): ReLU()\n",
       "    (2): Dropout(p=0.2)\n",
       "  )\n",
       "  (lin3): Sequential(\n",
       "    (0): Linear(in_features=32, out_features=10, bias=True)\n",
       "    (1): ReLU()\n",
       "    (2): Dropout(p=0)\n",
       "  )\n",
       "  (lin4): Linear(in_features=10, out_features=1, bias=True)\n",
       "  (sigmoid): Sigmoid()\n",
       "  (criterion): MSELoss()\n",
       ")"
      ]
     },
     "execution_count": 28,
     "metadata": {},
     "output_type": "execute_result"
    }
   ],
   "source": [
    "cfobj"
   ]
  },
  {
   "cell_type": "code",
   "execution_count": 29,
   "metadata": {},
   "outputs": [],
   "source": [
    "for Xb, Yb in dltrain:\n",
    "    break"
   ]
  },
  {
   "cell_type": "code",
   "execution_count": 30,
   "metadata": {},
   "outputs": [
    {
     "data": {
      "text/plain": [
       "(torch.Size([128, 356]), torch.Size([128, 1]))"
      ]
     },
     "execution_count": 30,
     "metadata": {},
     "output_type": "execute_result"
    }
   ],
   "source": [
    "Xb.shape, Yb.shape"
   ]
  },
  {
   "cell_type": "code",
   "execution_count": 31,
   "metadata": {},
   "outputs": [
    {
     "data": {
      "text/plain": [
       "torch.float32"
      ]
     },
     "execution_count": 31,
     "metadata": {},
     "output_type": "execute_result"
    }
   ],
   "source": [
    "Xb.dtype"
   ]
  },
  {
   "cell_type": "code",
   "execution_count": 32,
   "metadata": {},
   "outputs": [
    {
     "data": {
      "text/plain": [
       "(tensor([[2.8211],\n",
       "         [2.8545],\n",
       "         [3.0301],\n",
       "         [2.9343],\n",
       "         [2.9516],\n",
       "         [2.8437],\n",
       "         [2.7510],\n",
       "         [2.8679],\n",
       "         [2.9014],\n",
       "         [3.0567],\n",
       "         [2.9905],\n",
       "         [2.9372],\n",
       "         [2.8276],\n",
       "         [2.9168],\n",
       "         [2.8079],\n",
       "         [2.9390],\n",
       "         [2.9853],\n",
       "         [2.8465],\n",
       "         [2.9346],\n",
       "         [2.8134],\n",
       "         [2.8972],\n",
       "         [3.0009],\n",
       "         [2.7859],\n",
       "         [2.8271],\n",
       "         [2.7845],\n",
       "         [2.7761],\n",
       "         [2.8700],\n",
       "         [2.9088],\n",
       "         [2.9345],\n",
       "         [3.0791],\n",
       "         [2.8778],\n",
       "         [3.1596],\n",
       "         [2.8573],\n",
       "         [2.8208],\n",
       "         [2.9461],\n",
       "         [2.9610],\n",
       "         [2.8024],\n",
       "         [2.9877],\n",
       "         [2.8297],\n",
       "         [2.5940],\n",
       "         [2.9597],\n",
       "         [3.0599],\n",
       "         [2.9316],\n",
       "         [2.7678],\n",
       "         [2.7705],\n",
       "         [2.7830],\n",
       "         [2.5987],\n",
       "         [2.9617],\n",
       "         [2.9897],\n",
       "         [2.8691],\n",
       "         [2.7974],\n",
       "         [2.8708],\n",
       "         [2.9095],\n",
       "         [2.6653],\n",
       "         [3.0516],\n",
       "         [2.9357],\n",
       "         [2.9092],\n",
       "         [2.7506],\n",
       "         [2.8494],\n",
       "         [2.8390],\n",
       "         [2.8586],\n",
       "         [2.8782],\n",
       "         [2.8807],\n",
       "         [2.9376],\n",
       "         [2.8762],\n",
       "         [2.7564],\n",
       "         [2.8131],\n",
       "         [2.9041],\n",
       "         [3.0104],\n",
       "         [2.7636],\n",
       "         [2.8205],\n",
       "         [2.9211],\n",
       "         [3.0317],\n",
       "         [3.0235],\n",
       "         [2.8665],\n",
       "         [2.9478],\n",
       "         [2.8317],\n",
       "         [3.0639],\n",
       "         [2.7915],\n",
       "         [2.6610],\n",
       "         [2.9400],\n",
       "         [2.7882],\n",
       "         [2.8141],\n",
       "         [2.7938],\n",
       "         [3.0673],\n",
       "         [2.8595],\n",
       "         [3.1464],\n",
       "         [2.7643],\n",
       "         [2.7036],\n",
       "         [2.9420],\n",
       "         [3.0479],\n",
       "         [2.9891],\n",
       "         [2.7281],\n",
       "         [3.0480],\n",
       "         [2.8744],\n",
       "         [2.8360],\n",
       "         [3.0198],\n",
       "         [2.9313],\n",
       "         [3.2049],\n",
       "         [2.9212],\n",
       "         [2.9885],\n",
       "         [3.1002],\n",
       "         [2.8901],\n",
       "         [3.0854],\n",
       "         [3.1651],\n",
       "         [2.8917],\n",
       "         [2.7796],\n",
       "         [2.7271],\n",
       "         [3.0865],\n",
       "         [2.8727],\n",
       "         [3.0180],\n",
       "         [2.8837],\n",
       "         [2.6999],\n",
       "         [2.9754],\n",
       "         [2.9125],\n",
       "         [2.8014],\n",
       "         [2.9512],\n",
       "         [3.2882],\n",
       "         [2.8688],\n",
       "         [3.0787],\n",
       "         [2.8790],\n",
       "         [2.8918],\n",
       "         [3.0074],\n",
       "         [2.8611],\n",
       "         [2.7462],\n",
       "         [2.9848],\n",
       "         [2.8732],\n",
       "         [2.7322]], grad_fn=<AddBackward0>),\n",
       " tensor(1.7436, grad_fn=<MseLossBackward>))"
      ]
     },
     "execution_count": 32,
     "metadata": {},
     "output_type": "execute_result"
    }
   ],
   "source": [
    "cfobj.forward(Xb,Yb)"
   ]
  },
  {
   "cell_type": "markdown",
   "metadata": {},
   "source": [
    "## Learner"
   ]
  },
  {
   "cell_type": "code",
   "execution_count": 33,
   "metadata": {},
   "outputs": [],
   "source": [
    "class Learner():\n",
    "    def __init__(self,model,optimizer,metric_fn,device,bptt=12,print_every=5,clip_val=None,\\\n",
    "                 cycle_mult=0,lr_decay=0.7,wd_mult=1.1,start_lr=2e-2, end_lr=5e-4,error_type=\"mse\"):\n",
    "        self.model,self.optimizer,self.metric_fn,self.device,self.print_every,self.bptt,self.losses,self.clip_val=\\\n",
    "            model,optimizer,metric_fn,device,print_every,bptt,[],clip_val\n",
    "        self.n_epochs=1\n",
    "        self.cycle_mult,self.lr_decay=cycle_mult,lr_decay\n",
    "        self.wd_mult=wd_mult\n",
    "        for param_group in self.optimizer.param_groups:\n",
    "            self.start_lr=param_group['lr']\n",
    "            self.start_wd=param_group['weight_decay']\n",
    "        self.wd=self.start_wd\n",
    "        self.lr=self.start_lr\n",
    "        self.end_lr=end_lr\n",
    "        self.n_epoch=0\n",
    "        self.lrs=[1e-2,5e-3,1e-4,5e-4]\n",
    "        self.preds,self.preds_valid,self.trainY,self.actual=[],[],[],[]\n",
    "        self.ratio=self.end_lr/self.start_lr\n",
    "        self.num_steps=self.cycle_mult\n",
    "        self.reset_cycle=self.cycle_mult\n",
    "        self.error_type=error_type\n",
    "        self.scores=[]\n",
    "        self.generate_scores=False\n",
    "        \n",
    "    def fit (self,Xb,Yb,mode_train=True):\n",
    "        if mode_train:\n",
    "            self.model.train()\n",
    "        else:\n",
    "            self.model.eval()\n",
    "        \n",
    "        #import pdb\n",
    "        #pdb.set_trace()\n",
    "        preds,loss=self.model(Xb,Yb)\n",
    "\n",
    "     \n",
    "        if mode_train:\n",
    "            if 1==0:\n",
    "                lr =self.lrs[torch.randint(0,4,(1,))]\n",
    "                for param_group in self.optimizer.param_groups:\n",
    "                    param_group['lr']=lr\n",
    "            \n",
    "            self.optimizer.zero_grad()\n",
    "            loss.backward()\n",
    "            self.optimizer.step()\n",
    "        myloss=loss.item()\n",
    "    \n",
    "        \n",
    "        with torch.no_grad():\n",
    "            if self.error_type == \"mse\":\n",
    "                acc=nn.L1Loss() (preds,Yb)\n",
    "                myrmse=np.sqrt(myloss)\n",
    "            else:\n",
    "                acc=nn.MSELoss() (preds,Yb)\n",
    "                myrmse=np.sqrt(acc.item())\n",
    "            acc=acc.item()\n",
    "                 \n",
    "        if mode_train==False:\n",
    "            if self.generate_scores:\n",
    "                self.scores.append(preds.detach().cpu().numpy().flatten())\n",
    "        del preds\n",
    "        del loss\n",
    "        \n",
    "        if self.clip_val is not None:\n",
    "            torch.nn.utils.clip_grad_norm_(self.model.parameters(), self.clip_val)\n",
    "        \n",
    "        return myloss, acc, myrmse\n",
    "    \n",
    "    def lr_find (self,start_lr,end_lr,iterator,n_batch):\n",
    "        losses,lrs=[],[]\n",
    "        ratio=end_lr/start_lr\n",
    "        num_steps=n_batch\n",
    "        lr=start_lr\n",
    "        for i in range(num_steps):            \n",
    "            lr=lr*(end_lr/start_lr)**(1/num_steps)\n",
    "            lrs.append(lr)\n",
    "        self.lrs=lrs\n",
    "        self.run_epoch(iterator,mode_train=True,lrs=lrs)\n",
    "    \n",
    "    def run_epoch(self,iterator,mode_train,lrs=None):\n",
    "        epoch_loss,epoch_acc,i,k=0,0,0,0\n",
    "        epoch_rmse=0\n",
    "\n",
    "        for Xb,Yb in iterator:\n",
    "            Xb=Xb.to(self.device)\n",
    "            Yb=Yb.to(self.device)\n",
    "            \n",
    "            if lrs is not None:\n",
    "                lr=lrs[k]\n",
    "                for param_group in self.optimizer.param_groups:\n",
    "                    param_group['lr']=lr \n",
    "            \n",
    "            loss,acc,myrmse=self.fit(Xb,Yb,mode_train)\n",
    "            \n",
    "            if lrs is not None:\n",
    "                self.losses.append(loss)\n",
    "\n",
    "            epoch_loss+=loss\n",
    "            epoch_acc+=acc\n",
    "            epoch_rmse+=myrmse\n",
    "            \n",
    "            k=k+1\n",
    "            if k%self.print_every == 0:\n",
    "                if k:\n",
    "                    print (f'Batch:{k} {epoch_loss/(k)}  ')  \n",
    "                    torch.cuda.empty_cache()\n",
    "\n",
    "        epoch_loss=epoch_loss/len(iterator)\n",
    "        epoch_acc=epoch_acc/len(iterator)\n",
    "        epoch_rmse=epoch_rmse/len(iterator)\n",
    "            \n",
    "        return epoch_loss,epoch_acc,epoch_rmse\n",
    "    \n",
    "    def plot_lrs(self, n_roll=1,ylim=None,xlim=None,ignore=0):\n",
    "        import seaborn as sns\n",
    "        ax=sns.lineplot(x=self.lrs[ignore:],y=pd.Series(self.losses[ignore:]).rolling(n_roll).mean())\n",
    "        ax.set_xscale('log')\n",
    "        ax.set_ylabel('Loss')\n",
    "        ax.set_xlabel('Learning Rate')\n",
    "        if ylim is not None:\n",
    "            plt.ylim(ylim)\n",
    "        if xlim is not None:\n",
    "            plt.xlim(xlim)\n",
    "\n",
    "     \n",
    "    def run_epochs(self,dltrain,dlvalid,n_epochs=1):              \n",
    "        for epoch in range(n_epochs):                \n",
    "            loss,acc,rmse=self.run_epoch(dltrain,True)\n",
    "\n",
    "            lossv,accv,rmsev=self.run_epoch(dlvalid,mode_train=False)\n",
    "           \n",
    "            if self.error_type==\"mse\":\n",
    "                loss_mse=loss\n",
    "                loss_rmse=rmse\n",
    "                loss_mae=acc\n",
    "                lossv_mse=lossv\n",
    "                lossv_rmse=rmsev\n",
    "                lossv_mae=accv\n",
    "                \n",
    "            else:\n",
    "                loss_mse=acc\n",
    "                loss_rmse=rmse\n",
    "                loss_mae=loss\n",
    "                lossv_mse=accv\n",
    "                lossv_rmse=rmsev\n",
    "                lossv_mae=lossv\n",
    "            \n",
    "            print (f'Epoch:{epoch} Learning rate {self.lr} Weight Decay {self.wd} Train Loss:{loss} \\\n",
    "                Valid Loss:{lossv} Train RMSE:{loss_rmse} Valid RMSE:{lossv_rmse} Train MSE:{loss_mse} Valid MSE:{lossv_mse} \\\n",
    "                Train MAE:{loss_mae} Valid MAE:{lossv_mae}')\n",
    "\n",
    "              \n",
    "         \n",
    "     \n",
    "            if self.cycle_mult:\n",
    "                if self.n_epoch==self.reset_cycle:\n",
    "                    self.lr=self.start_lr\n",
    "                    self.wd=self.start_wd\n",
    "                    self.reset_cycle*=self.cycle_mult\n",
    "                    #reset_cycle=self.n_epoch+reset_cycle\n",
    "                    self.n_epoch=0\n",
    "                    self.ratio=self.end_lr/self.start_lr\n",
    "                    self.num_steps=self.reset_cycle\n",
    "                else:\n",
    "                    #self.lr*=(self.lr_decay**self.n_epoch)  \n",
    "                    #if self.n_epoch>1:\n",
    "                    self.wd*=self.wd_mult\n",
    "                    self.lr=self.lr*(self.end_lr/self.start_lr)**(1/self.num_steps)\n",
    "                    self.n_epoch+=1\n",
    "        \n",
    "\n",
    "                \n",
    "            for param_group in self.optimizer.param_groups:\n",
    "                param_group['lr']=self.lr\n",
    "                param_group['weight_decay']=self.wd\n",
    "          \n",
    "     "
   ]
  },
  {
   "cell_type": "code",
   "execution_count": 34,
   "metadata": {},
   "outputs": [],
   "source": [
    "device='cuda:0'"
   ]
  },
  {
   "cell_type": "code",
   "execution_count": 35,
   "metadata": {},
   "outputs": [],
   "source": [
    "cfobj=cf(n_users,n_emb_user,n_emb_item,n_items,min_rating,max_rating,denseCols,pretrain_wts,catCols,emb_szs,dropout_e,hidden,dropouts,error_type=\"mse\")"
   ]
  },
  {
   "cell_type": "code",
   "execution_count": 36,
   "metadata": {},
   "outputs": [],
   "source": [
    "cfobj=cfobj.to(device)"
   ]
  },
  {
   "cell_type": "code",
   "execution_count": 39,
   "metadata": {},
   "outputs": [
    {
     "data": {
      "text/plain": [
       "cf(\n",
       "  (emb_user): Embedding(6041, 50)\n",
       "  (emb_item): Embedding(3707, 50)\n",
       "  (ub): Embedding(6041, 1)\n",
       "  (ib): Embedding(3707, 1)\n",
       "  (embs_cat): ModuleList(\n",
       "    (0): Embedding(302, 50)\n",
       "    (1): Embedding(22, 10)\n",
       "    (2): Embedding(8, 3)\n",
       "    (3): Embedding(3, 1)\n",
       "  )\n",
       "  (emb_dropout): Dropout(p=0.05)\n",
       "  (lin1): Sequential(\n",
       "    (0): Linear(in_features=100, out_features=25, bias=True)\n",
       "    (1): ReLU()\n",
       "    (2): Dropout(p=0.2)\n",
       "  )\n",
       "  (lin_bias): Linear(in_features=3, out_features=1, bias=True)\n",
       "  (lin2): Sequential(\n",
       "    (0): Linear(in_features=350, out_features=1, bias=True)\n",
       "    (1): ReLU()\n",
       "    (2): Dropout(p=0.3)\n",
       "  )\n",
       "  (lin_cat): Sequential(\n",
       "    (0): Linear(in_features=64, out_features=5, bias=True)\n",
       "    (1): ReLU()\n",
       "    (2): Dropout(p=0.2)\n",
       "  )\n",
       "  (lin3): Sequential(\n",
       "    (0): Linear(in_features=32, out_features=10, bias=True)\n",
       "    (1): ReLU()\n",
       "    (2): Dropout(p=0)\n",
       "  )\n",
       "  (lin4): Linear(in_features=10, out_features=1, bias=True)\n",
       "  (sigmoid): Sigmoid()\n",
       "  (criterion): MSELoss()\n",
       ")"
      ]
     },
     "execution_count": 39,
     "metadata": {},
     "output_type": "execute_result"
    }
   ],
   "source": [
    "cfobj"
   ]
  },
  {
   "cell_type": "code",
   "execution_count": 40,
   "metadata": {},
   "outputs": [],
   "source": [
    "wd=1e-5\n",
    "optimizer=torch.optim.Adam(cfobj.parameters(),lr=5e-3,betas=(0.9,0.999), weight_decay=wd)\n",
    "learner=Learner(cfobj,optimizer,None,device,0,14000,0.25,cycle_mult=0)"
   ]
  },
  {
   "cell_type": "code",
   "execution_count": 41,
   "metadata": {},
   "outputs": [
    {
     "data": {
      "text/plain": [
       "(128, 6998)"
      ]
     },
     "execution_count": 41,
     "metadata": {},
     "output_type": "execute_result"
    }
   ],
   "source": [
    "dltrain.batch_size, len(dltrain)"
   ]
  },
  {
   "cell_type": "code",
   "execution_count": 42,
   "metadata": {},
   "outputs": [],
   "source": [
    "learner.lr_find(1e-5,1e-1,dltrain,len(dltrain))"
   ]
  },
  {
   "cell_type": "code",
   "execution_count": 43,
   "metadata": {},
   "outputs": [
    {
     "data": {
      "image/png": "[encoded data removed]",
      "text/plain": [
       "<Figure size 432x288 with 1 Axes>"
      ]
     },
     "metadata": {
      "needs_background": "light"
     },
     "output_type": "display_data"
    }
   ],
   "source": [
    "learner.plot_lrs(100)"
   ]
  },
  {
   "cell_type": "code",
   "execution_count": 44,
   "metadata": {},
   "outputs": [
    {
     "data": {
      "image/png": "[encoded data removed]",
      "text/plain": [
       "<Figure size 432x288 with 1 Axes>"
      ]
     },
     "metadata": {
      "needs_background": "light"
     },
     "output_type": "display_data"
    }
   ],
   "source": [
    "learner.plot_lrs(10)"
   ]
  },
  {
   "cell_type": "code",
   "execution_count": 45,
   "metadata": {},
   "outputs": [
    {
     "data": {
      "image/png": "[encoded data removed]",
      "text/plain": [
       "<Figure size 432x288 with 1 Axes>"
      ]
     },
     "metadata": {
      "needs_background": "light"
     },
     "output_type": "display_data"
    }
   ],
   "source": [
    "learner.plot_lrs(1)"
   ]
  },
  {
   "cell_type": "code",
   "execution_count": 45,
   "metadata": {},
   "outputs": [],
   "source": [
    "del cfobj\n",
    "torch.cuda.empty_cache()"
   ]
  },
  {
   "cell_type": "code",
   "execution_count": 46,
   "metadata": {},
   "outputs": [],
   "source": [
    "pretrain_wts=pickle.load(open(f'{DATAPATH}/wts_embs_50','rb'))\n",
    "#pretrain_wts=None"
   ]
  },
  {
   "cell_type": "code",
   "execution_count": 47,
   "metadata": {},
   "outputs": [],
   "source": [
    "cfobj=cf(n_users,n_emb_user,n_emb_item,n_items,min_rating,max_rating,denseCols,pretrain_wts,catCols,emb_szs,dropout_e,hidden,dropouts,error_type=\"mse\")\n",
    "cfobj=cfobj.to(device)"
   ]
  },
  {
   "cell_type": "code",
   "execution_count": 48,
   "metadata": {},
   "outputs": [],
   "source": [
    "if 1==1:\n",
    "    cfobj.emb_user.weight.requires_grad=False\n",
    "    cfobj.emb_item.weight.requires_grad=False\n",
    "    cfobj.ib.weight.requires_grad=False\n",
    "    cfobj.ub.weight.requires_grad=False"
   ]
  },
  {
   "cell_type": "code",
   "execution_count": 49,
   "metadata": {},
   "outputs": [],
   "source": [
    "#print (wd)\n",
    "wd=3e-5\n",
    "optimizer=torch.optim.Adam(cfobj.parameters(),lr=7e-4,betas=(0.9,0.999), weight_decay=wd)\n",
    "learner=Learner(cfobj,optimizer,None,device,0,12000,0.25,cycle_mult=2,start_lr=7e-4,end_lr=1e-4,wd_mult=1.05)"
   ]
  },
  {
   "cell_type": "code",
   "execution_count": 50,
   "metadata": {},
   "outputs": [
    {
     "name": "stdout",
     "output_type": "stream",
     "text": [
      "Epoch:0 Learning rate 0.0007 Weight Decay 3e-05 Train Loss:0.7961703888746151                 Valid Loss:0.8115580369019596 Train RMSE:0.8891348683193226 Valid RMSE:0.8914592369697859 Train MSE:0.7961703888746151 Valid MSE:0.8115580369019596                 Train MAE:0.7075302630415914 Valid MAE:0.7139436686126518\n",
      "Epoch:1 Learning rate 0.0002645751311064591 Weight Decay 3.15e-05 Train Loss:0.7357618541130171                 Valid Loss:0.806550498180903 Train RMSE:0.8557836795523506 Valid RMSE:0.8888328144845704 Train MSE:0.7357618541130171 Valid MSE:0.806550498180903                 Train MAE:0.6787248453299431 Valid MAE:0.7116418838719843\n",
      "Epoch:2 Learning rate 0.00010000000000000002 Weight Decay 3.3075000000000004e-05 Train Loss:0.7292976645860851                 Valid Loss:0.8051879957883711 Train RMSE:0.8520218220931143 Valid RMSE:0.8880937413425232 Train MSE:0.7292976645860851 Valid MSE:0.8051879957883711                 Train MAE:0.6756898790180564 Valid MAE:0.7109870169051858\n",
      "Epoch:3 Learning rate 0.0007 Weight Decay 3.3075000000000004e-05 Train Loss:0.7272994401634472                 Valid Loss:0.8079224795358417 Train RMSE:0.8508640638108061 Valid RMSE:0.8894092604116949 Train MSE:0.7272994401634472 Valid MSE:0.8079224795358417                 Train MAE:0.6743491095163101 Valid MAE:0.7135547296653617\n",
      "Epoch:4 Learning rate 0.0004303517070658851 Weight Decay 3.472875000000001e-05 Train Loss:0.7210523131175463                 Valid Loss:0.8035885925465144 Train RMSE:0.8471297907712497 Valid RMSE:0.8870311748520577 Train MSE:0.7210523131175463 Valid MSE:0.8035885925465144                 Train MAE:0.6713663147547886 Valid MAE:0.7101802512948633\n",
      "Epoch:5 Learning rate 0.0002645751311064591 Weight Decay 3.6465187500000014e-05 Train Loss:0.716889808725786                 Valid Loss:0.8059421366985746 Train RMSE:0.8446750504419557 Valid RMSE:0.8883959695050526 Train MSE:0.716889808725786 Valid MSE:0.8059421366985746                 Train MAE:0.6693534882503361 Valid MAE:0.7138276693286919\n",
      "Epoch:6 Learning rate 0.0001626576561697786 Weight Decay 3.8288446875000013e-05 Train Loss:0.715239524394146                 Valid Loss:0.8053631018687637 Train RMSE:0.8437770432568105 Valid RMSE:0.8881296150782951 Train MSE:0.715239524394146 Valid MSE:0.8053631018687637                 Train MAE:0.6685001071213518 Valid MAE:0.7133514064761971\n",
      "Epoch:7 Learning rate 0.00010000000000000003 Weight Decay 4.0202869218750016e-05 Train Loss:0.713906685372154                 Valid Loss:0.8023831672884405 Train RMSE:0.8428930864174404 Valid RMSE:0.8864283563748675 Train MSE:0.713906685372154 Valid MSE:0.8023831672884405                 Train MAE:0.6678480300589199 Valid MAE:0.7106456869308047\n",
      "Epoch:8 Learning rate 0.0007 Weight Decay 4.0202869218750016e-05 Train Loss:0.7165016023328762                 Valid Loss:0.8033977168061596 Train RMSE:0.8444815069678306 Valid RMSE:0.886856550796948 Train MSE:0.7165016023328762 Valid MSE:0.8033977168061596                 Train MAE:0.6690397914153026 Valid MAE:0.7106725504961563\n",
      "Epoch:9 Learning rate 0.0005488589936824572 Weight Decay 4.221301267968752e-05 Train Loss:0.7141762488644339                 Valid Loss:0.8015798648392993 Train RMSE:0.8431235113108048 Valid RMSE:0.8857022084715619 Train MSE:0.7141762488644339 Valid MSE:0.8015798648392993                 Train MAE:0.6677463239484189 Valid MAE:0.7090491785632499\n",
      "Epoch:10 Learning rate 0.0004303517070658851 Weight Decay 4.4323663313671895e-05 Train Loss:0.7124392832899543                 Valid Loss:0.8038410163567729 Train RMSE:0.8421285865624007 Valid RMSE:0.8872809087988824 Train MSE:0.7124392832899543 Valid MSE:0.8038410163567729                 Train MAE:0.6670877820221006 Valid MAE:0.7128425626086489\n",
      "Epoch:11 Learning rate 0.00033743200695672754 Weight Decay 4.653984647935549e-05 Train Loss:0.71107071196481                 Valid Loss:0.8038565860457053 Train RMSE:0.8412464939538535 Valid RMSE:0.8872817861481953 Train MSE:0.71107071196481 Valid MSE:0.8038565860457053                 Train MAE:0.6663945914336905 Valid MAE:0.7125855171767997\n",
      "Epoch:12 Learning rate 0.0002645751311064591 Weight Decay 4.886683880332327e-05 Train Loss:0.7089579054996878                 Valid Loss:0.8021595165808315 Train RMSE:0.8400134950338468 Valid RMSE:0.8862181349276682 Train MSE:0.7089579054996878 Valid MSE:0.8021595165808315                 Train MAE:0.6651703564311205 Valid MAE:0.7109339356860157\n",
      "Epoch:13 Learning rate 0.00020744920030356474 Weight Decay 5.131018074348944e-05 Train Loss:0.7092443374002889                 Valid Loss:0.8005072528101969 Train RMSE:0.8401450066775275 Valid RMSE:0.8854152957351619 Train MSE:0.7092443374002889 Valid MSE:0.8005072528101969                 Train MAE:0.6653978832621819 Valid MAE:0.7098293034872781\n",
      "Epoch:14 Learning rate 0.0001626576561697786 Weight Decay 5.387568978066391e-05 Train Loss:0.7078910727957788                 Valid Loss:0.802109870252586 Train RMSE:0.839373487673215 Valid RMSE:0.8862880413226837 Train MSE:0.7078910727957788 Valid MSE:0.802109870252586                 Train MAE:0.6647711624653553 Valid MAE:0.7113698554593463\n"
     ]
    }
   ],
   "source": [
    "learner.run_epochs(dltrain,dlvalid,15)"
   ]
  },
  {
   "cell_type": "code",
   "execution_count": 51,
   "metadata": {},
   "outputs": [],
   "source": [
    "if 1==1:\n",
    "    cfobj.emb_user.weight.requires_grad=True\n",
    "    cfobj.emb_item.weight.requires_grad=True\n",
    "    cfobj.ib.weight.requires_grad=True\n",
    "    cfobj.ub.weight.requires_grad=True"
   ]
  },
  {
   "cell_type": "code",
   "execution_count": 52,
   "metadata": {},
   "outputs": [
    {
     "name": "stdout",
     "output_type": "stream",
     "text": [
      "Epoch:0 Learning rate 0.0003 Weight Decay 5.656947426969711e-05 Train Loss:0.726801772936476                 Valid Loss:0.8023325149403062 Train RMSE:0.8505683207650637 Valid RMSE:0.8863582541220812 Train MSE:0.726801772936476 Valid MSE:0.8023325149403062                 Train MAE:0.6739137096468398 Valid MAE:0.7114390197553133\n",
      "Epoch:1 Learning rate 0.0001549193338482967 Weight Decay 5.9397947983181965e-05 Train Loss:0.7127013682859153                 Valid Loss:0.7962203027276981 Train RMSE:0.8422470914669827 Valid RMSE:0.8830444693482372 Train MSE:0.7127013682859153 Valid MSE:0.7962203027276981                 Train MAE:0.6670869167071133 Valid MAE:0.7079089364923783\n",
      "Epoch:2 Learning rate 8.000000000000002e-05 Weight Decay 6.236784538234107e-05 Train Loss:0.7038386813331652                 Valid Loss:0.7952785155618497 Train RMSE:0.8369857595107503 Valid RMSE:0.882519624393691 Train MSE:0.7038386813331652 Valid MSE:0.7952785155618497                 Train MAE:0.6626572369694471 Valid MAE:0.7073967683709237\n",
      "Epoch:3 Learning rate 0.0003 Weight Decay 6.236784538234107e-05 Train Loss:0.7138309189126164                 Valid Loss:0.7956788827695929 Train RMSE:0.84289017008711 Valid RMSE:0.8828575307740628 Train MSE:0.7138309189126164 Valid MSE:0.7956788827695929                 Train MAE:0.6673089224428884 Valid MAE:0.7077087697594665\n",
      "Epoch:4 Learning rate 0.00021558246717785055 Weight Decay 6.548623765145813e-05 Train Loss:0.7060385831903477                 Valid Loss:0.7910206741043521 Train RMSE:0.8382381875759173 Valid RMSE:0.8802765045436836 Train MSE:0.7060385831903477 Valid MSE:0.7910206741043521                 Train MAE:0.6631406930028524 Valid MAE:0.7040794182436557\n",
      "Epoch:5 Learning rate 0.0001549193338482967 Weight Decay 6.876054953403103e-05 Train Loss:0.6981589664481782                 Valid Loss:0.7903298249005396 Train RMSE:0.8335689448570379 Valid RMSE:0.8798292245517293 Train MSE:0.6981589664481782 Valid MSE:0.7903298249005396                 Train MAE:0.6593039064415526 Valid MAE:0.7036385890757585\n",
      "Epoch:6 Learning rate 0.00011132630734854964 Weight Decay 7.219857701073259e-05 Train Loss:0.6913025111564741                 Valid Loss:0.7901862181239787 Train RMSE:0.8294599899760768 Valid RMSE:0.8796982428211735 Train MSE:0.6913025111564741 Valid MSE:0.7901862181239787                 Train MAE:0.6555853498155779 Valid MAE:0.704111145934685\n"
     ]
    }
   ],
   "source": [
    "if 1==1:\n",
    "    #optimizer=torch.optim.Adam(cfobj.parameters(),lr=1e-3,betas=(0.9,0.999), weight_decay=wd)\n",
    "    for param_group in optimizer.param_groups:\n",
    "        param_group['lr']=3e-4\n",
    "    learner=Learner(cfobj,optimizer,None,device,0,12000,0.25,cycle_mult=2,start_lr=3e-4,end_lr=8e-5,wd_mult=1.05)\n",
    "    learner.run_epochs(dltrain,dlvalid,7)"
   ]
  },
  {
   "cell_type": "code",
   "execution_count": 69,
   "metadata": {},
   "outputs": [
    {
     "name": "stdout",
     "output_type": "stream",
     "text": [
      "Epoch:0 Learning rate 6.999999999999998e-05 Weight Decay 1.3400956406250006e-05 Train Loss:0.6614626384047175                 Valid Loss:0.7874590627931177 Train RMSE:0.8112472810994283 Valid RMSE:0.8783391900471329 Train MSE:0.6614626384047175 Valid MSE:0.7874590627931177                 Train MAE:0.6396575052590328 Valid MAE:0.6999653576710233\n",
      "Epoch:1 Learning rate 0.001 Weight Decay 1.3400956406250006e-05 Train Loss:0.710807773241761                 Valid Loss:0.7992683146399705 Train RMSE:0.8409912279621644 Valid RMSE:0.8848869842540389 Train MSE:0.710807773241761 Valid MSE:0.7992683146399705                 Train MAE:0.6645668761479442 Valid MAE:0.7076596771634778\n",
      "Epoch:2 Learning rate 0.0007171950030229157 Weight Decay 1.4071004226562506e-05 Train Loss:0.701717853333208                 Valid Loss:0.7959222409833163 Train RMSE:0.8356905791398213 Valid RMSE:0.8830804918318971 Train MSE:0.701717853333208 Valid MSE:0.7959222409833163                 Train MAE:0.6600608870655374 Valid MAE:0.7036713917661034\n"
     ]
    },
    {
     "ename": "KeyboardInterrupt",
     "evalue": "",
     "output_type": "error",
     "traceback": [
      "\u001b[0;31m---------------------------------------------------------------------------\u001b[0m",
      "\u001b[0;31mKeyboardInterrupt\u001b[0m                         Traceback (most recent call last)",
      "\u001b[0;32m<ipython-input-69-9e06d114cf61>\u001b[0m in \u001b[0;36m<module>\u001b[0;34m\u001b[0m\n\u001b[0;32m----> 1\u001b[0;31m \u001b[0mlearner\u001b[0m\u001b[0;34m.\u001b[0m\u001b[0mrun_epochs\u001b[0m\u001b[0;34m(\u001b[0m\u001b[0mdltrain\u001b[0m\u001b[0;34m,\u001b[0m\u001b[0mdlvalid\u001b[0m\u001b[0;34m,\u001b[0m\u001b[0;36m8\u001b[0m\u001b[0;34m)\u001b[0m\u001b[0;34m\u001b[0m\u001b[0;34m\u001b[0m\u001b[0m\n\u001b[0m",
      "\u001b[0;32m<ipython-input-34-3098e7daa8ea>\u001b[0m in \u001b[0;36mrun_epochs\u001b[0;34m(self, dltrain, dlvalid, n_epochs)\u001b[0m\n\u001b[1;32m    125\u001b[0m     \u001b[0;32mdef\u001b[0m \u001b[0mrun_epochs\u001b[0m\u001b[0;34m(\u001b[0m\u001b[0mself\u001b[0m\u001b[0;34m,\u001b[0m\u001b[0mdltrain\u001b[0m\u001b[0;34m,\u001b[0m\u001b[0mdlvalid\u001b[0m\u001b[0;34m,\u001b[0m\u001b[0mn_epochs\u001b[0m\u001b[0;34m=\u001b[0m\u001b[0;36m1\u001b[0m\u001b[0;34m)\u001b[0m\u001b[0;34m:\u001b[0m\u001b[0;34m\u001b[0m\u001b[0;34m\u001b[0m\u001b[0m\n\u001b[1;32m    126\u001b[0m         \u001b[0;32mfor\u001b[0m \u001b[0mepoch\u001b[0m \u001b[0;32min\u001b[0m \u001b[0mrange\u001b[0m\u001b[0;34m(\u001b[0m\u001b[0mn_epochs\u001b[0m\u001b[0;34m)\u001b[0m\u001b[0;34m:\u001b[0m\u001b[0;34m\u001b[0m\u001b[0;34m\u001b[0m\u001b[0m\n\u001b[0;32m--> 127\u001b[0;31m             \u001b[0mloss\u001b[0m\u001b[0;34m,\u001b[0m\u001b[0macc\u001b[0m\u001b[0;34m,\u001b[0m\u001b[0mrmse\u001b[0m\u001b[0;34m=\u001b[0m\u001b[0mself\u001b[0m\u001b[0;34m.\u001b[0m\u001b[0mrun_epoch\u001b[0m\u001b[0;34m(\u001b[0m\u001b[0mdltrain\u001b[0m\u001b[0;34m,\u001b[0m\u001b[0;32mTrue\u001b[0m\u001b[0;34m)\u001b[0m\u001b[0;34m\u001b[0m\u001b[0;34m\u001b[0m\u001b[0m\n\u001b[0m\u001b[1;32m    128\u001b[0m \u001b[0;34m\u001b[0m\u001b[0m\n\u001b[1;32m    129\u001b[0m             \u001b[0mlossv\u001b[0m\u001b[0;34m,\u001b[0m\u001b[0maccv\u001b[0m\u001b[0;34m,\u001b[0m\u001b[0mrmsev\u001b[0m\u001b[0;34m=\u001b[0m\u001b[0mself\u001b[0m\u001b[0;34m.\u001b[0m\u001b[0mrun_epoch\u001b[0m\u001b[0;34m(\u001b[0m\u001b[0mdlvalid\u001b[0m\u001b[0;34m,\u001b[0m\u001b[0mmode_train\u001b[0m\u001b[0;34m=\u001b[0m\u001b[0;32mFalse\u001b[0m\u001b[0;34m)\u001b[0m\u001b[0;34m\u001b[0m\u001b[0;34m\u001b[0m\u001b[0m\n",
      "\u001b[0;32m<ipython-input-34-3098e7daa8ea>\u001b[0m in \u001b[0;36mrun_epoch\u001b[0;34m(self, iterator, mode_train, lrs)\u001b[0m\n\u001b[1;32m     81\u001b[0m         \u001b[0mepoch_rmse\u001b[0m\u001b[0;34m=\u001b[0m\u001b[0;36m0\u001b[0m\u001b[0;34m\u001b[0m\u001b[0;34m\u001b[0m\u001b[0m\n\u001b[1;32m     82\u001b[0m \u001b[0;34m\u001b[0m\u001b[0m\n\u001b[0;32m---> 83\u001b[0;31m         \u001b[0;32mfor\u001b[0m \u001b[0mXb\u001b[0m\u001b[0;34m,\u001b[0m\u001b[0mYb\u001b[0m \u001b[0;32min\u001b[0m \u001b[0miterator\u001b[0m\u001b[0;34m:\u001b[0m\u001b[0;34m\u001b[0m\u001b[0;34m\u001b[0m\u001b[0m\n\u001b[0m\u001b[1;32m     84\u001b[0m             \u001b[0mXb\u001b[0m\u001b[0;34m=\u001b[0m\u001b[0mXb\u001b[0m\u001b[0;34m.\u001b[0m\u001b[0mto\u001b[0m\u001b[0;34m(\u001b[0m\u001b[0mself\u001b[0m\u001b[0;34m.\u001b[0m\u001b[0mdevice\u001b[0m\u001b[0;34m)\u001b[0m\u001b[0;34m\u001b[0m\u001b[0;34m\u001b[0m\u001b[0m\n\u001b[1;32m     85\u001b[0m             \u001b[0mYb\u001b[0m\u001b[0;34m=\u001b[0m\u001b[0mYb\u001b[0m\u001b[0;34m.\u001b[0m\u001b[0mto\u001b[0m\u001b[0;34m(\u001b[0m\u001b[0mself\u001b[0m\u001b[0;34m.\u001b[0m\u001b[0mdevice\u001b[0m\u001b[0;34m)\u001b[0m\u001b[0;34m\u001b[0m\u001b[0;34m\u001b[0m\u001b[0m\n",
      "\u001b[0;32m~/anaconda3/lib/python3.7/site-packages/torch/utils/data/dataloader.py\u001b[0m in \u001b[0;36m__next__\u001b[0;34m(self)\u001b[0m\n\u001b[1;32m    558\u001b[0m         \u001b[0;32mif\u001b[0m \u001b[0mself\u001b[0m\u001b[0;34m.\u001b[0m\u001b[0mnum_workers\u001b[0m \u001b[0;34m==\u001b[0m \u001b[0;36m0\u001b[0m\u001b[0;34m:\u001b[0m  \u001b[0;31m# same-process loading\u001b[0m\u001b[0;34m\u001b[0m\u001b[0;34m\u001b[0m\u001b[0m\n\u001b[1;32m    559\u001b[0m             \u001b[0mindices\u001b[0m \u001b[0;34m=\u001b[0m \u001b[0mnext\u001b[0m\u001b[0;34m(\u001b[0m\u001b[0mself\u001b[0m\u001b[0;34m.\u001b[0m\u001b[0msample_iter\u001b[0m\u001b[0;34m)\u001b[0m  \u001b[0;31m# may raise StopIteration\u001b[0m\u001b[0;34m\u001b[0m\u001b[0;34m\u001b[0m\u001b[0m\n\u001b[0;32m--> 560\u001b[0;31m             \u001b[0mbatch\u001b[0m \u001b[0;34m=\u001b[0m \u001b[0mself\u001b[0m\u001b[0;34m.\u001b[0m\u001b[0mcollate_fn\u001b[0m\u001b[0;34m(\u001b[0m\u001b[0;34m[\u001b[0m\u001b[0mself\u001b[0m\u001b[0;34m.\u001b[0m\u001b[0mdataset\u001b[0m\u001b[0;34m[\u001b[0m\u001b[0mi\u001b[0m\u001b[0;34m]\u001b[0m \u001b[0;32mfor\u001b[0m \u001b[0mi\u001b[0m \u001b[0;32min\u001b[0m \u001b[0mindices\u001b[0m\u001b[0;34m]\u001b[0m\u001b[0;34m)\u001b[0m\u001b[0;34m\u001b[0m\u001b[0;34m\u001b[0m\u001b[0m\n\u001b[0m\u001b[1;32m    561\u001b[0m             \u001b[0;32mif\u001b[0m \u001b[0mself\u001b[0m\u001b[0;34m.\u001b[0m\u001b[0mpin_memory\u001b[0m\u001b[0;34m:\u001b[0m\u001b[0;34m\u001b[0m\u001b[0;34m\u001b[0m\u001b[0m\n\u001b[1;32m    562\u001b[0m                 \u001b[0mbatch\u001b[0m \u001b[0;34m=\u001b[0m \u001b[0m_utils\u001b[0m\u001b[0;34m.\u001b[0m\u001b[0mpin_memory\u001b[0m\u001b[0;34m.\u001b[0m\u001b[0mpin_memory_batch\u001b[0m\u001b[0;34m(\u001b[0m\u001b[0mbatch\u001b[0m\u001b[0;34m)\u001b[0m\u001b[0;34m\u001b[0m\u001b[0;34m\u001b[0m\u001b[0m\n",
      "\u001b[0;32m~/anaconda3/lib/python3.7/site-packages/torch/utils/data/dataloader.py\u001b[0m in \u001b[0;36m<listcomp>\u001b[0;34m(.0)\u001b[0m\n\u001b[1;32m    558\u001b[0m         \u001b[0;32mif\u001b[0m \u001b[0mself\u001b[0m\u001b[0;34m.\u001b[0m\u001b[0mnum_workers\u001b[0m \u001b[0;34m==\u001b[0m \u001b[0;36m0\u001b[0m\u001b[0;34m:\u001b[0m  \u001b[0;31m# same-process loading\u001b[0m\u001b[0;34m\u001b[0m\u001b[0;34m\u001b[0m\u001b[0m\n\u001b[1;32m    559\u001b[0m             \u001b[0mindices\u001b[0m \u001b[0;34m=\u001b[0m \u001b[0mnext\u001b[0m\u001b[0;34m(\u001b[0m\u001b[0mself\u001b[0m\u001b[0;34m.\u001b[0m\u001b[0msample_iter\u001b[0m\u001b[0;34m)\u001b[0m  \u001b[0;31m# may raise StopIteration\u001b[0m\u001b[0;34m\u001b[0m\u001b[0;34m\u001b[0m\u001b[0m\n\u001b[0;32m--> 560\u001b[0;31m             \u001b[0mbatch\u001b[0m \u001b[0;34m=\u001b[0m \u001b[0mself\u001b[0m\u001b[0;34m.\u001b[0m\u001b[0mcollate_fn\u001b[0m\u001b[0;34m(\u001b[0m\u001b[0;34m[\u001b[0m\u001b[0mself\u001b[0m\u001b[0;34m.\u001b[0m\u001b[0mdataset\u001b[0m\u001b[0;34m[\u001b[0m\u001b[0mi\u001b[0m\u001b[0;34m]\u001b[0m \u001b[0;32mfor\u001b[0m \u001b[0mi\u001b[0m \u001b[0;32min\u001b[0m \u001b[0mindices\u001b[0m\u001b[0;34m]\u001b[0m\u001b[0;34m)\u001b[0m\u001b[0;34m\u001b[0m\u001b[0;34m\u001b[0m\u001b[0m\n\u001b[0m\u001b[1;32m    561\u001b[0m             \u001b[0;32mif\u001b[0m \u001b[0mself\u001b[0m\u001b[0;34m.\u001b[0m\u001b[0mpin_memory\u001b[0m\u001b[0;34m:\u001b[0m\u001b[0;34m\u001b[0m\u001b[0;34m\u001b[0m\u001b[0m\n\u001b[1;32m    562\u001b[0m                 \u001b[0mbatch\u001b[0m \u001b[0;34m=\u001b[0m \u001b[0m_utils\u001b[0m\u001b[0;34m.\u001b[0m\u001b[0mpin_memory\u001b[0m\u001b[0;34m.\u001b[0m\u001b[0mpin_memory_batch\u001b[0m\u001b[0;34m(\u001b[0m\u001b[0mbatch\u001b[0m\u001b[0;34m)\u001b[0m\u001b[0;34m\u001b[0m\u001b[0;34m\u001b[0m\u001b[0m\n",
      "\u001b[0;32m<ipython-input-12-9e8d893c341f>\u001b[0m in \u001b[0;36m__getitem__\u001b[0;34m(self, idx)\u001b[0m\n\u001b[1;32m      9\u001b[0m \u001b[0;34m\u001b[0m\u001b[0m\n\u001b[1;32m     10\u001b[0m     \u001b[0;32mdef\u001b[0m \u001b[0m__getitem__\u001b[0m \u001b[0;34m(\u001b[0m\u001b[0mself\u001b[0m\u001b[0;34m,\u001b[0m \u001b[0midx\u001b[0m\u001b[0;34m)\u001b[0m\u001b[0;34m:\u001b[0m\u001b[0;34m\u001b[0m\u001b[0;34m\u001b[0m\u001b[0m\n\u001b[0;32m---> 11\u001b[0;31m         \u001b[0;32mreturn\u001b[0m \u001b[0mtorch\u001b[0m\u001b[0;34m.\u001b[0m\u001b[0mFloatTensor\u001b[0m\u001b[0;34m(\u001b[0m\u001b[0mself\u001b[0m\u001b[0;34m.\u001b[0m\u001b[0mdfX\u001b[0m\u001b[0;34m.\u001b[0m\u001b[0miloc\u001b[0m\u001b[0;34m[\u001b[0m\u001b[0midx\u001b[0m\u001b[0;34m]\u001b[0m\u001b[0;34m.\u001b[0m\u001b[0mvalues\u001b[0m\u001b[0;34m)\u001b[0m\u001b[0;34m,\u001b[0m\u001b[0mtorch\u001b[0m\u001b[0;34m.\u001b[0m\u001b[0mFloatTensor\u001b[0m\u001b[0;34m(\u001b[0m\u001b[0;34m[\u001b[0m\u001b[0mself\u001b[0m\u001b[0;34m.\u001b[0m\u001b[0mdfY\u001b[0m\u001b[0;34m.\u001b[0m\u001b[0mvalues\u001b[0m\u001b[0;34m[\u001b[0m\u001b[0midx\u001b[0m\u001b[0;34m]\u001b[0m\u001b[0;34m]\u001b[0m\u001b[0;34m)\u001b[0m\u001b[0;34m\u001b[0m\u001b[0;34m\u001b[0m\u001b[0m\n\u001b[0m",
      "\u001b[0;31mKeyboardInterrupt\u001b[0m: "
     ]
    }
   ],
   "source": [
    "learner.run_epochs(dltrain,dlvalid,8)"
   ]
  },
  {
   "cell_type": "code",
   "execution_count": 61,
   "metadata": {},
   "outputs": [],
   "source": [
    "learner.generate_scores=True"
   ]
  },
  {
   "cell_type": "code",
   "execution_count": 62,
   "metadata": {},
   "outputs": [
    {
     "data": {
      "text/plain": [
       "(0.7879144856147696, 0.6997082604772458, 0.8785397151098506)"
      ]
     },
     "execution_count": 62,
     "metadata": {},
     "output_type": "execute_result"
    }
   ],
   "source": [
    "learner.run_epoch(dlvalid,False)"
   ]
  },
  {
   "cell_type": "code",
   "execution_count": 63,
   "metadata": {},
   "outputs": [],
   "source": [
    "dfvalid['pred_dnnrec']=np.concatenate(learner.scores)"
   ]
  },
  {
   "cell_type": "code",
   "execution_count": 64,
   "metadata": {},
   "outputs": [
    {
     "data": {
      "text/plain": [
       "0.8877248731275127"
      ]
     },
     "execution_count": 64,
     "metadata": {},
     "output_type": "execute_result"
    }
   ],
   "source": [
    "np.sqrt(metrics.mean_squared_error(dfvalid['rating'],dfvalid['pred_dnnrec']))"
   ]
  },
  {
   "cell_type": "code",
   "execution_count": 65,
   "metadata": {},
   "outputs": [],
   "source": [
    "def score_by_group (dfvalid,predVar,groupVar='cold_start_group',method='global_avg'):\n",
    "    scores=[]\n",
    "    mae_scores=[]\n",
    "    rmse_scores=[]\n",
    "    r2_scores=[]\n",
    "    groups=dfvalid[groupVar].value_counts().index.tolist()\n",
    "    for group in groups:\n",
    "        df=dfvalid.loc[dfvalid[groupVar]==group]\n",
    "        actual=df['rating']\n",
    "        score=metrics.mean_squared_error(df['rating'],df[predVar])\n",
    "        rmse_score=np.sqrt(metrics.mean_squared_error(df['rating'],df[predVar]))\n",
    "        mae_score=metrics.mean_absolute_error(df['rating'],df[predVar])\n",
    "        r2_score=metrics.r2_score(df['rating'],df[predVar])\n",
    "        scores.append(score)\n",
    "        mae_scores.append(mae_score)\n",
    "        rmse_scores.append(rmse_score)\n",
    "        r2_scores.append(r2_score)\n",
    "    return pd.DataFrame({'method':method, 'mse':scores, 'rmse':rmse_scores, 'mae':mae_scores, 'r2_score':r2_scores, 'Cold Start Group':groups})"
   ]
  },
  {
   "cell_type": "code",
   "execution_count": 66,
   "metadata": {},
   "outputs": [
    {
     "data": {
      "text/html": [
       "<div>\n",
       "<style scoped>\n",
       "    .dataframe tbody tr th:only-of-type {\n",
       "        vertical-align: middle;\n",
       "    }\n",
       "\n",
       "    .dataframe tbody tr th {\n",
       "        vertical-align: top;\n",
       "    }\n",
       "\n",
       "    .dataframe thead th {\n",
       "        text-align: right;\n",
       "    }\n",
       "</style>\n",
       "<table border=\"1\" class=\"dataframe\">\n",
       "  <thead>\n",
       "    <tr style=\"text-align: right;\">\n",
       "      <th></th>\n",
       "      <th>method</th>\n",
       "      <th>mse</th>\n",
       "      <th>rmse</th>\n",
       "      <th>mae</th>\n",
       "      <th>r2_score</th>\n",
       "      <th>Cold Start Group</th>\n",
       "    </tr>\n",
       "  </thead>\n",
       "  <tbody>\n",
       "    <tr>\n",
       "      <th>0</th>\n",
       "      <td>dnnrec</td>\n",
       "      <td>0.765935</td>\n",
       "      <td>0.875177</td>\n",
       "      <td>0.687575</td>\n",
       "      <td>0.416891</td>\n",
       "      <td>No-cold-start</td>\n",
       "    </tr>\n",
       "    <tr>\n",
       "      <th>1</th>\n",
       "      <td>dnnrec</td>\n",
       "      <td>1.016006</td>\n",
       "      <td>1.007971</td>\n",
       "      <td>0.824995</td>\n",
       "      <td>0.150241</td>\n",
       "      <td>User-Cold-Start</td>\n",
       "    </tr>\n",
       "    <tr>\n",
       "      <th>2</th>\n",
       "      <td>dnnrec</td>\n",
       "      <td>0.715683</td>\n",
       "      <td>0.845981</td>\n",
       "      <td>0.696521</td>\n",
       "      <td>0.141180</td>\n",
       "      <td>Item-Cold_start</td>\n",
       "    </tr>\n",
       "    <tr>\n",
       "      <th>3</th>\n",
       "      <td>dnnrec</td>\n",
       "      <td>1.513369</td>\n",
       "      <td>1.230191</td>\n",
       "      <td>1.001728</td>\n",
       "      <td>-0.513369</td>\n",
       "      <td>User-Item-cold-start</td>\n",
       "    </tr>\n",
       "    <tr>\n",
       "      <th>0</th>\n",
       "      <td>dnnrec</td>\n",
       "      <td>0.765935</td>\n",
       "      <td>0.875177</td>\n",
       "      <td>0.687575</td>\n",
       "      <td>0.416891</td>\n",
       "      <td>0</td>\n",
       "    </tr>\n",
       "    <tr>\n",
       "      <th>1</th>\n",
       "      <td>dnnrec</td>\n",
       "      <td>1.015335</td>\n",
       "      <td>1.007639</td>\n",
       "      <td>0.824701</td>\n",
       "      <td>0.150884</td>\n",
       "      <td>1</td>\n",
       "    </tr>\n",
       "    <tr>\n",
       "      <th>0</th>\n",
       "      <td>dnnrec</td>\n",
       "      <td>0.788055</td>\n",
       "      <td>0.887725</td>\n",
       "      <td>0.699737</td>\n",
       "      <td>0.397064</td>\n",
       "      <td>0</td>\n",
       "    </tr>\n",
       "  </tbody>\n",
       "</table>\n",
       "</div>"
      ],
      "text/plain": [
       "   method       mse      rmse       mae  r2_score      Cold Start Group\n",
       "0  dnnrec  0.765935  0.875177  0.687575  0.416891         No-cold-start\n",
       "1  dnnrec  1.016006  1.007971  0.824995  0.150241       User-Cold-Start\n",
       "2  dnnrec  0.715683  0.845981  0.696521  0.141180       Item-Cold_start\n",
       "3  dnnrec  1.513369  1.230191  1.001728 -0.513369  User-Item-cold-start\n",
       "0  dnnrec  0.765935  0.875177  0.687575  0.416891                     0\n",
       "1  dnnrec  1.015335  1.007639  0.824701  0.150884                     1\n",
       "0  dnnrec  0.788055  0.887725  0.699737  0.397064                     0"
      ]
     },
     "execution_count": 66,
     "metadata": {},
     "output_type": "execute_result"
    }
   ],
   "source": [
    "result_dnnrec=pd.concat([score_by_group(dfvalid,'pred_dnnrec','cold_start_group','dnnrec'),score_by_group(dfvalid,'pred_dnnrec','cold_start_bucket','dnnrec'),\\\n",
    "score_by_group(dfvalid,'pred_dnnrec','flag_train','dnnrec')],axis=0)\n",
    "result_dnnrec"
   ]
  },
  {
   "cell_type": "code",
   "execution_count": 67,
   "metadata": {},
   "outputs": [
    {
     "name": "stdout",
     "output_type": "stream",
     "text": [
      "cold_start_item  False  True \n",
      "cold_start_user              \n",
      "False            95205     24\n",
      "True              9240      2\n",
      "cold_start_item     False     True \n",
      "cold_start_user                    \n",
      "False            0.911306  0.000230\n",
      "True             0.088446  0.000019\n"
     ]
    }
   ],
   "source": [
    "print (pd.crosstab(dfvalid['cold_start_user'],dfvalid['cold_start_item']))\n",
    "print (pd.crosstab(dfvalid['cold_start_user'],dfvalid['cold_start_item'])/dfvalid.shape[0])   "
   ]
  },
  {
   "cell_type": "code",
   "execution_count": 68,
   "metadata": {},
   "outputs": [
    {
     "data": {
      "text/html": [
       "<div>\n",
       "<style scoped>\n",
       "    .dataframe tbody tr th:only-of-type {\n",
       "        vertical-align: middle;\n",
       "    }\n",
       "\n",
       "    .dataframe tbody tr th {\n",
       "        vertical-align: top;\n",
       "    }\n",
       "\n",
       "    .dataframe thead th {\n",
       "        text-align: right;\n",
       "    }\n",
       "</style>\n",
       "<table border=\"1\" class=\"dataframe\">\n",
       "  <thead>\n",
       "    <tr style=\"text-align: right;\">\n",
       "      <th></th>\n",
       "      <th>method</th>\n",
       "      <th>mse</th>\n",
       "      <th>rmse</th>\n",
       "      <th>mae</th>\n",
       "      <th>r2_score</th>\n",
       "      <th>Cold Start Group</th>\n",
       "    </tr>\n",
       "  </thead>\n",
       "  <tbody>\n",
       "    <tr>\n",
       "      <th>0</th>\n",
       "      <td>dnnrec</td>\n",
       "      <td>0.765935</td>\n",
       "      <td>0.875177</td>\n",
       "      <td>0.687575</td>\n",
       "      <td>0.416891</td>\n",
       "      <td>No-cold-start</td>\n",
       "    </tr>\n",
       "    <tr>\n",
       "      <th>1</th>\n",
       "      <td>dnnrec</td>\n",
       "      <td>1.016006</td>\n",
       "      <td>1.007971</td>\n",
       "      <td>0.824995</td>\n",
       "      <td>0.150241</td>\n",
       "      <td>User-Cold-Start</td>\n",
       "    </tr>\n",
       "    <tr>\n",
       "      <th>2</th>\n",
       "      <td>dnnrec</td>\n",
       "      <td>0.715683</td>\n",
       "      <td>0.845981</td>\n",
       "      <td>0.696521</td>\n",
       "      <td>0.141180</td>\n",
       "      <td>Item-Cold_start</td>\n",
       "    </tr>\n",
       "    <tr>\n",
       "      <th>3</th>\n",
       "      <td>dnnrec</td>\n",
       "      <td>1.513369</td>\n",
       "      <td>1.230191</td>\n",
       "      <td>1.001728</td>\n",
       "      <td>-0.513369</td>\n",
       "      <td>User-Item-cold-start</td>\n",
       "    </tr>\n",
       "    <tr>\n",
       "      <th>0</th>\n",
       "      <td>dnnrec</td>\n",
       "      <td>0.765935</td>\n",
       "      <td>0.875177</td>\n",
       "      <td>0.687575</td>\n",
       "      <td>0.416891</td>\n",
       "      <td>0</td>\n",
       "    </tr>\n",
       "    <tr>\n",
       "      <th>1</th>\n",
       "      <td>dnnrec</td>\n",
       "      <td>1.015335</td>\n",
       "      <td>1.007639</td>\n",
       "      <td>0.824701</td>\n",
       "      <td>0.150884</td>\n",
       "      <td>1</td>\n",
       "    </tr>\n",
       "    <tr>\n",
       "      <th>0</th>\n",
       "      <td>dnnrec</td>\n",
       "      <td>0.788055</td>\n",
       "      <td>0.887725</td>\n",
       "      <td>0.699737</td>\n",
       "      <td>0.397064</td>\n",
       "      <td>0</td>\n",
       "    </tr>\n",
       "  </tbody>\n",
       "</table>\n",
       "</div>"
      ],
      "text/plain": [
       "   method       mse      rmse       mae  r2_score      Cold Start Group\n",
       "0  dnnrec  0.765935  0.875177  0.687575  0.416891         No-cold-start\n",
       "1  dnnrec  1.016006  1.007971  0.824995  0.150241       User-Cold-Start\n",
       "2  dnnrec  0.715683  0.845981  0.696521  0.141180       Item-Cold_start\n",
       "3  dnnrec  1.513369  1.230191  1.001728 -0.513369  User-Item-cold-start\n",
       "0  dnnrec  0.765935  0.875177  0.687575  0.416891                     0\n",
       "1  dnnrec  1.015335  1.007639  0.824701  0.150884                     1\n",
       "0  dnnrec  0.788055  0.887725  0.699737  0.397064                     0"
      ]
     },
     "execution_count": 68,
     "metadata": {},
     "output_type": "execute_result"
    }
   ],
   "source": [
    "result_dnnrec=pd.concat([score_by_group(dfvalid,'pred_dnnrec','cold_start_group','dnnrec'),score_by_group(dfvalid,'pred_dnnrec','cold_start_bucket','dnnrec'),\\\n",
    "score_by_group(dfvalid,'pred_dnnrec','flag_train','dnnrec')],axis=0)\n",
    "result_dnnrec"
   ]
  },
  {
   "cell_type": "code",
   "execution_count": 73,
   "metadata": {},
   "outputs": [
    {
     "data": {
      "text/plain": [
       "(70, 6)"
      ]
     },
     "execution_count": 73,
     "metadata": {},
     "output_type": "execute_result"
    }
   ],
   "source": [
    "results_concat.shape"
   ]
  },
  {
   "cell_type": "code",
   "execution_count": 74,
   "metadata": {},
   "outputs": [],
   "source": [
    "results_concat=pd.concat([results_concat,result_dnnrec],axis=0)"
   ]
  },
  {
   "cell_type": "code",
   "execution_count": 75,
   "metadata": {},
   "outputs": [],
   "source": [
    "pickle.dump([df,dftrain,dfvalid,idx_to_user,idx_to_item,item_to_idx,user_to_idx,results_concat],open(f'{DATAPATH}/df_side_cold_runother_dnnrec.pkl','wb'))"
   ]
  },
  {
   "cell_type": "code",
   "execution_count": null,
   "metadata": {},
   "outputs": [],
   "source": []
  }
 ],
 "metadata": {
  "kernelspec": {
   "display_name": "Python 3",
   "language": "python",
   "name": "python3"
  },
  "language_info": {
   "codemirror_mode": {
    "name": "ipython",
    "version": 3
   },
   "file_extension": ".py",
   "mimetype": "text/x-python",
   "name": "python",
   "nbconvert_exporter": "python",
   "pygments_lexer": "ipython3",
   "version": "3.7.3"
  }
 },
 "nbformat": 4,
 "nbformat_minor": 2
}
