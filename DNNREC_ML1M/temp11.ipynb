{
 "cells": [
  {
   "cell_type": "code",
   "execution_count": 1,
   "metadata": {},
   "outputs": [],
   "source": [
    "PATH='/home/kirana/Documents/phd/experiment1_new/DNNREC_ML1M'\n",
    "DATAPATH='/home/kirana/Documents/final_dissertation_final/experiments/datasets/ml-1m'"
   ]
  },
  {
   "cell_type": "code",
   "execution_count": 2,
   "metadata": {},
   "outputs": [],
   "source": [
    "import pandas as pd\n",
    "import numpy as np\n",
    "import matplotlib.pyplot as plt\n",
    "import sklearn\n",
    "import os\n",
    "import pickle\n",
    "import torch\n",
    "from torch.utils.data import Dataset, DataLoader\n",
    "from torch import nn\n",
    "import pickle\n",
    "from sklearn import metrics"
   ]
  },
  {
   "cell_type": "code",
   "execution_count": 3,
   "metadata": {},
   "outputs": [],
   "source": [
    "[df,dftrain,dfvalid,idx_to_user,idx_to_item,item_to_idx,user_to_idx,results_concat]=\\\n",
    "    pickle.load(open(f'{DATAPATH}/df_side_cold_runother_cf.pkl','rb'))"
   ]
  },
  {
   "cell_type": "code",
   "execution_count": 4,
   "metadata": {},
   "outputs": [
    {
     "data": {
      "text/plain": [
       "Index(['index', 'age', 'flag_train', 'gender', 'genre', 'itemId', 'maxSeqNum',\n",
       "       'month', 'month_acq', 'occupation',\n",
       "       ...\n",
       "       'f_tag_to', 'f_tag_trek', 'f_tag_wars', 'f_tag_weapon', 'f_tag_who',\n",
       "       'f_tag_with', 'f_tag_world', 'f_tag_you', 'user_idx', 'item_idx'],\n",
       "      dtype='object', length=392)"
      ]
     },
     "execution_count": 4,
     "metadata": {},
     "output_type": "execute_result"
    }
   ],
   "source": [
    "dftrain.columns"
   ]
  },
  {
   "cell_type": "code",
   "execution_count": 5,
   "metadata": {},
   "outputs": [],
   "source": [
    "denseCols=dftrain.columns[dftrain.columns.str.startswith('f_t')].tolist()"
   ]
  },
  {
   "cell_type": "code",
   "execution_count": 6,
   "metadata": {},
   "outputs": [
    {
     "data": {
      "text/plain": [
       "['f_title_1939',\n",
       " 'f_title_1940',\n",
       " 'f_title_1941',\n",
       " 'f_title_1942',\n",
       " 'f_title_1944',\n",
       " 'f_title_1946',\n",
       " 'f_title_1950',\n",
       " 'f_title_1951',\n",
       " 'f_title_1953',\n",
       " 'f_title_1954',\n",
       " 'f_title_1955',\n",
       " 'f_title_1956',\n",
       " 'f_title_1957',\n",
       " 'f_title_1958',\n",
       " 'f_title_1959',\n",
       " 'f_title_1960',\n",
       " 'f_title_1961',\n",
       " 'f_title_1962',\n",
       " 'f_title_1963',\n",
       " 'f_title_1964',\n",
       " 'f_title_1965',\n",
       " 'f_title_1966',\n",
       " 'f_title_1967',\n",
       " 'f_title_1968',\n",
       " 'f_title_1969',\n",
       " 'f_title_1970',\n",
       " 'f_title_1971',\n",
       " 'f_title_1972',\n",
       " 'f_title_1973',\n",
       " 'f_title_1974',\n",
       " 'f_title_1975',\n",
       " 'f_title_1976',\n",
       " 'f_title_1977',\n",
       " 'f_title_1978',\n",
       " 'f_title_1979',\n",
       " 'f_title_1980',\n",
       " 'f_title_1981',\n",
       " 'f_title_1982',\n",
       " 'f_title_1983',\n",
       " 'f_title_1984',\n",
       " 'f_title_1985',\n",
       " 'f_title_1986',\n",
       " 'f_title_1987',\n",
       " 'f_title_1988',\n",
       " 'f_title_1989',\n",
       " 'f_title_1990',\n",
       " 'f_title_1991',\n",
       " 'f_title_1992',\n",
       " 'f_title_1993',\n",
       " 'f_title_1994',\n",
       " 'f_title_1995',\n",
       " 'f_title_1996',\n",
       " 'f_title_1997',\n",
       " 'f_title_1998',\n",
       " 'f_title_1999',\n",
       " 'f_title_2000',\n",
       " 'f_title_about',\n",
       " 'f_title_adventures',\n",
       " 'f_title_air',\n",
       " 'f_title_airplane',\n",
       " 'f_title_alien',\n",
       " 'f_title_all',\n",
       " 'f_title_american',\n",
       " 'f_title_an',\n",
       " 'f_title_and',\n",
       " 'f_title_apes',\n",
       " 'f_title_ark',\n",
       " 'f_title_as',\n",
       " 'f_title_at',\n",
       " 'f_title_austin',\n",
       " 'f_title_babe',\n",
       " 'f_title_back',\n",
       " 'f_title_batman',\n",
       " 'f_title_beauty',\n",
       " 'f_title_being',\n",
       " 'f_title_best',\n",
       " 'f_title_big',\n",
       " 'f_title_black',\n",
       " 'f_title_blade',\n",
       " 'f_title_blue',\n",
       " 'f_title_boys',\n",
       " 'f_title_braveheart',\n",
       " 'f_title_breakfast',\n",
       " 'f_title_bride',\n",
       " 'f_title_by',\n",
       " 'f_title_chocolate',\n",
       " 'f_title_christmas',\n",
       " 'f_title_city',\n",
       " 'f_title_close',\n",
       " 'f_title_club',\n",
       " 'f_title_confidential',\n",
       " 'f_title_contact',\n",
       " 'f_title_dark',\n",
       " 'f_title_day',\n",
       " 'f_title_days',\n",
       " 'f_title_dead',\n",
       " 'f_title_die',\n",
       " 'f_title_do',\n",
       " 'f_title_dog',\n",
       " 'f_title_down',\n",
       " 'f_title_dr',\n",
       " 'f_title_empire',\n",
       " 'f_title_episode',\n",
       " 'f_title_escape',\n",
       " 'f_title_extra',\n",
       " 'f_title_eyes',\n",
       " 'f_title_fargo',\n",
       " 'f_title_fear',\n",
       " 'f_title_fight',\n",
       " 'f_title_fire',\n",
       " 'f_title_first',\n",
       " 'f_title_fly',\n",
       " 'f_title_for',\n",
       " 'f_title_forrest',\n",
       " 'f_title_frankenstein',\n",
       " 'f_title_from',\n",
       " 'f_title_full',\n",
       " 'f_title_future',\n",
       " 'f_title_game',\n",
       " 'f_title_ghost',\n",
       " 'f_title_ghostbusters',\n",
       " 'f_title_girl',\n",
       " 'f_title_godfather',\n",
       " 'f_title_good',\n",
       " 'f_title_great',\n",
       " 'f_title_green',\n",
       " 'f_title_groundhog',\n",
       " 'f_title_gump',\n",
       " 'f_title_gun',\n",
       " 'f_title_hard',\n",
       " 'f_title_harry',\n",
       " 'f_title_high',\n",
       " 'f_title_home',\n",
       " 'f_title_hope',\n",
       " 'f_title_house',\n",
       " 'f_title_ii',\n",
       " 'f_title_iii',\n",
       " 'f_title_impossible',\n",
       " 'f_title_in',\n",
       " 'f_title_indiana',\n",
       " 'f_title_is',\n",
       " 'f_title_it',\n",
       " 'f_title_iv',\n",
       " 'f_title_jaws',\n",
       " 'f_title_jedi',\n",
       " 'f_title_john',\n",
       " 'f_title_jones',\n",
       " 'f_title_judgment',\n",
       " 'f_title_jurassic',\n",
       " 'f_title_kid',\n",
       " 'f_title_king',\n",
       " 'f_title_la',\n",
       " 'f_title_lambs',\n",
       " 'f_title_last',\n",
       " 'f_title_lethal',\n",
       " 'f_title_lies',\n",
       " 'f_title_life',\n",
       " 'f_title_list',\n",
       " 'f_title_little',\n",
       " 'f_title_lost',\n",
       " 'f_title_love',\n",
       " 'f_title_mad',\n",
       " 'f_title_malkovich',\n",
       " 'f_title_man',\n",
       " 'f_title_mary',\n",
       " 'f_title_mask',\n",
       " 'f_title_matrix',\n",
       " 'f_title_max',\n",
       " 'f_title_me',\n",
       " 'f_title_men',\n",
       " 'f_title_menace',\n",
       " 'f_title_midnight',\n",
       " 'f_title_mission',\n",
       " 'f_title_monty',\n",
       " 'f_title_movie',\n",
       " 'f_title_mr',\n",
       " 'f_title_my',\n",
       " 'f_title_mystery',\n",
       " 'f_title_new',\n",
       " 'f_title_night',\n",
       " 'f_title_nightmare',\n",
       " 'f_title_october',\n",
       " 'f_title_of',\n",
       " 'f_title_off',\n",
       " 'f_title_old',\n",
       " 'f_title_on',\n",
       " 'f_title_one',\n",
       " 'f_title_out',\n",
       " 'f_title_over',\n",
       " 'f_title_park',\n",
       " 'f_title_part',\n",
       " 'f_title_phantom',\n",
       " 'f_title_picture',\n",
       " 'f_title_planet',\n",
       " 'f_title_powers',\n",
       " 'f_title_princess',\n",
       " 'f_title_private',\n",
       " 'f_title_psycho',\n",
       " 'f_title_python',\n",
       " 'f_title_quest',\n",
       " 'f_title_raiders',\n",
       " 'f_title_rain',\n",
       " 'f_title_red',\n",
       " 'f_title_redemption',\n",
       " 'f_title_return',\n",
       " 'f_title_road',\n",
       " 'f_title_rock',\n",
       " 'f_title_rocky',\n",
       " 'f_title_roger',\n",
       " 'f_title_run',\n",
       " 'f_title_ryan',\n",
       " 'f_title_saving',\n",
       " 'f_title_schindler',\n",
       " 'f_title_sense',\n",
       " 'f_title_seven',\n",
       " 'f_title_shakespeare',\n",
       " 'f_title_shawshank',\n",
       " 'f_title_show',\n",
       " 'f_title_silence',\n",
       " 'f_title_sixth',\n",
       " 'f_title_space',\n",
       " 'f_title_star',\n",
       " 'f_title_story',\n",
       " 'f_title_strikes',\n",
       " 'f_title_superman',\n",
       " 'f_title_terminator',\n",
       " 'f_title_terrestrial',\n",
       " 'f_title_the',\n",
       " 'f_title_thing',\n",
       " 'f_title_three',\n",
       " 'f_title_time',\n",
       " 'f_title_to',\n",
       " 'f_title_toy',\n",
       " 'f_title_trek',\n",
       " 'f_title_true',\n",
       " 'f_title_up',\n",
       " 'f_title_vi',\n",
       " 'f_title_wars',\n",
       " 'f_title_weapon',\n",
       " 'f_title_wedding',\n",
       " 'f_title_what',\n",
       " 'f_title_when',\n",
       " 'f_title_white',\n",
       " 'f_title_who',\n",
       " 'f_title_wild',\n",
       " 'f_title_with',\n",
       " 'f_title_woman',\n",
       " 'f_title_world',\n",
       " 'f_title_you',\n",
       " 'f_title_young',\n",
       " 'f_tag_1940',\n",
       " 'f_tag_1954',\n",
       " 'f_tag_1958',\n",
       " 'f_tag_1959',\n",
       " 'f_tag_1961',\n",
       " 'f_tag_1962',\n",
       " 'f_tag_1963',\n",
       " 'f_tag_1964',\n",
       " 'f_tag_1967',\n",
       " 'f_tag_1968',\n",
       " 'f_tag_1969',\n",
       " 'f_tag_1970',\n",
       " 'f_tag_1971',\n",
       " 'f_tag_1972',\n",
       " 'f_tag_1973',\n",
       " 'f_tag_1974',\n",
       " 'f_tag_1975',\n",
       " 'f_tag_1976',\n",
       " 'f_tag_1977',\n",
       " 'f_tag_1978',\n",
       " 'f_tag_1979',\n",
       " 'f_tag_1980',\n",
       " 'f_tag_1981',\n",
       " 'f_tag_1982',\n",
       " 'f_tag_1983',\n",
       " 'f_tag_1984',\n",
       " 'f_tag_1985',\n",
       " 'f_tag_1986',\n",
       " 'f_tag_1987',\n",
       " 'f_tag_1988',\n",
       " 'f_tag_1989',\n",
       " 'f_tag_1990',\n",
       " 'f_tag_1991',\n",
       " 'f_tag_1992',\n",
       " 'f_tag_1993',\n",
       " 'f_tag_1994',\n",
       " 'f_tag_1995',\n",
       " 'f_tag_1996',\n",
       " 'f_tag_1997',\n",
       " 'f_tag_1998',\n",
       " 'f_tag_1999',\n",
       " 'f_tag_2000',\n",
       " 'f_tag_about',\n",
       " 'f_tag_alien',\n",
       " 'f_tag_american',\n",
       " 'f_tag_and',\n",
       " 'f_tag_back',\n",
       " 'f_tag_beauty',\n",
       " 'f_tag_big',\n",
       " 'f_tag_black',\n",
       " 'f_tag_by',\n",
       " 'f_tag_day',\n",
       " 'f_tag_dead',\n",
       " 'f_tag_die',\n",
       " 'f_tag_episode',\n",
       " 'f_tag_for',\n",
       " 'f_tag_from',\n",
       " 'f_tag_future',\n",
       " 'f_tag_godfather',\n",
       " 'f_tag_good',\n",
       " 'f_tag_hard',\n",
       " 'f_tag_high',\n",
       " 'f_tag_ii',\n",
       " 'f_tag_iii',\n",
       " 'f_tag_in',\n",
       " 'f_tag_it',\n",
       " 'f_tag_iv',\n",
       " 'f_tag_king',\n",
       " 'f_tag_last',\n",
       " 'f_tag_life',\n",
       " 'f_tag_little',\n",
       " 'f_tag_lost',\n",
       " 'f_tag_love',\n",
       " 'f_tag_man',\n",
       " 'f_tag_me',\n",
       " 'f_tag_men',\n",
       " 'f_tag_my',\n",
       " 'f_tag_new',\n",
       " 'f_tag_night',\n",
       " 'f_tag_of',\n",
       " 'f_tag_on',\n",
       " 'f_tag_one',\n",
       " 'f_tag_park',\n",
       " 'f_tag_part',\n",
       " 'f_tag_red',\n",
       " 'f_tag_return',\n",
       " 'f_tag_run',\n",
       " 'f_tag_space',\n",
       " 'f_tag_star',\n",
       " 'f_tag_story',\n",
       " 'f_tag_terminator',\n",
       " 'f_tag_the',\n",
       " 'f_tag_to',\n",
       " 'f_tag_trek',\n",
       " 'f_tag_wars',\n",
       " 'f_tag_weapon',\n",
       " 'f_tag_who',\n",
       " 'f_tag_with',\n",
       " 'f_tag_world',\n",
       " 'f_tag_you']"
      ]
     },
     "execution_count": 6,
     "metadata": {},
     "output_type": "execute_result"
    }
   ],
   "source": [
    "denseCols"
   ]
  },
  {
   "cell_type": "code",
   "execution_count": 7,
   "metadata": {},
   "outputs": [],
   "source": [
    "genre_to_idx={j:i+1 for i,j in enumerate(dftrain['genre'].unique())}\n",
    "idx_to_genre={i+1:j for i,j in enumerate(dftrain['genre'].unique())}\n",
    "dftrain['genre_idx']=[genre_to_idx.get(i) for i in dftrain['genre']]\n",
    "dfvalid['genre_idx']=[genre_to_idx.get(i) for i in dfvalid['genre']]"
   ]
  },
  {
   "cell_type": "code",
   "execution_count": 8,
   "metadata": {},
   "outputs": [],
   "source": [
    "occupation_to_idx={j:i+1 for i,j in enumerate(dftrain['occupation'].unique())}\n",
    "idx_to_occupation={i+1:j for i,j in enumerate(dftrain['occupation'].unique())}\n",
    "dftrain['occupation_idx']=[occupation_to_idx.get(i) for i in dftrain['occupation']]\n",
    "dfvalid['occupation_idx']=[occupation_to_idx.get(i) for i in dfvalid['occupation']]"
   ]
  },
  {
   "cell_type": "code",
   "execution_count": 9,
   "metadata": {},
   "outputs": [],
   "source": [
    "age_to_idx={j:i+1 for i,j in enumerate(dftrain['age'].unique())}\n",
    "idx_to_age={i+1:j for i,j in enumerate(dftrain['age'].unique())}\n",
    "dftrain['age_idx']=[age_to_idx.get(i) for i in dftrain['age']]\n",
    "dfvalid['age_idx']=[age_to_idx.get(i) for i in dfvalid['age']]"
   ]
  },
  {
   "cell_type": "code",
   "execution_count": 10,
   "metadata": {},
   "outputs": [],
   "source": [
    "gender_to_idx={j:i+1 for i,j in enumerate(dftrain['gender'].unique())}\n",
    "idx_to_gender={i+1:j for i,j in enumerate(dftrain['gender'].unique())}\n",
    "dftrain['gender_idx']=[gender_to_idx.get(i) for i in dftrain['gender']]\n",
    "dfvalid['gender_idx']=[gender_to_idx.get(i) for i in dfvalid['gender']]"
   ]
  },
  {
   "cell_type": "code",
   "execution_count": 11,
   "metadata": {},
   "outputs": [],
   "source": [
    "catCols=['genre_idx','occupation_idx','age_idx','gender_idx']"
   ]
  },
  {
   "cell_type": "markdown",
   "metadata": {},
   "source": [
    "### Dataset and DataLoader"
   ]
  },
  {
   "cell_type": "code",
   "execution_count": 12,
   "metadata": {},
   "outputs": [],
   "source": [
    "class cfdata (torch.utils.data.dataset.Dataset):\n",
    "    def __init__(self,dfX,dfY,denseCols,catCols):\n",
    "        self.dfX,self.dfY=dfX,dfY\n",
    "        self.denseCols=denseCols\n",
    "        self.catCols=catCols\n",
    "        \n",
    "    def __len__ (self):\n",
    "        return self.dfX.shape[0]\n",
    "    \n",
    "    def __getitem__ (self, idx):\n",
    "        return torch.FloatTensor(self.dfX.iloc[idx].values),torch.FloatTensor([self.dfY.values[idx]])"
   ]
  },
  {
   "cell_type": "code",
   "execution_count": 13,
   "metadata": {},
   "outputs": [],
   "source": [
    "dstrain=cfdata(dftrain[['user_idx','item_idx']+denseCols+catCols],dftrain['rating'],denseCols,catCols)\n",
    "dsvalid=cfdata(dfvalid[['user_idx','item_idx']+denseCols+catCols],dfvalid['rating'],denseCols,catCols)"
   ]
  },
  {
   "cell_type": "code",
   "execution_count": 14,
   "metadata": {},
   "outputs": [
    {
     "data": {
      "text/plain": [
       "(895738, 396)"
      ]
     },
     "execution_count": 14,
     "metadata": {},
     "output_type": "execute_result"
    }
   ],
   "source": [
    "dftrain.shape"
   ]
  },
  {
   "cell_type": "code",
   "execution_count": 15,
   "metadata": {},
   "outputs": [],
   "source": [
    "bs=128"
   ]
  },
  {
   "cell_type": "code",
   "execution_count": 16,
   "metadata": {},
   "outputs": [],
   "source": [
    "dltrain=DataLoader(dstrain,bs,True)"
   ]
  },
  {
   "cell_type": "code",
   "execution_count": 17,
   "metadata": {},
   "outputs": [],
   "source": [
    "dlvalid=DataLoader(dsvalid,bs,False)"
   ]
  },
  {
   "cell_type": "code",
   "execution_count": 18,
   "metadata": {},
   "outputs": [
    {
     "data": {
      "text/plain": [
       "301"
      ]
     },
     "execution_count": 18,
     "metadata": {},
     "output_type": "execute_result"
    }
   ],
   "source": [
    "dftrain['genre'].nunique()"
   ]
  },
  {
   "cell_type": "code",
   "execution_count": 19,
   "metadata": {},
   "outputs": [
    {
     "data": {
      "text/plain": [
       "[('genre_idx', 301), ('occupation_idx', 21), ('age_idx', 7), ('gender_idx', 2)]"
      ]
     },
     "execution_count": 19,
     "metadata": {},
     "output_type": "execute_result"
    }
   ],
   "source": [
    "[(col, dftrain[col].nunique()) for col in catCols]"
   ]
  },
  {
   "cell_type": "code",
   "execution_count": 20,
   "metadata": {},
   "outputs": [
    {
     "data": {
      "text/plain": [
       "{'genre_idx': 3, 'occupation_idx': 0, 'age_idx': 0, 'gender_idx': 0}"
      ]
     },
     "execution_count": 20,
     "metadata": {},
     "output_type": "execute_result"
    }
   ],
   "source": [
    "{col: min(50,dftrain[col].nunique()//100) for col in catCols}"
   ]
  },
  {
   "cell_type": "code",
   "execution_count": 21,
   "metadata": {},
   "outputs": [],
   "source": [
    "emb_szs=[(dftrain[col].nunique(),min(50,dftrain[col].nunique()//2)) for col in catCols]"
   ]
  },
  {
   "cell_type": "code",
   "execution_count": 22,
   "metadata": {},
   "outputs": [
    {
     "data": {
      "text/plain": [
       "[(301, 50), (21, 10), (7, 3), (2, 1)]"
      ]
     },
     "execution_count": 22,
     "metadata": {},
     "output_type": "execute_result"
    }
   ],
   "source": [
    "emb_szs"
   ]
  },
  {
   "cell_type": "markdown",
   "metadata": {},
   "source": [
    "## Model Architecture"
   ]
  },
  {
   "cell_type": "code",
   "execution_count": 75,
   "metadata": {},
   "outputs": [],
   "source": [
    "n_users=len(user_to_idx)\n",
    "n_items=len(item_to_idx)\n",
    "n_emb_user=50\n",
    "n_emb_item=50\n",
    "min_rating=min(dftrain['rating'])\n",
    "max_rating=max(dftrain['rating'])\n",
    "dropout_e=0.05\n",
    "    # embedding, dense, cat, final\n",
    "hidden=[25,1,5,10]\n",
    "dropouts=[0.2,0.3,0.2,0]"
   ]
  },
  {
   "cell_type": "code",
   "execution_count": 76,
   "metadata": {},
   "outputs": [],
   "source": [
    "def hidden_layer(x,y,dropout,activation=nn.Sigmoid()):\n",
    "    return nn.Sequential(\n",
    "        nn.Linear(x, y),\n",
    "        activation,\n",
    "        nn.Dropout(p=dropout)\n",
    "        )   "
   ]
  },
  {
   "cell_type": "code",
   "execution_count": 77,
   "metadata": {},
   "outputs": [],
   "source": [
    "#[mtx_user_emb,mtx_item_emb,user_bias_emb,item_bias_emb]=pickle.load(open(f'{DATAPATH}/wts_embs','rb'))\n",
    "#pretrain_wts=pickle.load(open(f'{DATAPATH}/wts_embs','rb'))\n",
    "pretrain_wts=None"
   ]
  },
  {
   "cell_type": "code",
   "execution_count": 78,
   "metadata": {},
   "outputs": [],
   "source": [
    "class cf(nn.Module):    \n",
    "    def __init__(self,n_users,n_emb_user,n_emb_item,n_items,min_rating,max_rating,autoenc_cols,pretrain_wts,\\\n",
    "                 catCols, emb_szs,dropout_e=0.01,hidden=[15,5],dropouts=[0.2,0.2],error_type=\"mse\"):\n",
    "        super().__init__()\n",
    "        self.n_users,self.n_emb_user,self.n_emb_item,self.n_items,self.min_rating,self.max_rating=\\\n",
    "                    n_users,n_emb_user,n_emb_item,n_items,min_rating,max_rating\n",
    "        self.dropout_e,self.hidden,self.dropouts=dropout_e,hidden,dropouts\n",
    "        self.autoenc_cols,self.len_dense_cols=autoenc_cols,len(autoenc_cols)\n",
    "        self.catCols,self.emb_szs=catCols,emb_szs\n",
    "        self.len_cat_cols=len(self.catCols)\n",
    "        self.n_cat_emb=sum([x[1] for x in emb_szs])\n",
    "        \n",
    "        \n",
    "        self.create_architecture()\n",
    "        self.init_parameters()\n",
    "        \n",
    "        if pretrain_wts is not None:\n",
    "            self.emb_user.weight.data=torch.FloatTensor(pretrain_wts[0])\n",
    "            self.emb_item.weight.data=torch.FloatTensor(pretrain_wts[1])\n",
    "            self.ub.weight.data=torch.FloatTensor(pretrain_wts[2])\n",
    "            self.ib.weight.data=torch.FloatTensor(pretrain_wts[3])\n",
    "\n",
    "        if error_type!=\"mse\":\n",
    "            self.criterion=nn.L1Loss()\n",
    "        else:\n",
    "            self.criterion=nn.MSELoss()\n",
    "        \n",
    "    def create_architecture(self):\n",
    "        self.emb_user=nn.Embedding(self.n_users+1,self.n_emb_user)\n",
    "        self.emb_item=nn.Embedding(self.n_items+1,self.n_emb_item)\n",
    "        self.ub=nn.Embedding(self.n_users+1,1)\n",
    "        self.ib=nn.Embedding(self.n_items+1,1)\n",
    "        self.embs_cat=nn.ModuleList([nn.Embedding(x+1,y) for x,y in self.emb_szs])\n",
    "        \n",
    "        self.emb_dropout=nn.Dropout(self.dropout_e)\n",
    "\n",
    "        \n",
    "        self.lin1= nn.Sequential(nn.Linear(self.n_emb_user+self.n_emb_item,self.hidden[0]),\n",
    "                    nn.ReLU(),\n",
    "                    nn.Dropout(p=dropouts[0]) )\n",
    "        self.lin_bias=nn.Linear(3,1)\n",
    "       \n",
    "        self.lin2= nn.Sequential (nn.Linear(self.len_dense_cols,self.hidden[1]),\n",
    "                    nn.ReLU(),\n",
    "                    nn.Dropout(p=dropouts[1]) )\n",
    "        self.lin_cat= nn.Sequential (nn.Linear(self.n_cat_emb,self.hidden[2]),\n",
    "                                nn.ReLU(),\n",
    "                                nn.Dropout(p=dropouts[2]))\n",
    "        self.lin3= nn.Sequential (nn.Linear(self.hidden[0]+self.hidden[1]+1+self.hidden[2],self.hidden[3]),\n",
    "                    nn.ReLU(),\n",
    "                    nn.Dropout(p=dropouts[3]))\n",
    "        self.lin4=nn.Linear(self.hidden[3],1)\n",
    "        self.sigmoid=nn.Sigmoid()\n",
    "        \n",
    "        \n",
    "    def init_parameters(self):\n",
    "        nn.init.kaiming_normal_(self.emb_user.weight.data)\n",
    "        nn.init.kaiming_normal_(self.emb_item.weight.data)\n",
    "        nn.init.zeros_(self.ub.weight.data)\n",
    "        nn.init.zeros_(self.ib.weight.data)\n",
    "        nn.init.kaiming_normal_(self.lin1[0].weight.data)\n",
    "        nn.init.kaiming_normal_(self.lin2[0].weight.data)\n",
    "        nn.init.kaiming_normal_(self.lin3[0].weight.data)\n",
    "        #nn.init.kaiming_normal_(lin)\n",
    "       \n",
    "    def forward (self,Xb,Yb):\n",
    "        users=Xb[:,0].long()\n",
    "        items=Xb[:,1].long()\n",
    "        users=self.emb_dropout(self.emb_user(users))\n",
    "        items=self.emb_dropout(self.emb_item(items))\n",
    "        users_bias=self.emb_dropout(self.ub(Xb[:,0].long()))\n",
    "        items_bias=self.emb_dropout(self.ib(Xb[:,1].long()))\n",
    "        embed=torch.cat([users,items],1)\n",
    "        out1=self.lin1(embed)\n",
    "        bias=torch.cat([users_bias,items_bias,users_bias+items_bias],1)\n",
    "        biased=self.lin_bias(bias)\n",
    "           \n",
    "        \n",
    "        denses=Xb[:,2:(2+self.len_dense_cols)]\n",
    "        out2=self.lin2(denses)\n",
    "                  \n",
    "        cats=Xb[:,(2+self.len_dense_cols):].long()\n",
    "        embed_cat=[self.emb_dropout(self.embs_cat[i](cats[:,i]) ) for i in range(len(self.emb_szs))]\n",
    "        embedded_cat = torch.cat([x for x in embed_cat],1)\n",
    "        out_cat=self.lin_cat(embedded_cat)\n",
    "        \n",
    "        out3=torch.cat([out1,out2,biased,out_cat],1)\n",
    "        \n",
    "        out4=self.lin3(out3)\n",
    "        \n",
    "        out5=self.lin4(out4)\n",
    "        \n",
    "        out=self.sigmoid(out5)\n",
    "        \n",
    "        preds=out*(self.max_rating-self.min_rating)+self.min_rating\n",
    "        #preds=torch.clamp(out,self.min_rating,self.max_rating)\n",
    "        #preds=preds.view(-1)\n",
    "        loss=self.criterion(preds,Yb)\n",
    "        return preds,loss"
   ]
  },
  {
   "cell_type": "code",
   "execution_count": 79,
   "metadata": {},
   "outputs": [],
   "source": [
    "cfobj=cf(n_users,n_emb_user,n_emb_item,n_items,min_rating,max_rating,denseCols,pretrain_wts,catCols,emb_szs,dropout_e,hidden,dropouts,error_type=\"mse\")"
   ]
  },
  {
   "cell_type": "code",
   "execution_count": 80,
   "metadata": {},
   "outputs": [
    {
     "data": {
      "text/plain": [
       "cf(\n",
       "  (emb_user): Embedding(6041, 50)\n",
       "  (emb_item): Embedding(3707, 50)\n",
       "  (ub): Embedding(6041, 1)\n",
       "  (ib): Embedding(3707, 1)\n",
       "  (embs_cat): ModuleList(\n",
       "    (0): Embedding(302, 50)\n",
       "    (1): Embedding(22, 10)\n",
       "    (2): Embedding(8, 3)\n",
       "    (3): Embedding(3, 1)\n",
       "  )\n",
       "  (emb_dropout): Dropout(p=0.05)\n",
       "  (lin1): Sequential(\n",
       "    (0): Linear(in_features=100, out_features=25, bias=True)\n",
       "    (1): ReLU()\n",
       "    (2): Dropout(p=0.2)\n",
       "  )\n",
       "  (lin_bias): Linear(in_features=3, out_features=1, bias=True)\n",
       "  (lin2): Sequential(\n",
       "    (0): Linear(in_features=350, out_features=1, bias=True)\n",
       "    (1): ReLU()\n",
       "    (2): Dropout(p=0.3)\n",
       "  )\n",
       "  (lin_cat): Sequential(\n",
       "    (0): Linear(in_features=64, out_features=5, bias=True)\n",
       "    (1): ReLU()\n",
       "    (2): Dropout(p=0.2)\n",
       "  )\n",
       "  (lin3): Sequential(\n",
       "    (0): Linear(in_features=32, out_features=10, bias=True)\n",
       "    (1): ReLU()\n",
       "    (2): Dropout(p=0)\n",
       "  )\n",
       "  (lin4): Linear(in_features=10, out_features=1, bias=True)\n",
       "  (sigmoid): Sigmoid()\n",
       "  (criterion): MSELoss()\n",
       ")"
      ]
     },
     "execution_count": 80,
     "metadata": {},
     "output_type": "execute_result"
    }
   ],
   "source": [
    "cfobj"
   ]
  },
  {
   "cell_type": "code",
   "execution_count": 81,
   "metadata": {},
   "outputs": [],
   "source": [
    "for Xb, Yb in dltrain:\n",
    "    break"
   ]
  },
  {
   "cell_type": "code",
   "execution_count": 82,
   "metadata": {},
   "outputs": [
    {
     "data": {
      "text/plain": [
       "(torch.Size([128, 356]), torch.Size([128, 1]))"
      ]
     },
     "execution_count": 82,
     "metadata": {},
     "output_type": "execute_result"
    }
   ],
   "source": [
    "Xb.shape, Yb.shape"
   ]
  },
  {
   "cell_type": "code",
   "execution_count": 83,
   "metadata": {},
   "outputs": [
    {
     "data": {
      "text/plain": [
       "torch.float32"
      ]
     },
     "execution_count": 83,
     "metadata": {},
     "output_type": "execute_result"
    }
   ],
   "source": [
    "Xb.dtype"
   ]
  },
  {
   "cell_type": "code",
   "execution_count": 84,
   "metadata": {},
   "outputs": [
    {
     "data": {
      "text/plain": [
       "(tensor([[2.9472],\n",
       "         [2.7502],\n",
       "         [2.8506],\n",
       "         [2.7420],\n",
       "         [2.7808],\n",
       "         [2.7193],\n",
       "         [2.9585],\n",
       "         [2.7851],\n",
       "         [2.7960],\n",
       "         [2.8052],\n",
       "         [2.8855],\n",
       "         [2.8167],\n",
       "         [2.7989],\n",
       "         [2.7813],\n",
       "         [2.9167],\n",
       "         [3.0082],\n",
       "         [2.8387],\n",
       "         [2.6340],\n",
       "         [2.7187],\n",
       "         [3.0424],\n",
       "         [2.9691],\n",
       "         [2.8581],\n",
       "         [2.9781],\n",
       "         [2.8009],\n",
       "         [2.8034],\n",
       "         [2.7594],\n",
       "         [2.9167],\n",
       "         [2.7689],\n",
       "         [2.8098],\n",
       "         [2.7602],\n",
       "         [2.8318],\n",
       "         [2.9541],\n",
       "         [2.7621],\n",
       "         [2.7721],\n",
       "         [2.7529],\n",
       "         [3.1501],\n",
       "         [2.8345],\n",
       "         [2.8623],\n",
       "         [2.7128],\n",
       "         [3.0200],\n",
       "         [2.8584],\n",
       "         [2.8826],\n",
       "         [2.8991],\n",
       "         [2.8986],\n",
       "         [2.7741],\n",
       "         [2.8936],\n",
       "         [2.8642],\n",
       "         [2.8354],\n",
       "         [2.8274],\n",
       "         [2.7966],\n",
       "         [2.8336],\n",
       "         [2.8278],\n",
       "         [2.7967],\n",
       "         [3.1407],\n",
       "         [2.7914],\n",
       "         [2.7523],\n",
       "         [2.9089],\n",
       "         [2.8440],\n",
       "         [2.7912],\n",
       "         [2.8578],\n",
       "         [2.7937],\n",
       "         [2.7782],\n",
       "         [2.7690],\n",
       "         [2.8610],\n",
       "         [2.9031],\n",
       "         [2.9593],\n",
       "         [2.8117],\n",
       "         [2.8938],\n",
       "         [2.7994],\n",
       "         [2.8158],\n",
       "         [2.8145],\n",
       "         [3.0528],\n",
       "         [2.9219],\n",
       "         [2.7814],\n",
       "         [2.9497],\n",
       "         [2.6770],\n",
       "         [2.8485],\n",
       "         [2.7786],\n",
       "         [2.8076],\n",
       "         [2.9955],\n",
       "         [2.8594],\n",
       "         [2.9651],\n",
       "         [2.9743],\n",
       "         [2.8558],\n",
       "         [2.8144],\n",
       "         [2.8953],\n",
       "         [2.7448],\n",
       "         [2.8803],\n",
       "         [2.8304],\n",
       "         [2.8015],\n",
       "         [3.1409],\n",
       "         [2.8335],\n",
       "         [3.0402],\n",
       "         [2.8223],\n",
       "         [2.7327],\n",
       "         [2.9740],\n",
       "         [2.9539],\n",
       "         [2.7824],\n",
       "         [2.7377],\n",
       "         [2.8261],\n",
       "         [2.8966],\n",
       "         [2.8778],\n",
       "         [3.0217],\n",
       "         [3.0449],\n",
       "         [2.8428],\n",
       "         [2.7629],\n",
       "         [2.8804],\n",
       "         [2.8838],\n",
       "         [2.8331],\n",
       "         [2.7730],\n",
       "         [2.8155],\n",
       "         [2.9151],\n",
       "         [2.8373],\n",
       "         [2.8192],\n",
       "         [2.8488],\n",
       "         [2.8851],\n",
       "         [2.9165],\n",
       "         [2.7683],\n",
       "         [2.8631],\n",
       "         [2.8787],\n",
       "         [2.7915],\n",
       "         [2.8038],\n",
       "         [2.8529],\n",
       "         [2.7867],\n",
       "         [2.8602],\n",
       "         [2.8783],\n",
       "         [2.7885],\n",
       "         [2.8959]], grad_fn=<AddBackward0>),\n",
       " tensor(1.7114, grad_fn=<MseLossBackward>))"
      ]
     },
     "execution_count": 84,
     "metadata": {},
     "output_type": "execute_result"
    }
   ],
   "source": [
    "cfobj.forward(Xb,Yb)"
   ]
  },
  {
   "cell_type": "markdown",
   "metadata": {},
   "source": [
    "## Learner"
   ]
  },
  {
   "cell_type": "code",
   "execution_count": 85,
   "metadata": {},
   "outputs": [],
   "source": [
    "class Learner():\n",
    "    def __init__(self,model,optimizer,metric_fn,device,bptt=12,print_every=5,clip_val=None,\\\n",
    "                 cycle_mult=0,lr_decay=0.7,wd_mult=1.1,start_lr=2e-2, end_lr=5e-4,error_type=\"mse\"):\n",
    "        self.model,self.optimizer,self.metric_fn,self.device,self.print_every,self.bptt,self.losses,self.clip_val=\\\n",
    "            model,optimizer,metric_fn,device,print_every,bptt,[],clip_val\n",
    "        self.n_epochs=1\n",
    "        self.cycle_mult,self.lr_decay=cycle_mult,lr_decay\n",
    "        self.wd_mult=wd_mult\n",
    "        for param_group in self.optimizer.param_groups:\n",
    "            self.start_lr=param_group['lr']\n",
    "            self.start_wd=param_group['weight_decay']\n",
    "        self.wd=self.start_wd\n",
    "        self.lr=self.start_lr\n",
    "        self.end_lr=end_lr\n",
    "        self.n_epoch=0\n",
    "        self.lrs=[1e-2,5e-3,1e-4,5e-4]\n",
    "        self.preds,self.preds_valid,self.trainY,self.actual=[],[],[],[]\n",
    "        self.ratio=self.end_lr/self.start_lr\n",
    "        self.num_steps=self.cycle_mult\n",
    "        self.reset_cycle=self.cycle_mult\n",
    "        self.error_type=error_type\n",
    "        self.scores=[]\n",
    "        self.generate_scores=False\n",
    "        \n",
    "    def fit (self,Xb,Yb,mode_train=True):\n",
    "        if mode_train:\n",
    "            self.model.train()\n",
    "        else:\n",
    "            self.model.eval()\n",
    "        \n",
    "        #import pdb\n",
    "        #pdb.set_trace()\n",
    "        preds,loss=self.model(Xb,Yb)\n",
    "\n",
    "     \n",
    "        if mode_train:\n",
    "            if 1==0:\n",
    "                lr =self.lrs[torch.randint(0,4,(1,))]\n",
    "                for param_group in self.optimizer.param_groups:\n",
    "                    param_group['lr']=lr\n",
    "            \n",
    "            self.optimizer.zero_grad()\n",
    "            loss.backward()\n",
    "            self.optimizer.step()\n",
    "        myloss=loss.item()\n",
    "    \n",
    "        \n",
    "        with torch.no_grad():\n",
    "            if self.error_type == \"mse\":\n",
    "                acc=nn.L1Loss() (preds,Yb)\n",
    "                myrmse=np.sqrt(myloss)\n",
    "            else:\n",
    "                acc=nn.MSELoss() (preds,Yb)\n",
    "                myrmse=np.sqrt(acc.item())\n",
    "            acc=acc.item()\n",
    "                 \n",
    "        if mode_train==False:\n",
    "            if self.generate_scores:\n",
    "                self.scores.append(preds.detach().cpu().numpy().flatten())\n",
    "        del preds\n",
    "        del loss\n",
    "        \n",
    "        if self.clip_val is not None:\n",
    "            torch.nn.utils.clip_grad_norm_(self.model.parameters(), self.clip_val)\n",
    "        \n",
    "        return myloss, acc, myrmse\n",
    "    \n",
    "    def lr_find (self,start_lr,end_lr,iterator,n_batch):\n",
    "        losses,lrs=[],[]\n",
    "        ratio=end_lr/start_lr\n",
    "        num_steps=n_batch\n",
    "        lr=start_lr\n",
    "        for i in range(num_steps):            \n",
    "            lr=lr*(end_lr/start_lr)**(1/num_steps)\n",
    "            lrs.append(lr)\n",
    "        self.lrs=lrs\n",
    "        self.run_epoch(iterator,mode_train=True,lrs=lrs)\n",
    "    \n",
    "    def run_epoch(self,iterator,mode_train,lrs=None):\n",
    "        epoch_loss,epoch_acc,i,k=0,0,0,0\n",
    "        epoch_rmse=0\n",
    "\n",
    "        for Xb,Yb in iterator:\n",
    "            Xb=Xb.to(self.device)\n",
    "            Yb=Yb.to(self.device)\n",
    "            \n",
    "            if lrs is not None:\n",
    "                lr=lrs[k]\n",
    "                for param_group in self.optimizer.param_groups:\n",
    "                    param_group['lr']=lr \n",
    "            \n",
    "            loss,acc,myrmse=self.fit(Xb,Yb,mode_train)\n",
    "            \n",
    "            if lrs is not None:\n",
    "                self.losses.append(loss)\n",
    "\n",
    "            epoch_loss+=loss\n",
    "            epoch_acc+=acc\n",
    "            epoch_rmse+=myrmse\n",
    "            \n",
    "            k=k+1\n",
    "            if k%self.print_every == 0:\n",
    "                if k:\n",
    "                    print (f'Batch:{k} {epoch_loss/(k)}  ')  \n",
    "                    torch.cuda.empty_cache()\n",
    "\n",
    "        epoch_loss=epoch_loss/len(iterator)\n",
    "        epoch_acc=epoch_acc/len(iterator)\n",
    "        epoch_rmse=epoch_rmse/len(iterator)\n",
    "            \n",
    "        return epoch_loss,epoch_acc,epoch_rmse\n",
    "    \n",
    "    def plot_lrs(self, n_roll=1,ylim=None,xlim=None,ignore=0):\n",
    "        import seaborn as sns\n",
    "        ax=sns.lineplot(x=self.lrs[ignore:],y=pd.Series(self.losses[ignore:]).rolling(n_roll).mean())\n",
    "        ax.set_xscale('log')\n",
    "        ax.set_ylabel('Loss')\n",
    "        ax.set_xlabel('Learning Rate')\n",
    "        if ylim is not None:\n",
    "            plt.ylim(ylim)\n",
    "        if xlim is not None:\n",
    "            plt.xlim(xlim)\n",
    "\n",
    "     \n",
    "    def run_epochs(self,dltrain,dlvalid,n_epochs=1):              \n",
    "        for epoch in range(n_epochs):                \n",
    "            loss,acc,rmse=self.run_epoch(dltrain,True)\n",
    "\n",
    "            lossv,accv,rmsev=self.run_epoch(dlvalid,mode_train=False)\n",
    "           \n",
    "            if self.error_type==\"mse\":\n",
    "                loss_mse=loss\n",
    "                loss_rmse=rmse\n",
    "                loss_mae=acc\n",
    "                lossv_mse=lossv\n",
    "                lossv_rmse=rmsev\n",
    "                lossv_mae=accv\n",
    "                \n",
    "            else:\n",
    "                loss_mse=acc\n",
    "                loss_rmse=rmse\n",
    "                loss_mae=loss\n",
    "                lossv_mse=accv\n",
    "                lossv_rmse=rmsev\n",
    "                lossv_mae=lossv\n",
    "            \n",
    "            print (f'Epoch:{epoch} Learning rate {self.lr} Weight Decay {self.wd} Train Loss:{loss} \\\n",
    "                Valid Loss:{lossv} Train RMSE:{loss_rmse} Valid RMSE:{lossv_rmse} Train MSE:{loss_mse} Valid MSE:{lossv_mse} \\\n",
    "                Train MAE:{loss_mae} Valid MAE:{lossv_mae}')\n",
    "\n",
    "              \n",
    "         \n",
    "     \n",
    "            if self.cycle_mult:\n",
    "                if self.n_epoch==self.reset_cycle:\n",
    "                    self.lr=self.start_lr\n",
    "                    #self.wd=self.start_wd\n",
    "                    self.reset_cycle*=self.cycle_mult\n",
    "                    #reset_cycle=self.n_epoch+reset_cycle\n",
    "                    self.n_epoch=0\n",
    "                    self.ratio=self.end_lr/self.start_lr\n",
    "                    self.num_steps=self.reset_cycle\n",
    "                else:\n",
    "                    #self.lr*=(self.lr_decay**self.n_epoch)  \n",
    "                    #if self.n_epoch>1:\n",
    "                    self.wd*=self.wd_mult\n",
    "                    self.lr=self.lr*(self.end_lr/self.start_lr)**(1/self.num_steps)\n",
    "                    self.n_epoch+=1\n",
    "        \n",
    "\n",
    "                \n",
    "            for param_group in self.optimizer.param_groups:\n",
    "                param_group['lr']=self.lr\n",
    "                param_group['weight_decay']=self.wd\n",
    "          \n",
    "     "
   ]
  },
  {
   "cell_type": "code",
   "execution_count": 86,
   "metadata": {},
   "outputs": [],
   "source": [
    "device='cuda:1'"
   ]
  },
  {
   "cell_type": "code",
   "execution_count": 87,
   "metadata": {},
   "outputs": [],
   "source": [
    "cfobj=cf(n_users,n_emb_user,n_emb_item,n_items,min_rating,max_rating,denseCols,pretrain_wts,catCols,emb_szs,dropout_e,hidden,dropouts,error_type=\"mse\")"
   ]
  },
  {
   "cell_type": "code",
   "execution_count": 88,
   "metadata": {},
   "outputs": [],
   "source": [
    "cfobj=cfobj.to(device)"
   ]
  },
  {
   "cell_type": "code",
   "execution_count": 89,
   "metadata": {},
   "outputs": [
    {
     "data": {
      "text/plain": [
       "cf(\n",
       "  (emb_user): Embedding(6041, 50)\n",
       "  (emb_item): Embedding(3707, 50)\n",
       "  (ub): Embedding(6041, 1)\n",
       "  (ib): Embedding(3707, 1)\n",
       "  (embs_cat): ModuleList(\n",
       "    (0): Embedding(302, 50)\n",
       "    (1): Embedding(22, 10)\n",
       "    (2): Embedding(8, 3)\n",
       "    (3): Embedding(3, 1)\n",
       "  )\n",
       "  (emb_dropout): Dropout(p=0.05)\n",
       "  (lin1): Sequential(\n",
       "    (0): Linear(in_features=100, out_features=25, bias=True)\n",
       "    (1): ReLU()\n",
       "    (2): Dropout(p=0.2)\n",
       "  )\n",
       "  (lin_bias): Linear(in_features=3, out_features=1, bias=True)\n",
       "  (lin2): Sequential(\n",
       "    (0): Linear(in_features=350, out_features=1, bias=True)\n",
       "    (1): ReLU()\n",
       "    (2): Dropout(p=0.3)\n",
       "  )\n",
       "  (lin_cat): Sequential(\n",
       "    (0): Linear(in_features=64, out_features=5, bias=True)\n",
       "    (1): ReLU()\n",
       "    (2): Dropout(p=0.2)\n",
       "  )\n",
       "  (lin3): Sequential(\n",
       "    (0): Linear(in_features=32, out_features=10, bias=True)\n",
       "    (1): ReLU()\n",
       "    (2): Dropout(p=0)\n",
       "  )\n",
       "  (lin4): Linear(in_features=10, out_features=1, bias=True)\n",
       "  (sigmoid): Sigmoid()\n",
       "  (criterion): MSELoss()\n",
       ")"
      ]
     },
     "execution_count": 89,
     "metadata": {},
     "output_type": "execute_result"
    }
   ],
   "source": [
    "cfobj"
   ]
  },
  {
   "cell_type": "code",
   "execution_count": 90,
   "metadata": {},
   "outputs": [],
   "source": [
    "wd=1e-5\n",
    "optimizer=torch.optim.Adam(cfobj.parameters(),lr=5e-3,betas=(0.9,0.999), weight_decay=wd)\n",
    "learner=Learner(cfobj,optimizer,None,device,0,14000,0.25,cycle_mult=0)"
   ]
  },
  {
   "cell_type": "code",
   "execution_count": 91,
   "metadata": {},
   "outputs": [
    {
     "data": {
      "text/plain": [
       "(128, 6998)"
      ]
     },
     "execution_count": 91,
     "metadata": {},
     "output_type": "execute_result"
    }
   ],
   "source": [
    "dltrain.batch_size, len(dltrain)"
   ]
  },
  {
   "cell_type": "code",
   "execution_count": 92,
   "metadata": {},
   "outputs": [],
   "source": [
    "learner.lr_find(1e-6,1e-1,dltrain,len(dltrain))"
   ]
  },
  {
   "cell_type": "code",
   "execution_count": 93,
   "metadata": {},
   "outputs": [
    {
     "data": {
      "image/png": "[encoded data removed]",
      "text/plain": [
       "<Figure size 432x288 with 1 Axes>"
      ]
     },
     "metadata": {
      "needs_background": "light"
     },
     "output_type": "display_data"
    }
   ],
   "source": [
    "learner.plot_lrs(100)"
   ]
  },
  {
   "cell_type": "code",
   "execution_count": 94,
   "metadata": {},
   "outputs": [
    {
     "data": {
      "image/png": "[encoded data removed]",
      "text/plain": [
       "<Figure size 432x288 with 1 Axes>"
      ]
     },
     "metadata": {
      "needs_background": "light"
     },
     "output_type": "display_data"
    }
   ],
   "source": [
    "learner.plot_lrs(10)"
   ]
  },
  {
   "cell_type": "code",
   "execution_count": 95,
   "metadata": {},
   "outputs": [
    {
     "data": {
      "image/png": "[encoded data removed]",
      "text/plain": [
       "<Figure size 432x288 with 1 Axes>"
      ]
     },
     "metadata": {
      "needs_background": "light"
     },
     "output_type": "display_data"
    }
   ],
   "source": [
    "learner.plot_lrs(1)"
   ]
  },
  {
   "cell_type": "code",
   "execution_count": 96,
   "metadata": {},
   "outputs": [],
   "source": [
    "del cfobj\n",
    "torch.cuda.empty_cache()"
   ]
  },
  {
   "cell_type": "code",
   "execution_count": 97,
   "metadata": {},
   "outputs": [],
   "source": [
    "pretrain_wts=pickle.load(open(f'{DATAPATH}/wts_embs','rb'))\n",
    "pretrain_wts=None"
   ]
  },
  {
   "cell_type": "code",
   "execution_count": 98,
   "metadata": {},
   "outputs": [],
   "source": [
    "cfobj=cf(n_users,n_emb_user,n_emb_item,n_items,min_rating,max_rating,denseCols,pretrain_wts,catCols,emb_szs,dropout_e,hidden,dropouts,error_type=\"mse\")\n",
    "cfobj=cfobj.to(device)"
   ]
  },
  {
   "cell_type": "code",
   "execution_count": 99,
   "metadata": {},
   "outputs": [],
   "source": [
    "if 1==0:\n",
    "    cfobj.emb_user.weight.requires_grad=False\n",
    "    cfobj.emb_item.weight.requires_grad=False\n",
    "    cfobj.ib.weight.requires_grad=False\n",
    "    cfobj.ub.weight.requires_grad=False"
   ]
  },
  {
   "cell_type": "code",
   "execution_count": 100,
   "metadata": {},
   "outputs": [
    {
     "name": "stdout",
     "output_type": "stream",
     "text": [
      "1e-05\n"
     ]
    }
   ],
   "source": [
    "print (wd)\n",
    "wd=1e-5\n",
    "optimizer=torch.optim.Adam(cfobj.parameters(),lr=1e-3,betas=(0.9,0.999), weight_decay=wd)\n",
    "learner=Learner(cfobj,optimizer,None,device,0,12000,0.25,cycle_mult=2,start_lr=1e-3,end_lr=3e-4,wd_mult=1.05)"
   ]
  },
  {
   "cell_type": "code",
   "execution_count": 101,
   "metadata": {},
   "outputs": [
    {
     "name": "stdout",
     "output_type": "stream",
     "text": [
      "Epoch:0 Learning rate 0.001 Weight Decay 1e-05 Train Loss:0.8747993141080557                 Valid Loss:0.861627052179019 Train RMSE:0.9322658884502163 Valid RMSE:0.9186141465590298 Train MSE:0.8747993141080557 Valid MSE:0.861627052179019                 Train MAE:0.7437068550339355 Valid MAE:0.7336435806430247\n",
      "Epoch:1 Learning rate 0.0005477225575051661 Weight Decay 1.0500000000000001e-05 Train Loss:0.8015517418632919                 Valid Loss:0.8450219325511517 Train RMSE:0.8932442392777322 Valid RMSE:0.9092214547106106 Train MSE:0.8015517418632919 Valid MSE:0.8450219325511517                 Train MAE:0.7083774406199934 Valid MAE:0.7217801647714477\n",
      "Epoch:2 Learning rate 0.0003 Weight Decay 1.1025000000000002e-05 Train Loss:0.780447263067264                 Valid Loss:0.8334789273204827 Train RMSE:0.8814195873791271 Valid RMSE:0.9029399781123644 Train MSE:0.780447263067264 Valid MSE:0.8334789273204827                 Train MAE:0.6973825511369545 Valid MAE:0.7166679771833642\n",
      "Epoch:3 Learning rate 0.001 Weight Decay 1.1025000000000002e-05 Train Loss:0.7881172781809632                 Valid Loss:0.8292323341422156 Train RMSE:0.885710472338327 Valid RMSE:0.9010665404939765 Train MSE:0.7881172781809632 Valid MSE:0.8292323341422156                 Train MAE:0.7010002478714431 Valid MAE:0.7181839605877711\n",
      "Epoch:4 Learning rate 0.0007400828044922853 Weight Decay 1.1576250000000003e-05 Train Loss:0.7673343672441325                 Valid Loss:0.8216212838341002 Train RMSE:0.8739257258525999 Valid RMSE:0.8966558947694009 Train MSE:0.7673343672441325 Valid MSE:0.8216212838341002                 Train MAE:0.6911234665118002 Valid MAE:0.7129404743998842\n",
      "Epoch:5 Learning rate 0.0005477225575051661 Weight Decay 1.2155062500000004e-05 Train Loss:0.7521393339986221                 Valid Loss:0.8153558560582095 Train RMSE:0.8652066231143852 Valid RMSE:0.8933288544291632 Train MSE:0.7521393339986221 Valid MSE:0.8153558560582095                 Train MAE:0.6835154111843922 Valid MAE:0.7106247782488347\n",
      "Epoch:6 Learning rate 0.0004053600464421103 Weight Decay 1.2762815625000004e-05 Train Loss:0.739466821471941                 Valid Loss:0.8163287061810347 Train RMSE:0.8578803997375246 Valid RMSE:0.8936136729465947 Train MSE:0.739466821471941 Valid MSE:0.8163287061810347                 Train MAE:0.6769360357282774 Valid MAE:0.7098337678168074\n",
      "Epoch:7 Learning rate 0.0003 Weight Decay 1.3400956406250006e-05 Train Loss:0.7290631407804236                 Valid Loss:0.8153465224231617 Train RMSE:0.851746344831334 Valid RMSE:0.8931791874011353 Train MSE:0.7290631407804236 Valid MSE:0.8153465224231617                 Train MAE:0.6714341515181711 Valid MAE:0.7092923817465325\n",
      "Epoch:8 Learning rate 0.001 Weight Decay 1.3400956406250006e-05 Train Loss:0.75640560144031                 Valid Loss:0.8252989301774901 Train RMSE:0.8675536027533651 Valid RMSE:0.8988181598546469 Train MSE:0.75640560144031 Valid MSE:0.8252989301774901                 Train MAE:0.6852740018869953 Valid MAE:0.7163223155125557\n",
      "Epoch:9 Learning rate 0.0008602806544914778 Weight Decay 1.4071004226562506e-05 Train Loss:0.7486856119032756                 Valid Loss:0.8172912787705332 Train RMSE:0.863221575590145 Valid RMSE:0.8945716069252797 Train MSE:0.7486856119032756 Valid MSE:0.8172912787705332                 Train MAE:0.6815717277628383 Valid MAE:0.7139492168420677\n",
      "Epoch:10 Learning rate 0.0007400828044922853 Weight Decay 1.4774554437890633e-05 Train Loss:0.7388512056856437                 Valid Loss:0.8188383066012197 Train RMSE:0.8575023626908145 Valid RMSE:0.8952044820884352 Train MSE:0.7388512056856437 Valid MSE:0.8188383066012197                 Train MAE:0.6768962054822949 Valid MAE:0.7117083829210905\n",
      "Epoch:11 Learning rate 0.0006366789194265115 Weight Decay 1.5513282159785166e-05 Train Loss:0.729066884370319                 Valid Loss:0.8137904160463387 Train RMSE:0.8517810478506095 Valid RMSE:0.8927013220553602 Train MSE:0.729066884370319 Valid MSE:0.8137904160463387                 Train MAE:0.6722517469400132 Valid MAE:0.7104699415048742\n",
      "Epoch:12 Learning rate 0.0005477225575051661 Weight Decay 1.6288946267774425e-05 Train Loss:0.7199157833175749                 Valid Loss:0.8113529109093959 Train RMSE:0.8464586509409674 Valid RMSE:0.891312587145804 Train MSE:0.7199157833175749 Valid MSE:0.8113529109093959                 Train MAE:0.6677010696158814 Valid MAE:0.7087171551939032\n",
      "Epoch:13 Learning rate 0.00047119512025029035 Weight Decay 1.7103393581163146e-05 Train Loss:0.7118423951416569                 Valid Loss:0.8102254602725241 Train RMSE:0.8416642259883494 Valid RMSE:0.8907747590911284 Train MSE:0.7118423951416569 Valid MSE:0.8102254602725241                 Train MAE:0.6633652070993422 Valid MAE:0.7085271060758588\n",
      "Epoch:14 Learning rate 0.0004053600464421103 Weight Decay 1.7958563260221305e-05 Train Loss:0.7031222067030201                 Valid Loss:0.8123111958311121 Train RMSE:0.8364111471258144 Valid RMSE:0.8918240183642668 Train MSE:0.7031222067030201 Valid MSE:0.8123111958311121                 Train MAE:0.6591413943860898 Valid MAE:0.7092517934274498\n"
     ]
    }
   ],
   "source": [
    "learner.run_epochs(dltrain,dlvalid,15)"
   ]
  },
  {
   "cell_type": "code",
   "execution_count": 64,
   "metadata": {},
   "outputs": [
    {
     "name": "stdout",
     "output_type": "stream",
     "text": [
      "Epoch:0 Learning rate 0.001 Weight Decay 1e-05 Train Loss:0.8720668816556246                 Valid Loss:0.8640117422749393 Train RMSE:0.930875826034832 Valid RMSE:0.9198419265111349 Train MSE:0.8720668816556246 Valid MSE:0.8640117422749393                 Train MAE:0.7422113538418678 Valid MAE:0.732655287737362\n",
      "Epoch:1 Learning rate 0.00031622776601683794 Weight Decay 1.0500000000000001e-05 Train Loss:0.7972560554495809                 Valid Loss:0.8424691423646093 Train RMSE:0.8908173930825776 Valid RMSE:0.9079395114857081 Train MSE:0.7972560554495809 Valid MSE:0.8424691423646093                 Train MAE:0.7067748393866634 Valid MAE:0.7228057977619194\n",
      "Epoch:2 Learning rate 0.0001 Weight Decay 1.1025000000000002e-05 Train Loss:0.7793065851017147                 Valid Loss:0.8382512889483276 Train RMSE:0.8807130008010506 Valid RMSE:0.9055638340262584 Train MSE:0.7793065851017147 Valid MSE:0.8382512889483276                 Train MAE:0.6975390475182643 Valid MAE:0.7207863756536416\n",
      "Epoch:3 Learning rate 0.001 Weight Decay 1.1025000000000002e-05 Train Loss:0.7993172468645773                 Valid Loss:0.8411349841693332 Train RMSE:0.8920005877909878 Valid RMSE:0.9074629311492475 Train MSE:0.7993172468645773 Valid MSE:0.8411349841693332                 Train MAE:0.7075385382837076 Valid MAE:0.7224717784030055\n",
      "Epoch:4 Learning rate 0.0005623413251903491 Weight Decay 1.1576250000000003e-05 Train Loss:0.7728197770600457                 Valid Loss:0.8246693573208159 Train RMSE:0.8770156904446222 Valid RMSE:0.8983483428675049 Train MSE:0.7728197770600457 Valid MSE:0.8246693573208159                 Train MAE:0.6947993929980993 Valid MAE:0.7170661413903043\n",
      "Epoch:5 Learning rate 0.00031622776601683794 Weight Decay 1.2155062500000004e-05 Train Loss:0.7529144351245267                 Valid Loss:0.8203758822441685 Train RMSE:0.8656832803472236 Valid RMSE:0.8958543507246398 Train MSE:0.7529144351245267 Valid MSE:0.8203758822441685                 Train MAE:0.6849107746270153 Valid MAE:0.7140434490131485\n",
      "Epoch:6 Learning rate 0.00017782794100389227 Weight Decay 1.2762815625000004e-05 Train Loss:0.7399803113983372                 Valid Loss:0.8182436787731936 Train RMSE:0.8580883205751653 Valid RMSE:0.8945175516787847 Train MSE:0.7399803113983372 Valid MSE:0.8182436787731936                 Train MAE:0.6781767890534424 Valid MAE:0.7117969438962575\n",
      "Epoch:7 Learning rate 9.999999999999999e-05 Weight Decay 1.3400956406250006e-05 Train Loss:0.7308974662408654                 Valid Loss:0.8181950886217442 Train RMSE:0.8528837914475683 Valid RMSE:0.8944957030111478 Train MSE:0.7308974662408654 Valid MSE:0.8181950886217442                 Train MAE:0.6734063397495703 Valid MAE:0.7114651800661075\n",
      "Epoch:8 Learning rate 0.001 Weight Decay 1.3400956406250006e-05 Train Loss:0.76776838915438                 Valid Loss:0.8289596674054168 Train RMSE:0.8741847055863947 Valid RMSE:0.9009342413348584 Train MSE:0.76776838915438 Valid MSE:0.8289596674054168                 Train MAE:0.6922750225933186 Valid MAE:0.7188803364261711\n",
      "Epoch:9 Learning rate 0.0007498942093324559 Weight Decay 1.4071004226562506e-05 Train Loss:0.7547889031506021                 Valid Loss:0.8218183288740557 Train RMSE:0.8666860275282593 Valid RMSE:0.8968846801087577 Train MSE:0.7547889031506021 Valid MSE:0.8218183288740557                 Train MAE:0.6859881042088397 Valid MAE:0.7150359227432616\n",
      "Epoch:10 Learning rate 0.0005623413251903491 Weight Decay 1.4774554437890633e-05 Train Loss:0.7399784250833812                 Valid Loss:0.8160928351715699 Train RMSE:0.8581599070530461 Valid RMSE:0.8936804818006137 Train MSE:0.7399784250833812 Valid MSE:0.8160928351715699                 Train MAE:0.6782768927290972 Valid MAE:0.7117439020001027\n",
      "Epoch:11 Learning rate 0.0004216965034285823 Weight Decay 1.5513282159785166e-05 Train Loss:0.7268067415687621                 Valid Loss:0.8156615272437928 Train RMSE:0.8504713663401611 Valid RMSE:0.893395935691693 Train MSE:0.7268067415687621 Valid MSE:0.8156615272437928                 Train MAE:0.6714545270993935 Valid MAE:0.7116820862564638\n",
      "Epoch:12 Learning rate 0.000316227766016838 Weight Decay 1.6288946267774425e-05 Train Loss:0.7153129930597062                 Valid Loss:0.8155673072927585 Train RMSE:0.8436790125791669 Valid RMSE:0.8933449509620119 Train MSE:0.7153129930597062 Valid MSE:0.8155673072927585                 Train MAE:0.6654635995890489 Valid MAE:0.7112801361332033\n",
      "Epoch:13 Learning rate 0.0002371373705661656 Weight Decay 1.7103393581163146e-05 Train Loss:0.7057952241416862                 Valid Loss:0.8152103545178399 Train RMSE:0.8380281909925462 Valid RMSE:0.893131882140139 Train MSE:0.7057952241416862 Valid MSE:0.8152103545178399                 Train MAE:0.6606219922876181 Valid MAE:0.711211036147511\n",
      "Epoch:14 Learning rate 0.00017782794100389235 Weight Decay 1.7958563260221305e-05 Train Loss:0.6973283364112529                 Valid Loss:0.8144472606543958 Train RMSE:0.833019648615512 Valid RMSE:0.8927751265629228 Train MSE:0.6973283364112529 Valid MSE:0.8144472606543958                 Train MAE:0.6562658989555531 Valid MAE:0.7108119718520702\n"
     ]
    }
   ],
   "source": [
    "learner.run_epochs(dltrain,dlvalid,15)"
   ]
  },
  {
   "cell_type": "code",
   "execution_count": 65,
   "metadata": {},
   "outputs": [],
   "source": [
    "if 1==0:\n",
    "    cfobj.emb_user.weight.requires_grad=True\n",
    "    cfobj.emb_item.weight.requires_grad=True\n",
    "    cfobj.ib.weight.requires_grad=True\n",
    "    cfobj.ub.weight.requires_grad=True"
   ]
  },
  {
   "cell_type": "code",
   "execution_count": 66,
   "metadata": {},
   "outputs": [],
   "source": [
    "if 1==0:\n",
    "    #optimizer=torch.optim.Adam(cfobj.parameters(),lr=1e-3,betas=(0.9,0.999), weight_decay=wd)\n",
    "    #learner=Learner(cfobj,optimizer,None,device,0,12000,0.25,cycle_mult=2,start_lr=1e-3,end_lr=1e-4,wd_mult=1.15)\n",
    "    learner.wd=wd\n",
    "    learner.lr=1e-5\n",
    "    learner.cycle_mult=0\n",
    "    learner.run_epochs(dltrain,dlvalid,7)"
   ]
  },
  {
   "cell_type": "code",
   "execution_count": 67,
   "metadata": {},
   "outputs": [],
   "source": [
    "learner.generate_scores=True"
   ]
  },
  {
   "cell_type": "code",
   "execution_count": 68,
   "metadata": {},
   "outputs": [
    {
     "data": {
      "text/plain": [
       "(0.8144472606543958, 0.7108119718520702, 0.8927751265629228)"
      ]
     },
     "execution_count": 68,
     "metadata": {},
     "output_type": "execute_result"
    }
   ],
   "source": [
    "learner.run_epoch(dlvalid,False)"
   ]
  },
  {
   "cell_type": "code",
   "execution_count": 69,
   "metadata": {},
   "outputs": [],
   "source": [
    "dfvalid['pred_dnnrec']=np.concatenate(learner.scores)"
   ]
  },
  {
   "cell_type": "code",
   "execution_count": 70,
   "metadata": {},
   "outputs": [
    {
     "data": {
      "text/plain": [
       "0.902459413252754"
      ]
     },
     "execution_count": 70,
     "metadata": {},
     "output_type": "execute_result"
    }
   ],
   "source": [
    "np.sqrt(metrics.mean_squared_error(dfvalid['rating'],dfvalid['pred_dnnrec']))"
   ]
  },
  {
   "cell_type": "code",
   "execution_count": 71,
   "metadata": {},
   "outputs": [],
   "source": [
    "def score_by_group (dfvalid,predVar,groupVar='cold_start_group',method='global_avg'):\n",
    "    scores=[]\n",
    "    mae_scores=[]\n",
    "    rmse_scores=[]\n",
    "    r2_scores=[]\n",
    "    groups=dfvalid[groupVar].value_counts().index.tolist()\n",
    "    for group in groups:\n",
    "        df=dfvalid.loc[dfvalid[groupVar]==group]\n",
    "        actual=df['rating']\n",
    "        score=metrics.mean_squared_error(df['rating'],df[predVar])\n",
    "        rmse_score=np.sqrt(metrics.mean_squared_error(df['rating'],df[predVar]))\n",
    "        mae_score=metrics.mean_absolute_error(df['rating'],df[predVar])\n",
    "        r2_score=metrics.r2_score(df['rating'],df[predVar])\n",
    "        scores.append(score)\n",
    "        mae_scores.append(mae_score)\n",
    "        rmse_scores.append(rmse_score)\n",
    "        r2_scores.append(r2_score)\n",
    "    return pd.DataFrame({'method':method, 'mse':scores, 'rmse':rmse_scores, 'mae':mae_scores, 'r2_score':r2_scores, 'Cold Start Group':groups})"
   ]
  },
  {
   "cell_type": "code",
   "execution_count": 72,
   "metadata": {},
   "outputs": [
    {
     "data": {
      "text/html": [
       "<div>\n",
       "<style scoped>\n",
       "    .dataframe tbody tr th:only-of-type {\n",
       "        vertical-align: middle;\n",
       "    }\n",
       "\n",
       "    .dataframe tbody tr th {\n",
       "        vertical-align: top;\n",
       "    }\n",
       "\n",
       "    .dataframe thead th {\n",
       "        text-align: right;\n",
       "    }\n",
       "</style>\n",
       "<table border=\"1\" class=\"dataframe\">\n",
       "  <thead>\n",
       "    <tr style=\"text-align: right;\">\n",
       "      <th></th>\n",
       "      <th>method</th>\n",
       "      <th>mse</th>\n",
       "      <th>rmse</th>\n",
       "      <th>mae</th>\n",
       "      <th>r2_score</th>\n",
       "      <th>Cold Start Group</th>\n",
       "    </tr>\n",
       "  </thead>\n",
       "  <tbody>\n",
       "    <tr>\n",
       "      <th>0</th>\n",
       "      <td>dnnrec</td>\n",
       "      <td>0.793074</td>\n",
       "      <td>0.890547</td>\n",
       "      <td>0.699336</td>\n",
       "      <td>0.396230</td>\n",
       "      <td>No-cold-start</td>\n",
       "    </tr>\n",
       "    <tr>\n",
       "      <th>1</th>\n",
       "      <td>dnnrec</td>\n",
       "      <td>1.034338</td>\n",
       "      <td>1.017024</td>\n",
       "      <td>0.829069</td>\n",
       "      <td>0.134909</td>\n",
       "      <td>User-Cold-Start</td>\n",
       "    </tr>\n",
       "    <tr>\n",
       "      <th>2</th>\n",
       "      <td>dnnrec</td>\n",
       "      <td>0.777285</td>\n",
       "      <td>0.881637</td>\n",
       "      <td>0.717917</td>\n",
       "      <td>0.067258</td>\n",
       "      <td>Item-Cold_start</td>\n",
       "    </tr>\n",
       "    <tr>\n",
       "      <th>3</th>\n",
       "      <td>dnnrec</td>\n",
       "      <td>2.028043</td>\n",
       "      <td>1.424094</td>\n",
       "      <td>1.078882</td>\n",
       "      <td>-1.028043</td>\n",
       "      <td>User-Item-cold-start</td>\n",
       "    </tr>\n",
       "    <tr>\n",
       "      <th>0</th>\n",
       "      <td>dnnrec</td>\n",
       "      <td>0.793074</td>\n",
       "      <td>0.890547</td>\n",
       "      <td>0.699336</td>\n",
       "      <td>0.396230</td>\n",
       "      <td>0</td>\n",
       "    </tr>\n",
       "    <tr>\n",
       "      <th>1</th>\n",
       "      <td>dnnrec</td>\n",
       "      <td>1.033886</td>\n",
       "      <td>1.016802</td>\n",
       "      <td>0.828835</td>\n",
       "      <td>0.135370</td>\n",
       "      <td>1</td>\n",
       "    </tr>\n",
       "    <tr>\n",
       "      <th>0</th>\n",
       "      <td>dnnrec</td>\n",
       "      <td>0.814433</td>\n",
       "      <td>0.902459</td>\n",
       "      <td>0.710822</td>\n",
       "      <td>0.376883</td>\n",
       "      <td>0</td>\n",
       "    </tr>\n",
       "  </tbody>\n",
       "</table>\n",
       "</div>"
      ],
      "text/plain": [
       "   method       mse      rmse       mae  r2_score      Cold Start Group\n",
       "0  dnnrec  0.793074  0.890547  0.699336  0.396230         No-cold-start\n",
       "1  dnnrec  1.034338  1.017024  0.829069  0.134909       User-Cold-Start\n",
       "2  dnnrec  0.777285  0.881637  0.717917  0.067258       Item-Cold_start\n",
       "3  dnnrec  2.028043  1.424094  1.078882 -1.028043  User-Item-cold-start\n",
       "0  dnnrec  0.793074  0.890547  0.699336  0.396230                     0\n",
       "1  dnnrec  1.033886  1.016802  0.828835  0.135370                     1\n",
       "0  dnnrec  0.814433  0.902459  0.710822  0.376883                     0"
      ]
     },
     "execution_count": 72,
     "metadata": {},
     "output_type": "execute_result"
    }
   ],
   "source": [
    "result_dnnrec=pd.concat([score_by_group(dfvalid,'pred_dnnrec','cold_start_group','dnnrec'),score_by_group(dfvalid,'pred_dnnrec','cold_start_bucket','dnnrec'),\\\n",
    "score_by_group(dfvalid,'pred_dnnrec','flag_train','dnnrec')],axis=0)\n",
    "result_dnnrec"
   ]
  },
  {
   "cell_type": "code",
   "execution_count": 73,
   "metadata": {},
   "outputs": [
    {
     "name": "stdout",
     "output_type": "stream",
     "text": [
      "cold_start_item  False  True \n",
      "cold_start_user              \n",
      "False            95205     24\n",
      "True              9240      2\n",
      "cold_start_item     False     True \n",
      "cold_start_user                    \n",
      "False            0.911306  0.000230\n",
      "True             0.088446  0.000019\n"
     ]
    }
   ],
   "source": [
    "print (pd.crosstab(dfvalid['cold_start_user'],dfvalid['cold_start_item']))\n",
    "print (pd.crosstab(dfvalid['cold_start_user'],dfvalid['cold_start_item'])/dfvalid.shape[0])   "
   ]
  },
  {
   "cell_type": "code",
   "execution_count": 57,
   "metadata": {},
   "outputs": [
    {
     "data": {
      "text/html": [
       "<div>\n",
       "<style scoped>\n",
       "    .dataframe tbody tr th:only-of-type {\n",
       "        vertical-align: middle;\n",
       "    }\n",
       "\n",
       "    .dataframe tbody tr th {\n",
       "        vertical-align: top;\n",
       "    }\n",
       "\n",
       "    .dataframe thead th {\n",
       "        text-align: right;\n",
       "    }\n",
       "</style>\n",
       "<table border=\"1\" class=\"dataframe\">\n",
       "  <thead>\n",
       "    <tr style=\"text-align: right;\">\n",
       "      <th></th>\n",
       "      <th>method</th>\n",
       "      <th>mse</th>\n",
       "      <th>rmse</th>\n",
       "      <th>mae</th>\n",
       "      <th>r2_score</th>\n",
       "      <th>Cold Start Group</th>\n",
       "    </tr>\n",
       "  </thead>\n",
       "  <tbody>\n",
       "    <tr>\n",
       "      <th>0</th>\n",
       "      <td>dnnrec</td>\n",
       "      <td>0.799263</td>\n",
       "      <td>0.894015</td>\n",
       "      <td>0.701140</td>\n",
       "      <td>0.391519</td>\n",
       "      <td>No-cold-start</td>\n",
       "    </tr>\n",
       "    <tr>\n",
       "      <th>1</th>\n",
       "      <td>dnnrec</td>\n",
       "      <td>0.973265</td>\n",
       "      <td>0.986542</td>\n",
       "      <td>0.797614</td>\n",
       "      <td>0.185988</td>\n",
       "      <td>User-Cold-Start</td>\n",
       "    </tr>\n",
       "    <tr>\n",
       "      <th>2</th>\n",
       "      <td>dnnrec</td>\n",
       "      <td>0.758376</td>\n",
       "      <td>0.870848</td>\n",
       "      <td>0.715059</td>\n",
       "      <td>0.089948</td>\n",
       "      <td>Item-Cold_start</td>\n",
       "    </tr>\n",
       "    <tr>\n",
       "      <th>3</th>\n",
       "      <td>dnnrec</td>\n",
       "      <td>1.749977</td>\n",
       "      <td>1.322867</td>\n",
       "      <td>1.031915</td>\n",
       "      <td>-0.749977</td>\n",
       "      <td>User-Item-cold-start</td>\n",
       "    </tr>\n",
       "    <tr>\n",
       "      <th>0</th>\n",
       "      <td>dnnrec</td>\n",
       "      <td>0.799263</td>\n",
       "      <td>0.894015</td>\n",
       "      <td>0.701140</td>\n",
       "      <td>0.391519</td>\n",
       "      <td>0</td>\n",
       "    </tr>\n",
       "    <tr>\n",
       "      <th>1</th>\n",
       "      <td>dnnrec</td>\n",
       "      <td>0.972876</td>\n",
       "      <td>0.986345</td>\n",
       "      <td>0.797451</td>\n",
       "      <td>0.186393</td>\n",
       "      <td>1</td>\n",
       "    </tr>\n",
       "    <tr>\n",
       "      <th>0</th>\n",
       "      <td>dnnrec</td>\n",
       "      <td>0.814661</td>\n",
       "      <td>0.902586</td>\n",
       "      <td>0.709682</td>\n",
       "      <td>0.376708</td>\n",
       "      <td>0</td>\n",
       "    </tr>\n",
       "  </tbody>\n",
       "</table>\n",
       "</div>"
      ],
      "text/plain": [
       "   method       mse      rmse       mae  r2_score      Cold Start Group\n",
       "0  dnnrec  0.799263  0.894015  0.701140  0.391519         No-cold-start\n",
       "1  dnnrec  0.973265  0.986542  0.797614  0.185988       User-Cold-Start\n",
       "2  dnnrec  0.758376  0.870848  0.715059  0.089948       Item-Cold_start\n",
       "3  dnnrec  1.749977  1.322867  1.031915 -0.749977  User-Item-cold-start\n",
       "0  dnnrec  0.799263  0.894015  0.701140  0.391519                     0\n",
       "1  dnnrec  0.972876  0.986345  0.797451  0.186393                     1\n",
       "0  dnnrec  0.814661  0.902586  0.709682  0.376708                     0"
      ]
     },
     "execution_count": 57,
     "metadata": {},
     "output_type": "execute_result"
    }
   ],
   "source": [
    "result_dnnrec=pd.concat([score_by_group(dfvalid,'pred_dnnrec','cold_start_group','dnnrec'),score_by_group(dfvalid,'pred_dnnrec','cold_start_bucket','dnnrec'),\\\n",
    "score_by_group(dfvalid,'pred_dnnrec','flag_train','dnnrec')],axis=0)\n",
    "result_dnnrec"
   ]
  },
  {
   "cell_type": "code",
   "execution_count": 68,
   "metadata": {},
   "outputs": [
    {
     "name": "stderr",
     "output_type": "stream",
     "text": [
      "/home/kirana/anaconda3/lib/python3.7/site-packages/torch/serialization.py:256: UserWarning: Couldn't retrieve source code for container of type cf. It won't be checked for correctness upon loading.\n",
      "  \"type \" + obj.__name__ + \". It won't be checked \"\n"
     ]
    }
   ],
   "source": [
    "torch.save(cfobj,f=f'{DATAPATH}/inter/cfobj_tl_0.8')\n",
    "torch.save(learner,f=f'{DATAPATH}/inter/cfobj_tl_learner_0.8')\n",
    "torch.save(optimizer,f=f'{DATAPATH}/inter/cfobj_tl_optimizer_0.8')\n",
    "torch.save(cfobj.state_dict(),f'{DATAPATH}/inter/cfjobj_tl_state_dict_0.8')\n",
    "torch.save(optimizer.state_dict(),f'{DATAPATH}/inter/optimizer_tl_state_dict_0.8')"
   ]
  },
  {
   "cell_type": "code",
   "execution_count": 69,
   "metadata": {},
   "outputs": [
    {
     "data": {
      "text/plain": [
       "(66, 6)"
      ]
     },
     "execution_count": 69,
     "metadata": {},
     "output_type": "execute_result"
    }
   ],
   "source": [
    "results_concat.shape"
   ]
  },
  {
   "cell_type": "code",
   "execution_count": 70,
   "metadata": {},
   "outputs": [],
   "source": [
    "results_concat=pd.concat([results_concat,result_dnnrec],axis=0)"
   ]
  },
  {
   "cell_type": "code",
   "execution_count": 71,
   "metadata": {},
   "outputs": [],
   "source": [
    "pickle.dump([df,dftrain,dfvalid,idx_to_user,idx_to_item,item_to_idx,user_to_idx,results_concat],open(f'{DATAPATH}/df_side_cold_runother_dnnrec.pkl','wb'))"
   ]
  },
  {
   "cell_type": "code",
   "execution_count": null,
   "metadata": {},
   "outputs": [],
   "source": []
  }
 ],
 "metadata": {
  "kernelspec": {
   "display_name": "Python 3",
   "language": "python",
   "name": "python3"
  },
  "language_info": {
   "codemirror_mode": {
    "name": "ipython",
    "version": 3
   },
   "file_extension": ".py",
   "mimetype": "text/x-python",
   "name": "python",
   "nbconvert_exporter": "python",
   "pygments_lexer": "ipython3",
   "version": "3.7.3"
  }
 },
 "nbformat": 4,
 "nbformat_minor": 2
}
