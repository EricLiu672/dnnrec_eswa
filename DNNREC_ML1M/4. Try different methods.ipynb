{
 "cells": [
  {
   "cell_type": "code",
   "execution_count": 5,
   "metadata": {},
   "outputs": [],
   "source": [
    "import pickle"
   ]
  },
  {
   "cell_type": "code",
   "execution_count": 6,
   "metadata": {},
   "outputs": [],
   "source": [
    "PATH='/home/kirana/Documents/phd/experiment1_new/DNNREC_ML1M'\n",
    "DATAPATH='/home/kirana/Documents/final_dissertation_final/experiments/datasets/ml-1m'"
   ]
  },
  {
   "cell_type": "code",
   "execution_count": 7,
   "metadata": {},
   "outputs": [],
   "source": [
    "MYMEDIALITEPATH='/home/kirana/MyMediaLite/bin'"
   ]
  },
  {
   "cell_type": "code",
   "execution_count": 8,
   "metadata": {},
   "outputs": [],
   "source": [
    "import pandas as pd\n",
    "import numpy as np\n",
    "import matplotlib.pyplot as plt\n",
    "import scipy as sp\n",
    "import sklearn as sklearn\n",
    "import datetime as dt \n",
    "import seaborn as sns\n",
    "import torch as torch"
   ]
  },
  {
   "cell_type": "code",
   "execution_count": 9,
   "metadata": {},
   "outputs": [],
   "source": [
    "from sklearn import metrics"
   ]
  },
  {
   "cell_type": "code",
   "execution_count": 10,
   "metadata": {},
   "outputs": [],
   "source": [
    "[dftrain,dfvalid]=pickle.load(open(f'{DATAPATH}/df_side_cold.pkl','rb'))"
   ]
  },
  {
   "cell_type": "code",
   "execution_count": 11,
   "metadata": {},
   "outputs": [
    {
     "data": {
      "text/plain": [
       "count    895738.000000\n",
       "mean          3.597991\n",
       "std           1.112852\n",
       "min           1.000000\n",
       "25%           3.000000\n",
       "50%           4.000000\n",
       "75%           4.000000\n",
       "max           5.000000\n",
       "Name: rating, dtype: float64"
      ]
     },
     "execution_count": 11,
     "metadata": {},
     "output_type": "execute_result"
    }
   ],
   "source": [
    "dftrain['rating'].describe()"
   ]
  },
  {
   "cell_type": "code",
   "execution_count": 12,
   "metadata": {},
   "outputs": [],
   "source": [
    "dfinp_train=dftrain[['userId','itemId','rating']]\n",
    "dfinp_test=dfvalid[['userId','itemId','rating']]\n",
    "dfinp_train.to_csv(f'{PATH}/inp_train_ml1m.csv',index=False,header=False,sep=\",\")\n",
    "dfinp_test.to_csv(f'{PATH}/inp_test_ml1m.csv',index=False,header=False,sep=\",\")"
   ]
  },
  {
   "cell_type": "code",
   "execution_count": 13,
   "metadata": {},
   "outputs": [],
   "source": [
    "TRAINFILEPATH=f'{PATH}/inp_train_ml1m.csv'\n",
    "TESTFILEPATH=f'{PATH}/inp_test_ml1m.csv'"
   ]
  },
  {
   "cell_type": "code",
   "execution_count": 14,
   "metadata": {},
   "outputs": [
    {
     "data": {
      "text/html": [
       "<div>\n",
       "<style scoped>\n",
       "    .dataframe tbody tr th:only-of-type {\n",
       "        vertical-align: middle;\n",
       "    }\n",
       "\n",
       "    .dataframe tbody tr th {\n",
       "        vertical-align: top;\n",
       "    }\n",
       "\n",
       "    .dataframe thead th {\n",
       "        text-align: right;\n",
       "    }\n",
       "</style>\n",
       "<table border=\"1\" class=\"dataframe\">\n",
       "  <thead>\n",
       "    <tr style=\"text-align: right;\">\n",
       "      <th></th>\n",
       "      <th>userId</th>\n",
       "      <th>itemId</th>\n",
       "      <th>rating</th>\n",
       "    </tr>\n",
       "  </thead>\n",
       "  <tbody>\n",
       "    <tr>\n",
       "      <th>0</th>\n",
       "      <td>670</td>\n",
       "      <td>312</td>\n",
       "      <td>3</td>\n",
       "    </tr>\n",
       "    <tr>\n",
       "      <th>1</th>\n",
       "      <td>670</td>\n",
       "      <td>2091</td>\n",
       "      <td>2</td>\n",
       "    </tr>\n",
       "    <tr>\n",
       "      <th>2</th>\n",
       "      <td>670</td>\n",
       "      <td>1642</td>\n",
       "      <td>2</td>\n",
       "    </tr>\n",
       "    <tr>\n",
       "      <th>3</th>\n",
       "      <td>670</td>\n",
       "      <td>2628</td>\n",
       "      <td>1</td>\n",
       "    </tr>\n",
       "    <tr>\n",
       "      <th>4</th>\n",
       "      <td>670</td>\n",
       "      <td>473</td>\n",
       "      <td>1</td>\n",
       "    </tr>\n",
       "  </tbody>\n",
       "</table>\n",
       "</div>"
      ],
      "text/plain": [
       "   userId  itemId  rating\n",
       "0     670     312       3\n",
       "1     670    2091       2\n",
       "2     670    1642       2\n",
       "3     670    2628       1\n",
       "4     670     473       1"
      ]
     },
     "execution_count": 14,
     "metadata": {},
     "output_type": "execute_result"
    }
   ],
   "source": [
    "dfinp_train.head()"
   ]
  },
  {
   "cell_type": "markdown",
   "metadata": {},
   "source": [
    "### Global Average"
   ]
  },
  {
   "cell_type": "code",
   "execution_count": 15,
   "metadata": {},
   "outputs": [],
   "source": [
    "cmd=f'{MYMEDIALITEPATH}/rating_prediction --training-file={TRAINFILEPATH} --recommender=GlobalAverage \\\n",
    "--test-file={TESTFILEPATH} --prediction-file {DATAPATH}/prediction_globalavg.txt'"
   ]
  },
  {
   "cell_type": "code",
   "execution_count": 16,
   "metadata": {},
   "outputs": [
    {
     "name": "stdout",
     "output_type": "stream",
     "text": [
      "\u001b[?1h\u001b=\u001b[6n\u001b[H\u001b[2Jloading_time 1.1\n",
      "memory 16\n",
      "ratings range: [1, 5]\n",
      "training data: 5973 users, 3685 items, 895738 ratings, sparsity 95.93041\n",
      "test data:     5432 users, 3448 items, 104471 ratings, sparsity 99.44221\n",
      "GlobalAverage  training_time 00:00:00.0062130 RMSE 1.15402 MAE 0.9539394 CBD 0.2918496 new users: RMSE 1.0944 MAE 0.91741 CBD 0.27826 new items: RMSE 1.09026 MAE 0.9683 CBD 0.31621  new users and items: RMSE 1.07778 MAE 1 CBD 0.25439 testing_time 00:00:00.0428420\n",
      "prediction_time 00:00:00.1001310\n",
      "\n",
      "memory 16\n",
      "\u001b[?1l\u001b>\u001b[m"
     ]
    }
   ],
   "source": [
    "!command {cmd}"
   ]
  },
  {
   "cell_type": "code",
   "execution_count": 17,
   "metadata": {},
   "outputs": [],
   "source": [
    "predictions_globalavg=pd.read_csv (f'{DATAPATH}/prediction_globalavg.txt',sep='\\t',header=None).iloc[:,2]"
   ]
  },
  {
   "cell_type": "code",
   "execution_count": 18,
   "metadata": {},
   "outputs": [],
   "source": [
    "dfvalid['pred_globalavg']=predictions_globalavg"
   ]
  },
  {
   "cell_type": "code",
   "execution_count": 19,
   "metadata": {},
   "outputs": [],
   "source": [
    "def score_by_group (dfvalid,predVar,groupVar='cold_start_group',method='global_avg'):\n",
    "    scores=[]\n",
    "    mae_scores=[]\n",
    "    r2_scores=[]\n",
    "    groups=dfvalid[groupVar].value_counts().index.tolist()\n",
    "    for group in groups:\n",
    "        df=dfvalid.loc[dfvalid[groupVar]==group]\n",
    "        actual=df['rating']\n",
    "        score=metrics.mean_squared_error(df['rating'],df[predVar])\n",
    "        mae_score=metrics.mean_absolute_error(df['rating'],df[predVar])\n",
    "        r2_score=metrics.r2_score(df['rating'],df[predVar])\n",
    "        scores.append(score)\n",
    "        mae_scores.append(mae_score)\n",
    "        r2_scores.append(r2_score)\n",
    "    return pd.DataFrame({'method':method, 'mse':scores, 'rmse':np.sqrt(scores), 'mae':mae_scores, 'r2_score':r2_scores, 'Cold Start Group':groups})"
   ]
  },
  {
   "cell_type": "code",
   "execution_count": 20,
   "metadata": {},
   "outputs": [],
   "source": [
    "result_globalavg=pd.concat([score_by_group(dfvalid,'pred_globalavg'),score_by_group(dfvalid,'pred_globalavg','cold_start_bucket'),\\\n",
    "score_by_group(dfvalid,'pred_globalavg','flag_train')],axis=0)"
   ]
  },
  {
   "cell_type": "code",
   "execution_count": 21,
   "metadata": {},
   "outputs": [
    {
     "data": {
      "text/html": [
       "<div>\n",
       "<style scoped>\n",
       "    .dataframe tbody tr th:only-of-type {\n",
       "        vertical-align: middle;\n",
       "    }\n",
       "\n",
       "    .dataframe tbody tr th {\n",
       "        vertical-align: top;\n",
       "    }\n",
       "\n",
       "    .dataframe thead th {\n",
       "        text-align: right;\n",
       "    }\n",
       "</style>\n",
       "<table border=\"1\" class=\"dataframe\">\n",
       "  <thead>\n",
       "    <tr style=\"text-align: right;\">\n",
       "      <th></th>\n",
       "      <th>method</th>\n",
       "      <th>mse</th>\n",
       "      <th>rmse</th>\n",
       "      <th>mae</th>\n",
       "      <th>r2_score</th>\n",
       "      <th>Cold Start Group</th>\n",
       "    </tr>\n",
       "  </thead>\n",
       "  <tbody>\n",
       "    <tr>\n",
       "      <th>0</th>\n",
       "      <td>global_avg</td>\n",
       "      <td>1.344811</td>\n",
       "      <td>1.159660</td>\n",
       "      <td>0.957483</td>\n",
       "      <td>-0.023810</td>\n",
       "      <td>No-cold-start</td>\n",
       "    </tr>\n",
       "    <tr>\n",
       "      <th>1</th>\n",
       "      <td>global_avg</td>\n",
       "      <td>1.197711</td>\n",
       "      <td>1.094400</td>\n",
       "      <td>0.917391</td>\n",
       "      <td>-0.001733</td>\n",
       "      <td>User-Cold-Start</td>\n",
       "    </tr>\n",
       "    <tr>\n",
       "      <th>2</th>\n",
       "      <td>global_avg</td>\n",
       "      <td>1.190927</td>\n",
       "      <td>1.091296</td>\n",
       "      <td>0.965662</td>\n",
       "      <td>-0.429112</td>\n",
       "      <td>Item-Cold_start</td>\n",
       "    </tr>\n",
       "    <tr>\n",
       "      <th>3</th>\n",
       "      <td>global_avg</td>\n",
       "      <td>1.161611</td>\n",
       "      <td>1.077781</td>\n",
       "      <td>1.000000</td>\n",
       "      <td>-0.161611</td>\n",
       "      <td>User-Item-cold-start</td>\n",
       "    </tr>\n",
       "    <tr>\n",
       "      <th>0</th>\n",
       "      <td>global_avg</td>\n",
       "      <td>1.344811</td>\n",
       "      <td>1.159660</td>\n",
       "      <td>0.957483</td>\n",
       "      <td>-0.023810</td>\n",
       "      <td>0</td>\n",
       "    </tr>\n",
       "    <tr>\n",
       "      <th>1</th>\n",
       "      <td>global_avg</td>\n",
       "      <td>1.197686</td>\n",
       "      <td>1.094388</td>\n",
       "      <td>0.917534</td>\n",
       "      <td>-0.001614</td>\n",
       "      <td>1</td>\n",
       "    </tr>\n",
       "    <tr>\n",
       "      <th>0</th>\n",
       "      <td>global_avg</td>\n",
       "      <td>1.331762</td>\n",
       "      <td>1.154020</td>\n",
       "      <td>0.953939</td>\n",
       "      <td>-0.018923</td>\n",
       "      <td>0</td>\n",
       "    </tr>\n",
       "  </tbody>\n",
       "</table>\n",
       "</div>"
      ],
      "text/plain": [
       "       method       mse      rmse       mae  r2_score      Cold Start Group\n",
       "0  global_avg  1.344811  1.159660  0.957483 -0.023810         No-cold-start\n",
       "1  global_avg  1.197711  1.094400  0.917391 -0.001733       User-Cold-Start\n",
       "2  global_avg  1.190927  1.091296  0.965662 -0.429112       Item-Cold_start\n",
       "3  global_avg  1.161611  1.077781  1.000000 -0.161611  User-Item-cold-start\n",
       "0  global_avg  1.344811  1.159660  0.957483 -0.023810                     0\n",
       "1  global_avg  1.197686  1.094388  0.917534 -0.001614                     1\n",
       "0  global_avg  1.331762  1.154020  0.953939 -0.018923                     0"
      ]
     },
     "execution_count": 21,
     "metadata": {},
     "output_type": "execute_result"
    }
   ],
   "source": [
    "result_globalavg"
   ]
  },
  {
   "cell_type": "code",
   "execution_count": 22,
   "metadata": {},
   "outputs": [
    {
     "data": {
      "text/plain": [
       "0    104471\n",
       "Name: flag_train, dtype: int64"
      ]
     },
     "execution_count": 22,
     "metadata": {},
     "output_type": "execute_result"
    }
   ],
   "source": [
    "dfvalid['flag_train'].value_counts()"
   ]
  },
  {
   "cell_type": "markdown",
   "metadata": {},
   "source": [
    "### User Average"
   ]
  },
  {
   "cell_type": "code",
   "execution_count": 23,
   "metadata": {},
   "outputs": [],
   "source": [
    "cmd=f'{MYMEDIALITEPATH}/rating_prediction --training-file={TRAINFILEPATH} --recommender=UserAverage \\\n",
    "--test-file={TESTFILEPATH} --prediction-file {DATAPATH}/prediction_useravg.txt'"
   ]
  },
  {
   "cell_type": "code",
   "execution_count": 24,
   "metadata": {
    "scrolled": true
   },
   "outputs": [
    {
     "name": "stdout",
     "output_type": "stream",
     "text": [
      "\u001b[?1h\u001b=\u001b[6n\u001b[H\u001b[2Jloading_time 1.11\n",
      "memory 16\n",
      "ratings range: [1, 5]\n",
      "training data: 5973 users, 3685 items, 895738 ratings, sparsity 95.93041\n",
      "test data:     5432 users, 3448 items, 104471 ratings, sparsity 99.44221\n",
      "UserAverage  training_time 00:00:00.0268390 RMSE 1.083289 MAE 0.8627017 CBD 0.2828474 new users: RMSE 1.0944 MAE 0.91741 CBD 0.27826 new items: RMSE 0.98704 MAE 0.82639 CBD 0.30524  new users and items: RMSE 1.07778 MAE 1 CBD 0.25439 testing_time 00:00:00.0457440\n",
      "prediction_time 00:00:00.0990450\n",
      "\n",
      "memory 16\n",
      "\u001b[?1l\u001b>\u001b[m"
     ]
    }
   ],
   "source": [
    "!command {cmd}"
   ]
  },
  {
   "cell_type": "code",
   "execution_count": 25,
   "metadata": {},
   "outputs": [],
   "source": [
    "predictions_useravg=pd.read_csv (f'{DATAPATH}/prediction_useravg.txt',sep='\\t',header=None).iloc[:,2]"
   ]
  },
  {
   "cell_type": "code",
   "execution_count": 26,
   "metadata": {},
   "outputs": [],
   "source": [
    "dfvalid['pred_useravg']=predictions_useravg"
   ]
  },
  {
   "cell_type": "code",
   "execution_count": 27,
   "metadata": {},
   "outputs": [
    {
     "data": {
      "text/html": [
       "<div>\n",
       "<style scoped>\n",
       "    .dataframe tbody tr th:only-of-type {\n",
       "        vertical-align: middle;\n",
       "    }\n",
       "\n",
       "    .dataframe tbody tr th {\n",
       "        vertical-align: top;\n",
       "    }\n",
       "\n",
       "    .dataframe thead th {\n",
       "        text-align: right;\n",
       "    }\n",
       "</style>\n",
       "<table border=\"1\" class=\"dataframe\">\n",
       "  <thead>\n",
       "    <tr style=\"text-align: right;\">\n",
       "      <th></th>\n",
       "      <th>method</th>\n",
       "      <th>mse</th>\n",
       "      <th>rmse</th>\n",
       "      <th>mae</th>\n",
       "      <th>r2_score</th>\n",
       "      <th>Cold Start Group</th>\n",
       "    </tr>\n",
       "  </thead>\n",
       "  <tbody>\n",
       "    <tr>\n",
       "      <th>0</th>\n",
       "      <td>useravg</td>\n",
       "      <td>1.171221</td>\n",
       "      <td>1.082230</td>\n",
       "      <td>0.857404</td>\n",
       "      <td>0.108345</td>\n",
       "      <td>No-cold-start</td>\n",
       "    </tr>\n",
       "    <tr>\n",
       "      <th>1</th>\n",
       "      <td>useravg</td>\n",
       "      <td>1.197711</td>\n",
       "      <td>1.094400</td>\n",
       "      <td>0.917391</td>\n",
       "      <td>-0.001733</td>\n",
       "      <td>User-Cold-Start</td>\n",
       "    </tr>\n",
       "    <tr>\n",
       "      <th>2</th>\n",
       "      <td>useravg</td>\n",
       "      <td>0.958643</td>\n",
       "      <td>0.979103</td>\n",
       "      <td>0.811926</td>\n",
       "      <td>-0.150372</td>\n",
       "      <td>Item-Cold_start</td>\n",
       "    </tr>\n",
       "    <tr>\n",
       "      <th>3</th>\n",
       "      <td>useravg</td>\n",
       "      <td>1.161611</td>\n",
       "      <td>1.077781</td>\n",
       "      <td>1.000000</td>\n",
       "      <td>-0.161611</td>\n",
       "      <td>User-Item-cold-start</td>\n",
       "    </tr>\n",
       "    <tr>\n",
       "      <th>0</th>\n",
       "      <td>useravg</td>\n",
       "      <td>1.171221</td>\n",
       "      <td>1.082230</td>\n",
       "      <td>0.857404</td>\n",
       "      <td>0.108345</td>\n",
       "      <td>0</td>\n",
       "    </tr>\n",
       "    <tr>\n",
       "      <th>1</th>\n",
       "      <td>useravg</td>\n",
       "      <td>1.197084</td>\n",
       "      <td>1.094113</td>\n",
       "      <td>0.917136</td>\n",
       "      <td>-0.001110</td>\n",
       "      <td>1</td>\n",
       "    </tr>\n",
       "    <tr>\n",
       "      <th>0</th>\n",
       "      <td>useravg</td>\n",
       "      <td>1.173515</td>\n",
       "      <td>1.083289</td>\n",
       "      <td>0.862702</td>\n",
       "      <td>0.102151</td>\n",
       "      <td>0</td>\n",
       "    </tr>\n",
       "  </tbody>\n",
       "</table>\n",
       "</div>"
      ],
      "text/plain": [
       "    method       mse      rmse       mae  r2_score      Cold Start Group\n",
       "0  useravg  1.171221  1.082230  0.857404  0.108345         No-cold-start\n",
       "1  useravg  1.197711  1.094400  0.917391 -0.001733       User-Cold-Start\n",
       "2  useravg  0.958643  0.979103  0.811926 -0.150372       Item-Cold_start\n",
       "3  useravg  1.161611  1.077781  1.000000 -0.161611  User-Item-cold-start\n",
       "0  useravg  1.171221  1.082230  0.857404  0.108345                     0\n",
       "1  useravg  1.197084  1.094113  0.917136 -0.001110                     1\n",
       "0  useravg  1.173515  1.083289  0.862702  0.102151                     0"
      ]
     },
     "execution_count": 27,
     "metadata": {},
     "output_type": "execute_result"
    }
   ],
   "source": [
    "result_useravg=pd.concat([score_by_group(dfvalid,'pred_useravg','cold_start_group','useravg'),score_by_group(dfvalid,'pred_useravg','cold_start_bucket','useravg'),\\\n",
    "score_by_group(dfvalid,'pred_useravg','flag_train','useravg')],axis=0)\n",
    "result_useravg"
   ]
  },
  {
   "cell_type": "markdown",
   "metadata": {},
   "source": [
    "### Item Average"
   ]
  },
  {
   "cell_type": "code",
   "execution_count": 28,
   "metadata": {},
   "outputs": [],
   "source": [
    "cmd=f'{MYMEDIALITEPATH}/rating_prediction --training-file={TRAINFILEPATH} --recommender=ItemAverage \\\n",
    "--test-file={TESTFILEPATH} --prediction-file {DATAPATH}/prediction_itemavg.txt'"
   ]
  },
  {
   "cell_type": "code",
   "execution_count": 29,
   "metadata": {
    "scrolled": true
   },
   "outputs": [
    {
     "name": "stdout",
     "output_type": "stream",
     "text": [
      "\u001b[?1h\u001b=\u001b[6n\u001b[H\u001b[2Jloading_time 1.16\n",
      "memory 16\n",
      "ratings range: [1, 5]\n",
      "training data: 5973 users, 3685 items, 895738 ratings, sparsity 95.93041\n",
      "test data:     5432 users, 3448 items, 104471 ratings, sparsity 99.44221\n",
      "ItemAverage  training_time 00:00:00.0263350 RMSE 0.9923189 MAE 0.7899396 CBD 0.2717245 new users: RMSE 0.98425 MAE 0.78976 CBD 0.2643 new items: RMSE 1.09026 MAE 0.9683 CBD 0.31621  new users and items: RMSE 1.07778 MAE 1 CBD 0.25439 testing_time 00:00:00.0455190\n",
      "prediction_time 00:00:00.1090690\n",
      "\n",
      "memory 16\n",
      "\u001b[?1l\u001b>\u001b[m"
     ]
    }
   ],
   "source": [
    "!command {cmd}"
   ]
  },
  {
   "cell_type": "code",
   "execution_count": 30,
   "metadata": {},
   "outputs": [],
   "source": [
    "predictions_itemavg=pd.read_csv (f'{DATAPATH}/prediction_itemavg.txt',sep='\\t',header=None).iloc[:,2]"
   ]
  },
  {
   "cell_type": "code",
   "execution_count": 31,
   "metadata": {},
   "outputs": [],
   "source": [
    "dfvalid['pred_itemavg']=predictions_itemavg"
   ]
  },
  {
   "cell_type": "code",
   "execution_count": 32,
   "metadata": {},
   "outputs": [
    {
     "data": {
      "text/html": [
       "<div>\n",
       "<style scoped>\n",
       "    .dataframe tbody tr th:only-of-type {\n",
       "        vertical-align: middle;\n",
       "    }\n",
       "\n",
       "    .dataframe tbody tr th {\n",
       "        vertical-align: top;\n",
       "    }\n",
       "\n",
       "    .dataframe thead th {\n",
       "        text-align: right;\n",
       "    }\n",
       "</style>\n",
       "<table border=\"1\" class=\"dataframe\">\n",
       "  <thead>\n",
       "    <tr style=\"text-align: right;\">\n",
       "      <th></th>\n",
       "      <th>method</th>\n",
       "      <th>mse</th>\n",
       "      <th>rmse</th>\n",
       "      <th>mae</th>\n",
       "      <th>r2_score</th>\n",
       "      <th>Cold Start Group</th>\n",
       "    </tr>\n",
       "  </thead>\n",
       "  <tbody>\n",
       "    <tr>\n",
       "      <th>0</th>\n",
       "      <td>itemavg</td>\n",
       "      <td>0.986194</td>\n",
       "      <td>0.993073</td>\n",
       "      <td>0.789912</td>\n",
       "      <td>0.249207</td>\n",
       "      <td>No-cold-start</td>\n",
       "    </tr>\n",
       "    <tr>\n",
       "      <th>1</th>\n",
       "      <td>itemavg</td>\n",
       "      <td>0.968701</td>\n",
       "      <td>0.984226</td>\n",
       "      <td>0.789719</td>\n",
       "      <td>0.189805</td>\n",
       "      <td>User-Cold-Start</td>\n",
       "    </tr>\n",
       "    <tr>\n",
       "      <th>2</th>\n",
       "      <td>itemavg</td>\n",
       "      <td>1.190927</td>\n",
       "      <td>1.091296</td>\n",
       "      <td>0.965662</td>\n",
       "      <td>-0.429112</td>\n",
       "      <td>Item-Cold_start</td>\n",
       "    </tr>\n",
       "    <tr>\n",
       "      <th>3</th>\n",
       "      <td>itemavg</td>\n",
       "      <td>1.161611</td>\n",
       "      <td>1.077781</td>\n",
       "      <td>1.000000</td>\n",
       "      <td>-0.161611</td>\n",
       "      <td>User-Item-cold-start</td>\n",
       "    </tr>\n",
       "    <tr>\n",
       "      <th>0</th>\n",
       "      <td>itemavg</td>\n",
       "      <td>0.986194</td>\n",
       "      <td>0.993073</td>\n",
       "      <td>0.789912</td>\n",
       "      <td>0.249207</td>\n",
       "      <td>0</td>\n",
       "    </tr>\n",
       "    <tr>\n",
       "      <th>1</th>\n",
       "      <td>itemavg</td>\n",
       "      <td>0.969318</td>\n",
       "      <td>0.984540</td>\n",
       "      <td>0.790220</td>\n",
       "      <td>0.189368</td>\n",
       "      <td>1</td>\n",
       "    </tr>\n",
       "    <tr>\n",
       "      <th>0</th>\n",
       "      <td>itemavg</td>\n",
       "      <td>0.984697</td>\n",
       "      <td>0.992319</td>\n",
       "      <td>0.789940</td>\n",
       "      <td>0.246615</td>\n",
       "      <td>0</td>\n",
       "    </tr>\n",
       "  </tbody>\n",
       "</table>\n",
       "</div>"
      ],
      "text/plain": [
       "    method       mse      rmse       mae  r2_score      Cold Start Group\n",
       "0  itemavg  0.986194  0.993073  0.789912  0.249207         No-cold-start\n",
       "1  itemavg  0.968701  0.984226  0.789719  0.189805       User-Cold-Start\n",
       "2  itemavg  1.190927  1.091296  0.965662 -0.429112       Item-Cold_start\n",
       "3  itemavg  1.161611  1.077781  1.000000 -0.161611  User-Item-cold-start\n",
       "0  itemavg  0.986194  0.993073  0.789912  0.249207                     0\n",
       "1  itemavg  0.969318  0.984540  0.790220  0.189368                     1\n",
       "0  itemavg  0.984697  0.992319  0.789940  0.246615                     0"
      ]
     },
     "execution_count": 32,
     "metadata": {},
     "output_type": "execute_result"
    }
   ],
   "source": [
    "result_itemavg=pd.concat([score_by_group(dfvalid,'pred_itemavg','cold_start_group','itemavg'),score_by_group(dfvalid,'pred_itemavg','cold_start_bucket','itemavg'),\\\n",
    "score_by_group(dfvalid,'pred_itemavg','flag_train','itemavg')],axis=0)\n",
    "result_itemavg"
   ]
  },
  {
   "cell_type": "markdown",
   "metadata": {},
   "source": [
    "## Neighborhood Methods"
   ]
  },
  {
   "cell_type": "markdown",
   "metadata": {},
   "source": [
    "### Item KNN Cosine"
   ]
  },
  {
   "cell_type": "code",
   "execution_count": 33,
   "metadata": {},
   "outputs": [],
   "source": [
    "cmd=f'{MYMEDIALITEPATH}/rating_prediction --training-file={TRAINFILEPATH} --recommender=ItemKNN \\\n",
    "--test-file={TESTFILEPATH} --prediction-file {DATAPATH}/prediction_itemknn_cosine.txt \\\n",
    "--recommender-options k=80  --recommender-options reg_u=25 \\\n",
    "--recommender-options reg_i=10'"
   ]
  },
  {
   "cell_type": "code",
   "execution_count": 34,
   "metadata": {
    "scrolled": true
   },
   "outputs": [
    {
     "name": "stdout",
     "output_type": "stream",
     "text": [
      "\u001b[?1h\u001b=\u001b[6n\u001b[H\u001b[2Jloading_time 1.2\n",
      "memory 41\n",
      "ratings range: [1, 5]\n",
      "training data: 5973 users, 3685 items, 895738 ratings, sparsity 95.93041\n",
      "test data:     5432 users, 3448 items, 104471 ratings, sparsity 99.44221\n",
      "ItemKNN k=80 correlation=BinaryCosine weighted_binary=False alpha=0; baseline predictor: reg_u=25 reg_i=10 num_iter=10  training_time 00:00:46.1416550 RMSE 0.9093671 MAE 0.7134065 CBD 0.2619095 new users: RMSE 0.984 MAE 0.78711 CBD 0.26432 new items: RMSE 0.9785 MAE 0.85462 CBD 0.30359  new users and items: RMSE 1.07778 MAE 1 CBD 0.25439 testing_time 00:14:19.3961410\n",
      "prediction_time 00:14:19.1880110\n",
      "\n",
      "memory 118\n",
      "\u001b[?1l\u001b>\u001b[m"
     ]
    }
   ],
   "source": [
    "!command {cmd}"
   ]
  },
  {
   "cell_type": "code",
   "execution_count": 35,
   "metadata": {},
   "outputs": [],
   "source": [
    "predictions_itemknn_cosine=pd.read_csv (f'{DATAPATH}/prediction_itemknn_cosine.txt',sep='\\t',header=None).iloc[:,2]\n",
    "dfvalid['pred_itemknn_cosine']=predictions_itemknn_cosine"
   ]
  },
  {
   "cell_type": "code",
   "execution_count": 36,
   "metadata": {},
   "outputs": [
    {
     "data": {
      "text/html": [
       "<div>\n",
       "<style scoped>\n",
       "    .dataframe tbody tr th:only-of-type {\n",
       "        vertical-align: middle;\n",
       "    }\n",
       "\n",
       "    .dataframe tbody tr th {\n",
       "        vertical-align: top;\n",
       "    }\n",
       "\n",
       "    .dataframe thead th {\n",
       "        text-align: right;\n",
       "    }\n",
       "</style>\n",
       "<table border=\"1\" class=\"dataframe\">\n",
       "  <thead>\n",
       "    <tr style=\"text-align: right;\">\n",
       "      <th></th>\n",
       "      <th>method</th>\n",
       "      <th>mse</th>\n",
       "      <th>rmse</th>\n",
       "      <th>mae</th>\n",
       "      <th>r2_score</th>\n",
       "      <th>Cold Start Group</th>\n",
       "    </tr>\n",
       "  </thead>\n",
       "  <tbody>\n",
       "    <tr>\n",
       "      <th>0</th>\n",
       "      <td>itemknncosine</td>\n",
       "      <td>0.813202</td>\n",
       "      <td>0.901777</td>\n",
       "      <td>0.706219</td>\n",
       "      <td>0.380906</td>\n",
       "      <td>No-cold-start</td>\n",
       "    </tr>\n",
       "    <tr>\n",
       "      <th>1</th>\n",
       "      <td>itemknncosine</td>\n",
       "      <td>0.968217</td>\n",
       "      <td>0.983980</td>\n",
       "      <td>0.787066</td>\n",
       "      <td>0.190210</td>\n",
       "      <td>User-Cold-Start</td>\n",
       "    </tr>\n",
       "    <tr>\n",
       "      <th>2</th>\n",
       "      <td>itemknncosine</td>\n",
       "      <td>0.940441</td>\n",
       "      <td>0.969763</td>\n",
       "      <td>0.842502</td>\n",
       "      <td>-0.128529</td>\n",
       "      <td>Item-Cold_start</td>\n",
       "    </tr>\n",
       "    <tr>\n",
       "      <th>3</th>\n",
       "      <td>itemknncosine</td>\n",
       "      <td>1.161611</td>\n",
       "      <td>1.077781</td>\n",
       "      <td>1.000000</td>\n",
       "      <td>-0.161611</td>\n",
       "      <td>User-Item-cold-start</td>\n",
       "    </tr>\n",
       "    <tr>\n",
       "      <th>0</th>\n",
       "      <td>itemknncosine</td>\n",
       "      <td>0.813202</td>\n",
       "      <td>0.901777</td>\n",
       "      <td>0.706219</td>\n",
       "      <td>0.380906</td>\n",
       "      <td>0</td>\n",
       "    </tr>\n",
       "    <tr>\n",
       "      <th>1</th>\n",
       "      <td>itemknncosine</td>\n",
       "      <td>0.968187</td>\n",
       "      <td>0.983965</td>\n",
       "      <td>0.787255</td>\n",
       "      <td>0.190315</td>\n",
       "      <td>1</td>\n",
       "    </tr>\n",
       "    <tr>\n",
       "      <th>0</th>\n",
       "      <td>itemknncosine</td>\n",
       "      <td>0.826949</td>\n",
       "      <td>0.909367</td>\n",
       "      <td>0.713406</td>\n",
       "      <td>0.367307</td>\n",
       "      <td>0</td>\n",
       "    </tr>\n",
       "  </tbody>\n",
       "</table>\n",
       "</div>"
      ],
      "text/plain": [
       "          method       mse      rmse       mae  r2_score      Cold Start Group\n",
       "0  itemknncosine  0.813202  0.901777  0.706219  0.380906         No-cold-start\n",
       "1  itemknncosine  0.968217  0.983980  0.787066  0.190210       User-Cold-Start\n",
       "2  itemknncosine  0.940441  0.969763  0.842502 -0.128529       Item-Cold_start\n",
       "3  itemknncosine  1.161611  1.077781  1.000000 -0.161611  User-Item-cold-start\n",
       "0  itemknncosine  0.813202  0.901777  0.706219  0.380906                     0\n",
       "1  itemknncosine  0.968187  0.983965  0.787255  0.190315                     1\n",
       "0  itemknncosine  0.826949  0.909367  0.713406  0.367307                     0"
      ]
     },
     "execution_count": 36,
     "metadata": {},
     "output_type": "execute_result"
    }
   ],
   "source": [
    "result_itemknncosine=pd.concat([score_by_group(dfvalid,'pred_itemknn_cosine','cold_start_group','itemknncosine'),score_by_group(dfvalid,'pred_itemknn_cosine','cold_start_bucket','itemknncosine'),\\\n",
    "score_by_group(dfvalid,'pred_itemknn_cosine','flag_train','itemknncosine')],axis=0)\n",
    "result_itemknncosine"
   ]
  },
  {
   "cell_type": "markdown",
   "metadata": {},
   "source": [
    "### Item KNN Pearson"
   ]
  },
  {
   "cell_type": "code",
   "execution_count": 37,
   "metadata": {},
   "outputs": [],
   "source": [
    "cmd=f'{MYMEDIALITEPATH}/rating_prediction --training-file={TRAINFILEPATH} --recommender=ItemKNN \\\n",
    "--test-file={TESTFILEPATH} --prediction-file {DATAPATH}/prediction_itemknn_pearson.txt \\\n",
    "--recommender-options k=80  --recommender-options reg_u=25 \\\n",
    "--recommender-options reg_i=10 --recommender-options correlation=Pearson'"
   ]
  },
  {
   "cell_type": "code",
   "execution_count": 38,
   "metadata": {},
   "outputs": [
    {
     "name": "stdout",
     "output_type": "stream",
     "text": [
      "\u001b[?1h\u001b=\u001b[6n\u001b[H\u001b[2Jloading_time 1.22\n",
      "memory 41\n",
      "ratings range: [1, 5]\n",
      "training data: 5973 users, 3685 items, 895738 ratings, sparsity 95.93041\n",
      "test data:     5432 users, 3448 items, 104471 ratings, sparsity 99.44221\n",
      "ItemKNN k=80 correlation=Pearson weighted_binary=False alpha=0; baseline predictor: reg_u=25 reg_i=10 num_iter=10  training_time 00:00:19.3995810 RMSE 0.9041163 MAE 0.7073354 CBD 0.2613333 new users: RMSE 0.984 MAE 0.78711 CBD 0.26432 new items: RMSE 0.9785 MAE 0.85462 CBD 0.30359  new users and items: RMSE 1.07778 MAE 1 CBD 0.25439 testing_time 00:07:25.7768800\n",
      "prediction_time 00:07:25.9212430\n",
      "\n",
      "memory 118\n",
      "\u001b[?1l\u001b>\u001b[m"
     ]
    }
   ],
   "source": [
    "!command {cmd}"
   ]
  },
  {
   "cell_type": "code",
   "execution_count": 39,
   "metadata": {},
   "outputs": [],
   "source": [
    "predictions_itemknn_pearson=pd.read_csv (f'{DATAPATH}/prediction_itemknn_pearson.txt',sep='\\t',header=None).iloc[:,2]\n",
    "dfvalid['pred_itemknn_pearson']=predictions_itemknn_pearson"
   ]
  },
  {
   "cell_type": "code",
   "execution_count": 40,
   "metadata": {},
   "outputs": [
    {
     "data": {
      "text/html": [
       "<div>\n",
       "<style scoped>\n",
       "    .dataframe tbody tr th:only-of-type {\n",
       "        vertical-align: middle;\n",
       "    }\n",
       "\n",
       "    .dataframe tbody tr th {\n",
       "        vertical-align: top;\n",
       "    }\n",
       "\n",
       "    .dataframe thead th {\n",
       "        text-align: right;\n",
       "    }\n",
       "</style>\n",
       "<table border=\"1\" class=\"dataframe\">\n",
       "  <thead>\n",
       "    <tr style=\"text-align: right;\">\n",
       "      <th></th>\n",
       "      <th>method</th>\n",
       "      <th>mse</th>\n",
       "      <th>rmse</th>\n",
       "      <th>mae</th>\n",
       "      <th>r2_score</th>\n",
       "      <th>Cold Start Group</th>\n",
       "    </tr>\n",
       "  </thead>\n",
       "  <tbody>\n",
       "    <tr>\n",
       "      <th>0</th>\n",
       "      <td>itemknnpearson</td>\n",
       "      <td>0.802753</td>\n",
       "      <td>0.895965</td>\n",
       "      <td>0.699557</td>\n",
       "      <td>0.388861</td>\n",
       "      <td>No-cold-start</td>\n",
       "    </tr>\n",
       "    <tr>\n",
       "      <th>1</th>\n",
       "      <td>itemknnpearson</td>\n",
       "      <td>0.968217</td>\n",
       "      <td>0.983980</td>\n",
       "      <td>0.787066</td>\n",
       "      <td>0.190210</td>\n",
       "      <td>User-Cold-Start</td>\n",
       "    </tr>\n",
       "    <tr>\n",
       "      <th>2</th>\n",
       "      <td>itemknnpearson</td>\n",
       "      <td>0.940441</td>\n",
       "      <td>0.969763</td>\n",
       "      <td>0.842502</td>\n",
       "      <td>-0.128529</td>\n",
       "      <td>Item-Cold_start</td>\n",
       "    </tr>\n",
       "    <tr>\n",
       "      <th>3</th>\n",
       "      <td>itemknnpearson</td>\n",
       "      <td>1.161611</td>\n",
       "      <td>1.077781</td>\n",
       "      <td>1.000000</td>\n",
       "      <td>-0.161611</td>\n",
       "      <td>User-Item-cold-start</td>\n",
       "    </tr>\n",
       "    <tr>\n",
       "      <th>0</th>\n",
       "      <td>itemknnpearson</td>\n",
       "      <td>0.802753</td>\n",
       "      <td>0.895965</td>\n",
       "      <td>0.699557</td>\n",
       "      <td>0.388861</td>\n",
       "      <td>0</td>\n",
       "    </tr>\n",
       "    <tr>\n",
       "      <th>1</th>\n",
       "      <td>itemknnpearson</td>\n",
       "      <td>0.968187</td>\n",
       "      <td>0.983965</td>\n",
       "      <td>0.787255</td>\n",
       "      <td>0.190315</td>\n",
       "      <td>1</td>\n",
       "    </tr>\n",
       "    <tr>\n",
       "      <th>0</th>\n",
       "      <td>itemknnpearson</td>\n",
       "      <td>0.817426</td>\n",
       "      <td>0.904116</td>\n",
       "      <td>0.707335</td>\n",
       "      <td>0.374592</td>\n",
       "      <td>0</td>\n",
       "    </tr>\n",
       "  </tbody>\n",
       "</table>\n",
       "</div>"
      ],
      "text/plain": [
       "           method       mse      rmse       mae  r2_score  \\\n",
       "0  itemknnpearson  0.802753  0.895965  0.699557  0.388861   \n",
       "1  itemknnpearson  0.968217  0.983980  0.787066  0.190210   \n",
       "2  itemknnpearson  0.940441  0.969763  0.842502 -0.128529   \n",
       "3  itemknnpearson  1.161611  1.077781  1.000000 -0.161611   \n",
       "0  itemknnpearson  0.802753  0.895965  0.699557  0.388861   \n",
       "1  itemknnpearson  0.968187  0.983965  0.787255  0.190315   \n",
       "0  itemknnpearson  0.817426  0.904116  0.707335  0.374592   \n",
       "\n",
       "       Cold Start Group  \n",
       "0         No-cold-start  \n",
       "1       User-Cold-Start  \n",
       "2       Item-Cold_start  \n",
       "3  User-Item-cold-start  \n",
       "0                     0  \n",
       "1                     1  \n",
       "0                     0  "
      ]
     },
     "execution_count": 40,
     "metadata": {},
     "output_type": "execute_result"
    }
   ],
   "source": [
    "result_itemknnpearson=pd.concat([score_by_group(dfvalid,'pred_itemknn_pearson','cold_start_group','itemknnpearson'),score_by_group(dfvalid,'pred_itemknn_pearson','cold_start_bucket','itemknnpearson'),\\\n",
    "score_by_group(dfvalid,'pred_itemknn_pearson','flag_train','itemknnpearson')],axis=0)\n",
    "result_itemknnpearson"
   ]
  },
  {
   "cell_type": "markdown",
   "metadata": {},
   "source": [
    "### User KNN Pearson"
   ]
  },
  {
   "cell_type": "code",
   "execution_count": 45,
   "metadata": {},
   "outputs": [],
   "source": [
    "cmd=f'{MYMEDIALITEPATH}/rating_prediction --training-file={TRAINFILEPATH} --recommender=UserKNN \\\n",
    "--test-file={TESTFILEPATH} --prediction-file {DATAPATH}/prediction_userknn_pearson.txt \\\n",
    "--recommender-options k=80  --recommender-options reg_u=25 \\\n",
    "--recommender-options reg_i=10 --recommender-options correlation=Pearson'"
   ]
  },
  {
   "cell_type": "code",
   "execution_count": 46,
   "metadata": {},
   "outputs": [
    {
     "name": "stdout",
     "output_type": "stream",
     "text": [
      "\u001b[?1h\u001b=\u001b[6n\u001b[H\u001b[2Jloading_time 1.14\n",
      "memory 38\n",
      "ratings range: [1, 5]\n",
      "training data: 5973 users, 3685 items, 895738 ratings, sparsity 95.93041\n",
      "test data:     5432 users, 3448 items, 104471 ratings, sparsity 99.44221\n",
      "UserKNN k=80 correlation=Pearson weighted_binary=False alpha=0; baseline predictor: reg_u=25 reg_i=10 num_iter=10  training_time 00:00:55.6236500 RMSE 0.9152783 MAE 0.7187243 CBD 0.2629423 new users: RMSE 0.984 MAE 0.78711 CBD 0.26432 new items: RMSE 0.9785 MAE 0.85462 CBD 0.30359  new users and items: RMSE 1.07778 MAE 1 CBD 0.25439 testing_time 00:19:11.7622810\n",
      "prediction_time 00:19:57.6011710\n",
      "\n",
      "memory 249\n",
      "\u001b[?1l\u001b>\u001b[m"
     ]
    }
   ],
   "source": [
    "!command {cmd}"
   ]
  },
  {
   "cell_type": "code",
   "execution_count": 47,
   "metadata": {},
   "outputs": [],
   "source": [
    "predictions_userknn_pearson=pd.read_csv (f'{DATAPATH}/prediction_userknn_pearson.txt',sep='\\t',header=None).iloc[:,2]\n",
    "dfvalid['pred_userknn_pearson']=predictions_userknn_pearson"
   ]
  },
  {
   "cell_type": "code",
   "execution_count": 48,
   "metadata": {},
   "outputs": [
    {
     "data": {
      "text/html": [
       "<div>\n",
       "<style scoped>\n",
       "    .dataframe tbody tr th:only-of-type {\n",
       "        vertical-align: middle;\n",
       "    }\n",
       "\n",
       "    .dataframe tbody tr th {\n",
       "        vertical-align: top;\n",
       "    }\n",
       "\n",
       "    .dataframe thead th {\n",
       "        text-align: right;\n",
       "    }\n",
       "</style>\n",
       "<table border=\"1\" class=\"dataframe\">\n",
       "  <thead>\n",
       "    <tr style=\"text-align: right;\">\n",
       "      <th></th>\n",
       "      <th>method</th>\n",
       "      <th>mse</th>\n",
       "      <th>rmse</th>\n",
       "      <th>mae</th>\n",
       "      <th>r2_score</th>\n",
       "      <th>Cold Start Group</th>\n",
       "    </tr>\n",
       "  </thead>\n",
       "  <tbody>\n",
       "    <tr>\n",
       "      <th>0</th>\n",
       "      <td>userknnpearson</td>\n",
       "      <td>0.825038</td>\n",
       "      <td>0.908316</td>\n",
       "      <td>0.712054</td>\n",
       "      <td>0.371896</td>\n",
       "      <td>No-cold-start</td>\n",
       "    </tr>\n",
       "    <tr>\n",
       "      <th>1</th>\n",
       "      <td>userknnpearson</td>\n",
       "      <td>0.968217</td>\n",
       "      <td>0.983980</td>\n",
       "      <td>0.787066</td>\n",
       "      <td>0.190210</td>\n",
       "      <td>User-Cold-Start</td>\n",
       "    </tr>\n",
       "    <tr>\n",
       "      <th>2</th>\n",
       "      <td>userknnpearson</td>\n",
       "      <td>0.940441</td>\n",
       "      <td>0.969763</td>\n",
       "      <td>0.842502</td>\n",
       "      <td>-0.128529</td>\n",
       "      <td>Item-Cold_start</td>\n",
       "    </tr>\n",
       "    <tr>\n",
       "      <th>3</th>\n",
       "      <td>userknnpearson</td>\n",
       "      <td>1.161611</td>\n",
       "      <td>1.077781</td>\n",
       "      <td>1.000000</td>\n",
       "      <td>-0.161611</td>\n",
       "      <td>User-Item-cold-start</td>\n",
       "    </tr>\n",
       "    <tr>\n",
       "      <th>0</th>\n",
       "      <td>userknnpearson</td>\n",
       "      <td>0.825038</td>\n",
       "      <td>0.908316</td>\n",
       "      <td>0.712054</td>\n",
       "      <td>0.371896</td>\n",
       "      <td>0</td>\n",
       "    </tr>\n",
       "    <tr>\n",
       "      <th>1</th>\n",
       "      <td>userknnpearson</td>\n",
       "      <td>0.968187</td>\n",
       "      <td>0.983965</td>\n",
       "      <td>0.787255</td>\n",
       "      <td>0.190315</td>\n",
       "      <td>1</td>\n",
       "    </tr>\n",
       "    <tr>\n",
       "      <th>0</th>\n",
       "      <td>userknnpearson</td>\n",
       "      <td>0.837734</td>\n",
       "      <td>0.915278</td>\n",
       "      <td>0.718724</td>\n",
       "      <td>0.359055</td>\n",
       "      <td>0</td>\n",
       "    </tr>\n",
       "  </tbody>\n",
       "</table>\n",
       "</div>"
      ],
      "text/plain": [
       "           method       mse      rmse       mae  r2_score  \\\n",
       "0  userknnpearson  0.825038  0.908316  0.712054  0.371896   \n",
       "1  userknnpearson  0.968217  0.983980  0.787066  0.190210   \n",
       "2  userknnpearson  0.940441  0.969763  0.842502 -0.128529   \n",
       "3  userknnpearson  1.161611  1.077781  1.000000 -0.161611   \n",
       "0  userknnpearson  0.825038  0.908316  0.712054  0.371896   \n",
       "1  userknnpearson  0.968187  0.983965  0.787255  0.190315   \n",
       "0  userknnpearson  0.837734  0.915278  0.718724  0.359055   \n",
       "\n",
       "       Cold Start Group  \n",
       "0         No-cold-start  \n",
       "1       User-Cold-Start  \n",
       "2       Item-Cold_start  \n",
       "3  User-Item-cold-start  \n",
       "0                     0  \n",
       "1                     1  \n",
       "0                     0  "
      ]
     },
     "execution_count": 48,
     "metadata": {},
     "output_type": "execute_result"
    }
   ],
   "source": [
    "result_userknnpearson=pd.concat([score_by_group(dfvalid,'pred_userknn_pearson','cold_start_group','userknnpearson'),score_by_group(dfvalid,'pred_userknn_pearson','cold_start_bucket','userknnpearson'),\\\n",
    "score_by_group(dfvalid,'pred_userknn_pearson','flag_train','userknnpearson')],axis=0)\n",
    "result_userknnpearson"
   ]
  },
  {
   "cell_type": "markdown",
   "metadata": {},
   "source": [
    "### User KNN Cosine"
   ]
  },
  {
   "cell_type": "code",
   "execution_count": 65,
   "metadata": {},
   "outputs": [],
   "source": [
    "cmd=f'{MYMEDIALITEPATH}/rating_prediction --training-file={TRAINFILEPATH} --recommender=UserKNN \\\n",
    "--test-file={TESTFILEPATH} --prediction-file {DATAPATH}/prediction_userknn_cosine.txt \\\n",
    "--recommender-options k=80  --recommender-options reg_u=25 \\\n",
    "--recommender-options reg_i=10'"
   ]
  },
  {
   "cell_type": "code",
   "execution_count": 66,
   "metadata": {},
   "outputs": [
    {
     "name": "stdout",
     "output_type": "stream",
     "text": [
      "\u001b[?1h\u001b=\u001b[6n\u001b[H\u001b[2Jloading_time 1.18\n",
      "memory 38\n",
      "ratings range: [1, 5]\n",
      "training data: 5973 users, 3685 items, 895738 ratings, sparsity 95.93041\n",
      "test data:     5432 users, 3448 items, 104471 ratings, sparsity 99.44221\n",
      "UserKNN k=80 correlation=BinaryCosine weighted_binary=False alpha=0; baseline predictor: reg_u=25 reg_i=10 num_iter=10  training_time 00:01:45.7271230 RMSE 0.9225795 MAE 0.7242093 CBD 0.2636982 new users: RMSE 0.984 MAE 0.78711 CBD 0.26432 new items: RMSE 0.9785 MAE 0.85462 CBD 0.30359  new users and items: RMSE 1.07778 MAE 1 CBD 0.25439 testing_time 00:28:37.2978810\n",
      "prediction_time 00:28:46.1241780\n",
      "\n",
      "memory 249\n",
      "\u001b[?1l\u001b>\u001b[m"
     ]
    }
   ],
   "source": [
    "!command {cmd}"
   ]
  },
  {
   "cell_type": "code",
   "execution_count": 67,
   "metadata": {},
   "outputs": [],
   "source": [
    "predictions_userknn_cosine=pd.read_csv (f'{DATAPATH}/prediction_userknn_cosine.txt',sep='\\t',header=None).iloc[:,2]\n",
    "dfvalid['pred_userknn_cosine']=predictions_userknn_cosine"
   ]
  },
  {
   "cell_type": "code",
   "execution_count": 68,
   "metadata": {},
   "outputs": [
    {
     "data": {
      "text/html": [
       "<div>\n",
       "<style scoped>\n",
       "    .dataframe tbody tr th:only-of-type {\n",
       "        vertical-align: middle;\n",
       "    }\n",
       "\n",
       "    .dataframe tbody tr th {\n",
       "        vertical-align: top;\n",
       "    }\n",
       "\n",
       "    .dataframe thead th {\n",
       "        text-align: right;\n",
       "    }\n",
       "</style>\n",
       "<table border=\"1\" class=\"dataframe\">\n",
       "  <thead>\n",
       "    <tr style=\"text-align: right;\">\n",
       "      <th></th>\n",
       "      <th>method</th>\n",
       "      <th>mse</th>\n",
       "      <th>rmse</th>\n",
       "      <th>mae</th>\n",
       "      <th>r2_score</th>\n",
       "      <th>Cold Start Group</th>\n",
       "    </tr>\n",
       "  </thead>\n",
       "  <tbody>\n",
       "    <tr>\n",
       "      <th>0</th>\n",
       "      <td>userknncosine</td>\n",
       "      <td>0.839762</td>\n",
       "      <td>0.916385</td>\n",
       "      <td>0.718073</td>\n",
       "      <td>0.360686</td>\n",
       "      <td>No-cold-start</td>\n",
       "    </tr>\n",
       "    <tr>\n",
       "      <th>1</th>\n",
       "      <td>userknncosine</td>\n",
       "      <td>0.968217</td>\n",
       "      <td>0.983980</td>\n",
       "      <td>0.787066</td>\n",
       "      <td>0.190210</td>\n",
       "      <td>User-Cold-Start</td>\n",
       "    </tr>\n",
       "    <tr>\n",
       "      <th>2</th>\n",
       "      <td>userknncosine</td>\n",
       "      <td>0.940441</td>\n",
       "      <td>0.969763</td>\n",
       "      <td>0.842502</td>\n",
       "      <td>-0.128529</td>\n",
       "      <td>Item-Cold_start</td>\n",
       "    </tr>\n",
       "    <tr>\n",
       "      <th>3</th>\n",
       "      <td>userknncosine</td>\n",
       "      <td>1.161611</td>\n",
       "      <td>1.077781</td>\n",
       "      <td>1.000000</td>\n",
       "      <td>-0.161611</td>\n",
       "      <td>User-Item-cold-start</td>\n",
       "    </tr>\n",
       "    <tr>\n",
       "      <th>0</th>\n",
       "      <td>userknncosine</td>\n",
       "      <td>0.839762</td>\n",
       "      <td>0.916385</td>\n",
       "      <td>0.718073</td>\n",
       "      <td>0.360686</td>\n",
       "      <td>0</td>\n",
       "    </tr>\n",
       "    <tr>\n",
       "      <th>1</th>\n",
       "      <td>userknncosine</td>\n",
       "      <td>0.968187</td>\n",
       "      <td>0.983965</td>\n",
       "      <td>0.787255</td>\n",
       "      <td>0.190315</td>\n",
       "      <td>1</td>\n",
       "    </tr>\n",
       "    <tr>\n",
       "      <th>0</th>\n",
       "      <td>userknncosine</td>\n",
       "      <td>0.851153</td>\n",
       "      <td>0.922579</td>\n",
       "      <td>0.724209</td>\n",
       "      <td>0.348788</td>\n",
       "      <td>0</td>\n",
       "    </tr>\n",
       "  </tbody>\n",
       "</table>\n",
       "</div>"
      ],
      "text/plain": [
       "          method       mse      rmse       mae  r2_score      Cold Start Group\n",
       "0  userknncosine  0.839762  0.916385  0.718073  0.360686         No-cold-start\n",
       "1  userknncosine  0.968217  0.983980  0.787066  0.190210       User-Cold-Start\n",
       "2  userknncosine  0.940441  0.969763  0.842502 -0.128529       Item-Cold_start\n",
       "3  userknncosine  1.161611  1.077781  1.000000 -0.161611  User-Item-cold-start\n",
       "0  userknncosine  0.839762  0.916385  0.718073  0.360686                     0\n",
       "1  userknncosine  0.968187  0.983965  0.787255  0.190315                     1\n",
       "0  userknncosine  0.851153  0.922579  0.724209  0.348788                     0"
      ]
     },
     "execution_count": 68,
     "metadata": {},
     "output_type": "execute_result"
    }
   ],
   "source": [
    "result_userknncosine=pd.concat([score_by_group(dfvalid,'pred_userknn_cosine','cold_start_group','userknncosine'),score_by_group(dfvalid,'pred_userknn_cosine','cold_start_bucket','userknncosine'),\\\n",
    "score_by_group(dfvalid,'pred_userknn_cosine','flag_train','userknncosine')],axis=0)\n",
    "result_userknncosine"
   ]
  },
  {
   "cell_type": "markdown",
   "metadata": {},
   "source": [
    "## Matrix Factorization"
   ]
  },
  {
   "cell_type": "markdown",
   "metadata": {},
   "source": [
    "### SVD"
   ]
  },
  {
   "cell_type": "code",
   "execution_count": 54,
   "metadata": {},
   "outputs": [],
   "source": [
    "cmd=f'{MYMEDIALITEPATH}/rating_prediction --training-file={TRAINFILEPATH} --recommender=MatrixFactorization \\\n",
    "--test-file={TESTFILEPATH} --prediction-file {DATAPATH}/prediction_svd.txt \\\n",
    "--recommender-options num_factors=10  --recommender-options regularization=0.05 \\\n",
    "--recommender-options learn_rate=0.005 --recommender-options num_iter=75'"
   ]
  },
  {
   "cell_type": "code",
   "execution_count": 55,
   "metadata": {},
   "outputs": [
    {
     "name": "stdout",
     "output_type": "stream",
     "text": [
      "\u001b[?1h\u001b=\u001b[6n\u001b[H\u001b[2Jloading_time 1.13\n",
      "memory 16\n",
      "ratings range: [1, 5]\n",
      "training data: 5973 users, 3685 items, 895738 ratings, sparsity 95.93041\n",
      "test data:     5432 users, 3448 items, 104471 ratings, sparsity 99.44221\n",
      "MatrixFactorization num_factors=10 regularization=0.05 learn_rate=0.005 learn_rate_decay=1 num_iter=75  training_time 00:00:18.2684940 RMSE 0.8976225 MAE 0.7074416 CBD 0.2604465 new users: RMSE 1.0944 MAE 0.91741 CBD 0.27826 new items: RMSE 1.09026 MAE 0.9683 CBD 0.31621  new users and items: RMSE 1.07778 MAE 1 CBD 0.25439 testing_time 00:00:00.0273180\n",
      "prediction_time 00:00:00.1134340\n",
      "\n",
      "memory 20\n",
      "\u001b[?1l\u001b>\u001b[m"
     ]
    }
   ],
   "source": [
    "!command {cmd}"
   ]
  },
  {
   "cell_type": "code",
   "execution_count": 56,
   "metadata": {},
   "outputs": [],
   "source": [
    "predictions_svd=pd.read_csv (f'{DATAPATH}/prediction_svd.txt',sep='\\t',header=None).iloc[:,2]\n",
    "dfvalid['pred_svd']=predictions_svd"
   ]
  },
  {
   "cell_type": "code",
   "execution_count": 57,
   "metadata": {},
   "outputs": [
    {
     "data": {
      "text/html": [
       "<div>\n",
       "<style scoped>\n",
       "    .dataframe tbody tr th:only-of-type {\n",
       "        vertical-align: middle;\n",
       "    }\n",
       "\n",
       "    .dataframe tbody tr th {\n",
       "        vertical-align: top;\n",
       "    }\n",
       "\n",
       "    .dataframe thead th {\n",
       "        text-align: right;\n",
       "    }\n",
       "</style>\n",
       "<table border=\"1\" class=\"dataframe\">\n",
       "  <thead>\n",
       "    <tr style=\"text-align: right;\">\n",
       "      <th></th>\n",
       "      <th>method</th>\n",
       "      <th>mse</th>\n",
       "      <th>rmse</th>\n",
       "      <th>mae</th>\n",
       "      <th>r2_score</th>\n",
       "      <th>Cold Start Group</th>\n",
       "    </tr>\n",
       "  </thead>\n",
       "  <tbody>\n",
       "    <tr>\n",
       "      <th>0</th>\n",
       "      <td>svd</td>\n",
       "      <td>0.767578</td>\n",
       "      <td>0.876115</td>\n",
       "      <td>0.686994</td>\n",
       "      <td>0.415640</td>\n",
       "      <td>No-cold-start</td>\n",
       "    </tr>\n",
       "    <tr>\n",
       "      <th>1</th>\n",
       "      <td>svd</td>\n",
       "      <td>1.197711</td>\n",
       "      <td>1.094400</td>\n",
       "      <td>0.917391</td>\n",
       "      <td>-0.001733</td>\n",
       "      <td>User-Cold-Start</td>\n",
       "    </tr>\n",
       "    <tr>\n",
       "      <th>2</th>\n",
       "      <td>svd</td>\n",
       "      <td>1.190927</td>\n",
       "      <td>1.091296</td>\n",
       "      <td>0.965662</td>\n",
       "      <td>-0.429112</td>\n",
       "      <td>Item-Cold_start</td>\n",
       "    </tr>\n",
       "    <tr>\n",
       "      <th>3</th>\n",
       "      <td>svd</td>\n",
       "      <td>1.161611</td>\n",
       "      <td>1.077781</td>\n",
       "      <td>1.000000</td>\n",
       "      <td>-0.161611</td>\n",
       "      <td>User-Item-cold-start</td>\n",
       "    </tr>\n",
       "    <tr>\n",
       "      <th>0</th>\n",
       "      <td>svd</td>\n",
       "      <td>0.767578</td>\n",
       "      <td>0.876115</td>\n",
       "      <td>0.686994</td>\n",
       "      <td>0.415640</td>\n",
       "      <td>0</td>\n",
       "    </tr>\n",
       "    <tr>\n",
       "      <th>1</th>\n",
       "      <td>svd</td>\n",
       "      <td>1.197686</td>\n",
       "      <td>1.094388</td>\n",
       "      <td>0.917534</td>\n",
       "      <td>-0.001614</td>\n",
       "      <td>1</td>\n",
       "    </tr>\n",
       "    <tr>\n",
       "      <th>0</th>\n",
       "      <td>svd</td>\n",
       "      <td>0.805726</td>\n",
       "      <td>0.897623</td>\n",
       "      <td>0.707442</td>\n",
       "      <td>0.383544</td>\n",
       "      <td>0</td>\n",
       "    </tr>\n",
       "  </tbody>\n",
       "</table>\n",
       "</div>"
      ],
      "text/plain": [
       "  method       mse      rmse       mae  r2_score      Cold Start Group\n",
       "0    svd  0.767578  0.876115  0.686994  0.415640         No-cold-start\n",
       "1    svd  1.197711  1.094400  0.917391 -0.001733       User-Cold-Start\n",
       "2    svd  1.190927  1.091296  0.965662 -0.429112       Item-Cold_start\n",
       "3    svd  1.161611  1.077781  1.000000 -0.161611  User-Item-cold-start\n",
       "0    svd  0.767578  0.876115  0.686994  0.415640                     0\n",
       "1    svd  1.197686  1.094388  0.917534 -0.001614                     1\n",
       "0    svd  0.805726  0.897623  0.707442  0.383544                     0"
      ]
     },
     "execution_count": 57,
     "metadata": {},
     "output_type": "execute_result"
    }
   ],
   "source": [
    "result_svd=pd.concat([score_by_group(dfvalid,'pred_svd','cold_start_group','svd'),score_by_group(dfvalid,'pred_svd','cold_start_bucket','svd'),\\\n",
    "score_by_group(dfvalid,'pred_svd','flag_train','svd')],axis=0)\n",
    "result_svd"
   ]
  },
  {
   "cell_type": "markdown",
   "metadata": {},
   "source": [
    "### SVD Plus Plus"
   ]
  },
  {
   "cell_type": "code",
   "execution_count": 58,
   "metadata": {},
   "outputs": [],
   "source": [
    "cmd=f'{MYMEDIALITEPATH}/rating_prediction --training-file={TRAINFILEPATH} --recommender=SVDPlusPlus \\\n",
    "--test-file={TESTFILEPATH} --prediction-file {DATAPATH}/prediction_svdplusplus.txt \\\n",
    "--recommender-options num_factors=20  --recommender-options regularization=0.05 \\\n",
    "--recommender-options learn_rate=0.005 --recommender-options num_iter=80'\n",
    "\n"
   ]
  },
  {
   "cell_type": "code",
   "execution_count": 59,
   "metadata": {},
   "outputs": [
    {
     "data": {
      "text/plain": [
       "'/home/kirana/MyMediaLite/bin/rating_prediction --training-file=/home/kirana/Documents/phd/experiment1_new/DNNREC_ML1M/inp_train_ml1m.csv --recommender=SVDPlusPlus --test-file=/home/kirana/Documents/phd/experiment1_new/DNNREC_ML1M/inp_test_ml1m.csv --prediction-file /home/kirana/Documents/final_dissertation_final/experiments/datasets/ml-1m/prediction_svdplusplus.txt --recommender-options num_factors=20  --recommender-options regularization=0.05 --recommender-options learn_rate=0.005 --recommender-options num_iter=80'"
      ]
     },
     "execution_count": 59,
     "metadata": {},
     "output_type": "execute_result"
    }
   ],
   "source": [
    "cmd"
   ]
  },
  {
   "cell_type": "code",
   "execution_count": 60,
   "metadata": {},
   "outputs": [
    {
     "name": "stdout",
     "output_type": "stream",
     "text": [
      "\u001b[?1h\u001b=\u001b[6n\u001b[H\u001b[2Jloading_time 1.18\n",
      "memory 16\n",
      "ratings range: [1, 5]\n",
      "training data: 5973 users, 3685 items, 895738 ratings, sparsity 95.93041\n",
      "test data:     5432 users, 3448 items, 104471 ratings, sparsity 99.44221\n",
      "SVDPlusPlus num_factors=20 regularization=0.05 bias_reg=0.33 frequency_regularization=False learn_rate=0.005 bias_learn_rate=0.7 learn_rate_decay=1 num_iter=80  training_time 01:36:15.6995110 RMSE 0.8824787 MAE 0.6908272 CBD 0.2590143 new users: RMSE 0.9827 MAE 0.78941 CBD 0.26411 new items: RMSE 1.00855 MAE 0.88684 CBD 0.30689  new users and items: RMSE 1.07778 MAE 1 CBD 0.25439 testing_time 00:00:00.0616770\n",
      "prediction_time 00:00:00.1129690\n",
      "\n",
      "memory 33\n",
      "\u001b[?1l\u001b>\u001b[m"
     ]
    }
   ],
   "source": [
    "!command {cmd}"
   ]
  },
  {
   "cell_type": "code",
   "execution_count": 61,
   "metadata": {},
   "outputs": [
    {
     "data": {
      "text/html": [
       "<div>\n",
       "<style scoped>\n",
       "    .dataframe tbody tr th:only-of-type {\n",
       "        vertical-align: middle;\n",
       "    }\n",
       "\n",
       "    .dataframe tbody tr th {\n",
       "        vertical-align: top;\n",
       "    }\n",
       "\n",
       "    .dataframe thead th {\n",
       "        text-align: right;\n",
       "    }\n",
       "</style>\n",
       "<table border=\"1\" class=\"dataframe\">\n",
       "  <thead>\n",
       "    <tr style=\"text-align: right;\">\n",
       "      <th></th>\n",
       "      <th>method</th>\n",
       "      <th>mse</th>\n",
       "      <th>rmse</th>\n",
       "      <th>mae</th>\n",
       "      <th>r2_score</th>\n",
       "      <th>Cold Start Group</th>\n",
       "    </tr>\n",
       "  </thead>\n",
       "  <tbody>\n",
       "    <tr>\n",
       "      <th>0</th>\n",
       "      <td>svdplusplus</td>\n",
       "      <td>0.760565</td>\n",
       "      <td>0.872104</td>\n",
       "      <td>0.681210</td>\n",
       "      <td>0.420979</td>\n",
       "      <td>No-cold-start</td>\n",
       "    </tr>\n",
       "    <tr>\n",
       "      <th>1</th>\n",
       "      <td>svdplusplus</td>\n",
       "      <td>0.965663</td>\n",
       "      <td>0.982682</td>\n",
       "      <td>0.789363</td>\n",
       "      <td>0.192346</td>\n",
       "      <td>User-Cold-Start</td>\n",
       "    </tr>\n",
       "    <tr>\n",
       "      <th>2</th>\n",
       "      <td>svdplusplus</td>\n",
       "      <td>1.005146</td>\n",
       "      <td>1.002569</td>\n",
       "      <td>0.877412</td>\n",
       "      <td>-0.206175</td>\n",
       "      <td>Item-Cold_start</td>\n",
       "    </tr>\n",
       "    <tr>\n",
       "      <th>3</th>\n",
       "      <td>svdplusplus</td>\n",
       "      <td>1.161611</td>\n",
       "      <td>1.077781</td>\n",
       "      <td>1.000000</td>\n",
       "      <td>-0.161611</td>\n",
       "      <td>User-Item-cold-start</td>\n",
       "    </tr>\n",
       "    <tr>\n",
       "      <th>0</th>\n",
       "      <td>svdplusplus</td>\n",
       "      <td>0.760565</td>\n",
       "      <td>0.872104</td>\n",
       "      <td>0.681210</td>\n",
       "      <td>0.420979</td>\n",
       "      <td>0</td>\n",
       "    </tr>\n",
       "    <tr>\n",
       "      <th>1</th>\n",
       "      <td>svdplusplus</td>\n",
       "      <td>0.965808</td>\n",
       "      <td>0.982755</td>\n",
       "      <td>0.789637</td>\n",
       "      <td>0.192304</td>\n",
       "      <td>1</td>\n",
       "    </tr>\n",
       "    <tr>\n",
       "      <th>0</th>\n",
       "      <td>svdplusplus</td>\n",
       "      <td>0.778769</td>\n",
       "      <td>0.882479</td>\n",
       "      <td>0.690827</td>\n",
       "      <td>0.404169</td>\n",
       "      <td>0</td>\n",
       "    </tr>\n",
       "  </tbody>\n",
       "</table>\n",
       "</div>"
      ],
      "text/plain": [
       "        method       mse      rmse       mae  r2_score      Cold Start Group\n",
       "0  svdplusplus  0.760565  0.872104  0.681210  0.420979         No-cold-start\n",
       "1  svdplusplus  0.965663  0.982682  0.789363  0.192346       User-Cold-Start\n",
       "2  svdplusplus  1.005146  1.002569  0.877412 -0.206175       Item-Cold_start\n",
       "3  svdplusplus  1.161611  1.077781  1.000000 -0.161611  User-Item-cold-start\n",
       "0  svdplusplus  0.760565  0.872104  0.681210  0.420979                     0\n",
       "1  svdplusplus  0.965808  0.982755  0.789637  0.192304                     1\n",
       "0  svdplusplus  0.778769  0.882479  0.690827  0.404169                     0"
      ]
     },
     "execution_count": 61,
     "metadata": {},
     "output_type": "execute_result"
    }
   ],
   "source": [
    "predictions_svdplusplus=pd.read_csv (f'{DATAPATH}/prediction_svdplusplus.txt',sep='\\t',header=None).iloc[:,2]\n",
    "dfvalid['pred_svdplusplus']=predictions_svdplusplus\n",
    "\n",
    "result_svdplusplus=pd.concat([score_by_group(dfvalid,'pred_svdplusplus','cold_start_group','svdplusplus'),score_by_group(dfvalid,'pred_svdplusplus','cold_start_bucket','svdplusplus'),\\\n",
    "score_by_group(dfvalid,'pred_svdplusplus','flag_train','svdplusplus')],axis=0)\n",
    "result_svdplusplus"
   ]
  },
  {
   "cell_type": "markdown",
   "metadata": {},
   "source": [
    "### BiasedMatrixFactorization"
   ]
  },
  {
   "cell_type": "code",
   "execution_count": 62,
   "metadata": {},
   "outputs": [],
   "source": [
    "cmd=f'{MYMEDIALITEPATH}/rating_prediction --training-file={TRAINFILEPATH} --recommender=BiasedMatrixFactorization \\\n",
    "--test-file={TESTFILEPATH} --prediction-file {DATAPATH}/prediction_biasedmatrixfactorization.txt \\\n",
    "--recommender-options num_factors=40   --recommender-options bias_reg=0.001 \\\n",
    "--recommender-options learn_rate=0.07 --recommender-options num_iter=110 \\\n",
    "--recommender-options bold_driver=True \\\n",
    "--recommender-options regularization=0.06'"
   ]
  },
  {
   "cell_type": "code",
   "execution_count": 63,
   "metadata": {},
   "outputs": [
    {
     "name": "stdout",
     "output_type": "stream",
     "text": [
      "\u001b[?1h\u001b=\u001b[6n\u001b[H\u001b[2Jloading_time 1.09\n",
      "memory 16\n",
      "ratings range: [1, 5]\n",
      "training data: 5973 users, 3685 items, 895738 ratings, sparsity 95.93041\n",
      "test data:     5432 users, 3448 items, 104471 ratings, sparsity 99.44221\n",
      "BiasedMatrixFactorization num_factors=40 bias_reg=0.001 reg_u=0.06 reg_i=0.06 frequency_regularization=False learn_rate=0.07 bias_learn_rate=1 learn_rate_decay=1 num_iter=110 bold_driver=True loss=RMSE max_threads=1 naive_parallelization=False objective 745811.25 learn_rate 0.0735 \n",
      "objective 727263.25 learn_rate 0.077175 \n",
      "objective 718768.6875 learn_rate 0.08103374 \n",
      "objective 715622.4375 learn_rate 0.08508543 \n",
      "objective 715790.875 learn_rate 0.04254271 \n",
      "objective 678467 learn_rate 0.04466985 \n",
      "objective 675853.6875 learn_rate 0.04690334 \n",
      "objective 674908.0625 learn_rate 0.0492485 \n",
      "objective 674838.1875 learn_rate 0.05171093 \n",
      "objective 675444.75 learn_rate 0.02585546 \n",
      "objective 655313.75 learn_rate 0.02714824 \n",
      "objective 653830.625 learn_rate 0.02850565 \n",
      "objective 653363.5625 learn_rate 0.02993093 \n",
      "objective 653311.8125 learn_rate 0.03142747 \n",
      "objective 653539.5 learn_rate 0.01571374 \n",
      "objective 643961.125 learn_rate 0.01649942 \n",
      "objective 643040.8125 learn_rate 0.01732439 \n",
      "objective 642709.25 learn_rate 0.01819061 \n",
      "objective 642596 learn_rate 0.01910014 \n",
      "objective 642614.5625 learn_rate 0.009550071 \n",
      "objective 638331.8125 learn_rate 0.01002757 \n",
      "objective 637778.125 learn_rate 0.01052895 \n",
      "objective 637539.8125 learn_rate 0.0110554 \n",
      "objective 637415.875 learn_rate 0.01160817 \n",
      "objective 637356.75 learn_rate 0.01218858 \n",
      "objective 637345.0625 learn_rate 0.01279801 \n",
      "objective 637373.75 learn_rate 0.006399003 \n",
      "objective 635235.6875 learn_rate 0.006718953 \n",
      "objective 634908.8125 learn_rate 0.0070549 \n",
      "objective 634762.9375 learn_rate 0.007407644 \n",
      "objective 634680.6875 learn_rate 0.007778026 \n",
      "objective 634633.125 learn_rate 0.008166927 \n",
      "objective 634609.75 learn_rate 0.008575273 \n",
      "objective 634606.4375 learn_rate 0.009004036 \n",
      "objective 634621.25 learn_rate 0.004502018 \n",
      "objective 633490.125 learn_rate 0.004727119 \n",
      "objective 633283.375 learn_rate 0.004963474 \n",
      "objective 633188.1875 learn_rate 0.005211648 \n",
      "objective 633131.125 learn_rate 0.00547223 \n",
      "objective 633094.125 learn_rate 0.005745841 \n",
      "objective 633070.6875 learn_rate 0.006033133 \n",
      "objective 633058.125 learn_rate 0.006334789 \n",
      "objective 633055.1875 learn_rate 0.006651528 \n",
      "objective 633061.5625 learn_rate 0.003325764 \n",
      "objective 632426.75 learn_rate 0.003492052 \n",
      "objective 632288.25 learn_rate 0.003666655 \n",
      "objective 632222.5 learn_rate 0.003849987 \n",
      "objective 632181.5 learn_rate 0.004042486 \n",
      "objective 632153 learn_rate 0.00424461 \n",
      "objective 632132.75 learn_rate 0.00445684 \n",
      "objective 632118.8125 learn_rate 0.004679682 \n",
      "objective 632110.4375 learn_rate 0.004913666 \n",
      "objective 632107.25 learn_rate 0.005159349 \n",
      "objective 632109.375 learn_rate 0.002579675 \n",
      "objective 631728.4375 learn_rate 0.002708658 \n",
      "objective 631630.875 learn_rate 0.002844091 \n",
      "objective 631583.0625 learn_rate 0.002986295 \n",
      "objective 631552.4375 learn_rate 0.00313561 \n",
      "objective 631530.3125 learn_rate 0.00329239 \n",
      "objective 631513.5 learn_rate 0.003457009 \n",
      "objective 631500.75 learn_rate 0.00362986 \n",
      "objective 631491.5 learn_rate 0.003811352 \n",
      "objective 631485.375 learn_rate 0.00400192 \n",
      "objective 631482.5 learn_rate 0.004202015 \n",
      "objective 631482.8125 learn_rate 0.002101008 \n",
      "objective 631235.6875 learn_rate 0.002206058 \n",
      "objective 631163.5625 learn_rate 0.002316361 \n",
      "objective 631127.0625 learn_rate 0.002432179 \n",
      "objective 631103.25 learn_rate 0.002553788 \n",
      "objective 631085.6875 learn_rate 0.002681477 \n",
      "objective 631071.9375 learn_rate 0.00281555 \n",
      "objective 631061 learn_rate 0.002956328 \n",
      "objective 631052.4375 learn_rate 0.003104144 \n",
      "objective 631045.9375 learn_rate 0.003259351 \n",
      "objective 631041.5625 learn_rate 0.003422318 \n",
      "objective 631039.375 learn_rate 0.003593434 \n",
      "objective 631039.4375 learn_rate 0.001796717 \n",
      "objective 630864.25 learn_rate 0.001886553 \n",
      "objective 630808 learn_rate 0.001980881 \n",
      "objective 630778.75 learn_rate 0.002079924 \n",
      "objective 630759.5 learn_rate 0.00218392 \n",
      "objective 630745.25 learn_rate 0.002293116 \n",
      "objective 630733.9375 learn_rate 0.002407772 \n",
      "objective 630724.75 learn_rate 0.002528161 \n",
      "objective 630717.3125 learn_rate 0.002654569 \n",
      "objective 630711.4375 learn_rate 0.002787297 \n",
      "objective 630707.125 learn_rate 0.002926662 \n",
      "objective 630704.3125 learn_rate 0.003072995 \n",
      "objective 630703.1875 learn_rate 0.003226644 \n",
      "objective 630703.8125 learn_rate 0.001613322 \n",
      "objective 630566.9375 learn_rate 0.001693988 \n",
      "objective 630520.3125 learn_rate 0.001778688 \n",
      "objective 630495.75 learn_rate 0.001867622 \n",
      "objective 630479.625 learn_rate 0.001961003 \n",
      "objective 630467.75 learn_rate 0.002059053 \n",
      "objective 630458.3125 learn_rate 0.002162006 \n",
      "objective 630450.6875 learn_rate 0.002270106 \n",
      "objective 630444.5 learn_rate 0.002383611 \n",
      "objective 630439.625 learn_rate 0.002502791 \n",
      "objective 630435.9375 learn_rate 0.002627931 \n",
      "objective 630433.5 learn_rate 0.002759327 \n",
      "objective 630432.4375 learn_rate 0.002897293 \n",
      "objective 630432.75 learn_rate 0.001448647 \n",
      "objective 630326 learn_rate 0.001521079 \n",
      "objective 630287.1875 learn_rate 0.001597133 \n",
      "objective 630266.25 learn_rate 0.001676989 \n",
      "objective 630252.4375 learn_rate 0.001760839 \n",
      "objective 630242.1875 learn_rate 0.001848881 \n",
      "objective 630234.0625 learn_rate 0.001941325 \n",
      "objective 630227.4375 learn_rate 0.002038391 \n",
      " training_time 00:01:33.3690710 RMSE 0.8840569 MAE 0.6956522 CBD 0.258929 new users: RMSE 0.98774 MAE 0.78786 CBD 0.26479 new items: RMSE 1.0083 MAE 0.87716 CBD 0.30666  new users and items: RMSE 1.07778 MAE 1 CBD 0.25439 testing_time 00:00:00.0350290\n",
      "prediction_time 00:00:00.1158980\n",
      "\n",
      "memory 21\n",
      "\u001b[?1l\u001b>\u001b[m"
     ]
    }
   ],
   "source": [
    "!command {cmd}"
   ]
  },
  {
   "cell_type": "code",
   "execution_count": 64,
   "metadata": {},
   "outputs": [
    {
     "data": {
      "text/html": [
       "<div>\n",
       "<style scoped>\n",
       "    .dataframe tbody tr th:only-of-type {\n",
       "        vertical-align: middle;\n",
       "    }\n",
       "\n",
       "    .dataframe tbody tr th {\n",
       "        vertical-align: top;\n",
       "    }\n",
       "\n",
       "    .dataframe thead th {\n",
       "        text-align: right;\n",
       "    }\n",
       "</style>\n",
       "<table border=\"1\" class=\"dataframe\">\n",
       "  <thead>\n",
       "    <tr style=\"text-align: right;\">\n",
       "      <th></th>\n",
       "      <th>method</th>\n",
       "      <th>mse</th>\n",
       "      <th>rmse</th>\n",
       "      <th>mae</th>\n",
       "      <th>r2_score</th>\n",
       "      <th>Cold Start Group</th>\n",
       "    </tr>\n",
       "  </thead>\n",
       "  <tbody>\n",
       "    <tr>\n",
       "      <th>0</th>\n",
       "      <td>biasedmatrixfactorization</td>\n",
       "      <td>0.762661</td>\n",
       "      <td>0.873305</td>\n",
       "      <td>0.686658</td>\n",
       "      <td>0.419384</td>\n",
       "      <td>No-cold-start</td>\n",
       "    </tr>\n",
       "    <tr>\n",
       "      <th>1</th>\n",
       "      <td>biasedmatrixfactorization</td>\n",
       "      <td>0.975590</td>\n",
       "      <td>0.987719</td>\n",
       "      <td>0.787813</td>\n",
       "      <td>0.184044</td>\n",
       "      <td>User-Cold-Start</td>\n",
       "    </tr>\n",
       "    <tr>\n",
       "      <th>2</th>\n",
       "      <td>biasedmatrixfactorization</td>\n",
       "      <td>1.004593</td>\n",
       "      <td>1.002294</td>\n",
       "      <td>0.866920</td>\n",
       "      <td>-0.205512</td>\n",
       "      <td>Item-Cold_start</td>\n",
       "    </tr>\n",
       "    <tr>\n",
       "      <th>3</th>\n",
       "      <td>biasedmatrixfactorization</td>\n",
       "      <td>1.161611</td>\n",
       "      <td>1.077781</td>\n",
       "      <td>1.000000</td>\n",
       "      <td>-0.161611</td>\n",
       "      <td>User-Item-cold-start</td>\n",
       "    </tr>\n",
       "    <tr>\n",
       "      <th>0</th>\n",
       "      <td>biasedmatrixfactorization</td>\n",
       "      <td>0.762661</td>\n",
       "      <td>0.873305</td>\n",
       "      <td>0.686658</td>\n",
       "      <td>0.419384</td>\n",
       "      <td>0</td>\n",
       "    </tr>\n",
       "    <tr>\n",
       "      <th>1</th>\n",
       "      <td>biasedmatrixfactorization</td>\n",
       "      <td>0.975705</td>\n",
       "      <td>0.987778</td>\n",
       "      <td>0.788064</td>\n",
       "      <td>0.184027</td>\n",
       "      <td>1</td>\n",
       "    </tr>\n",
       "    <tr>\n",
       "      <th>0</th>\n",
       "      <td>biasedmatrixfactorization</td>\n",
       "      <td>0.781557</td>\n",
       "      <td>0.884057</td>\n",
       "      <td>0.695652</td>\n",
       "      <td>0.402036</td>\n",
       "      <td>0</td>\n",
       "    </tr>\n",
       "  </tbody>\n",
       "</table>\n",
       "</div>"
      ],
      "text/plain": [
       "                      method       mse      rmse       mae  r2_score  \\\n",
       "0  biasedmatrixfactorization  0.762661  0.873305  0.686658  0.419384   \n",
       "1  biasedmatrixfactorization  0.975590  0.987719  0.787813  0.184044   \n",
       "2  biasedmatrixfactorization  1.004593  1.002294  0.866920 -0.205512   \n",
       "3  biasedmatrixfactorization  1.161611  1.077781  1.000000 -0.161611   \n",
       "0  biasedmatrixfactorization  0.762661  0.873305  0.686658  0.419384   \n",
       "1  biasedmatrixfactorization  0.975705  0.987778  0.788064  0.184027   \n",
       "0  biasedmatrixfactorization  0.781557  0.884057  0.695652  0.402036   \n",
       "\n",
       "       Cold Start Group  \n",
       "0         No-cold-start  \n",
       "1       User-Cold-Start  \n",
       "2       Item-Cold_start  \n",
       "3  User-Item-cold-start  \n",
       "0                     0  \n",
       "1                     1  \n",
       "0                     0  "
      ]
     },
     "execution_count": 64,
     "metadata": {},
     "output_type": "execute_result"
    }
   ],
   "source": [
    "predictions_biasedmatrixfactorization=pd.read_csv (f'{DATAPATH}/prediction_biasedmatrixfactorization.txt',sep='\\t',header=None).iloc[:,2]\n",
    "dfvalid['pred_biasedmatrixfactorization']=predictions_biasedmatrixfactorization\n",
    "\n",
    "result_biasedmatrixfactorization=pd.concat([score_by_group(dfvalid,'pred_biasedmatrixfactorization','cold_start_group','biasedmatrixfactorization'),score_by_group(dfvalid,'pred_biasedmatrixfactorization','cold_start_bucket','biasedmatrixfactorization'),\\\n",
    "score_by_group(dfvalid,'pred_biasedmatrixfactorization','flag_train','biasedmatrixfactorization')],axis=0)\n",
    "result_biasedmatrixfactorization"
   ]
  },
  {
   "cell_type": "code",
   "execution_count": 69,
   "metadata": {},
   "outputs": [],
   "source": [
    "results_concat=pd.concat ([result_biasedmatrixfactorization,\n",
    "result_svdplusplus,\n",
    "result_svd,\n",
    "result_userknncosine,\n",
    "result_userknnpearson,\n",
    "result_itemknnpearson,\n",
    "result_itemknncosine,\n",
    "result_itemavg,\n",
    "result_useravg,\n",
    "result_globalavg],axis=0)"
   ]
  },
  {
   "cell_type": "code",
   "execution_count": 70,
   "metadata": {},
   "outputs": [],
   "source": [
    "pickle.dump(results_concat,open(f'{DATAPATH}/diff_results.pkl','wb'))"
   ]
  },
  {
   "cell_type": "code",
   "execution_count": 2,
   "metadata": {},
   "outputs": [
    {
     "ename": "NameError",
     "evalue": "name 'results_concat' is not defined",
     "output_type": "error",
     "traceback": [
      "\u001b[0;31m---------------------------------------------------------------------------\u001b[0m",
      "\u001b[0;31mNameError\u001b[0m                                 Traceback (most recent call last)",
      "\u001b[0;32m<ipython-input-2-eb4f6f6d0c0e>\u001b[0m in \u001b[0;36m<module>\u001b[0;34m\u001b[0m\n\u001b[0;32m----> 1\u001b[0;31m \u001b[0mresults_concat\u001b[0m\u001b[0;34m[\u001b[0m\u001b[0;34m:\u001b[0m\u001b[0;36m25\u001b[0m\u001b[0;34m]\u001b[0m\u001b[0;34m\u001b[0m\u001b[0;34m\u001b[0m\u001b[0m\n\u001b[0m",
      "\u001b[0;31mNameError\u001b[0m: name 'results_concat' is not defined"
     ]
    }
   ],
   "source": [
    "results_concat[:25]"
   ]
  },
  {
   "cell_type": "code",
   "execution_count": 72,
   "metadata": {},
   "outputs": [],
   "source": [
    "pickle.dump([dftrain,dfvalid,results_concat],open(f'{DATAPATH}/df_side_cold_runother.pkl','wb'))"
   ]
  },
  {
   "cell_type": "code",
   "execution_count": 1,
   "metadata": {},
   "outputs": [
    {
     "ename": "NameError",
     "evalue": "name 'results_concat' is not defined",
     "output_type": "error",
     "traceback": [
      "\u001b[0;31m---------------------------------------------------------------------------\u001b[0m",
      "\u001b[0;31mNameError\u001b[0m                                 Traceback (most recent call last)",
      "\u001b[0;32m<ipython-input-1-11f5b9dc07ec>\u001b[0m in \u001b[0;36m<module>\u001b[0;34m\u001b[0m\n\u001b[0;32m----> 1\u001b[0;31m \u001b[0mresults_concat\u001b[0m\u001b[0;34m.\u001b[0m\u001b[0msort_index\u001b[0m\u001b[0;34m(\u001b[0m\u001b[0mby\u001b[0m\u001b[0;34m=\u001b[0m\u001b[0;34m'rmse'\u001b[0m\u001b[0;34m)\u001b[0m\u001b[0;34m\u001b[0m\u001b[0;34m\u001b[0m\u001b[0m\n\u001b[0m",
      "\u001b[0;31mNameError\u001b[0m: name 'results_concat' is not defined"
     ]
    }
   ],
   "source": [
    "results_concat.sort_index(by='rmse')\n"
   ]
  },
  {
   "cell_type": "code",
   "execution_count": null,
   "metadata": {},
   "outputs": [],
   "source": []
  },
  {
   "cell_type": "code",
   "execution_count": null,
   "metadata": {},
   "outputs": [],
   "source": []
  }
 ],
 "metadata": {
  "kernelspec": {
   "display_name": "Python 3",
   "language": "python",
   "name": "python3"
  },
  "language_info": {
   "codemirror_mode": {
    "name": "ipython",
    "version": 3
   },
   "file_extension": ".py",
   "mimetype": "text/x-python",
   "name": "python",
   "nbconvert_exporter": "python",
   "pygments_lexer": "ipython3",
   "version": "3.7.3"
  }
 },
 "nbformat": 4,
 "nbformat_minor": 2
}
