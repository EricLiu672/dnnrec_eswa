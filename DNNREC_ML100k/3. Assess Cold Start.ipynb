{
 "cells": [
  {
   "cell_type": "code",
   "execution_count": 1,
   "metadata": {},
   "outputs": [],
   "source": [
    "import pickle"
   ]
  },
  {
   "cell_type": "code",
   "execution_count": 2,
   "metadata": {},
   "outputs": [],
   "source": [
    "PATH='/home/kirana/Documents/phd/experiment1_new/DNNREC_ML100k'\n",
    "DATAPATH='/home/kirana/Documents/final_dissertation_final/experiments/datasets/ml-latest-small'"
   ]
  },
  {
   "cell_type": "code",
   "execution_count": 3,
   "metadata": {},
   "outputs": [],
   "source": [
    "import pandas as pd\n",
    "import numpy as np\n",
    "import matplotlib.pyplot as plt\n",
    "import scipy as sp\n",
    "import sklearn as sklearn\n",
    "import datetime as dt \n",
    "import seaborn as sns\n",
    "import torch as torch"
   ]
  },
  {
   "cell_type": "code",
   "execution_count": 4,
   "metadata": {},
   "outputs": [],
   "source": [
    "[dftrain,dfvalid]=pickle.load(open(f'{DATAPATH}/df_side.pkl','rb'))"
   ]
  },
  {
   "cell_type": "code",
   "execution_count": 5,
   "metadata": {},
   "outputs": [],
   "source": [
    "trainusers=set(dftrain['userId'].unique())\n",
    "validusers=set(dfvalid['userId'].unique())\n",
    "trainitems=set(dftrain['itemId'].unique())\n",
    "validitems=set(dfvalid['itemId'].unique())"
   ]
  },
  {
   "cell_type": "code",
   "execution_count": 6,
   "metadata": {},
   "outputs": [],
   "source": [
    "commonusers=trainusers.intersection(validusers)\n",
    "commonitems=trainitems.intersection(validitems)"
   ]
  },
  {
   "cell_type": "code",
   "execution_count": 7,
   "metadata": {},
   "outputs": [],
   "source": [
    "dfvalid['cold_start_user']=~dfvalid['userId'].isin(commonusers)\n",
    "dfvalid['cold_start_item']=~dfvalid['itemId'].isin(commonitems)"
   ]
  },
  {
   "cell_type": "code",
   "execution_count": 8,
   "metadata": {},
   "outputs": [
    {
     "name": "stdout",
     "output_type": "stream",
     "text": [
      "cold_start_item  False  True \n",
      "cold_start_user              \n",
      "False             9457    755\n",
      "True                81      0\n",
      "cold_start_item     False     True \n",
      "cold_start_user                    \n",
      "False            0.918780  0.073351\n",
      "True             0.007869  0.000000\n"
     ]
    }
   ],
   "source": [
    "print (pd.crosstab(dfvalid['cold_start_user'],dfvalid['cold_start_item']))\n",
    "print (pd.crosstab(dfvalid['cold_start_user'],dfvalid['cold_start_item'])/dfvalid.shape[0])   "
   ]
  },
  {
   "cell_type": "code",
   "execution_count": 9,
   "metadata": {},
   "outputs": [
    {
     "data": {
      "text/plain": [
       "414    2427\n",
       "599    2229\n",
       "474    1896\n",
       "448    1677\n",
       "274    1210\n",
       "610    1171\n",
       "68     1133\n",
       "380    1095\n",
       "606    1003\n",
       "288     949\n",
       "249     940\n",
       "387     923\n",
       "182     878\n",
       "307     877\n",
       "603     848\n",
       "298     844\n",
       "177     813\n",
       "318     790\n",
       "232     775\n",
       "480     751\n",
       "608     747\n",
       "600     686\n",
       "483     654\n",
       "590     654\n",
       "105     649\n",
       "111     646\n",
       "19      632\n",
       "305     608\n",
       "489     582\n",
       "438     571\n",
       "       ... \n",
       "478      19\n",
       "507      18\n",
       "547      18\n",
       "598      18\n",
       "549      18\n",
       "49       18\n",
       "26       18\n",
       "281      18\n",
       "87       18\n",
       "364      18\n",
       "245      18\n",
       "324      18\n",
       "293      18\n",
       "37       18\n",
       "439      18\n",
       "157      18\n",
       "576      17\n",
       "320      17\n",
       "431      17\n",
       "207      17\n",
       "595      17\n",
       "189      17\n",
       "569      17\n",
       "53       17\n",
       "147      17\n",
       "442      17\n",
       "406      17\n",
       "194      17\n",
       "278      17\n",
       "257      17\n",
       "Name: userId, Length: 607, dtype: int64"
      ]
     },
     "execution_count": 9,
     "metadata": {},
     "output_type": "execute_result"
    }
   ],
   "source": [
    "dftrain['userId'].value_counts()"
   ]
  },
  {
   "cell_type": "code",
   "execution_count": 10,
   "metadata": {},
   "outputs": [],
   "source": [
    "dfvalid['cold_start_group']=np.where(dfvalid['cold_start_user'] & dfvalid['cold_start_item'],'User-Item-cold-start',\n",
    "                                    np.where((~dfvalid['cold_start_user']) & (~dfvalid['cold_start_item']), 'No-cold-start',\\\n",
    "                                            np.where(dfvalid['cold_start_user'], 'User-Cold-Start', 'Item-Cold_start')))    \n"
   ]
  },
  {
   "cell_type": "code",
   "execution_count": 11,
   "metadata": {},
   "outputs": [],
   "source": [
    "dfvalid['cold_start_bucket']=np.where(dfvalid['cold_start_group']=='No-cold-start',0,1)"
   ]
  },
  {
   "cell_type": "code",
   "execution_count": 12,
   "metadata": {},
   "outputs": [],
   "source": [
    "pickle.dump([dftrain,dfvalid],open(f'{DATAPATH}/df_side_cold.pkl','wb'))"
   ]
  },
  {
   "cell_type": "code",
   "execution_count": null,
   "metadata": {},
   "outputs": [],
   "source": []
  },
  {
   "cell_type": "code",
   "execution_count": null,
   "metadata": {},
   "outputs": [],
   "source": []
  },
  {
   "cell_type": "code",
   "execution_count": null,
   "metadata": {},
   "outputs": [],
   "source": []
  },
  {
   "cell_type": "code",
   "execution_count": null,
   "metadata": {},
   "outputs": [],
   "source": []
  },
  {
   "cell_type": "code",
   "execution_count": null,
   "metadata": {},
   "outputs": [],
   "source": []
  },
  {
   "cell_type": "code",
   "execution_count": null,
   "metadata": {},
   "outputs": [],
   "source": []
  },
  {
   "cell_type": "code",
   "execution_count": null,
   "metadata": {},
   "outputs": [],
   "source": []
  },
  {
   "cell_type": "code",
   "execution_count": null,
   "metadata": {},
   "outputs": [],
   "source": []
  },
  {
   "cell_type": "code",
   "execution_count": null,
   "metadata": {},
   "outputs": [],
   "source": []
  },
  {
   "cell_type": "code",
   "execution_count": null,
   "metadata": {},
   "outputs": [],
   "source": []
  },
  {
   "cell_type": "code",
   "execution_count": null,
   "metadata": {},
   "outputs": [],
   "source": []
  },
  {
   "cell_type": "code",
   "execution_count": null,
   "metadata": {},
   "outputs": [],
   "source": []
  }
 ],
 "metadata": {
  "kernelspec": {
   "display_name": "Python 3",
   "language": "python",
   "name": "python3"
  },
  "language_info": {
   "codemirror_mode": {
    "name": "ipython",
    "version": 3
   },
   "file_extension": ".py",
   "mimetype": "text/x-python",
   "name": "python",
   "nbconvert_exporter": "python",
   "pygments_lexer": "ipython3",
   "version": "3.7.3"
  }
 },
 "nbformat": 4,
 "nbformat_minor": 2
}
