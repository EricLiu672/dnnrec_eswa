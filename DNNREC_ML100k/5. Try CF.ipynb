{
 "cells": [
  {
   "cell_type": "code",
   "execution_count": 1,
   "metadata": {},
   "outputs": [],
   "source": [
    "PATH='/home/kirana/Documents/phd/experiment1_new/DNNREC_ML100k'\n",
    "DATAPATH='/home/kirana/Documents/final_dissertation_final/experiments/datasets/ml-latest-small'"
   ]
  },
  {
   "cell_type": "code",
   "execution_count": 2,
   "metadata": {},
   "outputs": [],
   "source": [
    "import pandas as pd\n",
    "import numpy as np\n",
    "import matplotlib.pyplot as plt\n",
    "import sklearn\n",
    "import os\n",
    "import pickle\n",
    "import torch\n",
    "from torch.utils.data import Dataset, DataLoader\n",
    "from torch import nn\n",
    "import pickle\n",
    "from sklearn import metrics"
   ]
  },
  {
   "cell_type": "code",
   "execution_count": 3,
   "metadata": {},
   "outputs": [],
   "source": [
    "[dftrain,dfvalid,results_concat]=pickle.load(open(f'{DATAPATH}/df_side_cold_runother.pkl','rb'))"
   ]
  },
  {
   "cell_type": "code",
   "execution_count": 4,
   "metadata": {},
   "outputs": [],
   "source": [
    "df=pd.concat([dftrain,dfvalid[dftrain.columns]],axis=0)"
   ]
  },
  {
   "cell_type": "code",
   "execution_count": 5,
   "metadata": {},
   "outputs": [],
   "source": [
    "user_to_idx={j:i+1 for i, j in enumerate(df['userId'].unique())}\n",
    "item_to_idx={j:i+1 for i,j in enumerate(df['itemId'].unique())}\n",
    "idx_to_user={i+1:j for i, j in enumerate(df['userId'].unique())}\n",
    "idx_to_item={i+1:j for i,j in enumerate(df['itemId'].unique())}"
   ]
  },
  {
   "cell_type": "code",
   "execution_count": 6,
   "metadata": {},
   "outputs": [],
   "source": [
    "dftrain['user_idx']=[user_to_idx[i] for i in dftrain['userId']]\n",
    "dftrain['item_idx']=[item_to_idx[i] for i in dftrain['itemId']]"
   ]
  },
  {
   "cell_type": "code",
   "execution_count": 7,
   "metadata": {},
   "outputs": [],
   "source": [
    "dfvalid['user_idx']=[user_to_idx[i] for i in dfvalid['userId']]\n",
    "dfvalid['item_idx']=[item_to_idx[i] for i in dfvalid['itemId']]"
   ]
  },
  {
   "cell_type": "code",
   "execution_count": 8,
   "metadata": {},
   "outputs": [],
   "source": [
    "pickle.dump([df, dftrain,dfvalid,idx_to_user,idx_to_item,item_to_idx,user_to_idx],open(f'{DATAPATH}/reads.pkl','wb'))"
   ]
  },
  {
   "cell_type": "markdown",
   "metadata": {},
   "source": [
    "### Dataset and DataLoader"
   ]
  },
  {
   "cell_type": "code",
   "execution_count": 9,
   "metadata": {},
   "outputs": [],
   "source": [
    "class cfdata (torch.utils.data.dataset.Dataset):\n",
    "    def __init__(self,dfX,dfY):\n",
    "        self.dfX,self.dfY=dfX,dfY\n",
    "        \n",
    "    def __len__ (self):\n",
    "        return self.dfX.shape[0]\n",
    "    \n",
    "    def __getitem__ (self, idx):\n",
    "        return torch.LongTensor(self.dfX.iloc[idx].values),torch.FloatTensor([self.dfY.values[idx]])"
   ]
  },
  {
   "cell_type": "code",
   "execution_count": 10,
   "metadata": {},
   "outputs": [],
   "source": [
    "dstrain=cfdata(dftrain[['user_idx','item_idx']],dftrain['rating'])\n",
    "dsvalid=cfdata(dfvalid[['user_idx','item_idx']],dfvalid['rating'])"
   ]
  },
  {
   "cell_type": "code",
   "execution_count": 11,
   "metadata": {},
   "outputs": [
    {
     "data": {
      "text/plain": [
       "(90543, 391)"
      ]
     },
     "execution_count": 11,
     "metadata": {},
     "output_type": "execute_result"
    }
   ],
   "source": [
    "dftrain.shape"
   ]
  },
  {
   "cell_type": "code",
   "execution_count": 60,
   "metadata": {},
   "outputs": [],
   "source": [
    "bs=64"
   ]
  },
  {
   "cell_type": "code",
   "execution_count": 61,
   "metadata": {},
   "outputs": [],
   "source": [
    "dltrain=DataLoader(dstrain,bs,True)"
   ]
  },
  {
   "cell_type": "code",
   "execution_count": 62,
   "metadata": {},
   "outputs": [],
   "source": [
    "dlvalid=DataLoader(dsvalid,bs,False)"
   ]
  },
  {
   "cell_type": "code",
   "execution_count": 63,
   "metadata": {},
   "outputs": [
    {
     "data": {
      "text/plain": [
       "(610, 9724)"
      ]
     },
     "execution_count": 63,
     "metadata": {},
     "output_type": "execute_result"
    }
   ],
   "source": [
    "len(user_to_idx),len(item_to_idx)"
   ]
  },
  {
   "cell_type": "markdown",
   "metadata": {},
   "source": [
    "## Model Architecture"
   ]
  },
  {
   "cell_type": "code",
   "execution_count": 45,
   "metadata": {},
   "outputs": [],
   "source": [
    "n_users=len(user_to_idx)\n",
    "n_items=len(item_to_idx)\n",
    "n_emb_user=25\n",
    "n_emb_item=25\n",
    "min_rating=min(dftrain['rating'])\n",
    "max_rating=max(dftrain['rating'])\n",
    "dropout_e=0.05\n",
    "hidden=[75,15]\n",
    "dropouts=[0.2,0.2]"
   ]
  },
  {
   "cell_type": "code",
   "execution_count": 46,
   "metadata": {},
   "outputs": [
    {
     "data": {
      "text/plain": [
       "610"
      ]
     },
     "execution_count": 46,
     "metadata": {},
     "output_type": "execute_result"
    }
   ],
   "source": [
    "n_users"
   ]
  },
  {
   "cell_type": "code",
   "execution_count": 47,
   "metadata": {},
   "outputs": [],
   "source": [
    "class cf(nn.Module):    \n",
    "    def __init__(self,n_users,n_emb_user,n_emb_item,n_items,min_rating,max_rating,dropout_e=0.01):\n",
    "        super().__init__()\n",
    "        self.n_users,self.n_emb_user,self.n_emb_item,self.n_items,self.min_rating,self.max_rating=\\\n",
    "                    n_users,n_emb_user,n_emb_item,n_items,min_rating,max_rating\n",
    "        self.dropout_e,self.hidden,self.dropouts=dropout_e,hidden,dropouts\n",
    "        self.create_architecture()\n",
    "        self.init_parameters()\n",
    "        self.criterion=nn.MSELoss()\n",
    "        \n",
    "        \n",
    "    def create_architecture(self):\n",
    "        self.emb_user=nn.Embedding(self.n_users+1,self.n_emb_user)\n",
    "        self.emb_item=nn.Embedding(self.n_items+1,self.n_emb_item)\n",
    "        self.emb_dropout=nn.Dropout(self.dropout_e)\n",
    "        self.ub=nn.Embedding(self.n_users+1,1)\n",
    "        self.ib=nn.Embedding(self.n_items+1,1)\n",
    "\n",
    "        self.sigmoid=nn.Sigmoid()\n",
    "        \n",
    "        \n",
    "    def init_parameters(self):\n",
    "        nn.init.kaiming_normal_(self.emb_user.weight.data)\n",
    "        nn.init.kaiming_normal_(self.emb_item.weight.data)\n",
    "        nn.init.kaiming_normal_(self.ub.weight.data)\n",
    "        nn.init.kaiming_normal_(self.ib.weight.data)\n",
    "\n",
    "       \n",
    "    def forward (self,Xb,Yb):               \n",
    "        users=self.emb_dropout(self.emb_user(Xb[:,0]))\n",
    "        items=self.emb_dropout(self.emb_item(Xb[:,1]))\n",
    "        users_bias=self.emb_dropout(self.ub(Xb[:,0]))\n",
    "        items_bias=self.emb_dropout(self.ib(Xb[:,1]))\n",
    "\n",
    "        out=(users*items).sum(1)+users_bias.squeeze()+items_bias.squeeze()\n",
    "        out=self.sigmoid(out)\n",
    "        preds=out*(self.max_rating-self.min_rating)+self.min_rating\n",
    "        preds=preds.view(-1,1)\n",
    "        loss=self.criterion(preds,Yb)\n",
    "        return preds,loss"
   ]
  },
  {
   "cell_type": "code",
   "execution_count": 48,
   "metadata": {},
   "outputs": [
    {
     "data": {
      "text/plain": [
       "610"
      ]
     },
     "execution_count": 48,
     "metadata": {},
     "output_type": "execute_result"
    }
   ],
   "source": [
    "n_users"
   ]
  },
  {
   "cell_type": "code",
   "execution_count": 49,
   "metadata": {},
   "outputs": [],
   "source": [
    "cfobj=cf(n_users,n_emb_user,n_emb_item,n_items,min_rating,max_rating,dropout_e)"
   ]
  },
  {
   "cell_type": "code",
   "execution_count": 50,
   "metadata": {},
   "outputs": [
    {
     "data": {
      "text/plain": [
       "cf(\n",
       "  (emb_user): Embedding(611, 25)\n",
       "  (emb_item): Embedding(9725, 25)\n",
       "  (emb_dropout): Dropout(p=0.05)\n",
       "  (ub): Embedding(611, 1)\n",
       "  (ib): Embedding(9725, 1)\n",
       "  (sigmoid): Sigmoid()\n",
       "  (criterion): MSELoss()\n",
       ")"
      ]
     },
     "execution_count": 50,
     "metadata": {},
     "output_type": "execute_result"
    }
   ],
   "source": [
    "cfobj"
   ]
  },
  {
   "cell_type": "code",
   "execution_count": 51,
   "metadata": {},
   "outputs": [],
   "source": [
    "for Xb, Yb in dltrain:\n",
    "    break"
   ]
  },
  {
   "cell_type": "code",
   "execution_count": 52,
   "metadata": {},
   "outputs": [
    {
     "data": {
      "text/plain": [
       "(torch.Size([256, 2]), torch.Size([256, 1]))"
      ]
     },
     "execution_count": 52,
     "metadata": {},
     "output_type": "execute_result"
    }
   ],
   "source": [
    "Xb.shape, Yb.shape"
   ]
  },
  {
   "cell_type": "code",
   "execution_count": 53,
   "metadata": {},
   "outputs": [
    {
     "data": {
      "text/plain": [
       "(tensor([[4.7234],\n",
       "         [4.1031],\n",
       "         [0.5102],\n",
       "         [0.7129],\n",
       "         [3.2753],\n",
       "         [3.0833],\n",
       "         [2.8888],\n",
       "         [4.5506],\n",
       "         [3.7309],\n",
       "         [3.8481],\n",
       "         [0.6190],\n",
       "         [2.2768],\n",
       "         [1.2331],\n",
       "         [2.5048],\n",
       "         [3.4566],\n",
       "         [2.9600],\n",
       "         [4.6897],\n",
       "         [3.1376],\n",
       "         [1.4150],\n",
       "         [3.4412],\n",
       "         [3.9962],\n",
       "         [1.5041],\n",
       "         [2.0266],\n",
       "         [4.8518],\n",
       "         [4.7654],\n",
       "         [2.9168],\n",
       "         [2.7039],\n",
       "         [1.0559],\n",
       "         [2.6096],\n",
       "         [4.6234],\n",
       "         [1.0057],\n",
       "         [2.9834],\n",
       "         [2.2637],\n",
       "         [3.7657],\n",
       "         [1.1579],\n",
       "         [4.0754],\n",
       "         [2.3499],\n",
       "         [4.5901],\n",
       "         [3.2683],\n",
       "         [3.9577],\n",
       "         [2.8132],\n",
       "         [1.3078],\n",
       "         [4.2900],\n",
       "         [0.9950],\n",
       "         [4.9552],\n",
       "         [4.8641],\n",
       "         [2.7675],\n",
       "         [4.9073],\n",
       "         [2.7147],\n",
       "         [4.2697],\n",
       "         [1.3207],\n",
       "         [2.7327],\n",
       "         [4.3590],\n",
       "         [2.4550],\n",
       "         [0.9377],\n",
       "         [4.8786],\n",
       "         [2.1432],\n",
       "         [3.9018],\n",
       "         [2.2971],\n",
       "         [1.9204],\n",
       "         [4.8707],\n",
       "         [1.2595],\n",
       "         [0.6486],\n",
       "         [0.8884],\n",
       "         [0.9343],\n",
       "         [3.6588],\n",
       "         [2.7408],\n",
       "         [3.2356],\n",
       "         [3.9525],\n",
       "         [2.2678],\n",
       "         [1.5043],\n",
       "         [1.3717],\n",
       "         [2.3587],\n",
       "         [4.4470],\n",
       "         [2.6445],\n",
       "         [4.0211],\n",
       "         [1.3608],\n",
       "         [4.2328],\n",
       "         [1.2160],\n",
       "         [4.3221],\n",
       "         [3.8427],\n",
       "         [2.9010],\n",
       "         [4.4728],\n",
       "         [3.9190],\n",
       "         [3.9409],\n",
       "         [2.1970],\n",
       "         [4.8201],\n",
       "         [1.0131],\n",
       "         [2.2178],\n",
       "         [3.9389],\n",
       "         [3.9960],\n",
       "         [4.7300],\n",
       "         [2.8543],\n",
       "         [3.3413],\n",
       "         [2.9371],\n",
       "         [3.5046],\n",
       "         [0.6250],\n",
       "         [0.8618],\n",
       "         [0.7519],\n",
       "         [4.4656],\n",
       "         [2.3047],\n",
       "         [3.0668],\n",
       "         [4.6119],\n",
       "         [4.1793],\n",
       "         [4.0094],\n",
       "         [4.6411],\n",
       "         [3.9934],\n",
       "         [2.1772],\n",
       "         [3.5704],\n",
       "         [2.5911],\n",
       "         [3.9971],\n",
       "         [1.9778],\n",
       "         [4.8316],\n",
       "         [4.3464],\n",
       "         [2.5674],\n",
       "         [4.0398],\n",
       "         [3.7781],\n",
       "         [4.6334],\n",
       "         [4.8959],\n",
       "         [4.9616],\n",
       "         [3.8032],\n",
       "         [1.2632],\n",
       "         [0.5568],\n",
       "         [0.5317],\n",
       "         [0.8824],\n",
       "         [2.3653],\n",
       "         [0.6375],\n",
       "         [2.2318],\n",
       "         [0.9075],\n",
       "         [4.8618],\n",
       "         [1.2536],\n",
       "         [3.8366],\n",
       "         [4.7460],\n",
       "         [4.4085],\n",
       "         [0.8170],\n",
       "         [1.3140],\n",
       "         [0.8549],\n",
       "         [2.9603],\n",
       "         [4.5355],\n",
       "         [3.1777],\n",
       "         [2.8380],\n",
       "         [2.3013],\n",
       "         [4.9710],\n",
       "         [4.4592],\n",
       "         [1.7457],\n",
       "         [1.9622],\n",
       "         [1.5157],\n",
       "         [4.5187],\n",
       "         [3.6696],\n",
       "         [1.1851],\n",
       "         [2.2291],\n",
       "         [0.6836],\n",
       "         [4.3462],\n",
       "         [4.0987],\n",
       "         [1.4320],\n",
       "         [2.6397],\n",
       "         [3.0605],\n",
       "         [0.9622],\n",
       "         [3.1464],\n",
       "         [1.7678],\n",
       "         [1.0718],\n",
       "         [0.8929],\n",
       "         [2.3849],\n",
       "         [1.2695],\n",
       "         [0.6408],\n",
       "         [2.4494],\n",
       "         [1.4856],\n",
       "         [0.8596],\n",
       "         [4.7086],\n",
       "         [1.5142],\n",
       "         [0.5784],\n",
       "         [2.9850],\n",
       "         [1.3646],\n",
       "         [1.3170],\n",
       "         [3.5972],\n",
       "         [2.4245],\n",
       "         [2.5223],\n",
       "         [4.8455],\n",
       "         [0.6403],\n",
       "         [1.5939],\n",
       "         [0.7713],\n",
       "         [1.7933],\n",
       "         [1.1385],\n",
       "         [3.8194],\n",
       "         [4.5257],\n",
       "         [1.3102],\n",
       "         [2.0054],\n",
       "         [1.9297],\n",
       "         [4.8556],\n",
       "         [1.7491],\n",
       "         [2.3793],\n",
       "         [2.0204],\n",
       "         [0.6943],\n",
       "         [3.3709],\n",
       "         [1.3017],\n",
       "         [2.2637],\n",
       "         [3.4429],\n",
       "         [1.8199],\n",
       "         [0.9453],\n",
       "         [1.7138],\n",
       "         [2.4586],\n",
       "         [1.4693],\n",
       "         [2.8848],\n",
       "         [4.0173],\n",
       "         [0.6160],\n",
       "         [0.8402],\n",
       "         [3.3608],\n",
       "         [4.6042],\n",
       "         [2.1515],\n",
       "         [4.7657],\n",
       "         [2.6239],\n",
       "         [2.3249],\n",
       "         [0.8302],\n",
       "         [4.6825],\n",
       "         [4.6207],\n",
       "         [0.9641],\n",
       "         [1.1359],\n",
       "         [3.4047],\n",
       "         [4.3609],\n",
       "         [1.6769],\n",
       "         [2.7981],\n",
       "         [2.4061],\n",
       "         [0.7182],\n",
       "         [3.1809],\n",
       "         [3.4674],\n",
       "         [1.5009],\n",
       "         [3.1034],\n",
       "         [4.9778],\n",
       "         [0.9790],\n",
       "         [1.7776],\n",
       "         [0.5795],\n",
       "         [0.6315],\n",
       "         [4.5057],\n",
       "         [0.8142],\n",
       "         [2.4218],\n",
       "         [2.5958],\n",
       "         [2.4313],\n",
       "         [3.3069],\n",
       "         [4.8707],\n",
       "         [3.8478],\n",
       "         [4.2907],\n",
       "         [1.4768],\n",
       "         [1.5009],\n",
       "         [2.6738],\n",
       "         [2.9388],\n",
       "         [0.9287],\n",
       "         [1.2104],\n",
       "         [1.0614],\n",
       "         [4.4023],\n",
       "         [0.5145],\n",
       "         [1.6122],\n",
       "         [2.7712],\n",
       "         [0.6760],\n",
       "         [3.4165],\n",
       "         [4.5278],\n",
       "         [4.1986]], grad_fn=<ViewBackward>),\n",
       " tensor(3.5518, grad_fn=<MseLossBackward>))"
      ]
     },
     "execution_count": 53,
     "metadata": {},
     "output_type": "execute_result"
    }
   ],
   "source": [
    "cfobj.forward(Xb,Yb)"
   ]
  },
  {
   "cell_type": "markdown",
   "metadata": {},
   "source": [
    "## Learner"
   ]
  },
  {
   "cell_type": "code",
   "execution_count": 54,
   "metadata": {},
   "outputs": [],
   "source": [
    "class Learner():\n",
    "    def __init__(self,model,optimizer,metric_fn,device,bptt=12,print_every=5,clip_val=None,\\\n",
    "                 cycle_mult=0,lr_decay=0.7,wd_mult=1.1,start_lr=2e-2, end_lr=5e-4,error_type=\"mse\"):\n",
    "        self.model,self.optimizer,self.metric_fn,self.device,self.print_every,self.bptt,self.losses,self.clip_val=\\\n",
    "            model,optimizer,metric_fn,device,print_every,bptt,[],clip_val\n",
    "        self.n_epochs=1\n",
    "        self.cycle_mult,self.lr_decay=cycle_mult,lr_decay\n",
    "        self.wd_mult=wd_mult\n",
    "        for param_group in self.optimizer.param_groups:\n",
    "            self.start_lr=param_group['lr']\n",
    "            self.start_wd=param_group['weight_decay']\n",
    "        self.wd=self.start_wd\n",
    "        self.lr=self.start_lr\n",
    "        self.end_lr=end_lr\n",
    "        self.n_epoch=0\n",
    "        self.lrs=[1e-2,5e-3,1e-4,5e-4]\n",
    "        self.preds,self.preds_valid,self.trainY,self.actual=[],[],[],[]\n",
    "        self.ratio=self.end_lr/self.start_lr\n",
    "        self.num_steps=self.cycle_mult\n",
    "        self.reset_cycle=self.cycle_mult\n",
    "        self.error_type=error_type\n",
    "        self.scores=[]\n",
    "        self.generate_scores=False\n",
    "        \n",
    "    def fit (self,Xb,Yb,mode_train=True):\n",
    "        if mode_train:\n",
    "            self.model.train()\n",
    "        else:\n",
    "            self.model.eval()\n",
    "        \n",
    "        #import pdb\n",
    "        #pdb.set_trace()\n",
    "        preds,loss=self.model(Xb,Yb)\n",
    "\n",
    "     \n",
    "        if mode_train:\n",
    "            if 1==0:\n",
    "                lr =self.lrs[torch.randint(0,4,(1,))]\n",
    "                for param_group in self.optimizer.param_groups:\n",
    "                    param_group['lr']=lr\n",
    "            \n",
    "            self.optimizer.zero_grad()\n",
    "            loss.backward()\n",
    "            self.optimizer.step()\n",
    "        myloss=loss.item()\n",
    "    \n",
    "        \n",
    "        with torch.no_grad():\n",
    "            if self.error_type == \"mse\":\n",
    "                acc=nn.L1Loss() (preds,Yb)\n",
    "                myrmse=np.sqrt(myloss)\n",
    "            else:\n",
    "                acc=nn.MSELoss() (preds,Yb)\n",
    "                myrmse=np.sqrt(acc.item())\n",
    "            acc=acc.item()\n",
    "                 \n",
    "        if mode_train==False:\n",
    "            if self.generate_scores:\n",
    "                self.scores.append(preds.detach().cpu().numpy().flatten())\n",
    "        del preds\n",
    "        del loss\n",
    "        \n",
    "        if self.clip_val is not None:\n",
    "            torch.nn.utils.clip_grad_norm_(self.model.parameters(), self.clip_val)\n",
    "        \n",
    "        return myloss, acc, myrmse\n",
    "    \n",
    "    def lr_find (self,start_lr,end_lr,iterator,n_batch):\n",
    "        losses,lrs=[],[]\n",
    "        ratio=end_lr/start_lr\n",
    "        num_steps=n_batch\n",
    "        lr=start_lr\n",
    "        for i in range(num_steps):            \n",
    "            lr=lr*(end_lr/start_lr)**(1/num_steps)\n",
    "            lrs.append(lr)\n",
    "        self.lrs=lrs\n",
    "        self.run_epoch(iterator,mode_train=True,lrs=lrs)\n",
    "    \n",
    "    def run_epoch(self,iterator,mode_train,lrs=None):\n",
    "        epoch_loss,epoch_acc,i,k=0,0,0,0\n",
    "        epoch_rmse=0\n",
    "\n",
    "        for Xb,Yb in iterator:\n",
    "            Xb=Xb.to(self.device)\n",
    "            Yb=Yb.to(self.device)\n",
    "            \n",
    "            if lrs is not None:\n",
    "                lr=lrs[k]\n",
    "                for param_group in self.optimizer.param_groups:\n",
    "                    param_group['lr']=lr \n",
    "            \n",
    "            loss,acc,myrmse=self.fit(Xb,Yb,mode_train)\n",
    "            \n",
    "            if lrs is not None:\n",
    "                self.losses.append(loss)\n",
    "\n",
    "            epoch_loss+=loss\n",
    "            epoch_acc+=acc\n",
    "            epoch_rmse+=myrmse\n",
    "            \n",
    "            k=k+1\n",
    "            if k%self.print_every == 0:\n",
    "                if k:\n",
    "                    print (f'Batch:{k} {epoch_loss/(k)}  ')  \n",
    "                    torch.cuda.empty_cache()\n",
    "\n",
    "        epoch_loss=epoch_loss/len(iterator)\n",
    "        epoch_acc=epoch_acc/len(iterator)\n",
    "        epoch_rmse=epoch_rmse/len(iterator)\n",
    "            \n",
    "        return epoch_loss,epoch_acc,epoch_rmse\n",
    "    \n",
    "    def plot_lrs(self, n_roll=1,ylim=None,xlim=None):\n",
    "        import seaborn as sns\n",
    "        ax=sns.lineplot(x=self.lrs,y=pd.Series(self.losses).rolling(n_roll).mean())\n",
    "        ax.set_xscale('log')\n",
    "        ax.set_ylabel('Loss')\n",
    "        ax.set_xlabel('Learning Rate')\n",
    "        if ylim is not None:\n",
    "            plt.ylim(ylim)\n",
    "        if xlim is not None:\n",
    "            plt.xlim(xlim)\n",
    "\n",
    "     \n",
    "    def run_epochs(self,dltrain,dlvalid,n_epochs=1):              \n",
    "        for epoch in range(n_epochs):                \n",
    "            loss,acc,rmse=self.run_epoch(dltrain,True)\n",
    "\n",
    "            lossv,accv,rmsev=self.run_epoch(dlvalid,mode_train=False)\n",
    "           \n",
    "            if self.error_type==\"mse\":\n",
    "                loss_mse=loss\n",
    "                loss_rmse=rmse\n",
    "                loss_mae=acc\n",
    "                lossv_mse=lossv\n",
    "                lossv_rmse=rmsev\n",
    "                lossv_mae=accv\n",
    "                \n",
    "            else:\n",
    "                loss_mse=acc\n",
    "                loss_rmse=rmse\n",
    "                loss_mae=loss\n",
    "                lossv_mse=accv\n",
    "                lossv_rmse=rmsev\n",
    "                lossv_mae=lossv\n",
    "            \n",
    "            print (f'Epoch:{epoch} Learning rate {self.lr} Weight Decay {self.wd} Train Loss:{loss} \\\n",
    "                Valid Loss:{lossv} Train RMSE:{loss_rmse} Valid RMSE:{lossv_rmse} Train MSE:{loss_mse} Valid MSE:{lossv_mse} \\\n",
    "                Train MAE:{loss_mae} Valid MAE:{lossv_mae}')\n",
    "\n",
    "              \n",
    "         \n",
    "     \n",
    "            if self.cycle_mult:\n",
    "                if self.n_epoch==self.reset_cycle:\n",
    "                    self.lr=self.start_lr\n",
    "                    self.wd=self.start_wd\n",
    "                    self.reset_cycle*=self.cycle_mult\n",
    "                    #reset_cycle=self.n_epoch+reset_cycle\n",
    "                    self.n_epoch=0\n",
    "                    self.ratio=self.end_lr/self.start_lr\n",
    "                    self.num_steps=self.reset_cycle\n",
    "                else:\n",
    "                    #self.lr*=(self.lr_decay**self.n_epoch)  \n",
    "                    #if self.n_epoch>1:\n",
    "                    self.wd*=self.wd_mult\n",
    "                    self.lr=self.lr*(self.end_lr/self.start_lr)**(1/self.num_steps)\n",
    "                    self.n_epoch+=1\n",
    "        \n",
    "\n",
    "                \n",
    "            for param_group in self.optimizer.param_groups:\n",
    "                param_group['lr']=self.lr\n",
    "                param_group['weight_decay']=self.wd\n",
    "          \n",
    "     "
   ]
  },
  {
   "cell_type": "code",
   "execution_count": 55,
   "metadata": {},
   "outputs": [],
   "source": [
    "if 1==1:\n",
    "    del cfobj\n",
    "    torch.cuda.empty_cache()"
   ]
  },
  {
   "cell_type": "code",
   "execution_count": 56,
   "metadata": {},
   "outputs": [],
   "source": [
    "device='cuda:0'"
   ]
  },
  {
   "cell_type": "code",
   "execution_count": 57,
   "metadata": {},
   "outputs": [],
   "source": [
    "cfobj=cf(n_users,n_emb_user,n_emb_item,n_items,min_rating,max_rating,dropout_e)"
   ]
  },
  {
   "cell_type": "code",
   "execution_count": 58,
   "metadata": {},
   "outputs": [],
   "source": [
    "cfobj=cfobj.to(device)"
   ]
  },
  {
   "cell_type": "code",
   "execution_count": 59,
   "metadata": {},
   "outputs": [
    {
     "data": {
      "text/plain": [
       "cf(\n",
       "  (emb_user): Embedding(611, 25)\n",
       "  (emb_item): Embedding(9725, 25)\n",
       "  (emb_dropout): Dropout(p=0.05)\n",
       "  (ub): Embedding(611, 1)\n",
       "  (ib): Embedding(9725, 1)\n",
       "  (sigmoid): Sigmoid()\n",
       "  (criterion): MSELoss()\n",
       ")"
      ]
     },
     "execution_count": 59,
     "metadata": {},
     "output_type": "execute_result"
    }
   ],
   "source": [
    "cfobj"
   ]
  },
  {
   "cell_type": "code",
   "execution_count": 33,
   "metadata": {},
   "outputs": [
    {
     "data": {
      "text/plain": [
       "354"
      ]
     },
     "execution_count": 33,
     "metadata": {},
     "output_type": "execute_result"
    }
   ],
   "source": [
    "len(dltrain)"
   ]
  },
  {
   "cell_type": "code",
   "execution_count": 34,
   "metadata": {},
   "outputs": [],
   "source": [
    "wd=1e-4\n",
    "optimizer=torch.optim.Adam(cfobj.parameters(),lr=5e-3,betas=(0.9,0.999), weight_decay=wd)\n",
    "learner=Learner(cfobj,optimizer,None,device,0,5000,0.25,cycle_mult=0)"
   ]
  },
  {
   "cell_type": "code",
   "execution_count": 35,
   "metadata": {},
   "outputs": [],
   "source": [
    "learner.lr_find(1e-4,1e-1,dltrain,len(dltrain))"
   ]
  },
  {
   "cell_type": "code",
   "execution_count": 36,
   "metadata": {},
   "outputs": [
    {
     "data": {
      "image/png": "[encoded data removed]",
      "text/plain": [
       "<Figure size 432x288 with 1 Axes>"
      ]
     },
     "metadata": {
      "needs_background": "light"
     },
     "output_type": "display_data"
    }
   ],
   "source": [
    "learner.plot_lrs(100)"
   ]
  },
  {
   "cell_type": "code",
   "execution_count": 37,
   "metadata": {},
   "outputs": [
    {
     "data": {
      "image/png": "[encoded data removed]",
      "text/plain": [
       "<Figure size 432x288 with 1 Axes>"
      ]
     },
     "metadata": {
      "needs_background": "light"
     },
     "output_type": "display_data"
    }
   ],
   "source": [
    "learner.plot_lrs(10)"
   ]
  },
  {
   "cell_type": "code",
   "execution_count": 38,
   "metadata": {},
   "outputs": [
    {
     "data": {
      "image/png": "[encoded data removed]",
      "text/plain": [
       "<Figure size 432x288 with 1 Axes>"
      ]
     },
     "metadata": {
      "needs_background": "light"
     },
     "output_type": "display_data"
    }
   ],
   "source": [
    "learner.plot_lrs(1)"
   ]
  },
  {
   "cell_type": "code",
   "execution_count": 64,
   "metadata": {},
   "outputs": [],
   "source": [
    "del cfobj\n",
    "torch.cuda.empty_cache()"
   ]
  },
  {
   "cell_type": "code",
   "execution_count": 65,
   "metadata": {},
   "outputs": [],
   "source": [
    "wd=1e-4"
   ]
  },
  {
   "cell_type": "code",
   "execution_count": 66,
   "metadata": {},
   "outputs": [],
   "source": [
    "cfobj=cf(n_users,n_emb_user,n_emb_item,n_items,min_rating,max_rating,dropout_e)\n",
    "cfobj=cfobj.to(device)"
   ]
  },
  {
   "cell_type": "code",
   "execution_count": 67,
   "metadata": {},
   "outputs": [
    {
     "data": {
      "text/plain": [
       "'cuda:0'"
      ]
     },
     "execution_count": 67,
     "metadata": {},
     "output_type": "execute_result"
    }
   ],
   "source": [
    "device"
   ]
  },
  {
   "cell_type": "code",
   "execution_count": 68,
   "metadata": {},
   "outputs": [],
   "source": [
    "optimizer=torch.optim.Adam(cfobj.parameters(),lr=8e-3,betas=(0.9,0.999), weight_decay=wd)\n",
    "learner=Learner(cfobj,optimizer,None,device,0,16000,0.25,cycle_mult=2,start_lr=9e-3,end_lr=5e-4,wd_mult=1.2)"
   ]
  },
  {
   "cell_type": "code",
   "execution_count": 69,
   "metadata": {},
   "outputs": [
    {
     "name": "stdout",
     "output_type": "stream",
     "text": [
      "Epoch:0 Learning rate 0.008 Weight Decay 0.0001 Train Loss:1.5579728952987455                 Valid Loss:0.9030373039082711 Train RMSE:1.2089301511553576 Valid RMSE:0.9343690971637505 Train MSE:1.5579728952987455 Valid MSE:0.9030373039082711                 Train MAE:0.9512441474220357 Valid MAE:0.7365609466659356\n",
      "Epoch:1 Learning rate 0.002 Weight Decay 0.00012 Train Loss:0.6548120081845947                 Valid Loss:0.8259540790726679 Train RMSE:0.804464735856463 Valid RMSE:0.8921638931343163 Train MSE:0.6548120081845947 Valid MSE:0.8259540790726679                 Train MAE:0.6201713287366996 Valid MAE:0.7059338235336802\n",
      "Epoch:2 Learning rate 0.0005 Weight Decay 0.000144 Train Loss:0.5504500367616175                 Valid Loss:0.8182121828105879 Train RMSE:0.7373732775202422 Valid RMSE:0.8880566553803473 Train MSE:0.5504500367616175 Valid MSE:0.8182121828105879                 Train MAE:0.5707515936015772 Valid MAE:0.7038882535807094\n",
      "Epoch:3 Learning rate 0.008 Weight Decay 0.0001 Train Loss:0.6833334305892985                 Valid Loss:0.8149632047051969 Train RMSE:0.8211439801705611 Valid RMSE:0.8869323068996512 Train MSE:0.6833334305892985 Valid MSE:0.8149632047051969                 Train MAE:0.6432331059088555 Valid MAE:0.7024455846096418\n",
      "Epoch:4 Learning rate 0.004 Weight Decay 0.00012 Train Loss:0.5118335612460497                 Valid Loss:0.7847718857460141 Train RMSE:0.7111665423831065 Valid RMSE:0.8705454958798886 Train MSE:0.5118335612460497 Valid MSE:0.7847718857460141                 Train MAE:0.555279377892666 Valid MAE:0.6912207907031042\n",
      "Epoch:5 Learning rate 0.002 Weight Decay 0.000144 Train Loss:0.43939953719137415                 Valid Loss:0.7787885901905736 Train RMSE:0.6591780273969807 Valid RMSE:0.8671034936625236 Train MSE:0.43939953719137415 Valid MSE:0.7787885901905736                 Train MAE:0.5157619373537206 Valid MAE:0.690156130316835\n",
      "Epoch:6 Learning rate 0.001 Weight Decay 0.0001728 Train Loss:0.4090188192078587                 Valid Loss:0.7800385876101736 Train RMSE:0.6360205990101933 Valid RMSE:0.8679083520485602 Train MSE:0.4090188192078587 Valid MSE:0.7800385876101736                 Train MAE:0.49802864200234837 Valid MAE:0.6918467457250038\n"
     ]
    }
   ],
   "source": [
    "learner.run_epochs(dltrain,dlvalid,7)"
   ]
  },
  {
   "cell_type": "code",
   "execution_count": 70,
   "metadata": {},
   "outputs": [],
   "source": [
    "learner.generate_scores=True"
   ]
  },
  {
   "cell_type": "code",
   "execution_count": 71,
   "metadata": {},
   "outputs": [
    {
     "data": {
      "text/plain": [
       "(0.7800385876101736, 0.6918467457250038, 0.8679083520485602)"
      ]
     },
     "execution_count": 71,
     "metadata": {},
     "output_type": "execute_result"
    }
   ],
   "source": [
    "learner.run_epoch(dlvalid,False)"
   ]
  },
  {
   "cell_type": "code",
   "execution_count": 72,
   "metadata": {},
   "outputs": [
    {
     "data": {
      "text/plain": [
       "array([4.734829 , 4.5826454, 4.6863804, ..., 3.1607249, 3.2630296,\n",
       "       3.3152425], dtype=float32)"
      ]
     },
     "execution_count": 72,
     "metadata": {},
     "output_type": "execute_result"
    }
   ],
   "source": [
    "np.concatenate(learner.scores)"
   ]
  },
  {
   "cell_type": "code",
   "execution_count": 73,
   "metadata": {},
   "outputs": [],
   "source": [
    "dfvalid['pred_cf']=np.concatenate(learner.scores)"
   ]
  },
  {
   "cell_type": "code",
   "execution_count": 74,
   "metadata": {},
   "outputs": [
    {
     "data": {
      "text/plain": [
       "0.8824326926455209"
      ]
     },
     "execution_count": 74,
     "metadata": {},
     "output_type": "execute_result"
    }
   ],
   "source": [
    "np.sqrt(metrics.mean_squared_error(dfvalid['rating'],dfvalid['pred_cf']))"
   ]
  },
  {
   "cell_type": "code",
   "execution_count": 75,
   "metadata": {},
   "outputs": [],
   "source": [
    "def score_by_group (dfvalid,predVar,groupVar='cold_start_group',method='global_avg'):\n",
    "    scores=[]\n",
    "    mae_scores=[]\n",
    "    rmse_scores=[]\n",
    "    r2_scores=[]\n",
    "    groups=dfvalid[groupVar].value_counts().index.tolist()\n",
    "    for group in groups:\n",
    "        df=dfvalid.loc[dfvalid[groupVar]==group]\n",
    "        actual=df['rating']\n",
    "        score=metrics.mean_squared_error(df['rating'],df[predVar])\n",
    "        rmse_score=np.sqrt(metrics.mean_squared_error(df['rating'],df[predVar]))\n",
    "        mae_score=metrics.mean_absolute_error(df['rating'],df[predVar])\n",
    "        r2_score=metrics.r2_score(df['rating'],df[predVar])\n",
    "        scores.append(score)\n",
    "        mae_scores.append(mae_score)\n",
    "        rmse_scores.append(rmse_score)\n",
    "        r2_scores.append(r2_score)\n",
    "    return pd.DataFrame({'method':method, 'mse':scores, 'rmse':rmse_scores, 'mae':mae_scores, 'r2_score':r2_scores, 'Cold Start Group':groups})"
   ]
  },
  {
   "cell_type": "code",
   "execution_count": 76,
   "metadata": {},
   "outputs": [
    {
     "data": {
      "text/html": [
       "<div>\n",
       "<style scoped>\n",
       "    .dataframe tbody tr th:only-of-type {\n",
       "        vertical-align: middle;\n",
       "    }\n",
       "\n",
       "    .dataframe tbody tr th {\n",
       "        vertical-align: top;\n",
       "    }\n",
       "\n",
       "    .dataframe thead th {\n",
       "        text-align: right;\n",
       "    }\n",
       "</style>\n",
       "<table border=\"1\" class=\"dataframe\">\n",
       "  <thead>\n",
       "    <tr style=\"text-align: right;\">\n",
       "      <th></th>\n",
       "      <th>method</th>\n",
       "      <th>mse</th>\n",
       "      <th>rmse</th>\n",
       "      <th>mae</th>\n",
       "      <th>r2_score</th>\n",
       "      <th>Cold Start Group</th>\n",
       "    </tr>\n",
       "  </thead>\n",
       "  <tbody>\n",
       "    <tr>\n",
       "      <th>0</th>\n",
       "      <td>cf</td>\n",
       "      <td>0.761769</td>\n",
       "      <td>0.872794</td>\n",
       "      <td>0.681150</td>\n",
       "      <td>0.309807</td>\n",
       "      <td>No-cold-start</td>\n",
       "    </tr>\n",
       "    <tr>\n",
       "      <th>1</th>\n",
       "      <td>cf</td>\n",
       "      <td>0.833477</td>\n",
       "      <td>0.912950</td>\n",
       "      <td>0.740031</td>\n",
       "      <td>0.354490</td>\n",
       "      <td>Item-Cold_start</td>\n",
       "    </tr>\n",
       "    <tr>\n",
       "      <th>2</th>\n",
       "      <td>cf</td>\n",
       "      <td>2.243300</td>\n",
       "      <td>1.497765</td>\n",
       "      <td>1.408103</td>\n",
       "      <td>-1.442667</td>\n",
       "      <td>User-Cold-Start</td>\n",
       "    </tr>\n",
       "    <tr>\n",
       "      <th>0</th>\n",
       "      <td>cf</td>\n",
       "      <td>0.761769</td>\n",
       "      <td>0.872794</td>\n",
       "      <td>0.681150</td>\n",
       "      <td>0.309807</td>\n",
       "      <td>0</td>\n",
       "    </tr>\n",
       "    <tr>\n",
       "      <th>1</th>\n",
       "      <td>cf</td>\n",
       "      <td>0.970075</td>\n",
       "      <td>0.984924</td>\n",
       "      <td>0.804760</td>\n",
       "      <td>0.294384</td>\n",
       "      <td>1</td>\n",
       "    </tr>\n",
       "    <tr>\n",
       "      <th>0</th>\n",
       "      <td>cf</td>\n",
       "      <td>0.778687</td>\n",
       "      <td>0.882433</td>\n",
       "      <td>0.691190</td>\n",
       "      <td>0.309889</td>\n",
       "      <td>0</td>\n",
       "    </tr>\n",
       "  </tbody>\n",
       "</table>\n",
       "</div>"
      ],
      "text/plain": [
       "  method       mse      rmse       mae  r2_score Cold Start Group\n",
       "0     cf  0.761769  0.872794  0.681150  0.309807    No-cold-start\n",
       "1     cf  0.833477  0.912950  0.740031  0.354490  Item-Cold_start\n",
       "2     cf  2.243300  1.497765  1.408103 -1.442667  User-Cold-Start\n",
       "0     cf  0.761769  0.872794  0.681150  0.309807                0\n",
       "1     cf  0.970075  0.984924  0.804760  0.294384                1\n",
       "0     cf  0.778687  0.882433  0.691190  0.309889                0"
      ]
     },
     "execution_count": 76,
     "metadata": {},
     "output_type": "execute_result"
    }
   ],
   "source": [
    "result_cf=pd.concat([score_by_group(dfvalid,'pred_cf','cold_start_group','cf'),score_by_group(dfvalid,'pred_cf','cold_start_bucket','cf'),\\\n",
    "score_by_group(dfvalid,'pred_cf','flag_train','cf')],axis=0)\n",
    "result_cf"
   ]
  },
  {
   "cell_type": "code",
   "execution_count": 77,
   "metadata": {},
   "outputs": [
    {
     "name": "stderr",
     "output_type": "stream",
     "text": [
      "/home/kirana/anaconda3/lib/python3.7/site-packages/torch/serialization.py:256: UserWarning: Couldn't retrieve source code for container of type cf. It won't be checked for correctness upon loading.\n",
      "  \"type \" + obj.__name__ + \". It won't be checked \"\n",
      "/home/kirana/anaconda3/lib/python3.7/site-packages/torch/serialization.py:256: UserWarning: Couldn't retrieve source code for container of type cf. It won't be checked for correctness upon loading.\n",
      "  \"type \" + obj.__name__ + \". It won't be checked \"\n"
     ]
    }
   ],
   "source": [
    "torch.save(cfobj,f=f'{DATAPATH}/inter/cf_model')\n",
    "torch.save(learner,f=f'{DATAPATH}/inter/cf_learner')\n",
    "torch.save(optimizer,f=f'{DATAPATH}/inter/cf_optimizer')\n",
    "torch.save(cfobj.state_dict(),f'{DATAPATH}/inter/cf_state_dict')\n",
    "torch.save(optimizer.state_dict(),f'{DATAPATH}/inter/cf_optimizer_state_dict')"
   ]
  },
  {
   "cell_type": "code",
   "execution_count": 78,
   "metadata": {},
   "outputs": [],
   "source": [
    "mtx_user_emb=cfobj.emb_user.weight.data.cpu().numpy()\n",
    "mtx_item_emb=cfobj.emb_item.weight.data.cpu().numpy()"
   ]
  },
  {
   "cell_type": "code",
   "execution_count": 79,
   "metadata": {},
   "outputs": [],
   "source": [
    "user_bias_emb=cfobj.ub.weight.data.cpu().numpy()\n",
    "item_bias_emb=cfobj.ib.weight.data.cpu().numpy()"
   ]
  },
  {
   "cell_type": "code",
   "execution_count": 80,
   "metadata": {},
   "outputs": [
    {
     "data": {
      "text/plain": [
       "((611, 25), (9725, 25), (611, 1), (9725, 1))"
      ]
     },
     "execution_count": 80,
     "metadata": {},
     "output_type": "execute_result"
    }
   ],
   "source": [
    "mtx_user_emb.shape, mtx_item_emb.shape, user_bias_emb.shape, item_bias_emb.shape"
   ]
  },
  {
   "cell_type": "code",
   "execution_count": 81,
   "metadata": {},
   "outputs": [],
   "source": [
    "pickle.dump([mtx_user_emb,mtx_item_emb,user_bias_emb,item_bias_emb],open(f'{DATAPATH}/wts_embs','wb'))"
   ]
  },
  {
   "cell_type": "code",
   "execution_count": 82,
   "metadata": {},
   "outputs": [
    {
     "data": {
      "text/plain": [
       "(60, 6)"
      ]
     },
     "execution_count": 82,
     "metadata": {},
     "output_type": "execute_result"
    }
   ],
   "source": [
    "results_concat.shape"
   ]
  },
  {
   "cell_type": "code",
   "execution_count": 83,
   "metadata": {},
   "outputs": [],
   "source": [
    "results_concat=pd.concat([results_concat,result_cf],axis=0)"
   ]
  },
  {
   "cell_type": "code",
   "execution_count": 84,
   "metadata": {},
   "outputs": [],
   "source": [
    "pickle.dump([df,dftrain,dfvalid,idx_to_user,idx_to_item,item_to_idx,user_to_idx,results_concat],open(f'{DATAPATH}/df_side_cold_runother_cf.pkl','wb'))"
   ]
  },
  {
   "cell_type": "code",
   "execution_count": null,
   "metadata": {},
   "outputs": [],
   "source": []
  }
 ],
 "metadata": {
  "kernelspec": {
   "display_name": "Python 3",
   "language": "python",
   "name": "python3"
  },
  "language_info": {
   "codemirror_mode": {
    "name": "ipython",
    "version": 3
   },
   "file_extension": ".py",
   "mimetype": "text/x-python",
   "name": "python",
   "nbconvert_exporter": "python",
   "pygments_lexer": "ipython3",
   "version": "3.7.3"
  }
 },
 "nbformat": 4,
 "nbformat_minor": 2
}
