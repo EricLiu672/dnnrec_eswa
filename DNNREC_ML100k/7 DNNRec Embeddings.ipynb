{
 "cells": [
  {
   "cell_type": "code",
   "execution_count": 1,
   "metadata": {},
   "outputs": [],
   "source": [
    "PATH='/home/kirana/Documents/phd/experiment1_new/DNNREC_ML100k'\n",
    "DATAPATH='/home/kirana/Documents/final_dissertation_final/experiments/datasets/ml-latest-small'"
   ]
  },
  {
   "cell_type": "code",
   "execution_count": 2,
   "metadata": {},
   "outputs": [],
   "source": [
    "import pandas as pd\n",
    "import numpy as np\n",
    "import matplotlib.pyplot as plt\n",
    "import sklearn\n",
    "import os\n",
    "import pickle\n",
    "import torch\n",
    "from torch.utils.data import Dataset, DataLoader\n",
    "from torch import nn\n",
    "import pickle\n",
    "from sklearn import metrics"
   ]
  },
  {
   "cell_type": "code",
   "execution_count": 3,
   "metadata": {},
   "outputs": [],
   "source": [
    "[df,dftrain,dfvalid,idx_to_user,idx_to_item,item_to_idx,user_to_idx,results_concat]=\\\n",
    "    pickle.load(open(f'{DATAPATH}/df_side_cold_runother_cf.pkl','rb'))"
   ]
  },
  {
   "cell_type": "code",
   "execution_count": 4,
   "metadata": {},
   "outputs": [
    {
     "data": {
      "text/plain": [
       "Index(['index', 'flag_train', 'genres', 'imdbId', 'itemId', 'maxSeqNum',\n",
       "       'rating', 'seqNum', 'tag', 'timestamp',\n",
       "       ...\n",
       "       'f_tag_the', 'f_tag_to', 'f_tag_trek', 'f_tag_wars', 'f_tag_who',\n",
       "       'f_tag_with', 'f_tag_world', 'f_tag_you', 'user_idx', 'item_idx'],\n",
       "      dtype='object', length=391)"
      ]
     },
     "execution_count": 4,
     "metadata": {},
     "output_type": "execute_result"
    }
   ],
   "source": [
    "dftrain.columns"
   ]
  },
  {
   "cell_type": "code",
   "execution_count": 5,
   "metadata": {},
   "outputs": [],
   "source": [
    "denseCols=dftrain.columns[dftrain.columns.str.startswith('f_t')].tolist()"
   ]
  },
  {
   "cell_type": "code",
   "execution_count": 6,
   "metadata": {},
   "outputs": [
    {
     "data": {
      "text/plain": [
       "['f_title_12',\n",
       " 'f_title_13',\n",
       " 'f_title_1940',\n",
       " 'f_title_1954',\n",
       " 'f_title_1959',\n",
       " 'f_title_1960',\n",
       " 'f_title_1962',\n",
       " 'f_title_1963',\n",
       " 'f_title_1964',\n",
       " 'f_title_1967',\n",
       " 'f_title_1968',\n",
       " 'f_title_1970',\n",
       " 'f_title_1971',\n",
       " 'f_title_1972',\n",
       " 'f_title_1973',\n",
       " 'f_title_1974',\n",
       " 'f_title_1975',\n",
       " 'f_title_1976',\n",
       " 'f_title_1977',\n",
       " 'f_title_1978',\n",
       " 'f_title_1979',\n",
       " 'f_title_1980',\n",
       " 'f_title_1981',\n",
       " 'f_title_1982',\n",
       " 'f_title_1983',\n",
       " 'f_title_1984',\n",
       " 'f_title_1985',\n",
       " 'f_title_1986',\n",
       " 'f_title_1987',\n",
       " 'f_title_1988',\n",
       " 'f_title_1989',\n",
       " 'f_title_1990',\n",
       " 'f_title_1991',\n",
       " 'f_title_1992',\n",
       " 'f_title_1993',\n",
       " 'f_title_1994',\n",
       " 'f_title_1995',\n",
       " 'f_title_1996',\n",
       " 'f_title_1997',\n",
       " 'f_title_1998',\n",
       " 'f_title_1999',\n",
       " 'f_title_2000',\n",
       " 'f_title_2001',\n",
       " 'f_title_2002',\n",
       " 'f_title_2003',\n",
       " 'f_title_2004',\n",
       " 'f_title_2005',\n",
       " 'f_title_2006',\n",
       " 'f_title_2007',\n",
       " 'f_title_2008',\n",
       " 'f_title_2009',\n",
       " 'f_title_2010',\n",
       " 'f_title_2011',\n",
       " 'f_title_2012',\n",
       " 'f_title_2013',\n",
       " 'f_title_2014',\n",
       " 'f_title_2015',\n",
       " 'f_title_2016',\n",
       " 'f_title_2017',\n",
       " 'f_title_about',\n",
       " 'f_title_ace',\n",
       " 'f_title_alien',\n",
       " 'f_title_all',\n",
       " 'f_title_america',\n",
       " 'f_title_american',\n",
       " 'f_title_an',\n",
       " 'f_title_and',\n",
       " 'f_title_ark',\n",
       " 'f_title_as',\n",
       " 'f_title_at',\n",
       " 'f_title_austin',\n",
       " 'f_title_away',\n",
       " 'f_title_back',\n",
       " 'f_title_bad',\n",
       " 'f_title_batman',\n",
       " 'f_title_beautiful',\n",
       " 'f_title_beauty',\n",
       " 'f_title_big',\n",
       " 'f_title_bill',\n",
       " 'f_title_black',\n",
       " 'f_title_blade',\n",
       " 'f_title_blood',\n",
       " 'f_title_blue',\n",
       " 'f_title_bourne',\n",
       " 'f_title_braveheart',\n",
       " 'f_title_bride',\n",
       " 'f_title_by',\n",
       " 'f_title_caribbean',\n",
       " 'f_title_chocolate',\n",
       " 'f_title_christmas',\n",
       " 'f_title_city',\n",
       " 'f_title_club',\n",
       " 'f_title_dark',\n",
       " 'f_title_day',\n",
       " 'f_title_days',\n",
       " 'f_title_de',\n",
       " 'f_title_dead',\n",
       " 'f_title_die',\n",
       " 'f_title_dogs',\n",
       " 'f_title_down',\n",
       " 'f_title_dr',\n",
       " 'f_title_dragon',\n",
       " 'f_title_dumb',\n",
       " 'f_title_dumber',\n",
       " 'f_title_empire',\n",
       " 'f_title_episode',\n",
       " 'f_title_fiction',\n",
       " 'f_title_fight',\n",
       " 'f_title_final',\n",
       " 'f_title_fire',\n",
       " 'f_title_first',\n",
       " 'f_title_for',\n",
       " 'f_title_forrest',\n",
       " 'f_title_four',\n",
       " 'f_title_from',\n",
       " 'f_title_future',\n",
       " 'f_title_game',\n",
       " 'f_title_ghost',\n",
       " 'f_title_girl',\n",
       " 'f_title_godfather',\n",
       " 'f_title_good',\n",
       " 'f_title_green',\n",
       " 'f_title_gump',\n",
       " 'f_title_gun',\n",
       " 'f_title_hard',\n",
       " 'f_title_harry',\n",
       " 'f_title_high',\n",
       " 'f_title_home',\n",
       " 'f_title_hope',\n",
       " 'f_title_hot',\n",
       " 'f_title_house',\n",
       " 'f_title_how',\n",
       " 'f_title_ii',\n",
       " 'f_title_iii',\n",
       " 'f_title_il',\n",
       " 'f_title_impossible',\n",
       " 'f_title_in',\n",
       " 'f_title_indiana',\n",
       " 'f_title_iron',\n",
       " 'f_title_is',\n",
       " 'f_title_it',\n",
       " 'f_title_iv',\n",
       " 'f_title_jones',\n",
       " 'f_title_judgment',\n",
       " 'f_title_jurassic',\n",
       " 'f_title_kid',\n",
       " 'f_title_kill',\n",
       " 'f_title_king',\n",
       " 'f_title_knight',\n",
       " 'f_title_la',\n",
       " 'f_title_lambs',\n",
       " 'f_title_last',\n",
       " 'f_title_le',\n",
       " 'f_title_legend',\n",
       " 'f_title_lies',\n",
       " 'f_title_life',\n",
       " 'f_title_lion',\n",
       " 'f_title_list',\n",
       " 'f_title_little',\n",
       " 'f_title_lord',\n",
       " 'f_title_lost',\n",
       " 'f_title_love',\n",
       " 'f_title_léon',\n",
       " 'f_title_man',\n",
       " 'f_title_mask',\n",
       " 'f_title_matrix',\n",
       " 'f_title_me',\n",
       " 'f_title_men',\n",
       " 'f_title_mib',\n",
       " 'f_title_mind',\n",
       " 'f_title_mission',\n",
       " 'f_title_monkeys',\n",
       " 'f_title_monty',\n",
       " 'f_title_movie',\n",
       " 'f_title_mr',\n",
       " 'f_title_mrs',\n",
       " 'f_title_my',\n",
       " 'f_title_new',\n",
       " 'f_title_night',\n",
       " 'f_title_no',\n",
       " 'f_title_of',\n",
       " 'f_title_off',\n",
       " 'f_title_old',\n",
       " 'f_title_on',\n",
       " 'f_title_one',\n",
       " 'f_title_out',\n",
       " 'f_title_park',\n",
       " 'f_title_part',\n",
       " 'f_title_pirates',\n",
       " 'f_title_planet',\n",
       " 'f_title_potter',\n",
       " 'f_title_powers',\n",
       " 'f_title_princess',\n",
       " 'f_title_private',\n",
       " 'f_title_professional',\n",
       " 'f_title_pulp',\n",
       " 'f_title_python',\n",
       " 'f_title_raiders',\n",
       " 'f_title_red',\n",
       " 'f_title_redemption',\n",
       " 'f_title_return',\n",
       " 'f_title_ring',\n",
       " 'f_title_rings',\n",
       " 'f_title_road',\n",
       " 'f_title_rock',\n",
       " 'f_title_rocky',\n",
       " 'f_title_run',\n",
       " 'f_title_saving',\n",
       " 'f_title_sense',\n",
       " 'f_title_seven',\n",
       " 'f_title_shawshank',\n",
       " 'f_title_show',\n",
       " 'f_title_shrek',\n",
       " 'f_title_silence',\n",
       " 'f_title_space',\n",
       " 'f_title_spider',\n",
       " 'f_title_spy',\n",
       " 'f_title_star',\n",
       " 'f_title_stone',\n",
       " 'f_title_story',\n",
       " 'f_title_street',\n",
       " 'f_title_strikes',\n",
       " 'f_title_terminator',\n",
       " 'f_title_the',\n",
       " 'f_title_three',\n",
       " 'f_title_time',\n",
       " 'f_title_to',\n",
       " 'f_title_toy',\n",
       " 'f_title_trek',\n",
       " 'f_title_true',\n",
       " 'f_title_twelve',\n",
       " 'f_title_two',\n",
       " 'f_title_up',\n",
       " 'f_title_vampire',\n",
       " 'f_title_ventura',\n",
       " 'f_title_vi',\n",
       " 'f_title_vol',\n",
       " 'f_title_war',\n",
       " 'f_title_wars',\n",
       " 'f_title_weapon',\n",
       " 'f_title_wedding',\n",
       " 'f_title_what',\n",
       " 'f_title_when',\n",
       " 'f_title_white',\n",
       " 'f_title_who',\n",
       " 'f_title_wild',\n",
       " 'f_title_with',\n",
       " 'f_title_woman',\n",
       " 'f_title_world',\n",
       " 'f_title_you',\n",
       " 'f_tag_1971',\n",
       " 'f_tag_1973',\n",
       " 'f_tag_1975',\n",
       " 'f_tag_1977',\n",
       " 'f_tag_1978',\n",
       " 'f_tag_1979',\n",
       " 'f_tag_1980',\n",
       " 'f_tag_1981',\n",
       " 'f_tag_1982',\n",
       " 'f_tag_1983',\n",
       " 'f_tag_1984',\n",
       " 'f_tag_1985',\n",
       " 'f_tag_1986',\n",
       " 'f_tag_1987',\n",
       " 'f_tag_1988',\n",
       " 'f_tag_1989',\n",
       " 'f_tag_1990',\n",
       " 'f_tag_1991',\n",
       " 'f_tag_1992',\n",
       " 'f_tag_1993',\n",
       " 'f_tag_1994',\n",
       " 'f_tag_1995',\n",
       " 'f_tag_1996',\n",
       " 'f_tag_1997',\n",
       " 'f_tag_1998',\n",
       " 'f_tag_1999',\n",
       " 'f_tag_2000',\n",
       " 'f_tag_2001',\n",
       " 'f_tag_2002',\n",
       " 'f_tag_2003',\n",
       " 'f_tag_2004',\n",
       " 'f_tag_2005',\n",
       " 'f_tag_2006',\n",
       " 'f_tag_2007',\n",
       " 'f_tag_2008',\n",
       " 'f_tag_2009',\n",
       " 'f_tag_2010',\n",
       " 'f_tag_2011',\n",
       " 'f_tag_2012',\n",
       " 'f_tag_2013',\n",
       " 'f_tag_2014',\n",
       " 'f_tag_2015',\n",
       " 'f_tag_2016',\n",
       " 'f_tag_about',\n",
       " 'f_tag_american',\n",
       " 'f_tag_and',\n",
       " 'f_tag_back',\n",
       " 'f_tag_batman',\n",
       " 'f_tag_big',\n",
       " 'f_tag_black',\n",
       " 'f_tag_city',\n",
       " 'f_tag_dark',\n",
       " 'f_tag_day',\n",
       " 'f_tag_dead',\n",
       " 'f_tag_die',\n",
       " 'f_tag_episode',\n",
       " 'f_tag_first',\n",
       " 'f_tag_for',\n",
       " 'f_tag_from',\n",
       " 'f_tag_good',\n",
       " 'f_tag_hard',\n",
       " 'f_tag_harry',\n",
       " 'f_tag_ii',\n",
       " 'f_tag_iii',\n",
       " 'f_tag_in',\n",
       " 'f_tag_indiana',\n",
       " 'f_tag_it',\n",
       " 'f_tag_jones',\n",
       " 'f_tag_king',\n",
       " 'f_tag_last',\n",
       " 'f_tag_life',\n",
       " 'f_tag_little',\n",
       " 'f_tag_lord',\n",
       " 'f_tag_lost',\n",
       " 'f_tag_love',\n",
       " 'f_tag_man',\n",
       " 'f_tag_matrix',\n",
       " 'f_tag_me',\n",
       " 'f_tag_men',\n",
       " 'f_tag_movie',\n",
       " 'f_tag_my',\n",
       " 'f_tag_new',\n",
       " 'f_tag_no',\n",
       " 'f_tag_of',\n",
       " 'f_tag_on',\n",
       " 'f_tag_park',\n",
       " 'f_tag_part',\n",
       " 'f_tag_potter',\n",
       " 'f_tag_return',\n",
       " 'f_tag_rings',\n",
       " 'f_tag_star',\n",
       " 'f_tag_story',\n",
       " 'f_tag_the',\n",
       " 'f_tag_to',\n",
       " 'f_tag_trek',\n",
       " 'f_tag_wars',\n",
       " 'f_tag_who',\n",
       " 'f_tag_with',\n",
       " 'f_tag_world',\n",
       " 'f_tag_you']"
      ]
     },
     "execution_count": 6,
     "metadata": {},
     "output_type": "execute_result"
    }
   ],
   "source": [
    "denseCols"
   ]
  },
  {
   "cell_type": "code",
   "execution_count": 7,
   "metadata": {},
   "outputs": [],
   "source": [
    "genre_to_idx={j:i+1 for i,j in enumerate(dftrain['genres'].unique())}\n",
    "idx_to_genre={i+1:j for i,j in enumerate(dftrain['genres'].unique())}"
   ]
  },
  {
   "cell_type": "code",
   "execution_count": 8,
   "metadata": {},
   "outputs": [],
   "source": [
    "dftrain['genre_idx']=[genre_to_idx.get(i) for i in dftrain['genres']]\n",
    "dfvalid['genre_idx']=[genre_to_idx.get(i) for i in dfvalid['genres']]"
   ]
  },
  {
   "cell_type": "code",
   "execution_count": 9,
   "metadata": {},
   "outputs": [],
   "source": [
    "catCols=['genre_idx']"
   ]
  },
  {
   "cell_type": "markdown",
   "metadata": {},
   "source": [
    "### Dataset and DataLoader"
   ]
  },
  {
   "cell_type": "code",
   "execution_count": 10,
   "metadata": {},
   "outputs": [],
   "source": [
    "class cfdata (torch.utils.data.dataset.Dataset):\n",
    "    def __init__(self,dfX,dfY,denseCols,catCols):\n",
    "        self.dfX,self.dfY=dfX,dfY\n",
    "        self.denseCols=denseCols\n",
    "        self.catCols=catCols\n",
    "        \n",
    "    def __len__ (self):\n",
    "        return self.dfX.shape[0]\n",
    "    \n",
    "    def __getitem__ (self, idx):\n",
    "        return torch.FloatTensor(self.dfX.iloc[idx].values),torch.FloatTensor([self.dfY.values[idx]])"
   ]
  },
  {
   "cell_type": "code",
   "execution_count": 11,
   "metadata": {},
   "outputs": [],
   "source": [
    "dstrain=cfdata(dftrain[['user_idx','item_idx']+denseCols+catCols],dftrain['rating'],denseCols,catCols)\n",
    "dsvalid=cfdata(dfvalid[['user_idx','item_idx']+denseCols+catCols],dfvalid['rating'],denseCols,catCols)"
   ]
  },
  {
   "cell_type": "code",
   "execution_count": 12,
   "metadata": {},
   "outputs": [
    {
     "data": {
      "text/plain": [
       "(90543, 392)"
      ]
     },
     "execution_count": 12,
     "metadata": {},
     "output_type": "execute_result"
    }
   ],
   "source": [
    "dftrain.shape"
   ]
  },
  {
   "cell_type": "code",
   "execution_count": 13,
   "metadata": {},
   "outputs": [],
   "source": [
    "bs=64"
   ]
  },
  {
   "cell_type": "code",
   "execution_count": 14,
   "metadata": {},
   "outputs": [],
   "source": [
    "dltrain=DataLoader(dstrain,bs,True)"
   ]
  },
  {
   "cell_type": "code",
   "execution_count": 15,
   "metadata": {},
   "outputs": [],
   "source": [
    "dlvalid=DataLoader(dsvalid,bs,False)"
   ]
  },
  {
   "cell_type": "code",
   "execution_count": 16,
   "metadata": {},
   "outputs": [
    {
     "data": {
      "text/plain": [
       "922"
      ]
     },
     "execution_count": 16,
     "metadata": {},
     "output_type": "execute_result"
    }
   ],
   "source": [
    "dftrain['genres'].nunique()"
   ]
  },
  {
   "cell_type": "code",
   "execution_count": 17,
   "metadata": {},
   "outputs": [
    {
     "data": {
      "text/plain": [
       "[('genre_idx', 922)]"
      ]
     },
     "execution_count": 17,
     "metadata": {},
     "output_type": "execute_result"
    }
   ],
   "source": [
    "[(col, dftrain[col].nunique()) for col in catCols]"
   ]
  },
  {
   "cell_type": "code",
   "execution_count": 18,
   "metadata": {},
   "outputs": [
    {
     "data": {
      "text/plain": [
       "{'genre_idx': 9}"
      ]
     },
     "execution_count": 18,
     "metadata": {},
     "output_type": "execute_result"
    }
   ],
   "source": [
    "{col: min(50,dftrain[col].nunique()//100) for col in catCols}"
   ]
  },
  {
   "cell_type": "code",
   "execution_count": 19,
   "metadata": {},
   "outputs": [],
   "source": [
    "emb_szs=[(dftrain[col].nunique(),min(50,dftrain[col].nunique()//100)) for col in catCols]"
   ]
  },
  {
   "cell_type": "code",
   "execution_count": 20,
   "metadata": {},
   "outputs": [
    {
     "data": {
      "text/plain": [
       "[(922, 9)]"
      ]
     },
     "execution_count": 20,
     "metadata": {},
     "output_type": "execute_result"
    }
   ],
   "source": [
    "emb_szs"
   ]
  },
  {
   "cell_type": "code",
   "execution_count": null,
   "metadata": {},
   "outputs": [],
   "source": []
  },
  {
   "cell_type": "markdown",
   "metadata": {},
   "source": [
    "## Model Architecture"
   ]
  },
  {
   "cell_type": "code",
   "execution_count": 79,
   "metadata": {},
   "outputs": [],
   "source": [
    "n_users=len(user_to_idx)\n",
    "n_items=len(item_to_idx)\n",
    "n_emb_user=25\n",
    "n_emb_item=25\n",
    "n_emb_genre=25\n",
    "min_rating=min(dftrain['rating'])\n",
    "max_rating=max(dftrain['rating'])\n",
    "dropout_e=0.2\n",
    "    # emb, cat, overall-1, overall-2\n",
    "hidden=[20,25,10]\n",
    "dropouts=[0.3,0.5,0.3]"
   ]
  },
  {
   "cell_type": "code",
   "execution_count": 80,
   "metadata": {},
   "outputs": [],
   "source": [
    "def hidden_layer(x,y,dropout,activation=nn.Sigmoid()):\n",
    "    return nn.Sequential(\n",
    "        nn.Linear(x, y),\n",
    "        activation,\n",
    "        nn.Dropout(p=dropout)\n",
    "        )   "
   ]
  },
  {
   "cell_type": "code",
   "execution_count": 81,
   "metadata": {},
   "outputs": [],
   "source": [
    "#[mtx_user_emb,mtx_item_emb,user_bias_emb,item_bias_emb]=pickle.load(open(f'{DATAPATH}/wts_embs','rb'))\n",
    "#pretrain_wts=pickle.load(open(f'{DATAPATH}/wts_embs','rb'))\n",
    "pretrain_wts=None"
   ]
  },
  {
   "cell_type": "code",
   "execution_count": 82,
   "metadata": {},
   "outputs": [],
   "source": [
    "class cf(nn.Module):    \n",
    "    def __init__(self,n_users,n_emb_user,n_emb_item,n_items,min_rating,max_rating,autoenc_cols,pretrain_wts,\\\n",
    "                 catCols, emb_szs,dropout_e=0.01,hidden=[15,5],dropouts=[0.2,0.2],error_type=\"mse\"):\n",
    "        super().__init__()\n",
    "        self.n_users,self.n_emb_user,self.n_emb_item,self.n_items,self.min_rating,self.max_rating=\\\n",
    "                    n_users,n_emb_user,n_emb_item,n_items,min_rating,max_rating\n",
    "        self.dropout_e,self.hidden,self.dropouts=dropout_e,hidden,dropouts\n",
    "        self.autoenc_cols,self.len_dense_cols=autoenc_cols,len(autoenc_cols)\n",
    "        self.catCols,self.emb_szs=catCols,emb_szs\n",
    "        self.len_cat_cols=len(self.catCols)\n",
    "        self.n_cat_emb=sum([x[1] for x in emb_szs])\n",
    "        \n",
    "        \n",
    "        self.create_architecture()\n",
    "        self.init_parameters()\n",
    "        \n",
    "        if pretrain_wts is not None:\n",
    "            self.emb_user.weight.data=torch.FloatTensor(pretrain_wts[0])\n",
    "            self.emb_item.weight.data=torch.FloatTensor(pretrain_wts[1])\n",
    "            self.ub.weight.data=torch.FloatTensor(pretrain_wts[2])\n",
    "            self.ib.weight.data=torch.FloatTensor(pretrain_wts[3])\n",
    "\n",
    "        if error_type!=\"mse\":\n",
    "            self.criterion=nn.L1Loss()\n",
    "        else:\n",
    "            self.criterion=nn.MSELoss()\n",
    "        \n",
    "    def create_architecture(self):\n",
    "        self.emb_user=nn.Embedding(self.n_users+1,self.n_emb_user)\n",
    "        self.emb_item=nn.Embedding(self.n_items+1,self.n_emb_item)\n",
    "        self.ub=nn.Embedding(self.n_users+1,1)\n",
    "        self.ib=nn.Embedding(self.n_items+1,1)\n",
    "        self.embs_cat=nn.ModuleList([nn.Embedding(x+1,y) for x,y in self.emb_szs])\n",
    "        \n",
    "        self.emb_dropout=nn.Dropout(self.dropout_e)\n",
    "\n",
    "        \n",
    "        self.lin1= nn.Sequential(nn.Linear(self.n_emb_user+self.n_emb_item,self.hidden[0]),\n",
    "                    nn.LeakyReLU(),\n",
    "                    nn.Dropout(p=dropouts[0]) )\n",
    "        self.lin_bias=nn.Linear(3,1)\n",
    "        self.lin_cat= nn.Sequential (nn.Linear(self.n_cat_emb,self.hidden[2]//2),\n",
    "                                nn.LeakyReLU(),\n",
    "                                nn.Dropout(p=dropouts[2]))\n",
    "        self.lin2= nn.Sequential (nn.Linear(self.len_dense_cols,self.hidden[1]),\n",
    "                    nn.LeakyReLU(),\n",
    "                    nn.Dropout(p=dropouts[1]) )\n",
    "        self.lin3= nn.Sequential (nn.Linear(self.hidden[0]+self.hidden[1]+1+self.hidden[2]//2,self.hidden[2]),\n",
    "                    nn.LeakyReLU(),\n",
    "                    nn.Dropout(p=dropouts[2]))\n",
    "        self.lin4=nn.Linear(self.hidden[2],1)\n",
    "        self.sigmoid=nn.Sigmoid()\n",
    "        \n",
    "        \n",
    "    def init_parameters(self):\n",
    "        nn.init.kaiming_normal_(self.emb_user.weight.data)\n",
    "        nn.init.kaiming_normal_(self.emb_item.weight.data)\n",
    "        nn.init.zeros_(self.ub.weight.data)\n",
    "        nn.init.zeros_(self.ib.weight.data)\n",
    "        nn.init.kaiming_normal_(self.lin1[0].weight.data)\n",
    "        nn.init.kaiming_normal_(self.lin2[0].weight.data)\n",
    "        nn.init.kaiming_normal_(self.lin3[0].weight.data)\n",
    "        #nn.init.kaiming_normal_(lin)\n",
    "       \n",
    "    def forward (self,Xb,Yb):\n",
    "        users=Xb[:,0].long()\n",
    "        items=Xb[:,1].long()\n",
    "        users=self.emb_dropout(self.emb_user(users))\n",
    "        items=self.emb_dropout(self.emb_item(items))\n",
    "        users_bias=self.emb_dropout(self.ub(Xb[:,0].long()))\n",
    "        items_bias=self.emb_dropout(self.ib(Xb[:,1].long()))\n",
    "        embed=torch.cat([users,items],1)\n",
    "        out1=self.lin1(embed)\n",
    "        bias=torch.cat([users_bias,items_bias,users_bias+items_bias],1)\n",
    "        biased=self.lin_bias(bias)\n",
    "           \n",
    "        \n",
    "        denses=Xb[:,2:(2+self.len_dense_cols)]\n",
    "        out2=self.lin2(denses)\n",
    "                  \n",
    "        cats=Xb[:,(2+self.len_dense_cols):].long()\n",
    "        embed_cat=[self.emb_dropout(self.embs_cat[i](cats[:,i]) ) for i in range(len(self.emb_szs))]\n",
    "        embedded_cat = torch.cat([x for x in embed_cat],1)\n",
    "        out_cat=self.lin_cat(embedded_cat)\n",
    "        \n",
    "        out3=torch.cat([out1,out2,biased,out_cat],1)\n",
    "        \n",
    "        out4=self.lin3(out3)\n",
    "        \n",
    "        out5=self.lin4(out4)\n",
    "        \n",
    "        out=self.sigmoid(out5)\n",
    "        \n",
    "        preds=out*(self.max_rating-self.min_rating)+self.min_rating\n",
    "        #preds=preds.view(-1)\n",
    "        loss=self.criterion(preds,Yb)\n",
    "        return preds,loss"
   ]
  },
  {
   "cell_type": "code",
   "execution_count": 83,
   "metadata": {},
   "outputs": [],
   "source": [
    "cfobj=cf(n_users,n_emb_user,n_emb_item,n_items,min_rating,max_rating,denseCols,pretrain_wts,catCols,emb_szs,dropout_e,hidden,dropouts,error_type=\"mse\")"
   ]
  },
  {
   "cell_type": "code",
   "execution_count": 84,
   "metadata": {},
   "outputs": [
    {
     "data": {
      "text/plain": [
       "cf(\n",
       "  (emb_user): Embedding(611, 25)\n",
       "  (emb_item): Embedding(9725, 25)\n",
       "  (ub): Embedding(611, 1)\n",
       "  (ib): Embedding(9725, 1)\n",
       "  (embs_cat): ModuleList(\n",
       "    (0): Embedding(923, 9)\n",
       "  )\n",
       "  (emb_dropout): Dropout(p=0.2, inplace=False)\n",
       "  (lin1): Sequential(\n",
       "    (0): Linear(in_features=50, out_features=20, bias=True)\n",
       "    (1): LeakyReLU(negative_slope=0.01)\n",
       "    (2): Dropout(p=0.3, inplace=False)\n",
       "  )\n",
       "  (lin_bias): Linear(in_features=3, out_features=1, bias=True)\n",
       "  (lin_cat): Sequential(\n",
       "    (0): Linear(in_features=9, out_features=5, bias=True)\n",
       "    (1): LeakyReLU(negative_slope=0.01)\n",
       "    (2): Dropout(p=0.3, inplace=False)\n",
       "  )\n",
       "  (lin2): Sequential(\n",
       "    (0): Linear(in_features=350, out_features=25, bias=True)\n",
       "    (1): LeakyReLU(negative_slope=0.01)\n",
       "    (2): Dropout(p=0.5, inplace=False)\n",
       "  )\n",
       "  (lin3): Sequential(\n",
       "    (0): Linear(in_features=51, out_features=10, bias=True)\n",
       "    (1): LeakyReLU(negative_slope=0.01)\n",
       "    (2): Dropout(p=0.3, inplace=False)\n",
       "  )\n",
       "  (lin4): Linear(in_features=10, out_features=1, bias=True)\n",
       "  (sigmoid): Sigmoid()\n",
       "  (criterion): MSELoss()\n",
       ")"
      ]
     },
     "execution_count": 84,
     "metadata": {},
     "output_type": "execute_result"
    }
   ],
   "source": [
    "cfobj"
   ]
  },
  {
   "cell_type": "code",
   "execution_count": 85,
   "metadata": {},
   "outputs": [],
   "source": [
    "for Xb, Yb in dltrain:\n",
    "    break"
   ]
  },
  {
   "cell_type": "code",
   "execution_count": 86,
   "metadata": {},
   "outputs": [
    {
     "data": {
      "text/plain": [
       "(torch.Size([64, 353]), torch.Size([64, 1]))"
      ]
     },
     "execution_count": 86,
     "metadata": {},
     "output_type": "execute_result"
    }
   ],
   "source": [
    "Xb.shape, Yb.shape"
   ]
  },
  {
   "cell_type": "code",
   "execution_count": 87,
   "metadata": {},
   "outputs": [
    {
     "data": {
      "text/plain": [
       "torch.float32"
      ]
     },
     "execution_count": 87,
     "metadata": {},
     "output_type": "execute_result"
    }
   ],
   "source": [
    "Xb.dtype"
   ]
  },
  {
   "cell_type": "code",
   "execution_count": 88,
   "metadata": {},
   "outputs": [
    {
     "data": {
      "text/plain": [
       "(tensor([[2.7520],\n",
       "         [2.9755],\n",
       "         [2.6423],\n",
       "         [2.9426],\n",
       "         [2.6045],\n",
       "         [2.3595],\n",
       "         [2.8951],\n",
       "         [3.1689],\n",
       "         [3.0488],\n",
       "         [2.5442],\n",
       "         [2.8725],\n",
       "         [3.1394],\n",
       "         [3.1703],\n",
       "         [2.4406],\n",
       "         [2.8609],\n",
       "         [2.6560],\n",
       "         [2.9826],\n",
       "         [3.2536],\n",
       "         [3.2073],\n",
       "         [2.8563],\n",
       "         [2.9415],\n",
       "         [2.9145],\n",
       "         [3.1345],\n",
       "         [2.9635],\n",
       "         [2.8580],\n",
       "         [2.9443],\n",
       "         [2.8418],\n",
       "         [2.6810],\n",
       "         [2.3681],\n",
       "         [3.0006],\n",
       "         [2.8848],\n",
       "         [2.8862],\n",
       "         [2.9875],\n",
       "         [3.3213],\n",
       "         [2.9341],\n",
       "         [2.9657],\n",
       "         [2.6409],\n",
       "         [3.0329],\n",
       "         [2.9192],\n",
       "         [2.9074],\n",
       "         [2.7634],\n",
       "         [2.7909],\n",
       "         [2.5530],\n",
       "         [2.8950],\n",
       "         [2.6175],\n",
       "         [3.2739],\n",
       "         [2.6678],\n",
       "         [2.8989],\n",
       "         [2.8599],\n",
       "         [2.2389],\n",
       "         [2.1901],\n",
       "         [2.5381],\n",
       "         [2.8541],\n",
       "         [2.8161],\n",
       "         [2.4615],\n",
       "         [2.7856],\n",
       "         [2.9547],\n",
       "         [2.6506],\n",
       "         [2.4579],\n",
       "         [3.0119],\n",
       "         [2.6616],\n",
       "         [3.0972],\n",
       "         [2.7719],\n",
       "         [2.6008]], grad_fn=<AddBackward0>),\n",
       " tensor(1.3596, grad_fn=<MseLossBackward>))"
      ]
     },
     "execution_count": 88,
     "metadata": {},
     "output_type": "execute_result"
    }
   ],
   "source": [
    "cfobj.forward(Xb,Yb)"
   ]
  },
  {
   "cell_type": "markdown",
   "metadata": {},
   "source": [
    "## Learner"
   ]
  },
  {
   "cell_type": "code",
   "execution_count": 89,
   "metadata": {},
   "outputs": [],
   "source": [
    "class Learner():\n",
    "    def __init__(self,model,optimizer,metric_fn,device,bptt=12,print_every=5,clip_val=None,\\\n",
    "                 cycle_mult=0,lr_decay=0.7,wd_mult=1.1,start_lr=2e-2, end_lr=5e-4,error_type=\"mse\"):\n",
    "        self.model,self.optimizer,self.metric_fn,self.device,self.print_every,self.bptt,self.losses,self.clip_val=\\\n",
    "            model,optimizer,metric_fn,device,print_every,bptt,[],clip_val\n",
    "        self.n_epochs=1\n",
    "        self.cycle_mult,self.lr_decay=cycle_mult,lr_decay\n",
    "        self.wd_mult=wd_mult\n",
    "        for param_group in self.optimizer.param_groups:\n",
    "            self.start_lr=param_group['lr']\n",
    "            self.start_wd=param_group['weight_decay']\n",
    "        self.wd=self.start_wd\n",
    "        self.lr=self.start_lr\n",
    "        self.end_lr=end_lr\n",
    "        self.n_epoch=0\n",
    "        self.lrs=[1e-2,5e-3,1e-4,5e-4]\n",
    "        self.preds,self.preds_valid,self.trainY,self.actual=[],[],[],[]\n",
    "        self.ratio=self.end_lr/self.start_lr\n",
    "        self.num_steps=self.cycle_mult\n",
    "        self.reset_cycle=self.cycle_mult\n",
    "        self.error_type=error_type\n",
    "        self.scores=[]\n",
    "        self.generate_scores=False\n",
    "        \n",
    "    def fit (self,Xb,Yb,mode_train=True):\n",
    "        if mode_train:\n",
    "            self.model.train()\n",
    "        else:\n",
    "            self.model.eval()\n",
    "        \n",
    "        #import pdb\n",
    "        #pdb.set_trace()\n",
    "        preds,loss=self.model(Xb,Yb)\n",
    "\n",
    "     \n",
    "        if mode_train:\n",
    "            if 1==0:\n",
    "                lr =self.lrs[torch.randint(0,4,(1,))]\n",
    "                for param_group in self.optimizer.param_groups:\n",
    "                    param_group['lr']=lr\n",
    "            \n",
    "            self.optimizer.zero_grad()\n",
    "            loss.backward()\n",
    "            self.optimizer.step()\n",
    "        myloss=loss.item()\n",
    "    \n",
    "        \n",
    "        with torch.no_grad():\n",
    "            if self.error_type == \"mse\":\n",
    "                acc=nn.L1Loss() (preds,Yb)\n",
    "                myrmse=np.sqrt(myloss)\n",
    "            else:\n",
    "                acc=nn.MSELoss() (preds,Yb)\n",
    "                myrmse=np.sqrt(acc.item())\n",
    "            acc=acc.item()\n",
    "                 \n",
    "        if mode_train==False:\n",
    "            if self.generate_scores:\n",
    "                self.scores.append(preds.detach().cpu().numpy().flatten())\n",
    "        del preds\n",
    "        del loss\n",
    "        \n",
    "        if self.clip_val is not None:\n",
    "            torch.nn.utils.clip_grad_norm_(self.model.parameters(), self.clip_val)\n",
    "        \n",
    "        return myloss, acc, myrmse\n",
    "    \n",
    "    def lr_find (self,start_lr,end_lr,iterator,n_batch):\n",
    "        losses,lrs=[],[]\n",
    "        ratio=end_lr/start_lr\n",
    "        num_steps=n_batch\n",
    "        lr=start_lr\n",
    "        for i in range(num_steps):            \n",
    "            lr=lr*(end_lr/start_lr)**(1/num_steps)\n",
    "            lrs.append(lr)\n",
    "        self.lrs=lrs\n",
    "        self.run_epoch(iterator,mode_train=True,lrs=lrs)\n",
    "    \n",
    "    def run_epoch(self,iterator,mode_train,lrs=None):\n",
    "        epoch_loss,epoch_acc,i,k=0,0,0,0\n",
    "        epoch_rmse=0\n",
    "\n",
    "        for Xb,Yb in iterator:\n",
    "            Xb=Xb.to(self.device)\n",
    "            Yb=Yb.to(self.device)\n",
    "            \n",
    "            if lrs is not None:\n",
    "                lr=lrs[k]\n",
    "                for param_group in self.optimizer.param_groups:\n",
    "                    param_group['lr']=lr \n",
    "            \n",
    "            loss,acc,myrmse=self.fit(Xb,Yb,mode_train)\n",
    "            \n",
    "            if lrs is not None:\n",
    "                self.losses.append(loss)\n",
    "\n",
    "            epoch_loss+=loss\n",
    "            epoch_acc+=acc\n",
    "            epoch_rmse+=myrmse\n",
    "            \n",
    "            k=k+1\n",
    "            if k%self.print_every == 0:\n",
    "                if k:\n",
    "                    print (f'Batch:{k} {epoch_loss/(k)}  ')  \n",
    "                    torch.cuda.empty_cache()\n",
    "\n",
    "        epoch_loss=epoch_loss/len(iterator)\n",
    "        epoch_acc=epoch_acc/len(iterator)\n",
    "        epoch_rmse=epoch_rmse/len(iterator)\n",
    "            \n",
    "        return epoch_loss,epoch_acc,epoch_rmse\n",
    "    \n",
    "    def plot_lrs(self, n_roll=1,ylim=None,xlim=None):\n",
    "        import seaborn as sns\n",
    "        ax=sns.lineplot(x=self.lrs,y=pd.Series(self.losses).rolling(n_roll).mean())\n",
    "        ax.set_xscale('log')\n",
    "        ax.set_ylabel('Loss')\n",
    "        ax.set_xlabel('Learning Rate')\n",
    "        if ylim is not None:\n",
    "            plt.ylim(ylim)\n",
    "        if xlim is not None:\n",
    "            plt.xlim(xlim)\n",
    "\n",
    "     \n",
    "    def run_epochs(self,dltrain,dlvalid,n_epochs=1):              \n",
    "        for epoch in range(n_epochs):                \n",
    "            loss,acc,rmse=self.run_epoch(dltrain,True)\n",
    "\n",
    "            lossv,accv,rmsev=self.run_epoch(dlvalid,mode_train=False)\n",
    "           \n",
    "            if self.error_type==\"mse\":\n",
    "                loss_mse=loss\n",
    "                loss_rmse=rmse\n",
    "                loss_mae=acc\n",
    "                lossv_mse=lossv\n",
    "                lossv_rmse=rmsev\n",
    "                lossv_mae=accv\n",
    "                \n",
    "            else:\n",
    "                loss_mse=acc\n",
    "                loss_rmse=rmse\n",
    "                loss_mae=loss\n",
    "                lossv_mse=accv\n",
    "                lossv_rmse=rmsev\n",
    "                lossv_mae=lossv\n",
    "            \n",
    "            print (f'Epoch:{epoch} Learning rate {self.lr} Weight Decay {self.wd} Train Loss:{loss} \\\n",
    "                Valid Loss:{lossv} Train RMSE:{loss_rmse} Valid RMSE:{lossv_rmse} Train MSE:{loss_mse} Valid MSE:{lossv_mse} \\\n",
    "                Train MAE:{loss_mae} Valid MAE:{lossv_mae}')\n",
    "\n",
    "              \n",
    "         \n",
    "     \n",
    "            if self.cycle_mult:\n",
    "                if self.n_epoch==self.reset_cycle:\n",
    "                    self.lr=self.start_lr\n",
    "                    self.wd=self.start_wd\n",
    "                    self.reset_cycle*=self.cycle_mult\n",
    "                    #reset_cycle=self.n_epoch+reset_cycle\n",
    "                    self.n_epoch=0\n",
    "                    self.ratio=self.end_lr/self.start_lr\n",
    "                    self.num_steps=self.reset_cycle\n",
    "                else:\n",
    "                    #self.lr*=(self.lr_decay**self.n_epoch)  \n",
    "                    #if self.n_epoch>1:\n",
    "                    self.wd*=self.wd_mult\n",
    "                    self.lr=self.lr*(self.end_lr/self.start_lr)**(1/self.num_steps)\n",
    "                    self.n_epoch+=1\n",
    "        \n",
    "\n",
    "                \n",
    "            for param_group in self.optimizer.param_groups:\n",
    "                param_group['lr']=self.lr\n",
    "                param_group['weight_decay']=self.wd\n",
    "          \n",
    "     "
   ]
  },
  {
   "cell_type": "code",
   "execution_count": 90,
   "metadata": {},
   "outputs": [],
   "source": [
    "device='cuda:1'"
   ]
  },
  {
   "cell_type": "code",
   "execution_count": 91,
   "metadata": {},
   "outputs": [],
   "source": [
    "cfobj=cf(n_users,n_emb_user,n_emb_item,n_items,min_rating,max_rating,denseCols,pretrain_wts,catCols,emb_szs,dropout_e,hidden,dropouts,error_type=\"mse\")"
   ]
  },
  {
   "cell_type": "code",
   "execution_count": 92,
   "metadata": {},
   "outputs": [],
   "source": [
    "cfobj=cfobj.to(device)"
   ]
  },
  {
   "cell_type": "code",
   "execution_count": 93,
   "metadata": {},
   "outputs": [
    {
     "data": {
      "text/plain": [
       "cf(\n",
       "  (emb_user): Embedding(611, 25)\n",
       "  (emb_item): Embedding(9725, 25)\n",
       "  (ub): Embedding(611, 1)\n",
       "  (ib): Embedding(9725, 1)\n",
       "  (embs_cat): ModuleList(\n",
       "    (0): Embedding(923, 9)\n",
       "  )\n",
       "  (emb_dropout): Dropout(p=0.2, inplace=False)\n",
       "  (lin1): Sequential(\n",
       "    (0): Linear(in_features=50, out_features=20, bias=True)\n",
       "    (1): LeakyReLU(negative_slope=0.01)\n",
       "    (2): Dropout(p=0.3, inplace=False)\n",
       "  )\n",
       "  (lin_bias): Linear(in_features=3, out_features=1, bias=True)\n",
       "  (lin_cat): Sequential(\n",
       "    (0): Linear(in_features=9, out_features=5, bias=True)\n",
       "    (1): LeakyReLU(negative_slope=0.01)\n",
       "    (2): Dropout(p=0.3, inplace=False)\n",
       "  )\n",
       "  (lin2): Sequential(\n",
       "    (0): Linear(in_features=350, out_features=25, bias=True)\n",
       "    (1): LeakyReLU(negative_slope=0.01)\n",
       "    (2): Dropout(p=0.5, inplace=False)\n",
       "  )\n",
       "  (lin3): Sequential(\n",
       "    (0): Linear(in_features=51, out_features=10, bias=True)\n",
       "    (1): LeakyReLU(negative_slope=0.01)\n",
       "    (2): Dropout(p=0.3, inplace=False)\n",
       "  )\n",
       "  (lin4): Linear(in_features=10, out_features=1, bias=True)\n",
       "  (sigmoid): Sigmoid()\n",
       "  (criterion): MSELoss()\n",
       ")"
      ]
     },
     "execution_count": 93,
     "metadata": {},
     "output_type": "execute_result"
    }
   ],
   "source": [
    "cfobj"
   ]
  },
  {
   "cell_type": "code",
   "execution_count": 49,
   "metadata": {},
   "outputs": [],
   "source": [
    "wd=1e-4\n",
    "optimizer=torch.optim.Adam(cfobj.parameters(),lr=5e-3,betas=(0.9,0.999), weight_decay=wd)\n",
    "learner=Learner(cfobj,optimizer,None,device,0,12000,0.25,cycle_mult=0)"
   ]
  },
  {
   "cell_type": "code",
   "execution_count": 50,
   "metadata": {},
   "outputs": [
    {
     "data": {
      "text/plain": [
       "1415"
      ]
     },
     "execution_count": 50,
     "metadata": {},
     "output_type": "execute_result"
    }
   ],
   "source": [
    "len(dltrain)"
   ]
  },
  {
   "cell_type": "code",
   "execution_count": 51,
   "metadata": {},
   "outputs": [],
   "source": [
    "learner.lr_find(1e-4,1e-1,dltrain,len(dltrain))"
   ]
  },
  {
   "cell_type": "code",
   "execution_count": 52,
   "metadata": {},
   "outputs": [
    {
     "data": {
      "image/png": "[encoded data removed]",
      "text/plain": [
       "<Figure size 432x288 with 1 Axes>"
      ]
     },
     "metadata": {
      "needs_background": "light"
     },
     "output_type": "display_data"
    }
   ],
   "source": [
    "learner.plot_lrs(50)"
   ]
  },
  {
   "cell_type": "code",
   "execution_count": 53,
   "metadata": {},
   "outputs": [
    {
     "data": {
      "image/png": "[encoded data removed]",
      "text/plain": [
       "<Figure size 432x288 with 1 Axes>"
      ]
     },
     "metadata": {
      "needs_background": "light"
     },
     "output_type": "display_data"
    }
   ],
   "source": [
    "learner.plot_lrs(10)"
   ]
  },
  {
   "cell_type": "code",
   "execution_count": 54,
   "metadata": {},
   "outputs": [
    {
     "data": {
      "image/png": "[encoded data removed]",
      "text/plain": [
       "<Figure size 432x288 with 1 Axes>"
      ]
     },
     "metadata": {
      "needs_background": "light"
     },
     "output_type": "display_data"
    }
   ],
   "source": [
    "learner.plot_lrs(1)"
   ]
  },
  {
   "cell_type": "code",
   "execution_count": 116,
   "metadata": {},
   "outputs": [],
   "source": [
    "del cfobj\n",
    "torch.cuda.empty_cache()"
   ]
  },
  {
   "cell_type": "code",
   "execution_count": 117,
   "metadata": {},
   "outputs": [],
   "source": [
    "pretrain_wts=pickle.load(open(f'{DATAPATH}/wts_embs','rb'))"
   ]
  },
  {
   "cell_type": "code",
   "execution_count": 118,
   "metadata": {},
   "outputs": [],
   "source": [
    "cfobj=cf(n_users,n_emb_user,n_emb_item,n_items,min_rating,max_rating,denseCols,pretrain_wts,catCols,emb_szs,dropout_e,hidden,dropouts,error_type=\"mse\")\n",
    "cfobj=cfobj.to(device)"
   ]
  },
  {
   "cell_type": "code",
   "execution_count": 119,
   "metadata": {},
   "outputs": [],
   "source": [
    "if 1==1:\n",
    "    cfobj.emb_user.weight.requires_grad=False\n",
    "    cfobj.emb_item.weight.requires_grad=False\n",
    "    cfobj.ib.weight.requires_grad=False\n",
    "    cfobj.ub.weight.requires_grad=False"
   ]
  },
  {
   "cell_type": "code",
   "execution_count": 121,
   "metadata": {},
   "outputs": [],
   "source": [
    "wd=3e-4\n",
    "optimizer=torch.optim.Adam(cfobj.parameters(),lr=9e-3,betas=(0.9,0.999), weight_decay=wd)\n",
    "learner=Learner(cfobj,optimizer,None,device,0,12000,0.25,cycle_mult=2,start_lr=9e-3,end_lr=3e-4,wd_mult=1.15)"
   ]
  },
  {
   "cell_type": "code",
   "execution_count": 122,
   "metadata": {},
   "outputs": [
    {
     "name": "stdout",
     "output_type": "stream",
     "text": [
      "Epoch:0 Learning rate 0.009 Weight Decay 0.0003 Train Loss:0.7726429883456483                 Valid Loss:0.8131097529245459 Train RMSE:0.8731893015150686 Valid RMSE:0.8863257487561672 Train MSE:0.7726429883456483 Valid MSE:0.8131097529245459                 Train MAE:0.6824409343749811 Valid MAE:0.7145346936231814\n",
      "Epoch:1 Learning rate 0.001643167672515498 Weight Decay 0.00034499999999999993 Train Loss:0.7028269762495802                 Valid Loss:0.7521533812425152 Train RMSE:0.8339105148884742 Valid RMSE:0.851826016227008 Train MSE:0.7028269762495802 Valid MSE:0.7521533812425152                 Train MAE:0.6495005785155212 Valid MAE:0.6746168047745035\n",
      "Epoch:2 Learning rate 0.0002999999999999999 Weight Decay 0.0003967499999999999 Train Loss:0.686816787614418                 Valid Loss:0.7542322017946599 Train RMSE:0.8244185160830009 Valid RMSE:0.8528515548519386 Train MSE:0.686816787614418 Valid MSE:0.7542322017946599                 Train MAE:0.6418272840892468 Valid MAE:0.6742203305967106\n",
      "Epoch:3 Learning rate 0.009 Weight Decay 0.0003 Train Loss:0.7139747995580464                 Valid Loss:0.7696164157820045 Train RMSE:0.8407920968099298 Valid RMSE:0.8618268246713677 Train MSE:0.7139747995580464 Valid MSE:0.7696164157820045                 Train MAE:0.6553056784948275 Valid MAE:0.6853374448252021\n",
      "Epoch:4 Learning rate 0.0038455830575661065 Weight Decay 0.00034499999999999993 Train Loss:0.6938875823686486                 Valid Loss:0.7663035961041539 Train RMSE:0.828397148919379 Valid RMSE:0.8593968495760276 Train MSE:0.6938875823686486 Valid MSE:0.7663035961041539                 Train MAE:0.6462381751503624 Valid MAE:0.6740816940802224\n",
      "Epoch:5 Learning rate 0.0016431676725154982 Weight Decay 0.0003967499999999999 Train Loss:0.6835178658313549                 Valid Loss:0.7516118904448444 Train RMSE:0.82209110992571 Valid RMSE:0.8514880962010427 Train MSE:0.6835178658313549 Valid MSE:0.7516118904448444                 Train MAE:0.6415163241089865 Valid MAE:0.6723405511482902\n",
      "Epoch:6 Learning rate 0.0007021041957962147 Weight Decay 0.0004562624999999999 Train Loss:0.6805507716778731                 Valid Loss:0.7540048458006071 Train RMSE:0.8205757594046359 Valid RMSE:0.8524610131916278 Train MSE:0.6805507716778731 Valid MSE:0.7540048458006071                 Train MAE:0.6397944076954265 Valid MAE:0.6721150926921678\n",
      "Epoch:7 Learning rate 0.0003 Weight Decay 0.0005247018749999998 Train Loss:0.675912257007491                 Valid Loss:0.7567859845502036 Train RMSE:0.8176769671243431 Valid RMSE:0.8545879137778779 Train MSE:0.675912257007491 Valid MSE:0.7567859845502036                 Train MAE:0.6380885703403621 Valid MAE:0.6768098640145722\n"
     ]
    }
   ],
   "source": [
    "learner.run_epochs(dltrain,dlvalid,8)"
   ]
  },
  {
   "cell_type": "code",
   "execution_count": 123,
   "metadata": {},
   "outputs": [],
   "source": [
    "if 1==1:\n",
    "    cfobj.emb_user.weight.requires_grad=True\n",
    "    cfobj.emb_item.weight.requires_grad=True\n",
    "    cfobj.ib.weight.requires_grad=True\n",
    "    cfobj.ub.weight.requires_grad=True"
   ]
  },
  {
   "cell_type": "code",
   "execution_count": 124,
   "metadata": {},
   "outputs": [
    {
     "name": "stdout",
     "output_type": "stream",
     "text": [
      "Epoch:0 Learning rate 0.001 Weight Decay 0.0003 Train Loss:0.7623271726256124                 Valid Loss:0.7903528137606863 Train RMSE:0.868589615953494 Valid RMSE:0.8732858976719357 Train MSE:0.7623271726256124 Valid MSE:0.7903528137606863                 Train MAE:0.678411996764766 Valid MAE:0.6947130440555004\n",
      "Epoch:1 Learning rate 0.0007071067811865476 Weight Decay 0.00034499999999999993 Train Loss:0.7338710247417221                 Valid Loss:0.7686523324954584 Train RMSE:0.8519704764427979 Valid RMSE:0.8603885272640921 Train MSE:0.7338710247417221 Valid MSE:0.7686523324954584                 Train MAE:0.6625915687833995 Valid MAE:0.6804509035178593\n",
      "Epoch:2 Learning rate 0.0005000000000000001 Weight Decay 0.0003967499999999999 Train Loss:0.7049304677193241                 Valid Loss:0.7536518866230982 Train RMSE:0.8349287209861793 Valid RMSE:0.8522604602897089 Train MSE:0.7049304677193241 Valid MSE:0.7536518866230982                 Train MAE:0.6489574662577559 Valid MAE:0.6758774891032936\n",
      "Epoch:3 Learning rate 0.001 Weight Decay 0.0003 Train Loss:0.7083448953847582                 Valid Loss:0.757924289992137 Train RMSE:0.8368449332112773 Valid RMSE:0.854613909987197 Train MSE:0.7083448953847582 Valid MSE:0.757924289992137                 Train MAE:0.6509404746466728 Valid MAE:0.6759857544617623\n",
      "Epoch:4 Learning rate 0.0008408964152537145 Weight Decay 0.00034499999999999993 Train Loss:0.6921522128287136                 Valid Loss:0.7527516263056986 Train RMSE:0.8274101093794589 Valid RMSE:0.851400662967527 Train MSE:0.6921522128287136 Valid MSE:0.7527516263056986                 Train MAE:0.6433854964512397 Valid MAE:0.6702402439546882\n",
      "Epoch:5 Learning rate 0.0007071067811865474 Weight Decay 0.0003967499999999999 Train Loss:0.6724055996842604                 Valid Loss:0.7470308983733195 Train RMSE:0.8155410735167006 Valid RMSE:0.8479001034529159 Train MSE:0.6724055996842604 Valid MSE:0.7470308983733195                 Train MAE:0.6333342617055131 Valid MAE:0.6653278610721138\n",
      "Epoch:6 Learning rate 0.0005946035575013604 Weight Decay 0.0004562624999999999 Train Loss:0.6646955951363797                 Valid Loss:0.7497603101019533 Train RMSE:0.8105703690362744 Valid RMSE:0.8504501053804568 Train MSE:0.6646955951363797 Valid MSE:0.7497603101019533                 Train MAE:0.6290823621168574 Valid MAE:0.6695134419461956\n",
      "Epoch:7 Learning rate 0.0004999999999999998 Weight Decay 0.0005247018749999998 Train Loss:0.6584136347467402                 Valid Loss:0.7440766671799725 Train RMSE:0.8064580209175685 Valid RMSE:0.8466560255465571 Train MSE:0.6584136347467402 Valid MSE:0.7440766671799725                 Train MAE:0.6262011915550636 Valid MAE:0.6646121956917069\n"
     ]
    }
   ],
   "source": [
    "if 1==1:\n",
    "    #optimizer=torch.optim.Adam(cfobj.parameters(),lr=1e-3,betas=(0.9,0.999), weight_decay=wd)\n",
    "    for param_group in optimizer.param_groups:\n",
    "        param_group['lr']=1e-3\n",
    "    learner=Learner(cfobj,optimizer,None,device,0,12000,0.25,cycle_mult=2,start_lr=1e-3,end_lr=5e-4,wd_mult=1.15)\n",
    "    learner.run_epochs(dltrain,dlvalid,8)"
   ]
  },
  {
   "cell_type": "code",
   "execution_count": 125,
   "metadata": {},
   "outputs": [],
   "source": [
    "learner.generate_scores=True"
   ]
  },
  {
   "cell_type": "code",
   "execution_count": 126,
   "metadata": {},
   "outputs": [],
   "source": [
    "learner.scores=[]\n",
    "learner.generate_scores=True"
   ]
  },
  {
   "cell_type": "code",
   "execution_count": 127,
   "metadata": {},
   "outputs": [
    {
     "data": {
      "text/plain": [
       "(0.7440766671799725, 0.6646121956917069, 0.8466560255465571)"
      ]
     },
     "execution_count": 127,
     "metadata": {},
     "output_type": "execute_result"
    }
   ],
   "source": [
    "#@%timeit\n",
    "learner.run_epoch(dlvalid,False)"
   ]
  },
  {
   "cell_type": "code",
   "execution_count": 128,
   "metadata": {},
   "outputs": [],
   "source": [
    "dfvalid['pred_dnnrec']=np.concatenate(learner.scores)"
   ]
  },
  {
   "cell_type": "code",
   "execution_count": 129,
   "metadata": {},
   "outputs": [
    {
     "data": {
      "text/plain": [
       "0.8622578007478273"
      ]
     },
     "execution_count": 129,
     "metadata": {},
     "output_type": "execute_result"
    }
   ],
   "source": [
    "np.sqrt(metrics.mean_squared_error(dfvalid['rating'],dfvalid['pred_dnnrec']))"
   ]
  },
  {
   "cell_type": "code",
   "execution_count": 130,
   "metadata": {},
   "outputs": [],
   "source": [
    "def score_by_group (dfvalid,predVar,groupVar='cold_start_group',method='global_avg'):\n",
    "    scores=[]\n",
    "    mae_scores=[]\n",
    "    rmse_scores=[]\n",
    "    r2_scores=[]\n",
    "    groups=dfvalid[groupVar].value_counts().index.tolist()\n",
    "    for group in groups:\n",
    "        df=dfvalid.loc[dfvalid[groupVar]==group]\n",
    "        actual=df['rating']\n",
    "        score=metrics.mean_squared_error(df['rating'],df[predVar])\n",
    "        rmse_score=np.sqrt(metrics.mean_squared_error(df['rating'],df[predVar]))\n",
    "        mae_score=metrics.mean_absolute_error(df['rating'],df[predVar])\n",
    "        r2_score=metrics.r2_score(df['rating'],df[predVar])\n",
    "        scores.append(score)\n",
    "        mae_scores.append(mae_score)\n",
    "        rmse_scores.append(rmse_score)\n",
    "        r2_scores.append(r2_score)\n",
    "    return pd.DataFrame({'method':method, 'mse':scores, 'rmse':rmse_scores, 'mae':mae_scores, 'r2_score':r2_scores, 'Cold Start Group':groups})"
   ]
  },
  {
   "cell_type": "code",
   "execution_count": 131,
   "metadata": {},
   "outputs": [
    {
     "data": {
      "text/html": [
       "<div>\n",
       "<style scoped>\n",
       "    .dataframe tbody tr th:only-of-type {\n",
       "        vertical-align: middle;\n",
       "    }\n",
       "\n",
       "    .dataframe tbody tr th {\n",
       "        vertical-align: top;\n",
       "    }\n",
       "\n",
       "    .dataframe thead th {\n",
       "        text-align: right;\n",
       "    }\n",
       "</style>\n",
       "<table border=\"1\" class=\"dataframe\">\n",
       "  <thead>\n",
       "    <tr style=\"text-align: right;\">\n",
       "      <th></th>\n",
       "      <th>method</th>\n",
       "      <th>mse</th>\n",
       "      <th>rmse</th>\n",
       "      <th>mae</th>\n",
       "      <th>r2_score</th>\n",
       "      <th>Cold Start Group</th>\n",
       "    </tr>\n",
       "  </thead>\n",
       "  <tbody>\n",
       "    <tr>\n",
       "      <th>0</th>\n",
       "      <td>dnnrec</td>\n",
       "      <td>0.736558</td>\n",
       "      <td>0.858229</td>\n",
       "      <td>0.659111</td>\n",
       "      <td>0.332649</td>\n",
       "      <td>No-cold-start</td>\n",
       "    </tr>\n",
       "    <tr>\n",
       "      <th>1</th>\n",
       "      <td>dnnrec</td>\n",
       "      <td>0.780077</td>\n",
       "      <td>0.883220</td>\n",
       "      <td>0.693108</td>\n",
       "      <td>0.395847</td>\n",
       "      <td>Item-Cold_start</td>\n",
       "    </tr>\n",
       "    <tr>\n",
       "      <th>2</th>\n",
       "      <td>dnnrec</td>\n",
       "      <td>1.211652</td>\n",
       "      <td>1.100750</td>\n",
       "      <td>0.996453</td>\n",
       "      <td>-0.319334</td>\n",
       "      <td>User-Cold-Start</td>\n",
       "    </tr>\n",
       "    <tr>\n",
       "      <th>0</th>\n",
       "      <td>dnnrec</td>\n",
       "      <td>0.736558</td>\n",
       "      <td>0.858229</td>\n",
       "      <td>0.659111</td>\n",
       "      <td>0.332649</td>\n",
       "      <td>0</td>\n",
       "    </tr>\n",
       "    <tr>\n",
       "      <th>1</th>\n",
       "      <td>dnnrec</td>\n",
       "      <td>0.821893</td>\n",
       "      <td>0.906583</td>\n",
       "      <td>0.722499</td>\n",
       "      <td>0.402170</td>\n",
       "      <td>1</td>\n",
       "    </tr>\n",
       "    <tr>\n",
       "      <th>0</th>\n",
       "      <td>dnnrec</td>\n",
       "      <td>0.743489</td>\n",
       "      <td>0.862258</td>\n",
       "      <td>0.664260</td>\n",
       "      <td>0.341084</td>\n",
       "      <td>0</td>\n",
       "    </tr>\n",
       "  </tbody>\n",
       "</table>\n",
       "</div>"
      ],
      "text/plain": [
       "   method       mse      rmse       mae  r2_score Cold Start Group\n",
       "0  dnnrec  0.736558  0.858229  0.659111  0.332649    No-cold-start\n",
       "1  dnnrec  0.780077  0.883220  0.693108  0.395847  Item-Cold_start\n",
       "2  dnnrec  1.211652  1.100750  0.996453 -0.319334  User-Cold-Start\n",
       "0  dnnrec  0.736558  0.858229  0.659111  0.332649                0\n",
       "1  dnnrec  0.821893  0.906583  0.722499  0.402170                1\n",
       "0  dnnrec  0.743489  0.862258  0.664260  0.341084                0"
      ]
     },
     "execution_count": 131,
     "metadata": {},
     "output_type": "execute_result"
    }
   ],
   "source": [
    "result_dnnrec=pd.concat([score_by_group(dfvalid,'pred_dnnrec','cold_start_group','dnnrec'),score_by_group(dfvalid,'pred_dnnrec','cold_start_bucket','dnnrec'),\\\n",
    "score_by_group(dfvalid,'pred_dnnrec','flag_train','dnnrec')],axis=0)\n",
    "result_dnnrec"
   ]
  },
  {
   "cell_type": "code",
   "execution_count": 132,
   "metadata": {},
   "outputs": [
    {
     "name": "stderr",
     "output_type": "stream",
     "text": [
      "/home/kirana/anaconda3/lib/python3.7/site-packages/torch/serialization.py:256: UserWarning: Couldn't retrieve source code for container of type cf. It won't be checked for correctness upon loading.\n",
      "  \"type \" + obj.__name__ + \". It won't be checked \"\n"
     ]
    }
   ],
   "source": [
    "torch.save(cfobj,f=f'{DATAPATH}/inter/cfobj_tl_0.8')\n",
    "torch.save(learner,f=f'{DATAPATH}/inter/cfobj_tl_learner_0.8')\n",
    "torch.save(optimizer,f=f'{DATAPATH}/inter/cfobj_tl_optimizer_0.8')\n",
    "torch.save(cfobj.state_dict(),f'{DATAPATH}/inter/cfjobj_tl_state_dict_0.8')\n",
    "torch.save(optimizer.state_dict(),f'{DATAPATH}/inter/optimizer_tl_state_dict_0.8')"
   ]
  },
  {
   "cell_type": "code",
   "execution_count": 133,
   "metadata": {},
   "outputs": [
    {
     "data": {
      "text/plain": [
       "(66, 6)"
      ]
     },
     "execution_count": 133,
     "metadata": {},
     "output_type": "execute_result"
    }
   ],
   "source": [
    "results_concat.shape"
   ]
  },
  {
   "cell_type": "code",
   "execution_count": 134,
   "metadata": {},
   "outputs": [],
   "source": [
    "results_concat=pd.concat([results_concat,result_dnnrec],axis=0)"
   ]
  },
  {
   "cell_type": "code",
   "execution_count": 135,
   "metadata": {},
   "outputs": [],
   "source": [
    "pickle.dump([df,dftrain,dfvalid,idx_to_user,idx_to_item,item_to_idx,user_to_idx,results_concat],open(f'{DATAPATH}/df_side_cold_runother_dnnrec.pkl','wb'))"
   ]
  },
  {
   "cell_type": "code",
   "execution_count": 136,
   "metadata": {},
   "outputs": [],
   "source": [
    "import pickle\n",
    "[df,dftrain,dfvalid,idx_to_user,idx_to_item,item_to_idx,user_to_idx,results_concat]=\\\n",
    "    pickle.load (open(f'{DATAPATH}/df_side_cold_runother_dnnrec.pkl','rb'))\n",
    "results_concat.to_csv(f'{PATH}/ml100k_results.csv',index=False)"
   ]
  },
  {
   "cell_type": "code",
   "execution_count": null,
   "metadata": {},
   "outputs": [],
   "source": []
  },
  {
   "cell_type": "code",
   "execution_count": null,
   "metadata": {},
   "outputs": [],
   "source": []
  }
 ],
 "metadata": {
  "kernelspec": {
   "display_name": "Python 3",
   "language": "python",
   "name": "python3"
  },
  "language_info": {
   "codemirror_mode": {
    "name": "ipython",
    "version": 3
   },
   "file_extension": ".py",
   "mimetype": "text/x-python",
   "name": "python",
   "nbconvert_exporter": "python",
   "pygments_lexer": "ipython3",
   "version": "3.7.3"
  }
 },
 "nbformat": 4,
 "nbformat_minor": 2
}
