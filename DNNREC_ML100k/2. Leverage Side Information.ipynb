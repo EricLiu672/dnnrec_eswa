{
 "cells": [
  {
   "cell_type": "code",
   "execution_count": 1,
   "metadata": {},
   "outputs": [],
   "source": [
    "import pickle"
   ]
  },
  {
   "cell_type": "code",
   "execution_count": 2,
   "metadata": {},
   "outputs": [],
   "source": [
    "PATH='/home/kirana/Documents/phd/experiment1_new/DNNREC_ML100k'\n",
    "DATAPATH='/home/kirana/Documents/final_dissertation_final/experiments/datasets/ml-latest-small'"
   ]
  },
  {
   "cell_type": "code",
   "execution_count": 3,
   "metadata": {},
   "outputs": [],
   "source": [
    "import pandas as pd\n",
    "import numpy as np\n",
    "import matplotlib.pyplot as plt\n",
    "import scipy as sp\n",
    "import sklearn as sklearn\n",
    "import datetime as dt \n",
    "import seaborn as sns\n",
    "import torch as torch"
   ]
  },
  {
   "cell_type": "code",
   "execution_count": 4,
   "metadata": {},
   "outputs": [],
   "source": [
    "[dftrain,dfvalid]=pickle.load(open(f'{DATAPATH}/df.pkl','rb'))"
   ]
  },
  {
   "cell_type": "code",
   "execution_count": 5,
   "metadata": {},
   "outputs": [
    {
     "data": {
      "text/plain": [
       "((90543, 14), (10293, 14))"
      ]
     },
     "execution_count": 5,
     "metadata": {},
     "output_type": "execute_result"
    }
   ],
   "source": [
    "dftrain.shape, dfvalid.shape"
   ]
  },
  {
   "cell_type": "code",
   "execution_count": 6,
   "metadata": {},
   "outputs": [
    {
     "data": {
      "text/plain": [
       "Index(['flag_train', 'genres', 'imdbId', 'itemId', 'maxSeqNum', 'rating',\n",
       "       'seqNum', 'tag', 'timestamp', 'title', 'tmdbId', 'userId', 'year',\n",
       "       'year_acq'],\n",
       "      dtype='object')"
      ]
     },
     "execution_count": 6,
     "metadata": {},
     "output_type": "execute_result"
    }
   ],
   "source": [
    "dftrain.columns"
   ]
  },
  {
   "cell_type": "code",
   "execution_count": 7,
   "metadata": {},
   "outputs": [],
   "source": [
    "item_features=['tag','title','genres']"
   ]
  },
  {
   "cell_type": "code",
   "execution_count": 8,
   "metadata": {},
   "outputs": [
    {
     "data": {
      "text/html": [
       "<div>\n",
       "<style scoped>\n",
       "    .dataframe tbody tr th:only-of-type {\n",
       "        vertical-align: middle;\n",
       "    }\n",
       "\n",
       "    .dataframe tbody tr th {\n",
       "        vertical-align: top;\n",
       "    }\n",
       "\n",
       "    .dataframe thead th {\n",
       "        text-align: right;\n",
       "    }\n",
       "</style>\n",
       "<table border=\"1\" class=\"dataframe\">\n",
       "  <thead>\n",
       "    <tr style=\"text-align: right;\">\n",
       "      <th></th>\n",
       "      <th>tag</th>\n",
       "      <th>title</th>\n",
       "      <th>genres</th>\n",
       "    </tr>\n",
       "  </thead>\n",
       "  <tbody>\n",
       "    <tr>\n",
       "      <th>0</th>\n",
       "      <td>NaN</td>\n",
       "      <td>She's the One (1996)</td>\n",
       "      <td>Comedy|Romance</td>\n",
       "    </tr>\n",
       "    <tr>\n",
       "      <th>1</th>\n",
       "      <td>NaN</td>\n",
       "      <td>Star Wars: Episode VI - Return of the Jedi (1983)</td>\n",
       "      <td>Action|Adventure|Sci-Fi</td>\n",
       "    </tr>\n",
       "    <tr>\n",
       "      <th>2</th>\n",
       "      <td>NaN</td>\n",
       "      <td>Bambi (1942)</td>\n",
       "      <td>Animation|Children|Drama</td>\n",
       "    </tr>\n",
       "    <tr>\n",
       "      <th>3</th>\n",
       "      <td>NaN</td>\n",
       "      <td>Star Wars: Episode I - The Phantom Menace (1999)</td>\n",
       "      <td>Action|Adventure|Sci-Fi</td>\n",
       "    </tr>\n",
       "    <tr>\n",
       "      <th>4</th>\n",
       "      <td>NaN</td>\n",
       "      <td>13th Warrior, The (1999)</td>\n",
       "      <td>Action|Adventure|Fantasy</td>\n",
       "    </tr>\n",
       "  </tbody>\n",
       "</table>\n",
       "</div>"
      ],
      "text/plain": [
       "   tag                                              title  \\\n",
       "0  NaN                               She's the One (1996)   \n",
       "1  NaN  Star Wars: Episode VI - Return of the Jedi (1983)   \n",
       "2  NaN                                       Bambi (1942)   \n",
       "3  NaN   Star Wars: Episode I - The Phantom Menace (1999)   \n",
       "4  NaN                           13th Warrior, The (1999)   \n",
       "\n",
       "                     genres  \n",
       "0            Comedy|Romance  \n",
       "1   Action|Adventure|Sci-Fi  \n",
       "2  Animation|Children|Drama  \n",
       "3   Action|Adventure|Sci-Fi  \n",
       "4  Action|Adventure|Fantasy  "
      ]
     },
     "execution_count": 8,
     "metadata": {},
     "output_type": "execute_result"
    }
   ],
   "source": [
    "dftrain[item_features].head()"
   ]
  },
  {
   "cell_type": "code",
   "execution_count": 9,
   "metadata": {},
   "outputs": [],
   "source": [
    "dftrain['genres']=[item.replace(\"|\", \" \") for item in dftrain['genres']]\n",
    "dfvalid['genres']=[item.replace(\"|\", \" \") for item in dfvalid['genres']]"
   ]
  },
  {
   "cell_type": "code",
   "execution_count": 10,
   "metadata": {},
   "outputs": [],
   "source": [
    "from sklearn import feature_extraction, preprocessing\n",
    "myvec_genre=sklearn.feature_extraction.text.CountVectorizer (ngram_range=(1,1),lowercase=True)\n",
    "one_hot_genre_train=myvec_genre.fit_transform(dftrain['genres'])\n",
    "one_hot_genre_valid=myvec_genre.transform(dfvalid['genres'])"
   ]
  },
  {
   "cell_type": "code",
   "execution_count": 11,
   "metadata": {},
   "outputs": [],
   "source": [
    "from sklearn import feature_extraction, preprocessing\n",
    "myvec_title=sklearn.feature_extraction.text.CountVectorizer (ngram_range=(1,1),lowercase=True,max_features=250)\n",
    "one_hot_title_train=myvec_title.fit_transform(dftrain['title'])\n",
    "one_hot_title_valid=myvec_title.transform(dfvalid['title'])"
   ]
  },
  {
   "cell_type": "code",
   "execution_count": 12,
   "metadata": {},
   "outputs": [],
   "source": [
    "from sklearn import feature_extraction, preprocessing\n",
    "myvec_tag=sklearn.feature_extraction.text.CountVectorizer (ngram_range=(1,1),lowercase=True,max_features=100)\n",
    "one_hot_tag_train=myvec_tag.fit_transform(dftrain['title'])\n",
    "one_hot_tag_valid=myvec_tag.transform(dfvalid['title'])"
   ]
  },
  {
   "cell_type": "code",
   "execution_count": 13,
   "metadata": {},
   "outputs": [
    {
     "data": {
      "text/plain": [
       "((90543, 250), (90543, 24), (90543, 100))"
      ]
     },
     "execution_count": 13,
     "metadata": {},
     "output_type": "execute_result"
    }
   ],
   "source": [
    "one_hot_title_train.shape, one_hot_genre_train.shape,one_hot_tag_train.shape"
   ]
  },
  {
   "cell_type": "code",
   "execution_count": 14,
   "metadata": {},
   "outputs": [
    {
     "data": {
      "text/plain": [
       "<90543x250 sparse matrix of type '<class 'numpy.int64'>'\n",
       "\twith 201719 stored elements in Compressed Sparse Row format>"
      ]
     },
     "execution_count": 14,
     "metadata": {},
     "output_type": "execute_result"
    }
   ],
   "source": [
    "one_hot_title_train"
   ]
  },
  {
   "cell_type": "code",
   "execution_count": 15,
   "metadata": {},
   "outputs": [],
   "source": [
    "df_sideinfo_title_train=pd.DataFrame(one_hot_title_train.todense(),columns=['f_title_'+x for x in myvec_title.get_feature_names()])\n",
    "df_sideinfo_genre_train=pd.DataFrame(one_hot_genre_train.todense(),columns=['f_genre_'+x for x in myvec_genre.get_feature_names()])\n",
    "df_sideinfo_tag_train=pd.DataFrame(one_hot_tag_train.todense(),columns=['f_tag_'+x for x in myvec_tag.get_feature_names()])"
   ]
  },
  {
   "cell_type": "code",
   "execution_count": 16,
   "metadata": {},
   "outputs": [],
   "source": [
    "df_sideinfo_title_valid=pd.DataFrame(one_hot_title_valid.todense(),columns=['f_title_'+x for x in myvec_title.get_feature_names()])\n",
    "df_sideinfo_genre_valid=pd.DataFrame(one_hot_genre_valid.todense(),columns=['f_genre_'+x for x in myvec_genre.get_feature_names()])\n",
    "df_sideinfo_tag_valid=pd.DataFrame(one_hot_tag_valid.todense(),columns=['f_tag_'+x for x in myvec_tag.get_feature_names()])"
   ]
  },
  {
   "cell_type": "code",
   "execution_count": 17,
   "metadata": {},
   "outputs": [
    {
     "data": {
      "text/plain": [
       "((90543, 250), (90543, 24), (90543, 100))"
      ]
     },
     "execution_count": 17,
     "metadata": {},
     "output_type": "execute_result"
    }
   ],
   "source": [
    "df_sideinfo_title_train.shape,df_sideinfo_genre_train.shape,df_sideinfo_tag_train.shape"
   ]
  },
  {
   "cell_type": "code",
   "execution_count": 18,
   "metadata": {},
   "outputs": [
    {
     "data": {
      "text/plain": [
       "((10293, 250), (10293, 24), (10293, 100))"
      ]
     },
     "execution_count": 18,
     "metadata": {},
     "output_type": "execute_result"
    }
   ],
   "source": [
    "df_sideinfo_title_valid.shape,df_sideinfo_genre_valid.shape,df_sideinfo_tag_valid.shape"
   ]
  },
  {
   "cell_type": "code",
   "execution_count": 19,
   "metadata": {},
   "outputs": [
    {
     "data": {
      "text/plain": [
       "(90543, 14)"
      ]
     },
     "execution_count": 19,
     "metadata": {},
     "output_type": "execute_result"
    }
   ],
   "source": [
    "dftrain.shape"
   ]
  },
  {
   "cell_type": "code",
   "execution_count": 20,
   "metadata": {},
   "outputs": [
    {
     "data": {
      "text/plain": [
       "flag_train             int64\n",
       "genres                object\n",
       "imdbId                 int64\n",
       "itemId                 int64\n",
       "maxSeqNum            float64\n",
       "rating               float64\n",
       "seqNum                 int64\n",
       "tag                   object\n",
       "timestamp     datetime64[ns]\n",
       "title                 object\n",
       "tmdbId               float64\n",
       "userId                 int64\n",
       "year                   int64\n",
       "year_acq               int64\n",
       "dtype: object"
      ]
     },
     "execution_count": 20,
     "metadata": {},
     "output_type": "execute_result"
    }
   ],
   "source": [
    "dftrain.dtypes"
   ]
  },
  {
   "cell_type": "code",
   "execution_count": 21,
   "metadata": {},
   "outputs": [
    {
     "data": {
      "text/plain": [
       "((90543, 14), (90543, 250), (90543, 24), (90543, 100))"
      ]
     },
     "execution_count": 21,
     "metadata": {},
     "output_type": "execute_result"
    }
   ],
   "source": [
    "dftrain.shape,df_sideinfo_title_train.shape,df_sideinfo_genre_train.shape,df_sideinfo_tag_train.shape"
   ]
  },
  {
   "cell_type": "code",
   "execution_count": 22,
   "metadata": {},
   "outputs": [],
   "source": [
    "dftrain.reset_index(inplace=True)\n",
    "dfvalid.reset_index(inplace=True)"
   ]
  },
  {
   "cell_type": "code",
   "execution_count": 23,
   "metadata": {},
   "outputs": [],
   "source": [
    "dftrain=pd.concat([dftrain,df_sideinfo_title_train,df_sideinfo_genre_train,df_sideinfo_tag_train],axis=1)"
   ]
  },
  {
   "cell_type": "code",
   "execution_count": 24,
   "metadata": {},
   "outputs": [],
   "source": [
    "dfvalid=pd.concat([dfvalid,df_sideinfo_title_valid,df_sideinfo_genre_valid,df_sideinfo_tag_valid],axis=1)"
   ]
  },
  {
   "cell_type": "code",
   "execution_count": 25,
   "metadata": {},
   "outputs": [
    {
     "data": {
      "text/plain": [
       "((90543, 389), (10293, 389))"
      ]
     },
     "execution_count": 25,
     "metadata": {},
     "output_type": "execute_result"
    }
   ],
   "source": [
    "dftrain.shape,dfvalid.shape"
   ]
  },
  {
   "cell_type": "code",
   "execution_count": 26,
   "metadata": {},
   "outputs": [
    {
     "data": {
      "text/plain": [
       "index                    int64\n",
       "flag_train               int64\n",
       "genres                  object\n",
       "imdbId                   int64\n",
       "itemId                   int64\n",
       "maxSeqNum              float64\n",
       "rating                 float64\n",
       "seqNum                   int64\n",
       "tag                     object\n",
       "timestamp       datetime64[ns]\n",
       "title                   object\n",
       "tmdbId                 float64\n",
       "userId                   int64\n",
       "year                     int64\n",
       "year_acq                 int64\n",
       "f_title_12               int64\n",
       "f_title_13               int64\n",
       "f_title_1940             int64\n",
       "f_title_1954             int64\n",
       "f_title_1959             int64\n",
       "f_title_1960             int64\n",
       "f_title_1962             int64\n",
       "f_title_1963             int64\n",
       "f_title_1964             int64\n",
       "f_title_1967             int64\n",
       "f_title_1968             int64\n",
       "f_title_1970             int64\n",
       "f_title_1971             int64\n",
       "f_title_1972             int64\n",
       "f_title_1973             int64\n",
       "                     ...      \n",
       "f_tag_life               int64\n",
       "f_tag_little             int64\n",
       "f_tag_lord               int64\n",
       "f_tag_lost               int64\n",
       "f_tag_love               int64\n",
       "f_tag_man                int64\n",
       "f_tag_matrix             int64\n",
       "f_tag_me                 int64\n",
       "f_tag_men                int64\n",
       "f_tag_movie              int64\n",
       "f_tag_my                 int64\n",
       "f_tag_new                int64\n",
       "f_tag_no                 int64\n",
       "f_tag_of                 int64\n",
       "f_tag_on                 int64\n",
       "f_tag_park               int64\n",
       "f_tag_part               int64\n",
       "f_tag_potter             int64\n",
       "f_tag_return             int64\n",
       "f_tag_rings              int64\n",
       "f_tag_star               int64\n",
       "f_tag_story              int64\n",
       "f_tag_the                int64\n",
       "f_tag_to                 int64\n",
       "f_tag_trek               int64\n",
       "f_tag_wars               int64\n",
       "f_tag_who                int64\n",
       "f_tag_with               int64\n",
       "f_tag_world              int64\n",
       "f_tag_you                int64\n",
       "Length: 389, dtype: object"
      ]
     },
     "execution_count": 26,
     "metadata": {},
     "output_type": "execute_result"
    }
   ],
   "source": [
    "dftrain.dtypes"
   ]
  },
  {
   "cell_type": "code",
   "execution_count": 27,
   "metadata": {},
   "outputs": [],
   "source": [
    "pickle.dump([dftrain,dfvalid],open(f'{DATAPATH}/df_side.pkl','wb'))"
   ]
  },
  {
   "cell_type": "code",
   "execution_count": null,
   "metadata": {},
   "outputs": [],
   "source": []
  },
  {
   "cell_type": "code",
   "execution_count": null,
   "metadata": {},
   "outputs": [],
   "source": []
  },
  {
   "cell_type": "code",
   "execution_count": null,
   "metadata": {},
   "outputs": [],
   "source": []
  },
  {
   "cell_type": "code",
   "execution_count": null,
   "metadata": {},
   "outputs": [],
   "source": []
  },
  {
   "cell_type": "code",
   "execution_count": null,
   "metadata": {},
   "outputs": [],
   "source": []
  },
  {
   "cell_type": "code",
   "execution_count": null,
   "metadata": {},
   "outputs": [],
   "source": []
  },
  {
   "cell_type": "code",
   "execution_count": null,
   "metadata": {},
   "outputs": [],
   "source": []
  },
  {
   "cell_type": "code",
   "execution_count": null,
   "metadata": {},
   "outputs": [],
   "source": []
  },
  {
   "cell_type": "code",
   "execution_count": null,
   "metadata": {},
   "outputs": [],
   "source": []
  },
  {
   "cell_type": "code",
   "execution_count": null,
   "metadata": {},
   "outputs": [],
   "source": []
  },
  {
   "cell_type": "code",
   "execution_count": null,
   "metadata": {},
   "outputs": [],
   "source": []
  },
  {
   "cell_type": "code",
   "execution_count": null,
   "metadata": {},
   "outputs": [],
   "source": []
  },
  {
   "cell_type": "code",
   "execution_count": null,
   "metadata": {},
   "outputs": [],
   "source": []
  },
  {
   "cell_type": "code",
   "execution_count": null,
   "metadata": {},
   "outputs": [],
   "source": []
  },
  {
   "cell_type": "code",
   "execution_count": null,
   "metadata": {},
   "outputs": [],
   "source": []
  },
  {
   "cell_type": "code",
   "execution_count": null,
   "metadata": {},
   "outputs": [],
   "source": []
  },
  {
   "cell_type": "code",
   "execution_count": null,
   "metadata": {},
   "outputs": [],
   "source": []
  },
  {
   "cell_type": "code",
   "execution_count": null,
   "metadata": {},
   "outputs": [],
   "source": []
  },
  {
   "cell_type": "code",
   "execution_count": null,
   "metadata": {},
   "outputs": [],
   "source": []
  }
 ],
 "metadata": {
  "kernelspec": {
   "display_name": "Python 3",
   "language": "python",
   "name": "python3"
  },
  "language_info": {
   "codemirror_mode": {
    "name": "ipython",
    "version": 3
   },
   "file_extension": ".py",
   "mimetype": "text/x-python",
   "name": "python",
   "nbconvert_exporter": "python",
   "pygments_lexer": "ipython3",
   "version": "3.7.3"
  }
 },
 "nbformat": 4,
 "nbformat_minor": 2
}
