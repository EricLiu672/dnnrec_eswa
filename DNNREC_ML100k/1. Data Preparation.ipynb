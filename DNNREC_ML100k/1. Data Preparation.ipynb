{
 "cells": [
  {
   "cell_type": "code",
   "execution_count": 1,
   "metadata": {},
   "outputs": [],
   "source": [
    "PATH='/home/kirana/Documents/phd/experiment1_new/DNNREC_ML100k'"
   ]
  },
  {
   "cell_type": "code",
   "execution_count": 2,
   "metadata": {},
   "outputs": [],
   "source": [
    "DATAPATH='/home/kirana/Documents/final_dissertation_final/experiments/datasets/ml-latest-small'"
   ]
  },
  {
   "cell_type": "code",
   "execution_count": 3,
   "metadata": {},
   "outputs": [],
   "source": [
    "import pandas as pd\n",
    "import numpy as np\n",
    "import matplotlib.pyplot as plt\n",
    "import scipy as sp\n",
    "import sklearn as sklearn\n",
    "import datetime as dt \n",
    "import seaborn as sns\n",
    "import torch as torch"
   ]
  },
  {
   "cell_type": "code",
   "execution_count": 4,
   "metadata": {},
   "outputs": [],
   "source": [
    "dfratings=pd.read_csv(f'{DATAPATH}/ratings.csv')"
   ]
  },
  {
   "cell_type": "code",
   "execution_count": 5,
   "metadata": {},
   "outputs": [],
   "source": [
    "dfmovies=pd.read_csv (f'{DATAPATH}/movies.csv')"
   ]
  },
  {
   "cell_type": "code",
   "execution_count": 6,
   "metadata": {},
   "outputs": [],
   "source": [
    "dflinks=pd.read_csv(f'{DATAPATH}/links.csv')"
   ]
  },
  {
   "cell_type": "code",
   "execution_count": 7,
   "metadata": {},
   "outputs": [],
   "source": [
    "dftags=pd.read_csv(f'{DATAPATH}/tags.csv')"
   ]
  },
  {
   "cell_type": "code",
   "execution_count": 8,
   "metadata": {},
   "outputs": [],
   "source": [
    "dfratings['timestamp']=pd.to_datetime(dfratings['timestamp'],unit='s')"
   ]
  },
  {
   "cell_type": "code",
   "execution_count": 9,
   "metadata": {},
   "outputs": [
    {
     "name": "stdout",
     "output_type": "stream",
     "text": [
      "(100836, 4)\n",
      "(100836, 6)\n"
     ]
    }
   ],
   "source": [
    "print(dfratings.shape)\n",
    "dfratings=pd.merge(dfratings,dfmovies,on='movieId',how='left')\n",
    "print(dfratings.shape)"
   ]
  },
  {
   "cell_type": "code",
   "execution_count": 10,
   "metadata": {},
   "outputs": [
    {
     "name": "stdout",
     "output_type": "stream",
     "text": [
      "(100836, 6)\n",
      "(100836, 8)\n"
     ]
    }
   ],
   "source": [
    "print(dfratings.shape)\n",
    "dfratings=pd.merge(dfratings,dflinks,on='movieId',how='left')\n",
    "print(dfratings.shape)"
   ]
  },
  {
   "cell_type": "code",
   "execution_count": 11,
   "metadata": {},
   "outputs": [],
   "source": [
    "dftags=dftags.groupby(['userId','movieId'],as_index=False)['tag'].agg(lambda x: ' '.join(x.values.astype(str)))"
   ]
  },
  {
   "cell_type": "code",
   "execution_count": 12,
   "metadata": {},
   "outputs": [
    {
     "name": "stdout",
     "output_type": "stream",
     "text": [
      "(100836, 8)\n",
      "(100836, 9)\n"
     ]
    }
   ],
   "source": [
    "print(dfratings.shape)\n",
    "dfratings=pd.merge(dfratings, dftags,on=['userId','movieId'],how='left')\n",
    "print(dfratings.shape)"
   ]
  },
  {
   "cell_type": "code",
   "execution_count": 13,
   "metadata": {},
   "outputs": [],
   "source": [
    "dfratings.rename({'movieId':'itemId'},axis=1,inplace=True)"
   ]
  },
  {
   "cell_type": "code",
   "execution_count": 14,
   "metadata": {},
   "outputs": [
    {
     "data": {
      "text/html": [
       "<div>\n",
       "<style scoped>\n",
       "    .dataframe tbody tr th:only-of-type {\n",
       "        vertical-align: middle;\n",
       "    }\n",
       "\n",
       "    .dataframe tbody tr th {\n",
       "        vertical-align: top;\n",
       "    }\n",
       "\n",
       "    .dataframe thead th {\n",
       "        text-align: right;\n",
       "    }\n",
       "</style>\n",
       "<table border=\"1\" class=\"dataframe\">\n",
       "  <thead>\n",
       "    <tr style=\"text-align: right;\">\n",
       "      <th></th>\n",
       "      <th>userId</th>\n",
       "      <th>itemId</th>\n",
       "      <th>rating</th>\n",
       "      <th>timestamp</th>\n",
       "      <th>title</th>\n",
       "      <th>genres</th>\n",
       "      <th>imdbId</th>\n",
       "      <th>tmdbId</th>\n",
       "      <th>tag</th>\n",
       "    </tr>\n",
       "  </thead>\n",
       "  <tbody>\n",
       "    <tr>\n",
       "      <th>0</th>\n",
       "      <td>1</td>\n",
       "      <td>1</td>\n",
       "      <td>4.0</td>\n",
       "      <td>2000-07-30 18:45:03</td>\n",
       "      <td>Toy Story (1995)</td>\n",
       "      <td>Adventure|Animation|Children|Comedy|Fantasy</td>\n",
       "      <td>114709</td>\n",
       "      <td>862.0</td>\n",
       "      <td>NaN</td>\n",
       "    </tr>\n",
       "    <tr>\n",
       "      <th>1</th>\n",
       "      <td>1</td>\n",
       "      <td>3</td>\n",
       "      <td>4.0</td>\n",
       "      <td>2000-07-30 18:20:47</td>\n",
       "      <td>Grumpier Old Men (1995)</td>\n",
       "      <td>Comedy|Romance</td>\n",
       "      <td>113228</td>\n",
       "      <td>15602.0</td>\n",
       "      <td>NaN</td>\n",
       "    </tr>\n",
       "    <tr>\n",
       "      <th>2</th>\n",
       "      <td>1</td>\n",
       "      <td>6</td>\n",
       "      <td>4.0</td>\n",
       "      <td>2000-07-30 18:37:04</td>\n",
       "      <td>Heat (1995)</td>\n",
       "      <td>Action|Crime|Thriller</td>\n",
       "      <td>113277</td>\n",
       "      <td>949.0</td>\n",
       "      <td>NaN</td>\n",
       "    </tr>\n",
       "    <tr>\n",
       "      <th>3</th>\n",
       "      <td>1</td>\n",
       "      <td>47</td>\n",
       "      <td>5.0</td>\n",
       "      <td>2000-07-30 19:03:35</td>\n",
       "      <td>Seven (a.k.a. Se7en) (1995)</td>\n",
       "      <td>Mystery|Thriller</td>\n",
       "      <td>114369</td>\n",
       "      <td>807.0</td>\n",
       "      <td>NaN</td>\n",
       "    </tr>\n",
       "    <tr>\n",
       "      <th>4</th>\n",
       "      <td>1</td>\n",
       "      <td>50</td>\n",
       "      <td>5.0</td>\n",
       "      <td>2000-07-30 18:48:51</td>\n",
       "      <td>Usual Suspects, The (1995)</td>\n",
       "      <td>Crime|Mystery|Thriller</td>\n",
       "      <td>114814</td>\n",
       "      <td>629.0</td>\n",
       "      <td>NaN</td>\n",
       "    </tr>\n",
       "  </tbody>\n",
       "</table>\n",
       "</div>"
      ],
      "text/plain": [
       "   userId  itemId  rating           timestamp                        title  \\\n",
       "0       1       1     4.0 2000-07-30 18:45:03             Toy Story (1995)   \n",
       "1       1       3     4.0 2000-07-30 18:20:47      Grumpier Old Men (1995)   \n",
       "2       1       6     4.0 2000-07-30 18:37:04                  Heat (1995)   \n",
       "3       1      47     5.0 2000-07-30 19:03:35  Seven (a.k.a. Se7en) (1995)   \n",
       "4       1      50     5.0 2000-07-30 18:48:51   Usual Suspects, The (1995)   \n",
       "\n",
       "                                        genres  imdbId   tmdbId  tag  \n",
       "0  Adventure|Animation|Children|Comedy|Fantasy  114709    862.0  NaN  \n",
       "1                               Comedy|Romance  113228  15602.0  NaN  \n",
       "2                        Action|Crime|Thriller  113277    949.0  NaN  \n",
       "3                             Mystery|Thriller  114369    807.0  NaN  \n",
       "4                       Crime|Mystery|Thriller  114814    629.0  NaN  "
      ]
     },
     "execution_count": 14,
     "metadata": {},
     "output_type": "execute_result"
    }
   ],
   "source": [
    "dfratings.head()"
   ]
  },
  {
   "cell_type": "markdown",
   "metadata": {},
   "source": [
    "### CROSS-VALIDATION - SIMULATE COLD START"
   ]
  },
  {
   "cell_type": "code",
   "execution_count": 15,
   "metadata": {},
   "outputs": [],
   "source": [
    "# normal method is to keep the first x% of the ratings for each user as training and the rest as validation\n",
    "# we want to simulate cold start by applying above only to users who were acquired in older years except last 2 years"
   ]
  },
  {
   "cell_type": "code",
   "execution_count": 16,
   "metadata": {},
   "outputs": [],
   "source": [
    "dfratings.sort_values(by=['userId','timestamp'],inplace=True)"
   ]
  },
  {
   "cell_type": "code",
   "execution_count": 17,
   "metadata": {},
   "outputs": [],
   "source": [
    "dfratings['seqNum']=dfratings.groupby('userId').cumcount()+1"
   ]
  },
  {
   "cell_type": "code",
   "execution_count": 18,
   "metadata": {},
   "outputs": [],
   "source": [
    "dfratings['year']=dfratings['timestamp'].dt.year"
   ]
  },
  {
   "cell_type": "code",
   "execution_count": 19,
   "metadata": {},
   "outputs": [],
   "source": [
    "dfacqyear=dfratings.loc[dfratings['seqNum']==1,['userId','year']]"
   ]
  },
  {
   "cell_type": "code",
   "execution_count": 20,
   "metadata": {},
   "outputs": [],
   "source": [
    "dfratings=pd.merge(dfratings,dfacqyear,on='userId',how=\"left\",suffixes=(\"\",\"_acq\"))"
   ]
  },
  {
   "cell_type": "code",
   "execution_count": 21,
   "metadata": {},
   "outputs": [
    {
     "data": {
      "text/plain": [
       "1996     6207\n",
       "1997     1933\n",
       "1998      375\n",
       "1999     3803\n",
       "2000    15050\n",
       "2001     2642\n",
       "2002     4065\n",
       "2003     3226\n",
       "2004     3813\n",
       "2005     4769\n",
       "2006     4135\n",
       "2007     7371\n",
       "2008     3313\n",
       "2009     4188\n",
       "2010     1234\n",
       "2011     1719\n",
       "2012     4446\n",
       "2013     1656\n",
       "2014      563\n",
       "2015     6707\n",
       "2016     7448\n",
       "2017     7629\n",
       "2018     4544\n",
       "Name: year_acq, dtype: int64"
      ]
     },
     "execution_count": 21,
     "metadata": {},
     "output_type": "execute_result"
    }
   ],
   "source": [
    "dfratings['year_acq'].value_counts().sort_index()"
   ]
  },
  {
   "cell_type": "markdown",
   "metadata": {},
   "source": [
    "### Exploratory Analysis Chart"
   ]
  },
  {
   "cell_type": "code",
   "execution_count": 24,
   "metadata": {},
   "outputs": [
    {
     "data": {
      "text/html": [
       "<div>\n",
       "<style scoped>\n",
       "    .dataframe tbody tr th:only-of-type {\n",
       "        vertical-align: middle;\n",
       "    }\n",
       "\n",
       "    .dataframe tbody tr th {\n",
       "        vertical-align: top;\n",
       "    }\n",
       "\n",
       "    .dataframe thead th {\n",
       "        text-align: right;\n",
       "    }\n",
       "</style>\n",
       "<table border=\"1\" class=\"dataframe\">\n",
       "  <thead>\n",
       "    <tr style=\"text-align: right;\">\n",
       "      <th></th>\n",
       "      <th>userId</th>\n",
       "      <th>itemId</th>\n",
       "      <th>rating</th>\n",
       "      <th>timestamp</th>\n",
       "      <th>title</th>\n",
       "      <th>genres</th>\n",
       "      <th>imdbId</th>\n",
       "      <th>tmdbId</th>\n",
       "      <th>tag</th>\n",
       "      <th>seqNum</th>\n",
       "      <th>year</th>\n",
       "      <th>year_acq</th>\n",
       "    </tr>\n",
       "  </thead>\n",
       "  <tbody>\n",
       "    <tr>\n",
       "      <th>0</th>\n",
       "      <td>1</td>\n",
       "      <td>804</td>\n",
       "      <td>4.0</td>\n",
       "      <td>2000-07-30 18:08:19</td>\n",
       "      <td>She's the One (1996)</td>\n",
       "      <td>Comedy|Romance</td>\n",
       "      <td>117628</td>\n",
       "      <td>11363.0</td>\n",
       "      <td>NaN</td>\n",
       "      <td>1</td>\n",
       "      <td>2000</td>\n",
       "      <td>2000</td>\n",
       "    </tr>\n",
       "    <tr>\n",
       "      <th>1</th>\n",
       "      <td>1</td>\n",
       "      <td>1210</td>\n",
       "      <td>5.0</td>\n",
       "      <td>2000-07-30 18:08:19</td>\n",
       "      <td>Star Wars: Episode VI - Return of the Jedi (1983)</td>\n",
       "      <td>Action|Adventure|Sci-Fi</td>\n",
       "      <td>86190</td>\n",
       "      <td>1892.0</td>\n",
       "      <td>NaN</td>\n",
       "      <td>2</td>\n",
       "      <td>2000</td>\n",
       "      <td>2000</td>\n",
       "    </tr>\n",
       "    <tr>\n",
       "      <th>2</th>\n",
       "      <td>1</td>\n",
       "      <td>2018</td>\n",
       "      <td>5.0</td>\n",
       "      <td>2000-07-30 18:08:43</td>\n",
       "      <td>Bambi (1942)</td>\n",
       "      <td>Animation|Children|Drama</td>\n",
       "      <td>34492</td>\n",
       "      <td>3170.0</td>\n",
       "      <td>NaN</td>\n",
       "      <td>3</td>\n",
       "      <td>2000</td>\n",
       "      <td>2000</td>\n",
       "    </tr>\n",
       "    <tr>\n",
       "      <th>3</th>\n",
       "      <td>1</td>\n",
       "      <td>2628</td>\n",
       "      <td>4.0</td>\n",
       "      <td>2000-07-30 18:08:43</td>\n",
       "      <td>Star Wars: Episode I - The Phantom Menace (1999)</td>\n",
       "      <td>Action|Adventure|Sci-Fi</td>\n",
       "      <td>120915</td>\n",
       "      <td>1893.0</td>\n",
       "      <td>NaN</td>\n",
       "      <td>4</td>\n",
       "      <td>2000</td>\n",
       "      <td>2000</td>\n",
       "    </tr>\n",
       "    <tr>\n",
       "      <th>4</th>\n",
       "      <td>1</td>\n",
       "      <td>2826</td>\n",
       "      <td>4.0</td>\n",
       "      <td>2000-07-30 18:08:43</td>\n",
       "      <td>13th Warrior, The (1999)</td>\n",
       "      <td>Action|Adventure|Fantasy</td>\n",
       "      <td>120657</td>\n",
       "      <td>1911.0</td>\n",
       "      <td>NaN</td>\n",
       "      <td>5</td>\n",
       "      <td>2000</td>\n",
       "      <td>2000</td>\n",
       "    </tr>\n",
       "  </tbody>\n",
       "</table>\n",
       "</div>"
      ],
      "text/plain": [
       "   userId  itemId  rating           timestamp  \\\n",
       "0       1     804     4.0 2000-07-30 18:08:19   \n",
       "1       1    1210     5.0 2000-07-30 18:08:19   \n",
       "2       1    2018     5.0 2000-07-30 18:08:43   \n",
       "3       1    2628     4.0 2000-07-30 18:08:43   \n",
       "4       1    2826     4.0 2000-07-30 18:08:43   \n",
       "\n",
       "                                               title  \\\n",
       "0                               She's the One (1996)   \n",
       "1  Star Wars: Episode VI - Return of the Jedi (1983)   \n",
       "2                                       Bambi (1942)   \n",
       "3   Star Wars: Episode I - The Phantom Menace (1999)   \n",
       "4                           13th Warrior, The (1999)   \n",
       "\n",
       "                     genres  imdbId   tmdbId  tag  seqNum  year  year_acq  \n",
       "0            Comedy|Romance  117628  11363.0  NaN       1  2000      2000  \n",
       "1   Action|Adventure|Sci-Fi   86190   1892.0  NaN       2  2000      2000  \n",
       "2  Animation|Children|Drama   34492   3170.0  NaN       3  2000      2000  \n",
       "3   Action|Adventure|Sci-Fi  120915   1893.0  NaN       4  2000      2000  \n",
       "4  Action|Adventure|Fantasy  120657   1911.0  NaN       5  2000      2000  "
      ]
     },
     "execution_count": 24,
     "metadata": {},
     "output_type": "execute_result"
    }
   ],
   "source": [
    "dfratings.head()"
   ]
  },
  {
   "cell_type": "code",
   "execution_count": 25,
   "metadata": {},
   "outputs": [],
   "source": [
    "# How are the ratings distributed by year\n",
    "ratings_by_year=dfratings['year'].value_counts().sort_index()\n",
    "ratings_by_year=pd.DataFrame(ratings_by_year)\n",
    "ratings_by_year.reset_index(inplace=True)\n",
    "ratings_by_year.columns=['Year','numratings']\n",
    "ratings_by_year['Year']=ratings_by_year['Year'].astype(str)"
   ]
  },
  {
   "cell_type": "code",
   "execution_count": 39,
   "metadata": {},
   "outputs": [
    {
     "data": {
      "text/plain": [
       "Text(0.5, 1.0, 'Ratings by Year')"
      ]
     },
     "execution_count": 39,
     "metadata": {},
     "output_type": "execute_result"
    },
    {
     "data": {
      "image/png": "[encoded data removed]",
      "text/plain": [
       "<Figure size 864x576 with 1 Axes>"
      ]
     },
     "metadata": {
      "needs_background": "light"
     },
     "output_type": "display_data"
    }
   ],
   "source": [
    "figure=plt.figure(figsize=(12,8))\n",
    "plt.plot (ratings_by_year['Year'],ratings_by_year['numratings'],'o--', color='black')\n",
    "plt.title('Ratings by Year')"
   ]
  },
  {
   "cell_type": "code",
   "execution_count": 32,
   "metadata": {},
   "outputs": [],
   "source": [
    "temp=dfratings.loc[dfratings['seqNum']==1].year.value_counts().sort_index()"
   ]
  },
  {
   "cell_type": "code",
   "execution_count": 33,
   "metadata": {},
   "outputs": [],
   "source": [
    "temp=pd.DataFrame(temp)"
   ]
  },
  {
   "cell_type": "code",
   "execution_count": 34,
   "metadata": {},
   "outputs": [],
   "source": [
    "temp.reset_index(inplace=True)\n",
    "temp.columns=['year','new_Users']"
   ]
  },
  {
   "cell_type": "code",
   "execution_count": 37,
   "metadata": {},
   "outputs": [
    {
     "data": {
      "text/plain": [
       "Text(0, 0.5, 'New Users')"
      ]
     },
     "execution_count": 37,
     "metadata": {},
     "output_type": "execute_result"
    },
    {
     "data": {
      "image/png": "[encoded data removed]",
      "text/plain": [
       "<Figure size 864x576 with 1 Axes>"
      ]
     },
     "metadata": {
      "needs_background": "light"
     },
     "output_type": "display_data"
    }
   ],
   "source": [
    "figure=plt.figure(figsize=(12,8))\n",
    "ax=sns.barplot(x=temp['year'],y=temp['new_Users'],color='grey')\n",
    "ax.set_title('New Users by Year')\n",
    "ax.set_ylabel ('New Users')"
   ]
  },
  {
   "cell_type": "code",
   "execution_count": 40,
   "metadata": {},
   "outputs": [],
   "source": [
    "dfratings['month']=dfratings['timestamp'].dt.month"
   ]
  },
  {
   "cell_type": "code",
   "execution_count": 41,
   "metadata": {},
   "outputs": [
    {
     "data": {
      "text/html": [
       "<div>\n",
       "<style scoped>\n",
       "    .dataframe tbody tr th:only-of-type {\n",
       "        vertical-align: middle;\n",
       "    }\n",
       "\n",
       "    .dataframe tbody tr th {\n",
       "        vertical-align: top;\n",
       "    }\n",
       "\n",
       "    .dataframe thead th {\n",
       "        text-align: right;\n",
       "    }\n",
       "</style>\n",
       "<table border=\"1\" class=\"dataframe\">\n",
       "  <thead>\n",
       "    <tr style=\"text-align: right;\">\n",
       "      <th>year</th>\n",
       "      <th>1996</th>\n",
       "      <th>1997</th>\n",
       "      <th>1998</th>\n",
       "      <th>1999</th>\n",
       "      <th>2000</th>\n",
       "      <th>2001</th>\n",
       "      <th>2002</th>\n",
       "      <th>2003</th>\n",
       "      <th>2004</th>\n",
       "      <th>2005</th>\n",
       "      <th>...</th>\n",
       "      <th>2009</th>\n",
       "      <th>2010</th>\n",
       "      <th>2011</th>\n",
       "      <th>2012</th>\n",
       "      <th>2013</th>\n",
       "      <th>2014</th>\n",
       "      <th>2015</th>\n",
       "      <th>2016</th>\n",
       "      <th>2017</th>\n",
       "      <th>2018</th>\n",
       "    </tr>\n",
       "    <tr>\n",
       "      <th>month</th>\n",
       "      <th></th>\n",
       "      <th></th>\n",
       "      <th></th>\n",
       "      <th></th>\n",
       "      <th></th>\n",
       "      <th></th>\n",
       "      <th></th>\n",
       "      <th></th>\n",
       "      <th></th>\n",
       "      <th></th>\n",
       "      <th></th>\n",
       "      <th></th>\n",
       "      <th></th>\n",
       "      <th></th>\n",
       "      <th></th>\n",
       "      <th></th>\n",
       "      <th></th>\n",
       "      <th></th>\n",
       "      <th></th>\n",
       "      <th></th>\n",
       "      <th></th>\n",
       "    </tr>\n",
       "  </thead>\n",
       "  <tbody>\n",
       "    <tr>\n",
       "      <th>1</th>\n",
       "      <td>0</td>\n",
       "      <td>250</td>\n",
       "      <td>57</td>\n",
       "      <td>4</td>\n",
       "      <td>297</td>\n",
       "      <td>1107</td>\n",
       "      <td>66</td>\n",
       "      <td>501</td>\n",
       "      <td>139</td>\n",
       "      <td>1172</td>\n",
       "      <td>...</td>\n",
       "      <td>504</td>\n",
       "      <td>138</td>\n",
       "      <td>153</td>\n",
       "      <td>511</td>\n",
       "      <td>150</td>\n",
       "      <td>57</td>\n",
       "      <td>375</td>\n",
       "      <td>344</td>\n",
       "      <td>193</td>\n",
       "      <td>950</td>\n",
       "    </tr>\n",
       "    <tr>\n",
       "      <th>2</th>\n",
       "      <td>0</td>\n",
       "      <td>323</td>\n",
       "      <td>1</td>\n",
       "      <td>32</td>\n",
       "      <td>303</td>\n",
       "      <td>69</td>\n",
       "      <td>148</td>\n",
       "      <td>156</td>\n",
       "      <td>160</td>\n",
       "      <td>445</td>\n",
       "      <td>...</td>\n",
       "      <td>494</td>\n",
       "      <td>253</td>\n",
       "      <td>106</td>\n",
       "      <td>231</td>\n",
       "      <td>44</td>\n",
       "      <td>358</td>\n",
       "      <td>216</td>\n",
       "      <td>576</td>\n",
       "      <td>420</td>\n",
       "      <td>1169</td>\n",
       "    </tr>\n",
       "    <tr>\n",
       "      <th>3</th>\n",
       "      <td>58</td>\n",
       "      <td>398</td>\n",
       "      <td>130</td>\n",
       "      <td>7</td>\n",
       "      <td>779</td>\n",
       "      <td>37</td>\n",
       "      <td>78</td>\n",
       "      <td>842</td>\n",
       "      <td>216</td>\n",
       "      <td>1041</td>\n",
       "      <td>...</td>\n",
       "      <td>1085</td>\n",
       "      <td>345</td>\n",
       "      <td>85</td>\n",
       "      <td>623</td>\n",
       "      <td>57</td>\n",
       "      <td>13</td>\n",
       "      <td>89</td>\n",
       "      <td>834</td>\n",
       "      <td>549</td>\n",
       "      <td>971</td>\n",
       "    </tr>\n",
       "    <tr>\n",
       "      <th>4</th>\n",
       "      <td>165</td>\n",
       "      <td>219</td>\n",
       "      <td>0</td>\n",
       "      <td>0</td>\n",
       "      <td>622</td>\n",
       "      <td>160</td>\n",
       "      <td>635</td>\n",
       "      <td>45</td>\n",
       "      <td>111</td>\n",
       "      <td>966</td>\n",
       "      <td>...</td>\n",
       "      <td>135</td>\n",
       "      <td>321</td>\n",
       "      <td>23</td>\n",
       "      <td>438</td>\n",
       "      <td>196</td>\n",
       "      <td>7</td>\n",
       "      <td>207</td>\n",
       "      <td>1755</td>\n",
       "      <td>923</td>\n",
       "      <td>230</td>\n",
       "    </tr>\n",
       "    <tr>\n",
       "      <th>5</th>\n",
       "      <td>832</td>\n",
       "      <td>303</td>\n",
       "      <td>32</td>\n",
       "      <td>36</td>\n",
       "      <td>157</td>\n",
       "      <td>302</td>\n",
       "      <td>158</td>\n",
       "      <td>608</td>\n",
       "      <td>544</td>\n",
       "      <td>879</td>\n",
       "      <td>...</td>\n",
       "      <td>284</td>\n",
       "      <td>87</td>\n",
       "      <td>248</td>\n",
       "      <td>148</td>\n",
       "      <td>263</td>\n",
       "      <td>37</td>\n",
       "      <td>682</td>\n",
       "      <td>297</td>\n",
       "      <td>2397</td>\n",
       "      <td>951</td>\n",
       "    </tr>\n",
       "    <tr>\n",
       "      <th>6</th>\n",
       "      <td>883</td>\n",
       "      <td>84</td>\n",
       "      <td>43</td>\n",
       "      <td>3</td>\n",
       "      <td>1180</td>\n",
       "      <td>177</td>\n",
       "      <td>84</td>\n",
       "      <td>872</td>\n",
       "      <td>213</td>\n",
       "      <td>411</td>\n",
       "      <td>...</td>\n",
       "      <td>80</td>\n",
       "      <td>358</td>\n",
       "      <td>180</td>\n",
       "      <td>203</td>\n",
       "      <td>48</td>\n",
       "      <td>84</td>\n",
       "      <td>723</td>\n",
       "      <td>103</td>\n",
       "      <td>1910</td>\n",
       "      <td>419</td>\n",
       "    </tr>\n",
       "    <tr>\n",
       "      <th>7</th>\n",
       "      <td>489</td>\n",
       "      <td>70</td>\n",
       "      <td>113</td>\n",
       "      <td>4</td>\n",
       "      <td>1081</td>\n",
       "      <td>577</td>\n",
       "      <td>165</td>\n",
       "      <td>275</td>\n",
       "      <td>220</td>\n",
       "      <td>278</td>\n",
       "      <td>...</td>\n",
       "      <td>159</td>\n",
       "      <td>70</td>\n",
       "      <td>125</td>\n",
       "      <td>394</td>\n",
       "      <td>18</td>\n",
       "      <td>78</td>\n",
       "      <td>910</td>\n",
       "      <td>966</td>\n",
       "      <td>170</td>\n",
       "      <td>293</td>\n",
       "    </tr>\n",
       "    <tr>\n",
       "      <th>8</th>\n",
       "      <td>1010</td>\n",
       "      <td>0</td>\n",
       "      <td>119</td>\n",
       "      <td>3</td>\n",
       "      <td>2319</td>\n",
       "      <td>244</td>\n",
       "      <td>548</td>\n",
       "      <td>104</td>\n",
       "      <td>203</td>\n",
       "      <td>173</td>\n",
       "      <td>...</td>\n",
       "      <td>115</td>\n",
       "      <td>58</td>\n",
       "      <td>90</td>\n",
       "      <td>133</td>\n",
       "      <td>380</td>\n",
       "      <td>89</td>\n",
       "      <td>424</td>\n",
       "      <td>62</td>\n",
       "      <td>221</td>\n",
       "      <td>831</td>\n",
       "    </tr>\n",
       "    <tr>\n",
       "      <th>9</th>\n",
       "      <td>384</td>\n",
       "      <td>236</td>\n",
       "      <td>0</td>\n",
       "      <td>1</td>\n",
       "      <td>298</td>\n",
       "      <td>188</td>\n",
       "      <td>671</td>\n",
       "      <td>221</td>\n",
       "      <td>874</td>\n",
       "      <td>239</td>\n",
       "      <td>...</td>\n",
       "      <td>210</td>\n",
       "      <td>81</td>\n",
       "      <td>286</td>\n",
       "      <td>897</td>\n",
       "      <td>265</td>\n",
       "      <td>82</td>\n",
       "      <td>476</td>\n",
       "      <td>355</td>\n",
       "      <td>424</td>\n",
       "      <td>604</td>\n",
       "    </tr>\n",
       "    <tr>\n",
       "      <th>10</th>\n",
       "      <td>935</td>\n",
       "      <td>1</td>\n",
       "      <td>1</td>\n",
       "      <td>971</td>\n",
       "      <td>959</td>\n",
       "      <td>306</td>\n",
       "      <td>363</td>\n",
       "      <td>120</td>\n",
       "      <td>127</td>\n",
       "      <td>95</td>\n",
       "      <td>...</td>\n",
       "      <td>80</td>\n",
       "      <td>375</td>\n",
       "      <td>82</td>\n",
       "      <td>230</td>\n",
       "      <td>105</td>\n",
       "      <td>116</td>\n",
       "      <td>230</td>\n",
       "      <td>603</td>\n",
       "      <td>225</td>\n",
       "      <td>0</td>\n",
       "    </tr>\n",
       "    <tr>\n",
       "      <th>11</th>\n",
       "      <td>978</td>\n",
       "      <td>4</td>\n",
       "      <td>4</td>\n",
       "      <td>660</td>\n",
       "      <td>1476</td>\n",
       "      <td>288</td>\n",
       "      <td>41</td>\n",
       "      <td>86</td>\n",
       "      <td>425</td>\n",
       "      <td>54</td>\n",
       "      <td>...</td>\n",
       "      <td>637</td>\n",
       "      <td>89</td>\n",
       "      <td>177</td>\n",
       "      <td>576</td>\n",
       "      <td>57</td>\n",
       "      <td>330</td>\n",
       "      <td>1839</td>\n",
       "      <td>604</td>\n",
       "      <td>230</td>\n",
       "      <td>0</td>\n",
       "    </tr>\n",
       "    <tr>\n",
       "      <th>12</th>\n",
       "      <td>306</td>\n",
       "      <td>28</td>\n",
       "      <td>7</td>\n",
       "      <td>718</td>\n",
       "      <td>590</td>\n",
       "      <td>467</td>\n",
       "      <td>521</td>\n",
       "      <td>184</td>\n",
       "      <td>47</td>\n",
       "      <td>60</td>\n",
       "      <td>...</td>\n",
       "      <td>375</td>\n",
       "      <td>126</td>\n",
       "      <td>135</td>\n",
       "      <td>272</td>\n",
       "      <td>81</td>\n",
       "      <td>188</td>\n",
       "      <td>445</td>\n",
       "      <td>204</td>\n",
       "      <td>536</td>\n",
       "      <td>0</td>\n",
       "    </tr>\n",
       "  </tbody>\n",
       "</table>\n",
       "<p>12 rows × 23 columns</p>\n",
       "</div>"
      ],
      "text/plain": [
       "year   1996  1997  1998  1999  2000  2001  2002  2003  2004  2005  ...  2009  \\\n",
       "month                                                              ...         \n",
       "1         0   250    57     4   297  1107    66   501   139  1172  ...   504   \n",
       "2         0   323     1    32   303    69   148   156   160   445  ...   494   \n",
       "3        58   398   130     7   779    37    78   842   216  1041  ...  1085   \n",
       "4       165   219     0     0   622   160   635    45   111   966  ...   135   \n",
       "5       832   303    32    36   157   302   158   608   544   879  ...   284   \n",
       "6       883    84    43     3  1180   177    84   872   213   411  ...    80   \n",
       "7       489    70   113     4  1081   577   165   275   220   278  ...   159   \n",
       "8      1010     0   119     3  2319   244   548   104   203   173  ...   115   \n",
       "9       384   236     0     1   298   188   671   221   874   239  ...   210   \n",
       "10      935     1     1   971   959   306   363   120   127    95  ...    80   \n",
       "11      978     4     4   660  1476   288    41    86   425    54  ...   637   \n",
       "12      306    28     7   718   590   467   521   184    47    60  ...   375   \n",
       "\n",
       "year   2010  2011  2012  2013  2014  2015  2016  2017  2018  \n",
       "month                                                        \n",
       "1       138   153   511   150    57   375   344   193   950  \n",
       "2       253   106   231    44   358   216   576   420  1169  \n",
       "3       345    85   623    57    13    89   834   549   971  \n",
       "4       321    23   438   196     7   207  1755   923   230  \n",
       "5        87   248   148   263    37   682   297  2397   951  \n",
       "6       358   180   203    48    84   723   103  1910   419  \n",
       "7        70   125   394    18    78   910   966   170   293  \n",
       "8        58    90   133   380    89   424    62   221   831  \n",
       "9        81   286   897   265    82   476   355   424   604  \n",
       "10      375    82   230   105   116   230   603   225     0  \n",
       "11       89   177   576    57   330  1839   604   230     0  \n",
       "12      126   135   272    81   188   445   204   536     0  \n",
       "\n",
       "[12 rows x 23 columns]"
      ]
     },
     "execution_count": 41,
     "metadata": {},
     "output_type": "execute_result"
    }
   ],
   "source": [
    "pd.crosstab(index=dfratings['month'],columns=dfratings['year'])"
   ]
  },
  {
   "cell_type": "code",
   "execution_count": null,
   "metadata": {},
   "outputs": [],
   "source": []
  },
  {
   "cell_type": "code",
   "execution_count": 22,
   "metadata": {},
   "outputs": [],
   "source": [
    "dfsimulate=dfratings.loc[dfratings['year_acq']>2017]\n",
    "dfnormal=dfratings.loc[dfratings['year_acq']<=2017]"
   ]
  },
  {
   "cell_type": "code",
   "execution_count": 23,
   "metadata": {},
   "outputs": [],
   "source": [
    "postusers=dfsimulate['userId'].unique()"
   ]
  },
  {
   "cell_type": "code",
   "execution_count": 24,
   "metadata": {},
   "outputs": [],
   "source": [
    "postusers=np.random.permutation(postusers)"
   ]
  },
  {
   "cell_type": "code",
   "execution_count": 25,
   "metadata": {},
   "outputs": [],
   "source": [
    "trainfrac=0.9"
   ]
  },
  {
   "cell_type": "code",
   "execution_count": 26,
   "metadata": {},
   "outputs": [],
   "source": [
    "postusers_train=postusers[:np.int(np.round(len(postusers)*trainfrac))]"
   ]
  },
  {
   "cell_type": "code",
   "execution_count": 27,
   "metadata": {},
   "outputs": [
    {
     "name": "stderr",
     "output_type": "stream",
     "text": [
      "/home/kirana/anaconda3/lib/python3.7/site-packages/ipykernel_launcher.py:1: SettingWithCopyWarning: \n",
      "A value is trying to be set on a copy of a slice from a DataFrame.\n",
      "Try using .loc[row_indexer,col_indexer] = value instead\n",
      "\n",
      "See the caveats in the documentation: http://pandas.pydata.org/pandas-docs/stable/indexing.html#indexing-view-versus-copy\n",
      "  \"\"\"Entry point for launching an IPython kernel.\n"
     ]
    }
   ],
   "source": [
    "dfsimulate['flag_train']=dfsimulate['userId'].isin(postusers_train)"
   ]
  },
  {
   "cell_type": "code",
   "execution_count": 28,
   "metadata": {},
   "outputs": [
    {
     "data": {
      "text/plain": [
       "True     4463\n",
       "False      81\n",
       "Name: flag_train, dtype: int64"
      ]
     },
     "execution_count": 28,
     "metadata": {},
     "output_type": "execute_result"
    }
   ],
   "source": [
    "dfsimulate['flag_train'].value_counts()"
   ]
  },
  {
   "cell_type": "code",
   "execution_count": 29,
   "metadata": {},
   "outputs": [],
   "source": [
    "dfseq=dfnormal.groupby('userId',as_index=False)['seqNum'].max()"
   ]
  },
  {
   "cell_type": "code",
   "execution_count": 30,
   "metadata": {},
   "outputs": [
    {
     "data": {
      "text/html": [
       "<div>\n",
       "<style scoped>\n",
       "    .dataframe tbody tr th:only-of-type {\n",
       "        vertical-align: middle;\n",
       "    }\n",
       "\n",
       "    .dataframe tbody tr th {\n",
       "        vertical-align: top;\n",
       "    }\n",
       "\n",
       "    .dataframe thead th {\n",
       "        text-align: right;\n",
       "    }\n",
       "</style>\n",
       "<table border=\"1\" class=\"dataframe\">\n",
       "  <thead>\n",
       "    <tr style=\"text-align: right;\">\n",
       "      <th></th>\n",
       "      <th>userId</th>\n",
       "      <th>seqNum</th>\n",
       "    </tr>\n",
       "  </thead>\n",
       "  <tbody>\n",
       "    <tr>\n",
       "      <th>0</th>\n",
       "      <td>1</td>\n",
       "      <td>232</td>\n",
       "    </tr>\n",
       "    <tr>\n",
       "      <th>1</th>\n",
       "      <td>2</td>\n",
       "      <td>29</td>\n",
       "    </tr>\n",
       "    <tr>\n",
       "      <th>2</th>\n",
       "      <td>3</td>\n",
       "      <td>39</td>\n",
       "    </tr>\n",
       "    <tr>\n",
       "      <th>3</th>\n",
       "      <td>4</td>\n",
       "      <td>216</td>\n",
       "    </tr>\n",
       "    <tr>\n",
       "      <th>4</th>\n",
       "      <td>5</td>\n",
       "      <td>44</td>\n",
       "    </tr>\n",
       "  </tbody>\n",
       "</table>\n",
       "</div>"
      ],
      "text/plain": [
       "   userId  seqNum\n",
       "0       1     232\n",
       "1       2      29\n",
       "2       3      39\n",
       "3       4     216\n",
       "4       5      44"
      ]
     },
     "execution_count": 30,
     "metadata": {},
     "output_type": "execute_result"
    }
   ],
   "source": [
    "dfseq.head()"
   ]
  },
  {
   "cell_type": "code",
   "execution_count": 31,
   "metadata": {},
   "outputs": [],
   "source": [
    "dfseq.columns=['userId','maxSeqNum']"
   ]
  },
  {
   "cell_type": "code",
   "execution_count": 32,
   "metadata": {},
   "outputs": [],
   "source": [
    "dfnormal=pd.merge(dfnormal,dfseq,on='userId',how='left')"
   ]
  },
  {
   "cell_type": "code",
   "execution_count": 33,
   "metadata": {},
   "outputs": [],
   "source": [
    "dfnormal['flag_train']=np.where(dfnormal['seqNum']<np.round(trainfrac*dfnormal['maxSeqNum']).astype(np.int),1,0)"
   ]
  },
  {
   "cell_type": "code",
   "execution_count": 34,
   "metadata": {},
   "outputs": [
    {
     "data": {
      "text/plain": [
       "1    86080\n",
       "0    10212\n",
       "Name: flag_train, dtype: int64"
      ]
     },
     "execution_count": 34,
     "metadata": {},
     "output_type": "execute_result"
    }
   ],
   "source": [
    "dfnormal['flag_train'].value_counts()"
   ]
  },
  {
   "cell_type": "code",
   "execution_count": 35,
   "metadata": {},
   "outputs": [
    {
     "data": {
      "text/plain": [
       "0.9"
      ]
     },
     "execution_count": 35,
     "metadata": {},
     "output_type": "execute_result"
    }
   ],
   "source": [
    "trainfrac"
   ]
  },
  {
   "cell_type": "code",
   "execution_count": 41,
   "metadata": {},
   "outputs": [],
   "source": [
    "dftrain=pd.concat([dfnormal.loc[dfnormal['flag_train']==1],dfsimulate.loc[dfsimulate['flag_train']==1]],axis=0,sort=True)"
   ]
  },
  {
   "cell_type": "code",
   "execution_count": 42,
   "metadata": {},
   "outputs": [],
   "source": [
    "dfvalid=pd.concat([dfnormal.loc[dfnormal['flag_train']!=1],dfsimulate.loc[dfsimulate['flag_train']!=1]],axis=0,sort=True)"
   ]
  },
  {
   "cell_type": "code",
   "execution_count": 43,
   "metadata": {},
   "outputs": [
    {
     "data": {
      "text/plain": [
       "((90543, 14), (10293, 14))"
      ]
     },
     "execution_count": 43,
     "metadata": {},
     "output_type": "execute_result"
    }
   ],
   "source": [
    "dftrain.shape, dfvalid.shape"
   ]
  },
  {
   "cell_type": "code",
   "execution_count": 44,
   "metadata": {},
   "outputs": [
    {
     "data": {
      "text/plain": [
       "flag_train             int64\n",
       "genres                object\n",
       "imdbId                 int64\n",
       "itemId                 int64\n",
       "maxSeqNum            float64\n",
       "rating               float64\n",
       "seqNum                 int64\n",
       "tag                   object\n",
       "timestamp     datetime64[ns]\n",
       "title                 object\n",
       "tmdbId               float64\n",
       "userId                 int64\n",
       "year                   int64\n",
       "year_acq               int64\n",
       "dtype: object"
      ]
     },
     "execution_count": 44,
     "metadata": {},
     "output_type": "execute_result"
    }
   ],
   "source": [
    "dftrain.dtypes"
   ]
  },
  {
   "cell_type": "code",
   "execution_count": 45,
   "metadata": {},
   "outputs": [],
   "source": [
    "import pickle"
   ]
  },
  {
   "cell_type": "code",
   "execution_count": 46,
   "metadata": {},
   "outputs": [
    {
     "data": {
      "text/plain": [
       "0    10293\n",
       "Name: flag_train, dtype: int64"
      ]
     },
     "execution_count": 46,
     "metadata": {},
     "output_type": "execute_result"
    }
   ],
   "source": [
    "dfvalid['flag_train'].value_counts()"
   ]
  },
  {
   "cell_type": "code",
   "execution_count": 47,
   "metadata": {},
   "outputs": [],
   "source": [
    "pickle.dump([dftrain,dfvalid],open(f'{DATAPATH}/df.pkl','wb'))"
   ]
  },
  {
   "cell_type": "code",
   "execution_count": null,
   "metadata": {},
   "outputs": [],
   "source": []
  },
  {
   "cell_type": "code",
   "execution_count": null,
   "metadata": {},
   "outputs": [],
   "source": []
  }
 ],
 "metadata": {
  "kernelspec": {
   "display_name": "Python 3",
   "language": "python",
   "name": "python3"
  },
  "language_info": {
   "codemirror_mode": {
    "name": "ipython",
    "version": 3
   },
   "file_extension": ".py",
   "mimetype": "text/x-python",
   "name": "python",
   "nbconvert_exporter": "python",
   "pygments_lexer": "ipython3",
   "version": "3.7.3"
  }
 },
 "nbformat": 4,
 "nbformat_minor": 2
}
